{
 "cells": [
  {
   "cell_type": "markdown",
   "id": "31698b56",
   "metadata": {},
   "source": [
    "# Test of asearchutils library"
   ]
  },
  {
   "cell_type": "code",
   "execution_count": 1,
   "id": "a811d798",
   "metadata": {},
   "outputs": [],
   "source": [
    "import sys\n",
    "sys.path.append('../lib')\n",
    "\n",
    "import asearchutils"
   ]
  },
  {
   "cell_type": "code",
   "execution_count": 2,
   "id": "f1b5d4f9",
   "metadata": {},
   "outputs": [],
   "source": [
    "user_query=\"Lista los Beneficios Baufest\"\n",
    "results = asearchutils.get_azure_search_by_query(user_query)"
   ]
  },
  {
   "cell_type": "code",
   "execution_count": 3,
   "id": "9da0f9aa",
   "metadata": {},
   "outputs": [
    {
     "name": "stdout",
     "output_type": "stream",
     "text": [
      "[{\"title\": \"Subject:\", \"url\": \"https://stmoww6huavlklg.blob.core.windows.net/fileupload-people-etica-1/CC-%20BY21%20C%C3%B3digo%20de%20%C3%89tica%20Baufest%20v5.pdf\", \"content\": \"Esto incluye el intercambio indebido de dinero, pr\\u00e9stamos, privilegios especiales, favores personales,y beneficios o servicios.    Subject: Asunto del Documento Prepared for: Baufest - interno Page: 11 of 13 Document:  Version: 1.1 Updated:  Author: Baufest baufest.com  Argentina | Chile | Peru | Mexico | USA | Spain | Uruguay S\\u00ed tenes dudas acerca  de si una transacci\\u00f3n esta\\u0301 permitida, consulta al responsable de unidad o l\\u00edder directo.     4.3  Actuar en representaci\\u00f3n de Baufest 4.3.1 Declaraciones - Comunicaciones p\\u00fablicas En Baufest creemos que las comunicaciones p\\u00fablicas efectivas pueden incrementar nuestra visibilidad y credibilidad, fortaleciendo nuestra reputaci\\u00f3n; sin embargo, al mismo tiempo debemos asegurarnos de que nuestras comunicaciones p\\u00fablicas, no afecten nuestra reputaci\\u00f3n, violen la confidencialidad o perjudiquen las relaciones con clientes o las relaciones con socios o alianzas estrat\\u00e9gicas.  Estamos mejor posicionados en el mercado presentando ideas que citando nombres de clientes o comentando situaciones; por lo tanto, cualquier forma que adopten nuestras comunicaciones publicas deber\\u00e1n enfatizar nuestro conocimiento de las tendencias de la industria, dominio de las tecnolog\\u00edas y capacidad para resolver problemas de negocios complejos.  Siempre es aconsejable consultar al responsable de la unidad de Marketing y Comunicaciones de Baufest, y al responsable de la unidad comercial o socios, quienes no solo podr\\u00e1n ayudar a evitar peligros; sino tambi\\u00e9n, a estructurar y transmitir sus mensajes de la manera que mejor cumplan con sus objetivos y los de Baufest. Esto incluye la publicaci\\u00f3n de comentarios o contenidos en temas relacionados con la compa\\u00f1\\u00eda en cuentas personales de redes sociales (por ejemplo, Twitter, LinkedIn, Facebook, YouTube, Instagram, etc.), m\\u00e1s alla\\u0301\\u0301 de la configuraci\\u00f3n de privacidad de su cuenta, adem\\u00e1s de la publicaci\\u00f3n de comentarios o contenidos en foros, sitios web, blogs u otro tipo de p\\u00e1ginas en Internet.  4.4 Relaciones con los administradores  4.4.1 Tratamiento de la informaci\\u00f3n contable En Baufest esperamos honestidad relacionada con los registros de informaci\\u00f3n contable, dado que es nuestra obligaci\\u00f3n reportar de manera precisa y transparente a nuestros accionistas, clientes y socios comerciales.    Subject: Asunto del Documento Prepared for: Baufest - interno Page: 12 of 13 Document:  Version: 1.1 Updated:  Author: Baufest baufest\", \"filename\": \"CC- BY21 C\\u00f3digo de \\u00c9tica Baufest v5.pdf\"},\n",
      "{\"title\": \"Subject:\", \"url\": \"https://stmoww6huavlklg.blob.core.windows.net/fileupload-people-etica-1/CC-%20BY21%20C%C3%B3digo%20de%20%C3%89tica%20Baufest%20v5.pdf\", \"content\": \"Fue creado por todos los baufesianos, y expresa los principios y nuestros puntos de vista sobre el proceso de desarrollo de tecnolog\\u00edas de software, de modo que sirva como gu\\u00eda para nuestras pr\\u00e1cticas y proyectos.  https://baufest.com/principios-de-tecnologia-centrada-en-las-personas/  2. Pilares de la cultura Baufest  Los pilares de la Cultura de Baufest definen nuestra forma de trabajar y ver las cosas; asegurando el buen funcionamiento y rendimiento conforme a nuestras normas y valores, generando valor agregado. 1  Cercan\\u00eda:   Fomentamos relaciones cercanas con nuestros clientes y entre los baufesianos; ayudando a generar un sentido de pertenencia y liderazgo.  \\u2022 Buscamos transformar positivamente \\u2022 Estamos cerca de nuestros clientes \\u2022 Ponemos el coraz\\u00f3n en lo que hacemos \\u2022 Trabajamos en equipo y con alegr\\u00eda \\u2022 Ayudamos, compartimos y ense\\u00f1amos \\u2022 Damos lo mejor de nosotros \\u2022 Somos respetuosos y agradecidos  Creatividad:   Confiamos en el talento de nuestros baufesianos, favoreciendo el intercambio de ideas y experiencias; para as\\u00ed, generar un sello diferencial e innovador en la creaci\\u00f3n de recursos.  \\u2022 Somos curiosos \\u2022 Exploramos y aprendemos  1 Detalle de los Pilares de Nuestra Cultura https://bit.ly/3mHrprM  https://bit.ly/3mHrprM  Subject: Asunto del Documento Prepared for: Baufest - interno Page: 4 of 13 Document:  Version: 1.1 Updated:  Author: Baufest baufest.com  Argentina | Chile | Peru | Mexico | USA | Spain | Uruguay \\u2022 Nos gustan los desaf\\u00edos complejos \\u2022 Buscamos soluciones adecuadas para cada caso \\u2022 Creamos nuestras propias herramientas \\u2022 Somos \\u00e1giles y flexibles \\u2022 Evolucionamos e innovamos \\u2022 Dise\\u00f1amos soluciones de genuino valor agregado  Calidad:   Satisfacemos las expectativas de nuestra gente y nuestros clientes con rapidez y eficiencia, garantizando la comunicaci\\u00f3n y mejora continua.  \\u2022 Trabajamos con un m\\u00e9todo y organizadamente \\u2022 Acordamos las expectativas \\u2022 Nos anticipamos y planeamos \\u2022 Construimos soluciones \\u00fatiles y s\\u00f3lidas \\u2022 Las validamos y probamos \\u2022 Garantizamos lo que hacemos \\u2022 Nos interesa mejorar  Compromiso:   Mantenemos un equilibrio entre la organizaci\\u00f3n, nuestra gente y clientes, generando soluciones valiosas con responsabilidad y una mirada hacia el futuro\", \"filename\": \"CC- BY21 C\\u00f3digo de \\u00c9tica Baufest v5.pdf\"},\n",
      "{\"title\": \"BAU DOLLAR\", \"url\": \"https://stmoww6huavlklg.blob.core.windows.net/fileupload-people-etica-1/P_C_Preguntas_frecuentes.pdf\", \"content\": \"net/wiki/spaces/MDPB/pages/3334439043/BAU+LUNCH+LATAMhttps://baufest.atlassian.net/wiki/spaces/MDPB/pages/3334439043/BAU+LUNCH+LATAM#4.3-Valores-de-las-acreditaciones  CL/ UY \\u2192 La acreditaci\\u00f3n es mensual. 39. Si un viernes es feriado \\u00bfel cup\\u00f3n de Pedidos Ya se acredita?  S\\u00ed, se acredita  BAU HOME (LATAM)   40. Quiero aplicar al beneficio, pero mi escritura/contrato de alquiler est\\u00e1 a nombre de otra persona. \\u00bfPuedo presentarlo de todas maneras?  Si, puedes presentar el contrato o escritura al nombre de otra persona, siempre que presentes un documento legal que respalde la convivencia, por ejemplo, como un certificado de concubinato, matrimonio o uni\\u00f3n civil. Esto ayudar\\u00e1 a garantizar que tu solicitud sea considerada de manera adecuada.  41. Me mud\\u00e9 con un familiar/amig@ y no cuento con escritura/contrato de alquiler \\u00bfPuedo aplicar al beneficio?  La \\u00fanica manera de aplicar al beneficio es cumpliendo con los 3 requisitos detallados a continuaci\\u00f3n:  \\u2022 Tener una antig\\u00fcedad en Baufest de 2 (dos) a\\u00f1os al momento de la solicitud del beneficio  \\u2022 Presentar copia del contrato de alquiler o escritura al nombre de el/la Baufesian@ y/o documento legal que respalde convivencia.  \\u2022 Presentar una copia del documento de identidad donde conste el cambio de domicilio o en su defecto un servicio a su nombre o certificado policial.  \\u2022  ANTI TR\\u00c1FICO (LATAM) 42.  \\u00bfEs posible cambiar el rango de horario una vez que ya opt\\u00e9 por uno?  S\\u00ed, es posible, aunque para una fluida organizaci\\u00f3n esperamos que una vez optado por un rango se mantenga estable por al menos un mes  https://baufest.atlassian.net/wiki/spaces/MDPB/pages/3381133793/BAU+HOME+LATAMhttps://baufest.atlassian.net/wiki/spaces/MDPB/pages/3381166773/ANTI+TR+FICO+LATAM\", \"filename\": \"P_C_Preguntas_frecuentes.pdf\"}]\n"
     ]
    }
   ],
   "source": [
    "print(results)"
   ]
  },
  {
   "cell_type": "markdown",
   "id": "0bd17aae",
   "metadata": {},
   "source": [
    "Empezaremos creando un prompt para la función completion"
   ]
  },
  {
   "cell_type": "code",
   "execution_count": 4,
   "id": "8ac08612",
   "metadata": {},
   "outputs": [],
   "source": [
    "system_template = \"\"\"<|im_start|>user\n",
    "Answer the question delimited by ###question###.\n",
    "To answer the question follow the steps delimited by ###steps### and use the data source delimited by ###source###\n",
    "###steps###\n",
    "{steps}\n",
    "###steps###\n",
    "###source###\n",
    "{sources}\n",
    "###source###\n",
    "###question###\n",
    "{question}\n",
    "###question###\n",
    "<|im_end|>\"\"\"\n",
    "assistant_prompt = \"\"\"<|im_start|>assistant\"\"\"\n",
    "\n",
    "steps = \"\"\"\n",
    "Step 1: Your answer must be in spanish and must start with the greeting estimado Baufesiano.\n",
    "Step 2: If the data provided by data source is not enough to answer the question, ask for more details. \n",
    "\"\"\"\n",
    "\n",
    "user_question = \"¿Cuales son las ventajas de trabajar en Baufest?\"\n",
    "\n",
    "sources_json_list = asearchutils.get_azure_search_by_query(user_question)\n",
    "\n"
   ]
  },
  {
   "cell_type": "code",
   "execution_count": 5,
   "id": "330001f7",
   "metadata": {},
   "outputs": [],
   "source": [
    "import aoaiutils"
   ]
  },
  {
   "cell_type": "code",
   "execution_count": 6,
   "id": "162a4723",
   "metadata": {},
   "outputs": [
    {
     "name": "stdout",
     "output_type": "stream",
     "text": [
      "<|im_start|>user\n",
      "Answer the question delimited by ###question###.\n",
      "To answer the question follow the steps delimited by ###steps### and use the data source delimited by ###source###\n",
      "###steps###\n",
      "{steps}\n",
      "###steps###\n",
      "###source###\n",
      "{sources}\n",
      "###source###\n",
      "###question###\n",
      "{question}\n",
      "###question###\n",
      "<|im_end|>\n",
      "<|im_start|>user\n",
      "Answer the question delimited by ###question###.\n",
      "To answer the question follow the steps delimited by ###steps### and use the data source delimited by ###source###\n",
      "###steps###\n",
      "\n",
      "Step 1: Your answer must be in spanish and must start with the greeting estimado Baufesiano.\n",
      "Step 2: If the data provided by data source is not enough to answer the question, ask for more details. \n",
      "\n",
      "###steps###\n",
      "###source###\n",
      "[{\"title\": \"Subject:\", \"url\": \"https://stmoww6huavlklg.blob.core.windows.net/fileupload-people-etica-1/CC-%20BY21%20C%C3%B3digo%20de%20%C3%89tica%20Baufest%20v5.pdf\", \"content\": \"Fue creado por todos los baufesianos, y expresa los principios y nuestros puntos de vista sobre el proceso de desarrollo de tecnolog\\u00edas de software, de modo que sirva como gu\\u00eda para nuestras pr\\u00e1cticas y proyectos.  https://baufest.com/principios-de-tecnologia-centrada-en-las-personas/  2. Pilares de la cultura Baufest  Los pilares de la Cultura de Baufest definen nuestra forma de trabajar y ver las cosas; asegurando el buen funcionamiento y rendimiento conforme a nuestras normas y valores, generando valor agregado. 1  Cercan\\u00eda:   Fomentamos relaciones cercanas con nuestros clientes y entre los baufesianos; ayudando a generar un sentido de pertenencia y liderazgo.  \\u2022 Buscamos transformar positivamente \\u2022 Estamos cerca de nuestros clientes \\u2022 Ponemos el coraz\\u00f3n en lo que hacemos \\u2022 Trabajamos en equipo y con alegr\\u00eda \\u2022 Ayudamos, compartimos y ense\\u00f1amos \\u2022 Damos lo mejor de nosotros \\u2022 Somos respetuosos y agradecidos  Creatividad:   Confiamos en el talento de nuestros baufesianos, favoreciendo el intercambio de ideas y experiencias; para as\\u00ed, generar un sello diferencial e innovador en la creaci\\u00f3n de recursos.  \\u2022 Somos curiosos \\u2022 Exploramos y aprendemos  1 Detalle de los Pilares de Nuestra Cultura https://bit.ly/3mHrprM  https://bit.ly/3mHrprM  Subject: Asunto del Documento Prepared for: Baufest - interno Page: 4 of 13 Document:  Version: 1.1 Updated:  Author: Baufest baufest.com  Argentina | Chile | Peru | Mexico | USA | Spain | Uruguay \\u2022 Nos gustan los desaf\\u00edos complejos \\u2022 Buscamos soluciones adecuadas para cada caso \\u2022 Creamos nuestras propias herramientas \\u2022 Somos \\u00e1giles y flexibles \\u2022 Evolucionamos e innovamos \\u2022 Dise\\u00f1amos soluciones de genuino valor agregado  Calidad:   Satisfacemos las expectativas de nuestra gente y nuestros clientes con rapidez y eficiencia, garantizando la comunicaci\\u00f3n y mejora continua.  \\u2022 Trabajamos con un m\\u00e9todo y organizadamente \\u2022 Acordamos las expectativas \\u2022 Nos anticipamos y planeamos \\u2022 Construimos soluciones \\u00fatiles y s\\u00f3lidas \\u2022 Las validamos y probamos \\u2022 Garantizamos lo que hacemos \\u2022 Nos interesa mejorar  Compromiso:   Mantenemos un equilibrio entre la organizaci\\u00f3n, nuestra gente y clientes, generando soluciones valiosas con responsabilidad y una mirada hacia el futuro\", \"filename\": \"CC- BY21 C\\u00f3digo de \\u00c9tica Baufest v5.pdf\"},\n",
      "{\"title\": \"Subject:\", \"url\": \"https://stmoww6huavlklg.blob.core.windows.net/fileupload-people-etica-1/CC-%20BY21%20C%C3%B3digo%20de%20%C3%89tica%20Baufest%20v5.pdf\", \"content\": \"No permitimos aprovecharse de manera ilegitima de nadie a trav\\u00e9s de la manipulaci\\u00f3n, el ocultamiento o uso indebido del poder, informaci\\u00f3n privilegiada o cualquier otra practica deshonesta.   Discriminaci\\u00f3n No permitimos la discriminaci\\u00f3n o acoso por motivos de raza, color, piel, religi\\u00f3n, g\\u00e9nero, identidad de g\\u00e9nero, orientaci\\u00f3n sexual, edad o discapacidad. No toleramos ning\\u00fan tipo de acoso, hostigamiento o conducta abusiva; incluyendo las bromas, situaciones, insinuaciones o comentarios degradantes de contenido sexual, o discriminatorio, relacionados con cualquier clase de diferencia personal.  Calidad de vida profesional  Las personas de Baufest, y en especial los l\\u00edderes, debemos garantizar que mejoren, y no se degraden, la calidad de la vida personal y profesional. Debemos tener en cuenta el desarrollo personal y profesional, los requisitos de accesibilidad, la seguridad f\\u00edsica, el bienestar psicol\\u00f3gico y la dignidad humana de todos los integrantes de Baufest.   Comunicaci\\u00f3n En Baufest buscamos que los l\\u00edderes comuniquen de manera concisa, con claridad y exactitud, apeg\\u00e1ndose a los hechos; es decir, sin enfatizar ni exagerar. No estar\\u00e1 permitido dirigirse a otros en un tono de voz inapropiado y/o que pueda resultar humillante u hostil y/o que intimide verbalmente a la otra persona.  Buscamos un ambiente de trabajo en el cual seamos cordiales con todas las personas y respetemos las caracter\\u00edsticas individuales.   Subject: Asunto del Documento Prepared for: Baufest - interno Page: 8 of 13 Document:  Version: 1.1 Updated:  Author: Baufest baufest.com  Argentina | Chile | Peru | Mexico | USA | Spain | Uruguay  Acoso Todos, y especialmente los l\\u00edderes, debemos promover activamente un ambiente de trabajo libre de acoso, maltrato o conductas abusivas (f\\u00edsicas, verbales o visuales).   En Baufest no toleramos ning\\u00fan tipo de abuso verbal o f\\u00edsico, incluyendo comportamiento intimidatorio, amenazante o el ejercicio indebido de autoridad. No aceptamos realizar propuestas de contenido sexual, gestos obscenos o la exhibici\\u00f3n de im\\u00e1genes sexualmente expl\\u00edcitas o provocativas, solicitud de favores sexuales, insistencia para una actividad social fuera del lugar de trabajo.  4.1.3 Conflictos de inter\\u00e9s  Puede producirse un conflicto cuando los intereses personales causen un perjuicio al inter\\u00e9s de Baufest.  En Baufest esperamos que los directivos y ejecutivos ejerzan su compromiso de lealtad y honestidad, y eviten la realizaci\\u00f3n de acuerdos que privilegien o beneficien a terceras personas\", \"filename\": \"CC- BY21 C\\u00f3digo de \\u00c9tica Baufest v5.pdf\"},\n",
      "{\"title\": \"Subject:\", \"url\": \"https://stmoww6huavlklg.blob.core.windows.net/fileupload-people-etica-1/CC-%20BY21%20C%C3%B3digo%20de%20%C3%89tica%20Baufest%20v5.pdf\", \"content\": \"com  Argentina | Chile | Peru | Mexico | USA | Spain | Uruguay Nos comprometemos a reconocer y promover las habilidades de los integrantes, poniendo a su disposici\\u00f3n medios de formaci\\u00f3n y actualizaci\\u00f3n de conocimientos. Nos comprometemos a desempe\\u00f1ar con diligencia y lealtad las funciones y obligaciones derivadas de nuestros puestos; as\\u00ed como a tutelar los bienes de la empresa, adoptando un comportamiento responsable y respetuoso de las pol\\u00edticas, normas y procedimientos internos y las normas legales.  No permitimos que los integrantes busquen activamente empleo u ofrezcan servicios a compa\\u00f1\\u00edas que sean clientes activos de Baufest. En caso de tener un ofrecimiento laboral por parte de un cliente, esperamos que la persona contacte a su l\\u00edder m\\u00e1s cercano para informarlo.  Nos comprometemos a no realizar ning\\u00fan tipo de represalia por expresar inquietudes con el fin de asegurar el cumplimiento del C\\u00f3digo de \\u00c9tica.   4.1.1 Relaci\\u00f3n con otros / convivencia Promovemos trabajar con cercan\\u00eda y compromiso, buscamos generar un lugar de trabajo libre de maltrato y violencia; por lo tanto, no permitimos la discriminaci\\u00f3n, el acoso o el maltrato de cualquier tipo, incluyendo conductas verbales, visuales o f\\u00edsicas que creen un ambiente de trabajo intimidante, ofensivo u hostil.    Uso del Lenguaje  No permitimos el uso de lenguaje ofensivo, incluyendo las bromas, situaciones, insinuaciones o comentarios degradantes de contenido sexual o discriminatorio relacionados con cualquier clase de diferencia personal (creencias, color, ideolog\\u00eda pol\\u00edtica, discapacidad, edad, estado civil, estilo de vida, etnia, experiencias, g\\u00e9nero, nacionalidad, orientaci\\u00f3n sexual, pensamiento, raza, religi\\u00f3n, o cualquier otra particularidad).    4.1.2  Relaci\\u00f3n supervisor / empleado Todos, especialmente los l\\u00edderes, tienen la responsabilidad de actuar con liderazgo y promoverlo tanto dentro de la organizaci\\u00f3n, como con los clientes y proveedores.    Subject: Asunto del Documento Prepared for: Baufest - interno Page: 7 of 13 Document:  Version: 1.1 Updated:  Author: Baufest baufest.com  Argentina | Chile | Peru | Mexico | USA | Spain | Uruguay Con el c\\u00f3digo de conducta y \\u00e9tica buscamos garantizar el liderazgo y apoyo de todos los niveles de la gerencia, y as\\u00ed garantizar que el programa funcione de manera eficaz.    Trato equitativo  Todos los personas, ejecutivos, directores y miembros del Comit\\u00e9 Ejecutivo de Baufest se esforzar\\u00e1n por tener un trato equitativo con sus reportes directos para generar un buen clima de trabajo\", \"filename\": \"CC- BY21 C\\u00f3digo de \\u00c9tica Baufest v5.pdf\"}]\n",
      "###source###\n",
      "###question###\n",
      "¿Cuales son las ventajas de trabajar en Baufest?\n",
      "###question###\n",
      "<|im_end|><|im_start|>assistant\n"
     ]
    }
   ],
   "source": [
    "print(system_template)\n",
    "prompt=system_template.format(steps=steps,\n",
    "                       sources=sources_json_list,\n",
    "                       question=user_question) + assistant_prompt\n",
    "print(prompt)"
   ]
  },
  {
   "cell_type": "code",
   "execution_count": 7,
   "id": "7080fcf0",
   "metadata": {},
   "outputs": [],
   "source": [
    "result = aoaiutils.get_completion(prompt)"
   ]
  },
  {
   "cell_type": "code",
   "execution_count": 8,
   "id": "045e2dd7",
   "metadata": {},
   "outputs": [
    {
     "name": "stdout",
     "output_type": "stream",
     "text": [
      "\n",
      "Estimado Baufesiano, la fuente de información proporcionada no especifica las ventajas de trabajar en Baufest. ¿Podría proporcionar más detalles o una fuente adicional para poder responder a su pregunta de manera más precisa? Gracias.\n"
     ]
    }
   ],
   "source": [
    "print(result)"
   ]
  },
  {
   "cell_type": "code",
   "execution_count": 9,
   "id": "eb861c2a",
   "metadata": {},
   "outputs": [
    {
     "name": "stdout",
     "output_type": "stream",
     "text": [
      "<|im_start|>system\n",
      "Assistant helps the company employees with their human resource questions. \n",
      "Answer ONLY with the facts listed in the list of sources below. \n",
      "If there isn't enough information below, say you don't know. \n",
      "Do not generate answers that don't use the sources below. \n",
      "If asking a clarifying question to the user would help, ask the question. \n",
      "Each source is in json format use 'content' field to answer the question.\n",
      "The user question is delimited by ###question### below\n",
      "\n",
      "###question###\n",
      "¿Cuales son las ventajas de trabajar en Baufest?\n",
      "###question###\n",
      "\n",
      "Sources:\n",
      "[{\"title\": \"Subject:\", \"url\": \"https://stmoww6huavlklg.blob.core.windows.net/fileupload-people-etica-1/CC-%20BY21%20C%C3%B3digo%20de%20%C3%89tica%20Baufest%20v5.pdf\", \"content\": \"Fue creado por todos los baufesianos, y expresa los principios y nuestros puntos de vista sobre el proceso de desarrollo de tecnolog\\u00edas de software, de modo que sirva como gu\\u00eda para nuestras pr\\u00e1cticas y proyectos.  https://baufest.com/principios-de-tecnologia-centrada-en-las-personas/  2. Pilares de la cultura Baufest  Los pilares de la Cultura de Baufest definen nuestra forma de trabajar y ver las cosas; asegurando el buen funcionamiento y rendimiento conforme a nuestras normas y valores, generando valor agregado. 1  Cercan\\u00eda:   Fomentamos relaciones cercanas con nuestros clientes y entre los baufesianos; ayudando a generar un sentido de pertenencia y liderazgo.  \\u2022 Buscamos transformar positivamente \\u2022 Estamos cerca de nuestros clientes \\u2022 Ponemos el coraz\\u00f3n en lo que hacemos \\u2022 Trabajamos en equipo y con alegr\\u00eda \\u2022 Ayudamos, compartimos y ense\\u00f1amos \\u2022 Damos lo mejor de nosotros \\u2022 Somos respetuosos y agradecidos  Creatividad:   Confiamos en el talento de nuestros baufesianos, favoreciendo el intercambio de ideas y experiencias; para as\\u00ed, generar un sello diferencial e innovador en la creaci\\u00f3n de recursos.  \\u2022 Somos curiosos \\u2022 Exploramos y aprendemos  1 Detalle de los Pilares de Nuestra Cultura https://bit.ly/3mHrprM  https://bit.ly/3mHrprM  Subject: Asunto del Documento Prepared for: Baufest - interno Page: 4 of 13 Document:  Version: 1.1 Updated:  Author: Baufest baufest.com  Argentina | Chile | Peru | Mexico | USA | Spain | Uruguay \\u2022 Nos gustan los desaf\\u00edos complejos \\u2022 Buscamos soluciones adecuadas para cada caso \\u2022 Creamos nuestras propias herramientas \\u2022 Somos \\u00e1giles y flexibles \\u2022 Evolucionamos e innovamos \\u2022 Dise\\u00f1amos soluciones de genuino valor agregado  Calidad:   Satisfacemos las expectativas de nuestra gente y nuestros clientes con rapidez y eficiencia, garantizando la comunicaci\\u00f3n y mejora continua.  \\u2022 Trabajamos con un m\\u00e9todo y organizadamente \\u2022 Acordamos las expectativas \\u2022 Nos anticipamos y planeamos \\u2022 Construimos soluciones \\u00fatiles y s\\u00f3lidas \\u2022 Las validamos y probamos \\u2022 Garantizamos lo que hacemos \\u2022 Nos interesa mejorar  Compromiso:   Mantenemos un equilibrio entre la organizaci\\u00f3n, nuestra gente y clientes, generando soluciones valiosas con responsabilidad y una mirada hacia el futuro\", \"filename\": \"CC- BY21 C\\u00f3digo de \\u00c9tica Baufest v5.pdf\"},\n",
      "{\"title\": \"Subject:\", \"url\": \"https://stmoww6huavlklg.blob.core.windows.net/fileupload-people-etica-1/CC-%20BY21%20C%C3%B3digo%20de%20%C3%89tica%20Baufest%20v5.pdf\", \"content\": \"No permitimos aprovecharse de manera ilegitima de nadie a trav\\u00e9s de la manipulaci\\u00f3n, el ocultamiento o uso indebido del poder, informaci\\u00f3n privilegiada o cualquier otra practica deshonesta.   Discriminaci\\u00f3n No permitimos la discriminaci\\u00f3n o acoso por motivos de raza, color, piel, religi\\u00f3n, g\\u00e9nero, identidad de g\\u00e9nero, orientaci\\u00f3n sexual, edad o discapacidad. No toleramos ning\\u00fan tipo de acoso, hostigamiento o conducta abusiva; incluyendo las bromas, situaciones, insinuaciones o comentarios degradantes de contenido sexual, o discriminatorio, relacionados con cualquier clase de diferencia personal.  Calidad de vida profesional  Las personas de Baufest, y en especial los l\\u00edderes, debemos garantizar que mejoren, y no se degraden, la calidad de la vida personal y profesional. Debemos tener en cuenta el desarrollo personal y profesional, los requisitos de accesibilidad, la seguridad f\\u00edsica, el bienestar psicol\\u00f3gico y la dignidad humana de todos los integrantes de Baufest.   Comunicaci\\u00f3n En Baufest buscamos que los l\\u00edderes comuniquen de manera concisa, con claridad y exactitud, apeg\\u00e1ndose a los hechos; es decir, sin enfatizar ni exagerar. No estar\\u00e1 permitido dirigirse a otros en un tono de voz inapropiado y/o que pueda resultar humillante u hostil y/o que intimide verbalmente a la otra persona.  Buscamos un ambiente de trabajo en el cual seamos cordiales con todas las personas y respetemos las caracter\\u00edsticas individuales.   Subject: Asunto del Documento Prepared for: Baufest - interno Page: 8 of 13 Document:  Version: 1.1 Updated:  Author: Baufest baufest.com  Argentina | Chile | Peru | Mexico | USA | Spain | Uruguay  Acoso Todos, y especialmente los l\\u00edderes, debemos promover activamente un ambiente de trabajo libre de acoso, maltrato o conductas abusivas (f\\u00edsicas, verbales o visuales).   En Baufest no toleramos ning\\u00fan tipo de abuso verbal o f\\u00edsico, incluyendo comportamiento intimidatorio, amenazante o el ejercicio indebido de autoridad. No aceptamos realizar propuestas de contenido sexual, gestos obscenos o la exhibici\\u00f3n de im\\u00e1genes sexualmente expl\\u00edcitas o provocativas, solicitud de favores sexuales, insistencia para una actividad social fuera del lugar de trabajo.  4.1.3 Conflictos de inter\\u00e9s  Puede producirse un conflicto cuando los intereses personales causen un perjuicio al inter\\u00e9s de Baufest.  En Baufest esperamos que los directivos y ejecutivos ejerzan su compromiso de lealtad y honestidad, y eviten la realizaci\\u00f3n de acuerdos que privilegien o beneficien a terceras personas\", \"filename\": \"CC- BY21 C\\u00f3digo de \\u00c9tica Baufest v5.pdf\"},\n",
      "{\"title\": \"Subject:\", \"url\": \"https://stmoww6huavlklg.blob.core.windows.net/fileupload-people-etica-1/CC-%20BY21%20C%C3%B3digo%20de%20%C3%89tica%20Baufest%20v5.pdf\", \"content\": \"com  Argentina | Chile | Peru | Mexico | USA | Spain | Uruguay Nos comprometemos a reconocer y promover las habilidades de los integrantes, poniendo a su disposici\\u00f3n medios de formaci\\u00f3n y actualizaci\\u00f3n de conocimientos. Nos comprometemos a desempe\\u00f1ar con diligencia y lealtad las funciones y obligaciones derivadas de nuestros puestos; as\\u00ed como a tutelar los bienes de la empresa, adoptando un comportamiento responsable y respetuoso de las pol\\u00edticas, normas y procedimientos internos y las normas legales.  No permitimos que los integrantes busquen activamente empleo u ofrezcan servicios a compa\\u00f1\\u00edas que sean clientes activos de Baufest. En caso de tener un ofrecimiento laboral por parte de un cliente, esperamos que la persona contacte a su l\\u00edder m\\u00e1s cercano para informarlo.  Nos comprometemos a no realizar ning\\u00fan tipo de represalia por expresar inquietudes con el fin de asegurar el cumplimiento del C\\u00f3digo de \\u00c9tica.   4.1.1 Relaci\\u00f3n con otros / convivencia Promovemos trabajar con cercan\\u00eda y compromiso, buscamos generar un lugar de trabajo libre de maltrato y violencia; por lo tanto, no permitimos la discriminaci\\u00f3n, el acoso o el maltrato de cualquier tipo, incluyendo conductas verbales, visuales o f\\u00edsicas que creen un ambiente de trabajo intimidante, ofensivo u hostil.    Uso del Lenguaje  No permitimos el uso de lenguaje ofensivo, incluyendo las bromas, situaciones, insinuaciones o comentarios degradantes de contenido sexual o discriminatorio relacionados con cualquier clase de diferencia personal (creencias, color, ideolog\\u00eda pol\\u00edtica, discapacidad, edad, estado civil, estilo de vida, etnia, experiencias, g\\u00e9nero, nacionalidad, orientaci\\u00f3n sexual, pensamiento, raza, religi\\u00f3n, o cualquier otra particularidad).    4.1.2  Relaci\\u00f3n supervisor / empleado Todos, especialmente los l\\u00edderes, tienen la responsabilidad de actuar con liderazgo y promoverlo tanto dentro de la organizaci\\u00f3n, como con los clientes y proveedores.    Subject: Asunto del Documento Prepared for: Baufest - interno Page: 7 of 13 Document:  Version: 1.1 Updated:  Author: Baufest baufest.com  Argentina | Chile | Peru | Mexico | USA | Spain | Uruguay Con el c\\u00f3digo de conducta y \\u00e9tica buscamos garantizar el liderazgo y apoyo de todos los niveles de la gerencia, y as\\u00ed garantizar que el programa funcione de manera eficaz.    Trato equitativo  Todos los personas, ejecutivos, directores y miembros del Comit\\u00e9 Ejecutivo de Baufest se esforzar\\u00e1n por tener un trato equitativo con sus reportes directos para generar un buen clima de trabajo\", \"filename\": \"CC- BY21 C\\u00f3digo de \\u00c9tica Baufest v5.pdf\"}]\n",
      "\n",
      "<|im_end|>\n",
      "<|im_start|>assistant\n"
     ]
    }
   ],
   "source": [
    "system_template = \"\"\"<|im_start|>system\n",
    "Assistant helps the company employees with their human resource questions. \n",
    "Answer ONLY with the facts listed in the list of sources below. \n",
    "If there isn't enough information below, say you don't know. \n",
    "Do not generate answers that don't use the sources below. \n",
    "If asking a clarifying question to the user would help, ask the question. \n",
    "Each source is in json format use 'content' field to answer the question.\n",
    "The user question is delimited by ###question### below\n",
    "\n",
    "###question###\n",
    "{question}\n",
    "###question###\n",
    "\n",
    "Sources:\n",
    "{sources}\n",
    "\n",
    "<|im_end|>\n",
    "<|im_start|>assistant\"\"\"\n",
    "\n",
    "prompt=system_template.format(steps=steps,\n",
    "                       sources=sources_json_list,\n",
    "                       question=user_question)\n",
    "print(prompt)"
   ]
  },
  {
   "cell_type": "code",
   "execution_count": 13,
   "id": "0acf8739",
   "metadata": {},
   "outputs": [],
   "source": [
    "result = aoaiutils.get_completion(prompt)"
   ]
  },
  {
   "cell_type": "code",
   "execution_count": 14,
   "id": "ce9abd57",
   "metadata": {},
   "outputs": [
    {
     "name": "stdout",
     "output_type": "stream",
     "text": [
      "\n",
      "Entre las ventajas de trabajar en Baufest se encuentran: \n",
      "- La cercanía con los clientes y entre los empleados, fomentando un sentido de pertenencia y liderazgo.\n",
      "- La creatividad, confiando en el talento de los empleados y favoreciendo el intercambio de ideas y experiencias para generar un sello diferencial e innovador en la creación de recursos.\n",
      "- La calidad, satisfaciendo las expectativas de los empleados y clientes con rapidez y eficiencia, garantizando la comunicación y mejora continua.\n",
      "- El compromiso, manteniendo un equilibrio entre la organización, los empleados y los clientes, generando soluciones valiosas con responsabilidad y una mirada hacia el futuro.\n",
      "- La promoción de habilidades de los empleados, poniendo a su disposición medios de formación y actualización de conocimientos.\n",
      "- El trato equitativo con los reportes directos para generar un buen clima de trabajo.\n"
     ]
    }
   ],
   "source": [
    "print(result)"
   ]
  },
  {
   "cell_type": "code",
   "execution_count": null,
   "id": "3619d823",
   "metadata": {},
   "outputs": [],
   "source": []
  }
 ],
 "metadata": {
  "kernelspec": {
   "display_name": "Python 3 (ipykernel)",
   "language": "python",
   "name": "python3"
  },
  "language_info": {
   "codemirror_mode": {
    "name": "ipython",
    "version": 3
   },
   "file_extension": ".py",
   "mimetype": "text/x-python",
   "name": "python",
   "nbconvert_exporter": "python",
   "pygments_lexer": "ipython3",
   "version": "3.11.5"
  }
 },
 "nbformat": 4,
 "nbformat_minor": 5
}
