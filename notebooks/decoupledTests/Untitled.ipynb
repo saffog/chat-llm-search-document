{
 "cells": [
  {
   "cell_type": "markdown",
   "id": "31698b56",
   "metadata": {},
   "source": [
    "#\n",
    "En esta prueba vamos a armar el prompt requerido para usar los resultados Azure AI Search como contexto"
   ]
  },
  {
   "cell_type": "code",
   "execution_count": null,
   "id": "a811d798",
   "metadata": {},
   "outputs": [],
   "source": [
    "import decoupledutils"
   ]
  },
  {
   "cell_type": "markdown",
   "id": "0bd17aae",
   "metadata": {},
   "source": [
    "Empezaremos creando un prompt para la función completion"
   ]
  },
  {
   "cell_type": "code",
   "execution_count": null,
   "id": "8ac08612",
   "metadata": {},
   "outputs": [],
   "source": [
    "system_template = \"\"\"<|im_start|>user\n",
    "Answer the question delimited by ###question###.\n",
    "To answer the question follow the steps delimited by ###steps### and use the data source delimited by ###source###\n",
    "###steps###\n",
    "{steps}\n",
    "###steps###\n",
    "###source###\n",
    "{sources}\n",
    "###source###\n",
    "###question###\n",
    "{question}\n",
    "###question###\n",
    "<|im_end|>\"\"\"\n",
    "assistant_prompt = \"\"\"<|im_start|>assistant\"\"\"\n",
    "\n",
    "steps = \"\"\"\n",
    "Step 1: Your answer must be in spanish and must start with the greeting estimado Baufesiano.\n",
    "Step 2: If the data provided by data source is not enough to answer the question, ask for more details. \n",
    "\"\"\"\n",
    "\n",
    "question = \"¿Cuales son las ventajas de trabajar en Baufest?\"\n",
    "\n",
    "results = decoupledutils.get_results_from_azure_search(user_question)\n",
    "sources_json_list = decoupledutils.process_as_json_search_results(results)\n",
    "\n"
   ]
  }
 ],
 "metadata": {
  "kernelspec": {
   "display_name": "Python 3 (ipykernel)",
   "language": "python",
   "name": "python3"
  },
  "language_info": {
   "codemirror_mode": {
    "name": "ipython",
    "version": 3
   },
   "file_extension": ".py",
   "mimetype": "text/x-python",
   "name": "python",
   "nbconvert_exporter": "python",
   "pygments_lexer": "ipython3",
   "version": "3.11.5"
  }
 },
 "nbformat": 4,
 "nbformat_minor": 5
}
