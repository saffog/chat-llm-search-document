{
 "cells": [
  {
   "cell_type": "markdown",
   "id": "f1558419",
   "metadata": {},
   "source": [
    "## Ejemplo de validación de preguntas  \n",
    "\n",
    "Evalúa las respuestas LLM cuando no haya una única \"respuesta correcta\".\n"
   ]
  },
  {
   "cell_type": "code",
   "execution_count": 1,
   "id": "bca41060",
   "metadata": {},
   "outputs": [],
   "source": [
    "import os\n",
    "import openai # this will require pip install openai\n",
    "import tiktoken # this will require pip install tiktoken\n",
    "import utils #Review the file utils.py\n",
    "\n",
    "from dotenv import load_dotenv, find_dotenv\n",
    "_ = load_dotenv(find_dotenv()) # read local .env file\n",
    "\n",
    "openai.api_key  = os.getenv('AZURE_OPENAI_KEY')\n",
    "openai.api_type = \"azure\"\n",
    "openai.api_version = \"2023-08-01-preview\"\n",
    "openai.api_base = \"https://cog-moww6huavlklg.openai.azure.com/\"\n"
   ]
  },
  {
   "cell_type": "markdown",
   "id": "37d768f6",
   "metadata": {},
   "source": [
    "### Recorrer el sistema de extremo a extremo para responder a la consulta del usuario"
   ]
  },
  {
   "cell_type": "code",
   "execution_count": 4,
   "id": "64d56ad2",
   "metadata": {},
   "outputs": [
    {
     "ename": "TypeError",
     "evalue": "answer_user_msg() missing 1 required positional argument: 'product_info'",
     "output_type": "error",
     "traceback": [
      "\u001b[0;31m---------------------------------------------------------------------------\u001b[0m",
      "\u001b[0;31mTypeError\u001b[0m                                 Traceback (most recent call last)",
      "Cell \u001b[0;32mIn[4], line 4\u001b[0m\n\u001b[1;32m      1\u001b[0m customer_msg \u001b[38;5;241m=\u001b[39m \u001b[38;5;124mf\u001b[39m\u001b[38;5;124m\"\"\"\u001b[39m\n\u001b[1;32m      2\u001b[0m \u001b[38;5;124m¿Cuáles son las ventajas de trabajar en Baufest?\u001b[39m\u001b[38;5;124m\"\"\"\u001b[39m\n\u001b[0;32m----> 4\u001b[0m assistant_answer \u001b[38;5;241m=\u001b[39m utils\u001b[38;5;241m.\u001b[39manswer_user_msg(user_msg\u001b[38;5;241m=\u001b[39mcustomer_msg)\n",
      "\u001b[0;31mTypeError\u001b[0m: answer_user_msg() missing 1 required positional argument: 'product_info'"
     ]
    }
   ],
   "source": [
    "customer_msg = f\"\"\"\n",
    "¿Cuáles son las ventajas de trabajar en Baufest?\"\"\"\n",
    "\n",
    "assistant_answer = utils.answer_user_msg(user_msg=customer_msg)"
   ]
  },
  {
   "cell_type": "code",
   "execution_count": 5,
   "id": "b1aeeef9",
   "metadata": {},
   "outputs": [
    {
     "ename": "NameError",
     "evalue": "name 'assistant_answer' is not defined",
     "output_type": "error",
     "traceback": [
      "\u001b[0;31m---------------------------------------------------------------------------\u001b[0m",
      "\u001b[0;31mNameError\u001b[0m                                 Traceback (most recent call last)",
      "Cell \u001b[0;32mIn[5], line 1\u001b[0m\n\u001b[0;32m----> 1\u001b[0m \u001b[38;5;28mprint\u001b[39m(assistant_answer)\n",
      "\u001b[0;31mNameError\u001b[0m: name 'assistant_answer' is not defined"
     ]
    }
   ],
   "source": [
    "print(assistant_answer) "
   ]
  },
  {
   "cell_type": "markdown",
   "id": "70fb9348",
   "metadata": {},
   "source": [
    "### Evaluate the LLM's answer to the user with a rubric, based on the extracted product information"
   ]
  },
  {
   "cell_type": "code",
   "execution_count": 7,
   "id": "55cb89c3",
   "metadata": {},
   "outputs": [
    {
     "name": "stdout",
     "output_type": "stream",
     "text": [
      "{'customer_msg': '\\nHáblame del teléfono smartx pro y de la cámara fotosnap, la dslr.\\nAdemás, ¿qué televisores o productos relacionados con la televisión tienes?', 'context': [{'name': 'SmartX ProPhone', 'category': 'Smartphones and Accessories', 'brand': 'SmartX', 'model_number': 'SX-PP10', 'warranty': '1 year', 'rating': 4.6, 'features': ['6.1-inch display', '128GB storage', '12MP dual camera', '5G'], 'description': 'A powerful smartphone with advanced camera features.', 'price': 899.99}, {'name': 'FotoSnap DSLR Camera', 'category': 'Cameras and Camcorders', 'brand': 'FotoSnap', 'model_number': 'FS-DSLR200', 'warranty': '1 year', 'rating': 4.7, 'features': ['24.2MP sensor', '1080p video', '3-inch LCD', 'Interchangeable lenses'], 'description': 'Capture stunning photos and videos with this versatile DSLR camera.', 'price': 599.99}, {'name': 'CineView 4K TV', 'category': 'Televisions and Home Theater Systems', 'brand': 'CineView', 'model_number': 'CV-4K55', 'warranty': '2 years', 'rating': 4.8, 'features': ['55-inch display', '4K resolution', 'HDR', 'Smart TV'], 'description': 'A stunning 4K TV with vibrant colors and smart features.', 'price': 599.99}, {'name': 'CineView 8K TV', 'category': 'Televisions and Home Theater Systems', 'brand': 'CineView', 'model_number': 'CV-8K65', 'warranty': '2 years', 'rating': 4.9, 'features': ['65-inch display', '8K resolution', 'HDR', 'Smart TV'], 'description': 'Experience the future of television with this stunning 8K TV.', 'price': 2999.99}, {'name': 'CineView OLED TV', 'category': 'Televisions and Home Theater Systems', 'brand': 'CineView', 'model_number': 'CV-OLED55', 'warranty': '2 years', 'rating': 4.7, 'features': ['55-inch display', '4K resolution', 'HDR', 'Smart TV'], 'description': 'Experience true blacks and vibrant colors with this OLED TV.', 'price': 1499.99}, {'name': 'SoundMax Home Theater', 'category': 'Televisions and Home Theater Systems', 'brand': 'SoundMax', 'model_number': 'SM-HT100', 'warranty': '1 year', 'rating': 4.4, 'features': ['5.1 channel', '1000W output', 'Wireless subwoofer', 'Bluetooth'], 'description': 'A powerful home theater system for an immersive audio experience.', 'price': 399.99}, {'name': 'SoundMax Soundbar', 'category': 'Televisions and Home Theater Systems', 'brand': 'SoundMax', 'model_number': 'SM-SB50', 'warranty': '1 year', 'rating': 4.3, 'features': ['2.1 channel', '300W output', 'Wireless subwoofer', 'Bluetooth'], 'description': \"Upgrade your TV's audio with this sleek and powerful soundbar.\", 'price': 199.99}]}\n"
     ]
    }
   ],
   "source": [
    "cust_prod_info = {\n",
    "    'customer_msg': customer_msg,\n",
    "    'context': product_info\n",
    "}\n",
    "print(cust_prod_info)"
   ]
  },
  {
   "cell_type": "code",
   "execution_count": 8,
   "id": "96e0cb3f",
   "metadata": {},
   "outputs": [],
   "source": [
    "def eval_with_rubric(test_set, assistant_answer):\n",
    "\n",
    "    cust_msg = test_set['customer_msg']\n",
    "    context = test_set['context']\n",
    "    completion = assistant_answer\n",
    "    \n",
    "    system_message = \"\"\"\\\n",
    "    You are an assistant that evaluates how well the customer service agent \\\n",
    "    answers a user question by looking at the context that the customer service \\\n",
    "    agent is using to generate its response. It is necessary to answer in Spanish\n",
    "    \"\"\"\n",
    "\n",
    "    user_message = f\"\"\"\\\n",
    "You are evaluating a submitted answer to a question based on the context \\\n",
    "that the agent uses to answer the question.\n",
    "Here is the data:\n",
    "    [BEGIN DATA]\n",
    "    ************\n",
    "    [Question]: {cust_msg}\n",
    "    ************\n",
    "    [Context]: {context}\n",
    "    ************\n",
    "    [Submission]: {completion}\n",
    "    ************\n",
    "    [END DATA]\n",
    "\n",
    "Compare the factual content of the submitted answer with the context. \\\n",
    "Ignore any differences in style, grammar, or punctuation.\n",
    "Answer the following questions:\n",
    "    - Is the Assistant response based only on the context provided? (Y or N)\n",
    "    - Does the answer include information that is not provided in the context? (Y or N)\n",
    "    - Is there any disagreement between the response and the context? (Y or N)\n",
    "    - Count how many questions the user asked. (output a number)\n",
    "    - For each question that the user asked, is there a corresponding answer to it?\n",
    "      Question 1: (Y or N)\n",
    "      Question 2: (Y or N)\n",
    "      ...\n",
    "      Question N: (Y or N)\n",
    "    - Of the number of questions asked, how many of these questions were addressed by the answer? (output a number)\n",
    "\"\"\"\n",
    "\n",
    "    messages = [\n",
    "        {'role': 'system', 'content': system_message},\n",
    "        {'role': 'user', 'content': user_message}\n",
    "    ]\n",
    "\n",
    "    response = utils.get_completion_from_messages(messages)\n",
    "    return response"
   ]
  },
  {
   "cell_type": "code",
   "execution_count": 9,
   "id": "d8879fd5",
   "metadata": {},
   "outputs": [
    {
     "name": "stdout",
     "output_type": "stream",
     "text": [
      "- Is the Assistant response based only on the context provided? (Y or N)\n",
      "Y\n",
      "\n",
      "- Does the answer include information that is not provided in the context? (Y or N)\n",
      "N\n",
      "\n",
      "- Is there any disagreement between the response and the context? (Y or N)\n",
      "N\n",
      "\n",
      "- Count how many questions the user asked. (output a number)\n",
      "1\n",
      "\n",
      "- For each question that the user asked, is there a corresponding answer to it?\n",
      "Question 1: Y\n",
      "\n",
      "- Of the number of questions asked, how many of these questions were addressed by the answer? (output a number)\n",
      "1\n"
     ]
    }
   ],
   "source": [
    "evaluation_output = eval_with_rubric(cust_prod_info, assistant_answer)\n",
    "print(evaluation_output)"
   ]
  },
  {
   "cell_type": "markdown",
   "id": "ea8f73eb",
   "metadata": {},
   "source": [
    "### Evaluate the LLM's answer to the user based on an \"ideal\" / \"expert\" (human generated) answer."
   ]
  },
  {
   "cell_type": "code",
   "execution_count": 10,
   "id": "67f8df02",
   "metadata": {},
   "outputs": [],
   "source": [
    "test_set_ideal = {\n",
    "    'customer_msg': \"\"\"\\\n",
    "háblame del teléfono smartx pro y de la cámara fotosnap, la dslr.\n",
    "Además, ¿qué televisores o productos relacionados con la televisión tienes?\"\"\",\n",
    "    'ideal_answer':\"\"\"\\\n",
    "Por supuesto.  El SmartX ProPhone es un potente \\\n",
    "smartphone con funciones avanzadas de cámara. \\\n",
    "Por ejemplo, tiene una cámara dual de 12MP \\\n",
    "Otras características son la conexión inalámbrica 5G y el almacenamiento de 128 GB. \\\n",
    "También tiene una pantalla de 6,1 pulgadas.  Su precio es de 899,99 dólares.\n",
    "\n",
    "La cámara DSLR FotoSnap es ideal para \\\n",
    "capturar fotos y vídeos impresionantes. \\\n",
    "Algunas funciones incluyen vídeo 1080p, \\\n",
    "LCD de 3 pulgadas, un sensor de 24,2 MP, \\\n",
    "y objetivos intercambiables. \\\n",
    "El precio es de 599,99.\n",
    "\n",
    "Para televisores y productos relacionados, ofrecemos 3 televisores \\\n",
    "\n",
    "\n",
    "Todos los televisores ofrecen HDR y Smart TV.\n",
    "\n",
    "El televisor CineView 4K tiene colores vibrantes y funciones inteligentes. \\\n",
    "Algunas de estas características incluyen una pantalla de 55 pulgadas, \\\n",
    "con resolución 4K. Su precio es de 599\n",
    "\n",
    "El CineView 8K TV es un impresionante televisor 8K. \\\n",
    "Algunas de sus características incluyen una pantalla de 65 pulgadas y \\\n",
    "resolución 8K.  Tiene un precio de 2999,99 €.\n",
    "\n",
    "El CineView OLED TV te permite experimentar colores vibrantes. \\\n",
    "Algunas características incluyen una pantalla de 55 pulgadas y resolución 4K. \\\n",
    "Su precio es de 1499,99.\n",
    "\n",
    "También ofrecemos 2 productos de cine en casa, ambos incluyen bluetooth.\\\n",
    "El SoundMax Home Theater es un potente sistema de cine en casa para \\\n",
    "una experiencia de audio inmersiva.\n",
    "Sus características incluyen 5.1 canales, 1000W de salida y subwoofer inalámbrico.\n",
    "Su precio es de 399,99 euros.\n",
    "\n",
    "SoundMax Soundbar es una barra de sonido elegante y potente.\n",
    "Incluye 2.1 canales, 300 W de potencia y subwoofer inalámbrico.\n",
    "Su precio es de 199,99\n",
    "\n",
    "¿Hay alguna pregunta adicional que pueda tener acerca de estos productos \\\n",
    "que usted ha mencionado aquí?\n",
    "¿O tiene alguna otra pregunta en la que pueda ayudarle?\n",
    "    \"\"\"\n",
    "}"
   ]
  },
  {
   "cell_type": "markdown",
   "id": "1bda4417",
   "metadata": {},
   "source": [
    "### Check if the LLM's response agrees with or disagrees with the expert answer\n",
    "\n",
    "This evaluation prompt is from the [OpenAI evals](https://github.com/openai/evals/blob/main/evals/registry/modelgraded/fact.yaml) project.\n",
    "\n",
    "[BLEU score](https://en.wikipedia.org/wiki/BLEU): another way to evaluate whether two pieces of text are similar or not."
   ]
  },
  {
   "cell_type": "code",
   "execution_count": 11,
   "id": "10d2819c",
   "metadata": {},
   "outputs": [],
   "source": [
    "def eval_vs_ideal(test_set, assistant_answer):\n",
    "\n",
    "    cust_msg = test_set['customer_msg']\n",
    "    ideal = test_set['ideal_answer']\n",
    "    completion = assistant_answer\n",
    "    \n",
    "    system_message = \"\"\"\\\n",
    "    You are an assistant that evaluates how well the customer service agent \\\n",
    "    answers a user question by comparing the response to the ideal (expert) response\n",
    "    Output a single letter and nothing else. \n",
    "    \"\"\"\n",
    "\n",
    "    user_message = f\"\"\"\\\n",
    "You are comparing a submitted answer to an expert answer on a given question. Here is the data:\n",
    "    [BEGIN DATA]\n",
    "    ************\n",
    "    [Question]: {cust_msg}\n",
    "    ************\n",
    "    [Expert]: {ideal}\n",
    "    ************\n",
    "    [Submission]: {completion}\n",
    "    ************\n",
    "    [END DATA]\n",
    "\n",
    "Compare the factual content of the submitted answer with the expert answer. Ignore any differences in style, grammar, or punctuation.\n",
    "    The submitted answer may either be a subset or superset of the expert answer, or it may conflict with it. Determine which case applies. Answer the question by selecting one of the following options:\n",
    "    (A) The submitted answer is a subset of the expert answer and is fully consistent with it.\n",
    "    (B) The submitted answer is a superset of the expert answer and is fully consistent with it.\n",
    "    (C) The submitted answer contains all the same details as the expert answer.\n",
    "    (D) There is a disagreement between the submitted answer and the expert answer.\n",
    "    (E) The answers differ, but these differences don't matter from the perspective of factuality.\n",
    "  choice_strings: ABCDE\n",
    "\"\"\"\n",
    "\n",
    "    messages = [\n",
    "        {'role': 'system', 'content': system_message},\n",
    "        {'role': 'user', 'content': user_message}\n",
    "    ]\n",
    "\n",
    "    response = utils.get_completion_from_messages(messages)\n",
    "    return response"
   ]
  },
  {
   "cell_type": "code",
   "execution_count": 12,
   "id": "5ed0fe92",
   "metadata": {},
   "outputs": [
    {
     "name": "stdout",
     "output_type": "stream",
     "text": [
      "¡Hola! Con gusto te puedo hablar sobre los productos que mencionaste. El teléfono SmartX Pro es un smartphone potente con una pantalla de 6.1 pulgadas, almacenamiento de 128GB, cámara dual de 12MP y conectividad 5G. La cámara FotoSnap DSLR es una cámara versátil con un sensor de 24.2MP, grabación de video 1080p, pantalla LCD de 3 pulgadas y lentes intercambiables.\n",
      "\n",
      "En cuanto a televisores, tenemos varios modelos de la marca CineView, incluyendo el modelo 4K de 55 pulgadas, el modelo 8K de 65 pulgadas y el modelo OLED de 55 pulgadas. Todos ellos cuentan con resolución 4K o 8K, HDR y funciones inteligentes. También ofrecemos sistemas de cine en casa de la marca SoundMax, como el modelo Home Theater de 5.1 canales y el modelo Soundbar de 2.1 canales.\n",
      "\n",
      "¿Te gustaría saber más sobre alguno de estos productos o tienes alguna otra pregunta relacionada con electrónica? Estoy aquí para ayudarte.\n"
     ]
    }
   ],
   "source": [
    "print(assistant_answer)"
   ]
  },
  {
   "cell_type": "code",
   "execution_count": 13,
   "id": "b180d948",
   "metadata": {},
   "outputs": [
    {
     "data": {
      "text/plain": [
       "'A'"
      ]
     },
     "execution_count": 13,
     "metadata": {},
     "output_type": "execute_result"
    }
   ],
   "source": [
    "eval_vs_ideal(test_set_ideal, assistant_answer)"
   ]
  },
  {
   "cell_type": "code",
   "execution_count": 16,
   "id": "0c69c1a5",
   "metadata": {},
   "outputs": [],
   "source": [
    "assistant_answer_2 = \"life is like a box of chocolates\""
   ]
  },
  {
   "cell_type": "code",
   "execution_count": 17,
   "id": "202fb87a",
   "metadata": {},
   "outputs": [
    {
     "data": {
      "text/plain": [
       "'D'"
      ]
     },
     "execution_count": 17,
     "metadata": {},
     "output_type": "execute_result"
    }
   ],
   "source": [
    "eval_vs_ideal(test_set_ideal, assistant_answer_2)"
   ]
  },
  {
   "cell_type": "code",
   "execution_count": null,
   "id": "6c2cff26",
   "metadata": {},
   "outputs": [],
   "source": []
  }
 ],
 "metadata": {
  "kernelspec": {
   "display_name": "Python 3 (ipykernel)",
   "language": "python",
   "name": "python3"
  },
  "language_info": {
   "codemirror_mode": {
    "name": "ipython",
    "version": 3
   },
   "file_extension": ".py",
   "mimetype": "text/x-python",
   "name": "python",
   "nbconvert_exporter": "python",
   "pygments_lexer": "ipython3",
   "version": "3.11.5"
  }
 },
 "nbformat": 4,
 "nbformat_minor": 5
}
