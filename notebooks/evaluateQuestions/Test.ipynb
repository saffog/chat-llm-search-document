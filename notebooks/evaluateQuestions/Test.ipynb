{
 "cells": [
  {
   "cell_type": "markdown",
   "id": "054871c7",
   "metadata": {},
   "source": [
    "# Pruebas para verificar las respuestas a las preguntas que sé hicieron  \n",
    "\n",
    "El objetivo de estas pruebas es corroborar que las respuestas a las preguntas realizadas al asistente se respondieron correctamente o con los criterios esperados. \n",
    "\n",
    "- Azure Open AI\n",
    "- Azure Search Service\n"
   ]
  },
  {
   "cell_type": "code",
   "execution_count": 1,
   "id": "3ab2594a",
   "metadata": {},
   "outputs": [],
   "source": [
    "import commons #Import commons methods and imports, please review commons.py"
   ]
  },
  {
   "cell_type": "code",
   "execution_count": 2,
   "id": "da077191",
   "metadata": {},
   "outputs": [
    {
     "name": "stdout",
     "output_type": "stream",
     "text": [
      "No variables to print\n"
     ]
    }
   ],
   "source": [
    "commons.print_required_variables(False)"
   ]
  },
  {
   "cell_type": "code",
   "execution_count": 3,
   "id": "94748cec",
   "metadata": {},
   "outputs": [
    {
     "name": "stdout",
     "output_type": "stream",
     "text": [
      "Estimado Fulanito Garza, una de las tantas ventajas de trabar en Baufest son las siguientes: BAU Dollar, donde recibes el beneficio del 20% de tu salario en dÃ³lares; BAU Health, reintegro del costo del gimnasio u otras actividades deportivas; BAU net, recibe una bonificaciÃ³n del costo del servicio de internet; BAU Lunch, Baufest te paga el lunch; BAU Home, se te reintegra el costo de la mudanza y Anti trÃ¡fico, tienes la posibilidad de ajustar tu horario laboral para evitar el trÃ¡fico.\n",
      "SÃ­, pero se requiere que el rango de horario laboral se mantenga por un mes\n",
      "Si, puedes presentar el contrato o escritura al nombre de otra persona, siempre que presentes un documento legal que respalde la convivencia, por ejemplo, como un certificado de concubinato, matrimonio o uniÃ³n civil. Esto ayudarÃ¡ a garantizar que tu solicitud sea considerada de manera adecuada\n",
      "A travÃ©s de la App de Pedidos ya (MenÃº/PedidosYa Pagos) verÃ¡s las acreditaciones que tenes disponible para usar\n",
      "No la acreditaciÃ³n es semanal y se paga los viernes\n",
      "SÃ­, lo importante es que en el comprobante figure el mismo domicilio que en tu declaraciÃ³n de domicilio cargada en TuRecibo\n",
      "Claro, puedes cargar hasta 3 meses retroactivos\n",
      "Desafortunadamente no, es requisito la presentaciÃ³n de un comprobante con validez oficial\n",
      "No, el beneficio no es retroactivo, tiene que ser a partir del trimestre actual\n",
      "No, el porcentaje es Ãºnicamente el 20%\n",
      "No, el porcentaje es Ãºnicamente el 20%\n",
      "No, se accede a partir de cualquier nivel de ingreso\n",
      "La transferencia se hace desde BF USA IT Services Inc. La misma se hace mediante un pago por cuenta y orden de BF Argentina S.A.\n",
      "Hemos comprobado en los siguientes medios: HSBC, Citibank, Chase, Facebank, Wise, Payoneer y GrabrFi\n",
      "RecordÃ¡ que siempre que quieras que depositemos tu sueldo en una cuenta diferente a la que tenemos registrada actualmente, deberÃ¡s cargar la informaciÃ³n a travÃ©s de TuRecibo\n"
     ]
    }
   ],
   "source": [
    "import json\n",
    "from difflib import SequenceMatcher\n",
    "\n",
    "with open('People_Argentina_2years.json') as archivo:\n",
    "    datos = json.load(archivo)\n",
    "\n",
    "expected_responses = []\n",
    "\n",
    "for pregunta in datos['questions_answers']:\n",
    "    expected_response = pregunta.get('expected_response', None)\n",
    "    if expected_response:\n",
    "        expected_responses.append(expected_response)\n",
    "\n",
    "for response in expected_responses:\n",
    "    print(response)"
   ]
  },
  {
   "cell_type": "markdown",
   "id": "3a57fbb0",
   "metadata": {},
   "source": [
    "### Original prompt using the _user_ role to provide rules to the model"
   ]
  },
  {
   "cell_type": "markdown",
   "id": "11c443e0",
   "metadata": {},
   "source": [
    "#### Prueba con datos"
   ]
  },
  {
   "cell_type": "code",
   "execution_count": 8,
   "id": "f9cd6f9b",
   "metadata": {},
   "outputs": [
    {
     "name": "stdout",
     "output_type": "stream",
     "text": [
      "Data source role information : Eres un asistente de recursos humanos. Tu respuesta debe ser en español y debe siempre empezar por estimado colaborador\n",
      "messages : [\n",
      "    {\n",
      "        \"role\": \"user\",\n",
      "        \"content\": \"Sige los pasos que se indican a continuacion para responder a la pregunta delimitada por 4 hashtags: ####. Paso 1 : Si no dispone de los datos del colaborador, su respuesta debe seguir el siguiente formato: Estimado Baufesiano, para responder a su pregunta necesito la siguiente informacion enumera los datos que faltan y nada mas. Paso 2 : Si dispone de los datos del colaborador, utilice el nombre del colaborador en su respuesta. Paso 3 : Utilice las siguientes recomendaciones para su respuesta : Recomendaci\\u00f3n 1 : Utilice los datos del colaborador para filtrar la respuesta. Recomendaci\\u00f3n 2 : Muestre solo los resultados que tengan que ver con el pais de la unidad y la antiguedad en Baufest. Recomendaci\\u00f3n 3 : Si la respuesta es demasiado amplia, filtre la respuesta por el pais de la unidad y la antiguedad en Baufest. Recomendaci\\u00f3n 4 : Si la pregunta no es clara, pida mas detalles para responder. \\nDatos del colaborador: Nombre : Santiago Vilchis. Antiguedad en Baufest : 2 a\\u00f1os. Puesto : Desarrollador. Pais de la unidad : Argentina. ####\\u00bfCuales son los beneficios de trabajar en Baufest?#### \"\n",
      "    }\n",
      "]\n",
      "Estimado Santiago Vilchis, para responder a su pregunta sobre los beneficios de trabajar en Baufest, puedo decirle que existen varios beneficios disponibles para los colaboradores de Baufest en Argentina. Algunos de estos beneficios incluyen BAU Dollar, BAU Health, BAU Net, BAU Lunch y Anti Tráfico. Para obtener más información sobre estos beneficios y cómo aplicarlos, puede consultar los documentos recuperados [doc1][doc2][doc3]. Además, como recomendación 1, puede filtrar la respuesta utilizando su antigüedad en Baufest y el país de la unidad. Si necesita más detalles sobre algún beneficio en particular, no dude en preguntar.\n"
     ]
    }
   ],
   "source": [
    "user_question=f\"\"\"\\\n",
    "¿Cuales son los beneficios de trabajar en Baufest?\"\"\"\n",
    "user_name=\"Santiago Vilchis\"\n",
    "user_seniority=\"2 años\"\n",
    "user_job=\"Desarrollador\"\n",
    "user_location=\"Argentina\"\n",
    "\n",
    "delimiter=\"####\"\n",
    "no_user_data_prefix=\"Estimado Baufesiano, para responder a su pregunta necesito la siguiente informacion\"\n",
    "\n",
    "user_message = f\"\"\"\\\n",
    "Sige los pasos que se indican a continuacion para responder a la pregunta delimitada por 4 hashtags: {delimiter}. \\\n",
    "Paso 1 : Si no dispone de los datos del colaborador, su respuesta debe seguir el siguiente formato: {no_user_data_prefix} \\\n",
    "enumera los datos que faltan y nada mas. \\\n",
    "Paso 2 : Si dispone de los datos del colaborador, utilice el nombre del colaborador en su respuesta. \\\n",
    "Paso 3 : Utilice las siguientes recomendaciones para su respuesta : \\\n",
    "Recomendación 1 : Utilice los datos del colaborador para filtrar la respuesta. \\\n",
    "Recomendación 2 : Muestre solo los resultados que tengan que ver con el pais de la unidad y la antiguedad en Baufest. \\\n",
    "Recomendación 3 : Si la respuesta es demasiado amplia, filtre la respuesta por el pais de la unidad y la antiguedad en Baufest. \\\n",
    "Recomendación 4 : Si la pregunta no es clara, pida mas detalles para responder. \\\n",
    "\\\n",
    "\n",
    "Datos del colaborador: \\\n",
    "Nombre : {user_name}. \\\n",
    "Antiguedad en Baufest : {user_seniority}. \\\n",
    "Puesto : {user_job}. \\\n",
    "Pais de la unidad : {user_location}. \\\n",
    "\\\n",
    "{delimiter}{user_question}{delimiter} \\\n",
    "\"\"\"\n",
    "messages =  [  \n",
    "{'role':'user', \n",
    " 'content': f\"{user_message}\"},  \n",
    "] \n",
    "\n",
    "max_retries = 20\n",
    "retry_count = 0\n",
    "\n",
    "while retry_count < max_retries:\n",
    "    try:\n",
    "        response = commons.get_completion_from_messages(messages)\n",
    "        respuestaOA = response\n",
    "        print(response)\n",
    "        break\n",
    "    except InvalidRequestError as e:\n",
    "        print(\"Caught InvalidRequestError:\", e)\n",
    "        retry_count += 1\n",
    "        if retry_count == max_retries:\n",
    "            print(\"Max retries reached. Unable to proceed.\")\n",
    "        else:\n",
    "            time.sleep(1)  "
   ]
  },
  {
   "cell_type": "code",
   "execution_count": 9,
   "id": "437c694f",
   "metadata": {},
   "outputs": [
    {
     "name": "stdout",
     "output_type": "stream",
     "text": [
      "Las respuestas son similares:\n",
      "1. Estimado Fulanito Garza, una de las tantas ventajas de trabar en Baufest son las siguientes: BAU Dollar, donde recibes el beneficio del 20% de tu salario en dÃ³lares; BAU Health, reintegro del costo del gimnasio u otras actividades deportivas; BAU net, recibe una bonificaciÃ³n del costo del servicio de internet; BAU Lunch, Baufest te paga el lunch; BAU Home, se te reintegra el costo de la mudanza y Anti trÃ¡fico, tienes la posibilidad de ajustar tu horario laboral para evitar el trÃ¡fico.\n"
     ]
    }
   ],
   "source": [
    "respuesta_comparar = \"Las ventajas de trabajar en Baufest son las siguientes: BAU Dollar, posible 20% de salario en dólares; BAU Health, actividades deportivas; BAU net, pago internet; BAU Lunch, Baufest te paga el lunch; BAU Home, reintegro del costo de tu mudanza y Anti tráfico, ajustar el horario laboral.\"\n",
    "\n",
    "def calcular_similitud(respuesta_comparar, expected_responses, umbral_similitud=0.6):\n",
    "    comparador = SequenceMatcher(None, respuesta_comparar, expected_responses)\n",
    "    similitud = comparador.ratio()\n",
    "\n",
    "    return similitud >= umbral_similitud\n",
    "\n",
    "def comparar_expected_responses(respuesta_comparar, expected_responses, umbral_similitud=0.6):\n",
    "    respuestas_similares = []\n",
    "\n",
    "    for expected_response in expected_responses:\n",
    "        if calcular_similitud(respuesta_comparar, expected_response, umbral_similitud):\n",
    "            respuestas_similares.append(expected_response)\n",
    "\n",
    "    return len(respuestas_similares) > 0, respuestas_similares\n",
    "\n",
    "similitud, respuestas_similares = comparar_expected_responses(respuesta_comparar, expected_responses)\n",
    "\n",
    "if similitud:\n",
    "    print(\"Las respuestas son similares:\")\n",
    "    for i, similar_response in enumerate(respuestas_similares, 1):\n",
    "        print(f\"{i}. {similar_response}\")\n",
    "else:\n",
    "    print(\"Las respuestas no son suficientemente similares.\")"
   ]
  },
  {
   "cell_type": "code",
   "execution_count": null,
   "id": "1129734a",
   "metadata": {},
   "outputs": [],
   "source": []
  }
 ],
 "metadata": {
  "kernelspec": {
   "display_name": "Python 3 (ipykernel)",
   "language": "python",
   "name": "python3"
  },
  "language_info": {
   "codemirror_mode": {
    "name": "ipython",
    "version": 3
   },
   "file_extension": ".py",
   "mimetype": "text/x-python",
   "name": "python",
   "nbconvert_exporter": "python",
   "pygments_lexer": "ipython3",
   "version": "3.11.5"
  }
 },
 "nbformat": 4,
 "nbformat_minor": 5
}
