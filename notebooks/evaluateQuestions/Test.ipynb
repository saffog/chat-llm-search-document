{
 "cells": [
  {
   "cell_type": "markdown",
   "id": "054871c7",
   "metadata": {},
   "source": [
    "# Pruebas para verificar las respuestas a las preguntas que sé hicieron  \n",
    "\n",
    "El objetivo de estas pruebas es corroborar que las respuestas a las preguntas realizadas al asistente se respondieron correctamente o con los criterios esperados. \n",
    "\n",
    "- Azure Open AI\n",
    "- Azure Search Service\n"
   ]
  },
  {
   "cell_type": "code",
   "execution_count": 1,
   "id": "3ab2594a",
   "metadata": {},
   "outputs": [],
   "source": [
    "import commons"
   ]
  },
  {
   "cell_type": "code",
   "execution_count": 2,
   "id": "da077191",
   "metadata": {},
   "outputs": [
    {
     "name": "stdout",
     "output_type": "stream",
     "text": [
      "No variables to print\n"
     ]
    }
   ],
   "source": [
    "commons.print_required_variables(False)"
   ]
  },
  {
   "cell_type": "code",
   "execution_count": 3,
   "id": "94748cec",
   "metadata": {},
   "outputs": [
    {
     "name": "stdout",
     "output_type": "stream",
     "text": [
      "Estimado Fulanito Garza, una de las tantas ventajas de trabar en Baufest son las siguientes: BAU Dollar, donde recibes el beneficio del 20% de tu salario en dólares; BAU Health, reintegro del costo del gimnasio u otras actividades deportivas; BAU net, recibe una bonificación del costo del servicio de internet; BAU Lunch, Baufest te paga el lunch; BAU Home, se te reintegra el costo de la mudanza y Anti tráfico, tienes la posibilidad de ajustar tu horario laboral para evitar el tráfico.\n",
      "Sí, pero se requiere que el rango de horario laboral se mantenga por un mes\n",
      "Si, puedes presentar el contrato o escritura al nombre de otra persona, siempre que presentes un documento legal que respalde la convivencia, por ejemplo, como un certificado de concubinato, matrimonio o unión civil. Esto ayudará a garantizar que tu solicitud sea considerada de manera adecuada\n",
      "A través de la App de Pedidos ya (Menú/PedidosYa Pagos) verás las acreditaciones que tenes disponible para usar\n",
      "No la acreditación es semanal y se paga los viernes\n",
      "Sí, lo importante es que en el comprobante figure el mismo domicilio que en tu declaración de domicilio cargada en TuRecibo\n",
      "Claro, puedes cargar hasta 3 meses retroactivos\n",
      "Desafortunadamente no, es requisito la presentación de un comprobante con validez oficial\n",
      "No, el beneficio no es retroactivo, tiene que ser a partir del trimestre actual\n",
      "No, el porcentaje es únicamente el 20%\n",
      "No, el porcentaje es únicamente el 20%\n",
      "No, se accede a partir de cualquier nivel de ingreso\n",
      "La transferencia se hace desde BF USA IT Services Inc. La misma se hace mediante un pago por cuenta y orden de BF Argentina S.A.\n",
      "Hemos comprobado en los siguientes medios: HSBC, Citibank, Chase, Facebank, Wise, Payoneer y GrabrFi\n",
      "Recordá que siempre que quieras que depositemos tu sueldo en una cuenta diferente a la que tenemos registrada actualmente, deberás cargar la información a través de TuRecibo\n"
     ]
    }
   ],
   "source": [
    "import json\n",
    "import pandas as pd\n",
    "import matplotlib.pyplot as plt\n",
    "from difflib import SequenceMatcher\n",
    "\n",
    "with open('People_Argentina_2years.json') as archivo:\n",
    "    datos = json.load(archivo)\n",
    "\n",
    "expected_responses = []\n",
    "\n",
    "for pregunta in datos['questions_answers']:\n",
    "    expected_response = pregunta.get('expected_response', None)\n",
    "    if expected_response:\n",
    "        expected_responses.append(expected_response)\n",
    "\n",
    "for response in expected_responses:\n",
    "    print(response)"
   ]
  },
  {
   "cell_type": "markdown",
   "id": "11c443e0",
   "metadata": {},
   "source": [
    "### Prueba con datos"
   ]
  },
  {
   "cell_type": "code",
   "execution_count": 4,
   "id": "f9cd6f9b",
   "metadata": {},
   "outputs": [
    {
     "name": "stdout",
     "output_type": "stream",
     "text": [
      "Data source role information : Eres un asistente de recursos humanos. Tu respuesta debe ser en español y debe siempre empezar por \n",
      "estimado colaborador\n",
      "messages : [\n",
      "    {\n",
      "        \"role\": \"user\",\n",
      "        \"content\": \"Sige los pasos que se indican a continuacion para responder a la pregunta delimitada por 4 hashtags: ####. Paso 1 : Si no dispone de los datos del colaborador, su respuesta debe seguir el siguiente formato: Estimado Baufesiano, para responder a su pregunta necesito la siguiente informacion enumera los datos que faltan y nada mas. Paso 2 : Si dispone de los datos del colaborador, utilice el nombre del colaborador en su respuesta. Paso 3 : Utilice las siguientes recomendaciones para su respuesta : Recomendaci\\u00f3n 1 : Utilice los datos del colaborador para filtrar la respuesta. Recomendaci\\u00f3n 2 : Muestre solo los resultados que tengan que ver con el pais de la unidad y la antiguedad en Baufest. Recomendaci\\u00f3n 3 : Si la respuesta es demasiado amplia, filtre la respuesta por el pais de la unidad y la antiguedad en Baufest. Recomendaci\\u00f3n 4 : Si la pregunta no es clara, pida mas detalles para responder. \\nDatos del colaborador: Nombre : Santiago Vilchis. Antiguedad en Baufest : 2 a\\u00f1os. Puesto : Desarrollador. Pais de la unidad : Argentina. ####\\u00bfCuales son los beneficios de trabajar en Baufest?#### \"\n",
      "    }\n",
      "]\n",
      "Estimado Santiago Vilchis, los beneficios de trabajar en Baufest varían según el país de la unidad y la antigüedad en la empresa. En Argentina, algunos de los beneficios incluyen el programa de salud BAU Health, el programa de almuerzos BAU Lunch, el programa de internet BAU Net y el programa de dólares BAU Dollar. Además, como desarrollador, puedes acceder a programas de capacitación y desarrollo profesional. Si desea más detalles sobre los beneficios específicos disponibles para su antigüedad y posición, por favor proporcione más detalles.\n"
     ]
    }
   ],
   "source": [
    "user_question=f\"\"\"\\\n",
    "¿Cuales son los beneficios de trabajar en Baufest?\"\"\"\n",
    "user_name=\"Santiago Vilchis\"\n",
    "user_seniority=\"2 años\"\n",
    "user_job=\"Desarrollador\"\n",
    "user_location=\"Argentina\"\n",
    "\n",
    "delimiter=\"####\"\n",
    "no_user_data_prefix=\"Estimado Baufesiano, para responder a su pregunta necesito la siguiente informacion\"\n",
    "\n",
    "user_message = f\"\"\"\\\n",
    "Sige los pasos que se indican a continuacion para responder a la pregunta delimitada por 4 hashtags: {delimiter}. \\\n",
    "Paso 1 : Si no dispone de los datos del colaborador, su respuesta debe seguir el siguiente formato: {no_user_data_prefix} \\\n",
    "enumera los datos que faltan y nada mas. \\\n",
    "Paso 2 : Si dispone de los datos del colaborador, utilice el nombre del colaborador en su respuesta. \\\n",
    "Paso 3 : Utilice las siguientes recomendaciones para su respuesta : \\\n",
    "Recomendación 1 : Utilice los datos del colaborador para filtrar la respuesta. \\\n",
    "Recomendación 2 : Muestre solo los resultados que tengan que ver con el pais de la unidad y la antiguedad en Baufest. \\\n",
    "Recomendación 3 : Si la respuesta es demasiado amplia, filtre la respuesta por el pais de la unidad y la antiguedad en Baufest. \\\n",
    "Recomendación 4 : Si la pregunta no es clara, pida mas detalles para responder. \\\n",
    "\\\n",
    "\n",
    "Datos del colaborador: \\\n",
    "Nombre : {user_name}. \\\n",
    "Antiguedad en Baufest : {user_seniority}. \\\n",
    "Puesto : {user_job}. \\\n",
    "Pais de la unidad : {user_location}. \\\n",
    "\\\n",
    "{delimiter}{user_question}{delimiter} \\\n",
    "\"\"\"\n",
    "messages =  [  \n",
    "{'role':'user', \n",
    " 'content': f\"{user_message}\"},  \n",
    "] \n",
    "\n",
    "max_retries = 20\n",
    "retry_count = 0\n",
    "\n",
    "while retry_count < max_retries:\n",
    "    try:\n",
    "        response = commons.get_completion_from_messages(messages)\n",
    "        respuestaOA = response\n",
    "        print(response)\n",
    "        break\n",
    "    except InvalidRequestError as e:\n",
    "        print(\"Caught InvalidRequestError:\", e)\n",
    "        retry_count += 1\n",
    "        if retry_count == max_retries:\n",
    "            print(\"Max retries reached. Unable to proceed.\")\n",
    "        else:\n",
    "            time.sleep(1)  "
   ]
  },
  {
   "cell_type": "code",
   "execution_count": 5,
   "id": "52b2289f",
   "metadata": {},
   "outputs": [
    {
     "name": "stdout",
     "output_type": "stream",
     "text": [
      "Respuesta OpenAi\n",
      "Estimado Santiago Vilchis, los beneficios de trabajar en Baufest varían según el país de la unidad y la antigüedad en la empresa. En Argentina, algunos de los beneficios incluyen el programa de salud BAU Health, el programa de almuerzos BAU Lunch, el programa de internet BAU Net y el programa de dólares BAU Dollar. Además, como desarrollador, puedes acceder a programas de capacitación y desarrollo profesional. Si desea más detalles sobre los beneficios específicos disponibles para su antigüedad y posición, por favor proporcione más detalles.\n",
      "Respuesta Esperada\n",
      "Las ventajas de trabajar en Baufest son las siguientes: BAU Dollar, posible 20% de salario en dólares; BAU Health, actividades deportivas; BAU net, pago internet; BAU Lunch, Baufest te paga el lunch; BAU Home, reintegro del costo de tu mudanza y Anti tráfico, ajustar el horario laboral.\n"
     ]
    }
   ],
   "source": [
    "respuesta_comparar = \"Las ventajas de trabajar en Baufest son las siguientes: BAU Dollar, posible 20% de salario en dólares; BAU Health, actividades deportivas; BAU net, pago internet; BAU Lunch, Baufest te paga el lunch; BAU Home, reintegro del costo de tu mudanza y Anti tráfico, ajustar el horario laboral.\"\n",
    "print(\"Respuesta OpenAi\")\n",
    "print(respuestaOA)\n",
    "print(\"Respuesta Esperada\")\n",
    "print(respuesta_comparar)"
   ]
  },
  {
   "cell_type": "code",
   "execution_count": 6,
   "id": "437c694f",
   "metadata": {},
   "outputs": [
    {
     "name": "stdout",
     "output_type": "stream",
     "text": [
      "Resultados guardados en 'resultados.json'\n",
      "[{'robot_answer': 'Estimado Santiago Vilchis, los beneficios de trabajar en Baufest varían según el país de la unidad y la antigüedad en la empresa. En Argentina, algunos de los beneficios incluyen el programa de salud BAU Health, el programa de almuerzos BAU Lunch, el programa de internet BAU Net y el programa de dólares BAU Dollar. Además, como desarrollador, puedes acceder a programas de capacitación y desarrollo profesional. Si desea más detalles sobre los beneficios específicos disponibles para su antigüedad y posición, por favor proporcione más detalles.', 'expected_answer': 'Estimado Fulanito Garza, una de las tantas ventajas de trabar en Baufest son las siguientes: BAU Dollar, donde recibes el beneficio del 20% de tu salario en dólares; BAU Health, reintegro del costo del gimnasio u otras actividades deportivas; BAU net, recibe una bonificación del costo del servicio de internet; BAU Lunch, Baufest te paga el lunch; BAU Home, se te reintegra el costo de la mudanza y Anti tráfico, tienes la posibilidad de ajustar tu horario laboral para evitar el tráfico.', 'SequenceMatcher_result': {'similar': 0, 'argument': 0.6}}, {'robot_answer': 'Estimado Santiago Vilchis, los beneficios de trabajar en Baufest varían según el país de la unidad y la antigüedad en la empresa. En Argentina, algunos de los beneficios incluyen el programa de salud BAU Health, el programa de almuerzos BAU Lunch, el programa de internet BAU Net y el programa de dólares BAU Dollar. Además, como desarrollador, puedes acceder a programas de capacitación y desarrollo profesional. Si desea más detalles sobre los beneficios específicos disponibles para su antigüedad y posición, por favor proporcione más detalles.', 'expected_answer': 'Sí, pero se requiere que el rango de horario laboral se mantenga por un mes', 'SequenceMatcher_result': {'similar': 0, 'argument': 0.6}}, {'robot_answer': 'Estimado Santiago Vilchis, los beneficios de trabajar en Baufest varían según el país de la unidad y la antigüedad en la empresa. En Argentina, algunos de los beneficios incluyen el programa de salud BAU Health, el programa de almuerzos BAU Lunch, el programa de internet BAU Net y el programa de dólares BAU Dollar. Además, como desarrollador, puedes acceder a programas de capacitación y desarrollo profesional. Si desea más detalles sobre los beneficios específicos disponibles para su antigüedad y posición, por favor proporcione más detalles.', 'expected_answer': 'Si, puedes presentar el contrato o escritura al nombre de otra persona, siempre que presentes un documento legal que respalde la convivencia, por ejemplo, como un certificado de concubinato, matrimonio o unión civil. Esto ayudará a garantizar que tu solicitud sea considerada de manera adecuada', 'SequenceMatcher_result': {'similar': 0, 'argument': 0.6}}, {'robot_answer': 'Estimado Santiago Vilchis, los beneficios de trabajar en Baufest varían según el país de la unidad y la antigüedad en la empresa. En Argentina, algunos de los beneficios incluyen el programa de salud BAU Health, el programa de almuerzos BAU Lunch, el programa de internet BAU Net y el programa de dólares BAU Dollar. Además, como desarrollador, puedes acceder a programas de capacitación y desarrollo profesional. Si desea más detalles sobre los beneficios específicos disponibles para su antigüedad y posición, por favor proporcione más detalles.', 'expected_answer': 'A través de la App de Pedidos ya (Menú/PedidosYa Pagos) verás las acreditaciones que tenes disponible para usar', 'SequenceMatcher_result': {'similar': 0, 'argument': 0.6}}, {'robot_answer': 'Estimado Santiago Vilchis, los beneficios de trabajar en Baufest varían según el país de la unidad y la antigüedad en la empresa. En Argentina, algunos de los beneficios incluyen el programa de salud BAU Health, el programa de almuerzos BAU Lunch, el programa de internet BAU Net y el programa de dólares BAU Dollar. Además, como desarrollador, puedes acceder a programas de capacitación y desarrollo profesional. Si desea más detalles sobre los beneficios específicos disponibles para su antigüedad y posición, por favor proporcione más detalles.', 'expected_answer': 'No la acreditación es semanal y se paga los viernes', 'SequenceMatcher_result': {'similar': 0, 'argument': 0.6}}, {'robot_answer': 'Estimado Santiago Vilchis, los beneficios de trabajar en Baufest varían según el país de la unidad y la antigüedad en la empresa. En Argentina, algunos de los beneficios incluyen el programa de salud BAU Health, el programa de almuerzos BAU Lunch, el programa de internet BAU Net y el programa de dólares BAU Dollar. Además, como desarrollador, puedes acceder a programas de capacitación y desarrollo profesional. Si desea más detalles sobre los beneficios específicos disponibles para su antigüedad y posición, por favor proporcione más detalles.', 'expected_answer': 'Sí, lo importante es que en el comprobante figure el mismo domicilio que en tu declaración de domicilio cargada en TuRecibo', 'SequenceMatcher_result': {'similar': 0, 'argument': 0.6}}, {'robot_answer': 'Estimado Santiago Vilchis, los beneficios de trabajar en Baufest varían según el país de la unidad y la antigüedad en la empresa. En Argentina, algunos de los beneficios incluyen el programa de salud BAU Health, el programa de almuerzos BAU Lunch, el programa de internet BAU Net y el programa de dólares BAU Dollar. Además, como desarrollador, puedes acceder a programas de capacitación y desarrollo profesional. Si desea más detalles sobre los beneficios específicos disponibles para su antigüedad y posición, por favor proporcione más detalles.', 'expected_answer': 'Claro, puedes cargar hasta 3 meses retroactivos', 'SequenceMatcher_result': {'similar': 0, 'argument': 0.6}}, {'robot_answer': 'Estimado Santiago Vilchis, los beneficios de trabajar en Baufest varían según el país de la unidad y la antigüedad en la empresa. En Argentina, algunos de los beneficios incluyen el programa de salud BAU Health, el programa de almuerzos BAU Lunch, el programa de internet BAU Net y el programa de dólares BAU Dollar. Además, como desarrollador, puedes acceder a programas de capacitación y desarrollo profesional. Si desea más detalles sobre los beneficios específicos disponibles para su antigüedad y posición, por favor proporcione más detalles.', 'expected_answer': 'Desafortunadamente no, es requisito la presentación de un comprobante con validez oficial', 'SequenceMatcher_result': {'similar': 0, 'argument': 0.6}}, {'robot_answer': 'Estimado Santiago Vilchis, los beneficios de trabajar en Baufest varían según el país de la unidad y la antigüedad en la empresa. En Argentina, algunos de los beneficios incluyen el programa de salud BAU Health, el programa de almuerzos BAU Lunch, el programa de internet BAU Net y el programa de dólares BAU Dollar. Además, como desarrollador, puedes acceder a programas de capacitación y desarrollo profesional. Si desea más detalles sobre los beneficios específicos disponibles para su antigüedad y posición, por favor proporcione más detalles.', 'expected_answer': 'No, el beneficio no es retroactivo, tiene que ser a partir del trimestre actual', 'SequenceMatcher_result': {'similar': 0, 'argument': 0.6}}, {'robot_answer': 'Estimado Santiago Vilchis, los beneficios de trabajar en Baufest varían según el país de la unidad y la antigüedad en la empresa. En Argentina, algunos de los beneficios incluyen el programa de salud BAU Health, el programa de almuerzos BAU Lunch, el programa de internet BAU Net y el programa de dólares BAU Dollar. Además, como desarrollador, puedes acceder a programas de capacitación y desarrollo profesional. Si desea más detalles sobre los beneficios específicos disponibles para su antigüedad y posición, por favor proporcione más detalles.', 'expected_answer': 'No, el porcentaje es únicamente el 20%', 'SequenceMatcher_result': {'similar': 0, 'argument': 0.6}}, {'robot_answer': 'Estimado Santiago Vilchis, los beneficios de trabajar en Baufest varían según el país de la unidad y la antigüedad en la empresa. En Argentina, algunos de los beneficios incluyen el programa de salud BAU Health, el programa de almuerzos BAU Lunch, el programa de internet BAU Net y el programa de dólares BAU Dollar. Además, como desarrollador, puedes acceder a programas de capacitación y desarrollo profesional. Si desea más detalles sobre los beneficios específicos disponibles para su antigüedad y posición, por favor proporcione más detalles.', 'expected_answer': 'No, el porcentaje es únicamente el 20%', 'SequenceMatcher_result': {'similar': 0, 'argument': 0.6}}, {'robot_answer': 'Estimado Santiago Vilchis, los beneficios de trabajar en Baufest varían según el país de la unidad y la antigüedad en la empresa. En Argentina, algunos de los beneficios incluyen el programa de salud BAU Health, el programa de almuerzos BAU Lunch, el programa de internet BAU Net y el programa de dólares BAU Dollar. Además, como desarrollador, puedes acceder a programas de capacitación y desarrollo profesional. Si desea más detalles sobre los beneficios específicos disponibles para su antigüedad y posición, por favor proporcione más detalles.', 'expected_answer': 'No, se accede a partir de cualquier nivel de ingreso', 'SequenceMatcher_result': {'similar': 0, 'argument': 0.6}}, {'robot_answer': 'Estimado Santiago Vilchis, los beneficios de trabajar en Baufest varían según el país de la unidad y la antigüedad en la empresa. En Argentina, algunos de los beneficios incluyen el programa de salud BAU Health, el programa de almuerzos BAU Lunch, el programa de internet BAU Net y el programa de dólares BAU Dollar. Además, como desarrollador, puedes acceder a programas de capacitación y desarrollo profesional. Si desea más detalles sobre los beneficios específicos disponibles para su antigüedad y posición, por favor proporcione más detalles.', 'expected_answer': 'La transferencia se hace desde BF USA IT Services Inc. La misma se hace mediante un pago por cuenta y orden de BF Argentina S.A.', 'SequenceMatcher_result': {'similar': 0, 'argument': 0.6}}, {'robot_answer': 'Estimado Santiago Vilchis, los beneficios de trabajar en Baufest varían según el país de la unidad y la antigüedad en la empresa. En Argentina, algunos de los beneficios incluyen el programa de salud BAU Health, el programa de almuerzos BAU Lunch, el programa de internet BAU Net y el programa de dólares BAU Dollar. Además, como desarrollador, puedes acceder a programas de capacitación y desarrollo profesional. Si desea más detalles sobre los beneficios específicos disponibles para su antigüedad y posición, por favor proporcione más detalles.', 'expected_answer': 'Hemos comprobado en los siguientes medios: HSBC, Citibank, Chase, Facebank, Wise, Payoneer y GrabrFi', 'SequenceMatcher_result': {'similar': 0, 'argument': 0.6}}, {'robot_answer': 'Estimado Santiago Vilchis, los beneficios de trabajar en Baufest varían según el país de la unidad y la antigüedad en la empresa. En Argentina, algunos de los beneficios incluyen el programa de salud BAU Health, el programa de almuerzos BAU Lunch, el programa de internet BAU Net y el programa de dólares BAU Dollar. Además, como desarrollador, puedes acceder a programas de capacitación y desarrollo profesional. Si desea más detalles sobre los beneficios específicos disponibles para su antigüedad y posición, por favor proporcione más detalles.', 'expected_answer': 'Recordá que siempre que quieras que depositemos tu sueldo en una cuenta diferente a la que tenemos registrada actualmente, deberás cargar la información a través de TuRecibo', 'SequenceMatcher_result': {'similar': 0, 'argument': 0.6}}]\n"
     ]
    }
   ],
   "source": [
    "def calcular_similitud(respuestaOA, expected_responses, umbral_similitud):\n",
    "    comparador = SequenceMatcher(None, respuestaOA, expected_responses)\n",
    "    similitud = comparador.ratio()\n",
    "\n",
    "    return similitud >= umbral_similitud\n",
    "\n",
    "def respuestas_similares(respuestaOA, expected_responses, umbral_similitud=0.6):\n",
    "    resultados = []\n",
    "\n",
    "    for expected_response in expected_responses:\n",
    "        similitud = calcular_similitud(respuestaOA, expected_response, umbral_similitud)\n",
    "        \n",
    "        resultado = {\n",
    "            \"robot_answer\": respuestaOA,\n",
    "            \"expected_answer\": expected_response,\n",
    "            \"SequenceMatcher_result\": {\n",
    "                \"similar\": int(similitud),\n",
    "                \"argument\": umbral_similitud\n",
    "            }\n",
    "        }\n",
    "\n",
    "        resultados.append(resultado)\n",
    "        \n",
    "\n",
    "    return resultados\n",
    "\n",
    "resultados = respuestas_similares(respuestaOA, expected_responses)\n",
    "\n",
    "with open(\"resultados.json\", \"w\") as archivo_resultados:\n",
    "    json.dump(resultados, archivo_resultados, indent=2)\n",
    "\n",
    "print(\"Resultados guardados en 'resultados.json'\")\n",
    "print(resultados)"
   ]
  },
  {
   "cell_type": "code",
   "execution_count": 7,
   "id": "1129734a",
   "metadata": {},
   "outputs": [
    {
     "data": {
      "image/png": "[encoded data removed]",
      "text/plain": [
       "<Figure size 1000x600 with 1 Axes>"
      ]
     },
     "metadata": {},
     "output_type": "display_data"
    }
   ],
   "source": [
    "with open(\"resultados.json\") as archivo_resultados:\n",
    "    informacion = json.load(archivo_resultados)\n",
    "    \n",
    "df = pd.DataFrame(informacion)\n",
    "\n",
    "num_respuestas = len(df)\n",
    "etiquetas_respuestas = [f\"Respuesta {i+1}\" for i in range(num_respuestas)]\n",
    "\n",
    "plt.figure(figsize=(10, 6))\n",
    "plt.bar(df.index, df['SequenceMatcher_result'].apply(lambda x: x['similar']), color=['green' if sim == 1 else 'red' for sim in df['SequenceMatcher_result'].apply(lambda x: x['similar'])])\n",
    "plt.title(\"Similitud de Respuestas\")\n",
    "plt.xlabel(\"Índice de Respuesta\")\n",
    "plt.ylabel(\"Similitud (1: Similar, 0: No Similar)\")\n",
    "plt.xticks(df.index, etiquetas_respuestas, rotation=45, ha=\"right\")\n",
    "plt.tight_layout()\n",
    "\n",
    "plt.show()"
   ]
  },
  {
   "cell_type": "code",
   "execution_count": 8,
   "id": "05dac64a",
   "metadata": {},
   "outputs": [
    {
     "ename": "NameError",
     "evalue": "name 'openai' is not defined",
     "output_type": "error",
     "traceback": [
      "\u001b[0;31m---------------------------------------------------------------------------\u001b[0m",
      "\u001b[0;31mNameError\u001b[0m                                 Traceback (most recent call last)",
      "Cell \u001b[0;32mIn[8], line 5\u001b[0m\n\u001b[1;32m      2\u001b[0m \u001b[38;5;28;01mfrom\u001b[39;00m \u001b[38;5;21;01mscipy\u001b[39;00m\u001b[38;5;21;01m.\u001b[39;00m\u001b[38;5;21;01mspatial\u001b[39;00m\u001b[38;5;21;01m.\u001b[39;00m\u001b[38;5;21;01mdistance\u001b[39;00m \u001b[38;5;28;01mimport\u001b[39;00m cosine\n\u001b[1;32m      4\u001b[0m \u001b[38;5;66;03m# Configura tu clave de API de OpenAI\u001b[39;00m\n\u001b[0;32m----> 5\u001b[0m openai\u001b[38;5;241m.\u001b[39mapi_key \u001b[38;5;241m=\u001b[39m \u001b[38;5;124m'\u001b[39m\u001b[38;5;124msk-oDTLCiCWgOSTsnA2qvZ4T3BlbkFJyqxqTWhDvsF21Yb1c7if\u001b[39m\u001b[38;5;124m'\u001b[39m\n\u001b[1;32m      7\u001b[0m \u001b[38;5;66;03m# Las respuestas a comparar\u001b[39;00m\n\u001b[1;32m      8\u001b[0m respuesta_generada \u001b[38;5;241m=\u001b[39m \u001b[38;5;124m\"\u001b[39m\u001b[38;5;124mEl sistema solar consta de ocho planetas que orbitan alrededor del Sol.\u001b[39m\u001b[38;5;124m\"\u001b[39m\n",
      "\u001b[0;31mNameError\u001b[0m: name 'openai' is not defined"
     ]
    }
   ],
   "source": []
  },
  {
   "cell_type": "code",
   "execution_count": null,
   "id": "3c8aae1b",
   "metadata": {},
   "outputs": [],
   "source": []
  }
 ],
 "metadata": {
  "kernelspec": {
   "display_name": "Python 3 (ipykernel)",
   "language": "python",
   "name": "python3"
  },
  "language_info": {
   "codemirror_mode": {
    "name": "ipython",
    "version": 3
   },
   "file_extension": ".py",
   "mimetype": "text/x-python",
   "name": "python",
   "nbconvert_exporter": "python",
   "pygments_lexer": "ipython3",
   "version": "3.11.5"
  }
 },
 "nbformat": 4,
 "nbformat_minor": 5
}
