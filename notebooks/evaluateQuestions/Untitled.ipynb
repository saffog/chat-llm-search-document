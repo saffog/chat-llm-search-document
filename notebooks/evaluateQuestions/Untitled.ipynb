{
 "cells": [
  {
   "cell_type": "code",
   "execution_count": 2,
   "id": "8c4fa6ff",
   "metadata": {},
   "outputs": [
    {
     "name": "stdout",
     "output_type": "stream",
     "text": [
      "[{'robot_answer': 'Las ventajas de trabajar en Baufest son las siguientes: BAU Dollar, posible 20% de salario en dólares; BAU Health, actividades deportivas; BAU net, pago internet; BAU Lunch, Baufest te paga el lunch; BAU Home, reintegro del costo de tu mudanza y Anti tráfico, ajustar el horario laboral.', 'expected_answer': 'Claro, puedes cargar hasta 3 meses retroactivosDesafortunadamente no, es requisito la presentación de un comprobante con validez oficial', 'SequenceMatcher_result': {'similar': 0, 'argument': 0.6}}, {'robot_answer': 'Las ventajas de trabajar en Baufest son las siguientes: BAU Dollar, posible 20% de salario en dólares; BAU Health, actividades deportivas; BAU net, pago internet; BAU Lunch, Baufest te paga el lunch; BAU Home, reintegro del costo de tu mudanza y Anti tráfico, ajustar el horario laboral.', 'expected_answer': 'Estimado Fulanito Garza, una de las tantas ventajas de trabar en Baufest son las siguientes: BAU Dollar, donde recibes el beneficio del 20% de tu salario en dólares; BAU Health, reintegro del costo del gimnasio u otras actividades deportivas; BAU net, recibe una bonificación del costo del servicio de internet; BAU Lunch, Baufest te paga el lunch; BAU Home, se te reintegra el costo de la mudanza y Anti tráfico, tienes la posibilidad de ajustar tu horario laboral para evitar el tráfico.', 'SequenceMatcher_result': {'similar': 1, 'argument': 0.6}}]\n"
     ]
    }
   ],
   "source": [
    "import nbimporter\n",
    "from Test import respuestas_similares\n",
    "\n",
    "respuesta_c = \"Las ventajas de trabajar en Baufest son las siguientes: BAU Dollar, posible 20% de salario en dólares; BAU Health, actividades deportivas; BAU net, pago internet; BAU Lunch, Baufest te paga el lunch; BAU Home, reintegro del costo de tu mudanza y Anti tráfico, ajustar el horario laboral.\"\n",
    "\n",
    "respuestaOA = [\n",
    "    \"Claro, puedes cargar hasta 3 meses retroactivos\",\n",
    "    \"Desafortunadamente no, es requisito la presentación de un comprobante con validez oficial\",\n",
    "    \"Estimado Fulanito Garza, una de las tantas ventajas de trabar en Baufest son las siguientes: BAU Dollar, donde recibes el beneficio del 20% de tu salario en dólares; BAU Health, reintegro del costo del gimnasio u otras actividades deportivas; BAU net, recibe una bonificación del costo del servicio de internet; BAU Lunch, Baufest te paga el lunch; BAU Home, se te reintegra el costo de la mudanza y Anti tráfico, tienes la posibilidad de ajustar tu horario laboral para evitar el tráfico.\"\n",
    "]\n",
    "\n",
    "resultado = respuestas_similares(respuesta_c, respuestaOA)\n",
    "\n",
    "print(resultado)"
   ]
  },
  {
   "cell_type": "code",
   "execution_count": null,
   "id": "f2c0787a",
   "metadata": {},
   "outputs": [],
   "source": []
  }
 ],
 "metadata": {
  "kernelspec": {
   "display_name": "Python 3 (ipykernel)",
   "language": "python",
   "name": "python3"
  },
  "language_info": {
   "codemirror_mode": {
    "name": "ipython",
    "version": 3
   },
   "file_extension": ".py",
   "mimetype": "text/x-python",
   "name": "python",
   "nbconvert_exporter": "python",
   "pygments_lexer": "ipython3",
   "version": "3.11.5"
  }
 },
 "nbformat": 4,
 "nbformat_minor": 5
}
