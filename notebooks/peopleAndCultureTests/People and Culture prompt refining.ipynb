{
 "cells": [
  {
   "cell_type": "markdown",
   "id": "78cf3a51",
   "metadata": {},
   "source": [
    "# Pruebas para que el modelo solicite datos del usuario relevantes para la consulta antes de responder\n",
    "\n",
    "Nótese que los conceptas que se usan son los siguientes:\n",
    "\n",
    "- Azure Open AI\n",
    "- Azure Search Service\n",
    "\n",
    "La idea detrás de estas pruebas es ir modificando el rol del user para solicitar datos relevantes en caso de que no existan.\n",
    "\n",
    "Importante por leer:\n",
    "\n",
    "- [Use your data AI search system message](https://learn.microsoft.com/en-us/azure/ai-services/openai/concepts/use-your-data?tabs=ai-search#system-message)\n",
    "- [System message templates](https://learn.microsoft.com/en-us/azure/ai-services/openai/concepts/system-message)\n",
    "- [Chain of thought prompting](https://learn.microsoft.com/en-us/azure/ai-services/openai/concepts/advanced-prompt-engineering?pivots=programming-language-chat-completions#chain-of-thought-prompting)"
   ]
  },
  {
   "cell_type": "code",
   "execution_count": 1,
   "id": "0406dac0",
   "metadata": {},
   "outputs": [],
   "source": [
    "import commons #Import commons methods and imports, please review commons.py"
   ]
  },
  {
   "cell_type": "code",
   "execution_count": 2,
   "id": "da977ef9",
   "metadata": {},
   "outputs": [
    {
     "name": "stdout",
     "output_type": "stream",
     "text": [
      "No variables to print\n"
     ]
    }
   ],
   "source": [
    "commons.print_required_variables(False)"
   ]
  },
  {
   "cell_type": "markdown",
   "id": "97d5eef4",
   "metadata": {},
   "source": [
    "Prueba de base, sin modificaciones"
   ]
  },
  {
   "cell_type": "code",
   "execution_count": 3,
   "id": "13703515",
   "metadata": {},
   "outputs": [
    {
     "name": "stdout",
     "output_type": "stream",
     "text": [
      "Data source role information : Eres un asistente de recursos humanos. Tu respuesta debe ser en español y debe siempre empezar por estimado colaborador\n",
      "messages : [\n",
      "    {\n",
      "        \"role\": \"user\",\n",
      "        \"content\": \"Lista los beneficios de Baufest\"\n",
      "    }\n",
      "]\n",
      "Estimado colaborador, Baufest ofrece varios beneficios a sus empleados en diferentes áreas. A continuación, se detallan algunos de ellos:\n",
      "\n",
      "- BAU Lunch (LATAM): Este beneficio ofrece a los empleados de Argentina, Perú y Chile la posibilidad de recibir acreditaciones para almuerzos a través de la App de PedidosYa o Tickets Restaurant emitidos por Edenred. La acreditación es semanal en Argentina y Perú, y mensual en Uruguay. [doc1]\n",
      "- BAU Health (LATAM): Este beneficio permite a los empleados de América Latina solicitar el reembolso de actividades físicas realizadas en el trimestre correspondiente, siempre y cuando cumplan con los requisitos establecidos. [doc3]\n",
      "- BAU Net (LATAM): Este beneficio ofrece a los empleados de América Latina la posibilidad de solicitar el reembolso de servicios de internet. [doc3]\n",
      "- BAU Dollar: Este beneficio ofrece a los empleados la posibilidad de recibir su salario en dólares, y brinda información sobre los medios de pago sugeridos y validados por Baufest. [doc2]\n",
      "- Anti Tráfico (LATAM): Este beneficio permite a los empleados de América Latina elegir un rango horario para evitar el tráfico en sus traslados al trabajo. [doc1]\n",
      "- Otros beneficios: Baufest también ofrece otros beneficios, como el reembolso de gastos de guardería, la posibilidad de trabajar desde casa, entre otros. \n",
      "\n",
      "Es importante tener en cuenta que algunos de estos beneficios pueden tener requisitos específicos para su aplicación. Por lo tanto, se recomienda consultar la documentación correspondiente para obtener más información. [doc2]\n"
     ]
    }
   ],
   "source": [
    "user_message = f\"\"\"\\\n",
    "Lista los beneficios de Baufest\"\"\"\n",
    "\n",
    "messages =  [  \n",
    "{'role':'user', \n",
    " 'content': f\"{user_message}\"},  \n",
    "] \n",
    "\n",
    "response = commons.get_completion_from_messages(messages,show_completion=False)\n",
    "print(response)"
   ]
  },
  {
   "cell_type": "code",
   "execution_count": 4,
   "id": "f6280375",
   "metadata": {},
   "outputs": [
    {
     "name": "stdout",
     "output_type": "stream",
     "text": [
      "Data source role information : Eres un asistente de recursos humanos. Tu respuesta debe ser en español y debe siempre empezar por estimado colaborador\n",
      "messages : [\n",
      "    {\n",
      "        \"role\": \"user\",\n",
      "        \"content\": \"Lista los beneficios de Baufest\"\n",
      "    }\n",
      "]\n",
      "{\n",
      "  \"choices\": [\n",
      "    {\n",
      "      \"finish_reason\": \"stop\",\n",
      "      \"index\": 0,\n",
      "      \"message\": {\n",
      "        \"content\": \"Estimado colaborador, Baufest ofrece varios beneficios a sus empleados en diferentes \\u00e1reas. A continuaci\\u00f3n, se detallan algunos de ellos:\\n\\n- BAU Lunch (LATAM): Este beneficio ofrece a los empleados de Argentina, Per\\u00fa y Chile la posibilidad de recibir acreditaciones para almuerzos a trav\\u00e9s de la App de PedidosYa o Tickets Restaurant emitidos por Edenred. La acreditaci\\u00f3n es semanal en Argentina y Per\\u00fa, y mensual en Uruguay. [doc1]\\n- BAU Health (LATAM): Este beneficio permite a los empleados de Am\\u00e9rica Latina solicitar el reembolso de actividades f\\u00edsicas realizadas en el trimestre correspondiente, siempre y cuando cumplan con los requisitos establecidos. [doc3]\\n- BAU Net (LATAM): Este beneficio ofrece a los empleados de Am\\u00e9rica Latina la posibilidad de solicitar el reembolso de servicios de internet. [doc3]\\n- BAU Dollar: Este beneficio ofrece a los empleados la posibilidad de recibir su salario en d\\u00f3lares, y brinda informaci\\u00f3n sobre los medios de pago sugeridos y validados por Baufest. [doc2]\\n- Anti Tr\\u00e1fico (LATAM): Este beneficio permite a los empleados de Am\\u00e9rica Latina elegir un rango horario para evitar el tr\\u00e1fico en sus traslados al trabajo. [doc1]\\n\\nEs importante tener en cuenta que estos beneficios pueden estar sujetos a ciertas condiciones y requisitos espec\\u00edficos. Para obtener m\\u00e1s informaci\\u00f3n, se recomienda consultar los documentos recuperados. [doc2]\",\n",
      "        \"context\": {\n",
      "          \"messages\": [\n",
      "            {\n",
      "              \"content\": \"{\\\"citations\\\": [{\\\"content\\\": \\\"net/wiki/spaces/MDPB/pages/3334439043/BAU+LUNCH+LATAM\\\\nhttps://baufest.atlassian.net/wiki/spaces/MDPB/pages/3334439043/BAU+LUNCH+LATAM#4.3-Valores-de-las-acreditaciones\\\\n\\\\n  CL/ UY \\u2192 La acreditaci\\u00f3n es mensual. \\\\n\\\\n39. Si un viernes es feriado \\u00bfel cup\\u00f3n de Pedidos Ya se acredita?  \\\\n\\\\nS\\u00ed, se acredita \\\\n\\\\n \\\\n\\\\nBAU HOME (LATAM)  \\\\n\\\\n \\\\n\\\\n40. Quiero aplicar al beneficio, pero mi escritura/contrato de alquiler est\\u00e1 a nombre de otra \\\\n\\\\npersona. \\u00bfPuedo presentarlo de todas maneras?  \\\\n\\\\nSi, puedes presentar el contrato o escritura al nombre de otra persona, siempre que \\\\n\\\\npresentes un documento legal que respalde la convivencia, por ejemplo, como un \\\\n\\\\ncertificado de concubinato, matrimonio o uni\\u00f3n civil. Esto ayudar\\u00e1 a garantizar que tu \\\\n\\\\nsolicitud sea considerada de manera adecuada. \\\\n\\\\n \\\\n\\\\n41. Me mud\\u00e9 con un familiar/amig@ y no cuento con escritura/contrato de alquiler \\u00bfPuedo \\\\n\\\\naplicar al beneficio?  \\\\n\\\\nLa \\u00fanica manera de aplicar al beneficio es cumpliendo con los 3 requisitos detallados a \\\\n\\\\ncontinuaci\\u00f3n: \\\\n\\\\n \\\\n\\\\n\\u2022 Tener una antig\\u00fcedad en Baufest de 2 (dos) a\\u00f1os al momento de la solicitud del \\\\n\\\\nbeneficio \\\\n\\\\n \\\\n\\\\n\\u2022 Presentar copia del contrato de alquiler o escritura al nombre de el/la \\\\n\\\\nBaufesian@ y/o documento legal que respalde convivencia. \\\\n\\\\n \\\\n\\\\n\\u2022 Presentar una copia del documento de identidad donde conste el cambio de \\\\n\\\\ndomicilio o en su defecto un servicio a su nombre o certificado policial. \\\\n\\\\n \\\\n\\\\n\\u2022  \\\\n\\\\nANTI TR\\u00c1FICO (LATAM) \\\\n\\\\n42.  \\u00bfEs posible cambiar el rango de horario una vez que ya opt\\u00e9 por uno? \\\\n\\\\n S\\u00ed, es posible, aunque para una fluida organizaci\\u00f3n esperamos que una vez optado por un \\\\n\\\\nrango se mantenga estable por al menos un mes \\\\n\\\\n \\\\n\\\\nhttps://baufest.atlassian.net/wiki/spaces/MDPB/pages/3381133793/BAU+HOME+LATAM\\\\nhttps://baufest.atlassian.net/wiki/spaces/MDPB/pages/3381166773/ANTI+TR+FICO+LATAM\\\", \\\"id\\\": null, \\\"title\\\": \\\"BAU DOLLAR\\\", \\\"filepath\\\": \\\"P_C_Preguntas_frecuentes.pdf\\\", \\\"url\\\": \\\"https://stmoww6huavlklg.blob.core.windows.net/fileupload-people-culture-faq/P_C_Preguntas_frecuentes.pdf\\\", \\\"metadata\\\": {\\\"chunking\\\": \\\"orignal document size=741. Scores=0.49164894223213196Org Highlight count=1.\\\"}, \\\"chunk_id\\\": \\\"0\\\"}, {\\\"content\\\": \\\"Siempre es recomendable consultar la tabla de comisiones o con el ejecutivo \\\\n\\\\nde cuenta regularmente. \\\\n\\\\n \\\\n\\\\n \\\\n\\\\n \\\\n\\\\n24. Si abro una cuenta sueldo en el Banco HSBC en Argentina, \\u00bfQu\\u00e9 sucede con mi cuenta \\\\n\\\\nsueldo actual?  \\\\n\\\\nPodes optar por cerrarla (es un tr\\u00e1mite que debes realizar en forma personal) o \\\\n\\\\nmantenerla abierta aceptando las condiciones que establezca tu banco. \\\\n\\\\nRecord\\u00e1 que siempre que quieras que depositemos tu sueldo en una cuenta diferente a \\\\n\\\\nla que tenemos registrada actualmente, deber\\u00e1s cargar la informaci\\u00f3n a trav\\u00e9s de \\\\n\\\\nTuRecibo. \\\\n\\\\n \\\\n\\\\n \\\\n\\\\n25. \\u00bfPuedo abrir una cuenta en otro banco o plataforma diferente a las que figuran en el \\\\n\\\\nproceso? \\\\n\\\\n S\\u00ed, las cuentas de HSBC, Facebank, Wise y Grabr FI son sugerencias, validadas y probadas. \\\\n\\\\nSe puede usar cualquier banco o entidad bancaria que opere en territorio de USA. Es \\\\n\\\\nimportante tener presente que no se puede hacer la transferencia a billeteras virtuales, \\\\n\\\\ncuentas comitentes o plataformas no bancarias. Es necesario si o si hacer la transferencia \\\\n\\\\na una cuenta bancaria, a nombre del empleado. \\\\n\\\\n \\\\n\\\\n \\\\n\\\\n26. \\u00bfEn que Bancos o Plataformas es posible abrir mi cuenta para utilizar este beneficio? \\\\n\\\\nHemos validado el funcionamiento de los siguientes medios de pago argentina. Se \\\\n\\\\nrecomienda consultar peri\\u00f3dicamente los costos, pueden sufrir modificaciones. \\\\n\\\\n \\\\n\\\\nMedio probados Costos / Requisitos \\\\nHSBC Sin costo para recibir los fondos, si se posee \\\\n\\\\nuna cuenta premier en Argentina. \\\\n \\\\n\\\\nOtros bancos, como Citibank, \\\\nChase \\\\n\\\\nDepende de la cuenta, puede tener o no costo \\\\npara recibir fondos. \\\\n \\\\n\\\\nFacebank USD 15 por cada recepci\\u00f3n de fondos. USd 30 \\\\npor cada retiro de fondos. \\\\n \\\\n\\\\nWise \\u2022 USD 7,5 por cada recepci\\u00f3n de fondos \\\\nen USA. \\\\n\\\\n \\\\nRequiere un pago inicial desde USA para la \\\\napertura, a cargo del colaborador (Baufest \\\\ncolabora con esta primera transacci\\u00f3n para \\\\nfacilitarte la apertura). \\\\n \\\\n\\\\n\\u2022 Comisi\\u00f3n variable para el env\\u00edo de USD \\\\ndesde USA a Argentina seg\\u00fan monto \\\\nque se desee transferir. \\\\n\\\\nPayoneer No podemos utilizarla para este beneficio \\\\nactualmente. Les informaremos si esto \\\\ncambia. \\\\n\\\\nGrabrFi \\u2022 Apertura de cuenta = $0 \\\\n \\\\n\\\\n\\u2022 Cierre de cuenta = $0 \\\\n \\\\n\\\\n\\u2022 Mantenimiento mensual = $0 \\\\n \\\\n\\\\n\\u2022 Recepci\\u00f3n fondos USA = $5 \\\\n \\\\n\\\\n\\u2022 Wiere transferencia en USA  = $15 \\\\n \\\\n\\\\n\\u2022 ACH transferencia USA= $0 hasta 72 hs \\\\no $1 en el d\\u00eda. \\\\n\\\\n \\\\n\\\\n\\u2022 Transferencia internacional entrante = \\\\n$ 40 \\\\n\\\\n \\\\n\\\\n\\u2022 Transferencia internacional saliente = \\\\n$45 \\\\n\\\\n \\\\n\\\\nBAU HEALTH (LATAM) \\\\n\\\\n \\\\n\\\\n27\\\", \\\"id\\\": null, \\\"title\\\": \\\"BAU DOLLAR\\\", \\\"filepath\\\": \\\"P_C_Preguntas_frecuentes.pdf\\\", \\\"url\\\": \\\"https://stmoww6huavlklg.blob.core.windows.net/fileupload-people-culture-faq/P_C_Preguntas_frecuentes.pdf\\\", \\\"metadata\\\": {\\\"chunking\\\": \\\"orignal document size=969. Scores=0.4308651089668274Org Highlight count=1.\\\"}, \\\"chunk_id\\\": \\\"1\\\"}, {\\\"content\\\": \\\"Empec\\u00e9 a realizar una actividad en el trimestre anterior al actual \\u00bfEl beneficio es \\\\n\\\\nretroactivo?  \\\\n\\\\nNo es retroactivo, es v\\u00e1lido a partir de que comenz\\u00f3 el trimestre correspondiente. \\\\n\\\\n \\\\n\\\\n28. El establecimiento a donde realiz\\u00f3 actividad no me da comprobante \\u00bfQu\\u00e9 puedo hacer? \\\\n\\\\nPara gozar del beneficio es requisito la presentaci\\u00f3n de un comprobante de validez legal. \\\\n\\\\n \\\\n\\\\n29. Los comprobantes por presentar \\u00bfTienen que ser de meses consecutivos?  \\\\n\\\\nNo es necesario, pero las fechas deben coincidir con el Q vigente. \\\\n\\\\n \\\\n\\\\n30. \\u00bfPuedo ir cargando los comprobantes mes a mes?  \\\\n\\\\nPara cada trimestre deber\\u00e1 haber un solo registro y mes a mes puedes editarlo cargando \\\\n\\\\nel comprobante del mes correspondiente. \\\\n\\\\nhttps://baufest.atlassian.net/wiki/spaces/MDPB/pages/3181314311/BAU+HEALTH+LATAM\\\\n\\\\n \\\\n\\\\n31. Pagu\\u00e9 semestral/anualmente las actividades f\\u00edsicas que realizo \\u00bfPuedo presentar esa \\\\n\\\\n\\u00fanica factura como comprobante?  \\\\n\\\\nSi, es v\\u00e1lido mientras en el comprobante quede explicitado la modalidad de pago y a que \\\\n\\\\nmeses abarca.  \\\\n\\\\n \\\\n\\\\nBAU NET (LATAM) \\\\n\\\\n32. El comprobante a rendir no est\\u00e1 a mi nombre \\u00bfpuedo rendirlo igual? \\\\n\\\\n S\\u00ed, lo importante es que en el comprobante figure el mismo domicilio que en tu \\\\n\\\\nDeclaraci\\u00f3n de domicilio cargada en TuRecibo. \\\\n\\\\n \\\\n\\\\n33. En el comprobante a rendir figuran otros conceptos adem\\u00e1s del de Internet \\u00bfc\\u00f3mo debo \\\\n\\\\ncargar mi solicitud para que sea v\\u00e1lida?  \\\\n\\\\nEn la rendici\\u00f3n deber\\u00e1s indicar solo el importe que haga referencia al servicio de Internet. \\\\n\\\\n \\\\n\\\\n34. Me he olvido de registrar mi solicitud BAU-NET \\u00bfpuedo cargarla de todos modos?  \\\\n\\\\n\\u00a1Claro! podr\\u00e1s cargar hasta 3 meses retroactivos de BAU-NET \\\\n\\\\n \\\\n\\\\nBAU LUNCH (LATAM)  \\\\n\\\\n35. \\u00bfEs necesario registrarse en alg\\u00fan lado?  \\\\n\\\\n AR/ PE \\u2192 S\\u00ed, deber\\u00e1s registrarte en la App de PedidosYa y para ello recibir\\u00e1s en tu casilla de \\\\n\\\\nBaufest un mail de PedidosYa con las instrucciones para hacerlo.  \\\\n\\\\n  CL/ UY \\u2192 No, no es necesario. \\\\n\\\\n36. \\u00bfC\\u00f3mo obtengo mi almuerzo?  \\\\n\\\\nAR/ PE \\u2192 A trav\\u00e9s de la App de Pedidos ya (Men\\u00fa/PedidosYa Pagos) ver\\u00e1s las \\\\n\\\\nacreditaciones que tenes disponible para usar.  \\\\n\\\\nCL \\u2192 A trav\\u00e9s de Tickets Restaurant emitidos por Edenred.  \\\\n\\\\nUY \\u2192 Mensualmente se te acreditar\\u00e1 un importe destinado para este fin y lo veras \\\\n\\\\nreflejado en tu recibo de sueldo. \\\\n\\\\n \\\\n\\\\n37. \\u00bfCu\\u00e1les son los valores de las acreditaciones?  \\\\n\\\\nPodr\\u00e1s consultar el valor del beneficio ingresando aqu\\u00ed.  \\\\n\\\\n \\\\n\\\\n38. Periodicidad de las acreditaciones  \\\\n\\\\n  AR/ PE \\u2192 La acreditaci\\u00f3n ser\\u00e1 semanal, los viernes.  \\\\n\\\\nhttps://baufest.atlassian.net/wiki/spaces/MDPB/pages/3334668294/BAU+NET+LATAM\\\\nhttps://baufest.atlassian\\\", \\\"id\\\": null, \\\"title\\\": \\\"BAU DOLLAR\\\", \\\"filepath\\\": \\\"P_C_Preguntas_frecuentes.pdf\\\", \\\"url\\\": \\\"https://stmoww6huavlklg.blob.core.windows.net/fileupload-people-culture-faq/P_C_Preguntas_frecuentes.pdf\\\", \\\"metadata\\\": {\\\"chunking\\\": \\\"orignal document size=1015. Scores=0.36743640899658203Org Highlight count=1.\\\"}, \\\"chunk_id\\\": \\\"2\\\"}], \\\"intent\\\": \\\"[\\\\\\\"What are the benefits of Baufest?\\\\\\\", \\\\\\\"What advantages does Baufest offer?\\\\\\\", \\\\\\\"What makes Baufest a good company to work for?\\\\\\\"]\\\"}\",\n",
      "              \"end_turn\": false,\n",
      "              \"role\": \"tool\"\n",
      "            }\n",
      "          ]\n",
      "        },\n",
      "        \"end_turn\": true,\n",
      "        \"role\": \"assistant\"\n",
      "      }\n",
      "    }\n",
      "  ],\n",
      "  \"created\": 1706644693,\n",
      "  \"id\": \"41a899f3-af07-448d-9907-9385962b1238\",\n",
      "  \"model\": \"gpt-35-turbo\",\n",
      "  \"object\": \"extensions.chat.completion\",\n",
      "  \"usage\": {\n",
      "    \"completion_tokens\": 378,\n",
      "    \"prompt_tokens\": 6248,\n",
      "    \"total_tokens\": 6626\n",
      "  }\n",
      "}\n"
     ]
    }
   ],
   "source": [
    "user_message = f\"\"\"\\\n",
    "Lista los beneficios de Baufest\"\"\"\n",
    "\n",
    "messages =  [  \n",
    "{'role':'user', \n",
    " 'content': f\"{user_message}\"},  \n",
    "] \n",
    "\n",
    "completion = commons.get_completion_from_messages(messages,show_completion=False, return_completion=True)\n",
    "print(completion)"
   ]
  },
  {
   "cell_type": "markdown",
   "id": "aa804db4",
   "metadata": {},
   "source": [
    "### Modifiquemos el prompt del _role user_ solamente"
   ]
  },
  {
   "cell_type": "code",
   "execution_count": 5,
   "id": "3e5268f4",
   "metadata": {},
   "outputs": [],
   "source": [
    "delimiter=\"####\"\n",
    "user_question=f\"\"\"\\\n",
    "Lista los beneficios de Baufest\"\"\"\n",
    "user_message = f\"\"\"\\\n",
    "Responde la pregunta delimitada por 4 hashtags, i.e. {delimiter}. \\\n",
    "{delimiter}{user_question}{delimiter} \\\n",
    "\"\"\"\n",
    "messages =  [  \n",
    "{'role':'user', \n",
    " 'content': f\"{user_message}\"},  \n",
    "] \n"
   ]
  },
  {
   "cell_type": "code",
   "execution_count": 6,
   "id": "5c343a74",
   "metadata": {},
   "outputs": [
    {
     "name": "stdout",
     "output_type": "stream",
     "text": [
      "Data source role information : Eres un asistente de recursos humanos. Tu respuesta debe ser en español y debe siempre empezar por estimado colaborador\n",
      "messages : [\n",
      "    {\n",
      "        \"role\": \"user\",\n",
      "        \"content\": \"Responde la pregunta delimitada por 4 hashtags, i.e. ####. ####Lista los beneficios de Baufest#### \"\n",
      "    }\n",
      "]\n",
      "Estimado colaborador, Baufest ofrece varios beneficios a sus empleados en LATAM, entre ellos se encuentran: BAU Lunch, BAU Health, BAU Net y BAU Dollar[doc1][doc2][doc3]. Cada uno de estos beneficios tiene diferentes características y requisitos, por lo que te recomiendo revisar los documentos correspondientes para obtener más información.\n"
     ]
    }
   ],
   "source": [
    "response = commons.get_completion_from_messages(messages)\n",
    "print(response)"
   ]
  },
  {
   "cell_type": "code",
   "execution_count": 7,
   "id": "c02b89c7",
   "metadata": {},
   "outputs": [],
   "source": [
    "delimiter=\"####\"\n",
    "user_question=f\"\"\"\\\n",
    "Lista los beneficios de Baufest\"\"\"\n",
    "user_message = f\"\"\"\\\n",
    "Responde la pregunta delimitada por 4 hashtags, i.e. {delimiter}. \\\n",
    "{delimiter}{user_question}{delimiter} \\\n",
    "\\\n",
    "Si no tienes los siguientes datos: Nombre, antigüedad del puesto, puesto y país de la unidad, antes de responder \\\n",
    "solicita estos datos al usuario.\"\"\"\n",
    "messages =  [  \n",
    "{'role':'user', \n",
    " 'content': f\"{user_message}\"},  \n",
    "] \n"
   ]
  },
  {
   "cell_type": "code",
   "execution_count": 8,
   "id": "42b7982d",
   "metadata": {},
   "outputs": [
    {
     "name": "stdout",
     "output_type": "stream",
     "text": [
      "Data source role information : Eres un asistente de recursos humanos. Tu respuesta debe ser en español y debe siempre empezar por estimado colaborador\n",
      "messages : [\n",
      "    {\n",
      "        \"role\": \"user\",\n",
      "        \"content\": \"Responde la pregunta delimitada por 4 hashtags, i.e. ####. ####Lista los beneficios de Baufest#### Si no tienes los siguientes datos: Nombre, antig\\u00fcedad del puesto, puesto y pa\\u00eds de la unidad, antes de responder solicita estos datos al usuario.\"\n",
      "    }\n",
      "]\n",
      "Estimado colaborador, para poder responder tu pregunta de manera precisa, necesito que me proporciones algunos datos adicionales como tu nombre, antigüedad en el puesto, puesto y país de la unidad. Una vez que tenga esta información, estaré encantado de proporcionarte una lista de los beneficios de Baufest.\n"
     ]
    }
   ],
   "source": [
    "response = commons.get_completion_from_messages(messages)\n",
    "print(response)"
   ]
  },
  {
   "cell_type": "code",
   "execution_count": 9,
   "id": "c130169f",
   "metadata": {},
   "outputs": [],
   "source": [
    "user_question=f\"\"\"\\\n",
    "¿Cuál es el Beneficio de BAU lunch?\"\"\"\n",
    "\n",
    "delimiter=\"####\"\n",
    "user_message = f\"\"\"\\\n",
    "Responde la pregunta delimitada por 4 hashtags, i.e. {delimiter}. \\\n",
    "{delimiter}{user_question}{delimiter} \\\n",
    "\\\n",
    "Si no tienes los siguientes datos: Nombre, antigüedad del puesto, puesto y país de la unidad, antes de responder \\\n",
    "solicita estos datos al usuario.\"\"\"\n",
    "messages =  [  \n",
    "{'role':'user', \n",
    " 'content': f\"{user_message}\"},  \n",
    "] \n"
   ]
  },
  {
   "cell_type": "code",
   "execution_count": 11,
   "id": "fd01287a",
   "metadata": {},
   "outputs": [
    {
     "name": "stdout",
     "output_type": "stream",
     "text": [
      "Data source role information : Eres un asistente de recursos humanos. Tu respuesta debe ser en español y debe siempre empezar por estimado colaborador\n",
      "messages : [\n",
      "    {\n",
      "        \"role\": \"user\",\n",
      "        \"content\": \"Responde la pregunta delimitada por 4 hashtags, i.e. ####. ####\\u00bfCu\\u00e1l es el Beneficio de BAU lunch?#### Si no tienes los siguientes datos: Nombre, antig\\u00fcedad del puesto, puesto y pa\\u00eds de la unidad, antes de responder solicita estos datos al usuario.\"\n",
      "    }\n",
      "]\n",
      "Estimado colaborador, para poder responder a su pregunta sobre el Beneficio de BAU lunch, necesito que me proporcione su nombre, antigüedad en el puesto, puesto y país de la unidad. Sin esta información, no puedo brindarle una respuesta precisa y completa. Quedo a la espera de su respuesta.\n"
     ]
    }
   ],
   "source": [
    "response = commons.get_completion_from_messages(messages)\n",
    "print(response)"
   ]
  },
  {
   "cell_type": "code",
   "execution_count": 12,
   "id": "794bee62",
   "metadata": {},
   "outputs": [],
   "source": [
    "user_question=f\"\"\"\\\n",
    "¿Cuál es el Beneficio de BAU lunch?\"\"\"\n",
    "user_name=\"\"\n",
    "user_seniority=\"\"\n",
    "user_position=\"\"\n",
    "user_country=\"\"\n",
    "\n",
    "delimiter=\"####\"\n",
    "user_message = f\"\"\"\\\n",
    "Responde la pregunta delimitada por 4 hashtags, i.e. {delimiter}. \\\n",
    "{delimiter}{user_question}{delimiter} \\\n",
    "Teniendo en cuenta los siguientes datos:\\\n",
    "- Nombre :{user_name}\\\n",
    "- Antigüedad en el puesto : {user_seniority}\\\n",
    "- Puesto : {user_position}\\\n",
    "- País de la unidad : {user_country}\\\n",
    "\\\n",
    "Si no tienes los siguientes datos: Nombre, antigüedad en el puesto, puesto y país de la unidad, antes de responder \\\n",
    "solicita estos datos al usuario.\"\"\"\n",
    "messages =  [  \n",
    "{'role':'user', \n",
    " 'content': f\"{user_message}\"},  \n",
    "] \n"
   ]
  },
  {
   "cell_type": "code",
   "execution_count": 15,
   "id": "5621b272",
   "metadata": {},
   "outputs": [
    {
     "name": "stdout",
     "output_type": "stream",
     "text": [
      "Data source role information : Eres un asistente de recursos humanos. Tu respuesta debe ser en español y debe siempre empezar por estimado colaborador\n",
      "messages : [\n",
      "    {\n",
      "        \"role\": \"user\",\n",
      "        \"content\": \"Responde la pregunta delimitada por 4 hashtags, i.e. ####. ####\\u00bfCu\\u00e1l es el Beneficio de BAU lunch?#### Teniendo en cuenta los siguientes datos:- Nombre :- Antig\\u00fcedad en el puesto : - Puesto : - Pa\\u00eds de la unidad : Si no tienes los siguientes datos: Nombre, antig\\u00fcedad en el puesto, puesto y pa\\u00eds de la unidad, antes de responder solicita estos datos al usuario.\"\n",
      "    }\n",
      "]\n",
      "Estimado colaborador, para poder responder a tu pregunta sobre el Beneficio de BAU lunch, necesito que me proporciones los siguientes datos: Nombre, antigüedad en el puesto, puesto y país de la unidad. Sin esta información, no puedo brindarte una respuesta precisa. Por favor, proporciónamelos para poder ayudarte mejor.\n"
     ]
    }
   ],
   "source": [
    "response = commons.get_completion_from_messages(messages)\n",
    "print(response)"
   ]
  },
  {
   "cell_type": "code",
   "execution_count": 16,
   "id": "92920d3c",
   "metadata": {},
   "outputs": [],
   "source": [
    "user_question=f\"\"\"\\\n",
    "¿Cuál es el Beneficio de BAU lunch?\"\"\"\n",
    "user_name=\"Alfonso Freddy\"\n",
    "user_seniority=\"5 años\"\n",
    "user_position=\"Desarrollador Full Stack\"\n",
    "user_country=\"Uruguay\"\n",
    "\n",
    "delimiter=\"####\"\n",
    "user_message = f\"\"\"\\\n",
    "Responde la pregunta delimitada por 4 hashtags, i.e. {delimiter}. \\\n",
    "{delimiter}{user_question}{delimiter} \\\n",
    "Teniendo en cuenta los siguientes datos del colaborador:\\\n",
    "Nombre :{user_name}\\\n",
    "Antigüedad en el puesto : {user_seniority}\\\n",
    "Puesto : {user_position}\\\n",
    "País de la unidad : {user_country}\\\n",
    "\\\n",
    "Si no tienes los siguientes datos: Nombre, antigüedad en el puesto, puesto y país de la unidad, antes de responder \\\n",
    "solicita estos datos al usuario.\"\"\"\n",
    "messages =  [  \n",
    "{'role':'user', \n",
    " 'content': f\"{user_message}\"},  \n",
    "] \n"
   ]
  },
  {
   "cell_type": "code",
   "execution_count": 19,
   "id": "afb60d2a",
   "metadata": {},
   "outputs": [
    {
     "name": "stdout",
     "output_type": "stream",
     "text": [
      "Data source role information : Eres un asistente de recursos humanos. Tu respuesta debe ser en español y debe siempre empezar por estimado colaborador\n",
      "messages : [\n",
      "    {\n",
      "        \"role\": \"user\",\n",
      "        \"content\": \"Responde la pregunta delimitada por 4 hashtags, i.e. ####. ####\\u00bfCu\\u00e1l es el Beneficio de BAU lunch?#### Teniendo en cuenta los siguientes datos del colaborador:Nombre :Alfonso FreddyAntig\\u00fcedad en el puesto : 5 a\\u00f1osPuesto : Desarrollador Full StackPa\\u00eds de la unidad : UruguaySi no tienes los siguientes datos: Nombre, antig\\u00fcedad en el puesto, puesto y pa\\u00eds de la unidad, antes de responder solicita estos datos al usuario.\"\n",
      "    }\n",
      "]\n",
      "Estimado colaborador, el beneficio de BAU Lunch en Uruguay consiste en una acreditación mensual que se reflejará en tu recibo de sueldo y que podrás utilizar para obtener tickets restaurant emitidos por Edenred[doc1][doc2]. Para aplicar al beneficio, es necesario cumplir con ciertos requisitos, como tener una antigüedad en Baufest de al menos 2 años al momento de la solicitud y presentar una copia del contrato de alquiler o escritura a tu nombre o un documento legal que respalde la convivencia, entre otros. Espero haber respondido a tu pregunta.\n"
     ]
    }
   ],
   "source": [
    "response = commons.get_completion_from_messages(messages)\n",
    "print(response)"
   ]
  },
  {
   "cell_type": "code",
   "execution_count": 20,
   "id": "12243c1f",
   "metadata": {},
   "outputs": [],
   "source": [
    "user_question=f\"\"\"\\\n",
    "¿Cuál es el Beneficio de BAU lunch?\"\"\"\n",
    "user_name=\"Alejandra Escalante\"\n",
    "user_seniority=\"2 años\"\n",
    "user_position=\"Desarrollador Full Stack\"\n",
    "user_country=\"Argentina\"\n",
    "\n",
    "delimiter=\"####\"\n",
    "user_message = f\"\"\"\\\n",
    "Responde la pregunta delimitada por 4 hashtags, i.e. {delimiter}. \\\n",
    "{delimiter}{user_question}{delimiter} \\\n",
    "Teniendo en cuenta los siguientes datos del colaborador:\\\n",
    "Nombre :{user_name}\\\n",
    "Antigüedad en el puesto : {user_seniority}\\\n",
    "Puesto : {user_position}\\\n",
    "País de la unidad : {user_country}\\\n",
    "\\\n",
    "Si no tienes los siguientes datos: Nombre, antigüedad en el puesto, puesto y país de la unidad, antes de responder \\\n",
    "solicita estos datos al usuario.\\\n",
    "Si tienes los datos, usa el nombre del colaborador en lugar de estimado colaborador\"\"\"\n",
    "messages =  [  \n",
    "{'role':'user', \n",
    " 'content': f\"{user_message}\"},  \n",
    "] \n"
   ]
  },
  {
   "cell_type": "code",
   "execution_count": 21,
   "id": "05a357eb",
   "metadata": {},
   "outputs": [
    {
     "name": "stdout",
     "output_type": "stream",
     "text": [
      "Data source role information : Eres un asistente de recursos humanos. Tu respuesta debe ser en español y debe siempre empezar por estimado colaborador\n",
      "messages : [\n",
      "    {\n",
      "        \"role\": \"user\",\n",
      "        \"content\": \"Responde la pregunta delimitada por 4 hashtags, i.e. ####. ####\\u00bfCu\\u00e1l es el Beneficio de BAU lunch?#### Teniendo en cuenta los siguientes datos del colaborador:Nombre :Alejandra EscalanteAntig\\u00fcedad en el puesto : 2 a\\u00f1osPuesto : Desarrollador Full StackPa\\u00eds de la unidad : ArgentinaSi no tienes los siguientes datos: Nombre, antig\\u00fcedad en el puesto, puesto y pa\\u00eds de la unidad, antes de responder solicita estos datos al usuario.Si tienes los datos, usa el nombre del colaborador en lugar de estimado colaborador\"\n",
      "    }\n",
      "]\n",
      "Estimada Alejandra Escalante, el beneficio de BAU Lunch en Argentina consiste en la acreditación mensual de un importe destinado para este fin, el cual podrás utilizar a través de la App de PedidosYa (Menú/PedidosYa Pagos) para obtener tu almuerzo. Para aplicar al beneficio, es necesario tener una antigüedad en Baufest de 2 años al momento de la solicitud del beneficio, presentar copia del contrato de alquiler o escritura a tu nombre y/o documento legal que respalde la convivencia, y presentar una copia del documento de identidad donde conste el cambio de domicilio o en su defecto un servicio a tu nombre o certificado policial[doc3]. Espero haber respondido a tu pregunta.\n"
     ]
    }
   ],
   "source": [
    "response = commons.get_completion_from_messages(messages)\n",
    "print(response)"
   ]
  },
  {
   "cell_type": "markdown",
   "id": "57f20617",
   "metadata": {},
   "source": [
    "Después del refinamiento ajustamos el prompt usando los campos que se usarán como parte del contexto:\n",
    "\n",
    " - user_id\n",
    " - user_name\n",
    " - user_email\n",
    " - user_location\n",
    " - user_department\n",
    " - user_job\n",
    " - user_seniority\n"
   ]
  },
  {
   "cell_type": "code",
   "execution_count": 22,
   "id": "0418e220",
   "metadata": {},
   "outputs": [],
   "source": [
    "user_question=f\"\"\"\\\n",
    "¿Cuáles son los beneficios que ofrece Baufest?\"\"\"\n",
    "user_name=\"Santiago Vilchis\"\n",
    "user_email=\"svilchis@baufest.com\"\n",
    "user_location=\"America/Mexico_City\"\n",
    "user_department=\"Software Development/SWDFIN\"\n",
    "user_job=\"Developer\"\n",
    "user_seniority=\"24 meses\"\n",
    "\n",
    "delimiter=\"####\"\n",
    "user_message = f\"\"\"\\\n",
    "Responde la pregunta delimitada por 4 hashtags, i.e. {delimiter}. \\\n",
    "{delimiter}{user_question}{delimiter} \\\n",
    "Teniendo en cuenta los siguientes datos del colaborador: \\\n",
    "Nombre : {user_name} \\\n",
    "Puesto : {user_job} \\\n",
    "Departamento en el que trabaja : {user_department} \\\n",
    "Antigüedad en el puesto : {user_seniority} \\\n",
    "País en el que trabaja : {user_location} \\\n",
    "\\\n",
    "Si no tienes los siguientes datos: Nombre, Puesto, Departamento en el que trabaja, Antigüedad en el puesto y \\\n",
    "País en el que trabaja. Antes de responder solicita estos datos al usuario. \\\n",
    "Si tienes los datos, usa el nombre del colaborador en lugar de estimado colaborador\"\"\"\n",
    "messages =  [  \n",
    "{'role':'user', \n",
    " 'content': f\"{user_message}\"},  \n",
    "] \n"
   ]
  },
  {
   "cell_type": "code",
   "execution_count": 24,
   "id": "37692c48",
   "metadata": {},
   "outputs": [
    {
     "name": "stdout",
     "output_type": "stream",
     "text": [
      "Data source role information : Eres un asistente de recursos humanos. Tu respuesta debe ser en español y debe siempre empezar por estimado colaborador\n",
      "messages : [\n",
      "    {\n",
      "        \"role\": \"user\",\n",
      "        \"content\": \"Responde la pregunta delimitada por 4 hashtags, i.e. ####. ####\\u00bfCu\\u00e1les son los beneficios que ofrece Baufest?#### Teniendo en cuenta los siguientes datos del colaborador: Nombre : Santiago Vilchis Puesto : Developer Departamento en el que trabaja : Software Development/SWDFIN Antig\\u00fcedad en el puesto : 24 meses Pa\\u00eds en el que trabaja : America/Mexico_City Si no tienes los siguientes datos: Nombre, Puesto, Departamento en el que trabaja, Antig\\u00fcedad en el puesto y Pa\\u00eds en el que trabaja. Antes de responder solicita estos datos al usuario. Si tienes los datos, usa el nombre del colaborador en lugar de estimado colaborador\"\n",
      "    }\n",
      "]\n",
      "Estimado Santiago Vilchis, según la información disponible en los documentos recuperados, Baufest ofrece varios beneficios para sus colaboradores en América Latina, incluyendo BAU Dollar, BAU Health, BAU Net, BAU Lunch y Anti Tráfico. Los detalles específicos de cada beneficio, como los costos, requisitos y periodicidad de las acreditaciones, varían según el país y el beneficio en cuestión. Te recomendamos revisar los documentos recuperados para obtener más información sobre cada beneficio y cómo aplicar a ellos.\n"
     ]
    }
   ],
   "source": [
    "response = commons.get_completion_from_messages(messages)\n",
    "print(response)"
   ]
  },
  {
   "cell_type": "markdown",
   "id": "64537cd0",
   "metadata": {},
   "source": [
    "Parece ser que no está tomando en cuenta el país y otros aspectos"
   ]
  },
  {
   "cell_type": "code",
   "execution_count": 25,
   "id": "e88924c4",
   "metadata": {},
   "outputs": [],
   "source": [
    "user_question=f\"\"\"\\\n",
    "¿Cuáles son los beneficios que ofrece Baufest?\"\"\"\n",
    "user_name=\"Santiago Vilchis\"\n",
    "user_email=\"svilchis@baufest.com\"\n",
    "user_location=\"America/Mexico_City\"\n",
    "user_department=\"Software Development/SWDFIN\"\n",
    "user_job=\"Developer\"\n",
    "user_seniority=\"24 meses\"\n",
    "\n",
    "delimiter=\"####\"\n",
    "user_message = f\"\"\"\\\n",
    "Responde la pregunta delimitada por 4 hashtags, i.e. {delimiter}. \\\n",
    "{delimiter}{user_question}{delimiter} \\\n",
    "Teniendo en cuenta los siguientes datos del colaborador: \\\n",
    "Nombre : {user_name} \\\n",
    "Puesto : {user_job} \\\n",
    "Departamento en el que trabaja : {user_department} \\\n",
    "Antigüedad en el puesto : {user_seniority} \\\n",
    "País en el que trabaja : {user_location} \\\n",
    "\\\n",
    "Si no tienes los siguientes datos: Nombre, Puesto, Departamento en el que trabaja, Antigüedad en el puesto y \\\n",
    "País en el que trabaja. Antes de responder solicita estos datos al usuario. \\\n",
    "Si tienes los datos, usa el nombre del colaborador en lugar de estimado colaborador en tu respuesta. \\\n",
    "Tu respuesta debe seguir el siguiente formato: \\\n",
    "Datos del usuario : #### <listar datos del colaborador> \\\n",
    "Repuesta : #### <Respuesta a la pregunta del colaborador>\"\"\"\n",
    "messages =  [  \n",
    "{'role':'user', \n",
    " 'content': f\"{user_message}\"},  \n",
    "] \n"
   ]
  },
  {
   "cell_type": "code",
   "execution_count": 26,
   "id": "2835c998",
   "metadata": {},
   "outputs": [
    {
     "name": "stdout",
     "output_type": "stream",
     "text": [
      "Data source role information : Eres un asistente de recursos humanos. Tu respuesta debe ser en español y debe siempre empezar por estimado colaborador\n",
      "messages : [\n",
      "    {\n",
      "        \"role\": \"user\",\n",
      "        \"content\": \"Responde la pregunta delimitada por 4 hashtags, i.e. ####. ####\\u00bfCu\\u00e1les son los beneficios que ofrece Baufest?#### Teniendo en cuenta los siguientes datos del colaborador: Nombre : Santiago Vilchis Puesto : Developer Departamento en el que trabaja : Software Development/SWDFIN Antig\\u00fcedad en el puesto : 24 meses Pa\\u00eds en el que trabaja : America/Mexico_City Si no tienes los siguientes datos: Nombre, Puesto, Departamento en el que trabaja, Antig\\u00fcedad en el puesto y Pa\\u00eds en el que trabaja. Antes de responder solicita estos datos al usuario. Si tienes los datos, usa el nombre del colaborador en lugar de estimado colaborador en tu respuesta. Tu respuesta debe seguir el siguiente formato: Datos del usuario : #### <listar datos del colaborador> Repuesta : #### <Respuesta a la pregunta del colaborador>\"\n",
      "    }\n",
      "]\n",
      "Datos del usuario: \n",
      "- Nombre: Santiago Vilchis \n",
      "- Puesto: Developer \n",
      "- Departamento en el que trabaja: Software Development/SWDFIN \n",
      "- Antigüedad en el puesto: 24 meses \n",
      "- País en el que trabaja: America/Mexico_City \n",
      "\n",
      "Respuesta: \n",
      "\n",
      "Baufest ofrece varios beneficios para sus colaboradores en América Latina, entre ellos se encuentran: \n",
      "- BAU Dollar: un programa que permite a los colaboradores recibir una parte de su salario en dólares, lo que les brinda una mayor estabilidad financiera y les permite ahorrar en moneda extranjera. \n",
      "- BAU Health: un programa que ofrece descuentos en gimnasios y actividades deportivas para fomentar un estilo de vida saludable. \n",
      "- BAU Net: un programa que brinda un subsidio para el servicio de internet en el hogar. \n",
      "- BAU Lunch: un programa que ofrece un subsidio para el almuerzo de los colaboradores. \n",
      "\n",
      "Además, Baufest cuenta con otros beneficios como el programa Anti Tráfico, que brinda un subsidio para el transporte de los colaboradores, y el programa de capacitación y desarrollo profesional. Para más información sobre los beneficios específicos en México, se recomienda consultar con el ejecutivo de cuenta regularmente. [doc2][doc3]\n"
     ]
    }
   ],
   "source": [
    "response = commons.get_completion_from_messages(messages)\n",
    "print(response)"
   ]
  },
  {
   "cell_type": "code",
   "execution_count": 27,
   "id": "f2f506be",
   "metadata": {},
   "outputs": [],
   "source": [
    "user_question=f\"\"\"\\\n",
    "¿Cuáles son los beneficios que ofrece Baufest?\"\"\"\n",
    "user_name=\"Santiago Vilchis\"\n",
    "user_email=\"svilchis@baufest.com\"\n",
    "user_location=\"America/Mexico_City\"\n",
    "user_department=\"Software Development/SWDFIN\"\n",
    "user_job=\"Developer\"\n",
    "user_seniority=\"24 meses\"\n",
    "\n",
    "delimiter=\"####\"\n",
    "user_message = f\"\"\"\\\n",
    "Responde la pregunta delimitada por 4 hashtags, i.e. {delimiter}. \\\n",
    "{delimiter}{user_question}{delimiter} \\\n",
    "Teniendo en cuenta los siguientes datos del colaborador para tu respuesta: \\\n",
    "Nombre : {user_name} \\\n",
    "Puesto : {user_job} \\\n",
    "Departamento en el que trabaja : {user_department} \\\n",
    "Antigüedad en el puesto : {user_seniority} \\\n",
    "País en el que trabaja : {user_location} \\\n",
    "\\\n",
    "Si no tienes los siguientes datos: Nombre, Puesto, Departamento en el que trabaja, Antigüedad en el puesto y \\\n",
    "País en el que trabaja. Antes de responder solicita estos datos al usuario. \\\n",
    "Si tienes los datos, usa el nombre del colaborador en lugar de estimado colaborador en tu respuesta \\\n",
    "a la pregunta del colaborador. \\\n",
    "Tu respuesta debe seguir el siguiente formato: \\\n",
    "Datos del usuario : #### <listar datos del colaborador> \\\n",
    "Repuesta : #### <Respuesta a la pregunta del colaborador>\"\"\"\n",
    "messages =  [  \n",
    "{'role':'user', \n",
    " 'content': f\"{user_message}\"},  \n",
    "] \n"
   ]
  },
  {
   "cell_type": "code",
   "execution_count": 29,
   "id": "c1d2b1a9",
   "metadata": {},
   "outputs": [
    {
     "name": "stdout",
     "output_type": "stream",
     "text": [
      "Data source role information : Eres un asistente de recursos humanos. Tu respuesta debe ser en español y debe siempre empezar por estimado colaborador\n",
      "messages : [\n",
      "    {\n",
      "        \"role\": \"user\",\n",
      "        \"content\": \"Responde la pregunta delimitada por 4 hashtags, i.e. ####. ####\\u00bfCu\\u00e1les son los beneficios que ofrece Baufest?#### Teniendo en cuenta los siguientes datos del colaborador para tu respuesta: Nombre : Santiago Vilchis Puesto : Developer Departamento en el que trabaja : Software Development/SWDFIN Antig\\u00fcedad en el puesto : 24 meses Pa\\u00eds en el que trabaja : America/Mexico_City Si no tienes los siguientes datos: Nombre, Puesto, Departamento en el que trabaja, Antig\\u00fcedad en el puesto y Pa\\u00eds en el que trabaja. Antes de responder solicita estos datos al usuario. Si tienes los datos, usa el nombre del colaborador en lugar de estimado colaborador en tu respuesta a la pregunta del colaborador. Tu respuesta debe seguir el siguiente formato: Datos del usuario : #### <listar datos del colaborador> Repuesta : #### <Respuesta a la pregunta del colaborador>\"\n",
      "    }\n",
      "]\n",
      "Lo siento, pero la pregunta delimitada por 4 hashtags no está clara. Por favor, reformula tu pregunta para que pueda ayudarte de manera más efectiva. Si tienes alguna pregunta relacionada con los beneficios que ofrece Baufest, por favor házmela saber y estaré encantado de ayudarte.\n"
     ]
    }
   ],
   "source": [
    "response = commons.get_completion_from_messages(messages)\n",
    "print(response)"
   ]
  },
  {
   "cell_type": "markdown",
   "id": "21ec630f",
   "metadata": {},
   "source": [
    "La respuesta no fue tan satisfactoria retomemos el ejemplo que sí"
   ]
  },
  {
   "cell_type": "code",
   "execution_count": 32,
   "id": "5c899ab5",
   "metadata": {},
   "outputs": [],
   "source": [
    "user_question=f\"\"\"\\\n",
    "¿Cuáles son los beneficios que ofrece Baufest?\"\"\"\n",
    "user_name=\"Alejandra Escalante\"\n",
    "user_seniority=\"2 años\"\n",
    "user_position=\"Desarrollador Full Stack\"\n",
    "user_country=\"Argentina\"\n",
    "\n",
    "delimiter=\"####\"\n",
    "user_message = f\"\"\"\\\n",
    "Responde la pregunta delimitada por 4 hashtags, i.e. {delimiter}. \\\n",
    "{delimiter}{user_question}{delimiter} \\\n",
    "Teniendo en cuenta los siguientes datos del colaborador:\\\n",
    "Nombre :{user_name}\\\n",
    "Antigüedad en el puesto : {user_seniority}\\\n",
    "Puesto : {user_position}\\\n",
    "País de la unidad : {user_country}\\\n",
    "\\\n",
    "Si no tienes los siguientes datos: Nombre, antigüedad en el puesto, puesto y país de la unidad, antes de responder \\\n",
    "solicita estos datos al usuario.\\\n",
    "Si tienes los datos, usa el nombre del colaborador en lugar de estimado colaborador\"\"\"\n",
    "messages =  [  \n",
    "{'role':'user', \n",
    " 'content': f\"{user_message}\"},  \n",
    "] \n"
   ]
  },
  {
   "cell_type": "code",
   "execution_count": 33,
   "id": "1e400dd0",
   "metadata": {},
   "outputs": [
    {
     "name": "stdout",
     "output_type": "stream",
     "text": [
      "Data source role information : Eres un asistente de recursos humanos. Tu respuesta debe ser en español y debe siempre empezar por estimado colaborador\n",
      "messages : [\n",
      "    {\n",
      "        \"role\": \"user\",\n",
      "        \"content\": \"Responde la pregunta delimitada por 4 hashtags, i.e. ####. ####\\u00bfCu\\u00e1les son los beneficios que ofrece Baufest?#### Teniendo en cuenta los siguientes datos del colaborador:Nombre :Alejandra EscalanteAntig\\u00fcedad en el puesto : 2 a\\u00f1osPuesto : Desarrollador Full StackPa\\u00eds de la unidad : ArgentinaSi no tienes los siguientes datos: Nombre, antig\\u00fcedad en el puesto, puesto y pa\\u00eds de la unidad, antes de responder solicita estos datos al usuario.Si tienes los datos, usa el nombre del colaborador en lugar de estimado colaborador\"\n",
      "    }\n",
      "]\n",
      "Lo siento, pero la pregunta no está claramente delimitada por 4 hashtags. Además, la información proporcionada en los documentos recuperados no es suficiente para responder a la pregunta. Por favor proporcione más detalles o una pregunta más específica para que pueda ayudarlo de manera efectiva.\n"
     ]
    }
   ],
   "source": [
    "response = commons.get_completion_from_messages(messages)\n",
    "print(response)"
   ]
  },
  {
   "cell_type": "code",
   "execution_count": 37,
   "id": "872213c8",
   "metadata": {},
   "outputs": [],
   "source": [
    "user_question=f\"\"\"\\\n",
    "¿Cuáles son los beneficios que ofrece Baufest?\"\"\"\n",
    "user_name=\"Alejandra Escalante\"\n",
    "user_seniority=\"2 años\"\n",
    "user_job=\"Desarrollador Full Stack\"\n",
    "user_location=\"Argentina\"\n",
    "\n",
    "delimiter=\"####\"\n",
    "user_message = f\"\"\"\\\n",
    "Responde la pregunta delimitada por 4 hashtags, i.e. {delimiter}. \\\n",
    "{delimiter}{user_question}{delimiter} \\\n",
    "Teniendo en cuenta los siguientes datos del colaborador:\\\n",
    "Nombre :{user_name}\\\n",
    "Antigüedad en Baufest : {user_seniority}\\\n",
    "Puesto : {user_job}\\\n",
    "País de la unidad : {user_location}\\\n",
    "\\\n",
    "Si no tienes los siguientes datos: Nombre, Antigüedad en Baufest, puesto y país de la unidad, antes de responder \\\n",
    "solicita estos datos al usuario.\\\n",
    "Si tienes los datos, usa el nombre del colaborador en lugar de estimado colaborador\"\"\"\n",
    "messages =  [  \n",
    "{'role':'user', \n",
    " 'content': f\"{user_message}\"},  \n",
    "] \n"
   ]
  },
  {
   "cell_type": "code",
   "execution_count": 38,
   "id": "708eca5c",
   "metadata": {},
   "outputs": [
    {
     "name": "stdout",
     "output_type": "stream",
     "text": [
      "Data source role information : Eres un asistente de recursos humanos. Tu respuesta debe ser en español y debe siempre empezar por estimado colaborador\n",
      "messages : [\n",
      "    {\n",
      "        \"role\": \"user\",\n",
      "        \"content\": \"Responde la pregunta delimitada por 4 hashtags, i.e. ####. ####\\u00bfCu\\u00e1les son los beneficios que ofrece Baufest?#### Teniendo en cuenta los siguientes datos del colaborador:Nombre :Alejandra EscalanteAntig\\u00fcedad en Baufest : 2 a\\u00f1osPuesto : Desarrollador Full StackPa\\u00eds de la unidad : ArgentinaSi no tienes los siguientes datos: Nombre, Antig\\u00fcedad en Baufest, puesto y pa\\u00eds de la unidad, antes de responder solicita estos datos al usuario.Si tienes los datos, usa el nombre del colaborador en lugar de estimado colaborador\"\n",
      "    }\n",
      "]\n",
      "Estimada Alejandra Escalante, Baufest ofrece varios beneficios para sus colaboradores en Argentina, entre ellos se encuentran: \n",
      "- BAU Dollar: permite recibir una parte del sueldo en dólares, con la posibilidad de elegir la cantidad a recibir y la cuenta bancaria donde se depositará. \n",
      "- BAU Health: ofrece un reembolso de gastos médicos y odontológicos para el colaborador y su grupo familiar. \n",
      "- BAU Net: reembolso de gastos de internet para el trabajo remoto. \n",
      "- BAU Lunch: acreditación mensual para almuerzos en Argentina, Chile y Uruguay. \n",
      "- Anti Tráfico: permite elegir un rango horario para evitar el tráfico en Argentina. \n",
      "\n",
      "Para acceder a estos beneficios es necesario cumplir con ciertos requisitos, como tener una antigüedad mínima de 2 años en Baufest al momento de solicitar el beneficio. Te recomiendo revisar los detalles de cada beneficio en la documentación correspondiente [doc2][doc3].\n"
     ]
    }
   ],
   "source": [
    "response = commons.get_completion_from_messages(messages)\n",
    "print(response)"
   ]
  },
  {
   "cell_type": "code",
   "execution_count": 39,
   "id": "b080d5d6",
   "metadata": {},
   "outputs": [],
   "source": [
    "user_question=f\"\"\"\\\n",
    "¿Cuáles son los beneficios que ofrece Baufest?\"\"\"\n",
    "user_name=\"Alejandra Escalante\"\n",
    "user_seniority=\"2 años\"\n",
    "user_job=\"Desarrollador Full Stack\"\n",
    "user_location=\"Argentina\"\n",
    "\n",
    "delimiter=\"####\"\n",
    "user_message = f\"\"\"\\\n",
    "Responde la pregunta delimitada por 4 hashtags, i.e. {delimiter}. \\\n",
    "{delimiter}{user_question}{delimiter} \\\n",
    "Usa para tu respuesta los siguientes datos del colaborador: \\\n",
    "Nombre :{user_name} \\\n",
    "Antigüedad en Baufest : {user_seniority} \\\n",
    "Puesto : {user_job} \\\n",
    "País de la unidad : {user_location} \\\n",
    "\\\n",
    "Si no tienes los siguientes datos: Nombre, Antigüedad en Baufest, puesto y país de la unidad, antes de responder \\\n",
    "solicita estos datos al usuario.\\\n",
    "Si tienes los datos, usa el nombre del colaborador en lugar de estimado colaborador\"\"\"\n",
    "messages =  [  \n",
    "{'role':'user', \n",
    " 'content': f\"{user_message}\"},  \n",
    "] \n"
   ]
  },
  {
   "cell_type": "code",
   "execution_count": 40,
   "id": "901428a1",
   "metadata": {},
   "outputs": [
    {
     "name": "stdout",
     "output_type": "stream",
     "text": [
      "Data source role information : Eres un asistente de recursos humanos. Tu respuesta debe ser en español y debe siempre empezar por estimado colaborador\n",
      "messages : [\n",
      "    {\n",
      "        \"role\": \"user\",\n",
      "        \"content\": \"Responde la pregunta delimitada por 4 hashtags, i.e. ####. ####\\u00bfCu\\u00e1les son los beneficios que ofrece Baufest?#### Usa para tu respuesta los siguientes datos del colaborador: Nombre :Alejandra Escalante Antig\\u00fcedad en Baufest : 2 a\\u00f1os Puesto : Desarrollador Full Stack Pa\\u00eds de la unidad : Argentina Si no tienes los siguientes datos: Nombre, Antig\\u00fcedad en Baufest, puesto y pa\\u00eds de la unidad, antes de responder solicita estos datos al usuario.Si tienes los datos, usa el nombre del colaborador en lugar de estimado colaborador\"\n",
      "    }\n",
      "]\n",
      "Lo siento, pero la pregunta delimitada por 4 hashtags no está clara. ¿Podría proporcionar más detalles o reformular la pregunta? Además, no tengo acceso a los datos del colaborador, ya que mi función es proporcionar información basada en los documentos recuperados. Por favor, haga una pregunta relacionada con los documentos recuperados.\n"
     ]
    }
   ],
   "source": [
    "response = commons.get_completion_from_messages(messages)\n",
    "print(response)"
   ]
  },
  {
   "cell_type": "code",
   "execution_count": 41,
   "id": "2b28f49f",
   "metadata": {},
   "outputs": [
    {
     "name": "stdout",
     "output_type": "stream",
     "text": [
      "Data source role information : Eres un asistente de recursos humanos. Tu respuesta debe ser en español y debe siempre empezar por estimado colaborador\n",
      "messages : [\n",
      "    {\n",
      "        \"role\": \"user\",\n",
      "        \"content\": \"Responde la pregunta delimitada por 4 hashtags, i.e. ####. ####\\u00bfCu\\u00e1les son los beneficios que ofrece Baufest?#### Usa para tu respuesta los siguientes datos del colaborador: Nombre :Alejandra Escalante Antig\\u00fcedad en Baufest : 2 a\\u00f1os Puesto : Desarrollador Full Stack Pa\\u00eds de la unidad : Argentina Si no tienes los siguientes datos: Nombre, Antig\\u00fcedad en Baufest, puesto y pa\\u00eds de la unidad, antes de responder solicita estos datos al usuario.Si no est\\u00e1 clara la pregunta, responde de manera m\\u00e1s flexible y solicita mayores detalles al colaborador. Si tienes los datos, usa el nombre del colaborador en lugar de estimado colaborador\"\n",
      "    }\n",
      "]\n",
      "Estimada Alejandra Escalante, como colaboradora de Baufest en Argentina con una antigüedad de 2 años, tienes acceso a varios beneficios. Algunos de ellos son: BAU Lunch, BAU Health, BAU Net, BAU Dollar y Anti Tráfico. Para obtener más información sobre cada uno de ellos, te recomiendo revisar los documentos que se encuentran en los siguientes enlaces: https://baufest.atlassian.net/wiki/spaces/MDPB/pages/3334439043/BAU+LUNCH+LATAM, https://baufest.atlassian.net/wiki/spaces/MDPB/pages/3181314311/BAU+HEALTH+LATAM, https://baufest.atlassian.net/wiki/spaces/MDPB/pages/3334668294/BAU+NET+LATAM y https://baufest.atlassian.net/wiki/spaces/MDPB/pages/3381166773/ANTI+TR+FICO+LATAM.\n"
     ]
    }
   ],
   "source": [
    "user_question=f\"\"\"\\\n",
    "¿Cuáles son los beneficios que ofrece Baufest?\"\"\"\n",
    "user_name=\"Alejandra Escalante\"\n",
    "user_seniority=\"2 años\"\n",
    "user_job=\"Desarrollador Full Stack\"\n",
    "user_location=\"Argentina\"\n",
    "\n",
    "delimiter=\"####\"\n",
    "user_message = f\"\"\"\\\n",
    "Responde la pregunta delimitada por 4 hashtags, i.e. {delimiter}. \\\n",
    "{delimiter}{user_question}{delimiter} \\\n",
    "Usa para tu respuesta los siguientes datos del colaborador: \\\n",
    "Nombre :{user_name} \\\n",
    "Antigüedad en Baufest : {user_seniority} \\\n",
    "Puesto : {user_job} \\\n",
    "País de la unidad : {user_location} \\\n",
    "\\\n",
    "Si no tienes los siguientes datos: Nombre, Antigüedad en Baufest, puesto y país de la unidad, antes de responder \\\n",
    "solicita estos datos al usuario.\\\n",
    "Si no está clara la pregunta, responde de manera más flexible y solicita mayores detalles al colaborador. \\\n",
    "Si tienes los datos, usa el nombre del colaborador en lugar de estimado colaborador\"\"\"\n",
    "messages =  [  \n",
    "{'role':'user', \n",
    " 'content': f\"{user_message}\"},  \n",
    "] \n",
    "response = commons.get_completion_from_messages(messages)\n",
    "print(response)"
   ]
  },
  {
   "cell_type": "code",
   "execution_count": 42,
   "id": "8df4374d",
   "metadata": {},
   "outputs": [
    {
     "name": "stdout",
     "output_type": "stream",
     "text": [
      "Data source role information : Eres un asistente de recursos humanos. Tu respuesta debe ser en español y debe siempre empezar por estimado colaborador\n",
      "messages : [\n",
      "    {\n",
      "        \"role\": \"user\",\n",
      "        \"content\": \"Responde la pregunta delimitada por 4 hashtags, i.e. ####. ####\\u00bfCu\\u00e1les son los beneficios que ofrece Baufest?#### Usa para tu respuesta los siguientes datos del colaborador: Nombre :Alejandra Escalante Antig\\u00fcedad en Baufest :  Puesto :  Pa\\u00eds de la unidad :  Si no tienes los siguientes datos: Nombre, Antig\\u00fcedad en Baufest, puesto y pa\\u00eds de la unidad, antes de responder solicita estos datos al usuario.Si no est\\u00e1 clara la pregunta, responde de manera m\\u00e1s flexible y solicita mayores detalles al colaborador. Si tienes los datos, usa el nombre del colaborador en lugar de estimado colaborador\"\n",
      "    }\n",
      "]\n",
      "Estimada Alejandra Escalante, los beneficios que ofrece Baufest varían según la unidad de país en la que te encuentres. Algunos de los beneficios que se ofrecen en las unidades de LATAM incluyen el programa BAU LUNCH, que ofrece acreditaciones para almuerzos, y el programa BAU HEALTH, que ofrece reembolsos para actividades físicas. También hay programas como BAU NET, que ofrece reembolsos para servicios de internet, y BAU DOLLAR, que permite recibir una parte del sueldo en dólares. Para obtener más información sobre los beneficios específicos en tu unidad de país, te recomendamos consultar la documentación correspondiente [doc1][doc2][doc3].\n"
     ]
    }
   ],
   "source": [
    "user_question=f\"\"\"\\\n",
    "¿Cuáles son los beneficios que ofrece Baufest?\"\"\"\n",
    "user_name=\"Alejandra Escalante\"\n",
    "user_seniority=\"\"\n",
    "user_job=\"\"\n",
    "user_location=\"\"\n",
    "\n",
    "delimiter=\"####\"\n",
    "user_message = f\"\"\"\\\n",
    "Responde la pregunta delimitada por 4 hashtags, i.e. {delimiter}. \\\n",
    "{delimiter}{user_question}{delimiter} \\\n",
    "Usa para tu respuesta los siguientes datos del colaborador: \\\n",
    "Nombre :{user_name} \\\n",
    "Antigüedad en Baufest : {user_seniority} \\\n",
    "Puesto : {user_job} \\\n",
    "País de la unidad : {user_location} \\\n",
    "\\\n",
    "Si no tienes los siguientes datos: Nombre, Antigüedad en Baufest, puesto y país de la unidad, antes de responder \\\n",
    "solicita estos datos al usuario.\\\n",
    "Si no está clara la pregunta, responde de manera más flexible y solicita mayores detalles al colaborador. \\\n",
    "Si tienes los datos, usa el nombre del colaborador en lugar de estimado colaborador\"\"\"\n",
    "messages =  [  \n",
    "{'role':'user', \n",
    " 'content': f\"{user_message}\"},  \n",
    "] \n",
    "response = commons.get_completion_from_messages(messages)\n",
    "print(response)"
   ]
  },
  {
   "cell_type": "code",
   "execution_count": 43,
   "id": "89e3713a",
   "metadata": {},
   "outputs": [
    {
     "name": "stdout",
     "output_type": "stream",
     "text": [
      "Data source role information : Eres un asistente de recursos humanos. Tu respuesta debe ser en español y debe siempre empezar por estimado colaborador\n",
      "messages : [\n",
      "    {\n",
      "        \"role\": \"user\",\n",
      "        \"content\": \"Responde la pregunta delimitada por 4 hashtags, i.e. ####. ####\\u00bfCu\\u00e1les son los beneficios que ofrece Baufest?#### Usa para tu respuesta los siguientes datos del colaborador: Nombre :Alejandra Escalante Antig\\u00fcedad en Baufest :  Puesto :  Pa\\u00eds de la unidad :  Si no tienes todos los siguientes datos: Nombre, Antig\\u00fcedad en Baufest, puesto y pa\\u00eds de la unidad, antes de responder solicita estos datos al usuario.Si no est\\u00e1 clara la pregunta, responde de manera m\\u00e1s flexible y solicita mayores detalles al colaborador. Si tienes los datos, usa el nombre del colaborador en lugar de estimado colaborador\"\n",
      "    }\n",
      "]\n",
      "Estimado Alejandra Escalante, en relación a los beneficios que ofrece Baufest, puedo mencionar algunos de ellos según la unidad de país en la que te encuentres. En general, Baufest ofrece beneficios como BAU Dollar, BAU Health, BAU Net, BAU Lunch y Anti Tráfico. Para conocer los detalles específicos de cada beneficio, te recomiendo revisar los documentos que se encuentran en los siguientes enlaces: \n",
      "\n",
      "- BAU Dollar: https://baufest.atlassian.net/wiki/spaces/MDPB/pages/3334439043/BAU+LUNCH+LATAM\n",
      "- BAU Health: https://baufest.atlassian.net/wiki/spaces/MDPB/pages/3181314311/BAU+HEALTH+LATAM\n",
      "- BAU Net: https://baufest.atlassian.net/wiki/spaces/MDPB/pages/3334668294/BAU+NET+LATAM\n",
      "- BAU Lunch: https://baufest.atlassian.net/wiki/spaces/MDPB/pages/3334439043/BAU+LUNCH+LATAM\n",
      "- Anti Tráfico: https://baufest.atlassian.net/wiki/spaces/MDPB/pages/3381166773/ANTI+TR+FICO+LATAM\n",
      "\n",
      "Además, es importante mencionar que algunos beneficios tienen requisitos específicos, por lo que te sugiero revisar detalladamente cada documento para conocerlos.\n"
     ]
    }
   ],
   "source": [
    "user_question=f\"\"\"\\\n",
    "¿Cuáles son los beneficios que ofrece Baufest?\"\"\"\n",
    "user_name=\"Alejandra Escalante\"\n",
    "user_seniority=\"\"\n",
    "user_job=\"\"\n",
    "user_location=\"\"\n",
    "\n",
    "delimiter=\"####\"\n",
    "user_message = f\"\"\"\\\n",
    "Responde la pregunta delimitada por 4 hashtags, i.e. {delimiter}. \\\n",
    "{delimiter}{user_question}{delimiter} \\\n",
    "Usa para tu respuesta los siguientes datos del colaborador: \\\n",
    "Nombre :{user_name} \\\n",
    "Antigüedad en Baufest : {user_seniority} \\\n",
    "Puesto : {user_job} \\\n",
    "País de la unidad : {user_location} \\\n",
    "\\\n",
    "Si no tienes todos los siguientes datos: Nombre, Antigüedad en Baufest, puesto y país de la unidad, antes de responder \\\n",
    "solicita estos datos al usuario.\\\n",
    "Si no está clara la pregunta, responde de manera más flexible y solicita mayores detalles al colaborador. \\\n",
    "Si tienes los datos, usa el nombre del colaborador en lugar de estimado colaborador\"\"\"\n",
    "messages =  [  \n",
    "{'role':'user', \n",
    " 'content': f\"{user_message}\"},  \n",
    "] \n",
    "response = commons.get_completion_from_messages(messages)\n",
    "print(response)"
   ]
  },
  {
   "cell_type": "code",
   "execution_count": 44,
   "id": "1b587c22",
   "metadata": {},
   "outputs": [
    {
     "name": "stdout",
     "output_type": "stream",
     "text": [
      "Data source role information : Eres un asistente de recursos humanos. Tu respuesta debe ser en español y debe siempre empezar por estimado colaborador\n",
      "messages : [\n",
      "    {\n",
      "        \"role\": \"user\",\n",
      "        \"content\": \"Responde la pregunta delimitada por 4 hashtags, i.e. ####. ####\\u00bfCu\\u00e1les son los beneficios que ofrece Baufest?#### Usa para tu respuesta los siguientes datos del colaborador: Nombre :  Antig\\u00fcedad en Baufest :  Puesto :  Pa\\u00eds de la unidad :  Si no tienes todos los siguientes datos: Nombre, Antig\\u00fcedad en Baufest, puesto y pa\\u00eds de la unidad, antes de responder solicita estos datos al usuario.Si no est\\u00e1 clara la pregunta, responde de manera m\\u00e1s flexible y solicita mayores detalles al colaborador. Si tienes los datos, usa el nombre del colaborador en lugar de estimado colaborador\"\n",
      "    }\n",
      "]\n",
      "Estimado colaborador, los beneficios que ofrece Baufest varían según el país de la unidad y la antigüedad en la empresa. Algunos de los beneficios que se ofrecen incluyen BAU Dollar, BAU Health, BAU Net, BAU Lunch y Anti Tráfico. Para obtener más información sobre los beneficios específicos disponibles para tu país y antigüedad en la empresa, te recomendamos que consultes la documentación correspondiente en la intranet de Baufest.\n"
     ]
    }
   ],
   "source": [
    "user_question=f\"\"\"\\\n",
    "¿Cuáles son los beneficios que ofrece Baufest?\"\"\"\n",
    "user_name=\"\"\n",
    "user_seniority=\"\"\n",
    "user_job=\"\"\n",
    "user_location=\"\"\n",
    "\n",
    "delimiter=\"####\"\n",
    "user_message = f\"\"\"\\\n",
    "Responde la pregunta delimitada por 4 hashtags, i.e. {delimiter}. \\\n",
    "{delimiter}{user_question}{delimiter} \\\n",
    "Usa para tu respuesta los siguientes datos del colaborador: \\\n",
    "Nombre : {user_name} \\\n",
    "Antigüedad en Baufest : {user_seniority} \\\n",
    "Puesto : {user_job} \\\n",
    "País de la unidad : {user_location} \\\n",
    "\\\n",
    "Si no tienes todos los siguientes datos: Nombre, Antigüedad en Baufest, puesto y país de la unidad, antes de responder \\\n",
    "solicita estos datos al usuario.\\\n",
    "Si no está clara la pregunta, responde de manera más flexible y solicita mayores detalles al colaborador. \\\n",
    "Si tienes los datos, usa el nombre del colaborador en lugar de estimado colaborador\"\"\"\n",
    "messages =  [  \n",
    "{'role':'user', \n",
    " 'content': f\"{user_message}\"},  \n",
    "] \n",
    "response = commons.get_completion_from_messages(messages)\n",
    "print(response)"
   ]
  },
  {
   "cell_type": "code",
   "execution_count": 47,
   "id": "b216738c",
   "metadata": {},
   "outputs": [
    {
     "name": "stdout",
     "output_type": "stream",
     "text": [
      "Data source role information : Eres un asistente de recursos humanos. Tu respuesta debe ser en español y debe siempre empezar por estimado colaborador\n",
      "messages : [\n",
      "    {\n",
      "        \"role\": \"user\",\n",
      "        \"content\": \"Responde la pregunta delimitada por 4 hashtags, i.e. ####. ####\\u00bfCu\\u00e1les son los beneficios que ofrece Baufest?#### Usa para tu respuesta los siguientes datos del colaborador: Nombre :  Antig\\u00fcedad en Baufest :  Puesto :  Pa\\u00eds de la unidad :  Si no tienes todos los siguientes datos: Nombre, Antig\\u00fcedad en Baufest, puesto y pa\\u00eds de la unidad, antes de responder solicita estos datos al usuario.Si tienes los datos, usa el nombre del colaborador en lugar de estimado colaborador\"\n",
      "    }\n",
      "]\n",
      "Lo siento, pero la pregunta delimitada por 4 hashtags no es clara y específica. ¿Podría proporcionar más detalles o reformular su pregunta? Estoy aquí para ayudarlo en todo lo que pueda sobre los beneficios que ofrece Baufest.\n"
     ]
    }
   ],
   "source": [
    "user_question=f\"\"\"\\\n",
    "¿Cuáles son los beneficios que ofrece Baufest?\"\"\"\n",
    "user_name=\"\"\n",
    "user_seniority=\"\"\n",
    "user_job=\"\"\n",
    "user_location=\"\"\n",
    "\n",
    "delimiter=\"####\"\n",
    "user_message = f\"\"\"\\\n",
    "Responde la pregunta delimitada por 4 hashtags, i.e. {delimiter}. \\\n",
    "{delimiter}{user_question}{delimiter} \\\n",
    "Usa para tu respuesta los siguientes datos del colaborador: \\\n",
    "Nombre : {user_name} \\\n",
    "Antigüedad en Baufest : {user_seniority} \\\n",
    "Puesto : {user_job} \\\n",
    "País de la unidad : {user_location} \\\n",
    "\\\n",
    "Si no tienes todos los siguientes datos: Nombre, Antigüedad en Baufest, puesto y país de la unidad, antes de responder \\\n",
    "solicita estos datos al usuario.\\\n",
    "Si tienes los datos, usa el nombre del colaborador en lugar de estimado colaborador\"\"\"\n",
    "messages =  [  \n",
    "{'role':'user', \n",
    " 'content': f\"{user_message}\"},  \n",
    "] \n",
    "response = commons.get_completion_from_messages(messages)\n",
    "print(response)"
   ]
  },
  {
   "cell_type": "code",
   "execution_count": 48,
   "id": "578a7a10",
   "metadata": {},
   "outputs": [
    {
     "name": "stdout",
     "output_type": "stream",
     "text": [
      "Data source role information : Eres un asistente de recursos humanos. Tu respuesta debe ser en español y debe siempre empezar por estimado colaborador\n",
      "messages : [\n",
      "    {\n",
      "        \"role\": \"user\",\n",
      "        \"content\": \"Responde la pregunta delimitada por 4 hashtags. ####\\u00bfCu\\u00e1les son los beneficios que ofrece Baufest?#### Usa para tu respuesta los siguientes datos del colaborador: Nombre :  Antig\\u00fcedad en Baufest :  Puesto :  Pa\\u00eds de la unidad :  Si no tienes todos los siguientes datos: Nombre, Antig\\u00fcedad en Baufest, puesto y pa\\u00eds de la unidad, antes de responder solicita estos datos al usuario.Si tienes los datos, usa el nombre del colaborador en lugar de estimado colaborador\"\n",
      "    }\n",
      "]\n",
      "Lo siento, pero la pregunta delimitada por 4 hashtags no está clara. ¿Podría proporcionar más información o reformular la pregunta? En cuanto a los beneficios que ofrece Baufest, hay varios beneficios disponibles para los colaboradores, como BAU DOLLAR, BAU HOME, ANTI TRÁFICO, BAU HEALTH, BAU NET y BAU LUNCH. Para obtener más información sobre cada uno de estos beneficios, consulte los documentos recuperados [doc1], [doc2], [doc3] y [doc4].\n"
     ]
    }
   ],
   "source": [
    "user_question=f\"\"\"\\\n",
    "¿Cuáles son los beneficios que ofrece Baufest?\"\"\"\n",
    "user_name=\"\"\n",
    "user_seniority=\"\"\n",
    "user_job=\"\"\n",
    "user_location=\"\"\n",
    "\n",
    "delimiter=\"####\"\n",
    "user_message = f\"\"\"\\\n",
    "Responde la pregunta delimitada por 4 hashtags. \\\n",
    "{delimiter}{user_question}{delimiter} \\\n",
    "Usa para tu respuesta los siguientes datos del colaborador: \\\n",
    "Nombre : {user_name} \\\n",
    "Antigüedad en Baufest : {user_seniority} \\\n",
    "Puesto : {user_job} \\\n",
    "País de la unidad : {user_location} \\\n",
    "\\\n",
    "Si no tienes todos los siguientes datos: Nombre, Antigüedad en Baufest, puesto y país de la unidad, antes de responder \\\n",
    "solicita estos datos al usuario.\\\n",
    "Si tienes los datos, usa el nombre del colaborador en lugar de estimado colaborador\"\"\"\n",
    "messages =  [  \n",
    "{'role':'user', \n",
    " 'content': f\"{user_message}\"},  \n",
    "] \n",
    "response = commons.get_completion_from_messages(messages)\n",
    "print(response)"
   ]
  },
  {
   "cell_type": "code",
   "execution_count": 49,
   "id": "d51ed8b9",
   "metadata": {},
   "outputs": [
    {
     "name": "stdout",
     "output_type": "stream",
     "text": [
      "Data source role information : Eres un asistente de recursos humanos. Tu respuesta debe ser en español y debe siempre empezar por estimado colaborador\n",
      "messages : [\n",
      "    {\n",
      "        \"role\": \"user\",\n",
      "        \"content\": \"Responde la pregunta delimitada por 4 hashtags. ####\\u00bfCu\\u00e1les son los beneficios que ofrece Baufest?#### Teniendo en cuenta para tu respuesta los siguientes datos del colaborador: Nombre :  Antig\\u00fcedad en Baufest :  Puesto :  Pa\\u00eds de la unidad :  Si no tienes todos los siguientes datos: Nombre, Antig\\u00fcedad en Baufest, puesto y pa\\u00eds de la unidad, antes de responder solicita estos datos al usuario.Si tienes los datos, usa el nombre del colaborador en lugar de estimado colaborador\"\n",
      "    }\n",
      "]\n",
      "Lo siento, pero la pregunta es demasiado amplia y no puedo proporcionar una respuesta precisa sin más información. ¿Podría proporcionar más detalles sobre los beneficios específicos que le interesan? Además, necesitaría conocer el nombre, la antigüedad en Baufest, el puesto y el país de la unidad del colaborador para poder brindar una respuesta más precisa. Gracias.\n"
     ]
    }
   ],
   "source": [
    "user_question=f\"\"\"\\\n",
    "¿Cuáles son los beneficios que ofrece Baufest?\"\"\"\n",
    "user_name=\"\"\n",
    "user_seniority=\"\"\n",
    "user_job=\"\"\n",
    "user_location=\"\"\n",
    "\n",
    "delimiter=\"####\"\n",
    "user_message = f\"\"\"\\\n",
    "Responde la pregunta delimitada por 4 hashtags. \\\n",
    "{delimiter}{user_question}{delimiter} \\\n",
    "Teniendo en cuenta para tu respuesta los siguientes datos del colaborador: \\\n",
    "Nombre : {user_name} \\\n",
    "Antigüedad en Baufest : {user_seniority} \\\n",
    "Puesto : {user_job} \\\n",
    "País de la unidad : {user_location} \\\n",
    "\\\n",
    "Si no tienes todos los siguientes datos: Nombre, Antigüedad en Baufest, puesto y país de la unidad, antes de responder \\\n",
    "solicita estos datos al usuario.\\\n",
    "Si tienes los datos, usa el nombre del colaborador en lugar de estimado colaborador\"\"\"\n",
    "messages =  [  \n",
    "{'role':'user', \n",
    " 'content': f\"{user_message}\"},  \n",
    "] \n",
    "response = commons.get_completion_from_messages(messages)\n",
    "print(response)"
   ]
  },
  {
   "cell_type": "code",
   "execution_count": 50,
   "id": "2b327074",
   "metadata": {},
   "outputs": [
    {
     "name": "stdout",
     "output_type": "stream",
     "text": [
      "Data source role information : Eres un asistente de recursos humanos. Tu respuesta debe ser en español y debe siempre empezar por estimado colaborador\n",
      "messages : [\n",
      "    {\n",
      "        \"role\": \"user\",\n",
      "        \"content\": \"Sigue los siguientes pasos para responder la pregunta delimitada por 4 hashtags: ####. Paso 1 : Ten en cuenta para tu respuesta los datos del colaborador. Paso 2 : Si no tienes los datos del colaborador, no respondas y en su lugar solicita dichos datos. Paso 3 : Si tienes los datos del colaborador, use en tu respuesta el nombre del colaborador en lugar de estimado colaborador. Datos del colaborador: Nombre :  Antig\\u00fcedad en Baufest :  Puesto :  Pa\\u00eds de la unidad :  ####\\u00bfCu\\u00e1les son los beneficios que ofrece Baufest?#### \"\n",
      "    }\n",
      "]\n",
      "Estimado colaborador, Baufest ofrece varios beneficios para sus empleados en diferentes áreas. Algunos de estos beneficios incluyen el programa de salud BAU HEALTH, el programa de almuerzos BAU LUNCH, el programa de internet BAU NET, y el programa de dólares BAU DOLLAR. Además, Baufest ofrece un programa de capacitación y desarrollo profesional para sus empleados. Para más detalles sobre cada uno de estos beneficios, por favor consulta los documentos relacionados con BAU HEALTH (LATAM), BAU LUNCH (LATAM), BAU NET (LATAM) y BAU DOLLAR. [doc1][doc2][doc3]\n"
     ]
    }
   ],
   "source": [
    "user_question=f\"\"\"\\\n",
    "¿Cuáles son los beneficios que ofrece Baufest?\"\"\"\n",
    "user_name=\"\"\n",
    "user_seniority=\"\"\n",
    "user_job=\"\"\n",
    "user_location=\"\"\n",
    "\n",
    "delimiter=\"####\"\n",
    "\n",
    "user_message = f\"\"\"\\\n",
    "Sigue los siguientes pasos para responder la pregunta delimitada por 4 hashtags: {delimiter}. \\\n",
    "Paso 1 : Ten en cuenta para tu respuesta los datos del colaborador. \\\n",
    "Paso 2 : Si no tienes los datos del colaborador, no respondas y en su lugar solicita dichos datos. \\\n",
    "Paso 3 : Si tienes los datos del colaborador, use en tu respuesta el nombre del colaborador \\\n",
    "en lugar de estimado colaborador. \\\n",
    "\\\n",
    "Datos del colaborador: \\\n",
    "Nombre : {user_name} \\\n",
    "Antigüedad en Baufest : {user_seniority} \\\n",
    "Puesto : {user_job} \\\n",
    "País de la unidad : {user_location} \\\n",
    "\\\n",
    "{delimiter}{user_question}{delimiter} \\\n",
    "\"\"\"\n",
    "messages =  [  \n",
    "{'role':'user', \n",
    " 'content': f\"{user_message}\"},  \n",
    "] \n",
    "response = commons.get_completion_from_messages(messages)\n",
    "print(response)"
   ]
  },
  {
   "cell_type": "code",
   "execution_count": 51,
   "id": "97320c9d",
   "metadata": {},
   "outputs": [
    {
     "name": "stdout",
     "output_type": "stream",
     "text": [
      "Data source role information : Eres un asistente de recursos humanos. Tu respuesta debe ser en español y debe siempre empezar por estimado colaborador\n",
      "messages : [\n",
      "    {\n",
      "        \"role\": \"user\",\n",
      "        \"content\": \"Sigue los siguientes pasos para responder la pregunta delimitada por 4 hashtags: ####. Paso 1 : Si no tienes los datos del colaborador, no respondas y en su lugar solicita dichos datos. Paso 2 : Si tienes los datos del colaborador, usa en tu respuesta el nombre del colaborador en lugar de estimado colaborador. Datos del colaborador: Nombre :  Antig\\u00fcedad en Baufest :  Puesto :  Pa\\u00eds de la unidad :  ####\\u00bfCu\\u00e1les son los beneficios que ofrece Baufest?#### \"\n",
      "    }\n",
      "]\n",
      "Lo siento, para responder a su pregunta necesito conocer los datos del colaborador, como su antigüedad en Baufest, su puesto y el país de la unidad en la que trabaja. Por favor proporcione esta información para que pueda ayudarlo mejor.\n"
     ]
    }
   ],
   "source": [
    "user_question=f\"\"\"\\\n",
    "¿Cuáles son los beneficios que ofrece Baufest?\"\"\"\n",
    "user_name=\"\"\n",
    "user_seniority=\"\"\n",
    "user_job=\"\"\n",
    "user_location=\"\"\n",
    "\n",
    "delimiter=\"####\"\n",
    "\n",
    "user_message = f\"\"\"\\\n",
    "Sigue los siguientes pasos para responder la pregunta delimitada por 4 hashtags: {delimiter}. \\\n",
    "Paso 1 : Si no tienes los datos del colaborador, no respondas y en su lugar solicita dichos datos. \\\n",
    "Paso 2 : Si tienes los datos del colaborador, usa en tu respuesta el nombre del colaborador \\\n",
    "en lugar de estimado colaborador. \\\n",
    "\\\n",
    "Datos del colaborador: \\\n",
    "Nombre : {user_name} \\\n",
    "Antigüedad en Baufest : {user_seniority} \\\n",
    "Puesto : {user_job} \\\n",
    "País de la unidad : {user_location} \\\n",
    "\\\n",
    "{delimiter}{user_question}{delimiter} \\\n",
    "\"\"\"\n",
    "messages =  [  \n",
    "{'role':'user', \n",
    " 'content': f\"{user_message}\"},  \n",
    "] \n",
    "response = commons.get_completion_from_messages(messages)\n",
    "print(response)"
   ]
  },
  {
   "cell_type": "code",
   "execution_count": 52,
   "id": "dcb3d78e",
   "metadata": {},
   "outputs": [
    {
     "name": "stdout",
     "output_type": "stream",
     "text": [
      "Data source role information : Eres un asistente de recursos humanos. Tu respuesta debe ser en español y debe siempre empezar por estimado colaborador\n",
      "messages : [\n",
      "    {\n",
      "        \"role\": \"user\",\n",
      "        \"content\": \"Sigue los siguientes pasos para responder la pregunta delimitada por 4 hashtags: ####. Paso 1 : Si no tienes los datos del colaborador, tu respuesta debe seguir el siguiente formato : Estimado Baufesiano para responder su pregunta necesito los siguientes datos listando los datos que te falten y nada m\\u00e1s. Paso 2 : Si tienes los datos del colaborador, usa en tu respuesta el nombre del colaborador en lugar de estimado colaborador. Datos del colaborador: Nombre :  Antig\\u00fcedad en Baufest :  Puesto :  Pa\\u00eds de la unidad :  ####\\u00bfCu\\u00e1les son los beneficios que ofrece Baufest?#### \"\n",
      "    }\n",
      "]\n",
      "Estimado Baufesiano, para responder su pregunta necesito los siguientes datos: ¿Podría proporcionarme su nombre, antigüedad en Baufest, puesto y país de la unidad? Con esta información podré brindarle una respuesta más precisa y detallada sobre los beneficios que ofrece Baufest. Quedo atento a su respuesta.\n"
     ]
    }
   ],
   "source": [
    "user_question=f\"\"\"\\\n",
    "¿Cuáles son los beneficios que ofrece Baufest?\"\"\"\n",
    "user_name=\"\"\n",
    "user_seniority=\"\"\n",
    "user_job=\"\"\n",
    "user_location=\"\"\n",
    "\n",
    "delimiter=\"####\"\n",
    "no_user_data_prefix=\"Estimado Baufesiano para responder su pregunta necesito los siguientes datos\"\n",
    "\n",
    "user_message = f\"\"\"\\\n",
    "Sigue los siguientes pasos para responder la pregunta delimitada por 4 hashtags: {delimiter}. \\\n",
    "Paso 1 : Si no tienes los datos del colaborador, tu respuesta debe seguir el siguiente formato : {no_user_data_prefix} \\\n",
    "listando los datos que te falten y nada más. \\\n",
    "Paso 2 : Si tienes los datos del colaborador, usa en tu respuesta el nombre del colaborador \\\n",
    "en lugar de estimado colaborador. \\\n",
    "\\\n",
    "Datos del colaborador: \\\n",
    "Nombre : {user_name} \\\n",
    "Antigüedad en Baufest : {user_seniority} \\\n",
    "Puesto : {user_job} \\\n",
    "País de la unidad : {user_location} \\\n",
    "\\\n",
    "{delimiter}{user_question}{delimiter} \\\n",
    "\"\"\"\n",
    "messages =  [  \n",
    "{'role':'user', \n",
    " 'content': f\"{user_message}\"},  \n",
    "] \n",
    "response = commons.get_completion_from_messages(messages)\n",
    "print(response)"
   ]
  },
  {
   "cell_type": "code",
   "execution_count": 55,
   "id": "27df87e4",
   "metadata": {},
   "outputs": [
    {
     "name": "stdout",
     "output_type": "stream",
     "text": [
      "Data source role information : Eres un asistente de recursos humanos. Tu respuesta debe ser en español y debe siempre empezar por estimado colaborador\n",
      "messages : [\n",
      "    {\n",
      "        \"role\": \"user\",\n",
      "        \"content\": \"Sigue los siguientes pasos para responder la pregunta delimitada por 4 hashtags: ####. Paso 1 : Si no tienes los datos del colaborador, solicita los datos que te falten y no respondas nada m\\u00e1s. Paso 2 : Si tienes los datos del colaborador, usa en tu respuesta el nombre del colaborador en lugar de estimado colaborador. Datos del colaborador: Nombre :  Antig\\u00fcedad en Baufest :  Puesto :  Pa\\u00eds de la unidad :  ####\\u00bfCu\\u00e1les son los beneficios que ofrece Baufest?#### \"\n",
      "    }\n",
      "]\n",
      "Lo siento, pero para poder responder a tu pregunta necesito que me proporciones los datos del colaborador, como su antigüedad en Baufest, su puesto y el país de la unidad en la que trabaja. Una vez que tenga esta información, estaré encantado de ayudarte a responder tu pregunta.\n"
     ]
    }
   ],
   "source": [
    "user_question=f\"\"\"\\\n",
    "¿Cuáles son los beneficios que ofrece Baufest?\"\"\"\n",
    "user_name=\"\"\n",
    "user_seniority=\"\"\n",
    "user_job=\"\"\n",
    "user_location=\"\"\n",
    "\n",
    "delimiter=\"####\"\n",
    "no_user_data_prefix=\"Estimado Baufesiano para responder su pregunta necesito los siguientes datos\"\n",
    "\n",
    "user_message = f\"\"\"\\\n",
    "Sigue los siguientes pasos para responder la pregunta delimitada por 4 hashtags: {delimiter}. \\\n",
    "Paso 1 : Si no tienes los datos del colaborador, solicita los datos que te falten y no respondas nada más. \\\n",
    "Paso 2 : Si tienes los datos del colaborador, usa en tu respuesta el nombre del colaborador \\\n",
    "en lugar de estimado colaborador. \\\n",
    "\\\n",
    "Datos del colaborador: \\\n",
    "Nombre : {user_name} \\\n",
    "Antigüedad en Baufest : {user_seniority} \\\n",
    "Puesto : {user_job} \\\n",
    "País de la unidad : {user_location} \\\n",
    "\\\n",
    "{delimiter}{user_question}{delimiter} \\\n",
    "\"\"\"\n",
    "messages =  [  \n",
    "{'role':'user', \n",
    " 'content': f\"{user_message}\"},  \n",
    "] \n",
    "response = commons.get_completion_from_messages(messages)\n",
    "print(response)"
   ]
  },
  {
   "cell_type": "code",
   "execution_count": 56,
   "id": "24cfb60a",
   "metadata": {},
   "outputs": [
    {
     "name": "stdout",
     "output_type": "stream",
     "text": [
      "Data source role information : Eres un asistente de recursos humanos. Tu respuesta debe ser en español y debe siempre empezar por estimado colaborador\n",
      "messages : [\n",
      "    {\n",
      "        \"role\": \"user\",\n",
      "        \"content\": \"Sigue los siguientes pasos para responder la pregunta delimitada por 4 hashtags: ####. Paso 1 : Si no tienes los datos del colaborador, tu respuesta debe seguir el siguiente formato : Estimado Baufesiano para responder su pregunta necesito los siguientes datos listando los datos que te falten y nada m\\u00e1s. Paso 2 : Si tienes los datos del colaborador, usa en tu respuesta el nombre del colaborador en lugar de estimado colaborador. Datos del colaborador: Nombre :  Antig\\u00fcedad en Baufest :  Puesto : Desarrollador Pa\\u00eds de la unidad : Argentina ####\\u00bfCu\\u00e1les son los beneficios que ofrece Baufest?#### \"\n",
      "    }\n",
      "]\n",
      "Estimado Baufesiano, para responder su pregunta necesito los siguientes datos: ¿Es usted un colaborador de Baufest? Si es así, ¿podría proporcionarme su antigüedad en Baufest, su puesto y el país de la unidad en la que trabaja? Sin esta información, no puedo proporcionar una respuesta precisa a su pregunta. Gracias.\n"
     ]
    }
   ],
   "source": [
    "user_question=f\"\"\"\\\n",
    "¿Cuáles son los beneficios que ofrece Baufest?\"\"\"\n",
    "user_name=\"\"\n",
    "user_seniority=\"\"\n",
    "user_job=\"Desarrollador\"\n",
    "user_location=\"Argentina\"\n",
    "\n",
    "delimiter=\"####\"\n",
    "no_user_data_prefix=\"Estimado Baufesiano para responder su pregunta necesito los siguientes datos\"\n",
    "\n",
    "user_message = f\"\"\"\\\n",
    "Sigue los siguientes pasos para responder la pregunta delimitada por 4 hashtags: {delimiter}. \\\n",
    "Paso 1 : Si no tienes los datos del colaborador, tu respuesta debe seguir el siguiente formato : {no_user_data_prefix} \\\n",
    "listando los datos que te falten y nada más. \\\n",
    "Paso 2 : Si tienes los datos del colaborador, usa en tu respuesta el nombre del colaborador \\\n",
    "en lugar de estimado colaborador. \\\n",
    "\\\n",
    "Datos del colaborador: \\\n",
    "Nombre : {user_name} \\\n",
    "Antigüedad en Baufest : {user_seniority} \\\n",
    "Puesto : {user_job} \\\n",
    "País de la unidad : {user_location} \\\n",
    "\\\n",
    "{delimiter}{user_question}{delimiter} \\\n",
    "\"\"\"\n",
    "messages =  [  \n",
    "{'role':'user', \n",
    " 'content': f\"{user_message}\"},  \n",
    "] \n",
    "response = commons.get_completion_from_messages(messages)\n",
    "print(response)"
   ]
  },
  {
   "cell_type": "code",
   "execution_count": 59,
   "id": "7eedf638",
   "metadata": {},
   "outputs": [
    {
     "name": "stdout",
     "output_type": "stream",
     "text": [
      "Data source role information : Eres un asistente de recursos humanos. Tu respuesta debe ser en español y debe siempre empezar por estimado colaborador\n",
      "messages : [\n",
      "    {\n",
      "        \"role\": \"user\",\n",
      "        \"content\": \"Sigue los siguientes pasos para responder la pregunta delimitada por 4 hashtags: ####. Paso 1 : Si no tienes los datos del colaborador, tu respuesta debe seguir el siguiente formato : Estimado Baufesiano para responder su pregunta necesito los siguientes datos: <dato 1 faltante>, <dato 2 faltante>, ..., <dato n faltante> listando los datos que te falten y nada m\\u00e1s. Paso 2 : Si tienes los datos del colaborador, usa en tu respuesta el nombre del colaborador en lugar de estimado colaborador. Paso 3 : Usa las siguientes recomendaciones para tu respuesta : Recomendaci\\u00f3n 1 : Si la respuesta es muy amplia agrega en tu respuesta que te provea mayor detalle. Datos del colaborador: Nombre : . Antig\\u00fcedad en Baufest : . Puesto : Desarrollador. Pa\\u00eds de la unidad : Argentina. ####\\u00bfCu\\u00e1les son los beneficios que ofrece Baufest?#### \"\n",
      "    }\n",
      "]\n",
      "Estimado Baufesiano, para responder su pregunta necesito saber su antigüedad en Baufest, ya que los beneficios pueden variar según la misma. Por favor proporcione ese dato para poder brindarle una respuesta más precisa. Gracias.\n"
     ]
    }
   ],
   "source": [
    "user_question=f\"\"\"\\\n",
    "¿Cuáles son los beneficios que ofrece Baufest?\"\"\"\n",
    "user_name=\"\"\n",
    "user_seniority=\"\"\n",
    "user_job=\"Desarrollador\"\n",
    "user_location=\"Argentina\"\n",
    "\n",
    "delimiter=\"####\"\n",
    "no_user_data_prefix=\"Estimado Baufesiano para responder su pregunta necesito los siguientes datos: <dato 1 faltante>, <dato 2 faltante>, ..., <dato n faltante>\"\n",
    "\n",
    "user_message = f\"\"\"\\\n",
    "Sigue los siguientes pasos para responder la pregunta delimitada por 4 hashtags: {delimiter}. \\\n",
    "Paso 1 : Si no tienes los datos del colaborador, tu respuesta debe seguir el siguiente formato : {no_user_data_prefix} \\\n",
    "listando los datos que te falten y nada más. \\\n",
    "Paso 2 : Si tienes los datos del colaborador, usa en tu respuesta el nombre del colaborador \\\n",
    "en lugar de estimado colaborador. \\\n",
    "Paso 3 : Usa las siguientes recomendaciones para tu respuesta : \\\n",
    "Recomendación 1 : Si la respuesta es muy amplia agrega en tu respuesta que te provea mayor detalle. \\\n",
    "\\\n",
    "Datos del colaborador: \\\n",
    "Nombre : {user_name}. \\\n",
    "Antigüedad en Baufest : {user_seniority}. \\\n",
    "Puesto : {user_job}. \\\n",
    "País de la unidad : {user_location}. \\\n",
    "\\\n",
    "{delimiter}{user_question}{delimiter} \\\n",
    "\"\"\"\n",
    "messages =  [  \n",
    "{'role':'user', \n",
    " 'content': f\"{user_message}\"},  \n",
    "] \n",
    "response = commons.get_completion_from_messages(messages)\n",
    "print(response)"
   ]
  },
  {
   "cell_type": "code",
   "execution_count": 64,
   "id": "bc0c3d3e",
   "metadata": {},
   "outputs": [
    {
     "name": "stdout",
     "output_type": "stream",
     "text": [
      "Data source role information : Eres un asistente de recursos humanos. Tu respuesta debe ser en español y debe siempre empezar por estimado colaborador\n",
      "messages : [\n",
      "    {\n",
      "        \"role\": \"user\",\n",
      "        \"content\": \"Sigue los siguientes pasos para responder la pregunta delimitada por 4 hashtags: ####. Paso 1 : Si no tienes los datos del colaborador, tu respuesta debe seguir el siguiente formato : Estimado Baufesiano para responder su pregunta necesito los siguientes datos listando los datos que te falten y nada mas. Paso 2 : Si tienes los datos del colaborador, usa en tu respuesta el nombre del colaborador en lugar de estimado colaborador. Paso 3 : Usa las siguientes recomendaciones para tu respuesta : Recomendacion 1 : Si la respuesta es muy amplia, agrega a tu respuesta la solicitud de mayor detalle. Datos del colaborador: Nombre : . Antiguedad en Baufest : . Puesto : Desarrollador. Pais de la unidad : Argentina. ####\\u00bfCu\\u00e1les son los beneficios que ofrece Baufest?#### \"\n",
      "    }\n",
      "]\n",
      "Estimado Baufesiano, para responder su pregunta necesito saber su nombre, antigüedad en Baufest y país de la unidad. Por favor proporcione esta información para poder brindarle una respuesta más precisa. Gracias.\n"
     ]
    }
   ],
   "source": [
    "user_question=f\"\"\"\\\n",
    "¿Cuáles son los beneficios que ofrece Baufest?\"\"\"\n",
    "user_name=\"\"\n",
    "user_seniority=\"\"\n",
    "user_job=\"Desarrollador\"\n",
    "user_location=\"Argentina\"\n",
    "\n",
    "delimiter=\"####\"\n",
    "no_user_data_prefix=\"Estimado Baufesiano para responder su pregunta necesito los siguientes datos\"\n",
    "\n",
    "user_message = f\"\"\"\\\n",
    "Sigue los siguientes pasos para responder la pregunta delimitada por 4 hashtags: {delimiter}. \\\n",
    "Paso 1 : Si no tienes los datos del colaborador, tu respuesta debe seguir el siguiente formato : {no_user_data_prefix} \\\n",
    "listando los datos que te falten y nada mas. \\\n",
    "Paso 2 : Si tienes los datos del colaborador, usa en tu respuesta el nombre del colaborador \\\n",
    "en lugar de estimado colaborador. \\\n",
    "Paso 3 : Usa las siguientes recomendaciones para tu respuesta : \\\n",
    "Recomendacion 1 : Si la respuesta es muy amplia, agrega a tu respuesta la solicitud de mayor detalle. \\\n",
    "\\\n",
    "Datos del colaborador: \\\n",
    "Nombre : {user_name}. \\\n",
    "Antiguedad en Baufest : {user_seniority}. \\\n",
    "Puesto : {user_job}. \\\n",
    "Pais de la unidad : {user_location}. \\\n",
    "\\\n",
    "{delimiter}{user_question}{delimiter} \\\n",
    "\"\"\"\n",
    "messages =  [  \n",
    "{'role':'user', \n",
    " 'content': f\"{user_message}\"},  \n",
    "] \n",
    "response = commons.get_completion_from_messages(messages)\n",
    "print(response)"
   ]
  },
  {
   "cell_type": "code",
   "execution_count": 67,
   "id": "7682fb18",
   "metadata": {},
   "outputs": [
    {
     "name": "stdout",
     "output_type": "stream",
     "text": [
      "Data source role information : Eres un asistente de recursos humanos. Tu respuesta debe ser en español y debe siempre empezar por estimado colaborador\n",
      "messages : [\n",
      "    {\n",
      "        \"role\": \"user\",\n",
      "        \"content\": \"Sigue los siguientes pasos para responder la pregunta delimitada por 4 hashtags: ####. Paso 1 : Si no tienes los datos del colaborador, tu respuesta debe seguir el siguiente formato : Estimado Baufesiano para responder su pregunta necesito los siguientes datos listando los datos que te falten y nada mas. Paso 2 : Si tienes los datos del colaborador, usa en tu respuesta el nombre del colaborador en lugar de estimado colaborador. Paso 3 : Usa las siguientes recomendaciones para tu respuesta : Recomendacion 1 : Si la respuesta es muy amplia, agrega a tu respuesta la solicitud de mayor detalle. Datos del colaborador: Nombre : Santiago Vilche. Antiguedad en Baufest : . Puesto : Desarrollador. Pais de la unidad : Argentina. ####\\u00bfCu\\u00e1les son los beneficios que ofrece Baufest?#### \"\n",
      "    }\n",
      "]\n",
      "Estimado Santiago Vilche, para responder su pregunta necesito que me proporcione su antigüedad en Baufest y el país de la unidad en la que trabaja. Una vez que tenga esa información, podré brindarle una respuesta más precisa. Gracias.\n"
     ]
    }
   ],
   "source": [
    "user_question=f\"\"\"\\\n",
    "¿Cuáles son los beneficios que ofrece Baufest?\"\"\"\n",
    "user_name=\"Santiago Vilche\"\n",
    "user_seniority=\"\"\n",
    "user_job=\"Desarrollador\"\n",
    "user_location=\"Argentina\"\n",
    "\n",
    "delimiter=\"####\"\n",
    "no_user_data_prefix=\"Estimado Baufesiano para responder su pregunta necesito los siguientes datos\"\n",
    "\n",
    "user_message = f\"\"\"\\\n",
    "Sigue los siguientes pasos para responder la pregunta delimitada por 4 hashtags: {delimiter}. \\\n",
    "Paso 1 : Si no tienes los datos del colaborador, tu respuesta debe seguir el siguiente formato : {no_user_data_prefix} \\\n",
    "listando los datos que te falten y nada mas. \\\n",
    "Paso 2 : Si tienes los datos del colaborador, usa en tu respuesta el nombre del colaborador \\\n",
    "en lugar de estimado colaborador. \\\n",
    "Paso 3 : Usa las siguientes recomendaciones para tu respuesta : \\\n",
    "Recomendacion 1 : Si la respuesta es muy amplia, agrega a tu respuesta la solicitud de mayor detalle. \\\n",
    "\\\n",
    "Datos del colaborador: \\\n",
    "Nombre : {user_name}. \\\n",
    "Antiguedad en Baufest : {user_seniority}. \\\n",
    "Puesto : {user_job}. \\\n",
    "Pais de la unidad : {user_location}. \\\n",
    "\\\n",
    "{delimiter}{user_question}{delimiter} \\\n",
    "\"\"\"\n",
    "messages =  [  \n",
    "{'role':'user', \n",
    " 'content': f\"{user_message}\"},  \n",
    "] \n",
    "response = commons.get_completion_from_messages(messages)\n",
    "print(response)"
   ]
  },
  {
   "cell_type": "code",
   "execution_count": 91,
   "id": "b21243b1",
   "metadata": {},
   "outputs": [
    {
     "name": "stdout",
     "output_type": "stream",
     "text": [
      "Data source role information : Eres un asistente de recursos humanos. Tu respuesta debe ser en español y debe siempre empezar por estimado colaborador\n",
      "messages : [\n",
      "    {\n",
      "        \"role\": \"user\",\n",
      "        \"content\": \"Sigue los siguientes pasos para responder la pregunta delimitada por 4 hashtags: ####. Paso 1 : Si no tienes los datos del colaborador, tu respuesta debe seguir el siguiente formato : Estimado Baufesiano para responder su pregunta necesito los siguientes datos listando los datos que te falten y nada mas. Paso 2 : Si tienes los datos del colaborador, usa en tu respuesta el nombre del colaborador en lugar de estimado colaborador. Paso 3 : Usa las siguientes recomendaciones para tu respuesta : Recomendacion 1 : Si la respuesta es muy amplia, agrega a tu respuesta la solicitud de mayor detalle. Datos del colaborador: Nombre : Santiago Vilche. Antiguedad en Baufest : 2 a\\u00f1os. Puesto : Desarrollador. Pais de la unidad : Argentina. ####\\u00bfCu\\u00e1les son los beneficios que ofrece Baufest?#### \"\n",
      "    }\n",
      "]\n",
      "Estimado Santiago Vilche, para responder su pregunta sobre los beneficios que ofrece Baufest, puedo decirle que la empresa cuenta con varios beneficios para sus colaboradores en Argentina. Algunos de ellos son: BAU Dollar, BAU Health, BAU Net, BAU Lunch y Anti Tráfico. Cada uno de estos beneficios tiene sus propias características y requisitos, por lo que le recomiendo que consulte la documentación correspondiente para obtener más detalles sobre cada uno de ellos. Si necesita más información específica sobre alguno de estos beneficios, por favor hágamelo saber.\n"
     ]
    }
   ],
   "source": [
    "user_question=f\"\"\"\\\n",
    "¿Cuáles son los beneficios que ofrece Baufest?\"\"\"\n",
    "user_name=\"Santiago Vilche\"\n",
    "user_seniority=\"2 años\"\n",
    "user_job=\"Desarrollador\"\n",
    "user_location=\"Argentina\"\n",
    "\n",
    "delimiter=\"####\"\n",
    "no_user_data_prefix=\"Estimado Baufesiano para responder su pregunta necesito los siguientes datos\"\n",
    "\n",
    "user_message = f\"\"\"\\\n",
    "Sigue los siguientes pasos para responder la pregunta delimitada por 4 hashtags: {delimiter}. \\\n",
    "Paso 1 : Si no tienes los datos del colaborador, tu respuesta debe seguir el siguiente formato : {no_user_data_prefix} \\\n",
    "listando los datos que te falten y nada mas. \\\n",
    "Paso 2 : Si tienes los datos del colaborador, usa en tu respuesta el nombre del colaborador \\\n",
    "en lugar de estimado colaborador. \\\n",
    "Paso 3 : Usa las siguientes recomendaciones para tu respuesta : \\\n",
    "Recomendacion 1 : Si la respuesta es muy amplia, agrega a tu respuesta la solicitud de mayor detalle. \\\n",
    "\\\n",
    "Datos del colaborador: \\\n",
    "Nombre : {user_name}. \\\n",
    "Antiguedad en Baufest : {user_seniority}. \\\n",
    "Puesto : {user_job}. \\\n",
    "Pais de la unidad : {user_location}. \\\n",
    "\\\n",
    "{delimiter}{user_question}{delimiter} \\\n",
    "\"\"\"\n",
    "messages =  [  \n",
    "{'role':'user', \n",
    " 'content': f\"{user_message}\"},  \n",
    "] \n",
    "response = commons.get_completion_from_messages(messages)\n",
    "print(response)"
   ]
  },
  {
   "cell_type": "code",
   "execution_count": 89,
   "id": "5e70f019",
   "metadata": {},
   "outputs": [
    {
     "name": "stdout",
     "output_type": "stream",
     "text": [
      "Data source role information : Eres un asistente de recursos humanos. Tu respuesta debe ser en español y debe siempre empezar por estimado colaborador\n",
      "messages : [\n",
      "    {\n",
      "        \"role\": \"user\",\n",
      "        \"content\": \"Sigue los siguientes pasos para responder la pregunta delimitada por 4 hashtags: ####. Paso 1 : Si no tienes los datos del colaborador, tu respuesta debe seguir el siguiente formato : Estimado Baufesiano para responder su pregunta necesito los siguientes datos listando los datos que te falten y nada mas. Paso 2 : Si tienes los datos del colaborador, usa en tu respuesta el nombre del colaborador en lugar de estimado colaborador. Paso 3 : Usa las siguientes recomendaciones para tu respuesta : Recomendacion 1 : Usa los datos del colaborador para filtrar la respuesta. Recomendacion 2 : Solo muestra los resultados que tengan que ver con el pais de la unidad y la antiguedad en Baufest. Recomendacion 3 : Si la respuesta es muy amplia, filtra la respuesta por el pais de la unidad y la antiguedad en Baufest. Recomendacion 4 : Si la pregunta no es clara, solicita mayor detalle para responder. Datos del colaborador: Nombre : Santiago Vilche. Antiguedad en Baufest : 2 a\\u00f1os. Puesto : Desarrollador. Pais de la unidad : Argentina. ####\\u00bfCu\\u00e1les son los beneficios que ofrece Baufest?#### \"\n",
      "    }\n",
      "]\n",
      "Estimado Santiago Vilche, para responder su pregunta sobre los beneficios que ofrece Baufest, puedo decirle que la empresa ofrece varios beneficios en diferentes áreas, como BAU Dollar, BAU Health, BAU Net, BAU Lunch y Anti Tráfico. Para acceder a estos beneficios, es necesario cumplir con ciertos requisitos, como tener una antigüedad en Baufest de al menos 2 años, presentar copia del contrato de alquiler o escritura al nombre del colaborador y/o documento legal que respalde convivencia, y presentar una copia del documento de identidad donde conste el cambio de domicilio o en su defecto un servicio a su nombre o certificado policial. Para obtener más información sobre los beneficios específicos y los requisitos para acceder a ellos, puede consultar los documentos [doc1], [doc2], [doc3] y [doc4]. Tenga en cuenta que la información proporcionada en estos documentos es aplicable a todos los países de la región LATAM donde Baufest tiene presencia, incluyendo Argentina.\n"
     ]
    }
   ],
   "source": [
    "user_question=f\"\"\"\\\n",
    "¿Cuáles son los beneficios que ofrece Baufest?\"\"\"\n",
    "user_name=\"Santiago Vilche\"\n",
    "user_seniority=\"2 años\"\n",
    "user_job=\"Desarrollador\"\n",
    "user_location=\"Argentina\"\n",
    "\n",
    "delimiter=\"####\"\n",
    "no_user_data_prefix=\"Estimado Baufesiano para responder su pregunta necesito los siguientes datos\"\n",
    "\n",
    "user_message = f\"\"\"\\\n",
    "Sigue los siguientes pasos para responder la pregunta delimitada por 4 hashtags: {delimiter}. \\\n",
    "Paso 1 : Si no tienes los datos del colaborador, tu respuesta debe seguir el siguiente formato : {no_user_data_prefix} \\\n",
    "listando los datos que te falten y nada mas. \\\n",
    "Paso 2 : Si tienes los datos del colaborador, usa en tu respuesta el nombre del colaborador \\\n",
    "en lugar de estimado colaborador. \\\n",
    "Paso 3 : Usa las siguientes recomendaciones para tu respuesta : \\\n",
    "Recomendacion 1 : Usa los datos del colaborador para filtrar la respuesta. \\\n",
    "Recomendacion 2 : Solo muestra los resultados que tengan que ver con el pais de la unidad y la antiguedad en Baufest. \\\n",
    "Recomendacion 3 : Si la respuesta es muy amplia, filtra la respuesta por el pais de la unidad y la antiguedad en Baufest. \\\n",
    "Recomendacion 4 : Si la pregunta no es clara, solicita mayor detalle para responder. \\\n",
    "\\\n",
    "Datos del colaborador: \\\n",
    "Nombre : {user_name}. \\\n",
    "Antiguedad en Baufest : {user_seniority}. \\\n",
    "Puesto : {user_job}. \\\n",
    "Pais de la unidad : {user_location}. \\\n",
    "\\\n",
    "{delimiter}{user_question}{delimiter} \\\n",
    "\"\"\"\n",
    "messages =  [  \n",
    "{'role':'user', \n",
    " 'content': f\"{user_message}\"},  \n",
    "] \n",
    "response = commons.get_completion_from_messages(messages)\n",
    "print(response)"
   ]
  },
  {
   "cell_type": "code",
   "execution_count": 79,
   "id": "0305d5d1",
   "metadata": {},
   "outputs": [
    {
     "name": "stdout",
     "output_type": "stream",
     "text": [
      "Data source role information : Eres un asistente de recursos humanos. Tu respuesta debe ser en español y debe siempre empezar por estimado colaborador\n",
      "messages : [\n",
      "    {\n",
      "        \"role\": \"user\",\n",
      "        \"content\": \"Sigue los siguientes pasos para responder la pregunta delimitada por 4 hashtags: ####. Paso 1 : Si no tienes los datos del colaborador, tu respuesta debe seguir el siguiente formato : Estimado Baufesiano para responder su pregunta necesito los siguientes datos listando los datos que te falten y nada mas. Paso 2 : Si tienes los datos del colaborador, usa en tu respuesta el nombre del colaborador en lugar de estimado colaborador. Paso 3 : Usa las siguientes recomendaciones para tu respuesta : Recomendacion 1 : Usa los datos del colaborador para filtrar la respuesta. Recomendacion 2 : Solo muestra los resultados que tengan que ver con el pais de la unidad y la antiguedad en Baufest. Recomendacion 3 : Si la respuesta es muy amplia, filtra la respuesta por el pais de la unidad y la antiguedad en Baufest. Recomendacion 4 : Si la pregunta no es clara, solicita mayor detalle para responder. Datos del colaborador: Nombre : Santiago Vilche. Antiguedad en Baufest : 2 a\\u00f1os. Puesto : Desarrollador. Pais de la unidad : Mexico. ####\\u00bfCu\\u00e1les son los beneficios que ofrece Baufest?#### \"\n",
      "    }\n",
      "]\n",
      "Estimado Santiago Vilche, para responder su pregunta sobre los beneficios que ofrece Baufest, puedo decirle que la empresa ofrece varios beneficios a sus empleados en Latinoamérica, incluyendo México, como el programa de almuerzo BAU Lunch, el programa de salud BAU Health, el programa de internet BAU Net y el programa de transporte Anti Tráfico. Para acceder a estos beneficios, es necesario cumplir con ciertos requisitos, como tener una antigüedad de al menos 2 años en la empresa, presentar comprobantes de pago y tener una dirección de domicilio registrada en la empresa. Puede encontrar más información detallada sobre estos beneficios en los documentos [doc1] y [doc2]. Si necesita más detalles sobre algún beneficio en particular, por favor hágamelo saber.\n"
     ]
    }
   ],
   "source": [
    "user_question=f\"\"\"\\\n",
    "¿Cuáles son los beneficios que ofrece Baufest?\"\"\"\n",
    "user_name=\"Santiago Vilche\"\n",
    "user_seniority=\"2 años\"\n",
    "user_job=\"Desarrollador\"\n",
    "user_location=\"Mexico\"\n",
    "\n",
    "delimiter=\"####\"\n",
    "no_user_data_prefix=\"Estimado Baufesiano para responder su pregunta necesito los siguientes datos\"\n",
    "\n",
    "user_message = f\"\"\"\\\n",
    "Sigue los siguientes pasos para responder la pregunta delimitada por 4 hashtags: {delimiter}. \\\n",
    "Paso 1 : Si no tienes los datos del colaborador, tu respuesta debe seguir el siguiente formato : {no_user_data_prefix} \\\n",
    "listando los datos que te falten y nada mas. \\\n",
    "Paso 2 : Si tienes los datos del colaborador, usa en tu respuesta el nombre del colaborador \\\n",
    "en lugar de estimado colaborador. \\\n",
    "Paso 3 : Usa las siguientes recomendaciones para tu respuesta : \\\n",
    "Recomendacion 1 : Usa los datos del colaborador para filtrar la respuesta. \\\n",
    "Recomendacion 2 : Solo muestra los resultados que tengan que ver con el pais de la unidad y la antiguedad en Baufest. \\\n",
    "Recomendacion 3 : Si la respuesta es muy amplia, filtra la respuesta por el pais de la unidad y la antiguedad en Baufest. \\\n",
    "Recomendacion 4 : Si la pregunta no es clara, solicita mayor detalle para responder. \\\n",
    "\\\n",
    "Datos del colaborador: \\\n",
    "Nombre : {user_name}. \\\n",
    "Antiguedad en Baufest : {user_seniority}. \\\n",
    "Puesto : {user_job}. \\\n",
    "Pais de la unidad : {user_location}. \\\n",
    "\\\n",
    "{delimiter}{user_question}{delimiter} \\\n",
    "\"\"\"\n",
    "messages =  [  \n",
    "{'role':'user', \n",
    " 'content': f\"{user_message}\"},  \n",
    "] \n",
    "response = commons.get_completion_from_messages(messages)\n",
    "print(response)"
   ]
  },
  {
   "cell_type": "code",
   "execution_count": 80,
   "id": "5c9907de",
   "metadata": {},
   "outputs": [
    {
     "name": "stdout",
     "output_type": "stream",
     "text": [
      "Data source role information : Eres un asistente de recursos humanos. Tu respuesta debe ser en español y debe siempre empezar por estimado colaborador\n",
      "messages : [\n",
      "    {\n",
      "        \"role\": \"user\",\n",
      "        \"content\": \"Sigue los siguientes pasos para responder la pregunta delimitada por 4 hashtags: ####. Paso 1 : Si no tienes los datos del colaborador, tu respuesta debe seguir el siguiente formato : Estimado Baufesiano para responder su pregunta necesito los siguientes datos listando los datos que te falten y nada mas. Paso 2 : Si tienes los datos del colaborador, usa en tu respuesta el nombre del colaborador en lugar de estimado colaborador. Paso 3 : Usa las siguientes recomendaciones para tu respuesta : Recomendacion 1 : Usa los datos del colaborador para filtrar la respuesta. Recomendacion 2 : Solo muestra los resultados que tengan que ver con el pais de la unidad y la antiguedad en Baufest. Recomendacion 3 : Si la respuesta es muy amplia, filtra la respuesta por el pais de la unidad y la antiguedad en Baufest. Recomendacion 4 : Si la pregunta no es clara, solicita mayor detalle para responder. Datos del colaborador: Nombre : Santiago Vilche. Antiguedad en Baufest : 2 a\\u00f1os. Puesto : Desarrollador. Pais de la unidad : Mexico. ####\\u00bfCu\\u00e1l es el beneficio de BauDollar?#### \"\n",
      "    }\n",
      "]\n",
      "Estimado Santiago Vilche, el beneficio de BauDollar consiste en recibir el 20% del salario bruto en dólares, el cual se ajusta al tipo de cambio oficial del Banco Nación y se descuenta del monto total a transferir en pesos argentinos [doc1]. Este beneficio aplica a partir del sueldo de diciembre de 2021 que se cobra el primer día hábil de enero de 2022 y no tiene un mínimo de ingreso para acceder [doc1]. Para acceder a este beneficio, es necesario tener una antigüedad en Baufest de al menos 2 años al momento de la solicitud y presentar una copia del contrato de alquiler o escritura a nombre del colaborador y/o un documento legal que respalde la convivencia, así como una copia del documento de identidad donde conste el cambio de domicilio o en su defecto un servicio a su nombre o certificado policial [doc3]. Cabe destacar que este beneficio se considera terminado cuando se termina la relación laboral, por lo que no se cobra el importe en especie en la liquidación final .\n"
     ]
    }
   ],
   "source": [
    "user_question=f\"\"\"\\\n",
    "¿Cuál es el beneficio de BauDollar?\"\"\"\n",
    "user_name=\"Santiago Vilche\"\n",
    "user_seniority=\"2 años\"\n",
    "user_job=\"Desarrollador\"\n",
    "user_location=\"Mexico\"\n",
    "\n",
    "delimiter=\"####\"\n",
    "no_user_data_prefix=\"Estimado Baufesiano para responder su pregunta necesito los siguientes datos\"\n",
    "\n",
    "user_message = f\"\"\"\\\n",
    "Sigue los siguientes pasos para responder la pregunta delimitada por 4 hashtags: {delimiter}. \\\n",
    "Paso 1 : Si no tienes los datos del colaborador, tu respuesta debe seguir el siguiente formato : {no_user_data_prefix} \\\n",
    "listando los datos que te falten y nada mas. \\\n",
    "Paso 2 : Si tienes los datos del colaborador, usa en tu respuesta el nombre del colaborador \\\n",
    "en lugar de estimado colaborador. \\\n",
    "Paso 3 : Usa las siguientes recomendaciones para tu respuesta : \\\n",
    "Recomendacion 1 : Usa los datos del colaborador para filtrar la respuesta. \\\n",
    "Recomendacion 2 : Solo muestra los resultados que tengan que ver con el pais de la unidad y la antiguedad en Baufest. \\\n",
    "Recomendacion 3 : Si la respuesta es muy amplia, filtra la respuesta por el pais de la unidad y la antiguedad en Baufest. \\\n",
    "Recomendacion 4 : Si la pregunta no es clara, solicita mayor detalle para responder. \\\n",
    "\\\n",
    "Datos del colaborador: \\\n",
    "Nombre : {user_name}. \\\n",
    "Antiguedad en Baufest : {user_seniority}. \\\n",
    "Puesto : {user_job}. \\\n",
    "Pais de la unidad : {user_location}. \\\n",
    "\\\n",
    "{delimiter}{user_question}{delimiter} \\\n",
    "\"\"\"\n",
    "messages =  [  \n",
    "{'role':'user', \n",
    " 'content': f\"{user_message}\"},  \n",
    "] \n",
    "response = commons.get_completion_from_messages(messages)\n",
    "print(response)"
   ]
  },
  {
   "cell_type": "code",
   "execution_count": 81,
   "id": "6995a424",
   "metadata": {},
   "outputs": [
    {
     "name": "stdout",
     "output_type": "stream",
     "text": [
      "Data source role information : Eres un asistente de recursos humanos. Tu respuesta debe ser en español y debe siempre empezar por estimado colaborador\n",
      "messages : [\n",
      "    {\n",
      "        \"role\": \"user\",\n",
      "        \"content\": \"Sigue los siguientes pasos para responder la pregunta delimitada por 4 hashtags: ####. Paso 1 : Si no tienes los datos del colaborador, tu respuesta debe seguir el siguiente formato : Estimado Baufesiano para responder su pregunta necesito los siguientes datos listando los datos que te falten y nada mas. Paso 2 : Si tienes los datos del colaborador, usa en tu respuesta el nombre del colaborador en lugar de estimado colaborador. Paso 3 : Usa las siguientes recomendaciones para tu respuesta : Recomendacion 1 : Usa los datos del colaborador para filtrar la respuesta. Recomendacion 2 : Solo muestra los resultados que tengan que ver con el pais de la unidad y la antiguedad en Baufest. Recomendacion 3 : Si la respuesta es muy amplia, filtra la respuesta por el pais de la unidad y la antiguedad en Baufest. Recomendacion 4 : Si la pregunta no es clara, solicita mayor detalle para responder. Datos del colaborador: Nombre : Santiago Vilche. Antiguedad en Baufest : 2 a\\u00f1os. Puesto : Desarrollador. Pais de la unidad : Argentina. ####\\u00bfQu\\u00e9 opinas de la vida?#### \"\n",
      "    }\n",
      "]\n",
      "Estimado Santiago Vilche, para responder su pregunta necesito que me proporcione una consulta relacionada con su antigüedad en Baufest y el país de la unidad. Si tiene alguna pregunta específica sobre su trabajo en Baufest, estaré encantado de ayudarlo. Por favor proporcione más detalles para que pueda brindarle una respuesta precisa.\n"
     ]
    }
   ],
   "source": [
    "user_question=f\"\"\"\\\n",
    "¿Qué opinas de la vida?\"\"\"\n",
    "user_name=\"Santiago Vilche\"\n",
    "user_seniority=\"2 años\"\n",
    "user_job=\"Desarrollador\"\n",
    "user_location=\"Argentina\"\n",
    "\n",
    "delimiter=\"####\"\n",
    "no_user_data_prefix=\"Estimado Baufesiano para responder su pregunta necesito los siguientes datos\"\n",
    "\n",
    "user_message = f\"\"\"\\\n",
    "Sigue los siguientes pasos para responder la pregunta delimitada por 4 hashtags: {delimiter}. \\\n",
    "Paso 1 : Si no tienes los datos del colaborador, tu respuesta debe seguir el siguiente formato : {no_user_data_prefix} \\\n",
    "listando los datos que te falten y nada mas. \\\n",
    "Paso 2 : Si tienes los datos del colaborador, usa en tu respuesta el nombre del colaborador \\\n",
    "en lugar de estimado colaborador. \\\n",
    "Paso 3 : Usa las siguientes recomendaciones para tu respuesta : \\\n",
    "Recomendacion 1 : Usa los datos del colaborador para filtrar la respuesta. \\\n",
    "Recomendacion 2 : Solo muestra los resultados que tengan que ver con el pais de la unidad y la antiguedad en Baufest. \\\n",
    "Recomendacion 3 : Si la respuesta es muy amplia, filtra la respuesta por el pais de la unidad y la antiguedad en Baufest. \\\n",
    "Recomendacion 4 : Si la pregunta no es clara, solicita mayor detalle para responder. \\\n",
    "\\\n",
    "Datos del colaborador: \\\n",
    "Nombre : {user_name}. \\\n",
    "Antiguedad en Baufest : {user_seniority}. \\\n",
    "Puesto : {user_job}. \\\n",
    "Pais de la unidad : {user_location}. \\\n",
    "\\\n",
    "{delimiter}{user_question}{delimiter} \\\n",
    "\"\"\"\n",
    "messages =  [  \n",
    "{'role':'user', \n",
    " 'content': f\"{user_message}\"},  \n",
    "] \n",
    "response = commons.get_completion_from_messages(messages)\n",
    "print(response)"
   ]
  },
  {
   "cell_type": "markdown",
   "id": "56ffcb22",
   "metadata": {},
   "source": [
    "### ¿Funcionara usando el ejemplo de L4-Process-Inputs-Chain-of-Thought-Reasoning?\n",
    "\n",
    "Usaremos la técnica de chain of though:"
   ]
  },
  {
   "cell_type": "code",
   "execution_count": 82,
   "id": "206faa21",
   "metadata": {},
   "outputs": [
    {
     "name": "stdout",
     "output_type": "stream",
     "text": [
      "Data source role information : Eres un asistente de recursos humanos. Tu respuesta debe ser en español y debe siempre empezar por estimado colaborador\n",
      "messages : [\n",
      "    {\n",
      "        \"role\": \"user\",\n",
      "        \"content\": \"Sigue los siguientes pasos para responder la pregunta delimitada por 4 hashtags: ####. Paso 1 : Si no tienes los datos del colaborador, tu respuesta debe seguir el siguiente formato : Estimado Baufesiano para responder su pregunta necesito los siguientes datos listando los datos que te falten y nada mas. Paso 2 : Si tienes los datos del colaborador, usa en tu respuesta el nombre del colaborador en lugar de estimado colaborador. Paso 3 : Usa las siguientes recomendaciones para tu respuesta : Recomendacion 1 : Usa los datos del colaborador para filtrar la respuesta. Recomendacion 2 : Solo muestra los resultados que tengan que ver con el pais de la unidad y la antiguedad en Baufest. Recomendacion 3 : Si la respuesta es muy amplia, filtra la respuesta por el pais de la unidad y la antiguedad en Baufest. Recomendacion 4 : Si la pregunta no es clara, solicita mayor detalle para responder. Datos del colaborador: Nombre : Santiago Vilche. Antiguedad en Baufest : 2 a\\u00f1os. Puesto : Desarrollador. Pais de la unidad : Argentina. ####\\u00bfQu\\u00e9 opinas de la vida?#### Usa el siguiente formato para tu respuesta : Paso 1: <Razonamiento paso 1> Paso 2: <Razonamiento paso 2> Paso 3: <Razonamiento paso 3> Respuesta al colaborador: <Respuesta a la pregunta> \"\n",
      "    }\n",
      "]\n",
      "Estimado Santiago Vilche, para responder su pregunta necesito los siguientes datos: ¿Cuál es su pregunta específica sobre su antigüedad en Baufest y su país de la unidad? Por favor proporcione más detalles para poder ayudarlo mejor. Gracias.\n"
     ]
    }
   ],
   "source": [
    "user_question=f\"\"\"\\\n",
    "¿Qué opinas de la vida?\"\"\"\n",
    "user_name=\"Santiago Vilche\"\n",
    "user_seniority=\"2 años\"\n",
    "user_job=\"Desarrollador\"\n",
    "user_location=\"Argentina\"\n",
    "\n",
    "delimiter=\"####\"\n",
    "no_user_data_prefix=\"Estimado Baufesiano para responder su pregunta necesito los siguientes datos\"\n",
    "\n",
    "user_message = f\"\"\"\\\n",
    "Sigue los siguientes pasos para responder la pregunta delimitada por 4 hashtags: {delimiter}. \\\n",
    "Paso 1 : Si no tienes los datos del colaborador, tu respuesta debe seguir el siguiente formato : {no_user_data_prefix} \\\n",
    "listando los datos que te falten y nada mas. \\\n",
    "Paso 2 : Si tienes los datos del colaborador, usa en tu respuesta el nombre del colaborador \\\n",
    "en lugar de estimado colaborador. \\\n",
    "Paso 3 : Usa las siguientes recomendaciones para tu respuesta : \\\n",
    "Recomendacion 1 : Usa los datos del colaborador para filtrar la respuesta. \\\n",
    "Recomendacion 2 : Solo muestra los resultados que tengan que ver con el pais de la unidad y la antiguedad en Baufest. \\\n",
    "Recomendacion 3 : Si la respuesta es muy amplia, filtra la respuesta por el pais de la unidad y la antiguedad en Baufest. \\\n",
    "Recomendacion 4 : Si la pregunta no es clara, solicita mayor detalle para responder. \\\n",
    "\\\n",
    "Datos del colaborador: \\\n",
    "Nombre : {user_name}. \\\n",
    "Antiguedad en Baufest : {user_seniority}. \\\n",
    "Puesto : {user_job}. \\\n",
    "Pais de la unidad : {user_location}. \\\n",
    "\\\n",
    "{delimiter}{user_question}{delimiter} \\\n",
    "\\\n",
    "Usa el siguiente formato para tu respuesta : \\\n",
    "Paso 1: <Razonamiento paso 1> \\\n",
    "Paso 2: <Razonamiento paso 2> \\\n",
    "Paso 3: <Razonamiento paso 3> \\\n",
    "Respuesta al colaborador: <Respuesta a la pregunta> \\\n",
    "\\\n",
    "\"\"\"\n",
    "messages =  [  \n",
    "{'role':'user', \n",
    " 'content': f\"{user_message}\"},  \n",
    "] \n",
    "response = commons.get_completion_from_messages(messages)\n",
    "print(response)"
   ]
  },
  {
   "cell_type": "markdown",
   "id": "30a45666",
   "metadata": {},
   "source": [
    "Parece ser que tenemos que reformular la técnica de chain of thoughts"
   ]
  },
  {
   "cell_type": "code",
   "execution_count": null,
   "id": "ad6266ba",
   "metadata": {},
   "outputs": [],
   "source": []
  },
  {
   "cell_type": "code",
   "execution_count": null,
   "id": "d6f8ef68",
   "metadata": {},
   "outputs": [],
   "source": []
  }
 ],
 "metadata": {
  "kernelspec": {
   "display_name": "Python 3 (ipykernel)",
   "language": "python",
   "name": "python3"
  },
  "language_info": {
   "codemirror_mode": {
    "name": "ipython",
    "version": 3
   },
   "file_extension": ".py",
   "mimetype": "text/x-python",
   "name": "python",
   "nbconvert_exporter": "python",
   "pygments_lexer": "ipython3",
   "version": "3.11.5"
  }
 },
 "nbformat": 4,
 "nbformat_minor": 5
}
