{
 "cells": [
  {
   "cell_type": "markdown",
   "id": "8d6bb76b",
   "metadata": {},
   "source": [
    "# Ajustes a la demo\n",
    "Se ha pedido el cambio de quitar \"Estimado Baufesiano\" y \"Saludos cordiales\""
   ]
  },
  {
   "cell_type": "code",
   "execution_count": 1,
   "id": "4f81cbe5",
   "metadata": {},
   "outputs": [],
   "source": [
    "import commons"
   ]
  },
  {
   "cell_type": "code",
   "execution_count": 2,
   "id": "a061364b",
   "metadata": {},
   "outputs": [
    {
     "name": "stdout",
     "output_type": "stream",
     "text": [
      "AZURE_SEARCH_SERVICE: gptkb-moww6huavlklg\n",
      "AZURE_SEARCH_INDEX: people-culture-faq\n",
      "AZURE_SEARCH_KEY: QqNRt5LDccm2evQgIViI3EYGJTmePwDPFkyqu1kQz8AzSeDK1oYt\n",
      "AZURE_SEARCH_USE_SEMANTIC_SEARCH: True\n",
      "AZURE_SEARCH_SEMANTIC_SEARCH_CONFIG: default\n",
      "AZURE_SEARCH_TOP_K: 3\n",
      "AZURE_SEARCH_ENABLE_IN_DOMAIN: True\n",
      "AZURE_SEARCH_CONTENT_COLUMNS: content\n",
      "AZURE_SEARCH_FILENAME_COLUMN: filepath\n",
      "AZURE_SEARCH_TITLE_COLUMN: title\n",
      "AZURE_SEARCH_URL_COLUMN: url\n",
      "AZURE_SEARCH_VECTOR_COLUMNS: None\n",
      "AZURE_SEARCH_QUERY_TYPE: semantic\n",
      "AZURE_SEARCH_PERMITTED_GROUPS_COLUMN: None\n",
      "AZURE_SEARCH_STRICTNESS: 3\n",
      "AZURE_OPENAI_RESOURCE: cog-moww6huavlklg\n",
      "AZURE_OPENAI_KEY: 67062ab6dcde4f9ab8243f04601e6e88\n",
      "AZURE_OPENAI_MODEL: chat\n",
      "AZURE_OPENAI_SYSTEM_MESSAGE: Eres un asistente de recursos humanos. Tu respuesta debe ser en español y debe siempre empezar por estimado colaborador\n"
     ]
    }
   ],
   "source": [
    "commons.print_required_variables(True)"
   ]
  },
  {
   "cell_type": "markdown",
   "id": "a1819573",
   "metadata": {},
   "source": [
    "Prompt original en español y con la etiqueta"
   ]
  },
  {
   "cell_type": "code",
   "execution_count": 3,
   "id": "a21bd5ab",
   "metadata": {},
   "outputs": [
    {
     "name": "stdout",
     "output_type": "stream",
     "text": [
      "Data source role information : Eres un asistente de recursos humanos. Tu respuesta debe ser en español y debe siempre empezar por estimado colaborador\n",
      "messages : [\n",
      "    {\n",
      "        \"role\": \"user\",\n",
      "        \"content\": \"Sigue los siguientes pasos para responder la pregunta delimitada por 4 hashtags: ####. Paso 1 : Si no tienes los datos del colaborador, tu respuesta debe seguir el siguiente formato : Estimado Baufesiano para responder su pregunta necesito los siguientes datos listando los datos que te falten y nada mas. Paso 2 : Si tienes los datos del colaborador, usa en tu respuesta el nombre del colaborador en lugar de estimado colaborador. Paso 3 : Usa las siguientes recomendaciones para tu respuesta : Recomendacion 1 : Usa los datos del colaborador para filtrar la respuesta. Recomendacion 2 : Solo muestra los resultados que tengan que ver con el pais de la unidad y la antiguedad en Baufest. Recomendacion 3 : Si la respuesta es muy amplia, filtra la respuesta por el pais de la unidad y la antiguedad en Baufest. Recomendacion 4 : Si la pregunta no es clara, solicita mayor detalle para responder. Datos del colaborador: Nombre : . Antiguedad en Baufest : . Puesto : . Pais de la unidad : . ####Lista los beneficios de Baufest#### \"\n",
      "    }\n",
      "]\n",
      "Estimado Baufesiano, para poder responder su pregunta necesito que me proporcione su nombre, antigüedad en Baufest, puesto y país de la unidad. Una vez que tenga esta información, podré filtrar la respuesta para mostrar solo los beneficios que correspondan a su país de la unidad y antigüedad en Baufest. Por favor proporcione esta información para poder ayudarlo de manera más efectiva.\n"
     ]
    }
   ],
   "source": [
    "user_question=f\"\"\"\\\n",
    "Lista los beneficios de Baufest\"\"\"\n",
    "user_name=\"\"\n",
    "user_seniority=\"\"\n",
    "user_job=\"\"\n",
    "user_location=\"\"\n",
    "\n",
    "delimiter=\"####\"\n",
    "no_user_data_prefix=\"Estimado Baufesiano para responder su pregunta necesito los siguientes datos\"\n",
    "\n",
    "user_message = f\"\"\"\\\n",
    "Sigue los siguientes pasos para responder la pregunta delimitada por 4 hashtags: {delimiter}. \\\n",
    "Paso 1 : Si no tienes los datos del colaborador, tu respuesta debe seguir el siguiente formato : {no_user_data_prefix} \\\n",
    "listando los datos que te falten y nada mas. \\\n",
    "Paso 2 : Si tienes los datos del colaborador, usa en tu respuesta el nombre del colaborador \\\n",
    "en lugar de estimado colaborador. \\\n",
    "Paso 3 : Usa las siguientes recomendaciones para tu respuesta : \\\n",
    "Recomendacion 1 : Usa los datos del colaborador para filtrar la respuesta. \\\n",
    "Recomendacion 2 : Solo muestra los resultados que tengan que ver con el pais de la unidad y la antiguedad en Baufest. \\\n",
    "Recomendacion 3 : Si la respuesta es muy amplia, filtra la respuesta por el pais de la unidad y la antiguedad en Baufest. \\\n",
    "Recomendacion 4 : Si la pregunta no es clara, solicita mayor detalle para responder. \\\n",
    "\\\n",
    "Datos del colaborador: \\\n",
    "Nombre : {user_name}. \\\n",
    "Antiguedad en Baufest : {user_seniority}. \\\n",
    "Puesto : {user_job}. \\\n",
    "Pais de la unidad : {user_location}. \\\n",
    "\\\n",
    "{delimiter}{user_question}{delimiter} \\\n",
    "\"\"\"\n",
    "messages =  [  \n",
    "{'role':'user', \n",
    " 'content': f\"{user_message}\"},  \n",
    "] \n",
    "response = commons.get_completion_from_messages(messages)\n",
    "print(response)"
   ]
  },
  {
   "cell_type": "code",
   "execution_count": 25,
   "id": "6b875a66",
   "metadata": {},
   "outputs": [
    {
     "name": "stdout",
     "output_type": "stream",
     "text": [
      "Instruction 1 : Decide if the fields: 'name', 'years working in Baufest', 'job role' and 'country' have values,\n",
      "in the user_data json object delimited by ###user_context### below.\n",
      "\n",
      "Instruction 2 : If the fields of user_data do not have any value ask for the missing values before answer any question.\n",
      "\n",
      "Instruction 3 : If user_data field 'name' is provided use the value in your answer.\n",
      "\n",
      "{'user_data': {'name': '', 'years working in Baufest': '', 'job role': '', 'country': ''}}\n"
     ]
    }
   ],
   "source": [
    "generic_template = \"\"\"\n",
    "To answer the question delimited by ###question### follow the instructions delimited by ###instructions### below.\n",
    "\n",
    "###instructions###\n",
    "{rules}\n",
    "###instructions###\n",
    "\n",
    "###question###\n",
    "{question}\n",
    "###question###\n",
    "\n",
    "###user_context###\n",
    "{user_data}\n",
    "###user_context###\n",
    "\n",
    "\"\"\"\n",
    "\n",
    "rules = \"\"\"\\\n",
    "Instruction 1 : Decide if the fields: 'name', 'years working in Baufest', 'job role' and 'country' have values,\n",
    "in the user_data json object delimited by ###user_context### below.\n",
    "\n",
    "Instruction 2 : If the fields of user_data do not have any value ask for the missing values before answer any question.\n",
    "\n",
    "Instruction 3 : If user_data field 'name' is provided use the value in your answer.\n",
    "\"\"\"\n",
    "\n"
   ]
  },
  {
   "cell_type": "code",
   "execution_count": 28,
   "id": "cb4f6cfc",
   "metadata": {},
   "outputs": [
    {
     "name": "stdout",
     "output_type": "stream",
     "text": [
      "Instruction 1 : Decide if the fields: 'name', 'years working in Baufest', 'job role' and 'country' have values,\n",
      "in the user_data json object delimited by ###user_context### below.\n",
      "\n",
      "Instruction 2 : If the fields of user_data do not have any value ask for the missing values before answer any question.\n",
      "\n",
      "Instruction 3 : If user_data field 'name' is provided use the value in your answer.\n",
      "\n",
      "{'user_data': {'name': '', 'years working in Baufest': '', 'job role': '', 'country': ''}}\n"
     ]
    }
   ],
   "source": [
    "print(rules)\n",
    "json_user_data = {\n",
    "    \"user_data\": {\n",
    "        \"name\":\"\",\n",
    "        \"years working in Baufest\":\"\",\n",
    "        \"job role\":\"\",\n",
    "        \"country\":\"\"        \n",
    "    }\n",
    "} \n",
    "\n",
    "print(json_user_data)\n",
    "\n",
    "question = \"Lista los beneficios de Baufest\""
   ]
  },
  {
   "cell_type": "code",
   "execution_count": 26,
   "id": "dd9c3e32",
   "metadata": {},
   "outputs": [
    {
     "name": "stdout",
     "output_type": "stream",
     "text": [
      "prompt_to_test : \n",
      "To answer the question delimited by ###question### follow the instructions delimited by ###instructions### below.\n",
      "\n",
      "###instructions###\n",
      "Instruction 1 : Decide if the fields: 'name', 'years working in Baufest', 'job role' and 'country' have values,\n",
      "in the user_data json object delimited by ###user_context### below.\n",
      "\n",
      "Instruction 2 : If the fields of user_data do not have any value ask for the missing values before answer any question.\n",
      "\n",
      "Instruction 3 : If user_data field 'name' is provided use the value in your answer.\n",
      "\n",
      "###instructions###\n",
      "\n",
      "###question###\n",
      "Lista los beneficios de Baufest\n",
      "###question###\n",
      "\n",
      "###user_context###\n",
      "{'user_data': {'name': '', 'years working in Baufest': '', 'job role': '', 'country': ''}}\n",
      "###user_context###\n",
      "\n",
      "\n"
     ]
    }
   ],
   "source": [
    "prompt_to_test = generic_template.format(rules=rules, question=question, user_data=json_user_data)\n",
    "\n",
    "print(f\"prompt_to_test : {prompt_to_test}\")"
   ]
  },
  {
   "cell_type": "code",
   "execution_count": 27,
   "id": "fa408462",
   "metadata": {},
   "outputs": [
    {
     "name": "stdout",
     "output_type": "stream",
     "text": [
      "Data source role information : Eres un asistente de recursos humanos. Tu respuesta debe ser en español y debe siempre empezar por estimado colaborador\n",
      "messages : [\n",
      "    {\n",
      "        \"role\": \"user\",\n",
      "        \"content\": \"\\nTo answer the question delimited by ###question### follow the instructions delimited by ###instructions### below.\\n\\n###instructions###\\nInstruction 1 : Decide if the fields: 'name', 'years working in Baufest', 'job role' and 'country' have values,\\nin the user_data json object delimited by ###user_context### below.\\n\\nInstruction 2 : If the fields of user_data do not have any value ask for the missing values before answer any question.\\n\\nInstruction 3 : If user_data field 'name' is provided use the value in your answer.\\n\\n###instructions###\\n\\n###question###\\nLista los beneficios de Baufest\\n###question###\\n\\n###user_context###\\n{'user_data': {'name': '', 'years working in Baufest': '', 'job role': '', 'country': ''}}\\n###user_context###\\n\\n\"\n",
      "    }\n",
      "]\n",
      "Estimado colaborador, antes de poder responder tu pregunta, necesito que me proporciones algunos datos. ¿Podrías indicarme tu nombre, cuántos años llevas trabajando en Baufest, cuál es tu rol y en qué país trabajas? De esta manera, podré brindarte una respuesta más precisa y personalizada.\n"
     ]
    }
   ],
   "source": [
    "messages =  [  \n",
    "{'role':'user', \n",
    " 'content': f\"{prompt_to_test}\"},  \n",
    "] \n",
    "response = commons.get_completion_from_messages(messages)\n",
    "print(response)"
   ]
  },
  {
   "cell_type": "code",
   "execution_count": 46,
   "id": "08874fea",
   "metadata": {},
   "outputs": [
    {
     "name": "stdout",
     "output_type": "stream",
     "text": [
      "Instruction 1 : Decide if the fields: 'name', 'years working in Baufest', 'job role' and 'country' have values,\n",
      "in the user_data json object delimited by ###user_context### below.\n",
      "\n",
      "Instruction 2 : If the fields of user_data do not have any value ask for the missing values before answer any question.\n",
      "\n",
      "Instruction 3 : Use user_data field 'name' in your answer to greting the user by 'name'.\n",
      "\n",
      "Instruction 4 : Filter your answer using user_data fields: 'years working in Baufest' and 'country' as working place unit.\n",
      "\n",
      "Final instruction : Remember to use in your answer an easygoing language for a chat answer.\n",
      "\n",
      "{'user_data': {'name': 'Alejandro Gómez', 'years working in Baufest': '2 años', 'job role': 'Software architect', 'country': 'México'}}\n"
     ]
    }
   ],
   "source": [
    "rules = \"\"\"\\\n",
    "Instruction 1 : Decide if the fields: 'name', 'years working in Baufest', 'job role' and 'country' have values,\n",
    "in the user_data json object delimited by ###user_context### below.\n",
    "\n",
    "Instruction 2 : If the fields of user_data do not have any value ask for the missing values before answer any question.\n",
    "\n",
    "Instruction 3 : Use user_data field 'name' in your answer to greting the user by 'name'.\n",
    "\n",
    "Instruction 4 : Filter your answer using user_data fields: 'years working in Baufest' and 'country' as working place unit.\n",
    "\n",
    "Final instruction : Remember to use in your answer an easygoing language for a chat answer.\n",
    "\"\"\"\n",
    "\n",
    "print(rules)\n",
    "json_user_data = {\n",
    "    \"user_data\": {\n",
    "        \"name\":\"Alejandro Gómez\",\n",
    "        \"years working in Baufest\":\"2 años\",\n",
    "        \"job role\":\"Software architect\",\n",
    "        \"country\":\"México\"        \n",
    "    }\n",
    "} \n",
    "\n",
    "print(json_user_data)\n",
    "\n",
    "question = \"Lista los beneficios de Baufest\""
   ]
  },
  {
   "cell_type": "code",
   "execution_count": 47,
   "id": "609aa792",
   "metadata": {},
   "outputs": [
    {
     "name": "stdout",
     "output_type": "stream",
     "text": [
      "prompt_to_test : \n",
      "To answer the question delimited by ###question### follow the instructions delimited by ###instructions### below.\n",
      "\n",
      "###instructions###\n",
      "Instruction 1 : Decide if the fields: 'name', 'years working in Baufest', 'job role' and 'country' have values,\n",
      "in the user_data json object delimited by ###user_context### below.\n",
      "\n",
      "Instruction 2 : If the fields of user_data do not have any value ask for the missing values before answer any question.\n",
      "\n",
      "Instruction 3 : Use user_data field 'name' in your answer to greting the user by 'name'.\n",
      "\n",
      "Instruction 4 : Filter your answer using user_data fields: 'years working in Baufest' and 'country' as working place unit.\n",
      "\n",
      "Final instruction : Remember to use in your answer an easygoing language for a chat answer.\n",
      "\n",
      "###instructions###\n",
      "\n",
      "###question###\n",
      "Lista los beneficios de Baufest\n",
      "###question###\n",
      "\n",
      "###user_context###\n",
      "{'user_data': {'name': 'Alejandro Gómez', 'years working in Baufest': '2 años', 'job role': 'Software architect', 'country': 'México'}}\n",
      "###user_context###\n",
      "\n",
      "\n"
     ]
    }
   ],
   "source": [
    "prompt_to_test = generic_template.format(rules=rules, question=question, user_data=json_user_data)\n",
    "\n",
    "print(f\"prompt_to_test : {prompt_to_test}\")"
   ]
  },
  {
   "cell_type": "code",
   "execution_count": 48,
   "id": "0e4a3322",
   "metadata": {},
   "outputs": [
    {
     "name": "stdout",
     "output_type": "stream",
     "text": [
      "Data source role information : Eres un asistente de recursos humanos. Tu respuesta debe ser en español y debe siempre empezar por estimado colaborador\n",
      "messages : [\n",
      "    {\n",
      "        \"role\": \"user\",\n",
      "        \"content\": \"\\nTo answer the question delimited by ###question### follow the instructions delimited by ###instructions### below.\\n\\n###instructions###\\nInstruction 1 : Decide if the fields: 'name', 'years working in Baufest', 'job role' and 'country' have values,\\nin the user_data json object delimited by ###user_context### below.\\n\\nInstruction 2 : If the fields of user_data do not have any value ask for the missing values before answer any question.\\n\\nInstruction 3 : Use user_data field 'name' in your answer to greting the user by 'name'.\\n\\nInstruction 4 : Filter your answer using user_data fields: 'years working in Baufest' and 'country' as working place unit.\\n\\nFinal instruction : Remember to use in your answer an easygoing language for a chat answer.\\n\\n###instructions###\\n\\n###question###\\nLista los beneficios de Baufest\\n###question###\\n\\n###user_context###\\n{'user_data': {'name': 'Alejandro G\\u00f3mez', 'years working in Baufest': '2 a\\u00f1os', 'job role': 'Software architect', 'country': 'M\\u00e9xico'}}\\n###user_context###\\n\\n\"\n",
      "    }\n",
      "]\n",
      "Estimado Alejandro Gómez, ¡bienvenido! En Baufest contamos con varios beneficios para nuestros colaboradores. Algunos de ellos son: el programa de almuerzo, el cual es acreditado mensualmente , el programa de ayuda para el alquiler de vivienda, el cual requiere una antigüedad de 2 años en Baufest y la presentación de ciertos documentos , y el programa Anti Tráfico, el cual permite cambiar el rango de horario una vez al mes [doc1]. Además, contamos con un programa de salud para nuestros colaboradores en LATAM . Si tienes alguna pregunta adicional, no dudes en preguntar.\n"
     ]
    }
   ],
   "source": [
    "messages =  [  \n",
    "{'role':'user', \n",
    " 'content': f\"{prompt_to_test}\"},  \n",
    "] \n",
    "response = commons.get_completion_from_messages(messages)\n",
    "print(response)"
   ]
  },
  {
   "cell_type": "code",
   "execution_count": 49,
   "id": "cdcc0c62",
   "metadata": {},
   "outputs": [
    {
     "name": "stdout",
     "output_type": "stream",
     "text": [
      "prompt_to_test : \n",
      "To answer the question delimited by ###question### follow the instructions delimited by ###instructions### below.\n",
      "\n",
      "###instructions###\n",
      "Instruction 1 : Decide if the fields: 'name', 'years working in Baufest', 'job role' and 'country' have values,\n",
      "in the user_data json object delimited by ###user_context### below.\n",
      "\n",
      "Instruction 2 : If the fields of user_data do not have any value ask for the missing values before answer any question.\n",
      "\n",
      "Instruction 3 : Use user_data field 'name' in your answer to greting the user by 'name'.\n",
      "\n",
      "Instruction 4 : Filter your answer using user_data fields: 'years working in Baufest' and 'country' as working place unit.\n",
      "\n",
      "Final instruction : Remember to use in your answer an easygoing language for a chat answer.\n",
      "\n",
      "###instructions###\n",
      "\n",
      "###question###\n",
      "¿Cómo obtengo mi almuerzo o lunch?\n",
      "###question###\n",
      "\n",
      "###user_context###\n",
      "{'user_data': {'name': 'Alejandro Gómez', 'years working in Baufest': '2 años', 'job role': 'Software architect', 'country': 'México'}}\n",
      "###user_context###\n",
      "\n",
      "\n"
     ]
    }
   ],
   "source": [
    "question = \"¿Cómo obtengo mi almuerzo o lunch?\"\n",
    "prompt_to_test = generic_template.format(rules=rules, question=question, user_data=json_user_data)\n",
    "\n",
    "print(f\"prompt_to_test : {prompt_to_test}\")"
   ]
  },
  {
   "cell_type": "code",
   "execution_count": 50,
   "id": "ac6394fd",
   "metadata": {},
   "outputs": [
    {
     "name": "stdout",
     "output_type": "stream",
     "text": [
      "Data source role information : Eres un asistente de recursos humanos. Tu respuesta debe ser en español y debe siempre empezar por estimado colaborador\n",
      "messages : [\n",
      "    {\n",
      "        \"role\": \"user\",\n",
      "        \"content\": \"\\nTo answer the question delimited by ###question### follow the instructions delimited by ###instructions### below.\\n\\n###instructions###\\nInstruction 1 : Decide if the fields: 'name', 'years working in Baufest', 'job role' and 'country' have values,\\nin the user_data json object delimited by ###user_context### below.\\n\\nInstruction 2 : If the fields of user_data do not have any value ask for the missing values before answer any question.\\n\\nInstruction 3 : Use user_data field 'name' in your answer to greting the user by 'name'.\\n\\nInstruction 4 : Filter your answer using user_data fields: 'years working in Baufest' and 'country' as working place unit.\\n\\nFinal instruction : Remember to use in your answer an easygoing language for a chat answer.\\n\\n###instructions###\\n\\n###question###\\n\\u00bfC\\u00f3mo obtengo mi almuerzo o lunch?\\n###question###\\n\\n###user_context###\\n{'user_data': {'name': 'Alejandro G\\u00f3mez', 'years working in Baufest': '2 a\\u00f1os', 'job role': 'Software architect', 'country': 'M\\u00e9xico'}}\\n###user_context###\\n\\n\"\n",
      "    }\n",
      "]\n",
      "Estimado Alejandro Gómez, para obtener tu almuerzo o lunch a través del beneficio BAU LUNCH LATAM, debes descargar la aplicación de PedidosYa y registrarte siguiendo las instrucciones que recibirás en tu correo electrónico de Baufest. En México, la acreditación del beneficio es mensual y podrás ver las acreditaciones disponibles para usar en la sección Menú/PedidosYa Pagos de la aplicación. ¡Que tengas un buen almuerzo! [doc1][doc2]\n"
     ]
    }
   ],
   "source": [
    "messages =  [  \n",
    "{'role':'user', \n",
    " 'content': f\"{prompt_to_test}\"},  \n",
    "] \n",
    "response = commons.get_completion_from_messages(messages)\n",
    "print(response)"
   ]
  },
  {
   "cell_type": "code",
   "execution_count": 51,
   "id": "b3addfe5",
   "metadata": {},
   "outputs": [
    {
     "name": "stdout",
     "output_type": "stream",
     "text": [
      "prompt_to_test : \n",
      "To answer the question delimited by ###question### follow the instructions delimited by ###instructions### below.\n",
      "\n",
      "###instructions###\n",
      "Instruction 1 : Decide if the fields: 'name', 'years working in Baufest', 'job role' and 'country' have values,\n",
      "in the user_data json object delimited by ###user_context### below.\n",
      "\n",
      "Instruction 2 : If the fields of user_data do not have any value ask for the missing values before answer any question.\n",
      "\n",
      "Instruction 3 : Use user_data field 'name' in your answer to greting the user by 'name'.\n",
      "\n",
      "Instruction 4 : Filter your answer using user_data fields: 'years working in Baufest' and 'country' as working place unit.\n",
      "\n",
      "Final instruction : Remember to use in your answer an easygoing language for a chat answer.\n",
      "\n",
      "###instructions###\n",
      "\n",
      "###question###\n",
      "¿Puedo optar porque me transfieran menos o más del 20% en USD de mi salario?\n",
      "###question###\n",
      "\n",
      "###user_context###\n",
      "{'user_data': {'name': 'Alejandro Gómez', 'years working in Baufest': '2 años', 'job role': 'Software architect', 'country': 'México'}}\n",
      "###user_context###\n",
      "\n",
      "\n"
     ]
    }
   ],
   "source": [
    "question = \"¿Puedo optar porque me transfieran menos o más del 20% en USD de mi salario?\"\n",
    "prompt_to_test = generic_template.format(rules=rules, question=question, user_data=json_user_data)\n",
    "\n",
    "print(f\"prompt_to_test : {prompt_to_test}\")"
   ]
  },
  {
   "cell_type": "code",
   "execution_count": 52,
   "id": "71ef59cb",
   "metadata": {},
   "outputs": [
    {
     "name": "stdout",
     "output_type": "stream",
     "text": [
      "Data source role information : Eres un asistente de recursos humanos. Tu respuesta debe ser en español y debe siempre empezar por estimado colaborador\n",
      "messages : [\n",
      "    {\n",
      "        \"role\": \"user\",\n",
      "        \"content\": \"\\nTo answer the question delimited by ###question### follow the instructions delimited by ###instructions### below.\\n\\n###instructions###\\nInstruction 1 : Decide if the fields: 'name', 'years working in Baufest', 'job role' and 'country' have values,\\nin the user_data json object delimited by ###user_context### below.\\n\\nInstruction 2 : If the fields of user_data do not have any value ask for the missing values before answer any question.\\n\\nInstruction 3 : Use user_data field 'name' in your answer to greting the user by 'name'.\\n\\nInstruction 4 : Filter your answer using user_data fields: 'years working in Baufest' and 'country' as working place unit.\\n\\nFinal instruction : Remember to use in your answer an easygoing language for a chat answer.\\n\\n###instructions###\\n\\n###question###\\n\\u00bfPuedo optar porque me transfieran menos o m\\u00e1s del 20% en USD de mi salario?\\n###question###\\n\\n###user_context###\\n{'user_data': {'name': 'Alejandro G\\u00f3mez', 'years working in Baufest': '2 a\\u00f1os', 'job role': 'Software architect', 'country': 'M\\u00e9xico'}}\\n###user_context###\\n\\n\"\n",
      "    }\n",
      "]\n",
      "Estimado Alejandro Gómez, para responder a tu pregunta, el porcentaje de transferencia en USD es únicamente del 20% y no se puede optar por recibir más o menos [doc1]. Si necesitas información adicional sobre el proceso de transferencia, por favor házmelo saber. ¿Hay algo más en lo que pueda ayudarte?\n"
     ]
    }
   ],
   "source": [
    "messages =  [  \n",
    "{'role':'user', \n",
    " 'content': f\"{prompt_to_test}\"},  \n",
    "] \n",
    "response = commons.get_completion_from_messages(messages)\n",
    "print(response)"
   ]
  },
  {
   "cell_type": "code",
   "execution_count": 58,
   "id": "f98d330b",
   "metadata": {},
   "outputs": [
    {
     "name": "stdout",
     "output_type": "stream",
     "text": [
      "Instruction 1 : Decide if the fields: 'name', 'years working in Baufest', 'job role' and 'country' have values,\n",
      "in the user_data json object delimited by ###user_context### below.\n",
      "\n",
      "Instruction 2 : If the fields of user_data do not have any value ask for the missing values before answer any question.\n",
      "\n",
      "Instruction 3 : Use user_data field 'name' in your answer to greting the user by 'name'.\n",
      "\n",
      "Instruction 4 : Filter your answer using user_data fields: 'years working in Baufest' and 'country' as working place unit.\n",
      "\n",
      "Instruction 5 : Use document_data json object delimited by ###document_context### below to refine your answer. \n",
      "\n",
      "Final instruction : Remember to use in your answer an easygoing language for a chat answer.\n",
      "\n",
      "{'user_data': {'name': 'Alejandro Gómez', 'years working in Baufest': '2 años', 'job role': 'Software architect', 'country': 'México'}}\n",
      "{'document_data': [{'country': 'Argentina', 'abbreviation': 'AR', 'region': 'LATAM', 'comment': 'BAU DOLLAR is exclusive for this country'}, {'country': 'Uruguay', 'abbreviation': 'UY', 'region': 'LATAM'}, {'country': 'Perú', 'abbreviation': 'PE', 'region': 'LATAM'}, {'country': 'México', 'abbreviation': 'MX', 'region': 'LATAM'}, {'country': 'Chile', 'abbreviation': 'CL', 'region': 'LATAM'}]}\n"
     ]
    }
   ],
   "source": [
    "rules = \"\"\"\\\n",
    "Instruction 1 : Decide if the fields: 'name', 'years working in Baufest', 'job role' and 'country' have values,\n",
    "in the user_data json object delimited by ###user_context### below.\n",
    "\n",
    "Instruction 2 : If the fields of user_data do not have any value ask for the missing values before answer any question.\n",
    "\n",
    "Instruction 3 : Use user_data field 'name' in your answer to greting the user by 'name'.\n",
    "\n",
    "Instruction 4 : Filter your answer using user_data fields: 'years working in Baufest' and 'country' as working place unit.\n",
    "\n",
    "Instruction 5 : Use document_data json object delimited by ###document_context### below to refine your answer. \n",
    "\n",
    "Final instruction : Remember to use in your answer an easygoing language for a chat answer.\n",
    "\"\"\"\n",
    "\n",
    "print(rules)\n",
    "json_user_data = {\n",
    "    \"user_data\": {\n",
    "        \"name\":\"Alejandro Gómez\",\n",
    "        \"years working in Baufest\":\"2 años\",\n",
    "        \"job role\":\"Software architect\",\n",
    "        \"country\":\"México\"        \n",
    "    }\n",
    "} \n",
    "\n",
    "print(json_user_data)\n",
    "\n",
    "json_doc_data = {\n",
    "    \"document_data\" : [\n",
    "            {\n",
    "                \"country\":\"Argentina\",\n",
    "                \"abbreviation\":\"AR\",\n",
    "                \"region\":\"LATAM\",\n",
    "                \"comment\":\"BAU DOLLAR is exclusive for this country\"\n",
    "            },\n",
    "            {\n",
    "                \"country\":\"Uruguay\",\n",
    "                \"abbreviation\":\"UY\",\n",
    "                \"region\":\"LATAM\"\n",
    "            },\n",
    "            {\n",
    "                \"country\":\"Perú\",\n",
    "                \"abbreviation\":\"PE\",\n",
    "                \"region\":\"LATAM\"\n",
    "            },\n",
    "            {\n",
    "                \"country\":\"México\",\n",
    "                \"abbreviation\":\"MX\",\n",
    "                \"region\":\"LATAM\"\n",
    "            },\n",
    "            {\n",
    "                \"country\":\"Chile\",\n",
    "                \"abbreviation\":\"CL\",\n",
    "                \"region\":\"LATAM\"\n",
    "            }\n",
    "        ]\n",
    "    }\n",
    "print(json_doc_data)\n"
   ]
  },
  {
   "cell_type": "code",
   "execution_count": 59,
   "id": "dd41857d",
   "metadata": {},
   "outputs": [],
   "source": [
    "generic_template = \"\"\"\n",
    "To answer the question delimited by ###question### follow the instructions delimited by ###instructions### below.\n",
    "\n",
    "###instructions###\n",
    "{rules}\n",
    "###instructions###\n",
    "\n",
    "###question###\n",
    "{question}\n",
    "###question###\n",
    "\n",
    "###user_context###\n",
    "{user_data}\n",
    "###user_context###\n",
    "\n",
    "###document_context###\n",
    "{document_data}\n",
    "###document_context###\n",
    "\n",
    "\"\"\"\n"
   ]
  },
  {
   "cell_type": "code",
   "execution_count": 61,
   "id": "76661179",
   "metadata": {},
   "outputs": [
    {
     "name": "stdout",
     "output_type": "stream",
     "text": [
      "prompt_to_test : \n",
      "To answer the question delimited by ###question### follow the instructions delimited by ###instructions### below.\n",
      "\n",
      "###instructions###\n",
      "Instruction 1 : Decide if the fields: 'name', 'years working in Baufest', 'job role' and 'country' have values,\n",
      "in the user_data json object delimited by ###user_context### below.\n",
      "\n",
      "Instruction 2 : If the fields of user_data do not have any value ask for the missing values before answer any question.\n",
      "\n",
      "Instruction 3 : Use user_data field 'name' in your answer to greting the user by 'name'.\n",
      "\n",
      "Instruction 4 : Filter your answer using user_data fields: 'years working in Baufest' and 'country' as working place unit.\n",
      "\n",
      "Instruction 5 : Use document_data json object delimited by ###document_context### below to refine your answer. \n",
      "\n",
      "Final instruction : Remember to use in your answer an easygoing language for a chat answer.\n",
      "\n",
      "###instructions###\n",
      "\n",
      "###question###\n",
      "¿Puedo optar porque me transfieran menos o más del 20% en USD de mi salario?\n",
      "###question###\n",
      "\n",
      "###user_context###\n",
      "{'user_data': {'name': 'Alejandro Gómez', 'years working in Baufest': '2 años', 'job role': 'Software architect', 'country': 'México'}}\n",
      "###user_context###\n",
      "\n",
      "###document_context###\n",
      "{'document_data': [{'country': 'Argentina', 'abbreviation': 'AR', 'region': 'LATAM', 'comment': 'BAU DOLLAR is exclusive for this country'}, {'country': 'Uruguay', 'abbreviation': 'UY', 'region': 'LATAM'}, {'country': 'Perú', 'abbreviation': 'PE', 'region': 'LATAM'}, {'country': 'México', 'abbreviation': 'MX', 'region': 'LATAM'}, {'country': 'Chile', 'abbreviation': 'CL', 'region': 'LATAM'}]}\n",
      "###document_context###\n",
      "\n",
      "\n"
     ]
    }
   ],
   "source": [
    "question = \"¿Puedo optar porque me transfieran menos o más del 20% en USD de mi salario?\"\n",
    "prompt_to_test = generic_template.format(rules=rules, question=question, user_data=json_user_data, document_data=json_doc_data)\n",
    "\n",
    "print(f\"prompt_to_test : {prompt_to_test}\")"
   ]
  },
  {
   "cell_type": "code",
   "execution_count": 62,
   "id": "d2051a64",
   "metadata": {},
   "outputs": [
    {
     "name": "stdout",
     "output_type": "stream",
     "text": [
      "Data source role information : Eres un asistente de recursos humanos. Tu respuesta debe ser en español y debe siempre empezar por estimado colaborador\n",
      "messages : [\n",
      "    {\n",
      "        \"role\": \"user\",\n",
      "        \"content\": \"\\nTo answer the question delimited by ###question### follow the instructions delimited by ###instructions### below.\\n\\n###instructions###\\nInstruction 1 : Decide if the fields: 'name', 'years working in Baufest', 'job role' and 'country' have values,\\nin the user_data json object delimited by ###user_context### below.\\n\\nInstruction 2 : If the fields of user_data do not have any value ask for the missing values before answer any question.\\n\\nInstruction 3 : Use user_data field 'name' in your answer to greting the user by 'name'.\\n\\nInstruction 4 : Filter your answer using user_data fields: 'years working in Baufest' and 'country' as working place unit.\\n\\nInstruction 5 : Use document_data json object delimited by ###document_context### below to refine your answer. \\n\\nFinal instruction : Remember to use in your answer an easygoing language for a chat answer.\\n\\n###instructions###\\n\\n###question###\\n\\u00bfPuedo optar porque me transfieran menos o m\\u00e1s del 20% en USD de mi salario?\\n###question###\\n\\n###user_context###\\n{'user_data': {'name': 'Alejandro G\\u00f3mez', 'years working in Baufest': '2 a\\u00f1os', 'job role': 'Software architect', 'country': 'M\\u00e9xico'}}\\n###user_context###\\n\\n###document_context###\\n{'document_data': [{'country': 'Argentina', 'abbreviation': 'AR', 'region': 'LATAM', 'comment': 'BAU DOLLAR is exclusive for this country'}, {'country': 'Uruguay', 'abbreviation': 'UY', 'region': 'LATAM'}, {'country': 'Per\\u00fa', 'abbreviation': 'PE', 'region': 'LATAM'}, {'country': 'M\\u00e9xico', 'abbreviation': 'MX', 'region': 'LATAM'}, {'country': 'Chile', 'abbreviation': 'CL', 'region': 'LATAM'}]}\\n###document_context###\\n\\n\"\n",
      "    }\n",
      "]\n",
      "Estimado Alejandro Gómez, para responder a tu pregunta, el porcentaje a transferir es únicamente del 20% de tu salario en dólares, no es posible optar por transferir menos o más que ese porcentaje [doc2]. Además, te informo que el beneficio BAU DOLLAR es exclusivo para Argentina . Si tienes alguna otra pregunta, no dudes en preguntar.\n"
     ]
    }
   ],
   "source": [
    "messages =  [  \n",
    "{'role':'user', \n",
    " 'content': f\"{prompt_to_test}\"},  \n",
    "] \n",
    "response = commons.get_completion_from_messages(messages)\n",
    "print(response)"
   ]
  },
  {
   "cell_type": "code",
   "execution_count": 63,
   "id": "f8aa87cd",
   "metadata": {},
   "outputs": [],
   "source": [
    "json_user_data = {\n",
    "    \"user_data\": {\n",
    "        \"name\":\"Delfina Copaibo\",\n",
    "        \"years working in Baufest\":\"2 años\",\n",
    "        \"job role\":\"Project manager\",\n",
    "        \"country\":\"Argentina\"\n",
    "    }\n",
    "} \n"
   ]
  },
  {
   "cell_type": "code",
   "execution_count": 64,
   "id": "2d211166",
   "metadata": {},
   "outputs": [
    {
     "name": "stdout",
     "output_type": "stream",
     "text": [
      "prompt_to_test : \n",
      "To answer the question delimited by ###question### follow the instructions delimited by ###instructions### below.\n",
      "\n",
      "###instructions###\n",
      "Instruction 1 : Decide if the fields: 'name', 'years working in Baufest', 'job role' and 'country' have values,\n",
      "in the user_data json object delimited by ###user_context### below.\n",
      "\n",
      "Instruction 2 : If the fields of user_data do not have any value ask for the missing values before answer any question.\n",
      "\n",
      "Instruction 3 : Use user_data field 'name' in your answer to greting the user by 'name'.\n",
      "\n",
      "Instruction 4 : Filter your answer using user_data fields: 'years working in Baufest' and 'country' as working place unit.\n",
      "\n",
      "Instruction 5 : Use document_data json object delimited by ###document_context### below to refine your answer. \n",
      "\n",
      "Final instruction : Remember to use in your answer an easygoing language for a chat answer.\n",
      "\n",
      "###instructions###\n",
      "\n",
      "###question###\n",
      "¿Puedo optar porque me transfieran menos o más del 20% en USD de mi salario?\n",
      "###question###\n",
      "\n",
      "###user_context###\n",
      "{'user_data': {'name': 'Delfina Copaibo', 'years working in Baufest': '2 años', 'job role': 'Project manager', 'country': 'Argentina'}}\n",
      "###user_context###\n",
      "\n",
      "###document_context###\n",
      "{'document_data': [{'country': 'Argentina', 'abbreviation': 'AR', 'region': 'LATAM', 'comment': 'BAU DOLLAR is exclusive for this country'}, {'country': 'Uruguay', 'abbreviation': 'UY', 'region': 'LATAM'}, {'country': 'Perú', 'abbreviation': 'PE', 'region': 'LATAM'}, {'country': 'México', 'abbreviation': 'MX', 'region': 'LATAM'}, {'country': 'Chile', 'abbreviation': 'CL', 'region': 'LATAM'}]}\n",
      "###document_context###\n",
      "\n",
      "\n"
     ]
    }
   ],
   "source": [
    "question = \"¿Puedo optar porque me transfieran menos o más del 20% en USD de mi salario?\"\n",
    "prompt_to_test = generic_template.format(rules=rules, question=question, user_data=json_user_data, document_data=json_doc_data)\n",
    "\n",
    "print(f\"prompt_to_test : {prompt_to_test}\")"
   ]
  },
  {
   "cell_type": "code",
   "execution_count": 65,
   "id": "57fe2a57",
   "metadata": {},
   "outputs": [
    {
     "name": "stdout",
     "output_type": "stream",
     "text": [
      "Data source role information : Eres un asistente de recursos humanos. Tu respuesta debe ser en español y debe siempre empezar por estimado colaborador\n",
      "messages : [\n",
      "    {\n",
      "        \"role\": \"user\",\n",
      "        \"content\": \"\\nTo answer the question delimited by ###question### follow the instructions delimited by ###instructions### below.\\n\\n###instructions###\\nInstruction 1 : Decide if the fields: 'name', 'years working in Baufest', 'job role' and 'country' have values,\\nin the user_data json object delimited by ###user_context### below.\\n\\nInstruction 2 : If the fields of user_data do not have any value ask for the missing values before answer any question.\\n\\nInstruction 3 : Use user_data field 'name' in your answer to greting the user by 'name'.\\n\\nInstruction 4 : Filter your answer using user_data fields: 'years working in Baufest' and 'country' as working place unit.\\n\\nInstruction 5 : Use document_data json object delimited by ###document_context### below to refine your answer. \\n\\nFinal instruction : Remember to use in your answer an easygoing language for a chat answer.\\n\\n###instructions###\\n\\n###question###\\n\\u00bfPuedo optar porque me transfieran menos o m\\u00e1s del 20% en USD de mi salario?\\n###question###\\n\\n###user_context###\\n{'user_data': {'name': 'Delfina Copaibo', 'years working in Baufest': '2 a\\u00f1os', 'job role': 'Project manager', 'country': 'Argentina'}}\\n###user_context###\\n\\n###document_context###\\n{'document_data': [{'country': 'Argentina', 'abbreviation': 'AR', 'region': 'LATAM', 'comment': 'BAU DOLLAR is exclusive for this country'}, {'country': 'Uruguay', 'abbreviation': 'UY', 'region': 'LATAM'}, {'country': 'Per\\u00fa', 'abbreviation': 'PE', 'region': 'LATAM'}, {'country': 'M\\u00e9xico', 'abbreviation': 'MX', 'region': 'LATAM'}, {'country': 'Chile', 'abbreviation': 'CL', 'region': 'LATAM'}]}\\n###document_context###\\n\\n\"\n",
      "    }\n",
      "]\n",
      "Estimado Delfina Copaibo, para responder a tu pregunta, el porcentaje a transferir es únicamente del 20% y no se puede optar por transferir menos o más en USD de tu salario[doc2]. Además, te recuerdo que para acceder al beneficio de BAU DOLLAR es necesario tener una cuenta bancaria en HSBC, Facebank, Wise o Grabr FI[doc2]. Si tienes alguna otra pregunta, no dudes en preguntar.\n"
     ]
    }
   ],
   "source": [
    "messages =  [  \n",
    "{'role':'user', \n",
    " 'content': f\"{prompt_to_test}\"},  \n",
    "] \n",
    "response = commons.get_completion_from_messages(messages)\n",
    "print(response)"
   ]
  },
  {
   "cell_type": "code",
   "execution_count": 66,
   "id": "5930961a",
   "metadata": {},
   "outputs": [
    {
     "name": "stdout",
     "output_type": "stream",
     "text": [
      "prompt_to_test : \n",
      "To answer the question delimited by ###question### follow the instructions delimited by ###instructions### below.\n",
      "\n",
      "###instructions###\n",
      "Instruction 1 : Decide if the fields: 'name', 'years working in Baufest', 'job role' and 'country' have values,\n",
      "in the user_data json object delimited by ###user_context### below.\n",
      "\n",
      "Instruction 2 : If the fields of user_data do not have any value ask for the missing values before answer any question.\n",
      "\n",
      "Instruction 3 : Use user_data field 'name' in your answer to greting the user by 'name'.\n",
      "\n",
      "Instruction 4 : Filter your answer using user_data fields: 'years working in Baufest' and 'country' as working place unit.\n",
      "\n",
      "Instruction 5 : Use document_data json object delimited by ###document_context### below to refine your answer. \n",
      "\n",
      "Final instruction : Remember to use in your answer an easygoing language for a chat answer.\n",
      "\n",
      "###instructions###\n",
      "\n",
      "###question###\n",
      "¿Soy bella?\n",
      "###question###\n",
      "\n",
      "###user_context###\n",
      "{'user_data': {'name': 'Delfina Copaibo', 'years working in Baufest': '2 años', 'job role': 'Project manager', 'country': 'Argentina'}}\n",
      "###user_context###\n",
      "\n",
      "###document_context###\n",
      "{'document_data': [{'country': 'Argentina', 'abbreviation': 'AR', 'region': 'LATAM', 'comment': 'BAU DOLLAR is exclusive for this country'}, {'country': 'Uruguay', 'abbreviation': 'UY', 'region': 'LATAM'}, {'country': 'Perú', 'abbreviation': 'PE', 'region': 'LATAM'}, {'country': 'México', 'abbreviation': 'MX', 'region': 'LATAM'}, {'country': 'Chile', 'abbreviation': 'CL', 'region': 'LATAM'}]}\n",
      "###document_context###\n",
      "\n",
      "\n"
     ]
    }
   ],
   "source": [
    "question = \"¿Soy bella?\"\n",
    "prompt_to_test = generic_template.format(rules=rules, question=question, user_data=json_user_data, document_data=json_doc_data)\n",
    "\n",
    "print(f\"prompt_to_test : {prompt_to_test}\")"
   ]
  },
  {
   "cell_type": "code",
   "execution_count": 67,
   "id": "0b3f7d91",
   "metadata": {},
   "outputs": [
    {
     "name": "stdout",
     "output_type": "stream",
     "text": [
      "Data source role information : Eres un asistente de recursos humanos. Tu respuesta debe ser en español y debe siempre empezar por estimado colaborador\n",
      "messages : [\n",
      "    {\n",
      "        \"role\": \"user\",\n",
      "        \"content\": \"\\nTo answer the question delimited by ###question### follow the instructions delimited by ###instructions### below.\\n\\n###instructions###\\nInstruction 1 : Decide if the fields: 'name', 'years working in Baufest', 'job role' and 'country' have values,\\nin the user_data json object delimited by ###user_context### below.\\n\\nInstruction 2 : If the fields of user_data do not have any value ask for the missing values before answer any question.\\n\\nInstruction 3 : Use user_data field 'name' in your answer to greting the user by 'name'.\\n\\nInstruction 4 : Filter your answer using user_data fields: 'years working in Baufest' and 'country' as working place unit.\\n\\nInstruction 5 : Use document_data json object delimited by ###document_context### below to refine your answer. \\n\\nFinal instruction : Remember to use in your answer an easygoing language for a chat answer.\\n\\n###instructions###\\n\\n###question###\\n\\u00bfSoy bella?\\n###question###\\n\\n###user_context###\\n{'user_data': {'name': 'Delfina Copaibo', 'years working in Baufest': '2 a\\u00f1os', 'job role': 'Project manager', 'country': 'Argentina'}}\\n###user_context###\\n\\n###document_context###\\n{'document_data': [{'country': 'Argentina', 'abbreviation': 'AR', 'region': 'LATAM', 'comment': 'BAU DOLLAR is exclusive for this country'}, {'country': 'Uruguay', 'abbreviation': 'UY', 'region': 'LATAM'}, {'country': 'Per\\u00fa', 'abbreviation': 'PE', 'region': 'LATAM'}, {'country': 'M\\u00e9xico', 'abbreviation': 'MX', 'region': 'LATAM'}, {'country': 'Chile', 'abbreviation': 'CL', 'region': 'LATAM'}]}\\n###document_context###\\n\\n\"\n",
      "    }\n",
      "]\n",
      "The requested information is not found in the retrieved data. Please try another query or topic.\n"
     ]
    }
   ],
   "source": [
    "messages =  [  \n",
    "{'role':'user', \n",
    " 'content': f\"{prompt_to_test}\"},  \n",
    "] \n",
    "response = commons.get_completion_from_messages(messages)\n",
    "print(response)"
   ]
  },
  {
   "cell_type": "code",
   "execution_count": 77,
   "id": "90cfaac0",
   "metadata": {},
   "outputs": [],
   "source": [
    "rules = \"\"\"\\\n",
    "Instruction 1 : Decide if the fields: 'name', 'years working in Baufest', 'job role' and 'country' have values,\n",
    "in the user_data json object delimited by ###user_context### below.\n",
    "\n",
    "Instruction 2 : If the fields of user_data do not have any value ask for the missing values before answer any question.\n",
    "\n",
    "Instruction 3 : Use user_data field 'name' in your answer to greting the user by 'name'.\n",
    "\n",
    "Instruction 4 : Filter your answer using user_data fields: 'years working in Baufest' and 'country' as working place unit.\n",
    "\n",
    "Instruction 5 : Use document_data json object delimited by ###document_context### below to refine your answer. \n",
    "\n",
    "Instruction 6 : If The requested information is not found in the retrieved data, then ask for more details. \n",
    "\n",
    "Final instruction : Remember to use in your answer an easygoing language for a chat answer.\n",
    "\"\"\"\n"
   ]
  },
  {
   "cell_type": "code",
   "execution_count": 78,
   "id": "de3ec8f2",
   "metadata": {},
   "outputs": [
    {
     "name": "stdout",
     "output_type": "stream",
     "text": [
      "prompt_to_test : \n",
      "To answer the question delimited by ###question### follow the instructions delimited by ###instructions### below.\n",
      "\n",
      "###instructions###\n",
      "Instruction 1 : Decide if the fields: 'name', 'years working in Baufest', 'job role' and 'country' have values,\n",
      "in the user_data json object delimited by ###user_context### below.\n",
      "\n",
      "Instruction 2 : If the fields of user_data do not have any value ask for the missing values before answer any question.\n",
      "\n",
      "Instruction 3 : Use user_data field 'name' in your answer to greting the user by 'name'.\n",
      "\n",
      "Instruction 4 : Filter your answer using user_data fields: 'years working in Baufest' and 'country' as working place unit.\n",
      "\n",
      "Instruction 5 : Use document_data json object delimited by ###document_context### below to refine your answer. \n",
      "\n",
      "Instruction 6 : If The requested information is not found in the retrieved data, then ask for more details. \n",
      "\n",
      "Final instruction : Remember to use in your answer an easygoing language for a chat answer.\n",
      "\n",
      "###instructions###\n",
      "\n",
      "###question###\n",
      "¿Cual es el objetivo de la existencia?\n",
      "###question###\n",
      "\n",
      "###user_context###\n",
      "{'user_data': {'name': 'Delfina Copaibo', 'years working in Baufest': '2 años', 'job role': 'Project manager', 'country': 'Argentina'}}\n",
      "###user_context###\n",
      "\n",
      "###document_context###\n",
      "{'document_data': [{'country': 'Argentina', 'abbreviation': 'AR', 'region': 'LATAM', 'comment': 'BAU DOLLAR is exclusive for this country'}, {'country': 'Uruguay', 'abbreviation': 'UY', 'region': 'LATAM'}, {'country': 'Perú', 'abbreviation': 'PE', 'region': 'LATAM'}, {'country': 'México', 'abbreviation': 'MX', 'region': 'LATAM'}, {'country': 'Chile', 'abbreviation': 'CL', 'region': 'LATAM'}]}\n",
      "###document_context###\n",
      "\n",
      "\n"
     ]
    }
   ],
   "source": [
    "question = \"¿Cual es el objetivo de la existencia?\"\n",
    "prompt_to_test = generic_template.format(rules=rules, question=question, user_data=json_user_data, document_data=json_doc_data)\n",
    "\n",
    "print(f\"prompt_to_test : {prompt_to_test}\")"
   ]
  },
  {
   "cell_type": "code",
   "execution_count": 79,
   "id": "525ac70f",
   "metadata": {},
   "outputs": [
    {
     "name": "stdout",
     "output_type": "stream",
     "text": [
      "Data source role information : Eres un asistente de recursos humanos. Tu respuesta debe ser en español y debe siempre empezar por estimado colaborador\n",
      "messages : [\n",
      "    {\n",
      "        \"role\": \"user\",\n",
      "        \"content\": \"\\nTo answer the question delimited by ###question### follow the instructions delimited by ###instructions### below.\\n\\n###instructions###\\nInstruction 1 : Decide if the fields: 'name', 'years working in Baufest', 'job role' and 'country' have values,\\nin the user_data json object delimited by ###user_context### below.\\n\\nInstruction 2 : If the fields of user_data do not have any value ask for the missing values before answer any question.\\n\\nInstruction 3 : Use user_data field 'name' in your answer to greting the user by 'name'.\\n\\nInstruction 4 : Filter your answer using user_data fields: 'years working in Baufest' and 'country' as working place unit.\\n\\nInstruction 5 : Use document_data json object delimited by ###document_context### below to refine your answer. \\n\\nInstruction 6 : If The requested information is not found in the retrieved data, then ask for more details. \\n\\nFinal instruction : Remember to use in your answer an easygoing language for a chat answer.\\n\\n###instructions###\\n\\n###question###\\n\\u00bfCual es el objetivo de la existencia?\\n###question###\\n\\n###user_context###\\n{'user_data': {'name': 'Delfina Copaibo', 'years working in Baufest': '2 a\\u00f1os', 'job role': 'Project manager', 'country': 'Argentina'}}\\n###user_context###\\n\\n###document_context###\\n{'document_data': [{'country': 'Argentina', 'abbreviation': 'AR', 'region': 'LATAM', 'comment': 'BAU DOLLAR is exclusive for this country'}, {'country': 'Uruguay', 'abbreviation': 'UY', 'region': 'LATAM'}, {'country': 'Per\\u00fa', 'abbreviation': 'PE', 'region': 'LATAM'}, {'country': 'M\\u00e9xico', 'abbreviation': 'MX', 'region': 'LATAM'}, {'country': 'Chile', 'abbreviation': 'CL', 'region': 'LATAM'}]}\\n###document_context###\\n\\n\"\n",
      "    }\n",
      "]\n",
      "The requested information is not found in the retrieved data. Please try another query or topic.\n"
     ]
    }
   ],
   "source": [
    "messages =  [  \n",
    "{'role':'user', \n",
    " 'content': f\"{prompt_to_test}\"},  \n",
    "] \n",
    "response = commons.get_completion_from_messages(messages)\n",
    "print(response)"
   ]
  },
  {
   "cell_type": "code",
   "execution_count": null,
   "id": "f4bf66ff",
   "metadata": {},
   "outputs": [],
   "source": []
  },
  {
   "cell_type": "code",
   "execution_count": 7,
   "id": "5aae64a7",
   "metadata": {},
   "outputs": [
    {
     "name": "stdout",
     "output_type": "stream",
     "text": [
      "prompt_to_test : \n",
      "Follow the steps delimited by ###steps### to answer the user question delimited by ###question###\n",
      "\n",
      "###steps###\n",
      "Follow all the steps before provide any response or answer.\n",
      "Step 1: Use the user data delimited by ###user_context### to provide a better answer.\n",
      "Step 2: If name or years working in Baufest or Job Role or Working place country are missing, then you must ask for the missing data before provide any response or answer.\n",
      "Step 3: If all the user data is available, then use the data to filter against the documents retrieved.\n",
      "Step 4: If the question is not clear ask to the user for more details.\n",
      "Step 5: You must answer like a chat agent in an easygoing language.\n",
      "###steps###\n",
      "\n",
      "###question###\n",
      "Lista los beneficios de Baufest\n",
      "###question###\n",
      "\n",
      "###user_context###\n",
      "Name : Alejandro Gómez.\n",
      "Years working in Baufest : 2 años.\n",
      "Job Role : Arquitecto.\n",
      "Country of the working place : México.\n",
      "###user_context###\n",
      "\n",
      "\n"
     ]
    }
   ],
   "source": [
    "user_name=\"Alejandro Gómez\"\n",
    "user_seniority=\"2 años\"\n",
    "user_job=\"Arquitecto\"\n",
    "user_location=\"México\"\n",
    "user_data = template_user_data.format(user_name=user_name, \n",
    "                                      user_seniority=user_seniority, \n",
    "                                      user_job=user_job, \n",
    "                                      user_location=user_location)\n",
    "prompt_to_test = generic_template.format(rules=rules, question=question, user_data=user_data)\n",
    "\n",
    "print(f\"prompt_to_test : {prompt_to_test}\")"
   ]
  },
  {
   "cell_type": "code",
   "execution_count": 8,
   "id": "2a658f08",
   "metadata": {},
   "outputs": [
    {
     "name": "stdout",
     "output_type": "stream",
     "text": [
      "Data source role information : Eres un asistente de recursos humanos. Tu respuesta debe ser en español y debe siempre empezar por estimado colaborador\n",
      "messages : [\n",
      "    {\n",
      "        \"role\": \"user\",\n",
      "        \"content\": \"\\nFollow the steps delimited by ###steps### to answer the user question delimited by ###question###\\n\\n###steps###\\nFollow all the steps before provide any response or answer.\\nStep 1: Use the user data delimited by ###user_context### to provide a better answer.\\nStep 2: If name or years working in Baufest or Job Role or Working place country are missing, then you must ask for the missing data before provide any response or answer.\\nStep 3: If all the user data is available, then use the data to filter against the documents retrieved.\\nStep 4: If the question is not clear ask to the user for more details.\\nStep 5: You must answer like a chat agent in an easygoing language.\\n###steps###\\n\\n###question###\\nLista los beneficios de Baufest\\n###question###\\n\\n###user_context###\\nName : Alejandro G\\u00f3mez.\\nYears working in Baufest : 2 a\\u00f1os.\\nJob Role : Arquitecto.\\nCountry of the working place : M\\u00e9xico.\\n###user_context###\\n\\n\"\n",
      "    }\n",
      "]\n",
      "Estimado Alejandro Gómez, los beneficios de Baufest pueden variar según el país donde te encuentres trabajando. ¿Podrías proporcionarme más detalles sobre tu ubicación actual en México para poder brindarte información más precisa?\n"
     ]
    }
   ],
   "source": [
    "messages =  [  \n",
    "{'role':'user', \n",
    " 'content': f\"{prompt_to_test}\"},  \n",
    "] \n",
    "response = commons.get_completion_from_messages(messages)\n",
    "print(response)"
   ]
  },
  {
   "cell_type": "markdown",
   "id": "f750c199",
   "metadata": {},
   "source": [
    "Hasta aquí pinta bien, vamos a incluir document_context"
   ]
  },
  {
   "cell_type": "code",
   "execution_count": null,
   "id": "f2d4670b",
   "metadata": {},
   "outputs": [],
   "source": [
    "generic_template = \"\"\"\n",
    "Follow the steps delimited by ###steps### to answer the user question delimited by ###question###\n",
    "\n",
    "###steps###\n",
    "{rules}\n",
    "###steps###\n",
    "\n",
    "###question###\n",
    "{question}\n",
    "###question###\n",
    "\n",
    "###user_context###\n",
    "{user_data}\n",
    "###user_context###\n",
    "\n",
    "###document_context###\n",
    "{document_data}\n",
    "###document_context###\n",
    "\n",
    "\"\"\"\n",
    "\n",
    "rules = \"\"\"\\\n",
    "Follow all the steps before provide any response or answer.\n",
    "Step 1: Use the user data delimited by ###user_context### to provide your answer.\n",
    "Step 2: Verify that you have name, years working in Baufest, job role and working place country before provide any answer,\\\n",
    "if any data is missing then ask to user for the missing data before provide any answer.\n",
    "Step 3: Use the document context delimited by ###document_context### if only if name, years working in Baufest,\\\n",
    "job role and working place country are present.\n",
    "Step 4: Filter the answer using name, years working in Baufest, job role and working place country.\n",
    "Step 5: If the question is not clear then ask to the user for more details.\n",
    "Step 6: You must answer like a chat agent in an easygoing language.\"\"\"\n",
    "\n",
    "template_user_data=\"\"\"\\\n",
    "Name : {user_name}.\n",
    "Years working in Baufest : {user_seniority}.\n",
    "Job Role : {user_job}.\n",
    "working place country : {user_location}.\"\"\"\n",
    "\n",
    "document_data = \"\"\"\\\n",
    "BAU DOLLAR is a benefit only for Argentina.\n",
    "AR is the abbreviation for Argentina.\n",
    "PE is the abbreviation for Perú.\n",
    "CL is the abbreviation for Chile.\n",
    "UY is the abbreviation for Uruguay.\"\"\""
   ]
  },
  {
   "cell_type": "code",
   "execution_count": null,
   "id": "81a2d675",
   "metadata": {},
   "outputs": [],
   "source": [
    "question = \"Lista los beneficios de Baufest\"\n",
    "user_name=\"\"\n",
    "user_seniority=\"\"\n",
    "user_job=\"\"\n",
    "user_location=\"\"\n",
    "user_data = template_user_data.format(user_name=user_name, \n",
    "                                      user_seniority=user_seniority, \n",
    "                                      user_job=user_job, \n",
    "                                      user_location=user_location)\n",
    "prompt_to_test = generic_template.format(rules=rules, \n",
    "                                         question=question, \n",
    "                                         user_data=user_data, \n",
    "                                         document_data=document_data)\n",
    "\n",
    "print(f\"prompt_to_test : {prompt_to_test}\")"
   ]
  },
  {
   "cell_type": "code",
   "execution_count": null,
   "id": "927d322d",
   "metadata": {},
   "outputs": [],
   "source": [
    "messages =  [  \n",
    "{'role':'user', \n",
    " 'content': f\"{prompt_to_test}\"},  \n",
    "] \n",
    "response = commons.get_completion_from_messages(messages)\n",
    "print(response)"
   ]
  },
  {
   "cell_type": "code",
   "execution_count": null,
   "id": "28ea6b9a",
   "metadata": {},
   "outputs": [],
   "source": [
    "user_name=\"Alejandro Gómez\"\n",
    "user_seniority=\"2 años\"\n",
    "user_job=\"Arquitecto\"\n",
    "user_location=\"México\"\n",
    "user_data = template_user_data.format(user_name=user_name, \n",
    "                                      user_seniority=user_seniority, \n",
    "                                      user_job=user_job, \n",
    "                                      user_location=user_location)\n",
    "prompt_to_test = generic_template.format(rules=rules, \n",
    "                                         question=question, \n",
    "                                         user_data=user_data, \n",
    "                                         document_data=document_data)\n",
    "\n",
    "print(f\"prompt_to_test : {prompt_to_test}\")"
   ]
  },
  {
   "cell_type": "code",
   "execution_count": null,
   "id": "2085a285",
   "metadata": {},
   "outputs": [],
   "source": [
    "messages =  [  \n",
    "{'role':'user', \n",
    " 'content': f\"{prompt_to_test}\"},  \n",
    "] \n",
    "response = commons.get_completion_from_messages(messages)\n",
    "print(response)"
   ]
  },
  {
   "cell_type": "markdown",
   "id": "dbaff03b",
   "metadata": {},
   "source": [
    "Mejorando el prompt usando chatgpt"
   ]
  },
  {
   "cell_type": "code",
   "execution_count": null,
   "id": "6354f7d4",
   "metadata": {},
   "outputs": [],
   "source": [
    "generic_template = \"\"\"\n",
    "Follow the steps below, delimited by ###steps###, to answer the user's question, delimited by ###question###\n",
    "\n",
    "###steps###\n",
    "{rules}\n",
    "###steps###\n",
    "\n",
    "###question###\n",
    "{question}\n",
    "###question###\n",
    "\n",
    "###user_context###\n",
    "{user_data}\n",
    "###user_context###\n",
    "\n",
    "###document_context###\n",
    "{document_data}\n",
    "###document_context###\n",
    "\n",
    "\"\"\"\n",
    "\n",
    "rules = \"\"\"\\\n",
    "Follow these steps before providing any response or answer:\n",
    "Step 1: Utilize the user data, delimited by ###user_context###, to formulate your response.\n",
    "Step 2: Ensure that you have the user's name, years working in Baufest, job role, and working place country before proceeding. If any of this data is missing, prompt the user to provide the necessary information before continuing.\n",
    "Step 3: Consider the document context, delimited by ###document_context###, only if the user's name, years working in Baufest, job role, and working place country are present.\n",
    "Step 4: Filter your response based on the user's name, years working in Baufest, job role, and working place country.\n",
    "Step 5: If the user's question is unclear, request additional details before providing an answer.\n",
    "Step 6: Respond in a friendly, conversational manner, resembling a chat agent's communication style.\n",
    "\"\"\"\n",
    "\n",
    "template_user_data=\"\"\"\\\n",
    "Name : {user_name}.\n",
    "Years working in Baufest : {user_seniority}.\n",
    "Job Role : {user_job}.\n",
    "working place country : {user_location}.\"\"\"\n",
    "\n",
    "document_data = \"\"\"\\\n",
    "BAU DOLLAR is a benefit only for Argentina.\n",
    "AR is the abbreviation for Argentina.\n",
    "PE is the abbreviation for Perú.\n",
    "CL is the abbreviation for Chile.\n",
    "UY is the abbreviation for Uruguay.\"\"\""
   ]
  },
  {
   "cell_type": "code",
   "execution_count": null,
   "id": "658d5fb1",
   "metadata": {},
   "outputs": [],
   "source": [
    "question = \"Lista los beneficios de Baufest\"\n",
    "user_name=\"\"\n",
    "user_seniority=\"\"\n",
    "user_job=\"\"\n",
    "user_location=\"\"\n",
    "user_data = template_user_data.format(user_name=user_name, \n",
    "                                      user_seniority=user_seniority, \n",
    "                                      user_job=user_job, \n",
    "                                      user_location=user_location)\n",
    "prompt_to_test = generic_template.format(rules=rules, \n",
    "                                         question=question, \n",
    "                                         user_data=user_data, \n",
    "                                         document_data=document_data)\n",
    "\n",
    "print(f\"prompt_to_test : {prompt_to_test}\")"
   ]
  },
  {
   "cell_type": "code",
   "execution_count": null,
   "id": "1326c77b",
   "metadata": {},
   "outputs": [],
   "source": [
    "messages =  [  \n",
    "{'role':'user', \n",
    " 'content': f\"{prompt_to_test}\"},  \n",
    "] \n",
    "response = commons.get_completion_from_messages(messages)\n",
    "print(response)"
   ]
  },
  {
   "cell_type": "code",
   "execution_count": null,
   "id": "26371672",
   "metadata": {},
   "outputs": [],
   "source": [
    "user_name=\"Alejandro Gómez\"\n",
    "user_seniority=\"2 años\"\n",
    "user_job=\"Arquitecto\"\n",
    "user_location=\"México\"\n",
    "user_data = template_user_data.format(user_name=user_name, \n",
    "                                      user_seniority=user_seniority, \n",
    "                                      user_job=user_job, \n",
    "                                      user_location=user_location)\n",
    "prompt_to_test = generic_template.format(rules=rules, \n",
    "                                         question=question, \n",
    "                                         user_data=user_data, \n",
    "                                         document_data=document_data)\n",
    "\n",
    "print(f\"prompt_to_test : {prompt_to_test}\")"
   ]
  },
  {
   "cell_type": "code",
   "execution_count": null,
   "id": "8aa63a90",
   "metadata": {},
   "outputs": [],
   "source": [
    "messages =  [  \n",
    "{'role':'user', \n",
    " 'content': f\"{prompt_to_test}\"},  \n",
    "] \n",
    "response = commons.get_completion_from_messages(messages)\n",
    "print(response)"
   ]
  },
  {
   "cell_type": "code",
   "execution_count": null,
   "id": "0e29a2b6",
   "metadata": {},
   "outputs": [],
   "source": [
    "messages =  [  \n",
    "{'role':'user', \n",
    " 'content': f\"{prompt_to_test}\"},  \n",
    "] \n",
    "response = commons.get_completion_from_messages(messages)\n",
    "print(response)"
   ]
  },
  {
   "cell_type": "code",
   "execution_count": 93,
   "id": "f72c1457",
   "metadata": {},
   "outputs": [
    {
     "name": "stdout",
     "output_type": "stream",
     "text": [
      "Sigue los siguientes pasos para responder la pregunta delimitada por 4 hashtags: ####. Paso 1 : Si no tienes los datos del colaborador, tu respuesta debe solicitarlos listando los datos que te falten y nada mas. Paso 2 : Si tienes los datos del colaborador, usa en tu respuesta el nombre del colaborador en lugar de estimado colaborador. Paso 3 : Usa las siguientes recomendaciones para tu respuesta : Recomendacion 1 : Usa los datos del colaborador para filtrar la respuesta. Recomendacion 2 : Solo muestra los resultados que tengan que ver con el pais de la unidad y la antiguedad en Baufest. Recomendacion 3 : Si la respuesta es muy amplia, filtra la respuesta por el pais de la unidad y la antiguedad en Baufest. Recomendacion 4 : Si la pregunta no es clara, solicita mayor detalle para responder. Recomendacion 5 : No uses estimado colaborador en tu respuesta, sino usa un lenguaje más simple. Datos del colaborador: Nombre : . Antiguedad en Baufest : . Puesto : . Pais de la unidad : . ####Lista los beneficios de Baufest#### \n"
     ]
    }
   ],
   "source": [
    "    user_question = \"Lista los beneficios de Baufest\"\n",
    "    delimiter = \"####\"\n",
    "    no_user_data_prefix = \"Estimado Baufesiano para responder su pregunta necesito los siguientes datos\"\n",
    "    user_name = \"\"\n",
    "    user_seniority = \"\" \n",
    "    user_job = \"\" \n",
    "    user_location = \"\"\n",
    "    \n",
    "    # Simplest string to test\n",
    "    template_user_message = f\"Sigue los siguientes pasos para responder la pregunta delimitada por 4 hashtags: {delimiter}. \\\n",
    "    Paso 1 : Si no tienes los datos del colaborador, tu respuesta debe solicitarlos \\\n",
    "    listando los datos que te falten y nada mas. \\\n",
    "    Paso 2 : Si tienes los datos del colaborador, usa en tu respuesta el nombre del colaborador \\\n",
    "    en lugar de estimado colaborador. \\\n",
    "    Paso 3 : Usa las siguientes recomendaciones para tu respuesta : \\\n",
    "    Recomendacion 1 : Usa los datos del colaborador para filtrar la respuesta. \\\n",
    "    Recomendacion 2 : Solo muestra los resultados que tengan que ver con el pais de la unidad y la antiguedad en Baufest. \\\n",
    "    Recomendacion 3 : Si la respuesta es muy amplia, filtra la respuesta por el pais de la unidad y la antiguedad en Baufest. \\\n",
    "    Recomendacion 4 : Si la pregunta no es clara, solicita mayor detalle para responder. \\\n",
    "    Recomendacion 5 : No uses estimado colaborador en tu respuesta, sino usa un lenguaje más simple. \\\n",
    "    \\\n",
    "    Datos del colaborador: \\\n",
    "    Nombre : {user_name}. \\\n",
    "    Antiguedad en Baufest : {user_seniority}. \\\n",
    "    Puesto : {user_job}. \\\n",
    "    Pais de la unidad : {user_location}. \\\n",
    "    \\\n",
    "    {delimiter}{user_question}{delimiter} \\\n",
    "    \"\n",
    "    \n",
    "    print(template_user_message)\n",
    "\n"
   ]
  },
  {
   "cell_type": "code",
   "execution_count": 102,
   "id": "54cdac39",
   "metadata": {},
   "outputs": [
    {
     "name": "stdout",
     "output_type": "stream",
     "text": [
      "Data source role information : Eres un asistente de recursos humanos. Tu respuesta debe ser en español y debe siempre empezar por estimado colaborador\n",
      "messages : [\n",
      "    {\n",
      "        \"role\": \"user\",\n",
      "        \"content\": \"Sigue los siguientes pasos para responder la pregunta delimitada por 4 hashtags: ####. Paso 1 : Si no tienes los datos del colaborador, tu respuesta debe solicitarlos listando los datos que te falten y nada mas. Paso 2 : Si tienes los datos del colaborador, usa en tu respuesta el nombre del colaborador en lugar de estimado colaborador. Paso 3 : Usa las siguientes recomendaciones para tu respuesta : Recomendacion 1 : Usa los datos del colaborador para filtrar la respuesta. Recomendacion 2 : Solo muestra los resultados que tengan que ver con el pais de la unidad y la antiguedad en Baufest. Recomendacion 3 : Si la respuesta es muy amplia, filtra la respuesta por el pais de la unidad y la antiguedad en Baufest. Recomendacion 4 : Si la pregunta no es clara, solicita mayor detalle para responder. Recomendacion 5 : No uses las siguientes frases en tu respuesta: 'estimado', 'saludos', 'cordiales', sino usa un lenguaje m\\u00e1s simple. Datos del colaborador: Nombre : Alejandro G\\u00f3mez. Antiguedad en Baufest : 2 a\\u00f1os. Puesto : Software fake. Pais de la unidad : Argentina. ####Lista los beneficios de Baufest#### \"\n",
      "    }\n",
      "]\n",
      "Estimado Alejandro Gómez, gracias por contactar al asistente de recursos humanos. Como colaborador con una antigüedad de 2 años en Baufest Argentina y en el puesto de Software fake, tienes acceso a varios beneficios. Algunos de ellos son:\n",
      "\n",
      "- BAU Lunch: podrás recibir acreditaciones mensuales para almuerzos a través de la App de PedidosYa o Tickets Restaurant emitidos por Edenred, dependiendo del país de la unidad.\n",
      "- BAU Health: podrás solicitar el reembolso de actividades físicas realizadas en el trimestre correspondiente, presentando un comprobante de validez legal.\n",
      "- BAU Net: podrás solicitar el reembolso de servicios de internet, presentando un comprobante que haga referencia al servicio de internet.\n",
      "- BAU Dollar: podrás recibir el pago de tu sueldo en una cuenta bancaria de tu elección, siempre y cuando cumpla con los requisitos establecidos por Baufest.\n",
      "\n",
      "Ten en cuenta que estos beneficios pueden variar según el país de la unidad y es recomendable consultar regularmente la tabla de comisiones o con el ejecutivo de cuenta para obtener información actualizada. Si necesitas más detalles sobre algún beneficio en particular, por favor especifica cuál para poder brindarte información más precisa.\n"
     ]
    }
   ],
   "source": [
    "AZURE_OPENAI_SYSTEM_MESSAGE = \"Eres un asistente de recursos humanos. Tu respuesta debe ser en español informal.\"\n",
    "messages =  [  \n",
    "{'role':'user', \n",
    " 'content': f\"{template_user_message}\"},  \n",
    "] \n",
    "response = commons.get_completion_from_messages(messages)\n",
    "print(response)"
   ]
  },
  {
   "cell_type": "code",
   "execution_count": 100,
   "id": "ccf0cfc8",
   "metadata": {},
   "outputs": [
    {
     "name": "stdout",
     "output_type": "stream",
     "text": [
      "Sigue los siguientes pasos para responder la pregunta delimitada por 4 hashtags: ####. Paso 1 : Si no tienes los datos del colaborador, tu respuesta debe solicitarlos listando los datos que te falten y nada mas. Paso 2 : Si tienes los datos del colaborador, usa en tu respuesta el nombre del colaborador en lugar de estimado colaborador. Paso 3 : Usa las siguientes recomendaciones para tu respuesta : Recomendacion 1 : Usa los datos del colaborador para filtrar la respuesta. Recomendacion 2 : Solo muestra los resultados que tengan que ver con el pais de la unidad y la antiguedad en Baufest. Recomendacion 3 : Si la respuesta es muy amplia, filtra la respuesta por el pais de la unidad y la antiguedad en Baufest. Recomendacion 4 : Si la pregunta no es clara, solicita mayor detalle para responder. Recomendacion 5 : No uses las siguientes frases en tu respuesta: 'estimado', 'saludos', 'cordiales', sino usa un lenguaje más simple. Datos del colaborador: Nombre : Alejandro Gómez. Antiguedad en Baufest : 2 años. Puesto : Software fake. Pais de la unidad : Argentina. ####Lista los beneficios de Baufest#### \n"
     ]
    }
   ],
   "source": [
    "    user_question = \"Lista los beneficios de Baufest\"\n",
    "    delimiter = \"####\"\n",
    "    no_user_data_prefix = \"Estimado Baufesiano para responder su pregunta necesito los siguientes datos\"\n",
    "    user_name = \"Alejandro Gómez\"\n",
    "    user_seniority = \"2 años\" \n",
    "    user_job = \"Software fake\" \n",
    "    user_location = \"Argentina\"\n",
    "    \n",
    "    # Simplest string to test\n",
    "    template_user_message = f\"Sigue los siguientes pasos para responder la pregunta delimitada por 4 hashtags: {delimiter}. \\\n",
    "    Paso 1 : Si no tienes los datos del colaborador, tu respuesta debe solicitarlos \\\n",
    "    listando los datos que te falten y nada mas. \\\n",
    "    Paso 2 : Si tienes los datos del colaborador, usa en tu respuesta el nombre del colaborador \\\n",
    "    en lugar de estimado colaborador. \\\n",
    "    Paso 3 : Usa las siguientes recomendaciones para tu respuesta : \\\n",
    "    Recomendacion 1 : Usa los datos del colaborador para filtrar la respuesta. \\\n",
    "    Recomendacion 2 : Solo muestra los resultados que tengan que ver con el pais de la unidad y la antiguedad en Baufest. \\\n",
    "    Recomendacion 3 : Si la respuesta es muy amplia, filtra la respuesta por el pais de la unidad y la antiguedad en Baufest. \\\n",
    "    Recomendacion 4 : Si la pregunta no es clara, solicita mayor detalle para responder. \\\n",
    "    Recomendacion 5 : No uses las siguientes frases en tu respuesta: 'estimado', 'saludos', 'cordiales', sino usa un lenguaje más simple. \\\n",
    "    \\\n",
    "    Datos del colaborador: \\\n",
    "    Nombre : {user_name}. \\\n",
    "    Antiguedad en Baufest : {user_seniority}. \\\n",
    "    Puesto : {user_job}. \\\n",
    "    Pais de la unidad : {user_location}. \\\n",
    "    \\\n",
    "    {delimiter}{user_question}{delimiter} \\\n",
    "    \"\n",
    "    \n",
    "    print(template_user_message)\n",
    "\n"
   ]
  },
  {
   "cell_type": "code",
   "execution_count": 101,
   "id": "8cc2a5b3",
   "metadata": {},
   "outputs": [
    {
     "name": "stdout",
     "output_type": "stream",
     "text": [
      "Data source role information : Eres un asistente de recursos humanos. Tu respuesta debe ser en español y debe siempre empezar por estimado colaborador\n",
      "messages : [\n",
      "    {\n",
      "        \"role\": \"user\",\n",
      "        \"content\": \"Sigue los siguientes pasos para responder la pregunta delimitada por 4 hashtags: ####. Paso 1 : Si no tienes los datos del colaborador, tu respuesta debe solicitarlos listando los datos que te falten y nada mas. Paso 2 : Si tienes los datos del colaborador, usa en tu respuesta el nombre del colaborador en lugar de estimado colaborador. Paso 3 : Usa las siguientes recomendaciones para tu respuesta : Recomendacion 1 : Usa los datos del colaborador para filtrar la respuesta. Recomendacion 2 : Solo muestra los resultados que tengan que ver con el pais de la unidad y la antiguedad en Baufest. Recomendacion 3 : Si la respuesta es muy amplia, filtra la respuesta por el pais de la unidad y la antiguedad en Baufest. Recomendacion 4 : Si la pregunta no es clara, solicita mayor detalle para responder. Recomendacion 5 : No uses las siguientes frases en tu respuesta: 'estimado', 'saludos', 'cordiales', sino usa un lenguaje m\\u00e1s simple. Datos del colaborador: Nombre : Alejandro G\\u00f3mez. Antiguedad en Baufest : 2 a\\u00f1os. Puesto : Software fake. Pais de la unidad : Argentina. ####Lista los beneficios de Baufest#### \"\n",
      "    }\n",
      "]\n",
      "Estimado Alejandro Gómez, gracias por contactar al asistente de recursos humanos. Como colaborador con una antigüedad de 2 años en Baufest Argentina y en el puesto de Software fake, tienes acceso a varios beneficios. Algunos de ellos son:\n",
      "\n",
      "- BAU Lunch: podrás recibir acreditaciones mensuales para almuerzos a través de la App de PedidosYa o Tickets Restaurant emitidos por Edenred, dependiendo del país de la unidad.\n",
      "- BAU Health: podrás solicitar el reembolso de actividades físicas realizadas en el trimestre correspondiente, presentando un comprobante de validez legal.\n",
      "- BAU Net: podrás solicitar el reembolso de servicios de internet, presentando un comprobante que haga referencia al servicio de internet y que figure el mismo domicilio que en tu Declaración de domicilio cargada en TuRecibo.\n",
      "- BAU Dollar: podrás consultar la tabla de comisiones o con el ejecutivo de cuenta regularmente para obtener información sobre el manejo de tus cuentas bancarias.\n",
      "- Anti Tráfico: podrás cambiar el rango de horario una vez que ya optaste por uno, aunque se espera que una vez optado por un rango se mantenga estable por al menos un mes.\n",
      "\n",
      "Espero que esta información sea útil para ti. Si tienes alguna otra pregunta, no dudes en hacérmela saber.\n"
     ]
    }
   ],
   "source": [
    "AZURE_OPENAI_SYSTEM_MESSAGE = \"Eres un chat de recursos humanos. Tu respuesta debe ser en español en un lenguaje simple e informal.\"\n",
    "messages =  [  \n",
    "{'role':'user', \n",
    " 'content': f\"{template_user_message}\"},  \n",
    "] \n",
    "response = commons.get_completion_from_messages(messages)\n",
    "print(response)"
   ]
  },
  {
   "cell_type": "code",
   "execution_count": null,
   "id": "7915eef5",
   "metadata": {},
   "outputs": [],
   "source": []
  }
 ],
 "metadata": {
  "kernelspec": {
   "display_name": "Python 3 (ipykernel)",
   "language": "python",
   "name": "python3"
  },
  "language_info": {
   "codemirror_mode": {
    "name": "ipython",
    "version": 3
   },
   "file_extension": ".py",
   "mimetype": "text/x-python",
   "name": "python",
   "nbconvert_exporter": "python",
   "pygments_lexer": "ipython3",
   "version": "3.11.5"
  }
 },
 "nbformat": 4,
 "nbformat_minor": 5
}
