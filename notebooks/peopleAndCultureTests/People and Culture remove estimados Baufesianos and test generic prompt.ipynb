{
 "cells": [
  {
   "cell_type": "markdown",
   "id": "8d6bb76b",
   "metadata": {},
   "source": [
    "# Ajustes a la para obtener la respuesta requerida\n",
    "\n",
    "Se ha pedido el cambio de quitar \"Estimado Baufesiano\" y \"Saludos cordiales\""
   ]
  },
  {
   "cell_type": "code",
   "execution_count": null,
   "id": "4f81cbe5",
   "metadata": {},
   "outputs": [],
   "source": [
    "import sys\n",
    "sys.path.append('../lib')\n",
    "\n",
    "import json\n",
    "import aoaiextutils"
   ]
  },
  {
   "cell_type": "code",
   "execution_count": null,
   "id": "a061364b",
   "metadata": {},
   "outputs": [],
   "source": [
    "aoaiextutils.print_required_variables(False)"
   ]
  },
  {
   "cell_type": "markdown",
   "id": "a1819573",
   "metadata": {},
   "source": [
    "Prompt original en español y con la etiqueta"
   ]
  },
  {
   "cell_type": "code",
   "execution_count": null,
   "id": "a21bd5ab",
   "metadata": {},
   "outputs": [],
   "source": [
    "user_question=f\"\"\"\\\n",
    "Lista los beneficios de Baufest\"\"\"\n",
    "user_name=\"\"\n",
    "user_seniority=\"\"\n",
    "user_job=\"\"\n",
    "user_location=\"\"\n",
    "\n",
    "delimiter=\"####\"\n",
    "no_user_data_prefix=\"Estimado Baufesiano para responder su pregunta necesito los siguientes datos\"\n",
    "\n",
    "user_message = f\"\"\"\\\n",
    "Sigue los siguientes pasos para responder la pregunta delimitada por 4 hashtags: {delimiter}. \\\n",
    "Paso 1 : Si no tienes los datos del colaborador, tu respuesta debe seguir el siguiente formato : {no_user_data_prefix} \\\n",
    "listando los datos que te falten y nada mas. \\\n",
    "Paso 2 : Si tienes los datos del colaborador, usa en tu respuesta el nombre del colaborador \\\n",
    "en lugar de estimado colaborador. \\\n",
    "Paso 3 : Usa las siguientes recomendaciones para tu respuesta : \\\n",
    "Recomendacion 1 : Usa los datos del colaborador para filtrar la respuesta. \\\n",
    "Recomendacion 2 : Solo muestra los resultados que tengan que ver con el pais de la unidad y la antiguedad en Baufest. \\\n",
    "Recomendacion 3 : Si la respuesta es muy amplia, filtra la respuesta por el pais de la unidad y la antiguedad en Baufest. \\\n",
    "Recomendacion 4 : Si la pregunta no es clara, solicita mayor detalle para responder. \\\n",
    "\\\n",
    "Datos del colaborador: \\\n",
    "Nombre : {user_name}. \\\n",
    "Antiguedad en Baufest : {user_seniority}. \\\n",
    "Puesto : {user_job}. \\\n",
    "Pais de la unidad : {user_location}. \\\n",
    "\\\n",
    "{delimiter}{user_question}{delimiter} \\\n",
    "\"\"\"\n",
    "messages =  [  \n",
    "{'role':'user', \n",
    " 'content': f\"{user_message}\"},  \n",
    "] \n",
    "response = aoaiextutils.get_extension_chat_completion_from_messages(messages)\n",
    "print(response)"
   ]
  },
  {
   "cell_type": "code",
   "execution_count": null,
   "id": "6b875a66",
   "metadata": {},
   "outputs": [],
   "source": [
    "generic_template = \"\"\"\n",
    "To answer the question delimited by ###question### follow the instructions delimited by ###instructions### below.\n",
    "\n",
    "###instructions###\n",
    "{rules}\n",
    "###instructions###\n",
    "\n",
    "###question###\n",
    "{question}\n",
    "###question###\n",
    "\n",
    "###user_context###\n",
    "{user_data}\n",
    "###user_context###\n",
    "\n",
    "\"\"\"\n",
    "\n",
    "rules = \"\"\"\\\n",
    "Instruction 1 : Decide if the fields: 'name', 'years working in Baufest', 'job role' and 'country' have values,\n",
    "in the user_data json object delimited by ###user_context### below.\n",
    "\n",
    "Instruction 2 : If the fields of user_data do not have any value ask for the missing values before answer any question.\n",
    "\n",
    "Instruction 3 : If user_data field 'name' is provided use the value in your answer.\n",
    "\"\"\"\n",
    "\n"
   ]
  },
  {
   "cell_type": "code",
   "execution_count": null,
   "id": "cb4f6cfc",
   "metadata": {},
   "outputs": [],
   "source": [
    "print(rules)\n",
    "json_user_data = {\n",
    "    \"user_data\": {\n",
    "        \"name\":\"\",\n",
    "        \"years working in Baufest\":\"\",\n",
    "        \"job role\":\"\",\n",
    "        \"country\":\"\"        \n",
    "    }\n",
    "} \n",
    "\n",
    "print(json_user_data)\n",
    "\n",
    "question = \"Lista los beneficios de Baufest\""
   ]
  },
  {
   "cell_type": "code",
   "execution_count": null,
   "id": "dd9c3e32",
   "metadata": {},
   "outputs": [],
   "source": [
    "prompt_to_test = generic_template.format(rules=rules, question=question, user_data=json_user_data)\n",
    "\n",
    "print(f\"prompt_to_test : {prompt_to_test}\")"
   ]
  },
  {
   "cell_type": "code",
   "execution_count": null,
   "id": "fa408462",
   "metadata": {},
   "outputs": [],
   "source": [
    "messages =  [  \n",
    "{'role':'user', \n",
    " 'content': f\"{prompt_to_test}\"},  \n",
    "] \n",
    "response = aoaiextutils.get_extension_chat_completion_from_messages(messages)\n",
    "print(response)"
   ]
  },
  {
   "cell_type": "code",
   "execution_count": null,
   "id": "08874fea",
   "metadata": {},
   "outputs": [],
   "source": [
    "rules = \"\"\"\\\n",
    "Instruction 1 : Decide if the fields: 'name', 'years working in Baufest', 'job role' and 'country' have values,\n",
    "in the user_data json object delimited by ###user_context### below.\n",
    "\n",
    "Instruction 2 : If the fields of user_data do not have any value ask for the missing values before answer any question.\n",
    "\n",
    "Instruction 3 : Use user_data field 'name' in your answer to greting the user by 'name'.\n",
    "\n",
    "Instruction 4 : Filter your answer using user_data fields: 'years working in Baufest' and 'country' as working place unit.\n",
    "\n",
    "Final instruction : Remember to use in your answer an easygoing language for a chat answer.\n",
    "\"\"\"\n",
    "\n",
    "print(rules)\n",
    "json_user_data = {\n",
    "    \"user_data\": {\n",
    "        \"name\":\"Alejandro Gómez\",\n",
    "        \"years working in Baufest\":\"2 años\",\n",
    "        \"job role\":\"Software architect\",\n",
    "        \"country\":\"México\"        \n",
    "    }\n",
    "} \n",
    "\n",
    "print(json_user_data)\n",
    "\n",
    "question = \"Lista los beneficios de Baufest\""
   ]
  },
  {
   "cell_type": "code",
   "execution_count": null,
   "id": "609aa792",
   "metadata": {},
   "outputs": [],
   "source": [
    "prompt_to_test = generic_template.format(rules=rules, question=question, user_data=json_user_data)\n",
    "\n",
    "print(f\"prompt_to_test : {prompt_to_test}\")"
   ]
  },
  {
   "cell_type": "code",
   "execution_count": null,
   "id": "0e4a3322",
   "metadata": {},
   "outputs": [],
   "source": [
    "messages =  [  \n",
    "{'role':'user', \n",
    " 'content': f\"{prompt_to_test}\"},  \n",
    "] \n",
    "response = aoaiextutils.get_extension_chat_completion_from_messages(messages)\n",
    "print(response)"
   ]
  },
  {
   "cell_type": "code",
   "execution_count": null,
   "id": "cdcc0c62",
   "metadata": {},
   "outputs": [],
   "source": [
    "question = \"¿Cómo obtengo mi almuerzo o lunch?\"\n",
    "prompt_to_test = generic_template.format(rules=rules, question=question, user_data=json_user_data)\n",
    "\n",
    "print(f\"prompt_to_test : {prompt_to_test}\")"
   ]
  },
  {
   "cell_type": "code",
   "execution_count": null,
   "id": "ac6394fd",
   "metadata": {},
   "outputs": [],
   "source": [
    "messages =  [  \n",
    "{'role':'user', \n",
    " 'content': f\"{prompt_to_test}\"},  \n",
    "] \n",
    "response = aoaiextutils.get_extension_chat_completion_from_messages(messages)\n",
    "print(response)"
   ]
  },
  {
   "cell_type": "code",
   "execution_count": null,
   "id": "b3addfe5",
   "metadata": {},
   "outputs": [],
   "source": [
    "question = \"¿Puedo optar porque me transfieran menos o más del 20% en USD de mi salario?\"\n",
    "prompt_to_test = generic_template.format(rules=rules, question=question, user_data=json_user_data)\n",
    "\n",
    "print(f\"prompt_to_test : {prompt_to_test}\")"
   ]
  },
  {
   "cell_type": "code",
   "execution_count": null,
   "id": "71ef59cb",
   "metadata": {},
   "outputs": [],
   "source": [
    "messages =  [  \n",
    "{'role':'user', \n",
    " 'content': f\"{prompt_to_test}\"},  \n",
    "] \n",
    "response = aoaiextutils.get_extension_chat_completion_from_messages(messages)\n",
    "print(response)"
   ]
  },
  {
   "cell_type": "code",
   "execution_count": null,
   "id": "f98d330b",
   "metadata": {},
   "outputs": [],
   "source": [
    "rules = \"\"\"\\\n",
    "Instruction 1 : Decide if the fields: 'name', 'years working in Baufest', 'job role' and 'country' have values,\n",
    "in the user_data json object delimited by ###user_context### below.\n",
    "\n",
    "Instruction 2 : If the fields of user_data do not have any value ask for the missing values before answer any question.\n",
    "\n",
    "Instruction 3 : Use user_data field 'name' in your answer to greting the user by 'name'.\n",
    "\n",
    "Instruction 4 : Filter your answer using user_data fields: 'years working in Baufest' and 'country' as working place unit.\n",
    "\n",
    "Instruction 5 : Use document_data json object delimited by ###document_context### below to refine your answer. \n",
    "\n",
    "Final instruction : Remember to use in your answer an easygoing language for a chat answer.\n",
    "\"\"\"\n",
    "\n",
    "print(rules)\n",
    "json_user_data = {\n",
    "    \"user_data\": {\n",
    "        \"name\":\"Alejandro Gómez\",\n",
    "        \"years working in Baufest\":\"2 años\",\n",
    "        \"job role\":\"Software architect\",\n",
    "        \"country\":\"México\"        \n",
    "    }\n",
    "} \n",
    "\n",
    "print(json_user_data)\n",
    "\n",
    "json_doc_data = {\n",
    "    \"document_data\" : [\n",
    "            {\n",
    "                \"country\":\"Argentina\",\n",
    "                \"abbreviation\":\"AR\",\n",
    "                \"region\":\"LATAM\",\n",
    "                \"comment\":\"BAU DOLLAR is exclusive for this country\"\n",
    "            },\n",
    "            {\n",
    "                \"country\":\"Uruguay\",\n",
    "                \"abbreviation\":\"UY\",\n",
    "                \"region\":\"LATAM\"\n",
    "            },\n",
    "            {\n",
    "                \"country\":\"Perú\",\n",
    "                \"abbreviation\":\"PE\",\n",
    "                \"region\":\"LATAM\"\n",
    "            },\n",
    "            {\n",
    "                \"country\":\"México\",\n",
    "                \"abbreviation\":\"MX\",\n",
    "                \"region\":\"LATAM\"\n",
    "            },\n",
    "            {\n",
    "                \"country\":\"Chile\",\n",
    "                \"abbreviation\":\"CL\",\n",
    "                \"region\":\"LATAM\"\n",
    "            }\n",
    "        ]\n",
    "    }\n",
    "print(json_doc_data)\n"
   ]
  },
  {
   "cell_type": "code",
   "execution_count": null,
   "id": "dd41857d",
   "metadata": {},
   "outputs": [],
   "source": [
    "generic_template = \"\"\"\n",
    "To answer the question delimited by ###question### follow the instructions delimited by ###instructions### below.\n",
    "\n",
    "###instructions###\n",
    "{rules}\n",
    "###instructions###\n",
    "\n",
    "###question###\n",
    "{question}\n",
    "###question###\n",
    "\n",
    "###user_context###\n",
    "{user_data}\n",
    "###user_context###\n",
    "\n",
    "###document_context###\n",
    "{document_data}\n",
    "###document_context###\n",
    "\n",
    "\"\"\"\n"
   ]
  },
  {
   "cell_type": "code",
   "execution_count": null,
   "id": "76661179",
   "metadata": {},
   "outputs": [],
   "source": [
    "question = \"¿Puedo optar porque me transfieran menos o más del 20% en USD de mi salario?\"\n",
    "prompt_to_test = generic_template.format(rules=rules, question=question, user_data=json_user_data, document_data=json_doc_data)\n",
    "\n",
    "print(f\"prompt_to_test : {prompt_to_test}\")"
   ]
  },
  {
   "cell_type": "code",
   "execution_count": null,
   "id": "d2051a64",
   "metadata": {},
   "outputs": [],
   "source": [
    "messages =  [  \n",
    "{'role':'user', \n",
    " 'content': f\"{prompt_to_test}\"},  \n",
    "] \n",
    "response = aoaiextutils.get_extension_chat_completion_from_messages(messages)\n",
    "print(response)"
   ]
  },
  {
   "cell_type": "code",
   "execution_count": null,
   "id": "f8aa87cd",
   "metadata": {},
   "outputs": [],
   "source": [
    "json_user_data = {\n",
    "    \"user_data\": {\n",
    "        \"name\":\"Delfina Copaibo\",\n",
    "        \"years working in Baufest\":\"2 años\",\n",
    "        \"job role\":\"Project manager\",\n",
    "        \"country\":\"Argentina\"\n",
    "    }\n",
    "} \n"
   ]
  },
  {
   "cell_type": "code",
   "execution_count": null,
   "id": "2d211166",
   "metadata": {},
   "outputs": [],
   "source": [
    "question = \"¿Puedo optar porque me transfieran menos o más del 20% en USD de mi salario?\"\n",
    "prompt_to_test = generic_template.format(rules=rules, question=question, user_data=json_user_data, document_data=json_doc_data)\n",
    "\n",
    "print(f\"prompt_to_test : {prompt_to_test}\")"
   ]
  },
  {
   "cell_type": "code",
   "execution_count": null,
   "id": "57fe2a57",
   "metadata": {},
   "outputs": [],
   "source": [
    "messages =  [  \n",
    "{'role':'user', \n",
    " 'content': f\"{prompt_to_test}\"},  \n",
    "] \n",
    "response = aoaiextutils.get_extension_chat_completion_from_messages(messages)\n",
    "print(response)"
   ]
  },
  {
   "cell_type": "code",
   "execution_count": null,
   "id": "5930961a",
   "metadata": {},
   "outputs": [],
   "source": [
    "question = \"¿Soy bella?\"\n",
    "prompt_to_test = generic_template.format(rules=rules, question=question, user_data=json_user_data, document_data=json_doc_data)\n",
    "\n",
    "print(f\"prompt_to_test : {prompt_to_test}\")"
   ]
  },
  {
   "cell_type": "code",
   "execution_count": null,
   "id": "0b3f7d91",
   "metadata": {},
   "outputs": [],
   "source": [
    "messages =  [  \n",
    "{'role':'user', \n",
    " 'content': f\"{prompt_to_test}\"},  \n",
    "] \n",
    "response = aoaiextutils.get_extension_chat_completion_from_messages(messages)\n",
    "print(response)"
   ]
  },
  {
   "cell_type": "code",
   "execution_count": null,
   "id": "90cfaac0",
   "metadata": {},
   "outputs": [],
   "source": [
    "rules = \"\"\"\\\n",
    "Instruction 1 : Decide if the fields: 'name', 'years working in Baufest', 'job role' and 'country' have values,\n",
    "in the user_data json object delimited by ###user_context### below.\n",
    "\n",
    "Instruction 2 : If the fields of user_data do not have any value ask for the missing values before answer any question.\n",
    "\n",
    "Instruction 3 : Use user_data field 'name' in your answer to greting the user by 'name'.\n",
    "\n",
    "Instruction 4 : Filter your answer using user_data fields: 'years working in Baufest' and 'country' as working place unit.\n",
    "\n",
    "Instruction 5 : Use document_data json object delimited by ###document_context### below to refine your answer. \n",
    "\n",
    "Instruction 6 : If The requested information is not found in the retrieved data, then ask for more details. \n",
    "\n",
    "Final instruction : Remember to use in your answer an easygoing language for a chat answer.\n",
    "\"\"\"\n"
   ]
  },
  {
   "cell_type": "code",
   "execution_count": null,
   "id": "de3ec8f2",
   "metadata": {},
   "outputs": [],
   "source": [
    "question = \"¿Cual es el objetivo de la existencia?\"\n",
    "prompt_to_test = generic_template.format(rules=rules, question=question, user_data=json_user_data, document_data=json_doc_data)\n",
    "\n",
    "print(f\"prompt_to_test : {prompt_to_test}\")"
   ]
  },
  {
   "cell_type": "code",
   "execution_count": null,
   "id": "525ac70f",
   "metadata": {},
   "outputs": [],
   "source": [
    "messages =  [  \n",
    "{'role':'user', \n",
    " 'content': f\"{prompt_to_test}\"},  \n",
    "] \n",
    "response = aoaiextutils.get_extension_chat_completion_from_messages(messages)\n",
    "print(response)"
   ]
  },
  {
   "cell_type": "code",
   "execution_count": null,
   "id": "f4bf66ff",
   "metadata": {},
   "outputs": [],
   "source": []
  },
  {
   "cell_type": "code",
   "execution_count": null,
   "id": "5aae64a7",
   "metadata": {},
   "outputs": [],
   "source": [
    "user_name=\"Alejandro Gómez\"\n",
    "user_seniority=\"2 años\"\n",
    "user_job=\"Arquitecto\"\n",
    "user_location=\"México\"\n",
    "user_data = template_user_data.format(user_name=user_name, \n",
    "                                      user_seniority=user_seniority, \n",
    "                                      user_job=user_job, \n",
    "                                      user_location=user_location)\n",
    "prompt_to_test = generic_template.format(rules=rules, question=question, user_data=user_data)\n",
    "\n",
    "print(f\"prompt_to_test : {prompt_to_test}\")"
   ]
  },
  {
   "cell_type": "code",
   "execution_count": null,
   "id": "2a658f08",
   "metadata": {},
   "outputs": [],
   "source": [
    "messages =  [  \n",
    "{'role':'user', \n",
    " 'content': f\"{prompt_to_test}\"},  \n",
    "] \n",
    "response = aoaiextutils.get_extension_chat_completion_from_messages(messages)\n",
    "print(response)"
   ]
  },
  {
   "cell_type": "markdown",
   "id": "f750c199",
   "metadata": {},
   "source": [
    "Hasta aquí pinta bien, vamos a incluir document_context"
   ]
  },
  {
   "cell_type": "code",
   "execution_count": null,
   "id": "f2d4670b",
   "metadata": {},
   "outputs": [],
   "source": [
    "generic_template = \"\"\"\n",
    "Follow the steps delimited by ###steps### to answer the user question delimited by ###question###\n",
    "\n",
    "###steps###\n",
    "{rules}\n",
    "###steps###\n",
    "\n",
    "###question###\n",
    "{question}\n",
    "###question###\n",
    "\n",
    "###user_context###\n",
    "{user_data}\n",
    "###user_context###\n",
    "\n",
    "###document_context###\n",
    "{document_data}\n",
    "###document_context###\n",
    "\n",
    "\"\"\"\n",
    "\n",
    "rules = \"\"\"\\\n",
    "Follow all the steps before provide any response or answer.\n",
    "Step 1: Use the user data delimited by ###user_context### to provide your answer.\n",
    "Step 2: Verify that you have name, years working in Baufest, job role and working place country before provide any answer,\\\n",
    "if any data is missing then ask to user for the missing data before provide any answer.\n",
    "Step 3: Use the document context delimited by ###document_context### if only if name, years working in Baufest,\\\n",
    "job role and working place country are present.\n",
    "Step 4: Filter the answer using name, years working in Baufest, job role and working place country.\n",
    "Step 5: If the question is not clear then ask to the user for more details.\n",
    "Step 6: You must answer like a chat agent in an easygoing language.\"\"\"\n",
    "\n",
    "template_user_data=\"\"\"\\\n",
    "Name : {user_name}.\n",
    "Years working in Baufest : {user_seniority}.\n",
    "Job Role : {user_job}.\n",
    "working place country : {user_location}.\"\"\"\n",
    "\n",
    "document_data = \"\"\"\\\n",
    "BAU DOLLAR is a benefit only for Argentina.\n",
    "AR is the abbreviation for Argentina.\n",
    "PE is the abbreviation for Perú.\n",
    "CL is the abbreviation for Chile.\n",
    "UY is the abbreviation for Uruguay.\"\"\""
   ]
  },
  {
   "cell_type": "code",
   "execution_count": null,
   "id": "81a2d675",
   "metadata": {},
   "outputs": [],
   "source": [
    "question = \"Lista los beneficios de Baufest\"\n",
    "user_name=\"\"\n",
    "user_seniority=\"\"\n",
    "user_job=\"\"\n",
    "user_location=\"\"\n",
    "user_data = template_user_data.format(user_name=user_name, \n",
    "                                      user_seniority=user_seniority, \n",
    "                                      user_job=user_job, \n",
    "                                      user_location=user_location)\n",
    "prompt_to_test = generic_template.format(rules=rules, \n",
    "                                         question=question, \n",
    "                                         user_data=user_data, \n",
    "                                         document_data=document_data)\n",
    "\n",
    "print(f\"prompt_to_test : {prompt_to_test}\")"
   ]
  },
  {
   "cell_type": "code",
   "execution_count": null,
   "id": "927d322d",
   "metadata": {},
   "outputs": [],
   "source": [
    "messages =  [  \n",
    "{'role':'user', \n",
    " 'content': f\"{prompt_to_test}\"},  \n",
    "] \n",
    "response = aoaiextutils.get_extension_chat_completion_from_messages(messages)\n",
    "print(response)"
   ]
  },
  {
   "cell_type": "code",
   "execution_count": null,
   "id": "28ea6b9a",
   "metadata": {},
   "outputs": [],
   "source": [
    "user_name=\"Alejandro Gómez\"\n",
    "user_seniority=\"2 años\"\n",
    "user_job=\"Arquitecto\"\n",
    "user_location=\"México\"\n",
    "user_data = template_user_data.format(user_name=user_name, \n",
    "                                      user_seniority=user_seniority, \n",
    "                                      user_job=user_job, \n",
    "                                      user_location=user_location)\n",
    "prompt_to_test = generic_template.format(rules=rules, \n",
    "                                         question=question, \n",
    "                                         user_data=user_data, \n",
    "                                         document_data=document_data)\n",
    "\n",
    "print(f\"prompt_to_test : {prompt_to_test}\")"
   ]
  },
  {
   "cell_type": "code",
   "execution_count": null,
   "id": "2085a285",
   "metadata": {},
   "outputs": [],
   "source": [
    "messages =  [  \n",
    "{'role':'user', \n",
    " 'content': f\"{prompt_to_test}\"},  \n",
    "] \n",
    "response = aoaiextutils.get_extension_chat_completion_from_messages(messages)\n",
    "print(response)"
   ]
  },
  {
   "cell_type": "markdown",
   "id": "dbaff03b",
   "metadata": {},
   "source": [
    "Mejorando el prompt usando chatgpt"
   ]
  },
  {
   "cell_type": "code",
   "execution_count": null,
   "id": "6354f7d4",
   "metadata": {},
   "outputs": [],
   "source": [
    "generic_template = \"\"\"\n",
    "Follow the steps below, delimited by ###steps###, to answer the user's question, delimited by ###question###\n",
    "\n",
    "###steps###\n",
    "{rules}\n",
    "###steps###\n",
    "\n",
    "###question###\n",
    "{question}\n",
    "###question###\n",
    "\n",
    "###user_context###\n",
    "{user_data}\n",
    "###user_context###\n",
    "\n",
    "###document_context###\n",
    "{document_data}\n",
    "###document_context###\n",
    "\n",
    "\"\"\"\n",
    "\n",
    "rules = \"\"\"\\\n",
    "Follow these steps before providing any response or answer:\n",
    "Step 1: Utilize the user data, delimited by ###user_context###, to formulate your response.\n",
    "Step 2: Ensure that you have the user's name, years working in Baufest, job role, and working place country before proceeding. If any of this data is missing, prompt the user to provide the necessary information before continuing.\n",
    "Step 3: Consider the document context, delimited by ###document_context###, only if the user's name, years working in Baufest, job role, and working place country are present.\n",
    "Step 4: Filter your response based on the user's name, years working in Baufest, job role, and working place country.\n",
    "Step 5: If the user's question is unclear, request additional details before providing an answer.\n",
    "Step 6: Respond in a friendly, conversational manner, resembling a chat agent's communication style.\n",
    "\"\"\"\n",
    "\n",
    "template_user_data=\"\"\"\\\n",
    "Name : {user_name}.\n",
    "Years working in Baufest : {user_seniority}.\n",
    "Job Role : {user_job}.\n",
    "working place country : {user_location}.\"\"\"\n",
    "\n",
    "document_data = \"\"\"\\\n",
    "BAU DOLLAR is a benefit only for Argentina.\n",
    "AR is the abbreviation for Argentina.\n",
    "PE is the abbreviation for Perú.\n",
    "CL is the abbreviation for Chile.\n",
    "UY is the abbreviation for Uruguay.\"\"\""
   ]
  },
  {
   "cell_type": "code",
   "execution_count": null,
   "id": "658d5fb1",
   "metadata": {},
   "outputs": [],
   "source": [
    "question = \"Lista los beneficios de Baufest\"\n",
    "user_name=\"\"\n",
    "user_seniority=\"\"\n",
    "user_job=\"\"\n",
    "user_location=\"\"\n",
    "user_data = template_user_data.format(user_name=user_name, \n",
    "                                      user_seniority=user_seniority, \n",
    "                                      user_job=user_job, \n",
    "                                      user_location=user_location)\n",
    "prompt_to_test = generic_template.format(rules=rules, \n",
    "                                         question=question, \n",
    "                                         user_data=user_data, \n",
    "                                         document_data=document_data)\n",
    "\n",
    "print(f\"prompt_to_test : {prompt_to_test}\")"
   ]
  },
  {
   "cell_type": "code",
   "execution_count": null,
   "id": "1326c77b",
   "metadata": {},
   "outputs": [],
   "source": [
    "messages =  [  \n",
    "{'role':'user', \n",
    " 'content': f\"{prompt_to_test}\"},  \n",
    "] \n",
    "response = aoaiextutils.get_extension_chat_completion_from_messages(messages)\n",
    "print(response)"
   ]
  },
  {
   "cell_type": "code",
   "execution_count": null,
   "id": "26371672",
   "metadata": {},
   "outputs": [],
   "source": [
    "user_name=\"Alejandro Gómez\"\n",
    "user_seniority=\"2 años\"\n",
    "user_job=\"Arquitecto\"\n",
    "user_location=\"México\"\n",
    "user_data = template_user_data.format(user_name=user_name, \n",
    "                                      user_seniority=user_seniority, \n",
    "                                      user_job=user_job, \n",
    "                                      user_location=user_location)\n",
    "prompt_to_test = generic_template.format(rules=rules, \n",
    "                                         question=question, \n",
    "                                         user_data=user_data, \n",
    "                                         document_data=document_data)\n",
    "\n",
    "print(f\"prompt_to_test : {prompt_to_test}\")"
   ]
  },
  {
   "cell_type": "code",
   "execution_count": null,
   "id": "8aa63a90",
   "metadata": {},
   "outputs": [],
   "source": [
    "messages =  [  \n",
    "{'role':'user', \n",
    " 'content': f\"{prompt_to_test}\"},  \n",
    "] \n",
    "response = aoaiextutils.get_extension_chat_completion_from_messages(messages)\n",
    "print(response)"
   ]
  },
  {
   "cell_type": "code",
   "execution_count": null,
   "id": "0e29a2b6",
   "metadata": {},
   "outputs": [],
   "source": [
    "messages =  [  \n",
    "{'role':'user', \n",
    " 'content': f\"{prompt_to_test}\"},  \n",
    "] \n",
    "response = aoaiextutils.get_extension_chat_completion_from_messages(messages)\n",
    "print(response)"
   ]
  },
  {
   "cell_type": "code",
   "execution_count": null,
   "id": "f72c1457",
   "metadata": {},
   "outputs": [],
   "source": [
    "    user_question = \"Lista los beneficios de Baufest\"\n",
    "    delimiter = \"####\"\n",
    "    no_user_data_prefix = \"Estimado Baufesiano para responder su pregunta necesito los siguientes datos\"\n",
    "    user_name = \"\"\n",
    "    user_seniority = \"\" \n",
    "    user_job = \"\" \n",
    "    user_location = \"\"\n",
    "    \n",
    "    # Simplest string to test\n",
    "    template_user_message = f\"Sigue los siguientes pasos para responder la pregunta delimitada por 4 hashtags: {delimiter}. \\\n",
    "    Paso 1 : Si no tienes los datos del colaborador, tu respuesta debe solicitarlos \\\n",
    "    listando los datos que te falten y nada mas. \\\n",
    "    Paso 2 : Si tienes los datos del colaborador, usa en tu respuesta el nombre del colaborador \\\n",
    "    en lugar de estimado colaborador. \\\n",
    "    Paso 3 : Usa las siguientes recomendaciones para tu respuesta : \\\n",
    "    Recomendacion 1 : Usa los datos del colaborador para filtrar la respuesta. \\\n",
    "    Recomendacion 2 : Solo muestra los resultados que tengan que ver con el pais de la unidad y la antiguedad en Baufest. \\\n",
    "    Recomendacion 3 : Si la respuesta es muy amplia, filtra la respuesta por el pais de la unidad y la antiguedad en Baufest. \\\n",
    "    Recomendacion 4 : Si la pregunta no es clara, solicita mayor detalle para responder. \\\n",
    "    Recomendacion 5 : No uses estimado colaborador en tu respuesta, sino usa un lenguaje más simple. \\\n",
    "    \\\n",
    "    Datos del colaborador: \\\n",
    "    Nombre : {user_name}. \\\n",
    "    Antiguedad en Baufest : {user_seniority}. \\\n",
    "    Puesto : {user_job}. \\\n",
    "    Pais de la unidad : {user_location}. \\\n",
    "    \\\n",
    "    {delimiter}{user_question}{delimiter} \\\n",
    "    \"\n",
    "    \n",
    "    print(template_user_message)\n",
    "\n"
   ]
  },
  {
   "cell_type": "code",
   "execution_count": null,
   "id": "54cdac39",
   "metadata": {},
   "outputs": [],
   "source": [
    "AZURE_OPENAI_SYSTEM_MESSAGE = \"Eres un asistente de recursos humanos. Tu respuesta debe ser en español informal.\"\n",
    "messages =  [  \n",
    "{'role':'user', \n",
    " 'content': f\"{template_user_message}\"},  \n",
    "] \n",
    "response = aoaiextutils.get_extension_chat_completion_from_messages(messages)\n",
    "print(response)"
   ]
  },
  {
   "cell_type": "code",
   "execution_count": null,
   "id": "ccf0cfc8",
   "metadata": {},
   "outputs": [],
   "source": [
    "    user_question = \"Lista los beneficios de Baufest\"\n",
    "    delimiter = \"####\"\n",
    "    no_user_data_prefix = \"Estimado Baufesiano para responder su pregunta necesito los siguientes datos\"\n",
    "    user_name = \"Alejandro Gómez\"\n",
    "    user_seniority = \"2 años\" \n",
    "    user_job = \"Software fake\" \n",
    "    user_location = \"Argentina\"\n",
    "    \n",
    "    # Simplest string to test\n",
    "    template_user_message = f\"Sigue los siguientes pasos para responder la pregunta delimitada por 4 hashtags: {delimiter}. \\\n",
    "    Paso 1 : Si no tienes los datos del colaborador, tu respuesta debe solicitarlos \\\n",
    "    listando los datos que te falten y nada mas. \\\n",
    "    Paso 2 : Si tienes los datos del colaborador, usa en tu respuesta el nombre del colaborador \\\n",
    "    en lugar de estimado colaborador. \\\n",
    "    Paso 3 : Usa las siguientes recomendaciones para tu respuesta : \\\n",
    "    Recomendacion 1 : Usa los datos del colaborador para filtrar la respuesta. \\\n",
    "    Recomendacion 2 : Solo muestra los resultados que tengan que ver con el pais de la unidad y la antiguedad en Baufest. \\\n",
    "    Recomendacion 3 : Si la respuesta es muy amplia, filtra la respuesta por el pais de la unidad y la antiguedad en Baufest. \\\n",
    "    Recomendacion 4 : Si la pregunta no es clara, solicita mayor detalle para responder. \\\n",
    "    Recomendacion 5 : No uses las siguientes frases en tu respuesta: 'estimado', 'saludos', 'cordiales', sino usa un lenguaje más simple. \\\n",
    "    \\\n",
    "    Datos del colaborador: \\\n",
    "    Nombre : {user_name}. \\\n",
    "    Antiguedad en Baufest : {user_seniority}. \\\n",
    "    Puesto : {user_job}. \\\n",
    "    Pais de la unidad : {user_location}. \\\n",
    "    \\\n",
    "    {delimiter}{user_question}{delimiter} \\\n",
    "    \"\n",
    "    \n",
    "    print(template_user_message)\n",
    "\n"
   ]
  },
  {
   "cell_type": "code",
   "execution_count": null,
   "id": "8cc2a5b3",
   "metadata": {},
   "outputs": [],
   "source": [
    "AZURE_OPENAI_SYSTEM_MESSAGE = \"Eres un chat de recursos humanos. Tu respuesta debe ser en español en un lenguaje simple e informal.\"\n",
    "messages =  [  \n",
    "{'role':'user', \n",
    " 'content': f\"{template_user_message}\"},  \n",
    "] \n",
    "response = aoaiextutils.get_extension_chat_completion_from_messages(messages)\n",
    "print(response)"
   ]
  },
  {
   "cell_type": "code",
   "execution_count": null,
   "id": "7915eef5",
   "metadata": {},
   "outputs": [],
   "source": []
  }
 ],
 "metadata": {
  "kernelspec": {
   "display_name": "Python 3 (ipykernel)",
   "language": "python",
   "name": "python3"
  },
  "language_info": {
   "codemirror_mode": {
    "name": "ipython",
    "version": 3
   },
   "file_extension": ".py",
   "mimetype": "text/x-python",
   "name": "python",
   "nbconvert_exporter": "python",
   "pygments_lexer": "ipython3",
   "version": "3.11.5"
  }
 },
 "nbformat": 4,
 "nbformat_minor": 5
}
