{
 "cells": [
  {
   "cell_type": "markdown",
   "id": "054871c7",
   "metadata": {},
   "source": [
    "# Pruebas para demostrar por que se tiene que usar el rol de user para solicitar datos relevantes\n",
    "\n",
    "El objetivo de estas pruebas es mostrar por qué se decidió usar el rol de user para solicitar datos relevantes.\n",
    "\n",
    "Nótese que los conceptos que se usan son los siguientes:\n",
    "\n",
    "- Azure Open AI\n",
    "- Azure Search Service\n",
    "\n",
    "Importante por leer:\n",
    "\n",
    "- [Use your data AI search system message](https://learn.microsoft.com/en-us/azure/ai-services/openai/concepts/use-your-data?tabs=ai-search#system-message)\n",
    "- [System message templates](https://learn.microsoft.com/en-us/azure/ai-services/openai/concepts/system-message)\n",
    "- [Chain of thought prompting](https://learn.microsoft.com/en-us/azure/ai-services/openai/concepts/advanced-prompt-engineering?pivots=programming-language-chat-completions#chain-of-thought-prompting)\n",
    "\n",
    "Para mayor detalle del prompt final, revise TestPeopleAndCultureV1"
   ]
  },
  {
   "cell_type": "code",
   "execution_count": null,
   "id": "3ab2594a",
   "metadata": {},
   "outputs": [],
   "source": [
    "import sys\n",
    "sys.path.append('../lib')\n",
    "\n",
    "import aoaiextutils"
   ]
  },
  {
   "cell_type": "code",
   "execution_count": null,
   "id": "da077191",
   "metadata": {},
   "outputs": [],
   "source": [
    "aoaiextutils.print_required_variables(False)"
   ]
  },
  {
   "cell_type": "markdown",
   "id": "3a57fbb0",
   "metadata": {},
   "source": [
    "### Prompt original usando el rol _user_ para proporcionar reglas al modelo"
   ]
  },
  {
   "cell_type": "markdown",
   "id": "04c7ffe4",
   "metadata": {},
   "source": [
    "#### Prueba sin datos"
   ]
  },
  {
   "cell_type": "code",
   "execution_count": null,
   "id": "95ddfc23",
   "metadata": {},
   "outputs": [],
   "source": [
    "user_question=f\"\"\"\\\n",
    "¿Lista los beneficios de Baufest que tengo derecho como empleado?\"\"\"\n",
    "user_name=\"\"\n",
    "user_seniority=\"\"\n",
    "user_job=\"\"\n",
    "user_location=\"\"\n",
    "\n",
    "delimiter=\"####\"\n",
    "no_user_data_prefix=\"Estimado Baufesiano para responder su pregunta necesito los siguientes datos\"\n",
    "\n",
    "user_message = f\"\"\"\\\n",
    "Sigue los siguientes pasos para responder la pregunta delimitada por 4 hashtags: {delimiter}. \\\n",
    "Paso 1 : Si no tienes los datos del colaborador, tu respuesta debe seguir el siguiente formato : {no_user_data_prefix} \\\n",
    "listando los datos que te falten y nada mas. \\\n",
    "Paso 2 : Si tienes los datos del colaborador, usa en tu respuesta el nombre del colaborador \\\n",
    "en lugar de estimado colaborador. \\\n",
    "Paso 3 : Usa las siguientes recomendaciones para tu respuesta : \\\n",
    "Recomendacion 1 : Usa los datos del colaborador para filtrar la respuesta. \\\n",
    "Recomendacion 2 : Solo muestra los resultados que tengan que ver con el pais de la unidad y la antiguedad en Baufest. \\\n",
    "Recomendacion 3 : Si la respuesta es muy amplia, filtra la respuesta por el pais de la unidad y la antiguedad en Baufest. \\\n",
    "Recomendacion 4 : Si la pregunta no es clara, solicita mayor detalle para responder. \\\n",
    "\\\n",
    "Datos del colaborador: \\\n",
    "Nombre : {user_name}. \\\n",
    "Antiguedad en Baufest : {user_seniority}. \\\n",
    "Puesto : {user_job}. \\\n",
    "Pais de la unidad : {user_location}. \\\n",
    "\\\n",
    "{delimiter}{user_question}{delimiter} \\\n",
    "\"\"\"\n",
    "messages =  [  \n",
    "{'role':'user', \n",
    " 'content': f\"{user_message}\"},  \n",
    "] \n",
    "response = aoaiextutils.get_extension_chat_completion_from_messages(messages)\n",
    "print(response)"
   ]
  },
  {
   "cell_type": "markdown",
   "id": "11c443e0",
   "metadata": {},
   "source": [
    "#### Prueba con datos"
   ]
  },
  {
   "cell_type": "code",
   "execution_count": null,
   "id": "f9cd6f9b",
   "metadata": {},
   "outputs": [],
   "source": [
    "user_question=f\"\"\"\\\n",
    "¿Lista los beneficios de Baufest que tengo derecho como empleado?\"\"\"\n",
    "user_name=\"Santiago Vilche\"\n",
    "user_seniority=\"2 años\"\n",
    "user_job=\"Desarrollador\"\n",
    "user_location=\"Argentina\"\n",
    "\n",
    "delimiter=\"####\"\n",
    "no_user_data_prefix=\"Estimado Baufesiano para responder su pregunta necesito los siguientes datos\"\n",
    "\n",
    "user_message = f\"\"\"\\\n",
    "Sigue los siguientes pasos para responder la pregunta delimitada por 4 hashtags: {delimiter}. \\\n",
    "Paso 1 : Si no tienes los datos del colaborador, tu respuesta debe seguir el siguiente formato : {no_user_data_prefix} \\\n",
    "listando los datos que te falten y nada mas. \\\n",
    "Paso 2 : Si tienes los datos del colaborador, usa en tu respuesta el nombre del colaborador \\\n",
    "en lugar de estimado colaborador. \\\n",
    "Paso 3 : Usa las siguientes recomendaciones para tu respuesta : \\\n",
    "Recomendacion 1 : Usa los datos del colaborador para filtrar la respuesta. \\\n",
    "Recomendacion 2 : Solo muestra los resultados que tengan que ver con el pais de la unidad y la antiguedad en Baufest. \\\n",
    "Recomendacion 3 : Si la respuesta es muy amplia, filtra la respuesta por el pais de la unidad y la antiguedad en Baufest. \\\n",
    "Recomendacion 4 : Si la pregunta no es clara, solicita mayor detalle para responder. \\\n",
    "\\\n",
    "Datos del colaborador: \\\n",
    "Nombre : {user_name}. \\\n",
    "Antiguedad en Baufest : {user_seniority}. \\\n",
    "Puesto : {user_job}. \\\n",
    "Pais de la unidad : {user_location}. \\\n",
    "\\\n",
    "{delimiter}{user_question}{delimiter} \\\n",
    "\"\"\"\n",
    "messages =  [  \n",
    "{'role':'user', \n",
    " 'content': f\"{user_message}\"},  \n",
    "] \n",
    "response = aoaiextutils.get_extension_chat_completion_from_messages(messages)\n",
    "print(response)"
   ]
  },
  {
   "cell_type": "markdown",
   "id": "6cb7953d",
   "metadata": {},
   "source": [
    "### Prompt original usando el rol _system_ para proporcionar reglas al modelo"
   ]
  },
  {
   "cell_type": "markdown",
   "id": "f757abde",
   "metadata": {},
   "source": [
    "#### Prueba sin datos"
   ]
  },
  {
   "cell_type": "code",
   "execution_count": null,
   "id": "4bf0bcfd",
   "metadata": {},
   "outputs": [],
   "source": [
    "user_question=f\"\"\"\\\n",
    "¿Lista los beneficios de Baufest que tengo derecho como empleado?\"\"\"\n",
    "user_name=\"\"\n",
    "user_seniority=\"\"\n",
    "user_job=\"\"\n",
    "user_location=\"\"\n",
    "\n",
    "delimiter=\"####\"\n",
    "no_user_data_prefix=\"Estimado Baufesiano para responder su pregunta necesito los siguientes datos\"\n",
    "\n",
    "system_message = f\"\"\"\\\n",
    "Sigue los siguientes pasos para responder la pregunta delimitada por 4 hashtags: {delimiter}. \\\n",
    "Paso 1 : Si no tienes los datos del colaborador, tu respuesta debe seguir el siguiente formato : {no_user_data_prefix} \\\n",
    "listando los datos que te falten y nada mas. \\\n",
    "Paso 2 : Si tienes los datos del colaborador, usa en tu respuesta el nombre del colaborador \\\n",
    "en lugar de estimado colaborador. \\\n",
    "Paso 3 : Usa las siguientes recomendaciones para tu respuesta : \\\n",
    "Recomendacion 1 : Usa los datos del colaborador para filtrar la respuesta. \\\n",
    "Recomendacion 2 : Solo muestra los resultados que tengan que ver con el pais de la unidad y la antiguedad en Baufest. \\\n",
    "Recomendacion 3 : Si la respuesta es muy amplia, filtra la respuesta por el pais de la unidad y la antiguedad en Baufest. \\\n",
    "Recomendacion 4 : Si la pregunta no es clara, solicita mayor detalle para responder. \\\n",
    "\\\n",
    "Datos del colaborador: \\\n",
    "Nombre : {user_name}. \\\n",
    "Antiguedad en Baufest : {user_seniority}. \\\n",
    "Puesto : {user_job}. \\\n",
    "Pais de la unidad : {user_location}. \\\n",
    "\"\"\"\n",
    "messages =  [  \n",
    "{'role':'system', \n",
    " 'content': f\"{system_message}\"},  \n",
    "{'role':'user', \n",
    " 'content': f\"{delimiter}{user_question}{delimiter}\"},  \n",
    "] \n",
    "response = aoaiextutils.get_extension_chat_completion_from_messages(messages)\n",
    "print(response)"
   ]
  },
  {
   "cell_type": "markdown",
   "id": "83373370",
   "metadata": {},
   "source": [
    "#### Prueba con datos"
   ]
  },
  {
   "cell_type": "code",
   "execution_count": null,
   "id": "0fe99cda",
   "metadata": {},
   "outputs": [],
   "source": [
    "user_question=f\"\"\"\\\n",
    "¿Lista los beneficios de Baufest que tengo derecho como empleado?\"\"\"\n",
    "user_name=\"Santiago Vilche\"\n",
    "user_seniority=\"2 años\"\n",
    "user_job=\"Desarrollador\"\n",
    "user_location=\"Argentina\"\n",
    "\n",
    "delimiter=\"####\"\n",
    "no_user_data_prefix=\"Estimado Baufesiano para responder su pregunta necesito los siguientes datos\"\n",
    "\n",
    "system_message = f\"\"\"\\\n",
    "Sigue los siguientes pasos para responder la pregunta delimitada por 4 hashtags: {delimiter}. \\\n",
    "Paso 1 : Si no tienes los datos del colaborador, tu respuesta debe seguir el siguiente formato : {no_user_data_prefix} \\\n",
    "listando los datos que te falten y nada mas. \\\n",
    "Paso 2 : Si tienes los datos del colaborador, usa en tu respuesta el nombre del colaborador \\\n",
    "en lugar de estimado colaborador. \\\n",
    "Paso 3 : Usa las siguientes recomendaciones para tu respuesta : \\\n",
    "Recomendacion 1 : Usa los datos del colaborador para filtrar la respuesta. \\\n",
    "Recomendacion 2 : Solo muestra los resultados que tengan que ver con el pais de la unidad y la antiguedad en Baufest. \\\n",
    "Recomendacion 3 : Si la respuesta es muy amplia, filtra la respuesta por el pais de la unidad y la antiguedad en Baufest. \\\n",
    "Recomendacion 4 : Si la pregunta no es clara, solicita mayor detalle para responder. \\\n",
    "\\\n",
    "Datos del colaborador: \\\n",
    "Nombre : {user_name}. \\\n",
    "Antiguedad en Baufest : {user_seniority}. \\\n",
    "Puesto : {user_job}. \\\n",
    "Pais de la unidad : {user_location}. \\\n",
    "\"\"\"\n",
    "messages =  [  \n",
    "{'role':'system', \n",
    " 'content': f\"{system_message}\"},  \n",
    "{'role':'user', \n",
    " 'content': f\"{delimiter}{user_question}{delimiter}\"},  \n",
    "] \n",
    "response = aoaiextutils.get_extension_chat_completion_from_messages(messages)\n",
    "print(response)"
   ]
  },
  {
   "cell_type": "markdown",
   "id": "21a9fcee",
   "metadata": {},
   "source": [
    "Como se puede ver en los resultados el __rol system__ no tiene impacto alguno en la respuesta"
   ]
  },
  {
   "cell_type": "markdown",
   "id": "30d6d90c",
   "metadata": {},
   "source": [
    "### Prompt original usando el rol _assistant_ para proporcionar reglas al modelo"
   ]
  },
  {
   "cell_type": "markdown",
   "id": "18cb7013",
   "metadata": {},
   "source": [
    "#### Prueba sin datos"
   ]
  },
  {
   "cell_type": "code",
   "execution_count": null,
   "id": "8cd665e4",
   "metadata": {},
   "outputs": [],
   "source": [
    "user_question=f\"\"\"\\\n",
    "¿Lista los beneficios de Baufest que tengo derecho como empleado?\"\"\"\n",
    "user_name=\"\"\n",
    "user_seniority=\"\"\n",
    "user_job=\"\"\n",
    "user_location=\"\"\n",
    "\n",
    "delimiter=\"####\"\n",
    "no_user_data_prefix=\"Estimado Baufesiano para responder su pregunta necesito los siguientes datos\"\n",
    "\n",
    "assistant_message = f\"\"\"\\\n",
    "Sigue los siguientes pasos para responder la pregunta del usuario delimitada por 4 hashtags: {delimiter}. \\\n",
    "Paso 1 : Si no tienes los datos del colaborador, tu respuesta debe seguir el siguiente formato : {no_user_data_prefix} \\\n",
    "listando los datos que te falten y nada mas. \\\n",
    "Paso 2 : Si tienes los datos del colaborador, usa en tu respuesta el nombre del colaborador \\\n",
    "en lugar de estimado colaborador. \\\n",
    "Paso 3 : Usa las siguientes recomendaciones para tu respuesta : \\\n",
    "Recomendacion 1 : Usa los datos del colaborador para filtrar la respuesta. \\\n",
    "Recomendacion 2 : Solo muestra los resultados que tengan que ver con el pais de la unidad y la antiguedad en Baufest. \\\n",
    "Recomendacion 3 : Si la respuesta es muy amplia, filtra la respuesta por el pais de la unidad y la antiguedad en Baufest. \\\n",
    "Recomendacion 4 : Si la pregunta no es clara, solicita mayor detalle para responder. \\\n",
    "\\\n",
    "Datos del colaborador: \\\n",
    "Nombre : {user_name}. \\\n",
    "Antiguedad en Baufest : {user_seniority}. \\\n",
    "Puesto : {user_job}. \\\n",
    "Pais de la unidad : {user_location}. \\\n",
    "\"\"\"\n",
    "messages =  [  \n",
    "{'role':'assistant', \n",
    " 'content': f\"{assistant_message}\"},  \n",
    "{'role':'user', \n",
    " 'content': f\"{delimiter}{user_question}{delimiter}\"},  \n",
    "] \n",
    "response = aoaiextutils.get_extension_chat_completion_from_messages(messages)\n",
    "print(response)"
   ]
  },
  {
   "cell_type": "markdown",
   "id": "41ab5092",
   "metadata": {},
   "source": [
    "#### Prueba con datos"
   ]
  },
  {
   "cell_type": "code",
   "execution_count": null,
   "id": "d3906712",
   "metadata": {},
   "outputs": [],
   "source": [
    "user_question=f\"\"\"\\\n",
    "¿Lista los beneficios de Baufest que tengo derecho como empleado?\"\"\"\n",
    "user_name=\"Santiago Vilche\"\n",
    "user_seniority=\"2 años\"\n",
    "user_job=\"Desarrollador\"\n",
    "user_location=\"Argentina\"\n",
    "\n",
    "delimiter=\"####\"\n",
    "no_user_data_prefix=\"Estimado Baufesiano para responder su pregunta necesito los siguientes datos\"\n",
    "\n",
    "assistant_message = f\"\"\"\\\n",
    "Sigue los siguientes pasos para responder la pregunta delimitada por 4 hashtags: {delimiter}. \\\n",
    "Paso 1 : Si no tienes los datos del colaborador, tu respuesta debe seguir el siguiente formato : {no_user_data_prefix} \\\n",
    "listando los datos que te falten y nada mas. \\\n",
    "Paso 2 : Si tienes los datos del colaborador, usa en tu respuesta el nombre del colaborador \\\n",
    "en lugar de estimado colaborador. \\\n",
    "Paso 3 : Usa las siguientes recomendaciones para tu respuesta : \\\n",
    "Recomendacion 1 : Usa los datos del colaborador para filtrar la respuesta. \\\n",
    "Recomendacion 2 : Solo muestra los resultados que tengan que ver con el pais de la unidad y la antiguedad en Baufest. \\\n",
    "Recomendacion 3 : Si la respuesta es muy amplia, filtra la respuesta por el pais de la unidad y la antiguedad en Baufest. \\\n",
    "Recomendacion 4 : Si la pregunta no es clara, solicita mayor detalle para responder. \\\n",
    "\\\n",
    "Datos del colaborador: \\\n",
    "Nombre : {user_name}. \\\n",
    "Antiguedad en Baufest : {user_seniority}. \\\n",
    "Puesto : {user_job}. \\\n",
    "Pais de la unidad : {user_location}. \\\n",
    "\"\"\"\n",
    "messages =  [  \n",
    "{'role':'assistant', \n",
    " 'content': f\"{assistant_message}\"},  \n",
    "{'role':'user', \n",
    " 'content': f\"{delimiter}{user_question}{delimiter}\"},  \n",
    "] \n",
    "response = aoaiextutils.get_extension_chat_completion_from_messages(messages)\n",
    "print(response)"
   ]
  },
  {
   "cell_type": "code",
   "execution_count": null,
   "id": "0e628af6",
   "metadata": {},
   "outputs": [],
   "source": []
  }
 ],
 "metadata": {
  "kernelspec": {
   "display_name": "Python 3 (ipykernel)",
   "language": "python",
   "name": "python3"
  },
  "language_info": {
   "codemirror_mode": {
    "name": "ipython",
    "version": 3
   },
   "file_extension": ".py",
   "mimetype": "text/x-python",
   "name": "python",
   "nbconvert_exporter": "python",
   "pygments_lexer": "ipython3",
   "version": "3.11.5"
  }
 },
 "nbformat": 4,
 "nbformat_minor": 5
}
