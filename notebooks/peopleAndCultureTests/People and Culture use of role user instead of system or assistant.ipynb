{
 "cells": [
  {
   "cell_type": "markdown",
   "id": "054871c7",
   "metadata": {},
   "source": [
    "# Pruebas para demostrar por que se tiene que usar el rol de user para solicitar datos relevantes\n",
    "\n",
    "El objetivo de estas pruebas es mostrar por qué se decidió usar el rol de user para solicitar datos relevantes.\n",
    "\n",
    "Nótese que los conceptos que se usan son los siguientes:\n",
    "\n",
    "- Azure Open AI\n",
    "- Azure Search Service\n",
    "\n",
    "Importante por leer:\n",
    "\n",
    "- [Use your data AI search system message](https://learn.microsoft.com/en-us/azure/ai-services/openai/concepts/use-your-data?tabs=ai-search#system-message)\n",
    "- [System message templates](https://learn.microsoft.com/en-us/azure/ai-services/openai/concepts/system-message)\n",
    "- [Chain of thought prompting](https://learn.microsoft.com/en-us/azure/ai-services/openai/concepts/advanced-prompt-engineering?pivots=programming-language-chat-completions#chain-of-thought-prompting)\n",
    "\n",
    "Para mayor detalle del prompt final, revise TestPeopleAndCultureV1"
   ]
  },
  {
   "cell_type": "code",
   "execution_count": 1,
   "id": "3ab2594a",
   "metadata": {},
   "outputs": [],
   "source": [
    "import commons #Import commons methods and imports, please review commons.py"
   ]
  },
  {
   "cell_type": "code",
   "execution_count": 2,
   "id": "da077191",
   "metadata": {},
   "outputs": [
    {
     "name": "stdout",
     "output_type": "stream",
     "text": [
      "No variables to print\n"
     ]
    }
   ],
   "source": [
    "commons.print_required_variables(False)"
   ]
  },
  {
   "cell_type": "markdown",
   "id": "3a57fbb0",
   "metadata": {},
   "source": [
    "### Prompt original usando el rol _user_ para proporcionar reglas al modelo"
   ]
  },
  {
   "cell_type": "markdown",
   "id": "04c7ffe4",
   "metadata": {},
   "source": [
    "#### Prueba sin datos"
   ]
  },
  {
   "cell_type": "code",
   "execution_count": 3,
   "id": "95ddfc23",
   "metadata": {},
   "outputs": [
    {
     "name": "stdout",
     "output_type": "stream",
     "text": [
      "Data source role information : Eres un asistente de recursos humanos. Tu respuesta debe ser en español y debe siempre empezar por \n",
      "estimado colaborador\n",
      "messages : [\n",
      "    {\n",
      "        \"role\": \"user\",\n",
      "        \"content\": \"Sigue los siguientes pasos para responder la pregunta delimitada por 4 hashtags: ####. Paso 1 : Si no tienes los datos del colaborador, tu respuesta debe seguir el siguiente formato : Estimado Baufesiano para responder su pregunta necesito los siguientes datos listando los datos que te falten y nada mas. Paso 2 : Si tienes los datos del colaborador, usa en tu respuesta el nombre del colaborador en lugar de estimado colaborador. Paso 3 : Usa las siguientes recomendaciones para tu respuesta : Recomendacion 1 : Usa los datos del colaborador para filtrar la respuesta. Recomendacion 2 : Solo muestra los resultados que tengan que ver con el pais de la unidad y la antiguedad en Baufest. Recomendacion 3 : Si la respuesta es muy amplia, filtra la respuesta por el pais de la unidad y la antiguedad en Baufest. Recomendacion 4 : Si la pregunta no es clara, solicita mayor detalle para responder. Datos del colaborador: Nombre : . Antiguedad en Baufest : . Puesto : . Pais de la unidad : . ####\\u00bfLista los beneficios de Baufest que tengo derecho como empleado?#### \"\n",
      "    }\n",
      "]\n",
      "Estimado Baufesiano, para responder su pregunta necesito los siguientes datos: su nombre, antigüedad en Baufest, puesto y país de la unidad. Por favor proporcione esta información para poder brindarle una respuesta más precisa y personalizada. Gracias.\n"
     ]
    }
   ],
   "source": [
    "user_question=f\"\"\"\\\n",
    "¿Lista los beneficios de Baufest que tengo derecho como empleado?\"\"\"\n",
    "user_name=\"\"\n",
    "user_seniority=\"\"\n",
    "user_job=\"\"\n",
    "user_location=\"\"\n",
    "\n",
    "delimiter=\"####\"\n",
    "no_user_data_prefix=\"Estimado Baufesiano para responder su pregunta necesito los siguientes datos\"\n",
    "\n",
    "user_message = f\"\"\"\\\n",
    "Sigue los siguientes pasos para responder la pregunta delimitada por 4 hashtags: {delimiter}. \\\n",
    "Paso 1 : Si no tienes los datos del colaborador, tu respuesta debe seguir el siguiente formato : {no_user_data_prefix} \\\n",
    "listando los datos que te falten y nada mas. \\\n",
    "Paso 2 : Si tienes los datos del colaborador, usa en tu respuesta el nombre del colaborador \\\n",
    "en lugar de estimado colaborador. \\\n",
    "Paso 3 : Usa las siguientes recomendaciones para tu respuesta : \\\n",
    "Recomendacion 1 : Usa los datos del colaborador para filtrar la respuesta. \\\n",
    "Recomendacion 2 : Solo muestra los resultados que tengan que ver con el pais de la unidad y la antiguedad en Baufest. \\\n",
    "Recomendacion 3 : Si la respuesta es muy amplia, filtra la respuesta por el pais de la unidad y la antiguedad en Baufest. \\\n",
    "Recomendacion 4 : Si la pregunta no es clara, solicita mayor detalle para responder. \\\n",
    "\\\n",
    "Datos del colaborador: \\\n",
    "Nombre : {user_name}. \\\n",
    "Antiguedad en Baufest : {user_seniority}. \\\n",
    "Puesto : {user_job}. \\\n",
    "Pais de la unidad : {user_location}. \\\n",
    "\\\n",
    "{delimiter}{user_question}{delimiter} \\\n",
    "\"\"\"\n",
    "messages =  [  \n",
    "{'role':'user', \n",
    " 'content': f\"{user_message}\"},  \n",
    "] \n",
    "response = commons.get_completion_from_messages(messages)\n",
    "print(response)"
   ]
  },
  {
   "cell_type": "markdown",
   "id": "11c443e0",
   "metadata": {},
   "source": [
    "#### Prueba con datos"
   ]
  },
  {
   "cell_type": "code",
   "execution_count": 4,
   "id": "f9cd6f9b",
   "metadata": {},
   "outputs": [
    {
     "name": "stdout",
     "output_type": "stream",
     "text": [
      "Data source role information : Eres un asistente de recursos humanos. Tu respuesta debe ser en español y debe siempre empezar por \n",
      "estimado colaborador\n",
      "messages : [\n",
      "    {\n",
      "        \"role\": \"user\",\n",
      "        \"content\": \"Sigue los siguientes pasos para responder la pregunta delimitada por 4 hashtags: ####. Paso 1 : Si no tienes los datos del colaborador, tu respuesta debe seguir el siguiente formato : Estimado Baufesiano para responder su pregunta necesito los siguientes datos listando los datos que te falten y nada mas. Paso 2 : Si tienes los datos del colaborador, usa en tu respuesta el nombre del colaborador en lugar de estimado colaborador. Paso 3 : Usa las siguientes recomendaciones para tu respuesta : Recomendacion 1 : Usa los datos del colaborador para filtrar la respuesta. Recomendacion 2 : Solo muestra los resultados que tengan que ver con el pais de la unidad y la antiguedad en Baufest. Recomendacion 3 : Si la respuesta es muy amplia, filtra la respuesta por el pais de la unidad y la antiguedad en Baufest. Recomendacion 4 : Si la pregunta no es clara, solicita mayor detalle para responder. Datos del colaborador: Nombre : Santiago Vilche. Antiguedad en Baufest : 2 a\\u00f1os. Puesto : Desarrollador. Pais de la unidad : Argentina. ####\\u00bfLista los beneficios de Baufest que tengo derecho como empleado?#### \"\n",
      "    }\n",
      "]\n",
      "Estimado Santiago Vilche, como colaborador de Baufest con una antigüedad de 2 años y ubicado en Argentina, tienes derecho a varios beneficios. Algunos de ellos son:\n",
      "\n",
      "- BAU Lunch: podrás recibir acreditaciones mensuales para almuerzos a través de la App de PedidosYa o Tickets Restaurant emitidos por Edenred, dependiendo del país de la unidad.\n",
      "- BAU Health: podrás solicitar el reembolso de actividades físicas realizadas en el trimestre correspondiente, presentando un comprobante de validez legal.\n",
      "- BAU Net: podrás solicitar el reembolso de servicios de internet presentando un comprobante que haga referencia al servicio de internet.\n",
      "- BAU Dollar: podrás recibir tu salario en dólares a través de una cuenta bancaria en USA, y se sugieren algunos bancos o plataformas para abrir la cuenta.\n",
      "- Anti Tráfico: podrás optar por un rango de horario para evitar el tráfico en tu traslado al trabajo.\n",
      "\n",
      "Ten en cuenta que estos son solo algunos de los beneficios disponibles y que podrías tener acceso a otros beneficios adicionales según tu puesto y ubicación. Si necesitas más información sobre algún beneficio en particular, por favor especifica cuál para poder brindarte una respuesta más detallada.\n"
     ]
    }
   ],
   "source": [
    "user_question=f\"\"\"\\\n",
    "¿Lista los beneficios de Baufest que tengo derecho como empleado?\"\"\"\n",
    "user_name=\"Santiago Vilche\"\n",
    "user_seniority=\"2 años\"\n",
    "user_job=\"Desarrollador\"\n",
    "user_location=\"Argentina\"\n",
    "\n",
    "delimiter=\"####\"\n",
    "no_user_data_prefix=\"Estimado Baufesiano para responder su pregunta necesito los siguientes datos\"\n",
    "\n",
    "user_message = f\"\"\"\\\n",
    "Sigue los siguientes pasos para responder la pregunta delimitada por 4 hashtags: {delimiter}. \\\n",
    "Paso 1 : Si no tienes los datos del colaborador, tu respuesta debe seguir el siguiente formato : {no_user_data_prefix} \\\n",
    "listando los datos que te falten y nada mas. \\\n",
    "Paso 2 : Si tienes los datos del colaborador, usa en tu respuesta el nombre del colaborador \\\n",
    "en lugar de estimado colaborador. \\\n",
    "Paso 3 : Usa las siguientes recomendaciones para tu respuesta : \\\n",
    "Recomendacion 1 : Usa los datos del colaborador para filtrar la respuesta. \\\n",
    "Recomendacion 2 : Solo muestra los resultados que tengan que ver con el pais de la unidad y la antiguedad en Baufest. \\\n",
    "Recomendacion 3 : Si la respuesta es muy amplia, filtra la respuesta por el pais de la unidad y la antiguedad en Baufest. \\\n",
    "Recomendacion 4 : Si la pregunta no es clara, solicita mayor detalle para responder. \\\n",
    "\\\n",
    "Datos del colaborador: \\\n",
    "Nombre : {user_name}. \\\n",
    "Antiguedad en Baufest : {user_seniority}. \\\n",
    "Puesto : {user_job}. \\\n",
    "Pais de la unidad : {user_location}. \\\n",
    "\\\n",
    "{delimiter}{user_question}{delimiter} \\\n",
    "\"\"\"\n",
    "messages =  [  \n",
    "{'role':'user', \n",
    " 'content': f\"{user_message}\"},  \n",
    "] \n",
    "response = commons.get_completion_from_messages(messages)\n",
    "print(response)"
   ]
  },
  {
   "cell_type": "markdown",
   "id": "6cb7953d",
   "metadata": {},
   "source": [
    "### Prompt original usando el rol _system_ para proporcionar reglas al modelo"
   ]
  },
  {
   "cell_type": "markdown",
   "id": "f757abde",
   "metadata": {},
   "source": [
    "#### Prueba sin datos"
   ]
  },
  {
   "cell_type": "code",
   "execution_count": 5,
   "id": "4bf0bcfd",
   "metadata": {},
   "outputs": [
    {
     "name": "stdout",
     "output_type": "stream",
     "text": [
      "Data source role information : Eres un asistente de recursos humanos. Tu respuesta debe ser en español y debe siempre empezar por \n",
      "estimado colaborador\n",
      "messages : [\n",
      "    {\n",
      "        \"role\": \"system\",\n",
      "        \"content\": \"Sigue los siguientes pasos para responder la pregunta delimitada por 4 hashtags: ####. Paso 1 : Si no tienes los datos del colaborador, tu respuesta debe seguir el siguiente formato : Estimado Baufesiano para responder su pregunta necesito los siguientes datos listando los datos que te falten y nada mas. Paso 2 : Si tienes los datos del colaborador, usa en tu respuesta el nombre del colaborador en lugar de estimado colaborador. Paso 3 : Usa las siguientes recomendaciones para tu respuesta : Recomendacion 1 : Usa los datos del colaborador para filtrar la respuesta. Recomendacion 2 : Solo muestra los resultados que tengan que ver con el pais de la unidad y la antiguedad en Baufest. Recomendacion 3 : Si la respuesta es muy amplia, filtra la respuesta por el pais de la unidad y la antiguedad en Baufest. Recomendacion 4 : Si la pregunta no es clara, solicita mayor detalle para responder. Datos del colaborador: Nombre : . Antiguedad en Baufest : . Puesto : . Pais de la unidad : . \"\n",
      "    },\n",
      "    {\n",
      "        \"role\": \"user\",\n",
      "        \"content\": \"####\\u00bfLista los beneficios de Baufest que tengo derecho como empleado?####\"\n",
      "    }\n",
      "]\n",
      "Estimado colaborador, los beneficios de Baufest que tienes derecho como empleado varían según la región en la que te encuentres. A continuación, te proporciono información sobre algunos de los beneficios disponibles en la región LATAM, USA y Europa:\n",
      "\n",
      "- LATAM: \n",
      "  - BAU HEALTH: Reembolso de actividades físicas y deportivas, asistencia médica, entre otros.\n",
      "  - BAU HOME: Reembolso de alquiler, asesoramiento legal, entre otros.\n",
      "  - BAU NET: Reembolso de servicios de internet.\n",
      "  - BAU LUNCH: Acreditaciones para almuerzos.\n",
      "  - ANTI TRÁFICO: Horarios flexibles para evitar el tráfico.\n",
      "  \n",
      "- USA:\n",
      "  - BAU DOLLAR: Opción de recibir el 20% del sueldo en dólares.\n",
      "  - BAU HEALTH: Reembolso de actividades físicas y deportivas, asistencia médica, entre otros.\n",
      "  - BAU HOME: Reembolso de alquiler, asesoramiento legal, entre otros.\n",
      "  - BAU NET: Reembolso de servicios de internet.\n",
      "  \n",
      "- Europa:\n",
      "  - BAU HEALTH: Reembolso de actividades físicas y deportivas, asistencia médica, entre otros.\n",
      "  - BAU HOME: Reembolso de alquiler, asesoramiento legal, entre otros.\n",
      "  - BAU NET: Reembolso de servicios de internet.\n",
      "\n",
      "Es importante tener en cuenta que algunos beneficios pueden variar según la región y que siempre es recomendable consultar con el ejecutivo de cuenta regularmente. Para obtener más información sobre los beneficios disponibles en tu región, te sugiero que consultes los documentos recuperados. [doc1][doc2][doc3]\n"
     ]
    }
   ],
   "source": [
    "user_question=f\"\"\"\\\n",
    "¿Lista los beneficios de Baufest que tengo derecho como empleado?\"\"\"\n",
    "user_name=\"\"\n",
    "user_seniority=\"\"\n",
    "user_job=\"\"\n",
    "user_location=\"\"\n",
    "\n",
    "delimiter=\"####\"\n",
    "no_user_data_prefix=\"Estimado Baufesiano para responder su pregunta necesito los siguientes datos\"\n",
    "\n",
    "system_message = f\"\"\"\\\n",
    "Sigue los siguientes pasos para responder la pregunta delimitada por 4 hashtags: {delimiter}. \\\n",
    "Paso 1 : Si no tienes los datos del colaborador, tu respuesta debe seguir el siguiente formato : {no_user_data_prefix} \\\n",
    "listando los datos que te falten y nada mas. \\\n",
    "Paso 2 : Si tienes los datos del colaborador, usa en tu respuesta el nombre del colaborador \\\n",
    "en lugar de estimado colaborador. \\\n",
    "Paso 3 : Usa las siguientes recomendaciones para tu respuesta : \\\n",
    "Recomendacion 1 : Usa los datos del colaborador para filtrar la respuesta. \\\n",
    "Recomendacion 2 : Solo muestra los resultados que tengan que ver con el pais de la unidad y la antiguedad en Baufest. \\\n",
    "Recomendacion 3 : Si la respuesta es muy amplia, filtra la respuesta por el pais de la unidad y la antiguedad en Baufest. \\\n",
    "Recomendacion 4 : Si la pregunta no es clara, solicita mayor detalle para responder. \\\n",
    "\\\n",
    "Datos del colaborador: \\\n",
    "Nombre : {user_name}. \\\n",
    "Antiguedad en Baufest : {user_seniority}. \\\n",
    "Puesto : {user_job}. \\\n",
    "Pais de la unidad : {user_location}. \\\n",
    "\"\"\"\n",
    "messages =  [  \n",
    "{'role':'system', \n",
    " 'content': f\"{system_message}\"},  \n",
    "{'role':'user', \n",
    " 'content': f\"{delimiter}{user_question}{delimiter}\"},  \n",
    "] \n",
    "response = commons.get_completion_from_messages(messages)\n",
    "print(response)"
   ]
  },
  {
   "cell_type": "markdown",
   "id": "83373370",
   "metadata": {},
   "source": [
    "#### Prueba con datos"
   ]
  },
  {
   "cell_type": "code",
   "execution_count": 6,
   "id": "0fe99cda",
   "metadata": {},
   "outputs": [
    {
     "name": "stdout",
     "output_type": "stream",
     "text": [
      "Data source role information : Eres un asistente de recursos humanos. Tu respuesta debe ser en español y debe siempre empezar por \n",
      "estimado colaborador\n",
      "messages : [\n",
      "    {\n",
      "        \"role\": \"system\",\n",
      "        \"content\": \"Sigue los siguientes pasos para responder la pregunta delimitada por 4 hashtags: ####. Paso 1 : Si no tienes los datos del colaborador, tu respuesta debe seguir el siguiente formato : Estimado Baufesiano para responder su pregunta necesito los siguientes datos listando los datos que te falten y nada mas. Paso 2 : Si tienes los datos del colaborador, usa en tu respuesta el nombre del colaborador en lugar de estimado colaborador. Paso 3 : Usa las siguientes recomendaciones para tu respuesta : Recomendacion 1 : Usa los datos del colaborador para filtrar la respuesta. Recomendacion 2 : Solo muestra los resultados que tengan que ver con el pais de la unidad y la antiguedad en Baufest. Recomendacion 3 : Si la respuesta es muy amplia, filtra la respuesta por el pais de la unidad y la antiguedad en Baufest. Recomendacion 4 : Si la pregunta no es clara, solicita mayor detalle para responder. Datos del colaborador: Nombre : Santiago Vilche. Antiguedad en Baufest : 2 a\\u00f1os. Puesto : Desarrollador. Pais de la unidad : Argentina. \"\n",
      "    },\n",
      "    {\n",
      "        \"role\": \"user\",\n",
      "        \"content\": \"####\\u00bfLista los beneficios de Baufest que tengo derecho como empleado?####\"\n",
      "    }\n",
      "]\n",
      "Estimado colaborador, los beneficios de Baufest que tienes derecho como empleado varían según la región en la que te encuentres. A continuación, te proporciono información sobre algunos de los beneficios disponibles en la región LATAM, que incluyen BAU DOLLAR, BAU HEALTH, BAU NET, BAU LUNCH y ANTI TRÁFICO [doc1][doc2][doc3]:\n",
      "\n",
      "- BAU DOLLAR: Este beneficio te permite recibir el 20% de tu sueldo en dólares. Puedes elegir recibirlo en una cuenta bancaria de tu elección en territorio de USA. No hay retención adicional de impuestos sobre este pago. Sin embargo, debes declarar la tenencia de cuentas en el exterior en la Declaración Jurada Anual de Bienes Personales. \n",
      "\n",
      "- BAU HEALTH: Este beneficio te permite recibir un reembolso por actividades físicas y deportivas que realices. Para acceder a este beneficio, debes tener una antigüedad en Baufest de 2 años al momento de la solicitud del beneficio y presentar un comprobante de validez legal.\n",
      "\n",
      "- BAU NET: Este beneficio te permite recibir un reembolso por el servicio de Internet que contrates. Para acceder a este beneficio, debes presentar un comprobante que haga referencia al servicio de Internet y que figure el mismo domicilio que en tu Declaración de domicilio cargada en TuRecibo.\n",
      "\n",
      "- BAU LUNCH: Este beneficio te permite recibir un almuerzo gratuito. La forma de acceder a este beneficio varía según la región en la que te encuentres.\n",
      "\n",
      "- ANTI TRÁFICO: Este beneficio te permite elegir un rango horario para evitar el tráfico en la ciudad. \n",
      "\n",
      "Es importante tener en cuenta que estos beneficios pueden estar sujetos a cambios y que es recomendable consultar periódicamente los costos y requisitos. Por favor, consulta con tu ejecutivo de cuenta o revisa los documentos proporcionados para obtener información más detallada.\n"
     ]
    }
   ],
   "source": [
    "user_question=f\"\"\"\\\n",
    "¿Lista los beneficios de Baufest que tengo derecho como empleado?\"\"\"\n",
    "user_name=\"Santiago Vilche\"\n",
    "user_seniority=\"2 años\"\n",
    "user_job=\"Desarrollador\"\n",
    "user_location=\"Argentina\"\n",
    "\n",
    "delimiter=\"####\"\n",
    "no_user_data_prefix=\"Estimado Baufesiano para responder su pregunta necesito los siguientes datos\"\n",
    "\n",
    "system_message = f\"\"\"\\\n",
    "Sigue los siguientes pasos para responder la pregunta delimitada por 4 hashtags: {delimiter}. \\\n",
    "Paso 1 : Si no tienes los datos del colaborador, tu respuesta debe seguir el siguiente formato : {no_user_data_prefix} \\\n",
    "listando los datos que te falten y nada mas. \\\n",
    "Paso 2 : Si tienes los datos del colaborador, usa en tu respuesta el nombre del colaborador \\\n",
    "en lugar de estimado colaborador. \\\n",
    "Paso 3 : Usa las siguientes recomendaciones para tu respuesta : \\\n",
    "Recomendacion 1 : Usa los datos del colaborador para filtrar la respuesta. \\\n",
    "Recomendacion 2 : Solo muestra los resultados que tengan que ver con el pais de la unidad y la antiguedad en Baufest. \\\n",
    "Recomendacion 3 : Si la respuesta es muy amplia, filtra la respuesta por el pais de la unidad y la antiguedad en Baufest. \\\n",
    "Recomendacion 4 : Si la pregunta no es clara, solicita mayor detalle para responder. \\\n",
    "\\\n",
    "Datos del colaborador: \\\n",
    "Nombre : {user_name}. \\\n",
    "Antiguedad en Baufest : {user_seniority}. \\\n",
    "Puesto : {user_job}. \\\n",
    "Pais de la unidad : {user_location}. \\\n",
    "\"\"\"\n",
    "messages =  [  \n",
    "{'role':'system', \n",
    " 'content': f\"{system_message}\"},  \n",
    "{'role':'user', \n",
    " 'content': f\"{delimiter}{user_question}{delimiter}\"},  \n",
    "] \n",
    "response = commons.get_completion_from_messages(messages)\n",
    "print(response)"
   ]
  },
  {
   "cell_type": "markdown",
   "id": "21a9fcee",
   "metadata": {},
   "source": [
    "Como se puede ver en los resultados el __rol system__ no tiene impacto alguno en la respuesta"
   ]
  },
  {
   "cell_type": "markdown",
   "id": "30d6d90c",
   "metadata": {},
   "source": [
    "### Prompt original usando el rol _assistant_ para proporcionar reglas al modelo"
   ]
  },
  {
   "cell_type": "markdown",
   "id": "18cb7013",
   "metadata": {},
   "source": [
    "#### Prueba sin datos"
   ]
  },
  {
   "cell_type": "code",
   "execution_count": 7,
   "id": "8cd665e4",
   "metadata": {},
   "outputs": [
    {
     "name": "stdout",
     "output_type": "stream",
     "text": [
      "Data source role information : Eres un asistente de recursos humanos. Tu respuesta debe ser en español y debe siempre empezar por \n",
      "estimado colaborador\n",
      "messages : [\n",
      "    {\n",
      "        \"role\": \"assistant\",\n",
      "        \"content\": \"Sigue los siguientes pasos para responder la pregunta del usuario delimitada por 4 hashtags: ####. Paso 1 : Si no tienes los datos del colaborador, tu respuesta debe seguir el siguiente formato : Estimado Baufesiano para responder su pregunta necesito los siguientes datos listando los datos que te falten y nada mas. Paso 2 : Si tienes los datos del colaborador, usa en tu respuesta el nombre del colaborador en lugar de estimado colaborador. Paso 3 : Usa las siguientes recomendaciones para tu respuesta : Recomendacion 1 : Usa los datos del colaborador para filtrar la respuesta. Recomendacion 2 : Solo muestra los resultados que tengan que ver con el pais de la unidad y la antiguedad en Baufest. Recomendacion 3 : Si la respuesta es muy amplia, filtra la respuesta por el pais de la unidad y la antiguedad en Baufest. Recomendacion 4 : Si la pregunta no es clara, solicita mayor detalle para responder. Datos del colaborador: Nombre : . Antiguedad en Baufest : . Puesto : . Pais de la unidad : . \"\n",
      "    },\n",
      "    {\n",
      "        \"role\": \"user\",\n",
      "        \"content\": \"####\\u00bfLista los beneficios de Baufest que tengo derecho como empleado?####\"\n",
      "    }\n",
      "]\n",
      "Estimado colaborador, los beneficios de Baufest que tienes derecho como empleado varían según la región en la que te encuentres. A continuación, te proporciono información sobre algunos de los beneficios disponibles en la región LATAM, que incluyen BAU DOLLAR, BAU HEALTH, BAU NET y BAU LUNCH:\n",
      "\n",
      "- BAU DOLLAR: Este beneficio te permite recibir hasta el 20% de tu salario en dólares estadounidenses. Puedes elegir recibir este pago en una cuenta bancaria de tu elección en los Estados Unidos o en una cuenta bancaria en Argentina. También puedes optar por recibir el pago en efectivo en una sucursal de Western Union en Argentina. Ten en cuenta que este beneficio no afecta la retención de impuestos a las ganancias de cuarta categoría y que debes completar el formulario W8 si eres residente fuera de los Estados Unidos.\n",
      "\n",
      "- BAU HEALTH: Este beneficio te permite recibir un reembolso por los gastos de actividades físicas y deportivas, como gimnasios, clases de yoga y natación, entre otros. Para acceder a este beneficio, debes tener una antigüedad de al menos dos años en Baufest y presentar un comprobante de validez legal que respalde la actividad física realizada.\n",
      "\n",
      "- BAU NET: Este beneficio te permite recibir un reembolso por los gastos de Internet en tu hogar. Para acceder a este beneficio, debes presentar un comprobante de validez legal que respalde el servicio de Internet y que figure el mismo domicilio que en tu Declaración de domicilio cargada en TuRecibo.\n",
      "\n",
      "- BAU LUNCH: Este beneficio te permite recibir un cupón para almuerzos en restaurantes seleccionados. El valor del cupón varía según la región en la que te encuentres y la periodicidad de las acreditaciones también varía según la región.\n",
      "\n",
      "Ten en cuenta que esta información puede variar según la región en la que te encuentres y que siempre es recomendable consultar con el ejecutivo de cuenta regularmente. Para obtener más información sobre los beneficios disponibles en tu región, te recomiendo que consultes los documentos [doc1], [doc2], [doc3] y [doc4]. \n",
      "\n",
      "Recuerda que siempre debes cargar la información de tus cuentas bancarias y otros datos relevantes a través de TuRecibo. Si tienes alguna otra pregunta, no dudes en preguntar.\n"
     ]
    }
   ],
   "source": [
    "user_question=f\"\"\"\\\n",
    "¿Lista los beneficios de Baufest que tengo derecho como empleado?\"\"\"\n",
    "user_name=\"\"\n",
    "user_seniority=\"\"\n",
    "user_job=\"\"\n",
    "user_location=\"\"\n",
    "\n",
    "delimiter=\"####\"\n",
    "no_user_data_prefix=\"Estimado Baufesiano para responder su pregunta necesito los siguientes datos\"\n",
    "\n",
    "assistant_message = f\"\"\"\\\n",
    "Sigue los siguientes pasos para responder la pregunta del usuario delimitada por 4 hashtags: {delimiter}. \\\n",
    "Paso 1 : Si no tienes los datos del colaborador, tu respuesta debe seguir el siguiente formato : {no_user_data_prefix} \\\n",
    "listando los datos que te falten y nada mas. \\\n",
    "Paso 2 : Si tienes los datos del colaborador, usa en tu respuesta el nombre del colaborador \\\n",
    "en lugar de estimado colaborador. \\\n",
    "Paso 3 : Usa las siguientes recomendaciones para tu respuesta : \\\n",
    "Recomendacion 1 : Usa los datos del colaborador para filtrar la respuesta. \\\n",
    "Recomendacion 2 : Solo muestra los resultados que tengan que ver con el pais de la unidad y la antiguedad en Baufest. \\\n",
    "Recomendacion 3 : Si la respuesta es muy amplia, filtra la respuesta por el pais de la unidad y la antiguedad en Baufest. \\\n",
    "Recomendacion 4 : Si la pregunta no es clara, solicita mayor detalle para responder. \\\n",
    "\\\n",
    "Datos del colaborador: \\\n",
    "Nombre : {user_name}. \\\n",
    "Antiguedad en Baufest : {user_seniority}. \\\n",
    "Puesto : {user_job}. \\\n",
    "Pais de la unidad : {user_location}. \\\n",
    "\"\"\"\n",
    "messages =  [  \n",
    "{'role':'assistant', \n",
    " 'content': f\"{assistant_message}\"},  \n",
    "{'role':'user', \n",
    " 'content': f\"{delimiter}{user_question}{delimiter}\"},  \n",
    "] \n",
    "response = commons.get_completion_from_messages(messages)\n",
    "print(response)"
   ]
  },
  {
   "cell_type": "markdown",
   "id": "41ab5092",
   "metadata": {},
   "source": [
    "#### Prueba con datos"
   ]
  },
  {
   "cell_type": "code",
   "execution_count": 8,
   "id": "d3906712",
   "metadata": {},
   "outputs": [
    {
     "name": "stdout",
     "output_type": "stream",
     "text": [
      "Data source role information : Eres un asistente de recursos humanos. Tu respuesta debe ser en español y debe siempre empezar por \n",
      "estimado colaborador\n",
      "messages : [\n",
      "    {\n",
      "        \"role\": \"assistant\",\n",
      "        \"content\": \"Sigue los siguientes pasos para responder la pregunta delimitada por 4 hashtags: ####. Paso 1 : Si no tienes los datos del colaborador, tu respuesta debe seguir el siguiente formato : Estimado Baufesiano para responder su pregunta necesito los siguientes datos listando los datos que te falten y nada mas. Paso 2 : Si tienes los datos del colaborador, usa en tu respuesta el nombre del colaborador en lugar de estimado colaborador. Paso 3 : Usa las siguientes recomendaciones para tu respuesta : Recomendacion 1 : Usa los datos del colaborador para filtrar la respuesta. Recomendacion 2 : Solo muestra los resultados que tengan que ver con el pais de la unidad y la antiguedad en Baufest. Recomendacion 3 : Si la respuesta es muy amplia, filtra la respuesta por el pais de la unidad y la antiguedad en Baufest. Recomendacion 4 : Si la pregunta no es clara, solicita mayor detalle para responder. Datos del colaborador: Nombre : Santiago Vilche. Antiguedad en Baufest : 2 a\\u00f1os. Puesto : Desarrollador. Pais de la unidad : Argentina. \"\n",
      "    },\n",
      "    {\n",
      "        \"role\": \"user\",\n",
      "        \"content\": \"####\\u00bfLista los beneficios de Baufest que tengo derecho como empleado?####\"\n",
      "    }\n",
      "]\n",
      "Estimado colaborador, los beneficios de Baufest que tienes derecho como empleado varían según la región en la que te encuentres. A continuación, te proporciono información sobre algunos de los beneficios disponibles en la región LATAM, que incluyen BAU DOLLAR, BAU HEALTH, BAU NET y BAU LUNCH:\n",
      "\n",
      "- BAU DOLLAR: Este beneficio te permite recibir hasta el 20% de tu salario en dólares estadounidenses. Puedes elegir recibir este pago en una cuenta bancaria de tu elección en los Estados Unidos o en una cuenta bancaria en Argentina. También puedes optar por recibir el pago en efectivo en una sucursal de Western Union en Argentina. Ten en cuenta que este beneficio no afecta la retención de impuestos a las ganancias de cuarta categoría y que debes completar el formulario W8 si eres residente fuera de los Estados Unidos.\n",
      "\n",
      "- BAU HEALTH: Este beneficio te permite recibir un reembolso por los gastos de actividades físicas y deportivas, como gimnasios, clases de yoga y natación, entre otros. Para acceder a este beneficio, debes tener una antigüedad de al menos dos años en Baufest y presentar un comprobante de validez legal que respalde la actividad física realizada.\n",
      "\n",
      "- BAU NET: Este beneficio te permite recibir un reembolso por los gastos de Internet en tu hogar. Para acceder a este beneficio, debes presentar un comprobante de validez legal que respalde el servicio de Internet y que figure el mismo domicilio que en tu Declaración de domicilio cargada en TuRecibo.\n",
      "\n",
      "- BAU LUNCH: Este beneficio te permite recibir un cupón para almuerzos en restaurantes seleccionados. El valor del cupón varía según la región en la que te encuentres y la periodicidad de las acreditaciones también varía según la región.\n",
      "\n",
      "Ten en cuenta que esta información puede variar según la región en la que te encuentres y que siempre es recomendable consultar con el ejecutivo de cuenta regularmente. Para obtener más información sobre los beneficios disponibles en tu región, te recomiendo que consultes los documentos recuperados. [doc1][doc2][doc3]\n"
     ]
    }
   ],
   "source": [
    "user_question=f\"\"\"\\\n",
    "¿Lista los beneficios de Baufest que tengo derecho como empleado?\"\"\"\n",
    "user_name=\"Santiago Vilche\"\n",
    "user_seniority=\"2 años\"\n",
    "user_job=\"Desarrollador\"\n",
    "user_location=\"Argentina\"\n",
    "\n",
    "delimiter=\"####\"\n",
    "no_user_data_prefix=\"Estimado Baufesiano para responder su pregunta necesito los siguientes datos\"\n",
    "\n",
    "assistant_message = f\"\"\"\\\n",
    "Sigue los siguientes pasos para responder la pregunta delimitada por 4 hashtags: {delimiter}. \\\n",
    "Paso 1 : Si no tienes los datos del colaborador, tu respuesta debe seguir el siguiente formato : {no_user_data_prefix} \\\n",
    "listando los datos que te falten y nada mas. \\\n",
    "Paso 2 : Si tienes los datos del colaborador, usa en tu respuesta el nombre del colaborador \\\n",
    "en lugar de estimado colaborador. \\\n",
    "Paso 3 : Usa las siguientes recomendaciones para tu respuesta : \\\n",
    "Recomendacion 1 : Usa los datos del colaborador para filtrar la respuesta. \\\n",
    "Recomendacion 2 : Solo muestra los resultados que tengan que ver con el pais de la unidad y la antiguedad en Baufest. \\\n",
    "Recomendacion 3 : Si la respuesta es muy amplia, filtra la respuesta por el pais de la unidad y la antiguedad en Baufest. \\\n",
    "Recomendacion 4 : Si la pregunta no es clara, solicita mayor detalle para responder. \\\n",
    "\\\n",
    "Datos del colaborador: \\\n",
    "Nombre : {user_name}. \\\n",
    "Antiguedad en Baufest : {user_seniority}. \\\n",
    "Puesto : {user_job}. \\\n",
    "Pais de la unidad : {user_location}. \\\n",
    "\"\"\"\n",
    "messages =  [  \n",
    "{'role':'assistant', \n",
    " 'content': f\"{assistant_message}\"},  \n",
    "{'role':'user', \n",
    " 'content': f\"{delimiter}{user_question}{delimiter}\"},  \n",
    "] \n",
    "response = commons.get_completion_from_messages(messages)\n",
    "print(response)"
   ]
  },
  {
   "cell_type": "code",
   "execution_count": null,
   "id": "0e628af6",
   "metadata": {},
   "outputs": [],
   "source": []
  }
 ],
 "metadata": {
  "kernelspec": {
   "display_name": "Python 3 (ipykernel)",
   "language": "python",
   "name": "python3"
  },
  "language_info": {
   "codemirror_mode": {
    "name": "ipython",
    "version": 3
   },
   "file_extension": ".py",
   "mimetype": "text/x-python",
   "name": "python",
   "nbconvert_exporter": "python",
   "pygments_lexer": "ipython3",
   "version": "3.11.5"
  }
 },
 "nbformat": 4,
 "nbformat_minor": 5
}
