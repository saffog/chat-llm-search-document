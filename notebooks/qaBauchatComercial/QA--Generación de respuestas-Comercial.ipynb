{
 "cells": [
  {
   "cell_type": "markdown",
   "id": "882759cf",
   "metadata": {},
   "source": [
    "# Proceso de QA\n",
    "\n",
    "## Primera parte: Generación de respuestas\n",
    "\n",
    "### Se usarán diversos índices de comercial: \n",
    "\n",
    "- sales-copilot-v1\n",
    "- comercial-txt-1\n",
    "- comercial-txt-2\n",
    "- comercial-pdf-1\n",
    "\n",
    "```\n",
    "$Env:AZURE_SEARCH_TOP_K = '5'\n",
    "$Env:AZURE_SEARCH_STRICTNESS = '5'\n",
    "$Env:AZURE_OPENAI_SYSTEM_MESSAGE = 'Eres un asistente que ayuda a encontrar industrias, clientes y proyectos en el área comercial de Baufest'\n",
    "```\n"
   ]
  },
  {
   "cell_type": "markdown",
   "id": "4a78bf57",
   "metadata": {},
   "source": [
    "__Requisitos:__ Importamos las siguientes librerías"
   ]
  },
  {
   "cell_type": "code",
   "execution_count": 1,
   "id": "a5af7632",
   "metadata": {},
   "outputs": [],
   "source": [
    "import sys\n",
    "sys.path.append('../lib')\n",
    "\n",
    "import qagenextutils"
   ]
  },
  {
   "cell_type": "markdown",
   "id": "146caccf",
   "metadata": {},
   "source": [
    "__Paso 1:__ Revisamos las variables de ambiente:"
   ]
  },
  {
   "cell_type": "code",
   "execution_count": 10,
   "id": "3b672470",
   "metadata": {},
   "outputs": [
    {
     "name": "stdout",
     "output_type": "stream",
     "text": [
      "AZURE_SEARCH_SERVICE: gptkb-moww6huavlklg\n",
      "AZURE_SEARCH_INDEX: sales-copilot-v1\n",
      "AZURE_SEARCH_KEY: QqNRt5LDccm2evQgIViI3EYGJTmePwDPFkyqu1kQz8AzSeDK1oYt\n",
      "AZURE_SEARCH_USE_SEMANTIC_SEARCH: True\n",
      "AZURE_SEARCH_SEMANTIC_SEARCH_CONFIG: default\n",
      "AZURE_SEARCH_TOP_K: 5\n",
      "AZURE_SEARCH_ENABLE_IN_DOMAIN: True\n",
      "AZURE_SEARCH_CONTENT_COLUMNS: content\n",
      "AZURE_SEARCH_FILENAME_COLUMN: filepath\n",
      "AZURE_SEARCH_TITLE_COLUMN: title\n",
      "AZURE_SEARCH_URL_COLUMN: url\n",
      "AZURE_SEARCH_VECTOR_COLUMNS: None\n",
      "AZURE_SEARCH_QUERY_TYPE: semantic\n",
      "AZURE_SEARCH_PERMITTED_GROUPS_COLUMN: None\n",
      "AZURE_SEARCH_STRICTNESS: 5\n",
      "AZURE_OPENAI_RESOURCE: cog-moww6huavlklg\n",
      "AZURE_OPENAI_KEY: 67062ab6dcde4f9ab8243f04601e6e88\n",
      "AZURE_OPENAI_MODEL: chat\n",
      "AZURE_OPENAI_SYSTEM_MESSAGE: Eres un asistente que ayuda a encontrar industrias, clientes y proyectos en el área comercial de Baufest\n",
      "AZURE_OPENAI_TEMPERATURE: 0\n",
      "AZURE_OPENAI_TOP_P: 1\n",
      "AZURE_OPENAI_MAX_TOKENS: 1024\n",
      "BAUCHAT_MAX_RETRIES: 10\n",
      "BAUCHAT_DEBUG: \n",
      "BAUCHAT_DEBUG: \n",
      "BAUCHAT_TEMPLATE_USER_MESSAGE: Eres un asistente que ayuda a encontrar industrias, clientes y proyectos del área comercial de Baufest.\n",
      "La pregunta del usuario está delimitada por ###Question###.\n",
      "Ten en cuenta para responder la pregunta el siguiente contexto: el área comercial entiende como casos de éxito \n",
      "los proyectos de diversos clientes en cada una de las distintas industrias. Dichos proyectos pueden ser desarrollo de herramientas \n",
      "de software, productos de software, consultoría de software y en general servicios de tecnologías de la información.\n",
      "Si no se entiende la pregunta del usuario usa el contexto para formular o una posible respuesta o un preguntar por más detalle. \n",
      "Incluye en tu respuesta las citas a las fuentes de los documentos o la cita web si la fuente es de internet.\n",
      "Tu respuesta debe ser en Español.\n",
      "###Question###\n",
      "{user_question}\n",
      "###Question###\n"
     ]
    }
   ],
   "source": [
    "qagenextutils.print_required_variables(debug=True)"
   ]
  },
  {
   "cell_type": "markdown",
   "id": "58a12e41",
   "metadata": {},
   "source": [
    "__Paso 2:__ Definimos el prompt que usaremos para nuestras pruebas, si este va ser distinto al que usa por defecto en la variable _BAUCHAT_TEMPLATE_USER_MESSAGE_"
   ]
  },
  {
   "cell_type": "markdown",
   "id": "d815f185",
   "metadata": {},
   "source": [
    "Usaremos una pregunta simple sin mayor detalle"
   ]
  },
  {
   "cell_type": "code",
   "execution_count": 3,
   "id": "60629732",
   "metadata": {},
   "outputs": [
    {
     "name": "stdout",
     "output_type": "stream",
     "text": [
      "{user_question}\n"
     ]
    }
   ],
   "source": [
    "# Sobrescribimos el template\n",
    "qagenextutils.BAUCHAT_TEMPLATE_USER_MESSAGE = \"\"\"{user_question}\"\"\"\n",
    "print(qagenextutils.BAUCHAT_TEMPLATE_USER_MESSAGE)"
   ]
  },
  {
   "cell_type": "markdown",
   "id": "b3d9db0f",
   "metadata": {},
   "source": [
    "### Importante: Recordar siempre incluir en el template el placeholder {user_question} de lo contrario no se inyectará la pregunta para que el modelo responda"
   ]
  },
  {
   "cell_type": "markdown",
   "id": "8e331f2d",
   "metadata": {},
   "source": [
    "__Paso 3:__ Procedemos a generar las respuestas, identificando el archivo con las preguntas, para ejemplo de este proceso usaremos: codigo_etica_v0.json"
   ]
  },
  {
   "cell_type": "code",
   "execution_count": 4,
   "id": "22b7fa1c",
   "metadata": {},
   "outputs": [],
   "source": [
    "# Nótese que el nombre del archivo no incluye la extensión.\n",
    "original_filename_to_generate = \"comercial_todas_v0.json\"\n",
    "filename_generated = qagenextutils.generate_robot_responses_with_chat_completion(original_filename_to_generate,\n",
    "                                                            completion_json_field=\"simple_sales_copilot_v1\",\n",
    "                                                            filename_result=\"comercial_todas_v1.json\")"
   ]
  },
  {
   "cell_type": "markdown",
   "id": "c083cea2",
   "metadata": {},
   "source": [
    "__Paso 3.n:__ Podemos probar otros prompts e ir agregando a nuestro resultado final."
   ]
  },
  {
   "cell_type": "code",
   "execution_count": 6,
   "id": "671c0c9b",
   "metadata": {},
   "outputs": [
    {
     "name": "stdout",
     "output_type": "stream",
     "text": [
      "You are an assistant who helps find industries, \n",
      "clients and projects in the Baufest business area. The user's question is delimited by ###Question###.\n",
      "To answer the question, keep in mind the following context: the commercial area understands success stories as \n",
      "the projects of various clients in each of the different industries. These projects can be tool development software, \n",
      "software products, software consulting and in general information technology services. If you do not understand \n",
      "the user's question, use the context to formulate either a possible answer or ask for more detail.\n",
      "Include in your answer the citations to the sources of the documents or the web citation if the source is from the Internet.\n",
      "Your answer must be in Spanish.\n",
      "###Question###\n",
      "{user_question}\n",
      "###Question###\n"
     ]
    }
   ],
   "source": [
    "qagenextutils.BAUCHAT_TEMPLATE_USER_MESSAGE = \"\"\"You are an assistant who helps find industries, \n",
    "clients and projects in the Baufest business area. The user's question is delimited by ###Question###.\n",
    "To answer the question, keep in mind the following context: the commercial area understands success stories as \n",
    "the projects of various clients in each of the different industries. These projects can be tool development software, \n",
    "software products, software consulting and in general information technology services. If you do not understand \n",
    "the user's question, use the context to formulate either a possible answer or ask for more detail.\n",
    "Include in your answer the citations to the sources of the documents or the web citation if the source is from the Internet.\n",
    "Your answer must be in Spanish.\n",
    "###Question###\n",
    "{user_question}\n",
    "###Question###\"\"\"\n",
    "\n",
    "print(qagenextutils.BAUCHAT_TEMPLATE_USER_MESSAGE)\n"
   ]
  },
  {
   "cell_type": "code",
   "execution_count": 8,
   "id": "58f5e6aa",
   "metadata": {},
   "outputs": [],
   "source": [
    "filename_generated = qagenextutils.generate_robot_responses_with_chat_completion(filename_generated,\n",
    "                                                            completion_json_field=\"bauchat_english_sales_copilot_v1\",\n",
    "                                                            filename_result=\"comercial_todas_v2.json\")"
   ]
  },
  {
   "cell_type": "code",
   "execution_count": 9,
   "id": "fd5013bb",
   "metadata": {},
   "outputs": [
    {
     "name": "stdout",
     "output_type": "stream",
     "text": [
      "Eres un asistente que ayuda a encontrar industrias, clientes y proyectos del área comercial de Baufest.\n",
      "La pregunta del usuario está delimitada por ###Question###.\n",
      "Ten en cuenta para responder la pregunta el siguiente contexto: el área comercial entiende como casos de éxito \n",
      "los proyectos de diversos clientes en cada una de las distintas industrias. Dichos proyectos pueden ser desarrollo de herramientas \n",
      "de software, productos de software, consultoría de software y en general servicios de tecnologías de la información.\n",
      "Si no se entiende la pregunta del usuario usa el contexto para formular o una posible respuesta o un preguntar por más detalle. \n",
      "Incluye en tu respuesta las citas a las fuentes de los documentos o la cita web si la fuente es de internet.\n",
      "Tu respuesta debe ser en Español.\n",
      "###Question###\n",
      "{user_question}\n",
      "###Question###\n"
     ]
    }
   ],
   "source": [
    "qagenextutils.BAUCHAT_TEMPLATE_USER_MESSAGE = \"\"\"Eres un asistente que ayuda a encontrar industrias, clientes y proyectos del área comercial de Baufest.\n",
    "La pregunta del usuario está delimitada por ###Question###.\n",
    "Ten en cuenta para responder la pregunta el siguiente contexto: el área comercial entiende como casos de éxito \n",
    "los proyectos de diversos clientes en cada una de las distintas industrias. Dichos proyectos pueden ser desarrollo de herramientas \n",
    "de software, productos de software, consultoría de software y en general servicios de tecnologías de la información.\n",
    "Si no se entiende la pregunta del usuario usa el contexto para formular o una posible respuesta o un preguntar por más detalle. \n",
    "Incluye en tu respuesta las citas a las fuentes de los documentos o la cita web si la fuente es de internet.\n",
    "Tu respuesta debe ser en Español.\n",
    "###Question###\n",
    "{user_question}\n",
    "###Question###\"\"\"\n",
    "\n",
    "print(qagenextutils.BAUCHAT_TEMPLATE_USER_MESSAGE)\n"
   ]
  },
  {
   "cell_type": "code",
   "execution_count": 11,
   "id": "ed716b86",
   "metadata": {},
   "outputs": [],
   "source": [
    "filename_generated = qagenextutils.generate_robot_responses_with_chat_completion(filename_generated,\n",
    "                                                            completion_json_field=\"bauchat_spanish_sales_copilot_v1\",\n",
    "                                                            filename_result=\"comercial_todas_v3.json\")"
   ]
  },
  {
   "cell_type": "code",
   "execution_count": 12,
   "id": "2909c271",
   "metadata": {},
   "outputs": [],
   "source": [
    "qagenextutils.BAUCHAT_TEMPLATE_USER_MESSAGE = \"\"\"{user_question}\"\"\"\n",
    "qagenextutils.set_AZURE_SEARCH_INDEX('comercial-txt-1')\n",
    "filename_generated = qagenextutils.generate_robot_responses_with_chat_completion(filename_generated,\n",
    "                                                            completion_json_field=\"simple_comercial_txt_1\",\n",
    "                                                            filename_result=\"comercial_todas_v4.json\")"
   ]
  },
  {
   "cell_type": "code",
   "execution_count": 13,
   "id": "42aca664",
   "metadata": {},
   "outputs": [],
   "source": [
    "qagenextutils.set_AZURE_SEARCH_INDEX('comercial-txt-2')\n",
    "filename_generated = qagenextutils.generate_robot_responses_with_chat_completion(filename_generated,\n",
    "                                                            completion_json_field=\"simple_comercial_txt_2\",\n",
    "                                                            filename_result=\"comercial_todas_v4.json\")"
   ]
  },
  {
   "cell_type": "code",
   "execution_count": 14,
   "id": "7d9b3bc2",
   "metadata": {},
   "outputs": [],
   "source": [
    "qagenextutils.set_AZURE_SEARCH_INDEX('comercial-pdf-1')\n",
    "filename_generated = qagenextutils.generate_robot_responses_with_chat_completion(filename_generated,\n",
    "                                                            completion_json_field=\"simple_comercial_pdf_1\",\n",
    "                                                            filename_result=\"comercial_todas_v4.json\")"
   ]
  },
  {
   "cell_type": "code",
   "execution_count": 15,
   "id": "81f81016",
   "metadata": {},
   "outputs": [],
   "source": [
    "qagenextutils.BAUCHAT_TEMPLATE_USER_MESSAGE = \"\"\"You are an assistant who helps find industries, \n",
    "clients and projects in the Baufest business area. The user's question is delimited by ###Question###.\n",
    "To answer the question, keep in mind the following context: the commercial area understands success stories as \n",
    "the projects of various clients in each of the different industries. These projects can be tool development software, \n",
    "software products, software consulting and in general information technology services. If you do not understand \n",
    "the user's question, use the context to formulate either a possible answer or ask for more detail.\n",
    "Include in your answer the citations to the sources of the documents or the web citation if the source is from the Internet.\n",
    "Your answer must be in Spanish.\n",
    "###Question###\n",
    "{user_question}\n",
    "###Question###\"\"\"\n",
    "qagenextutils.set_AZURE_SEARCH_INDEX('comercial-txt-1')\n",
    "filename_generated = qagenextutils.generate_robot_responses_with_chat_completion(filename_generated,\n",
    "                                                            completion_json_field=\"bauchat_english_comercial_txt_1\",\n",
    "                                                            filename_result=\"comercial_todas_v4.json\")"
   ]
  },
  {
   "cell_type": "code",
   "execution_count": 16,
   "id": "f8a3b94f",
   "metadata": {},
   "outputs": [],
   "source": [
    "qagenextutils.set_AZURE_SEARCH_INDEX('comercial-txt-2')\n",
    "filename_generated = qagenextutils.generate_robot_responses_with_chat_completion(filename_generated,\n",
    "                                                            completion_json_field=\"bauchat_english_comercial_txt_2\",\n",
    "                                                            filename_result=\"comercial_todas_v4.json\")"
   ]
  },
  {
   "cell_type": "code",
   "execution_count": 17,
   "id": "36e1545c",
   "metadata": {},
   "outputs": [],
   "source": [
    "qagenextutils.set_AZURE_SEARCH_INDEX('comercial-pdf-1')\n",
    "filename_generated = qagenextutils.generate_robot_responses_with_chat_completion(filename_generated,\n",
    "                                                            completion_json_field=\"bauchat_english_comercial_pdf_1\",\n",
    "                                                            filename_result=\"comercial_todas_v4.json\")"
   ]
  },
  {
   "cell_type": "code",
   "execution_count": 18,
   "id": "0a61d92d",
   "metadata": {},
   "outputs": [],
   "source": [
    "qagenextutils.BAUCHAT_TEMPLATE_USER_MESSAGE = \"\"\"Eres un asistente que ayuda a encontrar industrias, clientes y proyectos del área comercial de Baufest.\n",
    "La pregunta del usuario está delimitada por ###Question###.\n",
    "Ten en cuenta para responder la pregunta el siguiente contexto: el área comercial entiende como casos de éxito \n",
    "los proyectos de diversos clientes en cada una de las distintas industrias. Dichos proyectos pueden ser desarrollo de herramientas \n",
    "de software, productos de software, consultoría de software y en general servicios de tecnologías de la información.\n",
    "Si no se entiende la pregunta del usuario usa el contexto para formular o una posible respuesta o un preguntar por más detalle. \n",
    "Incluye en tu respuesta las citas a las fuentes de los documentos o la cita web si la fuente es de internet.\n",
    "Tu respuesta debe ser en Español.\n",
    "###Question###\n",
    "{user_question}\n",
    "###Question###\"\"\"\n",
    "qagenextutils.set_AZURE_SEARCH_INDEX('comercial-txt-1')\n",
    "filename_generated = qagenextutils.generate_robot_responses_with_chat_completion(filename_generated,\n",
    "                                                            completion_json_field=\"bauchat_spanish_comercial_txt_1\",\n",
    "                                                            filename_result=\"comercial_todas_v4.json\")"
   ]
  },
  {
   "cell_type": "code",
   "execution_count": 19,
   "id": "6c12f7d6",
   "metadata": {},
   "outputs": [],
   "source": [
    "qagenextutils.set_AZURE_SEARCH_INDEX('comercial-txt-2')\n",
    "filename_generated = qagenextutils.generate_robot_responses_with_chat_completion(filename_generated,\n",
    "                                                            completion_json_field=\"bauchat_spanish_comercial_txt_2\",\n",
    "                                                            filename_result=\"comercial_todas_v4.json\")"
   ]
  },
  {
   "cell_type": "code",
   "execution_count": 20,
   "id": "2ad171bc",
   "metadata": {},
   "outputs": [],
   "source": [
    "qagenextutils.set_AZURE_SEARCH_INDEX('comercial-pdf-1')\n",
    "filename_generated = qagenextutils.generate_robot_responses_with_chat_completion(filename_generated,\n",
    "                                                            completion_json_field=\"bauchat_spanish_comercial_pdf_1\",\n",
    "                                                            filename_result=\"comercial_todas_v4.json\")"
   ]
  },
  {
   "cell_type": "code",
   "execution_count": null,
   "id": "5d3141e9",
   "metadata": {},
   "outputs": [],
   "source": []
  }
 ],
 "metadata": {
  "kernelspec": {
   "display_name": "Python 3 (ipykernel)",
   "language": "python",
   "name": "python3"
  },
  "language_info": {
   "codemirror_mode": {
    "name": "ipython",
    "version": 3
   },
   "file_extension": ".py",
   "mimetype": "text/x-python",
   "name": "python",
   "nbconvert_exporter": "python",
   "pygments_lexer": "ipython3",
   "version": "3.11.5"
  }
 },
 "nbformat": 4,
 "nbformat_minor": 5
}
