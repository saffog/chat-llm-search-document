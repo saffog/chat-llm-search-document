{
 "cells": [
  {
   "cell_type": "markdown",
   "id": "882759cf",
   "metadata": {},
   "source": [
    "# Proceso de QA\n",
    "\n",
    "## Primera parte: Generación de respuestas\n",
    "\n",
    "### Se usará el índice de ética: baufest-etica-2\n",
    "\n",
    "```\n",
    "$Env:AZURE_SEARCH_INDEX = 'baufest-etica-2'\n",
    "$Env:AZURE_SEARCH_TOP_K = '5'\n",
    "$Env:AZURE_SEARCH_STRICTNESS = '5'\n",
    "$Env:AZURE_OPENAI_SYSTEM_MESSAGE = 'Eres un asistente que resuelves dudas de ética a los empleados de Baufest buscando dicha información en los documentos de ética. Tu respuesta debe ser siempre en español.'\n",
    "```\n"
   ]
  },
  {
   "cell_type": "markdown",
   "id": "4a78bf57",
   "metadata": {},
   "source": [
    "__Requisitos:__ Importamos las siguientes librerías"
   ]
  },
  {
   "cell_type": "code",
   "execution_count": 2,
   "id": "a5af7632",
   "metadata": {},
   "outputs": [],
   "source": [
    "import sys\n",
    "sys.path.append('../lib')\n",
    "\n",
    "import qagenextutils"
   ]
  },
  {
   "cell_type": "markdown",
   "id": "146caccf",
   "metadata": {},
   "source": [
    "__Paso 1:__ Revisamos las variables de ambiente:"
   ]
  },
  {
   "cell_type": "code",
   "execution_count": 5,
   "id": "3b672470",
   "metadata": {},
   "outputs": [
    {
     "name": "stdout",
     "output_type": "stream",
     "text": [
      "No variables to print\n",
      "Nothing to print\n"
     ]
    }
   ],
   "source": [
    "qagenextutils.print_required_variables(debug=False)"
   ]
  },
  {
   "cell_type": "markdown",
   "id": "58a12e41",
   "metadata": {},
   "source": [
    "__Paso 2:__ Definimos el prompt que usaremos para nuestras pruebas, si este va ser distinto al que usa por defecto en la variable _BAUCHAT_TEMPLATE_USER_MESSAGE_"
   ]
  },
  {
   "cell_type": "markdown",
   "id": "d815f185",
   "metadata": {},
   "source": [
    "Usaremos una pregunta simple sin mayor detalle"
   ]
  },
  {
   "cell_type": "code",
   "execution_count": 3,
   "id": "60629732",
   "metadata": {},
   "outputs": [
    {
     "name": "stdout",
     "output_type": "stream",
     "text": [
      "{user_question}\n"
     ]
    }
   ],
   "source": [
    "# Sobrescribimos el template\n",
    "qagenextutils.BAUCHAT_TEMPLATE_USER_MESSAGE = \"\"\"{user_question}\"\"\"\n",
    "print(qagenextutils.BAUCHAT_TEMPLATE_USER_MESSAGE)"
   ]
  },
  {
   "cell_type": "markdown",
   "id": "b3d9db0f",
   "metadata": {},
   "source": [
    "### Importante: Recordar siempre incluir en el template el placeholder {user_question} de lo contrario no se inyectará la pregunta para que el modelo responda"
   ]
  },
  {
   "cell_type": "markdown",
   "id": "8e331f2d",
   "metadata": {},
   "source": [
    "__Paso 3:__ Procedemos a generar las respuestas, identificando el archivo con las preguntas, para ejemplo de este proceso usaremos: codigo_etica_v0.json"
   ]
  },
  {
   "cell_type": "code",
   "execution_count": 4,
   "id": "22b7fa1c",
   "metadata": {},
   "outputs": [
    {
     "data": {
      "text/plain": [
       "'codigo_etica_ix_baufest-etica-2_v1.json'"
      ]
     },
     "execution_count": 4,
     "metadata": {},
     "output_type": "execute_result"
    }
   ],
   "source": [
    "# Nótese que el nombre del archivo no incluye la extensión.\n",
    "filename_to_test = \"codigo_etica_v0.json\"\n",
    "qagenextutils.generate_robot_responses_with_chat_completion(filename_to_test,\n",
    "                                                            completion_json_field=\"simple_prompt\",\n",
    "                                                            filename_result=\"codigo_etica_ix_baufest-etica-2_v1.json\")"
   ]
  },
  {
   "cell_type": "markdown",
   "id": "c083cea2",
   "metadata": {},
   "source": [
    "__Paso 3.n:__ Podemos probar otros prompts e ir agregando a nuestro resultado final."
   ]
  },
  {
   "cell_type": "code",
   "execution_count": 5,
   "id": "23a20a37",
   "metadata": {},
   "outputs": [
    {
     "name": "stdout",
     "output_type": "stream",
     "text": [
      "Responde la pregunta delimitada por ###Question###. Para responder tu pregunta sigue las siguientes recomendaciones: Recomendación 1 : Usa los datos del usuario delimitados por ###user_data## para complementar tu respuesta.Recomendación 2 : Usa el nombre del usuario para dirigirte en tu respuesta, si cuentas con ese dato.Recomendación 3 : Usa el historial para complementar tu respuesta. ###user_data### Nombre del Usuario: País de la unidad: ###user_data### ###Question### {user_question} ###Question###\n"
     ]
    }
   ],
   "source": [
    "qagenextutils.BAUCHAT_TEMPLATE_USER_MESSAGE = \"\"\"Responde la pregunta delimitada por ###Question###. \\\n",
    "Para responder tu pregunta sigue las siguientes recomendaciones: {template_rules} {template_user_data} ###Question### {question_placeholder} ###Question###\"\"\"\n",
    "\n",
    "template_rules = f\"Recomendación 1 : Usa los datos del usuario delimitados por ###user_data## para complementar tu respuesta.\\\n",
    "Recomendación 2 : Usa el nombre del usuario para dirigirte en tu respuesta, si cuentas con ese dato.\\\n",
    "Recomendación 3 : Usa el historial para complementar tu respuesta.\"\n",
    "\n",
    "template_user_data = f\"###user_data### Nombre del Usuario: \\\n",
    "País de la unidad: ###user_data###\"\n",
    "\n",
    "question_placeholder = \"\"\"{user_question}\"\"\" \n",
    "\n",
    "# Es importante incluir el placeholder: {user_question} ya que es ahí donde se inyectará la pregunta\n",
    "qagenextutils.BAUCHAT_TEMPLATE_USER_MESSAGE= qagenextutils.BAUCHAT_TEMPLATE_USER_MESSAGE.format(\n",
    "    template_rules=template_rules,\n",
    "    template_user_data=template_user_data,\n",
    "    question_placeholder=question_placeholder)\n",
    "print(qagenextutils.BAUCHAT_TEMPLATE_USER_MESSAGE)\n"
   ]
  },
  {
   "cell_type": "code",
   "execution_count": 6,
   "id": "8c30d9df",
   "metadata": {},
   "outputs": [
    {
     "data": {
      "text/plain": [
       "'codigo_etica_ix_baufest-etica-2_v2.json'"
      ]
     },
     "execution_count": 6,
     "metadata": {},
     "output_type": "execute_result"
    }
   ],
   "source": [
    "filename_to_test = \"codigo_etica_ix_baufest-etica-2_v1.json\"\n",
    "qagenextutils.generate_robot_responses_with_chat_completion(filename_to_test,\n",
    "                                                            completion_json_field=\"demo3_prompt\",\n",
    "                                                            filename_result=\"codigo_etica_ix_baufest-etica-2_v2.json\")"
   ]
  },
  {
   "cell_type": "code",
   "execution_count": 7,
   "id": "3a5b4dab",
   "metadata": {},
   "outputs": [
    {
     "name": "stdout",
     "output_type": "stream",
     "text": [
      "You are a human resources assistant, that works for Baufest company.\n",
      "You must answer the question made by the user, the question is delimited by ###Question###.\n",
      "If the user does not provide enough information, remember the questions are from ethics and the context is in Baufest company.\n",
      "Your answer must be in spanish\n",
      "###Question###\n",
      "{user_question}\n",
      "###Question###\n"
     ]
    }
   ],
   "source": [
    "qagenextutils.BAUCHAT_TEMPLATE_USER_MESSAGE = \"\"\"You are a human resources assistant, that works for Baufest company.\n",
    "You must answer the question made by the user, the question is delimited by ###Question###.\n",
    "If the user does not provide enough information, remember the questions are from ethics and the context is in Baufest company.\n",
    "Your answer must be in spanish\n",
    "###Question###\n",
    "{user_question}\n",
    "###Question###\"\"\"\n",
    "\n",
    "print(qagenextutils.BAUCHAT_TEMPLATE_USER_MESSAGE)\n"
   ]
  },
  {
   "cell_type": "code",
   "execution_count": 8,
   "id": "e70e6075",
   "metadata": {},
   "outputs": [
    {
     "data": {
      "text/plain": [
       "'codigo_etica_ix_baufest-etica-2_v3.json'"
      ]
     },
     "execution_count": 8,
     "metadata": {},
     "output_type": "execute_result"
    }
   ],
   "source": [
    "filename_to_test = \"codigo_etica_ix_baufest-etica-2_v2.json\"\n",
    "qagenextutils.generate_robot_responses_with_chat_completion(filename_to_test,\n",
    "                                                            completion_json_field=\"experimental_prompt\",\n",
    "                                                            filename_result=\"codigo_etica_ix_baufest-etica-2_v3.json\")"
   ]
  },
  {
   "cell_type": "code",
   "execution_count": null,
   "id": "7d9b3bc2",
   "metadata": {},
   "outputs": [],
   "source": []
  }
 ],
 "metadata": {
  "kernelspec": {
   "display_name": "Python 3 (ipykernel)",
   "language": "python",
   "name": "python3"
  },
  "language_info": {
   "codemirror_mode": {
    "name": "ipython",
    "version": 3
   },
   "file_extension": ".py",
   "mimetype": "text/x-python",
   "name": "python",
   "nbconvert_exporter": "python",
   "pygments_lexer": "ipython3",
   "version": "3.11.5"
  }
 },
 "nbformat": 4,
 "nbformat_minor": 5
}
