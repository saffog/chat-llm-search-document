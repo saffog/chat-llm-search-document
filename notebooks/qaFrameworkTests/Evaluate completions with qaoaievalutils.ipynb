{
 "cells": [
  {
   "cell_type": "markdown",
   "id": "06d29c75",
   "metadata": {},
   "source": [
    "# This notebook shows how to use qaoaievalutils to evaluate completions"
   ]
  },
  {
   "cell_type": "code",
   "execution_count": 1,
   "id": "24a30cc5",
   "metadata": {},
   "outputs": [],
   "source": [
    "import sys\n",
    "sys.path.append('../lib')\n",
    "\n",
    "import qaoaievalutils\n",
    "import aoaiutils"
   ]
  },
  {
   "cell_type": "code",
   "execution_count": null,
   "id": "87b52235",
   "metadata": {},
   "outputs": [],
   "source": [
    "print(aoaiutils.AZURE_OPENAI_CHAT_COMPLETION_MODEL)"
   ]
  },
  {
   "cell_type": "code",
   "execution_count": null,
   "id": "dd55b96f",
   "metadata": {},
   "outputs": [],
   "source": [
    "robot_answer_1 = \"\"\"Estimado Silvina Pliego, según la documentación consultada, \n",
    "es posible cambiar el rango de horario una vez que se ha optado por uno en el programa ANTI TRÁFICO (LATAM) 1 . \n",
    "Sin embargo, se espera que una vez que se haya optado por un rango, se mantenga estable por al menos un mes \n",
    "para una fluida organización. Por favor, si necesitas más información o si esta respuesta no responde \n",
    "completamente a tu pregunta, no dudes en proporcionar más detalles para que pueda ayudarte mejor.\"\"\"\n",
    "\n",
    "human_answer_1 = \"\"\"Sí, pero se requiere que el rango de horario laboral se mantenga por un mes\"\"\"\n",
    "\n",
    "json_result = qaoaievalutils.evaluate_robot_vs_human_response(\n",
    "    robot_answer=robot_answer_1, \n",
    "    human_answer=human_answer_1, \n",
    "    debug=True)"
   ]
  },
  {
   "cell_type": "code",
   "execution_count": null,
   "id": "d53db7ec",
   "metadata": {},
   "outputs": [],
   "source": [
    "robot_answer_1 = \"\"\"Estimado Silvina Pliego, según la documentación consultada, \n",
    "es posible cambiar el rango de horario una vez que se ha optado por uno en el programa ANTI TRÁFICO (LATAM) 1 . \n",
    "Sin embargo, se espera que una vez que se haya optado por un rango, se mantenga estable por al menos un mes \n",
    "para una fluida organización. Por favor, si necesitas más información o si esta respuesta no responde \n",
    "completamente a tu pregunta, no dudes en proporcionar más detalles para que pueda ayudarte mejor.\"\"\"\n",
    "\n",
    "human_answer_1 = \"\"\"Sí, pero se requiere que el rango de horario laboral se mantenga por un mes\"\"\"\n",
    "\n",
    "json_result_1 = qaoaievalutils.evaluate_robot_vs_human_response(\n",
    "    robot_answer=robot_answer_1, \n",
    "    human_answer=human_answer_1)\n",
    "print(json_result_1)"
   ]
  },
  {
   "cell_type": "code",
   "execution_count": null,
   "id": "464859ae",
   "metadata": {},
   "outputs": [],
   "source": [
    "robot_answer_2 = \"\"\"Estimado Silvina Pliego, según la documentación consultada, \n",
    "es posible cambiar el rango de horario una vez que se ha optado por uno en el programa ANTI TRÁFICO (LATAM) 1 . \n",
    "Sin embargo, se espera que una vez que se haya optado por un rango, se mantenga estable por al menos un mes \n",
    "para una fluida organización. Por favor, si necesitas más información o si esta respuesta no responde \n",
    "completamente a tu pregunta, no dudes en proporcionar más detalles para que pueda ayudarte mejor.\"\"\"\n",
    "\n",
    "human_answer_2 = \"\"\"Si, puedes presentar el contrato o escritura al nombre de otra persona, siempre que presentes un documento legal que respalde la convivencia, \n",
    "por ejemplo, como un certificado de concubinato, matrimonio o unión civil. \n",
    "Esto ayudará a garantizar que tu solicitud sea considerada de manera adecuada\"\"\"\n",
    "\n",
    "json_result_2 = qaoaievalutils.evaluate_robot_vs_human_response(\n",
    "    robot_answer=robot_answer_2, \n",
    "    human_answer=human_answer_2)\n",
    "print(json_result_2)"
   ]
  },
  {
   "cell_type": "markdown",
   "id": "0e9aec8e",
   "metadata": {},
   "source": [
    "También hay un método para evaluar la pregunta versus las respuestas"
   ]
  },
  {
   "cell_type": "code",
   "execution_count": null,
   "id": "53740b80",
   "metadata": {},
   "outputs": [],
   "source": [
    "question_1 = \"\"\"¿Se puede cambiar el rango de horario una vez que elegí uno?\"\"\"\n",
    "robot_answer_1 = \"\"\"Estimado Silvina Pliego, según la documentación consultada, \n",
    "es posible cambiar el rango de horario una vez que se ha optado por uno en el programa ANTI TRÁFICO (LATAM) 1 . \n",
    "Sin embargo, se espera que una vez que se haya optado por un rango, se mantenga estable por al menos un mes \n",
    "para una fluida organización. Por favor, si necesitas más información o si esta respuesta no responde \n",
    "completamente a tu pregunta, no dudes en proporcionar más detalles para que pueda ayudarte mejor.\"\"\"\n",
    "\n",
    "human_answer_1 = \"\"\"Sí, pero se requiere que el rango de horario laboral se mantenga por un mes\"\"\"\n",
    "\n",
    "json_result_1 = qaoaievalutils.evaluate_query_robot_vs_human_response(user_query=question_1,\n",
    "                                                    robot_answer=robot_answer_1, \n",
    "                                                    human_answer=human_answer_1, debug=True)\n",
    "print(json_result_1)"
   ]
  },
  {
   "cell_type": "code",
   "execution_count": null,
   "id": "7fa3d270",
   "metadata": {},
   "outputs": [],
   "source": [
    "question_2 = \"\"\"Mi escritura o contrato no está a mi nombre. ¿Puedo aplicar para el beneficio?\"\"\"\n",
    "\n",
    "robot_answer_2 = \"\"\"Estimado Silvina Pliego, según la documentación consultada, \n",
    "es posible cambiar el rango de horario una vez que se ha optado por uno en el programa ANTI TRÁFICO (LATAM) 1 . \n",
    "Sin embargo, se espera que una vez que se haya optado por un rango, se mantenga estable por al menos un mes \n",
    "para una fluida organización. Por favor, si necesitas más información o si esta respuesta no responde \n",
    "completamente a tu pregunta, no dudes en proporcionar más detalles para que pueda ayudarte mejor.\"\"\"\n",
    "\n",
    "human_answer_2 = \"\"\"Si, puedes presentar el contrato o escritura al nombre de otra persona, siempre que presentes un documento legal que respalde la convivencia, \n",
    "por ejemplo, como un certificado de concubinato, matrimonio o unión civil. \n",
    "Esto ayudará a garantizar que tu solicitud sea considerada de manera adecuada\"\"\"\n",
    "\n",
    "json_result_2 = qaoaievalutils.evaluate_query_robot_vs_human_response(user_query=question_2,\n",
    "                                                    robot_answer=robot_answer_2, \n",
    "                                                    human_answer=human_answer_2)\n",
    "print(json_result_2)"
   ]
  },
  {
   "cell_type": "markdown",
   "id": "37f6ef3c",
   "metadata": {},
   "source": [
    "También se cuenta con un método que evaluar las respuestas calificando la calidad del 1 al 10"
   ]
  },
  {
   "cell_type": "code",
   "execution_count": 2,
   "id": "72c2b5c7",
   "metadata": {},
   "outputs": [
    {
     "name": "stdout",
     "output_type": "stream",
     "text": [
      "[\n",
      "  {\n",
      "    \"test_id\": \"1\",\n",
      "    \"test\": \"Similarity\",\n",
      "    \"result\": 1,\n",
      "    \"reason\": \"Both responses mention the possibility of changing the schedule and the requirement of maintaining it for at least a month.    \"\n",
      "  },\n",
      "  {\n",
      "    \"test_id\": \"2\",\n",
      "    \"test\": \"Response A Correctness\",\n",
      "    \"result\": 1,\n",
      "    \"reason\": \"The response provides a detailed explanation and offers further assistance.    \"\n",
      "  },\n",
      "  {\n",
      "    \"test_id\": \"3\",\n",
      "    \"test\": \"Response B Correctness\",\n",
      "    \"result\": 1,\n",
      "    \"reason\": \"The response is concise and accurate.    \"\n",
      "  },\n",
      "  {\n",
      "    \"test_id\": \"4\",\n",
      "    \"test\": \"Better response\",\n",
      "    \"result\": \"A\",\n",
      "    \"reason\": \"Provides more information and offers further assistance.    \"\n",
      "  },\n",
      "  {\n",
      "    \"test_id\": \"5\",\n",
      "    \"test\": \"Score A\",\n",
      "    \"result\": \"8\",\n",
      "    \"reason\": \"The response is detailed and informative, but could be more concise.    \"\n",
      "  },\n",
      "  {\n",
      "    \"test_id\": \"6\",\n",
      "    \"test\": \"Score B\",\n",
      "    \"result\": \"7\",\n",
      "    \"reason\": \"The response is accurate and concise, but lacks additional information.\"\n",
      "  }\n",
      "]\n"
     ]
    }
   ],
   "source": [
    "question_1 = \"\"\"¿Se puede cambiar el rango de horario una vez que elegí uno?\"\"\"\n",
    "robot_answer_1 = \"\"\"Estimado Silvina Pliego, según la documentación consultada, \n",
    "es posible cambiar el rango de horario una vez que se ha optado por uno en el programa ANTI TRÁFICO (LATAM) 1 . \n",
    "Sin embargo, se espera que una vez que se haya optado por un rango, se mantenga estable por al menos un mes \n",
    "para una fluida organización. Por favor, si necesitas más información o si esta respuesta no responde \n",
    "completamente a tu pregunta, no dudes en proporcionar más detalles para que pueda ayudarte mejor.\"\"\"\n",
    "\n",
    "human_answer_1 = \"\"\"Sí, pero se requiere que el rango de horario laboral se mantenga por un mes\"\"\"\n",
    "\n",
    "json_result_1 = qaoaievalutils.evaluate_query_better_response(user_query=question_1,\n",
    "                                                    response_a=robot_answer_1, \n",
    "                                                    response_b=human_answer_1)\n",
    "print(json_result_1)"
   ]
  },
  {
   "cell_type": "code",
   "execution_count": null,
   "id": "7b84b6f1",
   "metadata": {},
   "outputs": [],
   "source": []
  }
 ],
 "metadata": {
  "kernelspec": {
   "display_name": "Python 3 (ipykernel)",
   "language": "python",
   "name": "python3"
  },
  "language_info": {
   "codemirror_mode": {
    "name": "ipython",
    "version": 3
   },
   "file_extension": ".py",
   "mimetype": "text/x-python",
   "name": "python",
   "nbconvert_exporter": "python",
   "pygments_lexer": "ipython3",
   "version": "3.11.5"
  }
 },
 "nbformat": 4,
 "nbformat_minor": 5
}
