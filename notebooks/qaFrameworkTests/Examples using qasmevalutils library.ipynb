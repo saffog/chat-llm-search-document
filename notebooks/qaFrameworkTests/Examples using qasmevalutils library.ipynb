{
 "cells": [
  {
   "cell_type": "markdown",
   "id": "9bbeef56",
   "metadata": {},
   "source": [
    "# This notebook shows how to use qasmevalutils"
   ]
  },
  {
   "cell_type": "code",
   "execution_count": 1,
   "id": "401c74e0",
   "metadata": {},
   "outputs": [],
   "source": [
    "import sys\n",
    "sys.path.append('../lib')\n",
    "\n",
    "import qasmevalutils"
   ]
  },
  {
   "cell_type": "code",
   "execution_count": 2,
   "id": "5ea2d611",
   "metadata": {},
   "outputs": [
    {
     "name": "stdout",
     "output_type": "stream",
     "text": [
      "sm_matching_test : test_result : {'test_id': 1, 'test': 'sequence_matcher_similarity', 'result': 0, 'reason': 'Using a threshold value of : 0.6 vs 0.20430107526881722'}\n"
     ]
    }
   ],
   "source": [
    "robot_answer_1 = \"\"\"Estimado Silvina Pliego, según la documentación consultada, \n",
    "es posible cambiar el rango de horario una vez que se ha optado por uno en el programa ANTI TRÁFICO (LATAM) 1 . \n",
    "Sin embargo, se espera que una vez que se haya optado por un rango, se mantenga estable por al menos un mes \n",
    "para una fluida organización. Por favor, si necesitas más información o si esta respuesta no responde \n",
    "completamente a tu pregunta, no dudes en proporcionar más detalles para que pueda ayudarte mejor.\"\"\"\n",
    "\n",
    "human_answer_1 = \"\"\"Sí, pero se requiere que el rango de horario laboral se mantenga por un mes\"\"\"\n",
    "\n",
    "json_result = qasmevalutils.sm_matching_test(\n",
    "    response_r=robot_answer_1, \n",
    "    response_e=human_answer_1, \n",
    "    debug=True)"
   ]
  },
  {
   "cell_type": "code",
   "execution_count": 3,
   "id": "1f1bcc9e",
   "metadata": {},
   "outputs": [
    {
     "name": "stdout",
     "output_type": "stream",
     "text": [
      "sm_matching_test : test_result : {'test_id': 1, 'test': 'sequence_matcher_similarity', 'result': 1, 'reason': 'Using a threshold value of : 0.6 vs 0.8143712574850299'}\n"
     ]
    }
   ],
   "source": [
    "robot_answer_1 = \"\"\"Estimado Silvina Pliego, se requiere que el rango de horario laboral se mantenga por un mes.\"\"\"\n",
    "\n",
    "human_answer_1 = \"\"\"Sí, pero se requiere que el rango de horario laboral se mantenga por un mes\"\"\"\n",
    "\n",
    "json_result = qasmevalutils.sm_matching_test(\n",
    "    response_r=robot_answer_1, \n",
    "    response_e=human_answer_1, \n",
    "    debug=True)"
   ]
  },
  {
   "cell_type": "code",
   "execution_count": null,
   "id": "c38270aa",
   "metadata": {},
   "outputs": [],
   "source": []
  }
 ],
 "metadata": {
  "kernelspec": {
   "display_name": "Python 3 (ipykernel)",
   "language": "python",
   "name": "python3"
  },
  "language_info": {
   "codemirror_mode": {
    "name": "ipython",
    "version": 3
   },
   "file_extension": ".py",
   "mimetype": "text/x-python",
   "name": "python",
   "nbconvert_exporter": "python",
   "pygments_lexer": "ipython3",
   "version": "3.11.5"
  }
 },
 "nbformat": 4,
 "nbformat_minor": 5
}
