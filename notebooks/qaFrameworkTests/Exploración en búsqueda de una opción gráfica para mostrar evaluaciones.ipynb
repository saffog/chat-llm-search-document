{
 "cells": [
  {
   "cell_type": "markdown",
   "id": "c65ab7fd",
   "metadata": {},
   "source": [
    "# Exploración de una manera gráfica de mostrar mejores respuestas y demas"
   ]
  },
  {
   "cell_type": "code",
   "execution_count": 1,
   "id": "d85e2b45",
   "metadata": {},
   "outputs": [],
   "source": [
    "import json\n",
    "import pandas as pd"
   ]
  },
  {
   "cell_type": "markdown",
   "id": "50205837",
   "metadata": {},
   "source": [
    "Reusaremos el archivo generado: People_Argentina_2years_v0_2_expert_vs_simple"
   ]
  },
  {
   "cell_type": "code",
   "execution_count": 2,
   "id": "a170f6d4",
   "metadata": {},
   "outputs": [],
   "source": [
    "filename_to_eval = \"People_Argentina_2years_v0_2_expert_vs_simple.json\"\n",
    "filename_to_read =  f\"{filename_to_eval}\"\n",
    "with open(filename_to_read,encoding='utf-8') as file_read:\n",
    "    datos = json.load(file_read)\n"
   ]
  },
  {
   "cell_type": "markdown",
   "id": "f3003c71",
   "metadata": {},
   "source": [
    "Usamos pandas como dataframe"
   ]
  },
  {
   "cell_type": "code",
   "execution_count": 5,
   "id": "509de2f0",
   "metadata": {},
   "outputs": [
    {
     "name": "stdout",
     "output_type": "stream",
     "text": [
      "  id_question                                           question  \\\n",
      "0           1   ¿Cuáles son las ventajas de trabajar en Baufest?   \n",
      "1           2  ¿Se puede cambiar el rango de horario una vez ...   \n",
      "2           3  Mi escritura o contrato no está a mi nombre. ¿...   \n",
      "3           4                 ¿Cómo obtengo mi almuerzo o lunch?   \n",
      "4           5           ¿El almuerzo se acredita todos los días?   \n",
      "\n",
      "                                   expected_response         tags  \\\n",
      "0  Estimado Fulanito Garza, una de las tantas ven...      general   \n",
      "1  Sí, pero se requiere que el rango de horario l...  antitráfico   \n",
      "2  Si, puedes presentar el contrato o escritura a...     bau home   \n",
      "3  A través de la App de Pedidos ya (Menú/Pedidos...    bau lunch   \n",
      "4  No la acreditación es semanal y se paga los vi...    bau lunch   \n",
      "\n",
      "                                       complex_robot  \\\n",
      "0  Baufest ofrece una cultura laboral que se enfo...   \n",
      "1  Sí, es posible cambiar el rango de horario una...   \n",
      "2  La información solicitada no se encuentra en l...   \n",
      "3  Para obtener tu almuerzo o lunch, debes seguir...   \n",
      "4  La acreditación del almuerzo depende de la ubi...   \n",
      "\n",
      "                                        simple_robot         response_a  \\\n",
      "0  Baufest ofrece una cultura laboral basada en p...  expected_response   \n",
      "1  La información solicitada no se encuentra en l...  expected_response   \n",
      "2  Sí, puedes presentar el contrato o escritura a...  expected_response   \n",
      "3  Depende del país en el que te encuentres. Si e...  expected_response   \n",
      "4      Sí, la acreditación del almuerzo es mensual .  expected_response   \n",
      "\n",
      "     response_b                          evaluate_with_AOAI_result  \n",
      "0  simple_robot  [{'test_id': '1', 'test': 'Similarity', 'resul...  \n",
      "1  simple_robot  [{'test_id': '1', 'test': 'Similarity', 'resul...  \n",
      "2  simple_robot  [{'test_id': '1', 'test': 'Similarity', 'resul...  \n",
      "3  simple_robot  [{'test_id': '1', 'test': 'Similarity', 'resul...  \n",
      "4  simple_robot  [{'test_id': '1', 'test': 'Similarity', 'resul...  \n"
     ]
    }
   ],
   "source": [
    "questions_answers = datos[\"questions_answers\"]\n",
    "\n",
    "df = pd.DataFrame(questions_answers)\n",
    "print(df)"
   ]
  },
  {
   "cell_type": "code",
   "execution_count": 6,
   "id": "131cfe51",
   "metadata": {},
   "outputs": [
    {
     "name": "stdout",
     "output_type": "stream",
     "text": [
      "Index(['id_question', 'question', 'expected_response', 'tags', 'complex_robot',\n",
      "       'simple_robot', 'response_a', 'response_b',\n",
      "       'evaluate_with_AOAI_result'],\n",
      "      dtype='object')\n"
     ]
    }
   ],
   "source": [
    "print(df.columns)"
   ]
  },
  {
   "cell_type": "code",
   "execution_count": 11,
   "id": "5dca0415",
   "metadata": {},
   "outputs": [
    {
     "data": {
      "text/plain": [
       "0    [{'test_id': '1', 'test': 'Similarity', 'resul...\n",
       "1    [{'test_id': '1', 'test': 'Similarity', 'resul...\n",
       "2    [{'test_id': '1', 'test': 'Similarity', 'resul...\n",
       "3    [{'test_id': '1', 'test': 'Similarity', 'resul...\n",
       "4    [{'test_id': '1', 'test': 'Similarity', 'resul...\n",
       "Name: evaluate_with_AOAI_result, dtype: object"
      ]
     },
     "execution_count": 11,
     "metadata": {},
     "output_type": "execute_result"
    }
   ],
   "source": [
    "df['evaluate_with_AOAI_result']"
   ]
  },
  {
   "cell_type": "code",
   "execution_count": 31,
   "id": "710fb56e",
   "metadata": {},
   "outputs": [
    {
     "name": "stdout",
     "output_type": "stream",
     "text": [
      "    question                                               eval\n",
      "0  question1  [{'test_id': '1', 'result': 'valor_test_1'}, {...\n",
      "1  question2  [{'test_id': '1', 'result': 'valor_test_1'}, {...\n"
     ]
    }
   ],
   "source": [
    "import pandas as pd\n",
    "import json\n",
    "\n",
    "# JSON data\n",
    "json_data = '{\"otro\":{\"meta1\":\"valormeta1\"},\"questions\":[{\"question\":\"question1\",\"eval\":[{\"test_id\":\"1\",\"result\":\"valor_test_1\"},{\"test_id\":\"2\",\"result\":\"valor_test_2\"},{\"test_id\":\"3\",\"result\":\"valor_test_3\"}]},{\"question\":\"question2\",\"eval\":[{\"test_id\":\"1\",\"result\":\"valor_test_1\"},{\"test_id\":\"2\",\"result\":\"valor_test_2\"},{\"test_id\":\"3\",\"result\":\"valor_test_3\"}]}]}'\n",
    "\n",
    "# Convertir el JSON en un DataFrame\n",
    "data = json.loads(json_data)\n",
    "questions_df = pd.DataFrame(data['questions'])\n",
    "\n",
    "# Mostrar el DataFrame\n",
    "print(questions_df)"
   ]
  },
  {
   "cell_type": "code",
   "execution_count": 37,
   "id": "79848a9c",
   "metadata": {},
   "outputs": [
    {
     "name": "stdout",
     "output_type": "stream",
     "text": [
      "valor_test_1\n"
     ]
    }
   ],
   "source": [
    "# Filtrar el DataFrame por test_id igual a 2 y obtener el valor de \"result\"\n",
    "valor_result = questions_df['eval'][1][0]['result']\n",
    "\n",
    "# Mostrar el valor de \"result\"\n",
    "print(valor_result)"
   ]
  },
  {
   "cell_type": "code",
   "execution_count": 39,
   "id": "65973100",
   "metadata": {},
   "outputs": [
    {
     "name": "stdout",
     "output_type": "stream",
     "text": [
      "0    valor_test_1\n",
      "1    valor_test_1\n",
      "Name: eval, dtype: object\n"
     ]
    }
   ],
   "source": [
    "# Usar apply para filtrar el DataFrame y obtener el valor de \"result\"\n",
    "valor_result = questions_df['eval'].apply(lambda x: next(item['result'] for item in x if item['test_id'] == '1'))\n",
    "\n",
    "# Mostrar el valor de \"result\"\n",
    "print(valor_result)"
   ]
  },
  {
   "cell_type": "code",
   "execution_count": 23,
   "id": "c1bd2143",
   "metadata": {},
   "outputs": [
    {
     "name": "stdout",
     "output_type": "stream",
     "text": [
      "valor22_0\n"
     ]
    }
   ],
   "source": [
    "# Obtener el valor de \"subcol22\" de la columna \"columna2\"\n",
    "valor_subcol22 = questions_df['columna2'].apply(lambda x: x[0]['subcol22']).iloc[0]\n",
    "\n",
    "# Mostrar el valor de \"subcol22\"\n",
    "print(valor_subcol22)\n",
    "\n",
    "# Aunque se puede usar este otro aproximamiento\n"
   ]
  },
  {
   "cell_type": "code",
   "execution_count": 24,
   "id": "dfaae84d",
   "metadata": {},
   "outputs": [
    {
     "name": "stdout",
     "output_type": "stream",
     "text": [
      "valor22_0\n"
     ]
    }
   ],
   "source": [
    "# Obtener el valor de \"subcol22\" de la lista de diccionarios en \"columna2\"\n",
    "valor_subcol22 = questions_df['columna2'][0][0]['subcol22']\n",
    "\n",
    "# Mostrar el valor de \"subcol22\"\n",
    "print(valor_subcol22)"
   ]
  },
  {
   "cell_type": "markdown",
   "id": "8b1a7b0e",
   "metadata": {},
   "source": [
    "Aunque podemos optar por una versión que no use data frames"
   ]
  },
  {
   "cell_type": "code",
   "execution_count": 1,
   "id": "df967556",
   "metadata": {},
   "outputs": [],
   "source": [
    "import matplotlib.pyplot as plt\n",
    "\n",
    "def plot_bar_chart_for_test(json_data, target_test_id):\n",
    "    # Extraer la información necesaria del JSON para el test_id especificado\n",
    "    data = [item for item in json_data[\"questions_answers\"] if any(test[\"test_id\"] == target_test_id for test in item[\"evaluate_with_AOAI_result\"])]\n",
    "    \n",
    "    if not data:\n",
    "        print(f\"No se encontraron datos para el test_id {target_test_id}\")\n",
    "        return\n",
    "\n",
    "    x_values = [item[\"id_question\"] for item in data]\n",
    "    y_values = [item[\"evaluate_with_AOAI_result\"][0][\"result\"] for item in data]\n",
    "    labels = [item[\"test\"] for item in data]\n",
    "\n",
    "    # Crear la gráfica de barras\n",
    "    plt.bar(x_values, y_values, color='blue')\n",
    "    plt.xlabel('ID de la Pregunta')\n",
    "    plt.ylabel('Resultado de Evaluación')\n",
    "    plt.title(f'Gráfica de Barras para test_id {target_test_id}')\n",
    "    \n",
    "    # Añadir etiquetas a las barras\n",
    "    for i in range(len(data)):\n",
    "        plt.text(x=i, y=y_values[i] + 0.1, s=f'{labels[i]}: {y_values[i]}', ha='center')\n",
    "\n",
    "    # Mostrar la gráfica\n",
    "    plt.show()"
   ]
  },
  {
   "cell_type": "code",
   "execution_count": 3,
   "id": "86149646",
   "metadata": {},
   "outputs": [],
   "source": [
    "import json\n",
    "\n",
    "filename_to_eval = \"People_Argentina_2years_v0_2_expert_vs_simple.json\"\n",
    "filename_to_read =  f\"{filename_to_eval}\"\n",
    "with open(filename_to_read,encoding='utf-8') as file_read:\n",
    "    json_data = json.load(file_read)\n"
   ]
  },
  {
   "cell_type": "code",
   "execution_count": 4,
   "id": "36314f55",
   "metadata": {},
   "outputs": [
    {
     "name": "stdout",
     "output_type": "stream",
     "text": [
      "{'used_templates': [{'complex_robot': \"Responde la pregunta delimitada por ###Question###. \\nTu respuesta debe ser en español informal.\\nPara responder toma en cuenta las siguientes recomendaciones: \\nRecomendación 1 : Utiliza los datos del usuario delimitados por ###user_data## para complementar tu respuesta.\\nRecomendación 2 : Usa el 'Nombre' de los datos del usuario para referirte al usuario en tu respuesta por su nombre.\\nRecomendación 3 : Usa la 'Ubicación' de los datos del usuario para filtrar tu respuesta usando la ubicación del usuario.\\n###user_data###\\nNombre: Alfonso Xochipa \\nAntigüedad: 2 años \\nRol: Software developer\\nUbicación: Argentina \\n###user_data###\\n###Question### {user_question} ###Question###\"}, {'simple_robot': 'Responde la pregunta delimitada por ###Question###. Tu respuesta debe ser en español informal.\\n###Question### {user_question} ###Question###'}], 'questions_answers': [{'id_question': '1', 'question': '¿Cuáles son las ventajas de trabajar en Baufest?', 'expected_response': 'Estimado Fulanito Garza, una de las tantas ventajas de trabar en Baufest son las siguientes: BAU Dollar, donde recibes el beneficio del 20% de tu salario en dólares; BAU Health, reintegro del costo del gimnasio u otras actividades deportivas; BAU net, recibe una bonificación del costo del servicio de internet; BAU Lunch, Baufest te paga el lunch; BAU Home, se te reintegra el costo de la mudanza y Anti tráfico, tienes la posibilidad de ajustar tu horario laboral para evitar el tráfico.', 'tags': 'general', 'complex_robot': 'Baufest ofrece una cultura laboral que se enfoca en la cercanía, la creatividad, la calidad, el compromiso y la equidad . Los baufesianos fomentan relaciones cercanas con los clientes y entre ellos, lo que ayuda a generar un sentido de pertenencia y liderazgo [doc1]. Además, confían en el talento de sus empleados, favoreciendo el intercambio de ideas y experiencias para generar un sello diferencial e innovador en la creación de recursos [doc1]. Baufest también se compromete a reconocer y promover las habilidades de sus integrantes, poniendo a su disposición medios de formación y actualización de conocimientos [doc3]. Como software developer en Argentina, podrías disfrutar de un ambiente de trabajo libre de maltrato y violencia, y un trato equitativo con tus reportes directos para generar un buen clima de trabajo [doc3].', 'simple_robot': 'Baufest ofrece una cultura laboral basada en pilares como la cercanía, la creatividad, la calidad, el compromiso y la productividad . Además, se promueve un ambiente de trabajo libre de acoso y discriminación [doc2]. La empresa también se preocupa por la calidad de vida profesional de sus empleados y garantiza la confidencialidad de la información [doc2][doc3]. En resumen, trabajar en Baufest significa tener un ambiente laboral respetuoso, innovador y comprometido con la calidad y el bienestar de sus empleados .', 'response_a': 'expected_response', 'response_b': 'simple_robot', 'evaluate_with_AOAI_result': [{'test_id': '1', 'test': 'Similarity', 'result': 0, 'reason': 'Response A lists specific benefits, while response B focuses on company culture and values.'}, {'test_id': '2', 'test': 'Response A Correctness', 'result': 1, 'reason': 'Response A accurately lists benefits offered by Baufest.'}, {'test_id': '3', 'test': 'Response B Correctness', 'result': 1, 'reason': \"Response B accurately describes Baufest's culture and values.\"}, {'test_id': '4', 'test': 'Better response', 'result': 'B', 'reason': \"Response B provides a more comprehensive overview of Baufest's benefits and values.\"}, {'test_id': '5', 'test': 'Score A', 'result': '8', 'reason': 'Response A provides relevant and specific information, but could be more concise.'}, {'test_id': '6', 'test': 'Score B', 'result': '9', 'reason': 'Response B provides relevant and comprehensive information in a clear and concise manner.'}]}, {'id_question': '2', 'question': '¿Se puede cambiar el rango de horario una vez que elegí uno?', 'expected_response': 'Sí, pero se requiere que el rango de horario laboral se mantenga por un mes', 'tags': 'antitráfico', 'complex_robot': 'Sí, es posible cambiar el rango de horario una vez que ya se ha optado por uno [doc1]. Sin embargo, se espera que una vez que se haya elegido un rango, se mantenga estable por al menos un mes para una organización fluida [doc1].', 'simple_robot': 'La información solicitada no se encuentra en los datos recuperados. Por favor, intente otra consulta o tema.', 'response_a': 'expected_response', 'response_b': 'simple_robot', 'evaluate_with_AOAI_result': [{'test_id': '1', 'test': 'Similarity', 'result': 0, 'reason': 'Response A provides an answer, while response B does not.'}, {'test_id': '2', 'test': 'Response A Correctness', 'result': 1, 'reason': 'The response provides accurate information.'}, {'test_id': '3', 'test': 'Response B Correctness', 'result': 0, 'reason': 'The response does not provide any relevant information.'}, {'test_id': '4', 'test': 'Better response', 'result': 'A', 'reason': 'Response A provides a clear answer to the query.'}, {'test_id': '5', 'test': 'Score A', 'result': '8', 'reason': 'The response is simple and provides relevant information, but the requirement of maintaining the schedule for a month may be seen as a drawback.'}, {'test_id': '6', 'test': 'Score B', 'result': '2', 'reason': 'The response does not provide any relevant information.'}]}, {'id_question': '3', 'question': 'Mi escritura o contrato no está a mi nombre. ¿Puedo aplicar para el beneficio?', 'expected_response': 'Si, puedes presentar el contrato o escritura al nombre de otra persona, siempre que presentes un documento legal que respalde la convivencia, por ejemplo, como un certificado de concubinato, matrimonio o unión civil. Esto ayudará a garantizar que tu solicitud sea considerada de manera adecuada', 'tags': 'bau home', 'complex_robot': 'La información solicitada no se encuentra en los datos recuperados. Por favor, intente otra consulta o tema.', 'simple_robot': 'Sí, puedes presentar el contrato o escritura al nombre de otra persona para aplicar al beneficio, siempre y cuando presentes un documento legal que respalde la convivencia, como un certificado de concubinato, matrimonio o unión civil [doc1]. Esto ayudará a garantizar que tu solicitud sea considerada de manera adecuada.', 'response_a': 'expected_response', 'response_b': 'simple_robot', 'evaluate_with_AOAI_result': [{'test_id': '1', 'test': 'Similarity', 'result': 1, 'reason': 'Both responses provide the same information with minor differences.'}, {'test_id': '2', 'test': 'Response A Correctness', 'result': 1, 'reason': 'The response provides accurate information and suggests presenting a legal document to support the cohabitation.'}, {'test_id': '3', 'test': 'Response B Correctness', 'result': 1, 'reason': 'The response provides accurate information and suggests presenting a legal document to support the cohabitation.'}, {'test_id': '4', 'test': 'Better response', 'result': 'B', 'reason': 'Response B provides a source to support the information provided.'}, {'test_id': '5', 'test': 'Score A', 'result': '8', 'reason': 'The response is straightforward and provides relevant information, but it could benefit from a source to support the information.'}, {'test_id': '6', 'test': 'Score B', 'result': '9', 'reason': 'The response is straightforward, provides relevant information, and includes a source to support the information.'}]}, {'id_question': '4', 'question': '¿Cómo obtengo mi almuerzo o lunch?', 'expected_response': 'A través de la App de Pedidos ya (Menú/PedidosYa Pagos) verás las acreditaciones que tenes disponible para usar', 'tags': 'bau lunch', 'complex_robot': 'Para obtener tu almuerzo o lunch, debes seguir los siguientes pasos según tu ubicación: \\n- Si te encuentras en Argentina o Perú, debes descargar la aplicación de PedidosYa y registrarte con las instrucciones que recibirás en tu correo de Baufest. Luego, podrás ver las acreditaciones disponibles para usar en la sección de Menú/PedidosYa Pagos de la aplicación. La acreditación se realiza semanalmente los viernes [doc1].\\n- Si te encuentras en Chile o Uruguay, recibirás un importe mensual destinado para este fin y lo verás reflejado en tu recibo de sueldo [doc1].', 'simple_robot': 'Depende del país en el que te encuentres. Si estás en Argentina o Perú, puedes obtener tu almuerzo a través de la App de PedidosYa, donde verás las acreditaciones disponibles para usar . Si estás en Chile, puedes obtener tu almuerzo a través de Tickets Restaurant emitidos por Edenred . Y si estás en Uruguay, se te acreditará un importe mensual destinado para este fin y lo verás reflejado en tu recibo de sueldo .', 'response_a': 'expected_response', 'response_b': 'simple_robot', 'evaluate_with_AOAI_result': [{'test_id': '1', 'test': 'Similarity', 'result': 0, 'reason': 'Response A is specific to one country, while response B covers multiple countries.'}, {'test_id': '2', 'test': 'Response A Correctness', 'result': 1, 'reason': 'Response A provides a clear and accurate answer for obtaining lunch.'}, {'test_id': '3', 'test': 'Response B Correctness', 'result': 1, 'reason': 'Response B provides a comprehensive answer for obtaining lunch in different countries.'}, {'test_id': '4', 'test': 'Better response', 'result': 'B', 'reason': 'Response B covers more countries and provides more information.'}, {'test_id': '5', 'test': 'Score A', 'result': '8', 'reason': 'Response A is simple and straightforward, but lacks information for other countries.'}, {'test_id': '6', 'test': 'Score B', 'result': '9', 'reason': 'Response B is comprehensive and provides relevant information for multiple countries.'}]}, {'id_question': '5', 'question': '¿El almuerzo se acredita todos los días?', 'expected_response': 'No la acreditación es semanal y se paga los viernes', 'tags': 'bau lunch', 'complex_robot': 'La acreditación del almuerzo depende de la ubicación. En Argentina y Perú, la acreditación es semanal, los viernes . En cambio, en Uruguay, se acredita mensualmente y se refleja en el recibo de sueldo . No se encontró información sobre la acreditación del almuerzo en Chile. ¿Te puedo ayudar con algo más, Alfonso?', 'simple_robot': 'Sí, la acreditación del almuerzo es mensual .', 'response_a': 'expected_response', 'response_b': 'simple_robot', 'evaluate_with_AOAI_result': [{'test_id': '1', 'test': 'Similarity', 'result': 0, 'reason': 'Response A mentions weekly payment, while response B mentions monthly payment.'}, {'test_id': '2', 'test': 'Response A Correctness', 'result': 0, 'reason': 'Response A mentions weekly payment, which is incorrect.'}, {'test_id': '3', 'test': 'Response B Correctness', 'result': 0, 'reason': 'Response B mentions monthly payment, which is incorrect.'}, {'test_id': '4', 'test': 'Better response', 'result': 'B', 'reason': 'Response B is closer to the correct answer.'}, {'test_id': '5', 'test': 'Score A', 'result': '2', 'reason': 'Response A is not correct and lacks relevant information.'}, {'test_id': '6', 'test': 'Score B', 'result': '3', 'reason': 'Response B is not correct and lacks relevant information.'}]}]}\n"
     ]
    }
   ],
   "source": [
    "print(json_data)"
   ]
  },
  {
   "cell_type": "code",
   "execution_count": 6,
   "id": "9b851e1b",
   "metadata": {},
   "outputs": [
    {
     "ename": "KeyError",
     "evalue": "'test'",
     "output_type": "error",
     "traceback": [
      "\u001b[1;31m---------------------------------------------------------------------------\u001b[0m",
      "\u001b[1;31mKeyError\u001b[0m                                  Traceback (most recent call last)",
      "Cell \u001b[1;32mIn[6], line 1\u001b[0m\n\u001b[1;32m----> 1\u001b[0m plot_bar_chart_for_test(json_data, target_test_id\u001b[38;5;241m=\u001b[39m\u001b[38;5;124m\"\u001b[39m\u001b[38;5;124m2\u001b[39m\u001b[38;5;124m\"\u001b[39m)\n",
      "Cell \u001b[1;32mIn[1], line 13\u001b[0m, in \u001b[0;36mplot_bar_chart_for_test\u001b[1;34m(json_data, target_test_id)\u001b[0m\n\u001b[0;32m     11\u001b[0m x_values \u001b[38;5;241m=\u001b[39m [item[\u001b[38;5;124m\"\u001b[39m\u001b[38;5;124mid_question\u001b[39m\u001b[38;5;124m\"\u001b[39m] \u001b[38;5;28;01mfor\u001b[39;00m item \u001b[38;5;129;01min\u001b[39;00m data]\n\u001b[0;32m     12\u001b[0m y_values \u001b[38;5;241m=\u001b[39m [item[\u001b[38;5;124m\"\u001b[39m\u001b[38;5;124mevaluate_with_AOAI_result\u001b[39m\u001b[38;5;124m\"\u001b[39m][\u001b[38;5;241m0\u001b[39m][\u001b[38;5;124m\"\u001b[39m\u001b[38;5;124mresult\u001b[39m\u001b[38;5;124m\"\u001b[39m] \u001b[38;5;28;01mfor\u001b[39;00m item \u001b[38;5;129;01min\u001b[39;00m data]\n\u001b[1;32m---> 13\u001b[0m labels \u001b[38;5;241m=\u001b[39m [item[\u001b[38;5;124m\"\u001b[39m\u001b[38;5;124mtest\u001b[39m\u001b[38;5;124m\"\u001b[39m] \u001b[38;5;28;01mfor\u001b[39;00m item \u001b[38;5;129;01min\u001b[39;00m data]\n\u001b[0;32m     15\u001b[0m \u001b[38;5;66;03m# Crear la gráfica de barras\u001b[39;00m\n\u001b[0;32m     16\u001b[0m plt\u001b[38;5;241m.\u001b[39mbar(x_values, y_values, color\u001b[38;5;241m=\u001b[39m\u001b[38;5;124m'\u001b[39m\u001b[38;5;124mblue\u001b[39m\u001b[38;5;124m'\u001b[39m)\n",
      "Cell \u001b[1;32mIn[1], line 13\u001b[0m, in \u001b[0;36m<listcomp>\u001b[1;34m(.0)\u001b[0m\n\u001b[0;32m     11\u001b[0m x_values \u001b[38;5;241m=\u001b[39m [item[\u001b[38;5;124m\"\u001b[39m\u001b[38;5;124mid_question\u001b[39m\u001b[38;5;124m\"\u001b[39m] \u001b[38;5;28;01mfor\u001b[39;00m item \u001b[38;5;129;01min\u001b[39;00m data]\n\u001b[0;32m     12\u001b[0m y_values \u001b[38;5;241m=\u001b[39m [item[\u001b[38;5;124m\"\u001b[39m\u001b[38;5;124mevaluate_with_AOAI_result\u001b[39m\u001b[38;5;124m\"\u001b[39m][\u001b[38;5;241m0\u001b[39m][\u001b[38;5;124m\"\u001b[39m\u001b[38;5;124mresult\u001b[39m\u001b[38;5;124m\"\u001b[39m] \u001b[38;5;28;01mfor\u001b[39;00m item \u001b[38;5;129;01min\u001b[39;00m data]\n\u001b[1;32m---> 13\u001b[0m labels \u001b[38;5;241m=\u001b[39m [item[\u001b[38;5;124m\"\u001b[39m\u001b[38;5;124mtest\u001b[39m\u001b[38;5;124m\"\u001b[39m] \u001b[38;5;28;01mfor\u001b[39;00m item \u001b[38;5;129;01min\u001b[39;00m data]\n\u001b[0;32m     15\u001b[0m \u001b[38;5;66;03m# Crear la gráfica de barras\u001b[39;00m\n\u001b[0;32m     16\u001b[0m plt\u001b[38;5;241m.\u001b[39mbar(x_values, y_values, color\u001b[38;5;241m=\u001b[39m\u001b[38;5;124m'\u001b[39m\u001b[38;5;124mblue\u001b[39m\u001b[38;5;124m'\u001b[39m)\n",
      "\u001b[1;31mKeyError\u001b[0m: 'test'"
     ]
    }
   ],
   "source": [
    "plot_bar_chart_for_test(json_data, target_test_id=\"2\")\n"
   ]
  },
  {
   "cell_type": "code",
   "execution_count": 8,
   "id": "c6ec925e",
   "metadata": {},
   "outputs": [],
   "source": [
    "target_test_id = \"2\"\n",
    "data = [item for item in json_data[\"questions_answers\"] if any(test[\"test_id\"] == target_test_id for test in item[\"evaluate_with_AOAI_result\"])]\n"
   ]
  },
  {
   "cell_type": "code",
   "execution_count": 9,
   "id": "ae624e70",
   "metadata": {},
   "outputs": [
    {
     "name": "stdout",
     "output_type": "stream",
     "text": [
      "[{'id_question': '1', 'question': '¿Cuáles son las ventajas de trabajar en Baufest?', 'expected_response': 'Estimado Fulanito Garza, una de las tantas ventajas de trabar en Baufest son las siguientes: BAU Dollar, donde recibes el beneficio del 20% de tu salario en dólares; BAU Health, reintegro del costo del gimnasio u otras actividades deportivas; BAU net, recibe una bonificación del costo del servicio de internet; BAU Lunch, Baufest te paga el lunch; BAU Home, se te reintegra el costo de la mudanza y Anti tráfico, tienes la posibilidad de ajustar tu horario laboral para evitar el tráfico.', 'tags': 'general', 'complex_robot': 'Baufest ofrece una cultura laboral que se enfoca en la cercanía, la creatividad, la calidad, el compromiso y la equidad . Los baufesianos fomentan relaciones cercanas con los clientes y entre ellos, lo que ayuda a generar un sentido de pertenencia y liderazgo [doc1]. Además, confían en el talento de sus empleados, favoreciendo el intercambio de ideas y experiencias para generar un sello diferencial e innovador en la creación de recursos [doc1]. Baufest también se compromete a reconocer y promover las habilidades de sus integrantes, poniendo a su disposición medios de formación y actualización de conocimientos [doc3]. Como software developer en Argentina, podrías disfrutar de un ambiente de trabajo libre de maltrato y violencia, y un trato equitativo con tus reportes directos para generar un buen clima de trabajo [doc3].', 'simple_robot': 'Baufest ofrece una cultura laboral basada en pilares como la cercanía, la creatividad, la calidad, el compromiso y la productividad . Además, se promueve un ambiente de trabajo libre de acoso y discriminación [doc2]. La empresa también se preocupa por la calidad de vida profesional de sus empleados y garantiza la confidencialidad de la información [doc2][doc3]. En resumen, trabajar en Baufest significa tener un ambiente laboral respetuoso, innovador y comprometido con la calidad y el bienestar de sus empleados .', 'response_a': 'expected_response', 'response_b': 'simple_robot', 'evaluate_with_AOAI_result': [{'test_id': '1', 'test': 'Similarity', 'result': 0, 'reason': 'Response A lists specific benefits, while response B focuses on company culture and values.'}, {'test_id': '2', 'test': 'Response A Correctness', 'result': 1, 'reason': 'Response A accurately lists benefits offered by Baufest.'}, {'test_id': '3', 'test': 'Response B Correctness', 'result': 1, 'reason': \"Response B accurately describes Baufest's culture and values.\"}, {'test_id': '4', 'test': 'Better response', 'result': 'B', 'reason': \"Response B provides a more comprehensive overview of Baufest's benefits and values.\"}, {'test_id': '5', 'test': 'Score A', 'result': '8', 'reason': 'Response A provides relevant and specific information, but could be more concise.'}, {'test_id': '6', 'test': 'Score B', 'result': '9', 'reason': 'Response B provides relevant and comprehensive information in a clear and concise manner.'}]}, {'id_question': '2', 'question': '¿Se puede cambiar el rango de horario una vez que elegí uno?', 'expected_response': 'Sí, pero se requiere que el rango de horario laboral se mantenga por un mes', 'tags': 'antitráfico', 'complex_robot': 'Sí, es posible cambiar el rango de horario una vez que ya se ha optado por uno [doc1]. Sin embargo, se espera que una vez que se haya elegido un rango, se mantenga estable por al menos un mes para una organización fluida [doc1].', 'simple_robot': 'La información solicitada no se encuentra en los datos recuperados. Por favor, intente otra consulta o tema.', 'response_a': 'expected_response', 'response_b': 'simple_robot', 'evaluate_with_AOAI_result': [{'test_id': '1', 'test': 'Similarity', 'result': 0, 'reason': 'Response A provides an answer, while response B does not.'}, {'test_id': '2', 'test': 'Response A Correctness', 'result': 1, 'reason': 'The response provides accurate information.'}, {'test_id': '3', 'test': 'Response B Correctness', 'result': 0, 'reason': 'The response does not provide any relevant information.'}, {'test_id': '4', 'test': 'Better response', 'result': 'A', 'reason': 'Response A provides a clear answer to the query.'}, {'test_id': '5', 'test': 'Score A', 'result': '8', 'reason': 'The response is simple and provides relevant information, but the requirement of maintaining the schedule for a month may be seen as a drawback.'}, {'test_id': '6', 'test': 'Score B', 'result': '2', 'reason': 'The response does not provide any relevant information.'}]}, {'id_question': '3', 'question': 'Mi escritura o contrato no está a mi nombre. ¿Puedo aplicar para el beneficio?', 'expected_response': 'Si, puedes presentar el contrato o escritura al nombre de otra persona, siempre que presentes un documento legal que respalde la convivencia, por ejemplo, como un certificado de concubinato, matrimonio o unión civil. Esto ayudará a garantizar que tu solicitud sea considerada de manera adecuada', 'tags': 'bau home', 'complex_robot': 'La información solicitada no se encuentra en los datos recuperados. Por favor, intente otra consulta o tema.', 'simple_robot': 'Sí, puedes presentar el contrato o escritura al nombre de otra persona para aplicar al beneficio, siempre y cuando presentes un documento legal que respalde la convivencia, como un certificado de concubinato, matrimonio o unión civil [doc1]. Esto ayudará a garantizar que tu solicitud sea considerada de manera adecuada.', 'response_a': 'expected_response', 'response_b': 'simple_robot', 'evaluate_with_AOAI_result': [{'test_id': '1', 'test': 'Similarity', 'result': 1, 'reason': 'Both responses provide the same information with minor differences.'}, {'test_id': '2', 'test': 'Response A Correctness', 'result': 1, 'reason': 'The response provides accurate information and suggests presenting a legal document to support the cohabitation.'}, {'test_id': '3', 'test': 'Response B Correctness', 'result': 1, 'reason': 'The response provides accurate information and suggests presenting a legal document to support the cohabitation.'}, {'test_id': '4', 'test': 'Better response', 'result': 'B', 'reason': 'Response B provides a source to support the information provided.'}, {'test_id': '5', 'test': 'Score A', 'result': '8', 'reason': 'The response is straightforward and provides relevant information, but it could benefit from a source to support the information.'}, {'test_id': '6', 'test': 'Score B', 'result': '9', 'reason': 'The response is straightforward, provides relevant information, and includes a source to support the information.'}]}, {'id_question': '4', 'question': '¿Cómo obtengo mi almuerzo o lunch?', 'expected_response': 'A través de la App de Pedidos ya (Menú/PedidosYa Pagos) verás las acreditaciones que tenes disponible para usar', 'tags': 'bau lunch', 'complex_robot': 'Para obtener tu almuerzo o lunch, debes seguir los siguientes pasos según tu ubicación: \\n- Si te encuentras en Argentina o Perú, debes descargar la aplicación de PedidosYa y registrarte con las instrucciones que recibirás en tu correo de Baufest. Luego, podrás ver las acreditaciones disponibles para usar en la sección de Menú/PedidosYa Pagos de la aplicación. La acreditación se realiza semanalmente los viernes [doc1].\\n- Si te encuentras en Chile o Uruguay, recibirás un importe mensual destinado para este fin y lo verás reflejado en tu recibo de sueldo [doc1].', 'simple_robot': 'Depende del país en el que te encuentres. Si estás en Argentina o Perú, puedes obtener tu almuerzo a través de la App de PedidosYa, donde verás las acreditaciones disponibles para usar . Si estás en Chile, puedes obtener tu almuerzo a través de Tickets Restaurant emitidos por Edenred . Y si estás en Uruguay, se te acreditará un importe mensual destinado para este fin y lo verás reflejado en tu recibo de sueldo .', 'response_a': 'expected_response', 'response_b': 'simple_robot', 'evaluate_with_AOAI_result': [{'test_id': '1', 'test': 'Similarity', 'result': 0, 'reason': 'Response A is specific to one country, while response B covers multiple countries.'}, {'test_id': '2', 'test': 'Response A Correctness', 'result': 1, 'reason': 'Response A provides a clear and accurate answer for obtaining lunch.'}, {'test_id': '3', 'test': 'Response B Correctness', 'result': 1, 'reason': 'Response B provides a comprehensive answer for obtaining lunch in different countries.'}, {'test_id': '4', 'test': 'Better response', 'result': 'B', 'reason': 'Response B covers more countries and provides more information.'}, {'test_id': '5', 'test': 'Score A', 'result': '8', 'reason': 'Response A is simple and straightforward, but lacks information for other countries.'}, {'test_id': '6', 'test': 'Score B', 'result': '9', 'reason': 'Response B is comprehensive and provides relevant information for multiple countries.'}]}, {'id_question': '5', 'question': '¿El almuerzo se acredita todos los días?', 'expected_response': 'No la acreditación es semanal y se paga los viernes', 'tags': 'bau lunch', 'complex_robot': 'La acreditación del almuerzo depende de la ubicación. En Argentina y Perú, la acreditación es semanal, los viernes . En cambio, en Uruguay, se acredita mensualmente y se refleja en el recibo de sueldo . No se encontró información sobre la acreditación del almuerzo en Chile. ¿Te puedo ayudar con algo más, Alfonso?', 'simple_robot': 'Sí, la acreditación del almuerzo es mensual .', 'response_a': 'expected_response', 'response_b': 'simple_robot', 'evaluate_with_AOAI_result': [{'test_id': '1', 'test': 'Similarity', 'result': 0, 'reason': 'Response A mentions weekly payment, while response B mentions monthly payment.'}, {'test_id': '2', 'test': 'Response A Correctness', 'result': 0, 'reason': 'Response A mentions weekly payment, which is incorrect.'}, {'test_id': '3', 'test': 'Response B Correctness', 'result': 0, 'reason': 'Response B mentions monthly payment, which is incorrect.'}, {'test_id': '4', 'test': 'Better response', 'result': 'B', 'reason': 'Response B is closer to the correct answer.'}, {'test_id': '5', 'test': 'Score A', 'result': '2', 'reason': 'Response A is not correct and lacks relevant information.'}, {'test_id': '6', 'test': 'Score B', 'result': '3', 'reason': 'Response B is not correct and lacks relevant information.'}]}]\n"
     ]
    }
   ],
   "source": [
    "print(data)"
   ]
  },
  {
   "cell_type": "code",
   "execution_count": 11,
   "id": "2090efb2",
   "metadata": {},
   "outputs": [
    {
     "data": {
      "text/plain": [
       "['1', '2', '3', '4', '5']"
      ]
     },
     "execution_count": 11,
     "metadata": {},
     "output_type": "execute_result"
    }
   ],
   "source": [
    "x_values = [item[\"id_question\"] for item in data]\n",
    "x_values"
   ]
  },
  {
   "cell_type": "code",
   "execution_count": 13,
   "id": "f4ddd7c6",
   "metadata": {},
   "outputs": [
    {
     "data": {
      "text/plain": [
       "[0, 0, 1, 0, 0]"
      ]
     },
     "execution_count": 13,
     "metadata": {},
     "output_type": "execute_result"
    }
   ],
   "source": [
    "y_values = [item[\"evaluate_with_AOAI_result\"][0][\"result\"] for item in data]\n",
    "y_values"
   ]
  },
  {
   "cell_type": "code",
   "execution_count": 15,
   "id": "27f1c3e6",
   "metadata": {},
   "outputs": [
    {
     "data": {
      "text/plain": [
       "['Similarity', 'Similarity', 'Similarity', 'Similarity', 'Similarity']"
      ]
     },
     "execution_count": 15,
     "metadata": {},
     "output_type": "execute_result"
    }
   ],
   "source": [
    "labels = [item[\"evaluate_with_AOAI_result\"][0][\"test\"] for item in data]\n",
    "labels"
   ]
  },
  {
   "cell_type": "code",
   "execution_count": 17,
   "id": "2e8fef50",
   "metadata": {},
   "outputs": [],
   "source": [
    "import pandas as pd\n",
    "import matplotlib.pyplot as plt\n",
    "\n",
    "df = pd.DataFrame(json_data[\"questions_answers\"])"
   ]
  },
  {
   "cell_type": "code",
   "execution_count": 18,
   "id": "4db02537",
   "metadata": {},
   "outputs": [
    {
     "data": {
      "text/html": [
       "<div>\n",
       "<style scoped>\n",
       "    .dataframe tbody tr th:only-of-type {\n",
       "        vertical-align: middle;\n",
       "    }\n",
       "\n",
       "    .dataframe tbody tr th {\n",
       "        vertical-align: top;\n",
       "    }\n",
       "\n",
       "    .dataframe thead th {\n",
       "        text-align: right;\n",
       "    }\n",
       "</style>\n",
       "<table border=\"1\" class=\"dataframe\">\n",
       "  <thead>\n",
       "    <tr style=\"text-align: right;\">\n",
       "      <th></th>\n",
       "      <th>id_question</th>\n",
       "      <th>question</th>\n",
       "      <th>expected_response</th>\n",
       "      <th>tags</th>\n",
       "      <th>complex_robot</th>\n",
       "      <th>simple_robot</th>\n",
       "      <th>response_a</th>\n",
       "      <th>response_b</th>\n",
       "      <th>evaluate_with_AOAI_result</th>\n",
       "    </tr>\n",
       "  </thead>\n",
       "  <tbody>\n",
       "    <tr>\n",
       "      <th>0</th>\n",
       "      <td>1</td>\n",
       "      <td>¿Cuáles son las ventajas de trabajar en Baufest?</td>\n",
       "      <td>Estimado Fulanito Garza, una de las tantas ven...</td>\n",
       "      <td>general</td>\n",
       "      <td>Baufest ofrece una cultura laboral que se enfo...</td>\n",
       "      <td>Baufest ofrece una cultura laboral basada en p...</td>\n",
       "      <td>expected_response</td>\n",
       "      <td>simple_robot</td>\n",
       "      <td>[{'test_id': '1', 'test': 'Similarity', 'resul...</td>\n",
       "    </tr>\n",
       "    <tr>\n",
       "      <th>1</th>\n",
       "      <td>2</td>\n",
       "      <td>¿Se puede cambiar el rango de horario una vez ...</td>\n",
       "      <td>Sí, pero se requiere que el rango de horario l...</td>\n",
       "      <td>antitráfico</td>\n",
       "      <td>Sí, es posible cambiar el rango de horario una...</td>\n",
       "      <td>La información solicitada no se encuentra en l...</td>\n",
       "      <td>expected_response</td>\n",
       "      <td>simple_robot</td>\n",
       "      <td>[{'test_id': '1', 'test': 'Similarity', 'resul...</td>\n",
       "    </tr>\n",
       "    <tr>\n",
       "      <th>2</th>\n",
       "      <td>3</td>\n",
       "      <td>Mi escritura o contrato no está a mi nombre. ¿...</td>\n",
       "      <td>Si, puedes presentar el contrato o escritura a...</td>\n",
       "      <td>bau home</td>\n",
       "      <td>La información solicitada no se encuentra en l...</td>\n",
       "      <td>Sí, puedes presentar el contrato o escritura a...</td>\n",
       "      <td>expected_response</td>\n",
       "      <td>simple_robot</td>\n",
       "      <td>[{'test_id': '1', 'test': 'Similarity', 'resul...</td>\n",
       "    </tr>\n",
       "    <tr>\n",
       "      <th>3</th>\n",
       "      <td>4</td>\n",
       "      <td>¿Cómo obtengo mi almuerzo o lunch?</td>\n",
       "      <td>A través de la App de Pedidos ya (Menú/Pedidos...</td>\n",
       "      <td>bau lunch</td>\n",
       "      <td>Para obtener tu almuerzo o lunch, debes seguir...</td>\n",
       "      <td>Depende del país en el que te encuentres. Si e...</td>\n",
       "      <td>expected_response</td>\n",
       "      <td>simple_robot</td>\n",
       "      <td>[{'test_id': '1', 'test': 'Similarity', 'resul...</td>\n",
       "    </tr>\n",
       "    <tr>\n",
       "      <th>4</th>\n",
       "      <td>5</td>\n",
       "      <td>¿El almuerzo se acredita todos los días?</td>\n",
       "      <td>No la acreditación es semanal y se paga los vi...</td>\n",
       "      <td>bau lunch</td>\n",
       "      <td>La acreditación del almuerzo depende de la ubi...</td>\n",
       "      <td>Sí, la acreditación del almuerzo es mensual .</td>\n",
       "      <td>expected_response</td>\n",
       "      <td>simple_robot</td>\n",
       "      <td>[{'test_id': '1', 'test': 'Similarity', 'resul...</td>\n",
       "    </tr>\n",
       "  </tbody>\n",
       "</table>\n",
       "</div>"
      ],
      "text/plain": [
       "  id_question                                           question  \\\n",
       "0           1   ¿Cuáles son las ventajas de trabajar en Baufest?   \n",
       "1           2  ¿Se puede cambiar el rango de horario una vez ...   \n",
       "2           3  Mi escritura o contrato no está a mi nombre. ¿...   \n",
       "3           4                 ¿Cómo obtengo mi almuerzo o lunch?   \n",
       "4           5           ¿El almuerzo se acredita todos los días?   \n",
       "\n",
       "                                   expected_response         tags  \\\n",
       "0  Estimado Fulanito Garza, una de las tantas ven...      general   \n",
       "1  Sí, pero se requiere que el rango de horario l...  antitráfico   \n",
       "2  Si, puedes presentar el contrato o escritura a...     bau home   \n",
       "3  A través de la App de Pedidos ya (Menú/Pedidos...    bau lunch   \n",
       "4  No la acreditación es semanal y se paga los vi...    bau lunch   \n",
       "\n",
       "                                       complex_robot  \\\n",
       "0  Baufest ofrece una cultura laboral que se enfo...   \n",
       "1  Sí, es posible cambiar el rango de horario una...   \n",
       "2  La información solicitada no se encuentra en l...   \n",
       "3  Para obtener tu almuerzo o lunch, debes seguir...   \n",
       "4  La acreditación del almuerzo depende de la ubi...   \n",
       "\n",
       "                                        simple_robot         response_a  \\\n",
       "0  Baufest ofrece una cultura laboral basada en p...  expected_response   \n",
       "1  La información solicitada no se encuentra en l...  expected_response   \n",
       "2  Sí, puedes presentar el contrato o escritura a...  expected_response   \n",
       "3  Depende del país en el que te encuentres. Si e...  expected_response   \n",
       "4      Sí, la acreditación del almuerzo es mensual .  expected_response   \n",
       "\n",
       "     response_b                          evaluate_with_AOAI_result  \n",
       "0  simple_robot  [{'test_id': '1', 'test': 'Similarity', 'resul...  \n",
       "1  simple_robot  [{'test_id': '1', 'test': 'Similarity', 'resul...  \n",
       "2  simple_robot  [{'test_id': '1', 'test': 'Similarity', 'resul...  \n",
       "3  simple_robot  [{'test_id': '1', 'test': 'Similarity', 'resul...  \n",
       "4  simple_robot  [{'test_id': '1', 'test': 'Similarity', 'resul...  "
      ]
     },
     "execution_count": 18,
     "metadata": {},
     "output_type": "execute_result"
    }
   ],
   "source": [
    "df"
   ]
  },
  {
   "cell_type": "code",
   "execution_count": 19,
   "id": "59aa1718",
   "metadata": {},
   "outputs": [],
   "source": [
    "x_values = df['id_question']"
   ]
  },
  {
   "cell_type": "code",
   "execution_count": 20,
   "id": "31d10e03",
   "metadata": {},
   "outputs": [
    {
     "data": {
      "text/plain": [
       "0    1\n",
       "1    2\n",
       "2    3\n",
       "3    4\n",
       "4    5\n",
       "Name: id_question, dtype: object"
      ]
     },
     "execution_count": 20,
     "metadata": {},
     "output_type": "execute_result"
    }
   ],
   "source": [
    "x_values"
   ]
  },
  {
   "cell_type": "code",
   "execution_count": 27,
   "id": "fed3bf22",
   "metadata": {},
   "outputs": [
    {
     "data": {
      "text/plain": [
       "0    True\n",
       "1    True\n",
       "2    True\n",
       "3    True\n",
       "4    True\n",
       "Name: evaluate_with_AOAI_result, dtype: bool"
      ]
     },
     "execution_count": 27,
     "metadata": {},
     "output_type": "execute_result"
    }
   ],
   "source": [
    "df['evaluate_with_AOAI_result'].apply(lambda x: any(test['test_id'] == target_test_id for test in x))"
   ]
  },
  {
   "cell_type": "code",
   "execution_count": 29,
   "id": "c636731f",
   "metadata": {},
   "outputs": [
    {
     "data": {
      "text/plain": [
       "0    Similarity\n",
       "1    Similarity\n",
       "2    Similarity\n",
       "3    Similarity\n",
       "4    Similarity\n",
       "Name: evaluate_with_AOAI_result, dtype: object"
      ]
     },
     "execution_count": 29,
     "metadata": {},
     "output_type": "execute_result"
    }
   ],
   "source": [
    "df['evaluate_with_AOAI_result'].apply(lambda x: next(item['test'] for item in x if item['test_id'] == '1'))"
   ]
  },
  {
   "cell_type": "code",
   "execution_count": 30,
   "id": "f4d85e6f",
   "metadata": {},
   "outputs": [
    {
     "name": "stdout",
     "output_type": "stream",
     "text": [
      "0    [{'test_id': '1', 'test': 'Similarity', 'resul...\n",
      "1    [{'test_id': '1', 'test': 'Similarity', 'resul...\n",
      "2    [{'test_id': '1', 'test': 'Similarity', 'resul...\n",
      "3    [{'test_id': '1', 'test': 'Similarity', 'resul...\n",
      "4    [{'test_id': '1', 'test': 'Similarity', 'resul...\n"
     ]
    },
    {
     "data": {
      "text/plain": [
       "False"
      ]
     },
     "execution_count": 30,
     "metadata": {},
     "output_type": "execute_result"
    }
   ],
   "source": [
    "print(df_filtered['evaluate_with_AOAI_result'].to_string())\n",
    "\n",
    "df['evaluate_with_AOAI_result'].empty"
   ]
  },
  {
   "cell_type": "code",
   "execution_count": 42,
   "id": "39f6ce9e",
   "metadata": {},
   "outputs": [],
   "source": [
    "\n",
    "\n",
    "def plot_bar_chart_for_test(json_data, target_test_id):\n",
    "    df = pd.DataFrame(json_data[\"questions_answers\"])\n",
    "    if df.empty: \n",
    "        print(f\"There is no data for 'questions_answers'\")\n",
    "    if df['evaluate_with_AOAI_result'].empty:\n",
    "        print(f\"There is no data for 'evaluate_with_AOAI_result'\")\n",
    "        \n",
    "    x_values = df['id_question']\n",
    "    y_values = df['evaluate_with_AOAI_result'].apply(lambda x: next(item['result'] for item in x if item['test_id'] == target_test_id))\n",
    "    labels = df['evaluate_with_AOAI_result'].apply(lambda x: next(item['test'] for item in x if item['test_id'] == target_test_id))\n",
    "\n",
    "    # Crear la gráfica de barras\n",
    "    plt.bar(x_values, y_values, color='blue')\n",
    "    plt.xlabel('Pregunta')\n",
    "    plt.ylabel('Evaluación')\n",
    "    plt.title(f\"{df['response_a'].iloc[0]} vs {df['response_b'].iloc[0]}. Test: {labels.iloc[0]}\")\n",
    "    plt.suptitle(\"subtitle\", y=1.02, fontsize=12)\n",
    "    \n",
    "    # Mostrar la gráfica\n",
    "    plt.show()"
   ]
  },
  {
   "cell_type": "code",
   "execution_count": 43,
   "id": "c6c253fd",
   "metadata": {},
   "outputs": [
    {
     "data": {
      "image/png": "[encoded data removed]",
      "text/plain": [
       "<Figure size 640x480 with 1 Axes>"
      ]
     },
     "metadata": {},
     "output_type": "display_data"
    }
   ],
   "source": [
    "plot_bar_chart_for_test(json_data, target_test_id=\"2\")\n"
   ]
  },
  {
   "cell_type": "code",
   "execution_count": 44,
   "id": "182011d6",
   "metadata": {},
   "outputs": [
    {
     "data": {
      "image/png": "[encoded data removed]",
      "text/plain": [
       "<Figure size 640x480 with 1 Axes>"
      ]
     },
     "metadata": {},
     "output_type": "display_data"
    }
   ],
   "source": [
    "import matplotlib.pyplot as plt\n",
    "\n",
    "# Datos de ejemplo para las series A y B\n",
    "categories = ['Category 1', 'Category 2', 'Category 3', 'Category 4']\n",
    "series_A = [25, 40, 30, 35]\n",
    "series_B = [30, 35, 20, 25]\n",
    "\n",
    "# Crear la gráfica de barras\n",
    "bar_width = 0.35\n",
    "index = range(len(categories))\n",
    "\n",
    "fig, ax = plt.subplots()\n",
    "bar_A = ax.bar(index, series_A, bar_width, label='Serie A', color='blue')\n",
    "bar_B = ax.bar([i + bar_width for i in index], series_B, bar_width, label='Serie B', color='orange')\n",
    "\n",
    "# Configurar etiquetas y título\n",
    "ax.set_xlabel('Categorías')\n",
    "ax.set_ylabel('Valores')\n",
    "ax.set_title('Gráfica de Barras con Series A y B')\n",
    "ax.set_xticks([i + bar_width / 2 for i in index])\n",
    "ax.set_xticklabels(categories)\n",
    "ax.legend()\n",
    "\n",
    "# Mostrar la gráfica\n",
    "plt.show()\n"
   ]
  },
  {
   "cell_type": "code",
   "execution_count": 47,
   "id": "24e0b7d2",
   "metadata": {},
   "outputs": [
    {
     "data": {
      "image/png": "[encoded data removed]",
      "text/plain": [
       "<Figure size 640x480 with 1 Axes>"
      ]
     },
     "metadata": {},
     "output_type": "display_data"
    }
   ],
   "source": [
    "import matplotlib.pyplot as plt\n",
    "import numpy as np\n",
    "\n",
    "# Datos de ejemplo para las cinco series A, B, C, D y E\n",
    "categories = ['Category 1', 'Category 2', 'Category 3', 'Category 4']\n",
    "series_A = [25, 40, 30, 35]\n",
    "series_B = [30, 35, 20, 25]\n",
    "series_C = [15, 20, 25, 30]\n",
    "series_D = [10, 15, 18, 22]\n",
    "series_E = [28, 32, 24, 20]\n",
    "\n",
    "# Crear la gráfica de barras\n",
    "bar_width = 0.15\n",
    "index = np.arange(len(categories))\n",
    "\n",
    "fig, ax = plt.subplots()\n",
    "bar_A = ax.bar(index, series_A, bar_width, label='Serie A', color='blue')\n",
    "bar_B = ax.bar(index + bar_width, series_B, bar_width, label='Serie B', color='orange')\n",
    "bar_C = ax.bar(index + 2 * bar_width, series_C, bar_width, label='Serie C', color='green')\n",
    "bar_D = ax.bar(index + 3 * bar_width, series_D, bar_width, label='Serie D', color='red')\n",
    "bar_E = ax.bar(index + 4 * bar_width, series_E, bar_width, label='Serie E', color='purple')\n",
    "\n",
    "# Configurar etiquetas y título\n",
    "ax.set_xlabel('Categorías')\n",
    "ax.set_ylabel('Valores')\n",
    "ax.set_title('Gráfica de Barras con Series A, B, C, D y E')\n",
    "ax.set_xticks(index + 2 * bar_width)\n",
    "ax.set_xticklabels(categories)\n",
    "ax.legend()\n",
    "\n",
    "# Mostrar la gráfica\n",
    "plt.show()\n"
   ]
  },
  {
   "cell_type": "code",
   "execution_count": 81,
   "id": "6fd0c391",
   "metadata": {},
   "outputs": [],
   "source": [
    "def extract_data_for_bar(json_data, target_test_id):\n",
    "    df = pd.DataFrame(json_data[\"questions_answers\"])\n",
    "    if df.empty: \n",
    "        print(f\"There is no data for 'questions_answers'\")\n",
    "    if df['evaluate_with_AOAI_result'].empty:\n",
    "        print(f\"There is no data for 'evaluate_with_AOAI_result'\")\n",
    "        \n",
    "    x_values = df['id_question']\n",
    "    y_values_str = df['evaluate_with_AOAI_result'].apply(lambda x: next(item['result'] for item in x if item['test_id'] == target_test_id))\n",
    "    labels = df['evaluate_with_AOAI_result'].apply(lambda x: next(item['test'] for item in x if item['test_id'] == target_test_id))\n",
    "    \n",
    "    y_values = pd.to_numeric(y_values_str, errors='coerce').astype(int)\n",
    "    \n",
    "    return {\n",
    "        'categories':x_values, \n",
    "        'series':y_values, \n",
    "        'label':labels.iloc[0], \n",
    "        'response_a':df['response_a'].iloc[0], \n",
    "        'response_b':df['response_b'].iloc[0]\n",
    "    }"
   ]
  },
  {
   "cell_type": "code",
   "execution_count": 83,
   "id": "9295094a",
   "metadata": {},
   "outputs": [
    {
     "data": {
      "text/plain": [
       "0    1\n",
       "1    1\n",
       "2    1\n",
       "3    1\n",
       "4    0\n",
       "Name: evaluate_with_AOAI_result, dtype: int32"
      ]
     },
     "execution_count": 83,
     "metadata": {},
     "output_type": "execute_result"
    }
   ],
   "source": [
    "bar_data=extract_data_for_bar(json_data, target_test_id=\"2\")\n",
    "bar_data['series']"
   ]
  },
  {
   "cell_type": "code",
   "execution_count": 88,
   "id": "005e95d0",
   "metadata": {},
   "outputs": [],
   "source": [
    "import numpy as np\n",
    "\n",
    "def show_plot_similarity_correctnes_score(json_data):\n",
    "    \n",
    "    similarity_data = extract_data_for_bar(json_data, target_test_id=\"1\")\n",
    "    correctness_a = extract_data_for_bar(json_data, target_test_id=\"2\")\n",
    "    correctness_b = extract_data_for_bar(json_data, target_test_id=\"3\")\n",
    "    score_a = extract_data_for_bar(json_data, target_test_id=\"5\")\n",
    "    score_b = extract_data_for_bar(json_data, target_test_id=\"6\")\n",
    "    \n",
    "    categories = similarity_data['categories']\n",
    "    series_A = similarity_data['series']\n",
    "    series_B = correctness_a['series']\n",
    "    series_C = correctness_b['series']\n",
    "    series_D = np.array(score_a['series'])/10\n",
    "    series_E = np.array(score_b['series'])/10\n",
    "    \n",
    "    # Crear la gráfica de barras\n",
    "    bar_width = 0.15\n",
    "    index = np.arange(len(categories))\n",
    "    \n",
    "    fig, ax = plt.subplots()\n",
    "    bar_A = ax.bar(index, series_A, bar_width, label=f\"{similarity_data['label']}\", color='blue')\n",
    "    bar_B = ax.bar(index + bar_width, series_B, bar_width, label=f\"{correctness_a['label']}\", color='orange')\n",
    "    bar_C = ax.bar(index + 2 * bar_width, series_C, bar_width, label=f\"{correctness_b['label']}\", color='green')\n",
    "    bar_D = ax.bar(index + 3 * bar_width, series_D, bar_width, label=f\"{score_a['label']}\", color='red')\n",
    "    bar_E = ax.bar(index + 4 * bar_width, series_E, bar_width, label=f\"{score_b['label']}\", color='purple')\n",
    "    \n",
    "    # Configurar etiquetas y título\n",
    "    ax.set_xlabel('Preguntas')\n",
    "    ax.set_ylabel('Evaluación')\n",
    "    ax.set_title(f\"A: {similarity_data['response_a']} vs B: {similarity_data['response_b']}\")\n",
    "    ax.set_xticks(index + 2 * bar_width)\n",
    "    ax.set_xticklabels(categories)\n",
    "    ax.legend()\n",
    "\n",
    "    # Mostrar la gráfica\n",
    "    plt.show()\n"
   ]
  },
  {
   "cell_type": "code",
   "execution_count": 89,
   "id": "f1357466",
   "metadata": {},
   "outputs": [
    {
     "data": {
      "image/png": "[encoded data removed]",
      "text/plain": [
       "<Figure size 640x480 with 1 Axes>"
      ]
     },
     "metadata": {},
     "output_type": "display_data"
    }
   ],
   "source": [
    "show_plot_similarity_correctnes_score(json_data)"
   ]
  },
  {
   "cell_type": "code",
   "execution_count": null,
   "id": "362d593b",
   "metadata": {},
   "outputs": [],
   "source": []
  }
 ],
 "metadata": {
  "kernelspec": {
   "display_name": "Python 3 (ipykernel)",
   "language": "python",
   "name": "python3"
  },
  "language_info": {
   "codemirror_mode": {
    "name": "ipython",
    "version": 3
   },
   "file_extension": ".py",
   "mimetype": "text/x-python",
   "name": "python",
   "nbconvert_exporter": "python",
   "pygments_lexer": "ipython3",
   "version": "3.11.5"
  }
 },
 "nbformat": 4,
 "nbformat_minor": 5
}
