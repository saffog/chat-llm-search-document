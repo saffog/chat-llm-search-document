{
 "cells": [
  {
   "cell_type": "markdown",
   "id": "c65ab7fd",
   "metadata": {},
   "source": [
    "# Exploración de una manera gráfica de mostrar mejores respuestas y demas"
   ]
  },
  {
   "cell_type": "code",
   "execution_count": 1,
   "id": "d85e2b45",
   "metadata": {},
   "outputs": [],
   "source": [
    "import json"
   ]
  },
  {
   "cell_type": "markdown",
   "id": "50205837",
   "metadata": {},
   "source": [
    "Reusaremos el archivo generado: People_Argentina_2years_v0_2_expert_vs_simple"
   ]
  },
  {
   "cell_type": "code",
   "execution_count": 4,
   "id": "a170f6d4",
   "metadata": {},
   "outputs": [],
   "source": [
    "filename_to_eval = \"People_Argentina_2years_v0_2_expert_vs_simple\"\n",
    "filename_to_read =  f\"{filename_to_eval}\"\n",
    "with open(filename_to_read,encoding='utf-8') as file_read:\n",
    "    datos = json.load(file_read)\n"
   ]
  },
  {
   "cell_type": "code",
   "execution_count": null,
   "id": "3da3dd6f",
   "metadata": {},
   "outputs": [],
   "source": []
  }
 ],
 "metadata": {
  "kernelspec": {
   "display_name": "Python 3 (ipykernel)",
   "language": "python",
   "name": "python3"
  },
  "language_info": {
   "codemirror_mode": {
    "name": "ipython",
    "version": 3
   },
   "file_extension": ".py",
   "mimetype": "text/x-python",
   "name": "python",
   "nbconvert_exporter": "python",
   "pygments_lexer": "ipython3",
   "version": "3.11.5"
  }
 },
 "nbformat": 4,
 "nbformat_minor": 5
}
