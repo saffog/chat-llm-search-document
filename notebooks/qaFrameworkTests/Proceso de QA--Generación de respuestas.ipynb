{
 "cells": [
  {
   "cell_type": "markdown",
   "id": "882759cf",
   "metadata": {},
   "source": [
    "# Proceso de QA para evaluar \"prompts\" y sus respuestas versus respuesta esperada\n",
    "\n",
    "## Primera parte: Generación de respuestas\n",
    "\n",
    "El objetivo de esta sección es generar las respuestas para diferentes prompts."
   ]
  },
  {
   "cell_type": "markdown",
   "id": "4a78bf57",
   "metadata": {},
   "source": [
    "__Requisitos:__ Importamos las siguientes librerías"
   ]
  },
  {
   "cell_type": "code",
   "execution_count": 1,
   "id": "a5af7632",
   "metadata": {},
   "outputs": [],
   "source": [
    "import sys\n",
    "sys.path.append('../lib')\n",
    "\n",
    "import qagenextutils"
   ]
  },
  {
   "cell_type": "markdown",
   "id": "146caccf",
   "metadata": {},
   "source": [
    "__Paso 1:__ Revisamos las variables de ambiente:"
   ]
  },
  {
   "cell_type": "code",
   "execution_count": 6,
   "id": "3b672470",
   "metadata": {},
   "outputs": [
    {
     "name": "stdout",
     "output_type": "stream",
     "text": [
      "No variables to print\n",
      "Nothing to print\n"
     ]
    }
   ],
   "source": [
    "qagenextutils.print_required_variables(debug=False)"
   ]
  },
  {
   "cell_type": "markdown",
   "id": "58a12e41",
   "metadata": {},
   "source": [
    "__Paso 2:__ Definimos el prompt que usaremos para nuestras pruebas, si este va ser distinto al que usa por defecto en la variable _BAUCHAT_TEMPLATE_USER_MESSAGE_"
   ]
  },
  {
   "cell_type": "markdown",
   "id": "d815f185",
   "metadata": {},
   "source": [
    "En nuestro caso usaremos uno que le da mayor detalle al modelo y que solicita cierto comportamiento"
   ]
  },
  {
   "cell_type": "code",
   "execution_count": 3,
   "id": "60629732",
   "metadata": {},
   "outputs": [
    {
     "name": "stdout",
     "output_type": "stream",
     "text": [
      "Responde la pregunta delimitada por ###Question###. \n",
      "Tu respuesta debe ser en español informal.\n",
      "Para responder toma en cuenta las siguientes recomendaciones: \n",
      "Recomendación 1 : Utiliza los datos del usuario delimitados por ###user_data## para complementar tu respuesta.\n",
      "Recomendación 2 : Usa el 'Nombre' de los datos del usuario para referirte al usuario en tu respuesta por su nombre.\n",
      "Recomendación 3 : Usa la 'Ubicación' de los datos del usuario para filtrar tu respuesta usando la ubicación del usuario.\n",
      "###user_data###\n",
      "Nombre: Alfonso Xochipa \n",
      "Antigüedad: 2 años \n",
      "Rol: Software developer\n",
      "Ubicación: Argentina \n",
      "###user_data###\n",
      "###Question### {user_question} ###Question###\n"
     ]
    }
   ],
   "source": [
    "# Sobrescribimos el template\n",
    "qagenextutils.BAUCHAT_TEMPLATE_USER_MESSAGE = \"\"\"Responde la pregunta delimitada por ###Question###. \n",
    "Tu respuesta debe ser en español informal.\n",
    "Para responder toma en cuenta las siguientes recomendaciones: \n",
    "Recomendación 1 : Utiliza los datos del usuario delimitados por ###user_data## para complementar tu respuesta.\n",
    "Recomendación 2 : Usa el 'Nombre' de los datos del usuario para referirte al usuario en tu respuesta por su nombre.\n",
    "Recomendación 3 : Usa la 'Ubicación' de los datos del usuario para filtrar tu respuesta usando la ubicación del usuario.\n",
    "{template_user_data}\n",
    "{question_placeholder}\"\"\"\n",
    "\n",
    "template_user_data = \"\"\"###user_data###\n",
    "Nombre: Alfonso Xochipa \n",
    "Antigüedad: 2 años \n",
    "Rol: Software developer\n",
    "Ubicación: Argentina \n",
    "###user_data###\"\"\"\n",
    "\n",
    "# Es importante incluir el placeholder: {user_question} ya que es ahí donde se inyectará la pregunta\n",
    "qagenextutils.BAUCHAT_TEMPLATE_USER_MESSAGE = qagenextutils.BAUCHAT_TEMPLATE_USER_MESSAGE.format(\n",
    "    template_user_data=template_user_data,\n",
    "    question_placeholder=\"###Question### {user_question} ###Question###\")\n",
    "\n",
    "print(qagenextutils.BAUCHAT_TEMPLATE_USER_MESSAGE)"
   ]
  },
  {
   "cell_type": "markdown",
   "id": "b3d9db0f",
   "metadata": {},
   "source": [
    "### Importante: Recordar siempre incluir en el template el placeholder {user_question} de lo contrario no se inyectará la pregunta para que el modelo responda"
   ]
  },
  {
   "cell_type": "markdown",
   "id": "8e331f2d",
   "metadata": {},
   "source": [
    "__Paso 3:__ Procedemos a generar las respuestas, identificando el archivo con las preguntas, para ejemplo de este proceso usaremos: People_Argentina_2years_short.json"
   ]
  },
  {
   "cell_type": "code",
   "execution_count": 4,
   "id": "22b7fa1c",
   "metadata": {},
   "outputs": [
    {
     "data": {
      "text/plain": [
       "'People_Argentina_2years_v0_1.json'"
      ]
     },
     "execution_count": 4,
     "metadata": {},
     "output_type": "execute_result"
    }
   ],
   "source": [
    "# Nótese que el nombre del archivo no incluye la extensión.\n",
    "filename_to_test = \"People_Argentina_2years_short.json\"\n",
    "qagenextutils.generate_robot_responses_with_chat_completion(filename_to_test,\n",
    "                                                            completion_json_field=\"complex_robot\",\n",
    "                                                            filename_result=\"People_Argentina_2years_v0_1.json\")"
   ]
  },
  {
   "cell_type": "markdown",
   "id": "c083cea2",
   "metadata": {},
   "source": [
    "__Paso 3.n:__ Podemos probar otros prompts e ir agregando a nuestro resultado final."
   ]
  },
  {
   "cell_type": "code",
   "execution_count": 5,
   "id": "23a20a37",
   "metadata": {},
   "outputs": [
    {
     "data": {
      "text/plain": [
       "'People_Argentina_2years_v0_2.json'"
      ]
     },
     "execution_count": 5,
     "metadata": {},
     "output_type": "execute_result"
    }
   ],
   "source": [
    "qagenextutils.BAUCHAT_TEMPLATE_USER_MESSAGE = \"\"\"Responde la pregunta delimitada por ###Question###. Tu respuesta debe ser en español informal.\n",
    "###Question### {user_question} ###Question###\"\"\"\n",
    "\n",
    "\n",
    "filename_to_test = \"People_Argentina_2years_v0_1.json\"\n",
    "qagenextutils.generate_robot_responses_with_chat_completion(filename_to_test,\n",
    "                                                            completion_json_field=\"simple_robot\",\n",
    "                                                            filename_result=\"People_Argentina_2years_v0_2.json\")"
   ]
  },
  {
   "cell_type": "code",
   "execution_count": null,
   "id": "8c30d9df",
   "metadata": {},
   "outputs": [],
   "source": []
  }
 ],
 "metadata": {
  "kernelspec": {
   "display_name": "Python 3 (ipykernel)",
   "language": "python",
   "name": "python3"
  },
  "language_info": {
   "codemirror_mode": {
    "name": "ipython",
    "version": 3
   },
   "file_extension": ".py",
   "mimetype": "text/x-python",
   "name": "python",
   "nbconvert_exporter": "python",
   "pygments_lexer": "ipython3",
   "version": "3.11.5"
  }
 },
 "nbformat": 4,
 "nbformat_minor": 5
}
