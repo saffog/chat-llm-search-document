{
 "cells": [
  {
   "cell_type": "markdown",
   "id": "9e691c91",
   "metadata": {},
   "source": [
    "# Exploración de un framework para generar respuestas y evaluarlas.\n",
    "\n",
    "El objetivo es hacer pruebas con la librería qagenextutils"
   ]
  },
  {
   "cell_type": "code",
   "execution_count": 1,
   "id": "7155cc11",
   "metadata": {},
   "outputs": [],
   "source": [
    "import sys\n",
    "sys.path.append('../lib')\n",
    "\n",
    "import qagenextutils"
   ]
  },
  {
   "cell_type": "markdown",
   "id": "cfc7db37",
   "metadata": {},
   "source": [
    "Usando los valores por defecto"
   ]
  },
  {
   "cell_type": "code",
   "execution_count": 2,
   "id": "ddf11c5a",
   "metadata": {},
   "outputs": [
    {
     "name": "stdout",
     "output_type": "stream",
     "text": [
      "{\n",
      "    \"template_to_test\": \"{user_question}\",\n",
      "    \"results\": [\n",
      "        {\n",
      "            \"id_question\": \"1\",\n",
      "            \"question\": \"\\u00bfCu\\u00e1les son las ventajas de trabajar en Baufest?\",\n",
      "            \"expected_response\": \"Estimado Fulanito Garza, una de las tantas ventajas de trabar en Baufest son las siguientes: BAU Dollar, donde recibes el beneficio del 20% de tu salario en d\\u00f3lares; BAU Health, reintegro del costo del gimnasio u otras actividades deportivas; BAU net, recibe una bonificaci\\u00f3n del costo del servicio de internet; BAU Lunch, Baufest te paga el lunch; BAU Home, se te reintegra el costo de la mudanza y Anti tr\\u00e1fico, tienes la posibilidad de ajustar tu horario laboral para evitar el tr\\u00e1fico.\",\n",
      "            \"tags\": \"general\",\n",
      "            \"robot_answer\": \"Baufest ofrece una cultura de trabajo basada en pilares que definen su forma de trabajar y ver las cosas, generando valor agregado [doc1]. Entre los pilares se encuentran la cercan\\u00eda, la creatividad, la calidad y el compromiso . Adem\\u00e1s, Baufest se compromete a reconocer y promover las habilidades de sus integrantes, poniendo a su disposici\\u00f3n medios de formaci\\u00f3n y actualizaci\\u00f3n de conocimientos [doc3]. Tambi\\u00e9n se busca generar un lugar de trabajo libre de maltrato y violencia, no permitiendo la discriminaci\\u00f3n, el acoso o el maltrato de cualquier tipo [doc2][doc3]. En cuanto a la calidad de vida profesional, Baufest se compromete a garantizar que mejore y no se degrade la calidad de la vida personal y profesional de sus integrantes [doc2].\"\n",
      "        },\n",
      "        {\n",
      "            \"id_question\": \"2\",\n",
      "            \"question\": \"\\u00bfSe puede cambiar el rango de horario una vez que eleg\\u00ed uno?\",\n",
      "            \"expected_response\": \"S\\u00ed, pero se requiere que el rango de horario laboral se mantenga por un mes\",\n",
      "            \"tags\": \"antitr\\u00e1fico\",\n",
      "            \"robot_answer\": \"S\\u00ed, es posible cambiar el rango de horario una vez que ya se ha optado por uno, aunque se espera que se mantenga estable por al menos un mes para una organizaci\\u00f3n fluida [doc1].\"\n",
      "        },\n",
      "        {\n",
      "            \"id_question\": \"3\",\n",
      "            \"question\": \"Mi escritura o contrato no est\\u00e1 a mi nombre. \\u00bfPuedo aplicar para el beneficio?\",\n",
      "            \"expected_response\": \"Si, puedes presentar el contrato o escritura al nombre de otra persona, siempre que presentes un documento legal que respalde la convivencia, por ejemplo, como un certificado de concubinato, matrimonio o uni\\u00f3n civil. Esto ayudar\\u00e1 a garantizar que tu solicitud sea considerada de manera adecuada\",\n",
      "            \"tags\": \"bau home\",\n",
      "            \"robot_answer\": \"S\\u00ed, puedes presentar el contrato o escritura al nombre de otra persona, siempre que presentes un documento legal que respalde la convivencia, por ejemplo, como un certificado de concubinato, matrimonio o uni\\u00f3n civil. Esto ayudar\\u00e1 a garantizar que tu solicitud sea considerada de manera adecuada [doc1].\"\n",
      "        },\n",
      "        {\n",
      "            \"id_question\": \"4\",\n",
      "            \"question\": \"\\u00bfC\\u00f3mo obtengo mi almuerzo o lunch?\",\n",
      "            \"expected_response\": \"A trav\\u00e9s de la App de Pedidos ya (Men\\u00fa/PedidosYa Pagos) ver\\u00e1s las acreditaciones que tenes disponible para usar\",\n",
      "            \"tags\": \"bau lunch\",\n",
      "            \"robot_answer\": \"Depende del pa\\u00eds en el que te encuentres y del programa al que est\\u00e9s aplicando. Si est\\u00e1s en Argentina o Per\\u00fa, debes registrarte en la App de PedidosYa y ver\\u00e1s las acreditaciones disponibles para usar [doc1]. Si est\\u00e1s en Chile, debes utilizar los Tickets Restaurant emitidos por Edenred [doc1]. Si est\\u00e1s en Uruguay, se te acreditar\\u00e1 un importe mensual destinado para este fin y lo ver\\u00e1s reflejado en tu recibo de sueldo [doc1]. Recuerda que en cada programa existen requisitos espec\\u00edficos para poder acceder al beneficio .\"\n",
      "        },\n",
      "        {\n",
      "            \"id_question\": \"5\",\n",
      "            \"question\": \"\\u00bfEl almuerzo se acredita todos los d\\u00edas?\",\n",
      "            \"expected_response\": \"No la acreditaci\\u00f3n es semanal y se paga los viernes\",\n",
      "            \"tags\": \"bau lunch\",\n",
      "            \"robot_answer\": \"Depende del pa\\u00eds en el que te encuentres. En Argentina y Per\\u00fa, la acreditaci\\u00f3n del almuerzo es semanal, los viernes . En Chile y Uruguay, la acreditaci\\u00f3n es mensual [doc1]. Por lo tanto, en Chile y Uruguay, el almuerzo no se acredita todos los d\\u00edas.\"\n",
      "        }\n",
      "    ]\n",
      "}\n"
     ]
    }
   ],
   "source": [
    "filename_to_test = \"People_Argentina_2years_short\"\n",
    "qagenextutils.generate_robot_responses_with_chat_completion(filename_to_test)"
   ]
  },
  {
   "cell_type": "markdown",
   "id": "f4c6c2fc",
   "metadata": {},
   "source": [
    "Ajustando a un posible template"
   ]
  },
  {
   "cell_type": "code",
   "execution_count": 3,
   "id": "ef69a13a",
   "metadata": {},
   "outputs": [
    {
     "name": "stdout",
     "output_type": "stream",
     "text": [
      "BAUCHAT_DEBUG: \n",
      "BAUCHAT_TEMPLATE_USER_MESSAGE: Responde la pregunta delimitada por ###Question###. Tu respuesta debe ser en español informal. Para responder tu pregunta toma en cuenta las siguientes recomendaciones: Recomendación 1 : Revisa los datos del usuario delimitados por ###user_data## para complementar tu respuesta.Recomendación 2 : Usa el nombre del usuario en tu respuesta siguiendo el siguiente formato <nombre del usuario> respuesta ###user_data### Nombre:  | Antigüedad:  | Rol:  | Ubicación:  ###user_data### ###Question### {user_question} ###Question###\n",
      "cadena_final : Responde la pregunta delimitada por ###Question###. Tu respuesta debe ser en español informal. Para responder tu pregunta toma en cuenta las siguientes recomendaciones: Recomendación 1 : Revisa los datos del usuario delimitados por ###user_data## para complementar tu respuesta.Recomendación 2 : Usa el nombre del usuario en tu respuesta siguiendo el siguiente formato <nombre del usuario> respuesta ###user_data### Nombre:  | Antigüedad:  | Rol:  | Ubicación:  ###user_data### ###Question### holo ###Question###\n"
     ]
    }
   ],
   "source": [
    "# Esta sería la forma de ajustar el template usado como prompt\n",
    "qagenextutils.BAUCHAT_TEMPLATE_USER_MESSAGE = \"\"\"Responde la pregunta delimitada por ###Question###. Tu respuesta debe ser en español informal. \\\n",
    "Para responder tu pregunta toma en cuenta las siguientes recomendaciones: {template_rules} {template_user_data} {question_placeholder}\"\"\"\n",
    "\n",
    "template_rules = \"\"\"Recomendación 1 : Revisa los datos del usuario delimitados por ###user_data## para complementar tu respuesta.\\\n",
    "Recomendación 2 : Usa el nombre del usuario en tu respuesta siguiendo el siguiente formato <nombre del usuario> respuesta\"\"\"\n",
    "template_user_data = \"\"\"###user_data### Nombre:  | Antigüedad:  | Rol:  | Ubicación:  ###user_data###\"\"\"\n",
    "\n",
    "qagenextutils.BAUCHAT_TEMPLATE_USER_MESSAGE = qagenextutils.BAUCHAT_TEMPLATE_USER_MESSAGE.format(template_rules=template_rules,\n",
    "                                                   template_user_data=template_user_data,\n",
    "                                                   question_placeholder=\"###Question### {user_question} ###Question###\")\n",
    "# Vemos si la variable de la librería fue modificada, como mejora podría usarse un setter directamente.\n",
    "qagenextutils.print_required_variables()\n",
    "\n",
    "cadena_final = qagenextutils.BAUCHAT_TEMPLATE_USER_MESSAGE.format(user_question=\"holo\")\n",
    "print(f\"cadena_final : {cadena_final}\")"
   ]
  },
  {
   "cell_type": "code",
   "execution_count": 4,
   "id": "3397a8b8",
   "metadata": {},
   "outputs": [
    {
     "name": "stdout",
     "output_type": "stream",
     "text": [
      "{\n",
      "    \"template_to_test\": \"Responde la pregunta delimitada por ###Question###. Tu respuesta debe ser en espa\\u00f1ol informal. Para responder tu pregunta toma en cuenta las siguientes recomendaciones: Recomendaci\\u00f3n 1 : Revisa los datos del usuario delimitados por ###user_data## para complementar tu respuesta.Recomendaci\\u00f3n 2 : Usa el nombre del usuario en tu respuesta siguiendo el siguiente formato <nombre del usuario> respuesta ###user_data### Nombre:  | Antig\\u00fcedad:  | Rol:  | Ubicaci\\u00f3n:  ###user_data### ###Question### {user_question} ###Question###\",\n",
      "    \"results\": [\n",
      "        {\n",
      "            \"id_question\": \"1\",\n",
      "            \"question\": \"\\u00bfCu\\u00e1les son las ventajas de trabajar en Baufest?\",\n",
      "            \"expected_response\": \"Estimado Fulanito Garza, una de las tantas ventajas de trabar en Baufest son las siguientes: BAU Dollar, donde recibes el beneficio del 20% de tu salario en d\\u00f3lares; BAU Health, reintegro del costo del gimnasio u otras actividades deportivas; BAU net, recibe una bonificaci\\u00f3n del costo del servicio de internet; BAU Lunch, Baufest te paga el lunch; BAU Home, se te reintegra el costo de la mudanza y Anti tr\\u00e1fico, tienes la posibilidad de ajustar tu horario laboral para evitar el tr\\u00e1fico.\",\n",
      "            \"tags\": \"general\",\n",
      "            \"robot_answer\": \"Hola <nombre del usuario>, seg\\u00fan los documentos que tengo disponibles, Baufest tiene una cultura laboral que se enfoca en valores como la cercan\\u00eda, la creatividad, la calidad, el compromiso y la productividad . Adem\\u00e1s, se busca mejorar la calidad de vida personal y profesional de los empleados [doc2]. Tambi\\u00e9n se promueve un ambiente de trabajo libre de acoso y discriminaci\\u00f3n [doc2]. En cuanto a las ventajas de trabajar en Baufest, se destaca el enfoque en la innovaci\\u00f3n y la creatividad, as\\u00ed como la posibilidad de trabajar en desaf\\u00edos complejos y soluciones adecuadas para cada caso [doc1]. Espero que esta informaci\\u00f3n te sea \\u00fatil. ###user_data### Nombre:  | Antig\\u00fcedad:  | Rol:  | Ubicaci\\u00f3n:  ###user_data###\"\n",
      "        },\n",
      "        {\n",
      "            \"id_question\": \"2\",\n",
      "            \"question\": \"\\u00bfSe puede cambiar el rango de horario una vez que eleg\\u00ed uno?\",\n",
      "            \"expected_response\": \"S\\u00ed, pero se requiere que el rango de horario laboral se mantenga por un mes\",\n",
      "            \"tags\": \"antitr\\u00e1fico\",\n",
      "            \"robot_answer\": \"S\\u00ed, es posible cambiar el rango de horario una vez que ya se ha optado por uno [doc1]. Sin embargo, se espera que una vez que se haya elegido un rango, se mantenga estable por al menos un mes para una organizaci\\u00f3n fluida [doc1]. \\u00bfTe puedo ayudar en algo m\\u00e1s, o necesitas m\\u00e1s informaci\\u00f3n?\"\n",
      "        },\n",
      "        {\n",
      "            \"id_question\": \"3\",\n",
      "            \"question\": \"Mi escritura o contrato no est\\u00e1 a mi nombre. \\u00bfPuedo aplicar para el beneficio?\",\n",
      "            \"expected_response\": \"Si, puedes presentar el contrato o escritura al nombre de otra persona, siempre que presentes un documento legal que respalde la convivencia, por ejemplo, como un certificado de concubinato, matrimonio o uni\\u00f3n civil. Esto ayudar\\u00e1 a garantizar que tu solicitud sea considerada de manera adecuada\",\n",
      "            \"tags\": \"bau home\",\n",
      "            \"robot_answer\": \"S\\u00ed, puedes presentar el contrato o escritura al nombre de otra persona, siempre que presentes un documento legal que respalde la convivencia, por ejemplo, como un certificado de concubinato, matrimonio o uni\\u00f3n civil. Esto ayudar\\u00e1 a garantizar que tu solicitud sea considerada de manera adecuada. \\u00a1No te preocupes! Tu solicitud ser\\u00e1 considerada siempre y cuando presentes los documentos necesarios. \\u00bfTienes alguna otra pregunta, <nombre del usuario>? ###user_data###\"\n",
      "        },\n",
      "        {\n",
      "            \"id_question\": \"4\",\n",
      "            \"question\": \"\\u00bfC\\u00f3mo obtengo mi almuerzo o lunch?\",\n",
      "            \"expected_response\": \"A trav\\u00e9s de la App de Pedidos ya (Men\\u00fa/PedidosYa Pagos) ver\\u00e1s las acreditaciones que tenes disponible para usar\",\n",
      "            \"tags\": \"bau lunch\",\n",
      "            \"robot_answer\": \"Para obtener tu almuerzo o lunch, depender\\u00e1 de tu ubicaci\\u00f3n y del beneficio que tengas. Si est\\u00e1s en Argentina o Per\\u00fa, deber\\u00e1s registrarte en la App de PedidosYa y a trav\\u00e9s de ella podr\\u00e1s ver las acreditaciones que tienes disponibles para usar [doc1]. Si est\\u00e1s en Chile o Uruguay, recibir\\u00e1s un importe mensual destinado para este fin y lo ver\\u00e1s reflejado en tu recibo de sueldo [doc1]. En Chile, podr\\u00e1s obtener tu almuerzo a trav\\u00e9s de Tickets Restaurant emitidos por Edenred [doc1].\"\n",
      "        },\n",
      "        {\n",
      "            \"id_question\": \"5\",\n",
      "            \"question\": \"\\u00bfEl almuerzo se acredita todos los d\\u00edas?\",\n",
      "            \"expected_response\": \"No la acreditaci\\u00f3n es semanal y se paga los viernes\",\n",
      "            \"tags\": \"bau lunch\",\n",
      "            \"robot_answer\": \"Lo siento, pero no puedo responder a tu pregunta ya que no hay informaci\\u00f3n en los documentos que me hayan sido proporcionados que se relacione con el almuerzo. \\u00bfHay algo m\\u00e1s en lo que pueda ayudarte?\"\n",
      "        }\n",
      "    ]\n",
      "}\n"
     ]
    }
   ],
   "source": [
    "filename_to_test = \"People_Argentina_2years_short\"\n",
    "qagenextutils.generate_robot_responses_with_chat_completion(filename_to_test)"
   ]
  },
  {
   "cell_type": "code",
   "execution_count": 5,
   "id": "9f6edd2d",
   "metadata": {},
   "outputs": [
    {
     "name": "stdout",
     "output_type": "stream",
     "text": [
      "BAUCHAT_DEBUG: \n",
      "BAUCHAT_TEMPLATE_USER_MESSAGE: Responde la pregunta delimitada por ###Question###. Tu respuesta debe ser en español informal. Para responder tu pregunta toma en cuenta las siguientes recomendaciones: \n",
      "Recomendación 1 : Revisa los datos del usuario delimitados por ###user_data## para complementar tu respuesta.\n",
      "Recomendación 2 : Si cuentas con el nombre de los datos del usuario, entonces responde siguiendo el siguiente formato:\n",
      "<nombre del usuario> <respuesta>\n",
      "\n",
      "###user_data###\n",
      "Nombre:  \n",
      "Antigüedad:  \n",
      "Rol:  \n",
      "Ubicación:  \n",
      "###user_data###\n",
      "###Question### {user_question} ###Question###\n"
     ]
    }
   ],
   "source": [
    "qagenextutils.BAUCHAT_TEMPLATE_USER_MESSAGE = \"\"\"Responde la pregunta delimitada por ###Question###. Tu respuesta debe ser en español informal. \\\n",
    "Para responder tu pregunta toma en cuenta las siguientes recomendaciones: {template_rules}\n",
    "{template_user_data}\n",
    "{question_placeholder}\"\"\"\n",
    "\n",
    "template_rules = \"\"\"\n",
    "Recomendación 1 : Revisa los datos del usuario delimitados por ###user_data## para complementar tu respuesta.\n",
    "Recomendación 2 : Si cuentas con el nombre de los datos del usuario, entonces responde siguiendo el siguiente formato:\n",
    "<nombre del usuario> <respuesta>\n",
    "\"\"\"\n",
    "template_user_data = \"\"\"###user_data###\n",
    "Nombre:  \n",
    "Antigüedad:  \n",
    "Rol:  \n",
    "Ubicación:  \n",
    "###user_data###\"\"\"\n",
    "\n",
    "qagenextutils.BAUCHAT_TEMPLATE_USER_MESSAGE = qagenextutils.BAUCHAT_TEMPLATE_USER_MESSAGE.format(template_rules=template_rules,\n",
    "                                                   template_user_data=template_user_data,\n",
    "                                                   question_placeholder=\"###Question### {user_question} ###Question###\")\n",
    "qagenextutils.print_required_variables()"
   ]
  },
  {
   "cell_type": "code",
   "execution_count": 6,
   "id": "de7e1d0c",
   "metadata": {},
   "outputs": [
    {
     "name": "stdout",
     "output_type": "stream",
     "text": [
      "{\n",
      "    \"template_to_test\": \"Responde la pregunta delimitada por ###Question###. Tu respuesta debe ser en espa\\u00f1ol informal. Para responder tu pregunta toma en cuenta las siguientes recomendaciones: \\nRecomendaci\\u00f3n 1 : Revisa los datos del usuario delimitados por ###user_data## para complementar tu respuesta.\\nRecomendaci\\u00f3n 2 : Si cuentas con el nombre de los datos del usuario, entonces responde siguiendo el siguiente formato:\\n<nombre del usuario> <respuesta>\\n\\n###user_data###\\nNombre:  \\nAntig\\u00fcedad:  \\nRol:  \\nUbicaci\\u00f3n:  \\n###user_data###\\n###Question### {user_question} ###Question###\",\n",
      "    \"results\": [\n",
      "        {\n",
      "            \"id_question\": \"1\",\n",
      "            \"question\": \"\\u00bfCu\\u00e1les son las ventajas de trabajar en Baufest?\",\n",
      "            \"expected_response\": \"Estimado Fulanito Garza, una de las tantas ventajas de trabar en Baufest son las siguientes: BAU Dollar, donde recibes el beneficio del 20% de tu salario en d\\u00f3lares; BAU Health, reintegro del costo del gimnasio u otras actividades deportivas; BAU net, recibe una bonificaci\\u00f3n del costo del servicio de internet; BAU Lunch, Baufest te paga el lunch; BAU Home, se te reintegra el costo de la mudanza y Anti tr\\u00e1fico, tienes la posibilidad de ajustar tu horario laboral para evitar el tr\\u00e1fico.\",\n",
      "            \"tags\": \"general\",\n",
      "            \"robot_answer\": \"Baufest ofrece una cultura de trabajo basada en pilares como la cercan\\u00eda, la creatividad, la calidad, el compromiso y la productividad . Adem\\u00e1s, se promueve un ambiente de trabajo libre de acoso y discriminaci\\u00f3n [doc2]. El C\\u00f3digo de \\u00c9tica de Baufest establece principios m\\u00ednimos para vincularse tanto internamente como con clientes, proveedores, organismos externos y la sociedad en general [doc3]. En cuanto a las ventajas de trabajar en Baufest, se destaca la cercan\\u00eda con los clientes y entre los baufesianos, la confianza en el talento de los empleados, la creaci\\u00f3n de soluciones de genuino valor agregado y la contribuci\\u00f3n con la comunidad [doc1].\"\n",
      "        },\n",
      "        {\n",
      "            \"id_question\": \"2\",\n",
      "            \"question\": \"\\u00bfSe puede cambiar el rango de horario una vez que eleg\\u00ed uno?\",\n",
      "            \"expected_response\": \"S\\u00ed, pero se requiere que el rango de horario laboral se mantenga por un mes\",\n",
      "            \"tags\": \"antitr\\u00e1fico\",\n",
      "            \"robot_answer\": \"S\\u00ed, es posible cambiar el rango de horario una vez que ya se ha optado por uno, aunque se espera que se mantenga estable por al menos un mes para una organizaci\\u00f3n fluida [doc1].\"\n",
      "        },\n",
      "        {\n",
      "            \"id_question\": \"3\",\n",
      "            \"question\": \"Mi escritura o contrato no est\\u00e1 a mi nombre. \\u00bfPuedo aplicar para el beneficio?\",\n",
      "            \"expected_response\": \"Si, puedes presentar el contrato o escritura al nombre de otra persona, siempre que presentes un documento legal que respalde la convivencia, por ejemplo, como un certificado de concubinato, matrimonio o uni\\u00f3n civil. Esto ayudar\\u00e1 a garantizar que tu solicitud sea considerada de manera adecuada\",\n",
      "            \"tags\": \"bau home\",\n",
      "            \"robot_answer\": \"Puedes presentar el contrato o escritura al nombre de otra persona, siempre y cuando presentes un documento legal que respalde la convivencia, como un certificado de concubinato, matrimonio o uni\\u00f3n civil. Esto ayudar\\u00e1 a garantizar que tu solicitud sea considerada de manera adecuada [doc1].\"\n",
      "        },\n",
      "        {\n",
      "            \"id_question\": \"4\",\n",
      "            \"question\": \"\\u00bfC\\u00f3mo obtengo mi almuerzo o lunch?\",\n",
      "            \"expected_response\": \"A trav\\u00e9s de la App de Pedidos ya (Men\\u00fa/PedidosYa Pagos) ver\\u00e1s las acreditaciones que tenes disponible para usar\",\n",
      "            \"tags\": \"bau lunch\",\n",
      "            \"robot_answer\": \"Para obtener tu almuerzo o lunch, debes descargar la App de PedidosYa en Argentina o Per\\u00fa y verificar las acreditaciones disponibles para usar . En Chile, se emiten Tickets Restaurant por Edenred [doc2]. En Uruguay, se te acreditar\\u00e1 un importe mensualmente destinado para este fin y lo ver\\u00e1s reflejado en tu recibo de sueldo .\"\n",
      "        },\n",
      "        {\n",
      "            \"id_question\": \"5\",\n",
      "            \"question\": \"\\u00bfEl almuerzo se acredita todos los d\\u00edas?\",\n",
      "            \"expected_response\": \"No la acreditaci\\u00f3n es semanal y se paga los viernes\",\n",
      "            \"tags\": \"bau lunch\",\n",
      "            \"robot_answer\": \"La acreditaci\\u00f3n del almuerzo es mensual .\"\n",
      "        }\n",
      "    ]\n",
      "}\n"
     ]
    }
   ],
   "source": [
    "filename_to_test = \"People_Argentina_2years_short\"\n",
    "qagenextutils.generate_robot_responses_with_chat_completion(filename_to_test)"
   ]
  },
  {
   "cell_type": "code",
   "execution_count": 7,
   "id": "11ad314e",
   "metadata": {},
   "outputs": [
    {
     "name": "stdout",
     "output_type": "stream",
     "text": [
      "BAUCHAT_DEBUG: \n",
      "BAUCHAT_TEMPLATE_USER_MESSAGE: Responde la pregunta delimitada por ###Question###. Tu respuesta debe ser en español informal. Para responder tu pregunta toma en cuenta las siguientes recomendaciones: \n",
      "Recomendación 1 : Revisa los datos del usuario delimitados por ###user_data## para complementar tu respuesta.\n",
      "Recomendación 2 : Si cuentas con el nombre de los datos del usuario, entonces responde siguiendo el siguiente formato:\n",
      "<nombre del usuario> <respuesta>\n",
      "\n",
      "###user_data###\n",
      "Nombre: Alfonso Xochipa \n",
      "Antigüedad: 2 años \n",
      "Rol: Software developer\n",
      "Ubicación: Argentina \n",
      "###user_data###\n",
      "###Question### {user_question} ###Question###\n"
     ]
    }
   ],
   "source": [
    "qagenextutils.BAUCHAT_TEMPLATE_USER_MESSAGE = \"\"\"Responde la pregunta delimitada por ###Question###. Tu respuesta debe ser en español informal. \\\n",
    "Para responder tu pregunta toma en cuenta las siguientes recomendaciones: {template_rules}\n",
    "{template_user_data}\n",
    "{question_placeholder}\"\"\"\n",
    "\n",
    "template_rules = \"\"\"\n",
    "Recomendación 1 : Revisa los datos del usuario delimitados por ###user_data## para complementar tu respuesta.\n",
    "Recomendación 2 : Si cuentas con el nombre de los datos del usuario, entonces responde siguiendo el siguiente formato:\n",
    "<nombre del usuario> <respuesta>\n",
    "\"\"\"\n",
    "template_user_data = \"\"\"###user_data###\n",
    "Nombre: Alfonso Xochipa \n",
    "Antigüedad: 2 años \n",
    "Rol: Software developer\n",
    "Ubicación: Argentina \n",
    "###user_data###\"\"\"\n",
    "\n",
    "qagenextutils.BAUCHAT_TEMPLATE_USER_MESSAGE = qagenextutils.BAUCHAT_TEMPLATE_USER_MESSAGE.format(template_rules=template_rules,\n",
    "                                                   template_user_data=template_user_data,\n",
    "                                                   question_placeholder=\"###Question### {user_question} ###Question###\")\n",
    "qagenextutils.print_required_variables()"
   ]
  },
  {
   "cell_type": "code",
   "execution_count": 8,
   "id": "f375559e",
   "metadata": {},
   "outputs": [
    {
     "name": "stdout",
     "output_type": "stream",
     "text": [
      "{\n",
      "    \"template_to_test\": \"Responde la pregunta delimitada por ###Question###. Tu respuesta debe ser en espa\\u00f1ol informal. Para responder tu pregunta toma en cuenta las siguientes recomendaciones: \\nRecomendaci\\u00f3n 1 : Revisa los datos del usuario delimitados por ###user_data## para complementar tu respuesta.\\nRecomendaci\\u00f3n 2 : Si cuentas con el nombre de los datos del usuario, entonces responde siguiendo el siguiente formato:\\n<nombre del usuario> <respuesta>\\n\\n###user_data###\\nNombre: Alfonso Xochipa \\nAntig\\u00fcedad: 2 a\\u00f1os \\nRol: Software developer\\nUbicaci\\u00f3n: Argentina \\n###user_data###\\n###Question### {user_question} ###Question###\",\n",
      "    \"results\": [\n",
      "        {\n",
      "            \"id_question\": \"1\",\n",
      "            \"question\": \"\\u00bfCu\\u00e1les son las ventajas de trabajar en Baufest?\",\n",
      "            \"expected_response\": \"Estimado Fulanito Garza, una de las tantas ventajas de trabar en Baufest son las siguientes: BAU Dollar, donde recibes el beneficio del 20% de tu salario en d\\u00f3lares; BAU Health, reintegro del costo del gimnasio u otras actividades deportivas; BAU net, recibe una bonificaci\\u00f3n del costo del servicio de internet; BAU Lunch, Baufest te paga el lunch; BAU Home, se te reintegra el costo de la mudanza y Anti tr\\u00e1fico, tienes la posibilidad de ajustar tu horario laboral para evitar el tr\\u00e1fico.\",\n",
      "            \"tags\": \"general\",\n",
      "            \"robot_answer\": \"Hola Alfonso, seg\\u00fan los documentos recuperados, trabajar en Baufest tiene varias ventajas. La cultura de Baufest se basa en pilares como la cercan\\u00eda, la creatividad, la calidad, el compromiso y la productividad [doc1]. Adem\\u00e1s, Baufest promueve un ambiente de trabajo libre de acoso y discriminaci\\u00f3n [doc2]. Tambi\\u00e9n se garantiza la confidencialidad de la informaci\\u00f3n y se transmiten indicaciones claras para el desarrollo profesional [doc3]. Espero que esto te ayude a responder tu pregunta.\"\n",
      "        },\n",
      "        {\n",
      "            \"id_question\": \"2\",\n",
      "            \"question\": \"\\u00bfSe puede cambiar el rango de horario una vez que eleg\\u00ed uno?\",\n",
      "            \"expected_response\": \"S\\u00ed, pero se requiere que el rango de horario laboral se mantenga por un mes\",\n",
      "            \"tags\": \"antitr\\u00e1fico\",\n",
      "            \"robot_answer\": \"\\u00a1Hola Alfonso! S\\u00ed, es posible cambiar el rango de horario una vez que ya optaste por uno [doc1]. Sin embargo, para una fluida organizaci\\u00f3n, se espera que una vez que optes por un rango, lo mantengas estable por al menos un mes [doc1]. \\u00bfTe puedo ayudar en algo m\\u00e1s?\"\n",
      "        },\n",
      "        {\n",
      "            \"id_question\": \"3\",\n",
      "            \"question\": \"Mi escritura o contrato no est\\u00e1 a mi nombre. \\u00bfPuedo aplicar para el beneficio?\",\n",
      "            \"expected_response\": \"Si, puedes presentar el contrato o escritura al nombre de otra persona, siempre que presentes un documento legal que respalde la convivencia, por ejemplo, como un certificado de concubinato, matrimonio o uni\\u00f3n civil. Esto ayudar\\u00e1 a garantizar que tu solicitud sea considerada de manera adecuada\",\n",
      "            \"tags\": \"bau home\",\n",
      "            \"robot_answer\": \"\\u00a1Hola Alfonso! Si tu escritura o contrato de alquiler no est\\u00e1 a tu nombre, puedes presentarlo de todas maneras siempre y cuando presentes un documento legal que respalde la convivencia, como un certificado de concubinato, matrimonio o uni\\u00f3n civil. Esto ayudar\\u00e1 a garantizar que tu solicitud sea considerada de manera adecuada [doc1]. \\u00a1Espero que esto te sea de ayuda!\"\n",
      "        },\n",
      "        {\n",
      "            \"id_question\": \"4\",\n",
      "            \"question\": \"\\u00bfC\\u00f3mo obtengo mi almuerzo o lunch?\",\n",
      "            \"expected_response\": \"A trav\\u00e9s de la App de Pedidos ya (Men\\u00fa/PedidosYa Pagos) ver\\u00e1s las acreditaciones que tenes disponible para usar\",\n",
      "            \"tags\": \"bau lunch\",\n",
      "            \"robot_answer\": \"Para obtener tu almuerzo o lunch, debes descargar la App de PedidosYa y verificar las acreditaciones que tienes disponibles para usar . Si te encuentras en Chile, puedes obtener tu almuerzo a trav\\u00e9s de Tickets Restaurant emitidos por Edenred . Si te encuentras en Uruguay, se te acreditar\\u00e1 un importe mensualmente destinado para este fin y lo ver\\u00e1s reflejado en tu recibo de sueldo .\"\n",
      "        },\n",
      "        {\n",
      "            \"id_question\": \"5\",\n",
      "            \"question\": \"\\u00bfEl almuerzo se acredita todos los d\\u00edas?\",\n",
      "            \"expected_response\": \"No la acreditaci\\u00f3n es semanal y se paga los viernes\",\n",
      "            \"tags\": \"bau lunch\",\n",
      "            \"robot_answer\": \"El valor del beneficio del almuerzo se acredita mensualmente y se refleja en el recibo de sueldo . En Argentina y Per\\u00fa, la acreditaci\\u00f3n se realiza semanalmente, los viernes . En Chile, no es necesario registrarse en ning\\u00fan lado y se obtiene a trav\\u00e9s de Tickets Restaurant emitidos por Edenred . En Uruguay, se acredita mensualmente un importe destinado para este fin y se refleja en el recibo de sueldo .\"\n",
      "        }\n",
      "    ]\n",
      "}\n"
     ]
    }
   ],
   "source": [
    "filename_to_test = \"People_Argentina_2years_short\"\n",
    "qagenextutils.generate_robot_responses_with_chat_completion(filename_to_test)"
   ]
  },
  {
   "cell_type": "code",
   "execution_count": null,
   "id": "ace6556b",
   "metadata": {},
   "outputs": [],
   "source": []
  }
 ],
 "metadata": {
  "kernelspec": {
   "display_name": "Python 3 (ipykernel)",
   "language": "python",
   "name": "python3"
  },
  "language_info": {
   "codemirror_mode": {
    "name": "ipython",
    "version": 3
   },
   "file_extension": ".py",
   "mimetype": "text/x-python",
   "name": "python",
   "nbconvert_exporter": "python",
   "pygments_lexer": "ipython3",
   "version": "3.11.5"
  }
 },
 "nbformat": 4,
 "nbformat_minor": 5
}
