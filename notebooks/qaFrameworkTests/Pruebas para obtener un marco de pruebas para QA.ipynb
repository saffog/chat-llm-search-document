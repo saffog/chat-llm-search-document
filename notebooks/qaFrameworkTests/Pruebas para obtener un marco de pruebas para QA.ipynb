{
 "cells": [
  {
   "cell_type": "markdown",
   "id": "f37c2fe3",
   "metadata": {},
   "source": [
    "# Explorar los métodos y código necesario para crear una librería para el framework de QA"
   ]
  },
  {
   "cell_type": "code",
   "execution_count": null,
   "id": "b3d0f7a8",
   "metadata": {},
   "outputs": [],
   "source": [
    "import sys\n",
    "sys.path.append('../lib')\n",
    "\n",
    "import json\n",
    "import aoaiextutils"
   ]
  },
  {
   "cell_type": "code",
   "execution_count": null,
   "id": "e793ce3f",
   "metadata": {},
   "outputs": [],
   "source": [
    "user_message = \"Lista los beneficios de Baufest\"\n",
    "aoaiextutils.get_extension_chat_completion(user_message)"
   ]
  },
  {
   "cell_type": "code",
   "execution_count": null,
   "id": "2fe5849c",
   "metadata": {},
   "outputs": [],
   "source": [
    "template_rules = \"\"\"Recomendación 1 : Revisa los datos del usuario delimitados por ###user_data## para complementar tu respuesta.\n",
    "Recomendación 2 : Usa el nombre del usuario en tu respuesta siguiendo el siguiente formato <nombre del usuario> respuesta\"\"\"\n",
    "\n",
    "template_user_data = \"\"\"###user_data### Nombre: {user_name} | Antigüedad: {user_seniority} | Rol: {user_job} | Ubicación: {user_location} ###user_data###\"\"\"\n",
    "\n",
    "template_user_message = \"\"\"Responde la pregunta delimitada por ###Question###. Tu respuesta debe ser en español informal. \\\n",
    "Para responder tu pregunta toma en cuenta las siguientes recomendaciones: {template_rules} {template_user_data} ###Question### {user_question} ###Question###\"\"\"\n",
    "\n",
    "print(template_user_message)"
   ]
  },
  {
   "cell_type": "code",
   "execution_count": null,
   "id": "4d4bca81",
   "metadata": {},
   "outputs": [],
   "source": [
    "BAUCHAT_TEMPLATE_USER_MESSAGE = \"\"\"{user_question}\"\"\"\n",
    "user_question = \"Test\"\n",
    "BAUCHAT_TEMPLATE_USER_MESSAGE.format(user_question=user_question)"
   ]
  },
  {
   "cell_type": "code",
   "execution_count": null,
   "id": "2f7a0746",
   "metadata": {},
   "outputs": [],
   "source": [
    "def get_chat_completion(question):\n",
    "    user_message = BAUCHAT_TEMPLATE_USER_MESSAGE.format(user_question=question)\n",
    "    return aoaiextutils.get_extension_chat_completion(user_message)"
   ]
  },
  {
   "cell_type": "code",
   "execution_count": null,
   "id": "b9ef958c",
   "metadata": {},
   "outputs": [],
   "source": [
    "from datetime import datetime\n",
    "\n",
    "with open('People_Argentina_2years_short.json',encoding='utf-8') as archivo:\n",
    "    datos = json.load(archivo)\n",
    "\n",
    "results_with_robot_answer = []\n",
    "\n",
    "template_prompt = {\"template_to_test\":BAUCHAT_TEMPLATE_USER_MESSAGE}    \n",
    "\n",
    "for questions_answers_item in datos[\"questions_answers\"]:\n",
    "    if questions_answers_item:\n",
    "        question_to_test = questions_answers_item.get(\"question\")\n",
    "        if question_to_test:\n",
    "             questions_answers_item['robot_answer'] = get_chat_completion(question_to_test)\n",
    "    print(questions_answers_item)\n",
    "    results_with_robot_answer.append(questions_answers_item)\n",
    "\n",
    "\n",
    "# Get the current date and time\n",
    "current_datetime = datetime.now().strftime(\"%Y-%m-%d_%H-%M\")\n",
    "\n",
    "# Construct the filename with the current date and time\n",
    "filename = f\"People_Argentina_2years_{current_datetime}.json\"\n",
    "\n",
    "json_data = {\n",
    "    \"template_to_test\":BAUCHAT_TEMPLATE_USER_MESSAGE,\n",
    "    \"results\":results_with_robot_answer\n",
    "}\n",
    "\n",
    "json_string = json.dumps(json_data)\n",
    "\n",
    "\n",
    "# Writing the dictionary to a JSON file with the current date and time in the filename\n",
    "with open(filename, 'w') as file:\n",
    "    file.write(json_string)"
   ]
  },
  {
   "cell_type": "code",
   "execution_count": null,
   "id": "83eac2c6",
   "metadata": {},
   "outputs": [],
   "source": [
    "print(aoaiextutils.beautify_json(results_with_robot_answer))"
   ]
  },
  {
   "cell_type": "code",
   "execution_count": null,
   "id": "c4916e05",
   "metadata": {},
   "outputs": [],
   "source": []
  },
  {
   "cell_type": "code",
   "execution_count": null,
   "id": "96109448",
   "metadata": {},
   "outputs": [],
   "source": [
    "with open('People_Argentina_2years.json',encoding='utf-8') as archivo:\n",
    "    datos = json.load(archivo)\n",
    "\n",
    "expected_responses = []\n",
    "\n",
    "for questions_answers_item in datos[\"questions_answers\"]:\n",
    "    if questions_answers_item:\n",
    "        question_to_test = questions_answers_item.get(\"question\")\n",
    "        if question_to_test:\n",
    "             questions_answers_item['robot_answer'] = get_chat_completion(question_to_test)\n",
    "    print(questions_answers_item)\n"
   ]
  },
  {
   "cell_type": "code",
   "execution_count": null,
   "id": "8537eebd",
   "metadata": {},
   "outputs": [],
   "source": []
  },
  {
   "cell_type": "code",
   "execution_count": null,
   "id": "c59886eb",
   "metadata": {},
   "outputs": [],
   "source": []
  }
 ],
 "metadata": {
  "kernelspec": {
   "display_name": "Python 3 (ipykernel)",
   "language": "python",
   "name": "python3"
  },
  "language_info": {
   "codemirror_mode": {
    "name": "ipython",
    "version": 3
   },
   "file_extension": ".py",
   "mimetype": "text/x-python",
   "name": "python",
   "nbconvert_exporter": "python",
   "pygments_lexer": "ipython3",
   "version": "3.11.5"
  }
 },
 "nbformat": 4,
 "nbformat_minor": 5
}
