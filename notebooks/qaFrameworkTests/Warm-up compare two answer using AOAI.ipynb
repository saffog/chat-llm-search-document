{
 "cells": [
  {
   "cell_type": "markdown",
   "id": "fe8000ab",
   "metadata": {},
   "source": [
    "# Example of how to use Azure OpenAI to compare two responses"
   ]
  },
  {
   "cell_type": "code",
   "execution_count": 1,
   "id": "fea59c9c",
   "metadata": {},
   "outputs": [],
   "source": [
    "import openai\n",
    "import os\n",
    "\n",
    "AZURE_OPENAI_RESOURCE = os.environ.get(\"AZURE_OPENAI_RESOURCE\")\n",
    "AZURE_OPENAI_KEY = os.environ.get(\"AZURE_OPENAI_KEY\")\n",
    "AZURE_OPENAI_TEMPERATURE = os.environ.get(\"AZURE_OPENAI_TEMPERATURE\")\n",
    "AZURE_OPENAI_MAX_TOKENS = os.environ.get(\"AZURE_OPENAI_MAX_TOKENS\")\n",
    "AZURE_OPENAI_CHAT_COMPLETION_MODEL = os.environ.get(\"AZURE_OPENAI_CHAT_COMPLETION_MODEL\")\n",
    "AZURE_OPENAI_CHAT_COMPLETION_ENGINE = os.environ.get(\"AZURE_OPENAI_CHAT_COMPLETION_ENGINE\")\n",
    "\n",
    "openai.api_key  = AZURE_OPENAI_KEY\n",
    "openai.api_type = \"azure\"\n",
    "openai.api_version = \"2023-08-01-preview\"\n",
    "openai.api_base = f\"https://{AZURE_OPENAI_RESOURCE}.openai.azure.com/\"    \n",
    "\n",
    "\n",
    "def get_completion(input_prompt, \n",
    "                   printResult = True, \n",
    "                   returnWholeObject = False):\n",
    "    completion = openai.Completion.create(\n",
    "        prompt=input_prompt, \n",
    "        model=AZURE_OPENAI_CHAT_COMPLETION_MODEL,\n",
    "        engine=AZURE_OPENAI_CHAT_COMPLETION_ENGINE, \n",
    "        temperature=float(AZURE_OPENAI_TEMPERATURE), \n",
    "        max_tokens=int(AZURE_OPENAI_MAX_TOKENS), \n",
    "        stop=[\"<|im_end|>\", \"<|im_start|>\"])\n",
    "\n",
    "    if printResult:\n",
    "        print(completion)\n",
    "        \n",
    "    if returnWholeObject:\n",
    "        return completion\n",
    "    else:\n",
    "        return completion[\"choices\"][0][\"text\"]\n"
   ]
  },
  {
   "cell_type": "code",
   "execution_count": null,
   "id": "88a38fa3",
   "metadata": {},
   "outputs": [],
   "source": [
    "qa_guidelines = \"\"\"<|im_start|>user\n",
    "Compare the robot resposne versus human response. The robot response is delimited by ###ROBOT### and \n",
    "the human response is delimited by ###HUMAN###.\n",
    "Answer the next questions:\n",
    "Question-1 : Is the robot's response correct?\n",
    "Question-2 : Is the robot's response similar to the human answer?\n",
    "For your responses follow the next format:\n",
    "Question-1--Correctness--YES or NO--Summarize your arguments in 10 words\n",
    "Question-2--Similarity--YES or NO--Summarize your arguments in 10 words\n",
    "\n",
    "###ROBOT###\n",
    "{robot_response}\n",
    "###ROBOT###\n",
    "\n",
    "###HUMAN###\n",
    "{human_response}\n",
    "###HUMAN###\n",
    "<|im_end|>\"\"\"\n",
    "assistant_prompt = \"\"\"<|im_start|>assistant\n",
    "\"\"\"\n",
    "\n",
    "robot_answer = \"\"\"Estimado Silvina Pliego, según la documentación consultada, \n",
    "es posible cambiar el rango de horario una vez que se ha optado por uno en el programa ANTI TRÁFICO (LATAM) 1 . \n",
    "Sin embargo, se espera que una vez que se haya optado por un rango, se mantenga estable por al menos un mes \n",
    "para una fluida organización. Por favor, si necesitas más información o si esta respuesta no responde \n",
    "completamente a tu pregunta, no dudes en proporcionar más detalles para que pueda ayudarte mejor.\"\"\"\n",
    "\n",
    "human_answer = \"\"\"Sí, pero se requiere que el rango de horario laboral se mantenga por un mes\"\"\"\n",
    "\n",
    "prompt = qa_guidelines.format(robot_response=robot_answer, human_response=human_answer) + assistant_prompt\n",
    "\n",
    "print(prompt)"
   ]
  },
  {
   "cell_type": "code",
   "execution_count": null,
   "id": "50fc5ce7",
   "metadata": {},
   "outputs": [],
   "source": [
    "result = get_completion(input_prompt=prompt, printResult=False)\n",
    "\n",
    "print(result)"
   ]
  },
  {
   "cell_type": "code",
   "execution_count": null,
   "id": "aa006e21",
   "metadata": {},
   "outputs": [],
   "source": [
    "result"
   ]
  },
  {
   "cell_type": "code",
   "execution_count": null,
   "id": "73e162b0",
   "metadata": {},
   "outputs": [],
   "source": [
    "parts = result.replace(\"\\n\", \"\").replace(\"\\r\", \"\").split(\"Question-\")"
   ]
  },
  {
   "cell_type": "code",
   "execution_count": null,
   "id": "fa106959",
   "metadata": {},
   "outputs": [],
   "source": [
    "parts = result.replace(\"\\n\", \"\").replace(\"\\r\", \"\").split(\"Question-\")\n",
    "data = []\n",
    "for i, part in enumerate(parts, start=1):\n",
    "    if part:\n",
    "        info = part.split(\"--\")\n",
    "        print(f\"i: {i} part: {part} info: {info}\")\n",
    "        test_id = info[0]\n",
    "        test = info[1]\n",
    "        result = 1 if info[2] == \"YES\" else 0\n",
    "        reason = info[3]\n",
    "        item = {\n",
    "            \"test_id\": test_id,\n",
    "            \"test\": test,\n",
    "            \"result\": result,\n",
    "            \"reason\": reason\n",
    "        }\n",
    "        print(f\"Item to add : {item}\")\n",
    "        data.append(item)\n",
    "    \n"
   ]
  },
  {
   "cell_type": "code",
   "execution_count": null,
   "id": "03839769",
   "metadata": {},
   "outputs": [],
   "source": [
    "import json\n",
    "\n",
    "def transform_open_ai_compare_to_json(input_string, debug=False):\n",
    "    data = []\n",
    "    if debug: print(f\" input string to process {input_string}\")\n",
    "    parts = input_string.replace(\"\\n\", \"\").replace(\"\\r\", \"\").split(\"Question-\")\n",
    "    if debug: print(f\"parts : {parts}\")\n",
    "    for i, part in enumerate(parts, start=1):\n",
    "        if part:\n",
    "            info = part.split(\"--\")\n",
    "            if debug: print(f\"i: {i} part: {part} info: {info}\")\n",
    "            test_id = info[0]\n",
    "            test = info[1]\n",
    "            result = 1 if info[2] == \"YES\" else 0\n",
    "            reason = info[3]\n",
    "            item = {\n",
    "                \"test_id\": test_id,\n",
    "                \"test\": test,\n",
    "                \"result\": result,\n",
    "                \"reason\": reason\n",
    "            }\n",
    "            if debug: print(f\"Item to add : {item}\")\n",
    "            data.append(item)\n",
    "    if debug: print(f\"data to json : {data}\")\n",
    "    return json.dumps(data, indent=2)"
   ]
  },
  {
   "cell_type": "code",
   "execution_count": null,
   "id": "ea2b30d1",
   "metadata": {},
   "outputs": [],
   "source": [
    "result_to_test = get_completion(input_prompt=prompt, printResult=False)\n",
    "\n",
    "print(result_to_test)\n",
    "output_json = transform_open_ai_compare_to_json(result_to_test,debug=True)\n",
    "print(output_json)"
   ]
  },
  {
   "cell_type": "code",
   "execution_count": null,
   "id": "41e538a4",
   "metadata": {},
   "outputs": [],
   "source": [
    "result_to_test = get_completion(input_prompt=prompt, printResult=False)\n",
    "\n",
    "print(result_to_test)\n",
    "output_json = transform_open_ai_compare_to_json(result_to_test,debug=True)\n",
    "print(output_json)"
   ]
  },
  {
   "cell_type": "code",
   "execution_count": 2,
   "id": "8f98b466",
   "metadata": {},
   "outputs": [],
   "source": [
    "EVAL_QUERY_BETTER_RESPONSE = \"\"\"<|im_start|>user\n",
    "    Evaluate the response A against the query.\n",
    "    Evaluate the response B against the query.\n",
    "    Compare response A versus response B.\n",
    "    The query is delimited by ###QUERY###.\n",
    "    The response A is delimited by ###RESPONSE_A###. \n",
    "    The response B is delimited by ###RESPONSE_B###.\n",
    "    Answer the next questions:\n",
    "    Question-1 : Is the response A similar to response B?\n",
    "    Question-2 : Is the response A correct?\n",
    "    Question-3 : Is the response B correct?\n",
    "    Question-4 : Which response is better?\n",
    "    For the next questions, on a scale of 1 to 10, where 1 is the lowest score and 10 the highest, score simplicity \n",
    "    and relevant information.\n",
    "    Question-5 : What would be the score for response A?\n",
    "    Question-6 : What would be the score for response B?\n",
    "    For your responses follow the next format:\n",
    "    Question-1--Similarity--YES or NO--Summarize your arguments in 10 words\n",
    "    Question-2--Response A Correctness--YES or NO--Summarize your arguments in 10 words\n",
    "    Question-3--Response B Correctness--YES or NO--Summarize your arguments in 10 words\n",
    "    Question-4--Better response--A or B--Summarize your arguments in 10 words\n",
    "    Question-5--Score A --Number between 1 and 10--Summarize your arguments in 10 words\n",
    "    Question-6--Score B --Number between 1 and 10--Summarize your arguments in 10 words\n",
    "\n",
    "    ###QUERY###\n",
    "    {query}\n",
    "    ###QUERY###\n",
    "\n",
    "    ###RESPONSE_A###\n",
    "    {response_a}\n",
    "    ###RESPONSE_A###\n",
    "    \n",
    "    ###RESPONSE_B###\n",
    "    {response_b}\n",
    "    ###RESPONSE_B###\n",
    "    <|im_end|><|im_start|>assistant\"\"\"\n"
   ]
  },
  {
   "cell_type": "code",
   "execution_count": 3,
   "id": "7f90a976",
   "metadata": {},
   "outputs": [
    {
     "name": "stdout",
     "output_type": "stream",
     "text": [
      "<|im_start|>user\n",
      "    Evaluate the response A against the query.\n",
      "    Evaluate the response B against the query.\n",
      "    Compare response A versus response B.\n",
      "    The query is delimited by ###QUERY###.\n",
      "    The response A is delimited by ###RESPONSE_A###. \n",
      "    The response B is delimited by ###RESPONSE_B###.\n",
      "    Answer the next questions:\n",
      "    Question-1 : Is the response A similar to response B?\n",
      "    Question-2 : Is the response A correct?\n",
      "    Question-3 : Is the response B correct?\n",
      "    Question-4 : Which response is better?\n",
      "    For the next questions, on a scale of 1 to 10, where 1 is the lowest score and 10 the highest, score simplicity \n",
      "    and relevant information.\n",
      "    Question-5 : What would be the score for response A?\n",
      "    Question-6 : What would be the score for response B?\n",
      "    For your responses follow the next format:\n",
      "    Question-1--Similarity--YES or NO--Summarize your arguments in 10 words\n",
      "    Question-2--Response A Correctness--YES or NO--Summarize your arguments in 10 words\n",
      "    Question-3--Response B Correctness--YES or NO--Summarize your arguments in 10 words\n",
      "    Question-4--Better response--A or B--Summarize your arguments in 10 words\n",
      "    Question-5--Score A --Number between 1 and 10--Summarize your arguments in 10 words\n",
      "    Question-6--Score B --Number between 1 and 10--Summarize your arguments in 10 words\n",
      "\n",
      "    ###QUERY###\n",
      "    ¿Se puede cambiar el rango de horario una vez que elegí uno?\n",
      "    ###QUERY###\n",
      "\n",
      "    ###RESPONSE_A###\n",
      "    Estimado Silvina Pliego, según la documentación consultada, \n",
      "es posible cambiar el rango de horario una vez que se ha optado por uno en el programa ANTI TRÁFICO (LATAM) 1 . \n",
      "Sin embargo, se espera que una vez que se haya optado por un rango, se mantenga estable por al menos un mes \n",
      "para una fluida organización. Por favor, si necesitas más información o si esta respuesta no responde \n",
      "completamente a tu pregunta, no dudes en proporcionar más detalles para que pueda ayudarte mejor.\n",
      "    ###RESPONSE_A###\n",
      "    \n",
      "    ###RESPONSE_B###\n",
      "    Sí, pero se requiere que el rango de horario laboral se mantenga por un mes\n",
      "    ###RESPONSE_B###\n",
      "    <|im_end|><|im_start|>assistant\n"
     ]
    }
   ],
   "source": [
    "response_a = \"\"\"Estimado Silvina Pliego, según la documentación consultada, \n",
    "es posible cambiar el rango de horario una vez que se ha optado por uno en el programa ANTI TRÁFICO (LATAM) 1 . \n",
    "Sin embargo, se espera que una vez que se haya optado por un rango, se mantenga estable por al menos un mes \n",
    "para una fluida organización. Por favor, si necesitas más información o si esta respuesta no responde \n",
    "completamente a tu pregunta, no dudes en proporcionar más detalles para que pueda ayudarte mejor.\"\"\"\n",
    "\n",
    "response_b = \"\"\"Sí, pero se requiere que el rango de horario laboral se mantenga por un mes\"\"\"\n",
    "\n",
    "question_1 = \"\"\"¿Se puede cambiar el rango de horario una vez que elegí uno?\"\"\"\n",
    "\n",
    "prompt = EVAL_QUERY_BETTER_RESPONSE.format(\n",
    "    response_a=response_a, \n",
    "    response_b=response_b,\n",
    "    query=question_1)\n",
    "\n",
    "print(prompt)"
   ]
  },
  {
   "cell_type": "code",
   "execution_count": 4,
   "id": "8a0c41c2",
   "metadata": {},
   "outputs": [
    {
     "name": "stdout",
     "output_type": "stream",
     "text": [
      "\n",
      "Question-1--Similarity--YES--Both responses mention the possibility of changing the schedule and the requirement of maintaining it for at least a month.\n",
      "    Question-2--Response A Correctness--YES--The response provides a detailed explanation and offers further assistance.\n",
      "    Question-3--Response B Correctness--YES--The response is concise and accurate.\n",
      "    Question-4--Better response--A--Provides more information and offers further assistance.\n",
      "    Question-5--Score A--8--The response is detailed and informative, but could be more concise.\n",
      "    Question-6--Score B--7--The response is accurate and concise, but lacks additional information.\n"
     ]
    }
   ],
   "source": [
    "result = get_completion(input_prompt=prompt, printResult=False)\n",
    "\n",
    "print(result)"
   ]
  },
  {
   "cell_type": "code",
   "execution_count": null,
   "id": "1a7505fb",
   "metadata": {},
   "outputs": [],
   "source": []
  }
 ],
 "metadata": {
  "kernelspec": {
   "display_name": "Python 3 (ipykernel)",
   "language": "python",
   "name": "python3"
  },
  "language_info": {
   "codemirror_mode": {
    "name": "ipython",
    "version": 3
   },
   "file_extension": ".py",
   "mimetype": "text/x-python",
   "name": "python",
   "nbconvert_exporter": "python",
   "pygments_lexer": "ipython3",
   "version": "3.11.5"
  }
 },
 "nbformat": 4,
 "nbformat_minor": 5
}
