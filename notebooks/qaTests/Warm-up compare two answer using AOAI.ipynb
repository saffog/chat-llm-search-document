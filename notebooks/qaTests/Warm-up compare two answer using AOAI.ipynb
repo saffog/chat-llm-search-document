{
 "cells": [
  {
   "cell_type": "markdown",
   "id": "fe8000ab",
   "metadata": {},
   "source": [
    "# Example of how to use Azure OpenAI to compare two responses"
   ]
  },
  {
   "cell_type": "code",
   "execution_count": 1,
   "id": "fea59c9c",
   "metadata": {},
   "outputs": [],
   "source": [
    "import openai\n",
    "import os\n",
    "\n",
    "AZURE_OPENAI_RESOURCE = os.environ.get(\"AZURE_OPENAI_RESOURCE\")\n",
    "AZURE_OPENAI_KEY = os.environ.get(\"AZURE_OPENAI_KEY\")\n",
    "AZURE_OPENAI_TEMPERATURE = os.environ.get(\"AZURE_OPENAI_TEMPERATURE\")\n",
    "AZURE_OPENAI_MAX_TOKENS = os.environ.get(\"AZURE_OPENAI_MAX_TOKENS\")\n",
    "AZURE_OPENAI_CHAT_COMPLETION_MODEL = os.environ.get(\"AZURE_OPENAI_CHAT_COMPLETION_MODEL\")\n",
    "AZURE_OPENAI_CHAT_COMPLETION_ENGINE = os.environ.get(\"AZURE_OPENAI_CHAT_COMPLETION_ENGINE\")\n",
    "\n",
    "openai.api_key  = AZURE_OPENAI_KEY\n",
    "openai.api_type = \"azure\"\n",
    "openai.api_version = \"2023-08-01-preview\"\n",
    "openai.api_base = f\"https://{AZURE_OPENAI_RESOURCE}.openai.azure.com/\"    \n",
    "\n",
    "\n",
    "def get_completion(input_prompt, \n",
    "                   printResult = True, \n",
    "                   returnWholeObject = False):\n",
    "    completion = openai.Completion.create(\n",
    "        prompt=input_prompt, \n",
    "        model=AZURE_OPENAI_CHAT_COMPLETION_MODEL,\n",
    "        engine=AZURE_OPENAI_CHAT_COMPLETION_ENGINE, \n",
    "        temperature=float(AZURE_OPENAI_TEMPERATURE), \n",
    "        max_tokens=int(AZURE_OPENAI_MAX_TOKENS), \n",
    "        stop=[\"<|im_end|>\", \"<|im_start|>\"])\n",
    "\n",
    "    if printResult:\n",
    "        print(completion)\n",
    "        \n",
    "    if returnWholeObject:\n",
    "        return completion\n",
    "    else:\n",
    "        return completion[\"choices\"][0][\"text\"]\n"
   ]
  },
  {
   "cell_type": "code",
   "execution_count": 42,
   "id": "88a38fa3",
   "metadata": {},
   "outputs": [
    {
     "name": "stdout",
     "output_type": "stream",
     "text": [
      "<|im_start|>user\n",
      "Compare the robot resposne versus human response. The robot response is delimited by ###ROBOT### and \n",
      "the human response is delimited by ###HUMAN###.\n",
      "Answer the next questions:\n",
      "Question-1 : Is the robot's response correct?\n",
      "Question-2 : Is the robot's response similar to the human answer?\n",
      "For your responses follow the next format:\n",
      "Question-1--Correctness--YES or NO--Summarize your arguments in 10 words\n",
      "Question-2--Similarity--YES or NO--Summarize your arguments in 10 words\n",
      "\n",
      "###ROBOT###\n",
      "Estimado Silvina Pliego, según la documentación consultada, \n",
      "es posible cambiar el rango de horario una vez que se ha optado por uno en el programa ANTI TRÁFICO (LATAM) 1 . \n",
      "Sin embargo, se espera que una vez que se haya optado por un rango, se mantenga estable por al menos un mes \n",
      "para una fluida organización. Por favor, si necesitas más información o si esta respuesta no responde \n",
      "completamente a tu pregunta, no dudes en proporcionar más detalles para que pueda ayudarte mejor.\n",
      "###ROBOT###\n",
      "\n",
      "###HUMAN###\n",
      "Sí, pero se requiere que el rango de horario laboral se mantenga por un mes\n",
      "###HUMAN###\n",
      "<|im_end|><|im_start|>assistant\n",
      "\n"
     ]
    }
   ],
   "source": [
    "qa_guidelines = \"\"\"<|im_start|>user\n",
    "Compare the robot resposne versus human response. The robot response is delimited by ###ROBOT### and \n",
    "the human response is delimited by ###HUMAN###.\n",
    "Answer the next questions:\n",
    "Question-1 : Is the robot's response correct?\n",
    "Question-2 : Is the robot's response similar to the human answer?\n",
    "For your responses follow the next format:\n",
    "Question-1--Correctness--YES or NO--Summarize your arguments in 10 words\n",
    "Question-2--Similarity--YES or NO--Summarize your arguments in 10 words\n",
    "\n",
    "###ROBOT###\n",
    "{robot_response}\n",
    "###ROBOT###\n",
    "\n",
    "###HUMAN###\n",
    "{human_response}\n",
    "###HUMAN###\n",
    "<|im_end|>\"\"\"\n",
    "assistant_prompt = \"\"\"<|im_start|>assistant\n",
    "\"\"\"\n",
    "\n",
    "robot_answer = \"\"\"Estimado Silvina Pliego, según la documentación consultada, \n",
    "es posible cambiar el rango de horario una vez que se ha optado por uno en el programa ANTI TRÁFICO (LATAM) 1 . \n",
    "Sin embargo, se espera que una vez que se haya optado por un rango, se mantenga estable por al menos un mes \n",
    "para una fluida organización. Por favor, si necesitas más información o si esta respuesta no responde \n",
    "completamente a tu pregunta, no dudes en proporcionar más detalles para que pueda ayudarte mejor.\"\"\"\n",
    "\n",
    "human_answer = \"\"\"Sí, pero se requiere que el rango de horario laboral se mantenga por un mes\"\"\"\n",
    "\n",
    "prompt = qa_guidelines.format(robot_response=robot_answer, human_response=human_answer) + assistant_prompt\n",
    "\n",
    "print(prompt)"
   ]
  },
  {
   "cell_type": "code",
   "execution_count": 56,
   "id": "50fc5ce7",
   "metadata": {},
   "outputs": [
    {
     "name": "stdout",
     "output_type": "stream",
     "text": [
      "Question-1--Correctness--YES--The robot's response provides accurate information and guidelines.\n",
      "Question-2--Similarity--YES--The robot's response is very similar to the human answer.\n"
     ]
    }
   ],
   "source": [
    "result = get_completion(input_prompt=prompt, printResult=False)\n",
    "\n",
    "print(result)"
   ]
  },
  {
   "cell_type": "code",
   "execution_count": 57,
   "id": "aa006e21",
   "metadata": {},
   "outputs": [
    {
     "data": {
      "text/plain": [
       "\"Question-1--Correctness--YES--The robot's response provides accurate information and guidelines.\\nQuestion-2--Similarity--YES--The robot's response is very similar to the human answer.\""
      ]
     },
     "execution_count": 57,
     "metadata": {},
     "output_type": "execute_result"
    }
   ],
   "source": [
    "result"
   ]
  },
  {
   "cell_type": "code",
   "execution_count": 58,
   "id": "73e162b0",
   "metadata": {},
   "outputs": [],
   "source": [
    "parts = result.replace(\"\\n\", \"\").replace(\"\\r\", \"\").split(\"Question-\")"
   ]
  },
  {
   "cell_type": "code",
   "execution_count": 59,
   "id": "fa106959",
   "metadata": {},
   "outputs": [
    {
     "name": "stdout",
     "output_type": "stream",
     "text": [
      "i: 2 part: 1--Correctness--YES--The robot's response provides accurate information and guidelines. info: ['1', 'Correctness', 'YES', \"The robot's response provides accurate information and guidelines.\"]\n",
      "Item to add : {'test_id': '1', 'test': 'Correctness', 'result': 1, 'reason': \"The robot's response provides accurate information and guidelines.\"}\n",
      "i: 3 part: 2--Similarity--YES--The robot's response is very similar to the human answer. info: ['2', 'Similarity', 'YES', \"The robot's response is very similar to the human answer.\"]\n",
      "Item to add : {'test_id': '2', 'test': 'Similarity', 'result': 1, 'reason': \"The robot's response is very similar to the human answer.\"}\n"
     ]
    }
   ],
   "source": [
    "parts = result.replace(\"\\n\", \"\").replace(\"\\r\", \"\").split(\"Question-\")\n",
    "data = []\n",
    "for i, part in enumerate(parts, start=1):\n",
    "    if part:\n",
    "        info = part.split(\"--\")\n",
    "        print(f\"i: {i} part: {part} info: {info}\")\n",
    "        test_id = info[0]\n",
    "        test = info[1]\n",
    "        result = 1 if info[2] == \"YES\" else 0\n",
    "        reason = info[3]\n",
    "        item = {\n",
    "            \"test_id\": test_id,\n",
    "            \"test\": test,\n",
    "            \"result\": result,\n",
    "            \"reason\": reason\n",
    "        }\n",
    "        print(f\"Item to add : {item}\")\n",
    "        data.append(item)\n",
    "    \n"
   ]
  },
  {
   "cell_type": "code",
   "execution_count": 63,
   "id": "03839769",
   "metadata": {},
   "outputs": [],
   "source": [
    "import json\n",
    "\n",
    "def transform_open_ai_compare_to_json(input_string, debug=False):\n",
    "    data = []\n",
    "    if debug: print(f\" input string to process {input_string}\")\n",
    "    parts = input_string.replace(\"\\n\", \"\").replace(\"\\r\", \"\").split(\"Question-\")\n",
    "    if debug: print(f\"parts : {parts}\")\n",
    "    for i, part in enumerate(parts, start=1):\n",
    "        if part:\n",
    "            info = part.split(\"--\")\n",
    "            if debug: print(f\"i: {i} part: {part} info: {info}\")\n",
    "            test_id = info[0]\n",
    "            test = info[1]\n",
    "            result = 1 if info[2] == \"YES\" else 0\n",
    "            reason = info[3]\n",
    "            item = {\n",
    "                \"test_id\": test_id,\n",
    "                \"test\": test,\n",
    "                \"result\": result,\n",
    "                \"reason\": reason\n",
    "            }\n",
    "            if debug: print(f\"Item to add : {item}\")\n",
    "            data.append(item)\n",
    "    if debug: print(f\"data to json : {data}\")\n",
    "    return json.dumps(data, indent=2)"
   ]
  },
  {
   "cell_type": "code",
   "execution_count": 65,
   "id": "ea2b30d1",
   "metadata": {},
   "outputs": [
    {
     "name": "stdout",
     "output_type": "stream",
     "text": [
      "Question-1--Correctness--YES--The robot's response accurately conveys the information.\n",
      "Question-2--Similarity--YES--The robot's response is very similar to the human answer.\n",
      " input string to process Question-1--Correctness--YES--The robot's response accurately conveys the information.\n",
      "Question-2--Similarity--YES--The robot's response is very similar to the human answer.\n",
      "parts : ['', \"1--Correctness--YES--The robot's response accurately conveys the information.\", \"2--Similarity--YES--The robot's response is very similar to the human answer.\"]\n",
      "i: 2 part: 1--Correctness--YES--The robot's response accurately conveys the information. info: ['1', 'Correctness', 'YES', \"The robot's response accurately conveys the information.\"]\n",
      "Item to add : {'test_id': '1', 'test': 'Correctness', 'result': 1, 'reason': \"The robot's response accurately conveys the information.\"}\n",
      "i: 3 part: 2--Similarity--YES--The robot's response is very similar to the human answer. info: ['2', 'Similarity', 'YES', \"The robot's response is very similar to the human answer.\"]\n",
      "Item to add : {'test_id': '2', 'test': 'Similarity', 'result': 1, 'reason': \"The robot's response is very similar to the human answer.\"}\n",
      "data to json : [{'test_id': '1', 'test': 'Correctness', 'result': 1, 'reason': \"The robot's response accurately conveys the information.\"}, {'test_id': '2', 'test': 'Similarity', 'result': 1, 'reason': \"The robot's response is very similar to the human answer.\"}]\n",
      "[\n",
      "  {\n",
      "    \"test_id\": \"1\",\n",
      "    \"test\": \"Correctness\",\n",
      "    \"result\": 1,\n",
      "    \"reason\": \"The robot's response accurately conveys the information.\"\n",
      "  },\n",
      "  {\n",
      "    \"test_id\": \"2\",\n",
      "    \"test\": \"Similarity\",\n",
      "    \"result\": 1,\n",
      "    \"reason\": \"The robot's response is very similar to the human answer.\"\n",
      "  }\n",
      "]\n"
     ]
    }
   ],
   "source": [
    "result_to_test = get_completion(input_prompt=prompt, printResult=False)\n",
    "\n",
    "print(result_to_test)\n",
    "output_json = transform_open_ai_compare_to_json(result_to_test,debug=True)\n",
    "print(output_json)"
   ]
  },
  {
   "cell_type": "code",
   "execution_count": null,
   "id": "41e538a4",
   "metadata": {},
   "outputs": [],
   "source": []
  }
 ],
 "metadata": {
  "kernelspec": {
   "display_name": "Python 3 (ipykernel)",
   "language": "python",
   "name": "python3"
  },
  "language_info": {
   "codemirror_mode": {
    "name": "ipython",
    "version": 3
   },
   "file_extension": ".py",
   "mimetype": "text/x-python",
   "name": "python",
   "nbconvert_exporter": "python",
   "pygments_lexer": "ipython3",
   "version": "3.11.5"
  }
 },
 "nbformat": 4,
 "nbformat_minor": 5
}
