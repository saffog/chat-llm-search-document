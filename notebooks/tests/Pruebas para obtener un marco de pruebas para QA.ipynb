{
 "cells": [
  {
   "cell_type": "markdown",
   "id": "79eaaacb",
   "metadata": {},
   "source": [
    "# Explorar los métodos y código necesario para crear una librería para el framework de QA"
   ]
  },
  {
   "cell_type": "code",
   "execution_count": 1,
   "id": "b3d0f7a8",
   "metadata": {},
   "outputs": [],
   "source": [
    "import sys\n",
    "sys.path.append('../lib')\n",
    "\n",
    "import json\n",
    "import aoaiextutils"
   ]
  },
  {
   "cell_type": "code",
   "execution_count": 2,
   "id": "e793ce3f",
   "metadata": {},
   "outputs": [
    {
     "data": {
      "text/plain": [
       "'Baufest es una empresa que se rige por principios y valores que definen su cultura y forma de trabajo . Entre los beneficios que ofrece se encuentran la cercanía con los clientes y entre los baufesianos, fomentando un sentido de pertenencia y liderazgo [doc1]. Además, confían en el talento de sus empleados, favoreciendo el intercambio de ideas y experiencias para generar un sello diferencial e innovador en la creación de recursos [doc1]. Baufest también se destaca por satisfacer las expectativas de sus clientes y empleados con rapidez y eficiencia, garantizando la comunicación y mejora continua [doc1]. Por último, la empresa promueve un ambiente de trabajo libre de acoso, maltrato o conductas abusivas, y busca mejorar la calidad de vida personal y profesional de sus empleados [doc3].'"
      ]
     },
     "execution_count": 2,
     "metadata": {},
     "output_type": "execute_result"
    }
   ],
   "source": [
    "user_message = \"Lista los beneficios de Baufest\"\n",
    "aoaiextutils.get_extension_chat_completion(user_message)"
   ]
  },
  {
   "cell_type": "code",
   "execution_count": 3,
   "id": "2fe5849c",
   "metadata": {},
   "outputs": [
    {
     "name": "stdout",
     "output_type": "stream",
     "text": [
      "Responde la pregunta delimitada por ###Question###. Tu respuesta debe ser en español informal. Para responder tu pregunta toma en cuenta las siguientes recomendaciones: {template_rules} {template_user_data} ###Question### {user_question} ###Question###\n"
     ]
    }
   ],
   "source": [
    "template_rules = \"\"\"Recomendación 1 : Revisa los datos del usuario delimitados por ###user_data## para complementar tu respuesta.\n",
    "Recomendación 2 : Usa el nombre del usuario en tu respuesta siguiendo el siguiente formato <nombre del usuario> respuesta\"\"\"\n",
    "\n",
    "template_user_data = \"\"\"###user_data### Nombre: {user_name} | Antigüedad: {user_seniority} | Rol: {user_job} | Ubicación: {user_location} ###user_data###\"\"\"\n",
    "\n",
    "template_user_message = \"\"\"Responde la pregunta delimitada por ###Question###. Tu respuesta debe ser en español informal. \\\n",
    "Para responder tu pregunta toma en cuenta las siguientes recomendaciones: {template_rules} {template_user_data} ###Question### {user_question} ###Question###\"\"\"\n",
    "\n",
    "print(template_user_message)"
   ]
  },
  {
   "cell_type": "code",
   "execution_count": 4,
   "id": "4d4bca81",
   "metadata": {},
   "outputs": [
    {
     "data": {
      "text/plain": [
       "'Test'"
      ]
     },
     "execution_count": 4,
     "metadata": {},
     "output_type": "execute_result"
    }
   ],
   "source": [
    "BAUCHAT_TEMPLATE_USER_MESSAGE = \"\"\"{user_question}\"\"\"\n",
    "user_question = \"Test\"\n",
    "BAUCHAT_TEMPLATE_USER_MESSAGE.format(user_question=user_question)"
   ]
  },
  {
   "cell_type": "code",
   "execution_count": 5,
   "id": "2f7a0746",
   "metadata": {},
   "outputs": [],
   "source": [
    "def get_chat_completion(question):\n",
    "    user_message = BAUCHAT_TEMPLATE_USER_MESSAGE.format(user_question=question)\n",
    "    return aoaiextutils.get_extension_chat_completion(user_message)"
   ]
  },
  {
   "cell_type": "code",
   "execution_count": 6,
   "id": "b9ef958c",
   "metadata": {},
   "outputs": [
    {
     "name": "stdout",
     "output_type": "stream",
     "text": [
      "{'id_question': '1', 'question': '¿Cuáles son las ventajas de trabajar en Baufest?', 'expected_response': 'Estimado Fulanito Garza, una de las tantas ventajas de trabar en Baufest son las siguientes: BAU Dollar, donde recibes el beneficio del 20% de tu salario en dólares; BAU Health, reintegro del costo del gimnasio u otras actividades deportivas; BAU net, recibe una bonificación del costo del servicio de internet; BAU Lunch, Baufest te paga el lunch; BAU Home, se te reintegra el costo de la mudanza y Anti tráfico, tienes la posibilidad de ajustar tu horario laboral para evitar el tráfico.', 'tags': 'general', 'robot_answer': 'Baufest ofrece una cultura de trabajo basada en pilares que definen su forma de trabajar y ver las cosas, generando valor agregado [doc1]. Entre los pilares se encuentran la cercanía, la creatividad, la calidad y el compromiso . Además, Baufest se compromete a reconocer y promover las habilidades de sus integrantes, poniendo a su disposición medios de formación y actualización de conocimientos [doc3]. También se busca generar un lugar de trabajo libre de maltrato y violencia, no permitiendo la discriminación, el acoso o el maltrato de cualquier tipo [doc2][doc3]. En cuanto a la calidad de vida profesional, Baufest se compromete a garantizar que mejore y no se degrade la calidad de la vida personal y profesional de sus integrantes [doc2].'}\n",
      "{'id_question': '2', 'question': '¿Se puede cambiar el rango de horario una vez que elegí uno?', 'expected_response': 'Sí, pero se requiere que el rango de horario laboral se mantenga por un mes', 'tags': 'antitráfico', 'robot_answer': 'Sí, es posible cambiar el rango de horario una vez que ya se ha optado por uno, aunque se espera que se mantenga estable por al menos un mes para una organización fluida [doc1].'}\n",
      "{'id_question': '3', 'question': 'Mi escritura o contrato no está a mi nombre. ¿Puedo aplicar para el beneficio?', 'expected_response': 'Si, puedes presentar el contrato o escritura al nombre de otra persona, siempre que presentes un documento legal que respalde la convivencia, por ejemplo, como un certificado de concubinato, matrimonio o unión civil. Esto ayudará a garantizar que tu solicitud sea considerada de manera adecuada', 'tags': 'bau home', 'robot_answer': 'Sí, puedes presentar el contrato o escritura al nombre de otra persona, siempre que presentes un documento legal que respalde la convivencia, por ejemplo, como un certificado de concubinato, matrimonio o unión civil. Esto ayudará a garantizar que tu solicitud sea considerada de manera adecuada [doc1].'}\n",
      "{'id_question': '4', 'question': '¿Cómo obtengo mi almuerzo o lunch?', 'expected_response': 'A través de la App de Pedidos ya (Menú/PedidosYa Pagos) verás las acreditaciones que tenes disponible para usar', 'tags': 'bau lunch', 'robot_answer': 'Depende del país en el que te encuentres y del programa al que estés aplicando. Si estás en Argentina o Perú y aplicas al programa BAU Lunch, podrás obtener tu almuerzo a través de la aplicación de PedidosYa [doc1]. En Chile, el programa BAU Lunch funciona a través de Tickets Restaurant emitidos por Edenred [doc1]. En Uruguay, el beneficio se acredita mensualmente y se refleja en tu recibo de sueldo [doc1]. Recuerda que para acceder al beneficio es necesario cumplir con los requisitos correspondientes .'}\n",
      "{'id_question': '5', 'question': '¿El almuerzo se acredita todos los días?', 'expected_response': 'No la acreditación es semanal y se paga los viernes', 'tags': 'bau lunch', 'robot_answer': 'Depende del país en el que te encuentres. En Argentina y Perú, la acreditación del almuerzo es semanal, los viernes [doc2]. En Chile y Uruguay, la acreditación es mensual [doc1]. Por lo tanto, en Chile y Uruguay, el almuerzo no se acredita todos los días.'}\n"
     ]
    }
   ],
   "source": [
    "from datetime import datetime\n",
    "\n",
    "with open('People_Argentina_2years_short.json',encoding='utf-8') as archivo:\n",
    "    datos = json.load(archivo)\n",
    "\n",
    "results_with_robot_answer = []\n",
    "\n",
    "template_prompt = {\"template_to_test\":BAUCHAT_TEMPLATE_USER_MESSAGE}    \n",
    "\n",
    "for questions_answers_item in datos[\"questions_answers\"]:\n",
    "    if questions_answers_item:\n",
    "        question_to_test = questions_answers_item.get(\"question\")\n",
    "        if question_to_test:\n",
    "             questions_answers_item['robot_answer'] = get_chat_completion(question_to_test)\n",
    "    print(questions_answers_item)\n",
    "    results_with_robot_answer.append(questions_answers_item)\n",
    "\n",
    "\n",
    "# Get the current date and time\n",
    "current_datetime = datetime.now().strftime(\"%Y-%m-%d_%H-%M\")\n",
    "\n",
    "# Construct the filename with the current date and time\n",
    "filename = f\"People_Argentina_2years_{current_datetime}.json\"\n",
    "\n",
    "json_data = {\n",
    "    \"template_to_test\":BAUCHAT_TEMPLATE_USER_MESSAGE,\n",
    "    \"results\":results_with_robot_answer\n",
    "}\n",
    "\n",
    "json_string = json.dumps(json_data)\n",
    "\n",
    "\n",
    "# Writing the dictionary to a JSON file with the current date and time in the filename\n",
    "with open(filename, 'w') as file:\n",
    "    file.write(json_string)"
   ]
  },
  {
   "cell_type": "code",
   "execution_count": 7,
   "id": "83eac2c6",
   "metadata": {},
   "outputs": [
    {
     "name": "stdout",
     "output_type": "stream",
     "text": [
      "[\n",
      "    {\n",
      "        \"id_question\": \"1\",\n",
      "        \"question\": \"\\u00bfCu\\u00e1les son las ventajas de trabajar en Baufest?\",\n",
      "        \"expected_response\": \"Estimado Fulanito Garza, una de las tantas ventajas de trabar en Baufest son las siguientes: BAU Dollar, donde recibes el beneficio del 20% de tu salario en d\\u00f3lares; BAU Health, reintegro del costo del gimnasio u otras actividades deportivas; BAU net, recibe una bonificaci\\u00f3n del costo del servicio de internet; BAU Lunch, Baufest te paga el lunch; BAU Home, se te reintegra el costo de la mudanza y Anti tr\\u00e1fico, tienes la posibilidad de ajustar tu horario laboral para evitar el tr\\u00e1fico.\",\n",
      "        \"tags\": \"general\",\n",
      "        \"robot_answer\": \"Baufest ofrece una cultura de trabajo basada en pilares que definen su forma de trabajar y ver las cosas, generando valor agregado [doc1]. Entre los pilares se encuentran la cercan\\u00eda, la creatividad, la calidad y el compromiso . Adem\\u00e1s, Baufest se compromete a reconocer y promover las habilidades de sus integrantes, poniendo a su disposici\\u00f3n medios de formaci\\u00f3n y actualizaci\\u00f3n de conocimientos [doc3]. Tambi\\u00e9n se busca generar un lugar de trabajo libre de maltrato y violencia, no permitiendo la discriminaci\\u00f3n, el acoso o el maltrato de cualquier tipo [doc2][doc3]. En cuanto a la calidad de vida profesional, Baufest se compromete a garantizar que mejore y no se degrade la calidad de la vida personal y profesional de sus integrantes [doc2].\"\n",
      "    },\n",
      "    {\n",
      "        \"id_question\": \"2\",\n",
      "        \"question\": \"\\u00bfSe puede cambiar el rango de horario una vez que eleg\\u00ed uno?\",\n",
      "        \"expected_response\": \"S\\u00ed, pero se requiere que el rango de horario laboral se mantenga por un mes\",\n",
      "        \"tags\": \"antitr\\u00e1fico\",\n",
      "        \"robot_answer\": \"S\\u00ed, es posible cambiar el rango de horario una vez que ya se ha optado por uno, aunque se espera que se mantenga estable por al menos un mes para una organizaci\\u00f3n fluida [doc1].\"\n",
      "    },\n",
      "    {\n",
      "        \"id_question\": \"3\",\n",
      "        \"question\": \"Mi escritura o contrato no est\\u00e1 a mi nombre. \\u00bfPuedo aplicar para el beneficio?\",\n",
      "        \"expected_response\": \"Si, puedes presentar el contrato o escritura al nombre de otra persona, siempre que presentes un documento legal que respalde la convivencia, por ejemplo, como un certificado de concubinato, matrimonio o uni\\u00f3n civil. Esto ayudar\\u00e1 a garantizar que tu solicitud sea considerada de manera adecuada\",\n",
      "        \"tags\": \"bau home\",\n",
      "        \"robot_answer\": \"S\\u00ed, puedes presentar el contrato o escritura al nombre de otra persona, siempre que presentes un documento legal que respalde la convivencia, por ejemplo, como un certificado de concubinato, matrimonio o uni\\u00f3n civil. Esto ayudar\\u00e1 a garantizar que tu solicitud sea considerada de manera adecuada [doc1].\"\n",
      "    },\n",
      "    {\n",
      "        \"id_question\": \"4\",\n",
      "        \"question\": \"\\u00bfC\\u00f3mo obtengo mi almuerzo o lunch?\",\n",
      "        \"expected_response\": \"A trav\\u00e9s de la App de Pedidos ya (Men\\u00fa/PedidosYa Pagos) ver\\u00e1s las acreditaciones que tenes disponible para usar\",\n",
      "        \"tags\": \"bau lunch\",\n",
      "        \"robot_answer\": \"Depende del pa\\u00eds en el que te encuentres y del programa al que est\\u00e9s aplicando. Si est\\u00e1s en Argentina o Per\\u00fa y aplicas al programa BAU Lunch, podr\\u00e1s obtener tu almuerzo a trav\\u00e9s de la aplicaci\\u00f3n de PedidosYa [doc1]. En Chile, el programa BAU Lunch funciona a trav\\u00e9s de Tickets Restaurant emitidos por Edenred [doc1]. En Uruguay, el beneficio se acredita mensualmente y se refleja en tu recibo de sueldo [doc1]. Recuerda que para acceder al beneficio es necesario cumplir con los requisitos correspondientes .\"\n",
      "    },\n",
      "    {\n",
      "        \"id_question\": \"5\",\n",
      "        \"question\": \"\\u00bfEl almuerzo se acredita todos los d\\u00edas?\",\n",
      "        \"expected_response\": \"No la acreditaci\\u00f3n es semanal y se paga los viernes\",\n",
      "        \"tags\": \"bau lunch\",\n",
      "        \"robot_answer\": \"Depende del pa\\u00eds en el que te encuentres. En Argentina y Per\\u00fa, la acreditaci\\u00f3n del almuerzo es semanal, los viernes [doc2]. En Chile y Uruguay, la acreditaci\\u00f3n es mensual [doc1]. Por lo tanto, en Chile y Uruguay, el almuerzo no se acredita todos los d\\u00edas.\"\n",
      "    }\n",
      "]\n"
     ]
    }
   ],
   "source": [
    "print(aoaiextutils.beautify_json(results_with_robot_answer))"
   ]
  }
 ],
 "metadata": {
  "kernelspec": {
   "display_name": "Python 3 (ipykernel)",
   "language": "python",
   "name": "python3"
  },
  "language_info": {
   "codemirror_mode": {
    "name": "ipython",
    "version": 3
   },
   "file_extension": ".py",
   "mimetype": "text/x-python",
   "name": "python",
   "nbconvert_exporter": "python",
   "pygments_lexer": "ipython3",
   "version": "3.11.5"
  }
 },
 "nbformat": 4,
 "nbformat_minor": 5
}
