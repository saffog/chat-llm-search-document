{
 "cells": [
  {
   "cell_type": "code",
   "execution_count": null,
   "id": "41186b0f",
   "metadata": {},
   "outputs": [],
   "source": []
  },
  {
   "cell_type": "code",
   "execution_count": 1,
   "id": "b3d0f7a8",
   "metadata": {},
   "outputs": [],
   "source": [
    "import json\n",
    "import aoaiextutils"
   ]
  },
  {
   "cell_type": "code",
   "execution_count": 2,
   "id": "e793ce3f",
   "metadata": {},
   "outputs": [
    {
     "data": {
      "text/plain": [
       "'Baufest es una empresa que se rige por principios y valores que definen su cultura y forma de trabajo . Entre los beneficios que ofrece Baufest se encuentran:\\n\\n- Cercanía: Fomentan relaciones cercanas con sus clientes y entre los baufesianos, ayudando a generar un sentido de pertenencia y liderazgo. Trabajan en equipo y con alegría, ayudan, comparten y enseñan, y son respetuosos y agradecidos [doc1].\\n- Creatividad: Confían en el talento de sus baufesianos, favoreciendo el intercambio de ideas y experiencias; para así, generar un sello diferencial e innovador en la creación de recursos. Son curiosos, exploran y aprenden [doc1].\\n- Calidad: Satisfacen las expectativas de su gente y sus clientes con rapidez y eficiencia, garantizando la comunicación y mejora continua. Trabajan con un método y organizadamente, acuerdan las expectativas, se anticipan y planean, construyen soluciones útiles y sólidas, las validan y prueban, garantizan lo que hacen, y les interesa mejorar [doc1].\\n- Compromiso: Mantienen un equilibrio entre la organización, su gente y clientes, generando soluciones valiosas con responsabilidad y una mirada hacia el futuro [doc1].\\n- Ambiente de trabajo libre de acoso, maltrato o conductas abusivas (físicas, verbales o visuales) [doc3].\\n- Promoción activa de un ambiente de trabajo libre de acoso, maltrato o conductas abusivas (físicas, verbales o visuales) [doc3].\\n- No permiten aprovecharse de manera ilegítima de nadie a través de la manipulación, el ocultamiento o uso indebido del poder, información privilegiada o cualquier otra práctica deshonesta [doc3].\\n- No permiten la discriminación o acoso por motivos de raza, color, piel, religión, género, identidad de género, orientación sexual, edad o discapacidad. No toleran ningún tipo de acoso, hostigamiento o conducta abusiva; incluyendo las bromas, situaciones, insinuaciones o comentarios degradantes de contenido sexual, o discriminatorio, relacionados con cualquier clase de diferencia personal [doc3].\\n- Garantizan que mejoren, y no se degraden, la calidad de la vida personal y profesional de sus empleados. Tienen en cuenta el desarrollo personal y profesional, los requisitos de accesibilidad, la seguridad física, el bienestar psicológico y la dignidad humana de todos los integrantes de Baufest [doc3].\\n\\nEs importante mencionar que Baufest es una empresa que se rige por principios éticos y valores, y que estos beneficios son solo algunos de los que ofrece.'"
      ]
     },
     "execution_count": 2,
     "metadata": {},
     "output_type": "execute_result"
    }
   ],
   "source": [
    "user_message = \"Lista los beneficios de Baufest\"\n",
    "aoaiextutils.get_extension_chat_completion(user_message)"
   ]
  },
  {
   "cell_type": "code",
   "execution_count": 3,
   "id": "2fe5849c",
   "metadata": {},
   "outputs": [
    {
     "name": "stdout",
     "output_type": "stream",
     "text": [
      "Responde la pregunta delimitada por ###Question###. Tu respuesta debe ser en español informal. Para responder tu pregunta toma en cuenta las siguientes recomendaciones: {template_rules} {template_user_data} ###Question### {user_question} ###Question###\n"
     ]
    }
   ],
   "source": [
    "template_rules = \"\"\"Recomendación 1 : Revisa los datos del usuario delimitados por ###user_data## para complementar tu respuesta.\n",
    "Recomendación 2 : Usa el nombre del usuario en tu respuesta siguiendo el siguiente formato <nombre del usuario> respuesta\"\"\"\n",
    "\n",
    "template_user_data = \"\"\"###user_data### Nombre: {user_name} | Antigüedad: {user_seniority} | Rol: {user_job} | Ubicación: {user_location} ###user_data###\"\"\"\n",
    "\n",
    "template_user_message = \"\"\"Responde la pregunta delimitada por ###Question###. Tu respuesta debe ser en español informal. \\\n",
    "Para responder tu pregunta toma en cuenta las siguientes recomendaciones: {template_rules} {template_user_data} ###Question### {user_question} ###Question###\"\"\"\n",
    "\n",
    "print(template_user_message)"
   ]
  },
  {
   "cell_type": "code",
   "execution_count": 4,
   "id": "4d4bca81",
   "metadata": {},
   "outputs": [
    {
     "data": {
      "text/plain": [
       "'Test'"
      ]
     },
     "execution_count": 4,
     "metadata": {},
     "output_type": "execute_result"
    }
   ],
   "source": [
    "BAUCHAT_TEMPLATE_USER_MESSAGE = \"\"\"{user_question}\"\"\"\n",
    "user_question = \"Test\"\n",
    "BAUCHAT_TEMPLATE_USER_MESSAGE.format(user_question=user_question)"
   ]
  },
  {
   "cell_type": "code",
   "execution_count": 5,
   "id": "2f7a0746",
   "metadata": {},
   "outputs": [],
   "source": [
    "def get_chat_completion(question):\n",
    "    user_message = BAUCHAT_TEMPLATE_USER_MESSAGE.format(user_question=question)\n",
    "    return aoaiextutils.get_extension_chat_completion(user_message)"
   ]
  },
  {
   "cell_type": "code",
   "execution_count": 6,
   "id": "b9ef958c",
   "metadata": {},
   "outputs": [
    {
     "name": "stdout",
     "output_type": "stream",
     "text": [
      "{'id_question': '1', 'question': '¿Cuáles son las ventajas de trabajar en Baufest?', 'expected_response': 'Estimado Fulanito Garza, una de las tantas ventajas de trabar en Baufest son las siguientes: BAU Dollar, donde recibes el beneficio del 20% de tu salario en dólares; BAU Health, reintegro del costo del gimnasio u otras actividades deportivas; BAU net, recibe una bonificación del costo del servicio de internet; BAU Lunch, Baufest te paga el lunch; BAU Home, se te reintegra el costo de la mudanza y Anti tráfico, tienes la posibilidad de ajustar tu horario laboral para evitar el tráfico.', 'tags': 'general', 'robot_answer': 'Baufest tiene una cultura definida por sus pilares, los cuales definen su forma de trabajar y ver las cosas, asegurando el buen funcionamiento y rendimiento conforme a sus normas y valores, generando valor agregado. Entre las ventajas de trabajar en Baufest se encuentran la cercanía con los clientes y entre los baufesianos, fomentando un sentido de pertenencia y liderazgo; la confianza en el talento de sus baufesianos, favoreciendo el intercambio de ideas y experiencias para generar un sello diferencial e innovador en la creación de recursos; la satisfacción de las expectativas de su gente y sus clientes con rapidez y eficiencia, garantizando la comunicación y mejora continua; y el compromiso de reconocer y promover las habilidades de los integrantes, poniendo a su disposición medios de formación y actualización de conocimientos. Además, Baufest busca generar un lugar de trabajo libre de maltrato y violencia, promoviendo trabajar con cercanía y compromiso, y buscando generar un ambiente de trabajo libre de discriminación, acoso o maltrato de cualquier tipo. [doc1][doc2][doc3]'}\n",
      "{'id_question': '2', 'question': '¿Se puede cambiar el rango de horario una vez que elegí uno?', 'expected_response': 'Sí, pero se requiere que el rango de horario laboral se mantenga por un mes', 'tags': 'antitráfico', 'robot_answer': 'Sí, es posible cambiar el rango de horario una vez que ya se ha optado por uno, aunque se espera que se mantenga estable por al menos un mes para una fluida organización [doc1].'}\n",
      "{'id_question': '3', 'question': 'Mi escritura o contrato no está a mi nombre. ¿Puedo aplicar para el beneficio?', 'expected_response': 'Si, puedes presentar el contrato o escritura al nombre de otra persona, siempre que presentes un documento legal que respalde la convivencia, por ejemplo, como un certificado de concubinato, matrimonio o unión civil. Esto ayudará a garantizar que tu solicitud sea considerada de manera adecuada', 'tags': 'bau home', 'robot_answer': 'Sí, puedes presentar el contrato o escritura al nombre de otra persona, siempre que presentes un documento legal que respalde la convivencia, por ejemplo, como un certificado de concubinato, matrimonio o unión civil. Esto ayudará a garantizar que tu solicitud sea considerada de manera adecuada [doc1].'}\n",
      "{'id_question': '4', 'question': '¿Cómo obtengo mi almuerzo o lunch?', 'expected_response': 'A través de la App de Pedidos ya (Menú/PedidosYa Pagos) verás las acreditaciones que tenes disponible para usar', 'tags': 'bau lunch', 'robot_answer': 'Dependiendo del país en el que te encuentres, el proceso para obtener el almuerzo o lunch puede variar. Si estás en Argentina o Perú, podrás obtenerlo a través de la aplicación de PedidosYa, donde verás las acreditaciones disponibles para usar[doc1]. Si estás en Chile, podrás obtenerlo a través de Tickets Restaurant emitidos por Edenred[doc1]. Y si estás en Uruguay, se te acreditará un importe mensual destinado para este fin y lo verás reflejado en tu recibo de sueldo[doc1]. Recuerda que para obtener el beneficio es necesario cumplir con los requisitos correspondientes.'}\n",
      "{'id_question': '5', 'question': '¿El almuerzo se acredita todos los días?', 'expected_response': 'No la acreditación es semanal y se paga los viernes', 'tags': 'bau lunch', 'robot_answer': 'Depende del país en el que te encuentres. En Argentina y Perú, la acreditación del almuerzo es semanal, los viernes. En Chile y Uruguay, la acreditación es mensual [doc1].'}\n"
     ]
    }
   ],
   "source": [
    "from datetime import datetime\n",
    "\n",
    "with open('People_Argentina_2years_short.json',encoding='utf-8') as archivo:\n",
    "    datos = json.load(archivo)\n",
    "\n",
    "results_with_robot_answer = []\n",
    "\n",
    "template_prompt = {\"template_to_test\":BAUCHAT_TEMPLATE_USER_MESSAGE}    \n",
    "\n",
    "for questions_answers_item in datos[\"questions_answers\"]:\n",
    "    if questions_answers_item:\n",
    "        question_to_test = questions_answers_item.get(\"question\")\n",
    "        if question_to_test:\n",
    "             questions_answers_item['robot_answer'] = get_chat_completion(question_to_test)\n",
    "    print(questions_answers_item)\n",
    "    results_with_robot_answer.append(questions_answers_item)\n",
    "\n",
    "\n",
    "# Get the current date and time\n",
    "current_datetime = datetime.now().strftime(\"%Y-%m-%d_%H-%M\")\n",
    "\n",
    "# Construct the filename with the current date and time\n",
    "filename = f\"People_Argentina_2years_{current_datetime}.json\"\n",
    "\n",
    "json_data = {\n",
    "    \"template_to_test\":BAUCHAT_TEMPLATE_USER_MESSAGE,\n",
    "    \"results\":results_with_robot_answer\n",
    "}\n",
    "\n",
    "json_string = json.dumps(json_data)\n",
    "\n",
    "\n",
    "# Writing the dictionary to a JSON file with the current date and time in the filename\n",
    "with open(filename, 'w') as file:\n",
    "    file.write(json_string)"
   ]
  },
  {
   "cell_type": "code",
   "execution_count": null,
   "id": "83eac2c6",
   "metadata": {},
   "outputs": [],
   "source": [
    "print(aoaiextutils.beautify_json(results_with_robot_answer))"
   ]
  },
  {
   "cell_type": "code",
   "execution_count": null,
   "id": "c4916e05",
   "metadata": {},
   "outputs": [],
   "source": []
  },
  {
   "cell_type": "code",
   "execution_count": null,
   "id": "96109448",
   "metadata": {},
   "outputs": [],
   "source": [
    "with open('People_Argentina_2years.json',encoding='utf-8') as archivo:\n",
    "    datos = json.load(archivo)\n",
    "\n",
    "expected_responses = []\n",
    "\n",
    "for questions_answers_item in datos[\"questions_answers\"]:\n",
    "    if questions_answers_item:\n",
    "        question_to_test = questions_answers_item.get(\"question\")\n",
    "        if question_to_test:\n",
    "             questions_answers_item['robot_answer'] = get_chat_completion(question_to_test)\n",
    "    print(questions_answers_item)\n"
   ]
  },
  {
   "cell_type": "code",
   "execution_count": null,
   "id": "8537eebd",
   "metadata": {},
   "outputs": [],
   "source": []
  },
  {
   "cell_type": "code",
   "execution_count": null,
   "id": "c59886eb",
   "metadata": {},
   "outputs": [],
   "source": []
  }
 ],
 "metadata": {
  "kernelspec": {
   "display_name": "Python 3 (ipykernel)",
   "language": "python",
   "name": "python3"
  },
  "language_info": {
   "codemirror_mode": {
    "name": "ipython",
    "version": 3
   },
   "file_extension": ".py",
   "mimetype": "text/x-python",
   "name": "python",
   "nbconvert_exporter": "python",
   "pygments_lexer": "ipython3",
   "version": "3.11.5"
  }
 },
 "nbformat": 4,
 "nbformat_minor": 5
}
