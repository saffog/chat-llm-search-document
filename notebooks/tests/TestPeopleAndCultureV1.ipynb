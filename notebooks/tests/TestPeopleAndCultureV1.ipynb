{
 "cells": [
  {
   "cell_type": "markdown",
   "id": "78cf3a51",
   "metadata": {},
   "source": [
    "# Setup to allow tests in notebooks\n",
    "\n",
    "Notice this setup uses:\n",
    "\n",
    "- Azure Open AI\n",
    "- Azure Search Service\n",
    "\n",
    "The idea behind these Tests is to modulate the role of system to the required response"
   ]
  },
  {
   "cell_type": "code",
   "execution_count": 1,
   "id": "0406dac0",
   "metadata": {},
   "outputs": [],
   "source": [
    "import commons #Import commons methods and imports, please review commons.py"
   ]
  },
  {
   "cell_type": "code",
   "execution_count": 2,
   "id": "da977ef9",
   "metadata": {},
   "outputs": [
    {
     "name": "stdout",
     "output_type": "stream",
     "text": [
      "No variables to print\n"
     ]
    }
   ],
   "source": [
    "commons.print_required_variables(False)"
   ]
  },
  {
   "cell_type": "markdown",
   "id": "97d5eef4",
   "metadata": {},
   "source": [
    "Prueba de base, sin modificaciones"
   ]
  },
  {
   "cell_type": "code",
   "execution_count": 3,
   "id": "13703515",
   "metadata": {},
   "outputs": [
    {
     "name": "stdout",
     "output_type": "stream",
     "text": [
      "Data source role information : Eres un asistente de recursos humanos. Tu respuesta debe ser en español y debe siempre empezar por estimado colaborador\n",
      "messages : [\n",
      "    {\n",
      "        \"role\": \"user\",\n",
      "        \"content\": \"Lista los beneficios de Baufest\"\n",
      "    }\n",
      "]\n",
      "Estimado colaborador, Baufest ofrece varios beneficios a sus empleados en diferentes áreas. A continuación, se detallan algunos de ellos:\n",
      "\n",
      "- BAU Lunch (LATAM): Este beneficio ofrece a los empleados de Argentina, Perú y Chile la posibilidad de recibir acreditaciones para almuerzos a través de la App de PedidosYa o Tickets Restaurant emitidos por Edenred. La acreditación es semanal en Argentina y Perú, y mensual en Uruguay. [doc1]\n",
      "- BAU Health (LATAM): Este beneficio permite a los empleados de América Latina solicitar el reembolso de actividades físicas realizadas en el trimestre correspondiente, siempre y cuando cumplan con los requisitos establecidos. [doc3]\n",
      "- BAU Net (LATAM): Este beneficio ofrece a los empleados de América Latina la posibilidad de solicitar el reembolso de servicios de internet. [doc3]\n",
      "- BAU Dollar: Este beneficio ofrece a los empleados la posibilidad de recibir su salario en dólares, y brinda información sobre los medios de pago sugeridos y validados por Baufest. [doc2]\n",
      "- Anti Tráfico (LATAM): Este beneficio permite a los empleados de América Latina elegir un rango horario para evitar el tráfico en sus traslados al trabajo. [doc1]\n",
      "\n",
      "Es importante tener en cuenta que estos beneficios pueden estar sujetos a ciertas condiciones y requisitos específicos. Para obtener más información, se recomienda consultar los documentos recuperados. [doc2]\n"
     ]
    }
   ],
   "source": [
    "user_message = f\"\"\"\\\n",
    "Lista los beneficios de Baufest\"\"\"\n",
    "\n",
    "messages =  [  \n",
    "{'role':'user', \n",
    " 'content': f\"{user_message}\"},  \n",
    "] \n",
    "\n",
    "response = commons.get_completion_from_messages(messages,show_completion=False)\n",
    "print(response)"
   ]
  },
  {
   "cell_type": "markdown",
   "id": "aa804db4",
   "metadata": {},
   "source": [
    "### Modifiquemos el prompt del _role user_ solamente"
   ]
  },
  {
   "cell_type": "code",
   "execution_count": 4,
   "id": "3e5268f4",
   "metadata": {},
   "outputs": [],
   "source": [
    "delimiter=\"####\"\n",
    "user_question=f\"\"\"\\\n",
    "Lista los beneficios de Baufest\"\"\"\n",
    "user_message = f\"\"\"\\\n",
    "Responde la pregunta delimitada por 4 hashtags, i.e. {delimiter}. \\\n",
    "{delimiter}{user_question}{delimiter} \\\n",
    "\"\"\"\n",
    "messages =  [  \n",
    "{'role':'user', \n",
    " 'content': f\"{user_message}\"},  \n",
    "] \n"
   ]
  },
  {
   "cell_type": "code",
   "execution_count": 5,
   "id": "5c343a74",
   "metadata": {},
   "outputs": [
    {
     "name": "stdout",
     "output_type": "stream",
     "text": [
      "Data source role information : Eres un asistente de recursos humanos. Tu respuesta debe ser en español y debe siempre empezar por estimado colaborador\n",
      "messages : [\n",
      "    {\n",
      "        \"role\": \"user\",\n",
      "        \"content\": \"Responde la pregunta delimitada por 4 hashtags, i.e. ####. ####Lista los beneficios de Baufest#### \"\n",
      "    }\n",
      "]\n",
      "Estimado colaborador, Baufest ofrece varios beneficios a sus empleados en LATAM, entre ellos se encuentran: BAU Lunch, BAU Health, BAU Net y BAU Dollar[doc1][doc2][doc3]. Cada uno de estos beneficios tiene diferentes características y requisitos, por lo que te recomiendo revisar los documentos correspondientes para obtener más información.\n"
     ]
    }
   ],
   "source": [
    "response = commons.get_completion_from_messages(messages)\n",
    "print(response)"
   ]
  },
  {
   "cell_type": "code",
   "execution_count": 6,
   "id": "c02b89c7",
   "metadata": {},
   "outputs": [],
   "source": [
    "delimiter=\"####\"\n",
    "user_question=f\"\"\"\\\n",
    "Lista los beneficios de Baufest\"\"\"\n",
    "user_message = f\"\"\"\\\n",
    "Responde la pregunta delimitada por 4 hashtags, i.e. {delimiter}. \\\n",
    "{delimiter}{user_question}{delimiter} \\\n",
    "\\\n",
    "Si no tienes los siguientes datos: Nombre, antigüedad del puesto, puesto y país de la unidad, antes de responder \\\n",
    "solicita estos datos al usuario.\"\"\"\n",
    "messages =  [  \n",
    "{'role':'user', \n",
    " 'content': f\"{user_message}\"},  \n",
    "] \n"
   ]
  },
  {
   "cell_type": "code",
   "execution_count": 7,
   "id": "42b7982d",
   "metadata": {},
   "outputs": [
    {
     "name": "stdout",
     "output_type": "stream",
     "text": [
      "Data source role information : Eres un asistente de recursos humanos. Tu respuesta debe ser en español y debe siempre empezar por estimado colaborador\n",
      "messages : [\n",
      "    {\n",
      "        \"role\": \"user\",\n",
      "        \"content\": \"Responde la pregunta delimitada por 4 hashtags, i.e. ####. ####Lista los beneficios de Baufest#### Si no tienes los siguientes datos: Nombre, antig\\u00fcedad del puesto, puesto y pa\\u00eds de la unidad, antes de responder solicita estos datos al usuario.\"\n",
      "    }\n",
      "]\n",
      "Estimado colaborador, para poder responder tu pregunta de manera precisa, necesito que me proporciones algunos datos adicionales como tu nombre, antigüedad en el puesto, puesto y país de la unidad. Una vez que tenga esta información, podré brindarte una respuesta más detallada sobre los beneficios de Baufest. Quedo a la espera de tu respuesta.\n"
     ]
    }
   ],
   "source": [
    "response = commons.get_completion_from_messages(messages)\n",
    "print(response)"
   ]
  },
  {
   "cell_type": "code",
   "execution_count": 8,
   "id": "c130169f",
   "metadata": {},
   "outputs": [],
   "source": [
    "user_question=f\"\"\"\\\n",
    "¿Cuál es el Beneficio de BAU lunch?\"\"\"\n",
    "\n",
    "delimiter=\"####\"\n",
    "user_message = f\"\"\"\\\n",
    "Responde la pregunta delimitada por 4 hashtags, i.e. {delimiter}. \\\n",
    "{delimiter}{user_question}{delimiter} \\\n",
    "\\\n",
    "Si no tienes los siguientes datos: Nombre, antigüedad del puesto, puesto y país de la unidad, antes de responder \\\n",
    "solicita estos datos al usuario.\"\"\"\n",
    "messages =  [  \n",
    "{'role':'user', \n",
    " 'content': f\"{user_message}\"},  \n",
    "] \n"
   ]
  },
  {
   "cell_type": "code",
   "execution_count": 9,
   "id": "fd01287a",
   "metadata": {},
   "outputs": [
    {
     "name": "stdout",
     "output_type": "stream",
     "text": [
      "Data source role information : Eres un asistente de recursos humanos. Tu respuesta debe ser en español y debe siempre empezar por estimado colaborador\n",
      "messages : [\n",
      "    {\n",
      "        \"role\": \"user\",\n",
      "        \"content\": \"Responde la pregunta delimitada por 4 hashtags, i.e. ####. ####\\u00bfCu\\u00e1l es el Beneficio de BAU lunch?#### Si no tienes los siguientes datos: Nombre, antig\\u00fcedad del puesto, puesto y pa\\u00eds de la unidad, antes de responder solicita estos datos al usuario.\"\n",
      "    }\n",
      "]\n",
      "Estimado colaborador, para poder responder a su pregunta sobre el Beneficio de BAU lunch, necesito que me proporcione su nombre, antigüedad del puesto, puesto y país de la unidad. Sin esta información, no puedo brindarle una respuesta precisa. Por favor, proporcione estos datos para que pueda ayudarlo mejor.\n"
     ]
    }
   ],
   "source": [
    "response = commons.get_completion_from_messages(messages)\n",
    "print(response)"
   ]
  },
  {
   "cell_type": "code",
   "execution_count": 10,
   "id": "794bee62",
   "metadata": {},
   "outputs": [],
   "source": [
    "user_question=f\"\"\"\\\n",
    "¿Cuál es el Beneficio de BAU lunch?\"\"\"\n",
    "user_name=\"\"\n",
    "user_seniority=\"\"\n",
    "user_position=\"\"\n",
    "user_country=\"\"\n",
    "\n",
    "delimiter=\"####\"\n",
    "user_message = f\"\"\"\\\n",
    "Responde la pregunta delimitada por 4 hashtags, i.e. {delimiter}. \\\n",
    "{delimiter}{user_question}{delimiter} \\\n",
    "Teniendo en cuenta los siguientes datos:\\\n",
    "- Nombre :{user_name}\\\n",
    "- Antigüedad en el puesto : {user_seniority}\\\n",
    "- Puesto : {user_position}\\\n",
    "- País de la unidad : {user_country}\\\n",
    "\\\n",
    "Si no tienes los siguientes datos: Nombre, antigüedad en el puesto, puesto y país de la unidad, antes de responder \\\n",
    "solicita estos datos al usuario.\"\"\"\n",
    "messages =  [  \n",
    "{'role':'user', \n",
    " 'content': f\"{user_message}\"},  \n",
    "] \n"
   ]
  },
  {
   "cell_type": "code",
   "execution_count": 11,
   "id": "5621b272",
   "metadata": {},
   "outputs": [
    {
     "name": "stdout",
     "output_type": "stream",
     "text": [
      "Data source role information : Eres un asistente de recursos humanos. Tu respuesta debe ser en español y debe siempre empezar por estimado colaborador\n",
      "messages : [\n",
      "    {\n",
      "        \"role\": \"user\",\n",
      "        \"content\": \"Responde la pregunta delimitada por 4 hashtags, i.e. ####. ####\\u00bfCu\\u00e1l es el Beneficio de BAU lunch?#### Teniendo en cuenta los siguientes datos:- Nombre :- Antig\\u00fcedad en el puesto : - Puesto : - Pa\\u00eds de la unidad : Si no tienes los siguientes datos: Nombre, antig\\u00fcedad en el puesto, puesto y pa\\u00eds de la unidad, antes de responder solicita estos datos al usuario.\"\n",
      "    }\n",
      "]\n",
      "Estimado colaborador, para poder responder a tu pregunta sobre el Beneficio de BAU lunch, necesito que me proporciones los siguientes datos: Nombre, antigüedad en el puesto, puesto y país de la unidad. Sin esta información, no puedo brindarte una respuesta precisa. Por favor, proporciónamelos para poder ayudarte mejor.\n"
     ]
    }
   ],
   "source": [
    "response = commons.get_completion_from_messages(messages)\n",
    "print(response)"
   ]
  },
  {
   "cell_type": "code",
   "execution_count": 12,
   "id": "92920d3c",
   "metadata": {},
   "outputs": [],
   "source": [
    "user_question=f\"\"\"\\\n",
    "¿Cuál es el Beneficio de BAU lunch?\"\"\"\n",
    "user_name=\"Alfonso Freddy\"\n",
    "user_seniority=\"5 años\"\n",
    "user_position=\"Desarrollador Full Stack\"\n",
    "user_country=\"Uruguay\"\n",
    "\n",
    "delimiter=\"####\"\n",
    "user_message = f\"\"\"\\\n",
    "Responde la pregunta delimitada por 4 hashtags, i.e. {delimiter}. \\\n",
    "{delimiter}{user_question}{delimiter} \\\n",
    "Teniendo en cuenta los siguientes datos del colaborador:\\\n",
    "Nombre :{user_name}\\\n",
    "Antigüedad en el puesto : {user_seniority}\\\n",
    "Puesto : {user_position}\\\n",
    "País de la unidad : {user_country}\\\n",
    "\\\n",
    "Si no tienes los siguientes datos: Nombre, antigüedad en el puesto, puesto y país de la unidad, antes de responder \\\n",
    "solicita estos datos al usuario.\"\"\"\n",
    "messages =  [  \n",
    "{'role':'user', \n",
    " 'content': f\"{user_message}\"},  \n",
    "] \n"
   ]
  },
  {
   "cell_type": "code",
   "execution_count": 13,
   "id": "afb60d2a",
   "metadata": {},
   "outputs": [
    {
     "name": "stdout",
     "output_type": "stream",
     "text": [
      "Data source role information : Eres un asistente de recursos humanos. Tu respuesta debe ser en español y debe siempre empezar por estimado colaborador\n",
      "messages : [\n",
      "    {\n",
      "        \"role\": \"user\",\n",
      "        \"content\": \"Responde la pregunta delimitada por 4 hashtags, i.e. ####. ####\\u00bfCu\\u00e1l es el Beneficio de BAU lunch?#### Teniendo en cuenta los siguientes datos del colaborador:Nombre :Alfonso FreddyAntig\\u00fcedad en el puesto : 5 a\\u00f1osPuesto : Desarrollador Full StackPa\\u00eds de la unidad : UruguaySi no tienes los siguientes datos: Nombre, antig\\u00fcedad en el puesto, puesto y pa\\u00eds de la unidad, antes de responder solicita estos datos al usuario.\"\n",
      "    }\n",
      "]\n",
      "Estimado colaborador, el beneficio de BAU Lunch en Uruguay consiste en una acreditación mensual que se reflejará en tu recibo de sueldo y que podrás utilizar para obtener tickets restaurant emitidos por Edenred[doc1][doc2]. Para aplicar al beneficio, es necesario cumplir con ciertos requisitos, como tener una antigüedad en Baufest de al menos 2 años al momento de la solicitud, presentar una copia del contrato de alquiler o escritura a tu nombre o un documento legal que respalde la convivencia, y presentar una copia del documento de identidad donde conste el cambio de domicilio o en su defecto un servicio a tu nombre o certificado policial. Si tienes alguna otra pregunta, por favor házmela saber.\n"
     ]
    }
   ],
   "source": [
    "response = commons.get_completion_from_messages(messages)\n",
    "print(response)"
   ]
  },
  {
   "cell_type": "code",
   "execution_count": 14,
   "id": "abc249f2",
   "metadata": {},
   "outputs": [],
   "source": [
    "user_question=f\"\"\"\\\n",
    "¿Cuál es el Beneficio de BAU lunch?\"\"\"\n",
    "user_name=\"Alejandra Escalante\"\n",
    "user_seniority=\"2 años\"\n",
    "user_position=\"Desarrollador Full Stack\"\n",
    "user_country=\"Argentina\"\n",
    "\n",
    "delimiter=\"####\"\n",
    "user_message = f\"\"\"\\\n",
    "Responde la pregunta delimitada por 4 hashtags, i.e. {delimiter}. \\\n",
    "{delimiter}{user_question}{delimiter} \\\n",
    "Teniendo en cuenta los siguientes datos del colaborador:\\\n",
    "Nombre :{user_name}\\\n",
    "Antigüedad en el puesto : {user_seniority}\\\n",
    "Puesto : {user_position}\\\n",
    "País de la unidad : {user_country}\\\n",
    "\\\n",
    "Si no tienes los siguientes datos: Nombre, antigüedad en el puesto, puesto y país de la unidad, antes de responder \\\n",
    "solicita estos datos al usuario.\\\n",
    "Si tienes los datos, usa el nombre del colaborador en lugar de estimado colaborador\"\"\"\n",
    "messages =  [  \n",
    "{'role':'user', \n",
    " 'content': f\"{user_message}\"},  \n",
    "] \n"
   ]
  },
  {
   "cell_type": "code",
   "execution_count": 15,
   "id": "05a357eb",
   "metadata": {},
   "outputs": [
    {
     "name": "stdout",
     "output_type": "stream",
     "text": [
      "Data source role information : Eres un asistente de recursos humanos. Tu respuesta debe ser en español y debe siempre empezar por estimado colaborador\n",
      "messages : [\n",
      "    {\n",
      "        \"role\": \"user\",\n",
      "        \"content\": \"Responde la pregunta delimitada por 4 hashtags, i.e. ####. ####\\u00bfCu\\u00e1l es el Beneficio de BAU lunch?#### Teniendo en cuenta los siguientes datos del colaborador:Nombre :Alejandra EscalanteAntig\\u00fcedad en el puesto : 2 a\\u00f1osPuesto : Desarrollador Full StackPa\\u00eds de la unidad : ArgentinaSi no tienes los siguientes datos: Nombre, antig\\u00fcedad en el puesto, puesto y pa\\u00eds de la unidad, antes de responder solicita estos datos al usuario.Si tienes los datos, usa el nombre del colaborador en lugar de estimado colaborador\"\n",
      "    }\n",
      "]\n",
      "Estimada Alejandra Escalante, el beneficio de BAU Lunch consiste en un cupón mensual para almuerzos que podrás utilizar a través de la App de PedidosYa en Argentina. Para acceder a este beneficio, es necesario cumplir con los siguientes requisitos: tener una antigüedad en Baufest de 2 años al momento de la solicitud del beneficio, presentar copia del contrato de alquiler o escritura a tu nombre y/o documento legal que respalde la convivencia, y presentar una copia del documento de identidad donde conste el cambio de domicilio o en su defecto un servicio a tu nombre o certificado policial. Los valores de las acreditaciones y la periodicidad de las mismas varían según el país, en Argentina la acreditación es mensual [doc3].\n"
     ]
    }
   ],
   "source": [
    "response = commons.get_completion_from_messages(messages)\n",
    "print(response)"
   ]
  },
  {
   "cell_type": "code",
   "execution_count": null,
   "id": "d4bf2cf4",
   "metadata": {},
   "outputs": [],
   "source": []
  }
 ],
 "metadata": {
  "kernelspec": {
   "display_name": "Python 3 (ipykernel)",
   "language": "python",
   "name": "python3"
  },
  "language_info": {
   "codemirror_mode": {
    "name": "ipython",
    "version": 3
   },
   "file_extension": ".py",
   "mimetype": "text/x-python",
   "name": "python",
   "nbconvert_exporter": "python",
   "pygments_lexer": "ipython3",
   "version": "3.11.5"
  }
 },
 "nbformat": 4,
 "nbformat_minor": 5
}
