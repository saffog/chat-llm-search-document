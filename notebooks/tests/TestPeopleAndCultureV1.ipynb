{
 "cells": [
  {
   "cell_type": "markdown",
   "id": "78cf3a51",
   "metadata": {},
   "source": [
    "# Setup to allow tests in notebooks\n",
    "\n",
    "Notice this setup uses:\n",
    "\n",
    "- Azure Open AI\n",
    "- Azure Search Service\n",
    "\n",
    "The idea behind these Tests is to modulate the role of system to the required response.\n",
    "\n",
    "Importante por leer:\n",
    "\n",
    "- [Use your data AI search system message](https://learn.microsoft.com/en-us/azure/ai-services/openai/concepts/use-your-data?tabs=ai-search#system-message)\n",
    "- [System message templates](https://learn.microsoft.com/en-us/azure/ai-services/openai/concepts/system-message)\n",
    "- [Chain of thought prompting](https://learn.microsoft.com/en-us/azure/ai-services/openai/concepts/advanced-prompt-engineering?pivots=programming-language-chat-completions#chain-of-thought-prompting)"
   ]
  },
  {
   "cell_type": "code",
   "execution_count": 1,
   "id": "0406dac0",
   "metadata": {},
   "outputs": [],
   "source": [
    "import commons #Import commons methods and imports, please review commons.py"
   ]
  },
  {
   "cell_type": "code",
   "execution_count": 2,
   "id": "da977ef9",
   "metadata": {},
   "outputs": [
    {
     "name": "stdout",
     "output_type": "stream",
     "text": [
      "No variables to print\n"
     ]
    }
   ],
   "source": [
    "commons.print_required_variables(False)"
   ]
  },
  {
   "cell_type": "markdown",
   "id": "97d5eef4",
   "metadata": {},
   "source": [
    "Prueba de base, sin modificaciones"
   ]
  },
  {
   "cell_type": "code",
   "execution_count": 3,
   "id": "13703515",
   "metadata": {},
   "outputs": [
    {
     "name": "stdout",
     "output_type": "stream",
     "text": [
      "Data source role information : Eres un asistente de recursos humanos. Tu respuesta debe ser en español y debe siempre empezar por estimado colaborador\n",
      "messages : [\n",
      "    {\n",
      "        \"role\": \"user\",\n",
      "        \"content\": \"Lista los beneficios de Baufest\"\n",
      "    }\n",
      "]\n",
      "Estimado colaborador, Baufest ofrece varios beneficios a sus empleados en diferentes áreas. A continuación, se detallan algunos de ellos:\n",
      "\n",
      "- BAU Lunch (LATAM): Este beneficio ofrece a los empleados de Argentina, Perú y Chile la posibilidad de recibir acreditaciones para almuerzos a través de la App de PedidosYa o Tickets Restaurant emitidos por Edenred. La acreditación es semanal en Argentina y Perú, y mensual en Uruguay. [doc1]\n",
      "- BAU Health (LATAM): Este beneficio permite a los empleados de América Latina solicitar el reembolso de actividades físicas realizadas en el trimestre correspondiente, siempre y cuando cumplan con los requisitos establecidos. [doc3]\n",
      "- BAU Net (LATAM): Este beneficio ofrece a los empleados de América Latina la posibilidad de solicitar el reembolso de servicios de internet. [doc3]\n",
      "- BAU Dollar: Este beneficio ofrece a los empleados la posibilidad de recibir su salario en dólares, y brinda información sobre los medios de pago sugeridos y validados por Baufest. [doc2]\n",
      "- Anti Tráfico (LATAM): Este beneficio permite a los empleados de América Latina elegir un rango horario para evitar el tráfico en sus traslados al trabajo. [doc1]\n",
      "\n",
      "Es importante tener en cuenta que estos beneficios pueden estar sujetos a ciertas condiciones y requisitos específicos. Para obtener más información, se recomienda consultar los documentos recuperados. [doc2]\n"
     ]
    }
   ],
   "source": [
    "user_message = f\"\"\"\\\n",
    "Lista los beneficios de Baufest\"\"\"\n",
    "\n",
    "messages =  [  \n",
    "{'role':'user', \n",
    " 'content': f\"{user_message}\"},  \n",
    "] \n",
    "\n",
    "response = commons.get_completion_from_messages(messages,show_completion=False)\n",
    "print(response)"
   ]
  },
  {
   "cell_type": "markdown",
   "id": "aa804db4",
   "metadata": {},
   "source": [
    "### Modifiquemos el prompt del _role user_ solamente"
   ]
  },
  {
   "cell_type": "code",
   "execution_count": 4,
   "id": "3e5268f4",
   "metadata": {},
   "outputs": [],
   "source": [
    "delimiter=\"####\"\n",
    "user_question=f\"\"\"\\\n",
    "Lista los beneficios de Baufest\"\"\"\n",
    "user_message = f\"\"\"\\\n",
    "Responde la pregunta delimitada por 4 hashtags, i.e. {delimiter}. \\\n",
    "{delimiter}{user_question}{delimiter} \\\n",
    "\"\"\"\n",
    "messages =  [  \n",
    "{'role':'user', \n",
    " 'content': f\"{user_message}\"},  \n",
    "] \n"
   ]
  },
  {
   "cell_type": "code",
   "execution_count": 5,
   "id": "5c343a74",
   "metadata": {},
   "outputs": [
    {
     "name": "stdout",
     "output_type": "stream",
     "text": [
      "Data source role information : Eres un asistente de recursos humanos. Tu respuesta debe ser en español y debe siempre empezar por estimado colaborador\n",
      "messages : [\n",
      "    {\n",
      "        \"role\": \"user\",\n",
      "        \"content\": \"Responde la pregunta delimitada por 4 hashtags, i.e. ####. ####Lista los beneficios de Baufest#### \"\n",
      "    }\n",
      "]\n",
      "Estimado colaborador, Baufest ofrece varios beneficios a sus empleados en LATAM, entre ellos se encuentran: BAU Lunch, BAU Health, BAU Net y BAU Dollar[doc1][doc2][doc3]. Cada uno de estos beneficios tiene diferentes características y requisitos, por lo que te recomiendo revisar los documentos correspondientes para obtener más información.\n"
     ]
    }
   ],
   "source": [
    "response = commons.get_completion_from_messages(messages)\n",
    "print(response)"
   ]
  },
  {
   "cell_type": "code",
   "execution_count": 6,
   "id": "c02b89c7",
   "metadata": {},
   "outputs": [],
   "source": [
    "delimiter=\"####\"\n",
    "user_question=f\"\"\"\\\n",
    "Lista los beneficios de Baufest\"\"\"\n",
    "user_message = f\"\"\"\\\n",
    "Responde la pregunta delimitada por 4 hashtags, i.e. {delimiter}. \\\n",
    "{delimiter}{user_question}{delimiter} \\\n",
    "\\\n",
    "Si no tienes los siguientes datos: Nombre, antigüedad del puesto, puesto y país de la unidad, antes de responder \\\n",
    "solicita estos datos al usuario.\"\"\"\n",
    "messages =  [  \n",
    "{'role':'user', \n",
    " 'content': f\"{user_message}\"},  \n",
    "] \n"
   ]
  },
  {
   "cell_type": "code",
   "execution_count": 7,
   "id": "42b7982d",
   "metadata": {},
   "outputs": [
    {
     "name": "stdout",
     "output_type": "stream",
     "text": [
      "Data source role information : Eres un asistente de recursos humanos. Tu respuesta debe ser en español y debe siempre empezar por estimado colaborador\n",
      "messages : [\n",
      "    {\n",
      "        \"role\": \"user\",\n",
      "        \"content\": \"Responde la pregunta delimitada por 4 hashtags, i.e. ####. ####Lista los beneficios de Baufest#### Si no tienes los siguientes datos: Nombre, antig\\u00fcedad del puesto, puesto y pa\\u00eds de la unidad, antes de responder solicita estos datos al usuario.\"\n",
      "    }\n",
      "]\n",
      "Estimado colaborador, para poder responder tu pregunta de manera precisa, necesito que me proporciones algunos datos adicionales como tu nombre, antigüedad en el puesto, puesto y país de la unidad. Una vez que tenga esta información, podré brindarte una respuesta más detallada sobre los beneficios de Baufest. Quedo a la espera de tu respuesta.\n"
     ]
    }
   ],
   "source": [
    "response = commons.get_completion_from_messages(messages)\n",
    "print(response)"
   ]
  },
  {
   "cell_type": "code",
   "execution_count": 8,
   "id": "c130169f",
   "metadata": {},
   "outputs": [],
   "source": [
    "user_question=f\"\"\"\\\n",
    "¿Cuál es el Beneficio de BAU lunch?\"\"\"\n",
    "\n",
    "delimiter=\"####\"\n",
    "user_message = f\"\"\"\\\n",
    "Responde la pregunta delimitada por 4 hashtags, i.e. {delimiter}. \\\n",
    "{delimiter}{user_question}{delimiter} \\\n",
    "\\\n",
    "Si no tienes los siguientes datos: Nombre, antigüedad del puesto, puesto y país de la unidad, antes de responder \\\n",
    "solicita estos datos al usuario.\"\"\"\n",
    "messages =  [  \n",
    "{'role':'user', \n",
    " 'content': f\"{user_message}\"},  \n",
    "] \n"
   ]
  },
  {
   "cell_type": "code",
   "execution_count": 9,
   "id": "fd01287a",
   "metadata": {},
   "outputs": [
    {
     "name": "stdout",
     "output_type": "stream",
     "text": [
      "Data source role information : Eres un asistente de recursos humanos. Tu respuesta debe ser en español y debe siempre empezar por estimado colaborador\n",
      "messages : [\n",
      "    {\n",
      "        \"role\": \"user\",\n",
      "        \"content\": \"Responde la pregunta delimitada por 4 hashtags, i.e. ####. ####\\u00bfCu\\u00e1l es el Beneficio de BAU lunch?#### Si no tienes los siguientes datos: Nombre, antig\\u00fcedad del puesto, puesto y pa\\u00eds de la unidad, antes de responder solicita estos datos al usuario.\"\n",
      "    }\n",
      "]\n",
      "Estimado colaborador, para poder responder a su pregunta sobre el Beneficio de BAU lunch, necesito que me proporcione su nombre, antigüedad del puesto, puesto y país de la unidad. Sin esta información, no puedo brindarle una respuesta precisa. Por favor, proporcione estos datos para que pueda ayudarlo mejor.\n"
     ]
    }
   ],
   "source": [
    "response = commons.get_completion_from_messages(messages)\n",
    "print(response)"
   ]
  },
  {
   "cell_type": "code",
   "execution_count": 10,
   "id": "794bee62",
   "metadata": {},
   "outputs": [],
   "source": [
    "user_question=f\"\"\"\\\n",
    "¿Cuál es el Beneficio de BAU lunch?\"\"\"\n",
    "user_name=\"\"\n",
    "user_seniority=\"\"\n",
    "user_position=\"\"\n",
    "user_country=\"\"\n",
    "\n",
    "delimiter=\"####\"\n",
    "user_message = f\"\"\"\\\n",
    "Responde la pregunta delimitada por 4 hashtags, i.e. {delimiter}. \\\n",
    "{delimiter}{user_question}{delimiter} \\\n",
    "Teniendo en cuenta los siguientes datos:\\\n",
    "- Nombre :{user_name}\\\n",
    "- Antigüedad en el puesto : {user_seniority}\\\n",
    "- Puesto : {user_position}\\\n",
    "- País de la unidad : {user_country}\\\n",
    "\\\n",
    "Si no tienes los siguientes datos: Nombre, antigüedad en el puesto, puesto y país de la unidad, antes de responder \\\n",
    "solicita estos datos al usuario.\"\"\"\n",
    "messages =  [  \n",
    "{'role':'user', \n",
    " 'content': f\"{user_message}\"},  \n",
    "] \n"
   ]
  },
  {
   "cell_type": "code",
   "execution_count": 11,
   "id": "5621b272",
   "metadata": {},
   "outputs": [
    {
     "name": "stdout",
     "output_type": "stream",
     "text": [
      "Data source role information : Eres un asistente de recursos humanos. Tu respuesta debe ser en español y debe siempre empezar por estimado colaborador\n",
      "messages : [\n",
      "    {\n",
      "        \"role\": \"user\",\n",
      "        \"content\": \"Responde la pregunta delimitada por 4 hashtags, i.e. ####. ####\\u00bfCu\\u00e1l es el Beneficio de BAU lunch?#### Teniendo en cuenta los siguientes datos:- Nombre :- Antig\\u00fcedad en el puesto : - Puesto : - Pa\\u00eds de la unidad : Si no tienes los siguientes datos: Nombre, antig\\u00fcedad en el puesto, puesto y pa\\u00eds de la unidad, antes de responder solicita estos datos al usuario.\"\n",
      "    }\n",
      "]\n",
      "Estimado colaborador, para poder responder a tu pregunta sobre el Beneficio de BAU lunch, necesito que me proporciones los siguientes datos: Nombre, antigüedad en el puesto, puesto y país de la unidad. Sin esta información, no puedo brindarte una respuesta precisa. Por favor, proporciónamelos para poder ayudarte mejor.\n"
     ]
    }
   ],
   "source": [
    "response = commons.get_completion_from_messages(messages)\n",
    "print(response)"
   ]
  },
  {
   "cell_type": "code",
   "execution_count": 12,
   "id": "92920d3c",
   "metadata": {},
   "outputs": [],
   "source": [
    "user_question=f\"\"\"\\\n",
    "¿Cuál es el Beneficio de BAU lunch?\"\"\"\n",
    "user_name=\"Alfonso Freddy\"\n",
    "user_seniority=\"5 años\"\n",
    "user_position=\"Desarrollador Full Stack\"\n",
    "user_country=\"Uruguay\"\n",
    "\n",
    "delimiter=\"####\"\n",
    "user_message = f\"\"\"\\\n",
    "Responde la pregunta delimitada por 4 hashtags, i.e. {delimiter}. \\\n",
    "{delimiter}{user_question}{delimiter} \\\n",
    "Teniendo en cuenta los siguientes datos del colaborador:\\\n",
    "Nombre :{user_name}\\\n",
    "Antigüedad en el puesto : {user_seniority}\\\n",
    "Puesto : {user_position}\\\n",
    "País de la unidad : {user_country}\\\n",
    "\\\n",
    "Si no tienes los siguientes datos: Nombre, antigüedad en el puesto, puesto y país de la unidad, antes de responder \\\n",
    "solicita estos datos al usuario.\"\"\"\n",
    "messages =  [  \n",
    "{'role':'user', \n",
    " 'content': f\"{user_message}\"},  \n",
    "] \n"
   ]
  },
  {
   "cell_type": "code",
   "execution_count": 13,
   "id": "afb60d2a",
   "metadata": {},
   "outputs": [
    {
     "name": "stdout",
     "output_type": "stream",
     "text": [
      "Data source role information : Eres un asistente de recursos humanos. Tu respuesta debe ser en español y debe siempre empezar por estimado colaborador\n",
      "messages : [\n",
      "    {\n",
      "        \"role\": \"user\",\n",
      "        \"content\": \"Responde la pregunta delimitada por 4 hashtags, i.e. ####. ####\\u00bfCu\\u00e1l es el Beneficio de BAU lunch?#### Teniendo en cuenta los siguientes datos del colaborador:Nombre :Alfonso FreddyAntig\\u00fcedad en el puesto : 5 a\\u00f1osPuesto : Desarrollador Full StackPa\\u00eds de la unidad : UruguaySi no tienes los siguientes datos: Nombre, antig\\u00fcedad en el puesto, puesto y pa\\u00eds de la unidad, antes de responder solicita estos datos al usuario.\"\n",
      "    }\n",
      "]\n",
      "Estimado colaborador, el beneficio de BAU Lunch en Uruguay consiste en una acreditación mensual que se reflejará en tu recibo de sueldo y que podrás utilizar para obtener tickets restaurant emitidos por Edenred[doc1][doc2]. Para aplicar al beneficio, es necesario cumplir con ciertos requisitos, como tener una antigüedad en Baufest de al menos 2 años al momento de la solicitud, presentar una copia del contrato de alquiler o escritura a tu nombre o un documento legal que respalde la convivencia, y presentar una copia del documento de identidad donde conste el cambio de domicilio o en su defecto un servicio a tu nombre o certificado policial. Si tienes alguna otra pregunta, por favor házmela saber.\n"
     ]
    }
   ],
   "source": [
    "response = commons.get_completion_from_messages(messages)\n",
    "print(response)"
   ]
  },
  {
   "cell_type": "code",
   "execution_count": null,
   "id": "12243c1f",
   "metadata": {},
   "outputs": [],
   "source": [
    "user_question=f\"\"\"\\\n",
    "¿Cuál es el Beneficio de BAU lunch?\"\"\"\n",
    "user_name=\"Alejandra Escalante\"\n",
    "user_seniority=\"2 años\"\n",
    "user_position=\"Desarrollador Full Stack\"\n",
    "user_country=\"Argentina\"\n",
    "\n",
    "delimiter=\"####\"\n",
    "user_message = f\"\"\"\\\n",
    "Responde la pregunta delimitada por 4 hashtags, i.e. {delimiter}. \\\n",
    "{delimiter}{user_question}{delimiter} \\\n",
    "Teniendo en cuenta los siguientes datos del colaborador:\\\n",
    "Nombre :{user_name}\\\n",
    "Antigüedad en el puesto : {user_seniority}\\\n",
    "Puesto : {user_position}\\\n",
    "País de la unidad : {user_country}\\\n",
    "\\\n",
    "Si no tienes los siguientes datos: Nombre, antigüedad en el puesto, puesto y país de la unidad, antes de responder \\\n",
    "solicita estos datos al usuario.\\\n",
    "Si tienes los datos, usa el nombre del colaborador en lugar de estimado colaborador\"\"\"\n",
    "messages =  [  \n",
    "{'role':'user', \n",
    " 'content': f\"{user_message}\"},  \n",
    "] \n"
   ]
  },
  {
   "cell_type": "code",
   "execution_count": 15,
   "id": "05a357eb",
   "metadata": {},
   "outputs": [
    {
     "name": "stdout",
     "output_type": "stream",
     "text": [
      "Data source role information : Eres un asistente de recursos humanos. Tu respuesta debe ser en español y debe siempre empezar por estimado colaborador\n",
      "messages : [\n",
      "    {\n",
      "        \"role\": \"user\",\n",
      "        \"content\": \"Responde la pregunta delimitada por 4 hashtags, i.e. ####. ####\\u00bfCu\\u00e1l es el Beneficio de BAU lunch?#### Teniendo en cuenta los siguientes datos del colaborador:Nombre :Alejandra EscalanteAntig\\u00fcedad en el puesto : 2 a\\u00f1osPuesto : Desarrollador Full StackPa\\u00eds de la unidad : ArgentinaSi no tienes los siguientes datos: Nombre, antig\\u00fcedad en el puesto, puesto y pa\\u00eds de la unidad, antes de responder solicita estos datos al usuario.Si tienes los datos, usa el nombre del colaborador en lugar de estimado colaborador\"\n",
      "    }\n",
      "]\n",
      "Estimada Alejandra Escalante, el beneficio de BAU Lunch consiste en un cupón mensual para almuerzos que podrás utilizar a través de la App de PedidosYa en Argentina. Para acceder a este beneficio, es necesario cumplir con los siguientes requisitos: tener una antigüedad en Baufest de 2 años al momento de la solicitud del beneficio, presentar copia del contrato de alquiler o escritura a tu nombre y/o documento legal que respalde la convivencia, y presentar una copia del documento de identidad donde conste el cambio de domicilio o en su defecto un servicio a tu nombre o certificado policial. Los valores de las acreditaciones y la periodicidad de las mismas varían según el país, en Argentina la acreditación es mensual [doc3].\n"
     ]
    }
   ],
   "source": [
    "response = commons.get_completion_from_messages(messages)\n",
    "print(response)"
   ]
  },
  {
   "cell_type": "markdown",
   "id": "57f20617",
   "metadata": {},
   "source": [
    "Después del refinamiento ajustamos el prompt usando los campos que se usarán como parte del contexto:\n",
    "\n",
    " - user_id\n",
    " - user_name\n",
    " - user_email\n",
    " - user_location\n",
    " - user_department\n",
    " - user_job\n",
    " - user_seniority\n"
   ]
  },
  {
   "cell_type": "code",
   "execution_count": 8,
   "id": "0418e220",
   "metadata": {},
   "outputs": [],
   "source": [
    "user_question=f\"\"\"\\\n",
    "¿Cuáles son los beneficios que ofrece Baufest?\"\"\"\n",
    "user_name=\"Santiago Vilchis\"\n",
    "user_email=\"svilchis@baufest.com\"\n",
    "user_location=\"America/Mexico_City\"\n",
    "user_department=\"Software Development/SWDFIN\"\n",
    "user_job=\"Developer\"\n",
    "user_seniority=\"24 meses\"\n",
    "\n",
    "delimiter=\"####\"\n",
    "user_message = f\"\"\"\\\n",
    "Responde la pregunta delimitada por 4 hashtags, i.e. {delimiter}. \\\n",
    "{delimiter}{user_question}{delimiter} \\\n",
    "Teniendo en cuenta los siguientes datos del colaborador: \\\n",
    "Nombre : {user_name} \\\n",
    "Puesto : {user_job} \\\n",
    "Departamento en el que trabaja : {user_department} \\\n",
    "Antigüedad en el puesto : {user_seniority} \\\n",
    "País en el que trabaja : {user_location} \\\n",
    "\\\n",
    "Si no tienes los siguientes datos: Nombre, Puesto, Departamento en el que trabaja, Antigüedad en el puesto y \\\n",
    "País en el que trabaja. Antes de responder solicita estos datos al usuario. \\\n",
    "Si tienes los datos, usa el nombre del colaborador en lugar de estimado colaborador\"\"\"\n",
    "messages =  [  \n",
    "{'role':'user', \n",
    " 'content': f\"{user_message}\"},  \n",
    "] \n"
   ]
  },
  {
   "cell_type": "code",
   "execution_count": 9,
   "id": "37692c48",
   "metadata": {},
   "outputs": [
    {
     "name": "stdout",
     "output_type": "stream",
     "text": [
      "Data source role information : Eres un asistente de recursos humanos. Tu respuesta debe ser en español y debe siempre empezar por estimado colaborador\n",
      "messages : [\n",
      "    {\n",
      "        \"role\": \"user\",\n",
      "        \"content\": \"Responde la pregunta delimitada por 4 hashtags, i.e. ####. ####\\u00bfCu\\u00e1les son los beneficios que ofrece Baufest?#### Teniendo en cuenta los siguientes datos del colaborador: Nombre : Santiago Vilchis Puesto : Developer Departamento en el que trabaja : Software Development/SWDFIN Antig\\u00fcedad en el puesto : 24 meses Pa\\u00eds en el que trabaja : America/Mexico_City Si no tienes los siguientes datos: Nombre, Puesto, Departamento en el que trabaja, Antig\\u00fcedad en el puesto y Pa\\u00eds en el que trabaja. Antes de responder solicita estos datos al usuario. Si tienes los datos, usa el nombre del colaborador en lugar de estimado colaborador\"\n",
      "    }\n",
      "]\n",
      "Estimado Santiago Vilchis, según la información disponible en los documentos recuperados, Baufest ofrece varios beneficios para sus colaboradores en América Latina, incluyendo BAU Dollar, BAU Health, BAU Net, BAU Lunch y Anti Tráfico. Los detalles específicos de cada beneficio, como los costos, requisitos y periodicidad de las acreditaciones, varían según el país y el beneficio en cuestión. Te recomendamos revisar los documentos recuperados para obtener más información sobre cada beneficio y cómo aplicar a ellos.\n"
     ]
    }
   ],
   "source": [
    "response = commons.get_completion_from_messages(messages)\n",
    "print(response)"
   ]
  },
  {
   "cell_type": "markdown",
   "id": "64537cd0",
   "metadata": {},
   "source": [
    "Parece ser que no está tomando en cuenta el país y otros aspectos"
   ]
  },
  {
   "cell_type": "code",
   "execution_count": 10,
   "id": "e88924c4",
   "metadata": {},
   "outputs": [],
   "source": [
    "user_question=f\"\"\"\\\n",
    "¿Cuáles son los beneficios que ofrece Baufest?\"\"\"\n",
    "user_name=\"Santiago Vilchis\"\n",
    "user_email=\"svilchis@baufest.com\"\n",
    "user_location=\"America/Mexico_City\"\n",
    "user_department=\"Software Development/SWDFIN\"\n",
    "user_job=\"Developer\"\n",
    "user_seniority=\"24 meses\"\n",
    "\n",
    "delimiter=\"####\"\n",
    "user_message = f\"\"\"\\\n",
    "Responde la pregunta delimitada por 4 hashtags, i.e. {delimiter}. \\\n",
    "{delimiter}{user_question}{delimiter} \\\n",
    "Teniendo en cuenta los siguientes datos del colaborador: \\\n",
    "Nombre : {user_name} \\\n",
    "Puesto : {user_job} \\\n",
    "Departamento en el que trabaja : {user_department} \\\n",
    "Antigüedad en el puesto : {user_seniority} \\\n",
    "País en el que trabaja : {user_location} \\\n",
    "\\\n",
    "Si no tienes los siguientes datos: Nombre, Puesto, Departamento en el que trabaja, Antigüedad en el puesto y \\\n",
    "País en el que trabaja. Antes de responder solicita estos datos al usuario. \\\n",
    "Si tienes los datos, usa el nombre del colaborador en lugar de estimado colaborador en tu respuesta. \\\n",
    "Tu respuesta debe seguir el siguiente formato: \\\n",
    "Datos del usuario : #### <listar datos del colaborador> \\\n",
    "Repuesta : #### <Respuesta a la pregunta del colaborador>\"\"\"\n",
    "messages =  [  \n",
    "{'role':'user', \n",
    " 'content': f\"{user_message}\"},  \n",
    "] \n"
   ]
  },
  {
   "cell_type": "code",
   "execution_count": 12,
   "id": "2835c998",
   "metadata": {},
   "outputs": [
    {
     "name": "stdout",
     "output_type": "stream",
     "text": [
      "Data source role information : Eres un asistente de recursos humanos. Tu respuesta debe ser en español y debe siempre empezar por estimado colaborador\n",
      "messages : [\n",
      "    {\n",
      "        \"role\": \"user\",\n",
      "        \"content\": \"Responde la pregunta delimitada por 4 hashtags, i.e. ####. ####\\u00bfCu\\u00e1les son los beneficios que ofrece Baufest?#### Teniendo en cuenta los siguientes datos del colaborador: Nombre : Santiago Vilchis Puesto : Developer Departamento en el que trabaja : Software Development/SWDFIN Antig\\u00fcedad en el puesto : 24 meses Pa\\u00eds en el que trabaja : America/Mexico_City Si no tienes los siguientes datos: Nombre, Puesto, Departamento en el que trabaja, Antig\\u00fcedad en el puesto y Pa\\u00eds en el que trabaja. Antes de responder solicita estos datos al usuario. Si tienes los datos, usa el nombre del colaborador en lugar de estimado colaborador en tu respuesta. Tu respuesta debe seguir el siguiente formato: Datos del usuario : #### <listar datos del colaborador> Repuesta : #### <Respuesta a la pregunta del colaborador>\"\n",
      "    }\n",
      "]\n",
      "Datos del usuario: \n",
      "- Nombre: Santiago Vilchis \n",
      "- Puesto: Developer \n",
      "- Departamento en el que trabaja: Software Development/SWDFIN \n",
      "- Antigüedad en el puesto: 24 meses \n",
      "- País en el que trabaja: America/Mexico_City \n",
      "\n",
      "Respuesta: \n",
      "\n",
      "Baufest ofrece varios beneficios para sus colaboradores en América Latina, entre ellos se encuentran: \n",
      "- BAU Dollar: un programa que permite a los colaboradores recibir una parte de su salario en dólares, lo que les brinda una mayor estabilidad financiera y les permite ahorrar en moneda extranjera. \n",
      "- BAU Health: un programa que ofrece descuentos en gimnasios y actividades deportivas para fomentar un estilo de vida saludable. \n",
      "- BAU Net: un programa que brinda un subsidio para el servicio de internet en el hogar. \n",
      "- BAU Lunch: un programa que ofrece un subsidio para el almuerzo de los colaboradores. \n",
      "\n",
      "Además, Baufest cuenta con otros beneficios como el programa Anti Tráfico, que brinda un subsidio para el transporte de los colaboradores, y el programa de capacitación y desarrollo profesional. Para más información sobre los beneficios específicos en México, se recomienda consultar con el ejecutivo de cuenta regularmente. [doc2][doc3]\n"
     ]
    }
   ],
   "source": [
    "response = commons.get_completion_from_messages(messages)\n",
    "print(response)"
   ]
  },
  {
   "cell_type": "code",
   "execution_count": 13,
   "id": "f2f506be",
   "metadata": {},
   "outputs": [],
   "source": [
    "user_question=f\"\"\"\\\n",
    "¿Cuáles son los beneficios que ofrece Baufest?\"\"\"\n",
    "user_name=\"Santiago Vilchis\"\n",
    "user_email=\"svilchis@baufest.com\"\n",
    "user_location=\"America/Mexico_City\"\n",
    "user_department=\"Software Development/SWDFIN\"\n",
    "user_job=\"Developer\"\n",
    "user_seniority=\"24 meses\"\n",
    "\n",
    "delimiter=\"####\"\n",
    "user_message = f\"\"\"\\\n",
    "Responde la pregunta delimitada por 4 hashtags, i.e. {delimiter}. \\\n",
    "{delimiter}{user_question}{delimiter} \\\n",
    "Teniendo en cuenta los siguientes datos del colaborador para tu respuesta: \\\n",
    "Nombre : {user_name} \\\n",
    "Puesto : {user_job} \\\n",
    "Departamento en el que trabaja : {user_department} \\\n",
    "Antigüedad en el puesto : {user_seniority} \\\n",
    "País en el que trabaja : {user_location} \\\n",
    "\\\n",
    "Si no tienes los siguientes datos: Nombre, Puesto, Departamento en el que trabaja, Antigüedad en el puesto y \\\n",
    "País en el que trabaja. Antes de responder solicita estos datos al usuario. \\\n",
    "Si tienes los datos, usa el nombre del colaborador en lugar de estimado colaborador en tu respuesta \\\n",
    "a la pregunta del colaborador. \\\n",
    "Tu respuesta debe seguir el siguiente formato: \\\n",
    "Datos del usuario : #### <listar datos del colaborador> \\\n",
    "Repuesta : #### <Respuesta a la pregunta del colaborador>\"\"\"\n",
    "messages =  [  \n",
    "{'role':'user', \n",
    " 'content': f\"{user_message}\"},  \n",
    "] \n"
   ]
  },
  {
   "cell_type": "code",
   "execution_count": 15,
   "id": "c1d2b1a9",
   "metadata": {},
   "outputs": [
    {
     "name": "stdout",
     "output_type": "stream",
     "text": [
      "Data source role information : Eres un asistente de recursos humanos. Tu respuesta debe ser en español y debe siempre empezar por estimado colaborador\n",
      "messages : [\n",
      "    {\n",
      "        \"role\": \"user\",\n",
      "        \"content\": \"Responde la pregunta delimitada por 4 hashtags, i.e. ####. ####\\u00bfCu\\u00e1les son los beneficios que ofrece Baufest?#### Teniendo en cuenta los siguientes datos del colaborador para tu respuesta: Nombre : Santiago Vilchis Puesto : Developer Departamento en el que trabaja : Software Development/SWDFIN Antig\\u00fcedad en el puesto : 24 meses Pa\\u00eds en el que trabaja : America/Mexico_City Si no tienes los siguientes datos: Nombre, Puesto, Departamento en el que trabaja, Antig\\u00fcedad en el puesto y Pa\\u00eds en el que trabaja. Antes de responder solicita estos datos al usuario. Si tienes los datos, usa el nombre del colaborador en lugar de estimado colaborador en tu respuesta a la pregunta del colaborador. Tu respuesta debe seguir el siguiente formato: Datos del usuario : #### <listar datos del colaborador> Repuesta : #### <Respuesta a la pregunta del colaborador>\"\n",
      "    }\n",
      "]\n",
      "Datos del usuario: \n",
      "- Nombre: Santiago Vilchis \n",
      "- Puesto: Developer \n",
      "- Departamento en el que trabaja: Software Development/SWDFIN \n",
      "- Antigüedad en el puesto: 24 meses \n",
      "- País en el que trabaja: America/Mexico_City \n",
      "\n",
      "Respuesta: \n",
      "Baufest ofrece varios beneficios para sus colaboradores en América Latina, entre ellos se encuentran: \n",
      "- BAU Dollar: permite recibir una parte del salario en dólares, con la posibilidad de elegir la cantidad y el porcentaje. \n",
      "- BAU Health: ofrece un reembolso de gastos médicos y odontológicos para el colaborador y su grupo familiar. \n",
      "- BAU Net: reembolso de gastos de internet para el hogar. \n",
      "- BAU Lunch: acreditación mensual para almuerzos en algunos países de América Latina. \n",
      "- Anti Tráfico: permite elegir un rango horario para evitar el tráfico en algunos países de América Latina. \n",
      "\n",
      "Para más detalles sobre los requisitos y condiciones de cada beneficio, se recomienda revisar la documentación correspondiente en la intranet de Baufest.\n"
     ]
    }
   ],
   "source": [
    "response = commons.get_completion_from_messages(messages)\n",
    "print(response)"
   ]
  },
  {
   "cell_type": "markdown",
   "id": "21ec630f",
   "metadata": {},
   "source": [
    "La respuesta no fue tan satisfactoria retomemos el ejemplo que sí"
   ]
  },
  {
   "cell_type": "code",
   "execution_count": 16,
   "id": "5c899ab5",
   "metadata": {},
   "outputs": [],
   "source": [
    "user_question=f\"\"\"\\\n",
    "¿Cuáles son los beneficios que ofrece Baufest?\"\"\"\n",
    "user_name=\"Alejandra Escalante\"\n",
    "user_seniority=\"2 años\"\n",
    "user_position=\"Desarrollador Full Stack\"\n",
    "user_country=\"Argentina\"\n",
    "\n",
    "delimiter=\"####\"\n",
    "user_message = f\"\"\"\\\n",
    "Responde la pregunta delimitada por 4 hashtags, i.e. {delimiter}. \\\n",
    "{delimiter}{user_question}{delimiter} \\\n",
    "Teniendo en cuenta los siguientes datos del colaborador:\\\n",
    "Nombre :{user_name}\\\n",
    "Antigüedad en el puesto : {user_seniority}\\\n",
    "Puesto : {user_position}\\\n",
    "País de la unidad : {user_country}\\\n",
    "\\\n",
    "Si no tienes los siguientes datos: Nombre, antigüedad en el puesto, puesto y país de la unidad, antes de responder \\\n",
    "solicita estos datos al usuario.\\\n",
    "Si tienes los datos, usa el nombre del colaborador en lugar de estimado colaborador\"\"\"\n",
    "messages =  [  \n",
    "{'role':'user', \n",
    " 'content': f\"{user_message}\"},  \n",
    "] \n"
   ]
  },
  {
   "cell_type": "code",
   "execution_count": 18,
   "id": "1e400dd0",
   "metadata": {},
   "outputs": [
    {
     "name": "stdout",
     "output_type": "stream",
     "text": [
      "Data source role information : Eres un asistente de recursos humanos. Tu respuesta debe ser en español y debe siempre empezar por estimado colaborador\n",
      "messages : [\n",
      "    {\n",
      "        \"role\": \"user\",\n",
      "        \"content\": \"Responde la pregunta delimitada por 4 hashtags, i.e. ####. ####\\u00bfCu\\u00e1les son los beneficios que ofrece Baufest?#### Teniendo en cuenta los siguientes datos del colaborador:Nombre :Alejandra EscalanteAntig\\u00fcedad en el puesto : 2 a\\u00f1osPuesto : Desarrollador Full StackPa\\u00eds de la unidad : ArgentinaSi no tienes los siguientes datos: Nombre, antig\\u00fcedad en el puesto, puesto y pa\\u00eds de la unidad, antes de responder solicita estos datos al usuario.Si tienes los datos, usa el nombre del colaborador en lugar de estimado colaborador\"\n",
      "    }\n",
      "]\n",
      "Estimada Alejandra Escalante, Baufest ofrece varios beneficios para sus colaboradores en Argentina, entre ellos se encuentran: BAU Dollar, BAU Health, BAU Net y BAU Lunch. Para acceder a estos beneficios, es necesario cumplir con ciertos requisitos, como tener una antigüedad en Baufest de al menos 2 años para BAU Health y presentar copia del contrato de alquiler o escritura al nombre del colaborador y/o documento legal que respalde convivencia para BAU Net. Además, es importante consultar regularmente la tabla de comisiones o con el ejecutivo de cuenta para obtener más información sobre los beneficios.\n"
     ]
    }
   ],
   "source": [
    "response = commons.get_completion_from_messages(messages)\n",
    "print(response)"
   ]
  },
  {
   "cell_type": "code",
   "execution_count": 19,
   "id": "872213c8",
   "metadata": {},
   "outputs": [],
   "source": [
    "user_question=f\"\"\"\\\n",
    "¿Cuáles son los beneficios que ofrece Baufest?\"\"\"\n",
    "user_name=\"Alejandra Escalante\"\n",
    "user_seniority=\"2 años\"\n",
    "user_job=\"Desarrollador Full Stack\"\n",
    "user_location=\"Argentina\"\n",
    "\n",
    "delimiter=\"####\"\n",
    "user_message = f\"\"\"\\\n",
    "Responde la pregunta delimitada por 4 hashtags, i.e. {delimiter}. \\\n",
    "{delimiter}{user_question}{delimiter} \\\n",
    "Teniendo en cuenta los siguientes datos del colaborador:\\\n",
    "Nombre :{user_name}\\\n",
    "Antigüedad en Baufest : {user_seniority}\\\n",
    "Puesto : {user_job}\\\n",
    "País de la unidad : {user_location}\\\n",
    "\\\n",
    "Si no tienes los siguientes datos: Nombre, Antigüedad en Baufest, puesto y país de la unidad, antes de responder \\\n",
    "solicita estos datos al usuario.\\\n",
    "Si tienes los datos, usa el nombre del colaborador en lugar de estimado colaborador\"\"\"\n",
    "messages =  [  \n",
    "{'role':'user', \n",
    " 'content': f\"{user_message}\"},  \n",
    "] \n"
   ]
  },
  {
   "cell_type": "code",
   "execution_count": 22,
   "id": "708eca5c",
   "metadata": {},
   "outputs": [
    {
     "name": "stdout",
     "output_type": "stream",
     "text": [
      "Data source role information : Eres un asistente de recursos humanos. Tu respuesta debe ser en español y debe siempre empezar por estimado colaborador\n",
      "messages : [\n",
      "    {\n",
      "        \"role\": \"user\",\n",
      "        \"content\": \"Responde la pregunta delimitada por 4 hashtags, i.e. ####. ####\\u00bfCu\\u00e1les son los beneficios que ofrece Baufest?#### Teniendo en cuenta los siguientes datos del colaborador:Nombre :Alejandra EscalanteAntig\\u00fcedad en Baufest : 2 a\\u00f1osPuesto : Desarrollador Full StackPa\\u00eds de la unidad : ArgentinaSi no tienes los siguientes datos: Nombre, Antig\\u00fcedad en Baufest, puesto y pa\\u00eds de la unidad, antes de responder solicita estos datos al usuario.Si tienes los datos, usa el nombre del colaborador en lugar de estimado colaborador\"\n",
      "    }\n",
      "]\n",
      "Estimada Alejandra Escalante, Baufest ofrece varios beneficios para sus colaboradores en Argentina, entre ellos se encuentran: \n",
      "- BAU Dollar: permite recibir una parte del sueldo en dólares, con la posibilidad de elegir la cantidad a recibir y la cuenta bancaria donde se depositará. \n",
      "- BAU Health: ofrece un reembolso de gastos médicos y odontológicos para el colaborador y su grupo familiar. \n",
      "- BAU Net: reembolso de gastos de internet para el trabajo remoto. \n",
      "- BAU Lunch: acreditación mensual para almuerzos en Argentina, Chile y Uruguay. \n",
      "- Anti Tráfico: permite elegir un rango horario para evitar el tráfico en Argentina. \n",
      "\n",
      "Para acceder a estos beneficios es necesario cumplir con ciertos requisitos, como tener una antigüedad mínima de 2 años en Baufest al momento de solicitar el beneficio. Te recomiendo revisar los detalles de cada beneficio en la documentación correspondiente [doc2][doc3].\n"
     ]
    }
   ],
   "source": [
    "response = commons.get_completion_from_messages(messages)\n",
    "print(response)"
   ]
  },
  {
   "cell_type": "code",
   "execution_count": 23,
   "id": "b080d5d6",
   "metadata": {},
   "outputs": [],
   "source": [
    "user_question=f\"\"\"\\\n",
    "¿Cuáles son los beneficios que ofrece Baufest?\"\"\"\n",
    "user_name=\"Alejandra Escalante\"\n",
    "user_seniority=\"2 años\"\n",
    "user_job=\"Desarrollador Full Stack\"\n",
    "user_location=\"Argentina\"\n",
    "\n",
    "delimiter=\"####\"\n",
    "user_message = f\"\"\"\\\n",
    "Responde la pregunta delimitada por 4 hashtags, i.e. {delimiter}. \\\n",
    "{delimiter}{user_question}{delimiter} \\\n",
    "Usa para tu respuesta los siguientes datos del colaborador: \\\n",
    "Nombre :{user_name} \\\n",
    "Antigüedad en Baufest : {user_seniority} \\\n",
    "Puesto : {user_job} \\\n",
    "País de la unidad : {user_location} \\\n",
    "\\\n",
    "Si no tienes los siguientes datos: Nombre, Antigüedad en Baufest, puesto y país de la unidad, antes de responder \\\n",
    "solicita estos datos al usuario.\\\n",
    "Si tienes los datos, usa el nombre del colaborador en lugar de estimado colaborador\"\"\"\n",
    "messages =  [  \n",
    "{'role':'user', \n",
    " 'content': f\"{user_message}\"},  \n",
    "] \n"
   ]
  },
  {
   "cell_type": "code",
   "execution_count": 24,
   "id": "901428a1",
   "metadata": {},
   "outputs": [
    {
     "name": "stdout",
     "output_type": "stream",
     "text": [
      "Data source role information : Eres un asistente de recursos humanos. Tu respuesta debe ser en español y debe siempre empezar por estimado colaborador\n",
      "messages : [\n",
      "    {\n",
      "        \"role\": \"user\",\n",
      "        \"content\": \"Responde la pregunta delimitada por 4 hashtags, i.e. ####. ####\\u00bfCu\\u00e1les son los beneficios que ofrece Baufest?#### Usa para tu respuesta los siguientes datos del colaborador: Nombre :Alejandra Escalante Antig\\u00fcedad en Baufest : 2 a\\u00f1os Puesto : Desarrollador Full Stack Pa\\u00eds de la unidad : Argentina Si no tienes los siguientes datos: Nombre, Antig\\u00fcedad en Baufest, puesto y pa\\u00eds de la unidad, antes de responder solicita estos datos al usuario.Si tienes los datos, usa el nombre del colaborador en lugar de estimado colaborador\"\n",
      "    }\n",
      "]\n",
      "Lo siento, pero la pregunta delimitada por 4 hashtags no está clara. ¿Podría proporcionar más detalles o reformular la pregunta? Además, para poder responder a su pregunta, necesitaría saber si hay algún beneficio específico que le interese a Alejandra Escalante, ya que los beneficios que ofrece Baufest pueden variar según el país y la unidad.\n"
     ]
    }
   ],
   "source": [
    "response = commons.get_completion_from_messages(messages)\n",
    "print(response)"
   ]
  },
  {
   "cell_type": "code",
   "execution_count": 25,
   "id": "2b28f49f",
   "metadata": {},
   "outputs": [
    {
     "name": "stdout",
     "output_type": "stream",
     "text": [
      "Data source role information : Eres un asistente de recursos humanos. Tu respuesta debe ser en español y debe siempre empezar por estimado colaborador\n",
      "messages : [\n",
      "    {\n",
      "        \"role\": \"user\",\n",
      "        \"content\": \"Responde la pregunta delimitada por 4 hashtags, i.e. ####. ####\\u00bfCu\\u00e1les son los beneficios que ofrece Baufest?#### Usa para tu respuesta los siguientes datos del colaborador: Nombre :Alejandra Escalante Antig\\u00fcedad en Baufest : 2 a\\u00f1os Puesto : Desarrollador Full Stack Pa\\u00eds de la unidad : Argentina Si no tienes los siguientes datos: Nombre, Antig\\u00fcedad en Baufest, puesto y pa\\u00eds de la unidad, antes de responder solicita estos datos al usuario.Si no est\\u00e1 clara la pregunta, responde de manera m\\u00e1s flexible y solicita mayores detalles al colaborador. Si tienes los datos, usa el nombre del colaborador en lugar de estimado colaborador\"\n",
      "    }\n",
      "]\n",
      "Estimada Alejandra Escalante, como colaboradora de Baufest con una antigüedad de 2 años y como desarrolladora Full Stack en Argentina, puedes acceder a varios beneficios ofrecidos por la empresa. Algunos de ellos son: BAU Lunch, BAU Health, BAU Net, BAU Dollar y Anti Tráfico. Para obtener más información sobre cada uno de estos beneficios, te recomiendo revisar los documentos que se encuentran en los siguientes enlaces: https://baufest.atlassian.net/wiki/spaces/MDPB/pages/3334439043/BAU+LUNCH+LATAM, https://baufest.atlassian.net/wiki/spaces/MDPB/pages/3181314311/BAU+HEALTH+LATAM, https://baufest.atlassian.net/wiki/spaces/MDPB/pages/3334668294/BAU+NET+LATAM y https://baufest.atlassian.net/wiki/spaces/MDPB/pages/3381166773/ANTI+TR+FICO+LATAM.\n"
     ]
    }
   ],
   "source": [
    "user_question=f\"\"\"\\\n",
    "¿Cuáles son los beneficios que ofrece Baufest?\"\"\"\n",
    "user_name=\"Alejandra Escalante\"\n",
    "user_seniority=\"2 años\"\n",
    "user_job=\"Desarrollador Full Stack\"\n",
    "user_location=\"Argentina\"\n",
    "\n",
    "delimiter=\"####\"\n",
    "user_message = f\"\"\"\\\n",
    "Responde la pregunta delimitada por 4 hashtags, i.e. {delimiter}. \\\n",
    "{delimiter}{user_question}{delimiter} \\\n",
    "Usa para tu respuesta los siguientes datos del colaborador: \\\n",
    "Nombre :{user_name} \\\n",
    "Antigüedad en Baufest : {user_seniority} \\\n",
    "Puesto : {user_job} \\\n",
    "País de la unidad : {user_location} \\\n",
    "\\\n",
    "Si no tienes los siguientes datos: Nombre, Antigüedad en Baufest, puesto y país de la unidad, antes de responder \\\n",
    "solicita estos datos al usuario.\\\n",
    "Si no está clara la pregunta, responde de manera más flexible y solicita mayores detalles al colaborador. \\\n",
    "Si tienes los datos, usa el nombre del colaborador en lugar de estimado colaborador\"\"\"\n",
    "messages =  [  \n",
    "{'role':'user', \n",
    " 'content': f\"{user_message}\"},  \n",
    "] \n",
    "response = commons.get_completion_from_messages(messages)\n",
    "print(response)"
   ]
  },
  {
   "cell_type": "code",
   "execution_count": 26,
   "id": "8df4374d",
   "metadata": {},
   "outputs": [
    {
     "name": "stdout",
     "output_type": "stream",
     "text": [
      "Data source role information : Eres un asistente de recursos humanos. Tu respuesta debe ser en español y debe siempre empezar por estimado colaborador\n",
      "messages : [\n",
      "    {\n",
      "        \"role\": \"user\",\n",
      "        \"content\": \"Responde la pregunta delimitada por 4 hashtags, i.e. ####. ####\\u00bfCu\\u00e1les son los beneficios que ofrece Baufest?#### Usa para tu respuesta los siguientes datos del colaborador: Nombre :Alejandra Escalante Antig\\u00fcedad en Baufest :  Puesto :  Pa\\u00eds de la unidad :  Si no tienes los siguientes datos: Nombre, Antig\\u00fcedad en Baufest, puesto y pa\\u00eds de la unidad, antes de responder solicita estos datos al usuario.Si no est\\u00e1 clara la pregunta, responde de manera m\\u00e1s flexible y solicita mayores detalles al colaborador. Si tienes los datos, usa el nombre del colaborador en lugar de estimado colaborador\"\n",
      "    }\n",
      "]\n",
      "Estimada Alejandra Escalante, los beneficios que ofrece Baufest varían según la unidad de país en la que te encuentres. Algunos de los beneficios que se ofrecen en las unidades de LATAM incluyen el programa BAU LUNCH, BAU HOME, BAU HEALTH, BAU NET y ANTI TRÁFICO. Además, existe la opción de cobrar el 20% del sueldo en dólares. Para más detalles sobre los beneficios específicos en tu unidad de país, te recomendamos consultar la documentación correspondiente [doc1][doc2][doc3][doc4].\n"
     ]
    }
   ],
   "source": [
    "user_question=f\"\"\"\\\n",
    "¿Cuáles son los beneficios que ofrece Baufest?\"\"\"\n",
    "user_name=\"Alejandra Escalante\"\n",
    "user_seniority=\"\"\n",
    "user_job=\"\"\n",
    "user_location=\"\"\n",
    "\n",
    "delimiter=\"####\"\n",
    "user_message = f\"\"\"\\\n",
    "Responde la pregunta delimitada por 4 hashtags, i.e. {delimiter}. \\\n",
    "{delimiter}{user_question}{delimiter} \\\n",
    "Usa para tu respuesta los siguientes datos del colaborador: \\\n",
    "Nombre :{user_name} \\\n",
    "Antigüedad en Baufest : {user_seniority} \\\n",
    "Puesto : {user_job} \\\n",
    "País de la unidad : {user_location} \\\n",
    "\\\n",
    "Si no tienes los siguientes datos: Nombre, Antigüedad en Baufest, puesto y país de la unidad, antes de responder \\\n",
    "solicita estos datos al usuario.\\\n",
    "Si no está clara la pregunta, responde de manera más flexible y solicita mayores detalles al colaborador. \\\n",
    "Si tienes los datos, usa el nombre del colaborador en lugar de estimado colaborador\"\"\"\n",
    "messages =  [  \n",
    "{'role':'user', \n",
    " 'content': f\"{user_message}\"},  \n",
    "] \n",
    "response = commons.get_completion_from_messages(messages)\n",
    "print(response)"
   ]
  },
  {
   "cell_type": "code",
   "execution_count": 27,
   "id": "89e3713a",
   "metadata": {},
   "outputs": [
    {
     "name": "stdout",
     "output_type": "stream",
     "text": [
      "Data source role information : Eres un asistente de recursos humanos. Tu respuesta debe ser en español y debe siempre empezar por estimado colaborador\n",
      "messages : [\n",
      "    {\n",
      "        \"role\": \"user\",\n",
      "        \"content\": \"Responde la pregunta delimitada por 4 hashtags, i.e. ####. ####\\u00bfCu\\u00e1les son los beneficios que ofrece Baufest?#### Usa para tu respuesta los siguientes datos del colaborador: Nombre :Alejandra Escalante Antig\\u00fcedad en Baufest :  Puesto :  Pa\\u00eds de la unidad :  Si no tienes todos los siguientes datos: Nombre, Antig\\u00fcedad en Baufest, puesto y pa\\u00eds de la unidad, antes de responder solicita estos datos al usuario.Si no est\\u00e1 clara la pregunta, responde de manera m\\u00e1s flexible y solicita mayores detalles al colaborador. Si tienes los datos, usa el nombre del colaborador en lugar de estimado colaborador\"\n",
      "    }\n",
      "]\n",
      "Estimado Alejandra Escalante, en relación a los beneficios que ofrece Baufest, puedo mencionar algunos de ellos según los documentos recuperados. En primer lugar, se encuentra el beneficio BAU DOLLAR, que permite a los colaboradores cobrar el 20% de su sueldo en dólares. También se encuentra el beneficio BAU HEALTH (LATAM), que ofrece descuentos en actividades físicas y deportivas. Otro beneficio es BAU NET (LATAM), que ofrece un reembolso parcial del servicio de internet. Además, se encuentra el beneficio BAU LUNCH (LATAM), que ofrece acreditaciones para almuerzos a través de la aplicación PedidosYa en algunos países. Para más detalles sobre los beneficios, te recomiendo revisar los documentos recuperados.\n"
     ]
    }
   ],
   "source": [
    "user_question=f\"\"\"\\\n",
    "¿Cuáles son los beneficios que ofrece Baufest?\"\"\"\n",
    "user_name=\"Alejandra Escalante\"\n",
    "user_seniority=\"\"\n",
    "user_job=\"\"\n",
    "user_location=\"\"\n",
    "\n",
    "delimiter=\"####\"\n",
    "user_message = f\"\"\"\\\n",
    "Responde la pregunta delimitada por 4 hashtags, i.e. {delimiter}. \\\n",
    "{delimiter}{user_question}{delimiter} \\\n",
    "Usa para tu respuesta los siguientes datos del colaborador: \\\n",
    "Nombre :{user_name} \\\n",
    "Antigüedad en Baufest : {user_seniority} \\\n",
    "Puesto : {user_job} \\\n",
    "País de la unidad : {user_location} \\\n",
    "\\\n",
    "Si no tienes todos los siguientes datos: Nombre, Antigüedad en Baufest, puesto y país de la unidad, antes de responder \\\n",
    "solicita estos datos al usuario.\\\n",
    "Si no está clara la pregunta, responde de manera más flexible y solicita mayores detalles al colaborador. \\\n",
    "Si tienes los datos, usa el nombre del colaborador en lugar de estimado colaborador\"\"\"\n",
    "messages =  [  \n",
    "{'role':'user', \n",
    " 'content': f\"{user_message}\"},  \n",
    "] \n",
    "response = commons.get_completion_from_messages(messages)\n",
    "print(response)"
   ]
  },
  {
   "cell_type": "code",
   "execution_count": 29,
   "id": "1b587c22",
   "metadata": {},
   "outputs": [
    {
     "name": "stdout",
     "output_type": "stream",
     "text": [
      "Data source role information : Eres un asistente de recursos humanos. Tu respuesta debe ser en español y debe siempre empezar por estimado colaborador\n",
      "messages : [\n",
      "    {\n",
      "        \"role\": \"user\",\n",
      "        \"content\": \"Responde la pregunta delimitada por 4 hashtags, i.e. ####. ####\\u00bfCu\\u00e1les son los beneficios que ofrece Baufest?#### Usa para tu respuesta los siguientes datos del colaborador: Nombre :  Antig\\u00fcedad en Baufest :  Puesto :  Pa\\u00eds de la unidad :  Si no tienes todos los siguientes datos: Nombre, Antig\\u00fcedad en Baufest, puesto y pa\\u00eds de la unidad, antes de responder solicita estos datos al usuario.Si no est\\u00e1 clara la pregunta, responde de manera m\\u00e1s flexible y solicita mayores detalles al colaborador. Si tienes los datos, usa el nombre del colaborador en lugar de estimado colaborador\"\n",
      "    }\n",
      "]\n",
      "Estimado colaborador, los beneficios que ofrece Baufest varían según el país de la unidad y la antigüedad en la empresa. Algunos de los beneficios que se ofrecen incluyen BAU Dollar, BAU Health, BAU Net y BAU Lunch. Para obtener más información sobre los beneficios específicos disponibles para tu país y antigüedad en la empresa, te recomendamos que consultes la documentación correspondiente en la intranet de Baufest.\n"
     ]
    }
   ],
   "source": [
    "user_question=f\"\"\"\\\n",
    "¿Cuáles son los beneficios que ofrece Baufest?\"\"\"\n",
    "user_name=\"\"\n",
    "user_seniority=\"\"\n",
    "user_job=\"\"\n",
    "user_location=\"\"\n",
    "\n",
    "delimiter=\"####\"\n",
    "user_message = f\"\"\"\\\n",
    "Responde la pregunta delimitada por 4 hashtags, i.e. {delimiter}. \\\n",
    "{delimiter}{user_question}{delimiter} \\\n",
    "Usa para tu respuesta los siguientes datos del colaborador: \\\n",
    "Nombre : {user_name} \\\n",
    "Antigüedad en Baufest : {user_seniority} \\\n",
    "Puesto : {user_job} \\\n",
    "País de la unidad : {user_location} \\\n",
    "\\\n",
    "Si no tienes todos los siguientes datos: Nombre, Antigüedad en Baufest, puesto y país de la unidad, antes de responder \\\n",
    "solicita estos datos al usuario.\\\n",
    "Si no está clara la pregunta, responde de manera más flexible y solicita mayores detalles al colaborador. \\\n",
    "Si tienes los datos, usa el nombre del colaborador en lugar de estimado colaborador\"\"\"\n",
    "messages =  [  \n",
    "{'role':'user', \n",
    " 'content': f\"{user_message}\"},  \n",
    "] \n",
    "response = commons.get_completion_from_messages(messages)\n",
    "print(response)"
   ]
  },
  {
   "cell_type": "code",
   "execution_count": 31,
   "id": "b216738c",
   "metadata": {},
   "outputs": [
    {
     "name": "stdout",
     "output_type": "stream",
     "text": [
      "Data source role information : Eres un asistente de recursos humanos. Tu respuesta debe ser en español y debe siempre empezar por estimado colaborador\n",
      "messages : [\n",
      "    {\n",
      "        \"role\": \"user\",\n",
      "        \"content\": \"Responde la pregunta delimitada por 4 hashtags, i.e. ####. ####\\u00bfCu\\u00e1les son los beneficios que ofrece Baufest?#### Usa para tu respuesta los siguientes datos del colaborador: Nombre :  Antig\\u00fcedad en Baufest :  Puesto :  Pa\\u00eds de la unidad :  Si no tienes todos los siguientes datos: Nombre, Antig\\u00fcedad en Baufest, puesto y pa\\u00eds de la unidad, antes de responder solicita estos datos al usuario.Si tienes los datos, usa el nombre del colaborador en lugar de estimado colaborador\"\n",
      "    }\n",
      "]\n",
      "Lo siento, pero la pregunta no está claramente delimitada por 4 hashtags. ¿Podría reformular su pregunta? Además, necesito los siguientes datos del colaborador para poder responder adecuadamente: Nombre, Antigüedad en Baufest, puesto y país de la unidad.\n"
     ]
    }
   ],
   "source": [
    "user_question=f\"\"\"\\\n",
    "¿Cuáles son los beneficios que ofrece Baufest?\"\"\"\n",
    "user_name=\"\"\n",
    "user_seniority=\"\"\n",
    "user_job=\"\"\n",
    "user_location=\"\"\n",
    "\n",
    "delimiter=\"####\"\n",
    "user_message = f\"\"\"\\\n",
    "Responde la pregunta delimitada por 4 hashtags, i.e. {delimiter}. \\\n",
    "{delimiter}{user_question}{delimiter} \\\n",
    "Usa para tu respuesta los siguientes datos del colaborador: \\\n",
    "Nombre : {user_name} \\\n",
    "Antigüedad en Baufest : {user_seniority} \\\n",
    "Puesto : {user_job} \\\n",
    "País de la unidad : {user_location} \\\n",
    "\\\n",
    "Si no tienes todos los siguientes datos: Nombre, Antigüedad en Baufest, puesto y país de la unidad, antes de responder \\\n",
    "solicita estos datos al usuario.\\\n",
    "Si tienes los datos, usa el nombre del colaborador en lugar de estimado colaborador\"\"\"\n",
    "messages =  [  \n",
    "{'role':'user', \n",
    " 'content': f\"{user_message}\"},  \n",
    "] \n",
    "response = commons.get_completion_from_messages(messages)\n",
    "print(response)"
   ]
  },
  {
   "cell_type": "code",
   "execution_count": 33,
   "id": "578a7a10",
   "metadata": {},
   "outputs": [
    {
     "name": "stdout",
     "output_type": "stream",
     "text": [
      "Data source role information : Eres un asistente de recursos humanos. Tu respuesta debe ser en español y debe siempre empezar por estimado colaborador\n",
      "messages : [\n",
      "    {\n",
      "        \"role\": \"user\",\n",
      "        \"content\": \"Responde la pregunta delimitada por 4 hashtags. ####\\u00bfCu\\u00e1les son los beneficios que ofrece Baufest?#### Usa para tu respuesta los siguientes datos del colaborador: Nombre :  Antig\\u00fcedad en Baufest :  Puesto :  Pa\\u00eds de la unidad :  Si no tienes todos los siguientes datos: Nombre, Antig\\u00fcedad en Baufest, puesto y pa\\u00eds de la unidad, antes de responder solicita estos datos al usuario.Si tienes los datos, usa el nombre del colaborador en lugar de estimado colaborador\"\n",
      "    }\n",
      "]\n",
      "Lo siento, pero la pregunta delimitada por 4 hashtags no es clara y específica. ¿Podría proporcionar más detalles o reformular su pregunta? Además, como asistente de recursos humanos, puedo proporcionar información sobre los beneficios que ofrece Baufest a sus colaboradores, pero necesitaría conocer el nombre, la antigüedad en Baufest, el puesto y el país de la unidad del colaborador para brindar información más precisa.\n"
     ]
    }
   ],
   "source": [
    "user_question=f\"\"\"\\\n",
    "¿Cuáles son los beneficios que ofrece Baufest?\"\"\"\n",
    "user_name=\"\"\n",
    "user_seniority=\"\"\n",
    "user_job=\"\"\n",
    "user_location=\"\"\n",
    "\n",
    "delimiter=\"####\"\n",
    "user_message = f\"\"\"\\\n",
    "Responde la pregunta delimitada por 4 hashtags. \\\n",
    "{delimiter}{user_question}{delimiter} \\\n",
    "Usa para tu respuesta los siguientes datos del colaborador: \\\n",
    "Nombre : {user_name} \\\n",
    "Antigüedad en Baufest : {user_seniority} \\\n",
    "Puesto : {user_job} \\\n",
    "País de la unidad : {user_location} \\\n",
    "\\\n",
    "Si no tienes todos los siguientes datos: Nombre, Antigüedad en Baufest, puesto y país de la unidad, antes de responder \\\n",
    "solicita estos datos al usuario.\\\n",
    "Si tienes los datos, usa el nombre del colaborador en lugar de estimado colaborador\"\"\"\n",
    "messages =  [  \n",
    "{'role':'user', \n",
    " 'content': f\"{user_message}\"},  \n",
    "] \n",
    "response = commons.get_completion_from_messages(messages)\n",
    "print(response)"
   ]
  },
  {
   "cell_type": "code",
   "execution_count": 35,
   "id": "d51ed8b9",
   "metadata": {},
   "outputs": [
    {
     "name": "stdout",
     "output_type": "stream",
     "text": [
      "Data source role information : Eres un asistente de recursos humanos. Tu respuesta debe ser en español y debe siempre empezar por estimado colaborador\n",
      "messages : [\n",
      "    {\n",
      "        \"role\": \"user\",\n",
      "        \"content\": \"Responde la pregunta delimitada por 4 hashtags. ####\\u00bfCu\\u00e1les son los beneficios que ofrece Baufest?#### Teniendo en cuenta para tu respuesta los siguientes datos del colaborador: Nombre :  Antig\\u00fcedad en Baufest :  Puesto :  Pa\\u00eds de la unidad :  Si no tienes todos los siguientes datos: Nombre, Antig\\u00fcedad en Baufest, puesto y pa\\u00eds de la unidad, antes de responder solicita estos datos al usuario.Si tienes los datos, usa el nombre del colaborador en lugar de estimado colaborador\"\n",
      "    }\n",
      "]\n",
      "Lo siento, pero la pregunta es demasiado amplia y no puedo proporcionar una respuesta precisa sin más información. ¿Podría proporcionar más detalles sobre los beneficios específicos que le interesan? Además, necesito conocer el nombre, la antigüedad en Baufest, el puesto y el país de la unidad del colaborador para poder brindar una respuesta más precisa. Gracias.\n"
     ]
    }
   ],
   "source": [
    "user_question=f\"\"\"\\\n",
    "¿Cuáles son los beneficios que ofrece Baufest?\"\"\"\n",
    "user_name=\"\"\n",
    "user_seniority=\"\"\n",
    "user_job=\"\"\n",
    "user_location=\"\"\n",
    "\n",
    "delimiter=\"####\"\n",
    "user_message = f\"\"\"\\\n",
    "Responde la pregunta delimitada por 4 hashtags. \\\n",
    "{delimiter}{user_question}{delimiter} \\\n",
    "Teniendo en cuenta para tu respuesta los siguientes datos del colaborador: \\\n",
    "Nombre : {user_name} \\\n",
    "Antigüedad en Baufest : {user_seniority} \\\n",
    "Puesto : {user_job} \\\n",
    "País de la unidad : {user_location} \\\n",
    "\\\n",
    "Si no tienes todos los siguientes datos: Nombre, Antigüedad en Baufest, puesto y país de la unidad, antes de responder \\\n",
    "solicita estos datos al usuario.\\\n",
    "Si tienes los datos, usa el nombre del colaborador en lugar de estimado colaborador\"\"\"\n",
    "messages =  [  \n",
    "{'role':'user', \n",
    " 'content': f\"{user_message}\"},  \n",
    "] \n",
    "response = commons.get_completion_from_messages(messages)\n",
    "print(response)"
   ]
  },
  {
   "cell_type": "code",
   "execution_count": 37,
   "id": "2b327074",
   "metadata": {},
   "outputs": [
    {
     "name": "stdout",
     "output_type": "stream",
     "text": [
      "Data source role information : Eres un asistente de recursos humanos. Tu respuesta debe ser en español y debe siempre empezar por estimado colaborador\n",
      "messages : [\n",
      "    {\n",
      "        \"role\": \"user\",\n",
      "        \"content\": \"Sigue los siguientes pasos para responder la pregunta delimitada por 4 hashtags: ####. Paso 1 : Ten en cuenta para tu respuesta los datos del colaborador. Paso 2 : Si no tienes los datos del colaborador, no respondas y en su lugar solicita dichos datos. Paso 3 : Si tienes los datos del colaborador, use en tu respuesta el nombre del colaborador en lugar de estimado colaborador. Datos del colaborador: Nombre :  Antig\\u00fcedad en Baufest :  Puesto :  Pa\\u00eds de la unidad :  ####\\u00bfCu\\u00e1les son los beneficios que ofrece Baufest?#### \"\n",
      "    }\n",
      "]\n",
      "Estimado colaborador, Baufest ofrece varios beneficios para sus empleados en diferentes áreas. Algunos de estos beneficios incluyen el programa de salud BAU HEALTH, el programa de almuerzos BAU LUNCH, el programa de transporte ANTI TRÁFICO, el programa de internet BAU NET, y el programa de ayuda para el alquiler de vivienda BAU HOME. Para obtener más información sobre estos beneficios y cómo aplicar a ellos, puedes consultar los documentos [doc1], [doc2], y [doc3].\n"
     ]
    }
   ],
   "source": [
    "user_question=f\"\"\"\\\n",
    "¿Cuáles son los beneficios que ofrece Baufest?\"\"\"\n",
    "user_name=\"\"\n",
    "user_seniority=\"\"\n",
    "user_job=\"\"\n",
    "user_location=\"\"\n",
    "\n",
    "delimiter=\"####\"\n",
    "\n",
    "user_message = f\"\"\"\\\n",
    "Sigue los siguientes pasos para responder la pregunta delimitada por 4 hashtags: {delimiter}. \\\n",
    "Paso 1 : Ten en cuenta para tu respuesta los datos del colaborador. \\\n",
    "Paso 2 : Si no tienes los datos del colaborador, no respondas y en su lugar solicita dichos datos. \\\n",
    "Paso 3 : Si tienes los datos del colaborador, use en tu respuesta el nombre del colaborador \\\n",
    "en lugar de estimado colaborador. \\\n",
    "\\\n",
    "Datos del colaborador: \\\n",
    "Nombre : {user_name} \\\n",
    "Antigüedad en Baufest : {user_seniority} \\\n",
    "Puesto : {user_job} \\\n",
    "País de la unidad : {user_location} \\\n",
    "\\\n",
    "{delimiter}{user_question}{delimiter} \\\n",
    "\"\"\"\n",
    "messages =  [  \n",
    "{'role':'user', \n",
    " 'content': f\"{user_message}\"},  \n",
    "] \n",
    "response = commons.get_completion_from_messages(messages)\n",
    "print(response)"
   ]
  },
  {
   "cell_type": "code",
   "execution_count": 38,
   "id": "97320c9d",
   "metadata": {},
   "outputs": [
    {
     "name": "stdout",
     "output_type": "stream",
     "text": [
      "Data source role information : Eres un asistente de recursos humanos. Tu respuesta debe ser en español y debe siempre empezar por estimado colaborador\n",
      "messages : [\n",
      "    {\n",
      "        \"role\": \"user\",\n",
      "        \"content\": \"Sigue los siguientes pasos para responder la pregunta delimitada por 4 hashtags: ####. Paso 1 : Si no tienes los datos del colaborador, no respondas y en su lugar solicita dichos datos. Paso 2 : Si tienes los datos del colaborador, use en tu respuesta el nombre del colaborador en lugar de estimado colaborador. Datos del colaborador: Nombre :  Antig\\u00fcedad en Baufest :  Puesto :  Pa\\u00eds de la unidad :  ####\\u00bfCu\\u00e1les son los beneficios que ofrece Baufest?#### \"\n",
      "    }\n",
      "]\n",
      "Lo siento, para responder a tu pregunta necesito algunos datos del colaborador, como su nombre, antigüedad en Baufest, puesto y país de la unidad. Por favor, proporciónamelos para poder ayudarte mejor.\n"
     ]
    }
   ],
   "source": [
    "user_question=f\"\"\"\\\n",
    "¿Cuáles son los beneficios que ofrece Baufest?\"\"\"\n",
    "user_name=\"\"\n",
    "user_seniority=\"\"\n",
    "user_job=\"\"\n",
    "user_location=\"\"\n",
    "\n",
    "delimiter=\"####\"\n",
    "\n",
    "user_message = f\"\"\"\\\n",
    "Sigue los siguientes pasos para responder la pregunta delimitada por 4 hashtags: {delimiter}. \\\n",
    "Paso 1 : Si no tienes los datos del colaborador, no respondas y en su lugar solicita dichos datos. \\\n",
    "Paso 2 : Si tienes los datos del colaborador, usa en tu respuesta el nombre del colaborador \\\n",
    "en lugar de estimado colaborador. \\\n",
    "\\\n",
    "Datos del colaborador: \\\n",
    "Nombre : {user_name} \\\n",
    "Antigüedad en Baufest : {user_seniority} \\\n",
    "Puesto : {user_job} \\\n",
    "País de la unidad : {user_location} \\\n",
    "\\\n",
    "{delimiter}{user_question}{delimiter} \\\n",
    "\"\"\"\n",
    "messages =  [  \n",
    "{'role':'user', \n",
    " 'content': f\"{user_message}\"},  \n",
    "] \n",
    "response = commons.get_completion_from_messages(messages)\n",
    "print(response)"
   ]
  },
  {
   "cell_type": "code",
   "execution_count": 40,
   "id": "dcb3d78e",
   "metadata": {},
   "outputs": [
    {
     "name": "stdout",
     "output_type": "stream",
     "text": [
      "Data source role information : Eres un asistente de recursos humanos. Tu respuesta debe ser en español y debe siempre empezar por estimado colaborador\n",
      "messages : [\n",
      "    {\n",
      "        \"role\": \"user\",\n",
      "        \"content\": \"Sigue los siguientes pasos para responder la pregunta delimitada por 4 hashtags: ####. Paso 1 : Si no tienes los datos del colaborador, tu respuesta debe seguir el siguiente formato : Estimado Baufesiano para responder su pregunta necesito los siguientes datos listando los datos que te falten y nada m\\u00e1s. Paso 2 : Si tienes los datos del colaborador, usa en tu respuesta el nombre del colaborador en lugar de estimado colaborador. Datos del colaborador: Nombre :  Antig\\u00fcedad en Baufest :  Puesto :  Pa\\u00eds de la unidad :  ####\\u00bfCu\\u00e1les son los beneficios que ofrece Baufest?#### \"\n",
      "    }\n",
      "]\n",
      "Estimado Baufesiano, para responder su pregunta necesito los siguientes datos: ¿En qué país trabaja? y ¿Cuál es su puesto en Baufest? Una vez que tenga esta información, podré proporcionarle una respuesta más precisa. Gracias.\n"
     ]
    }
   ],
   "source": [
    "user_question=f\"\"\"\\\n",
    "¿Cuáles son los beneficios que ofrece Baufest?\"\"\"\n",
    "user_name=\"\"\n",
    "user_seniority=\"\"\n",
    "user_job=\"\"\n",
    "user_location=\"\"\n",
    "\n",
    "delimiter=\"####\"\n",
    "no_user_data_prefix=\"Estimado Baufesiano para responder su pregunta necesito los siguientes datos\"\n",
    "\n",
    "user_message = f\"\"\"\\\n",
    "Sigue los siguientes pasos para responder la pregunta delimitada por 4 hashtags: {delimiter}. \\\n",
    "Paso 1 : Si no tienes los datos del colaborador, tu respuesta debe seguir el siguiente formato : {no_user_data_prefix} \\\n",
    "listando los datos que te falten y nada más. \\\n",
    "Paso 2 : Si tienes los datos del colaborador, usa en tu respuesta el nombre del colaborador \\\n",
    "en lugar de estimado colaborador. \\\n",
    "\\\n",
    "Datos del colaborador: \\\n",
    "Nombre : {user_name} \\\n",
    "Antigüedad en Baufest : {user_seniority} \\\n",
    "Puesto : {user_job} \\\n",
    "País de la unidad : {user_location} \\\n",
    "\\\n",
    "{delimiter}{user_question}{delimiter} \\\n",
    "\"\"\"\n",
    "messages =  [  \n",
    "{'role':'user', \n",
    " 'content': f\"{user_message}\"},  \n",
    "] \n",
    "response = commons.get_completion_from_messages(messages)\n",
    "print(response)"
   ]
  },
  {
   "cell_type": "code",
   "execution_count": 41,
   "id": "24cfb60a",
   "metadata": {},
   "outputs": [
    {
     "name": "stdout",
     "output_type": "stream",
     "text": [
      "Data source role information : Eres un asistente de recursos humanos. Tu respuesta debe ser en español y debe siempre empezar por estimado colaborador\n",
      "messages : [\n",
      "    {\n",
      "        \"role\": \"user\",\n",
      "        \"content\": \"Sigue los siguientes pasos para responder la pregunta delimitada por 4 hashtags: ####. Paso 1 : Si no tienes los datos del colaborador, tu respuesta debe seguir el siguiente formato : Estimado Baufesiano para responder su pregunta necesito los siguientes datos listando los datos que te falten y nada m\\u00e1s. Paso 2 : Si tienes los datos del colaborador, usa en tu respuesta el nombre del colaborador en lugar de estimado colaborador. Datos del colaborador: Nombre :  Antig\\u00fcedad en Baufest :  Puesto : Desarrollador Pa\\u00eds de la unidad : Argentina ####\\u00bfCu\\u00e1les son los beneficios que ofrece Baufest?#### \"\n",
      "    }\n",
      "]\n",
      "Estimado Baufesiano, para responder su pregunta necesito los siguientes datos: ¿A qué tipo de beneficios se refiere? Baufest ofrece varios beneficios para sus colaboradores en diferentes áreas, como salud, alimentación, entre otros. Por favor, proporcione más detalles para poder ayudarlo de manera más precisa.\n"
     ]
    }
   ],
   "source": [
    "user_question=f\"\"\"\\\n",
    "¿Cuáles son los beneficios que ofrece Baufest?\"\"\"\n",
    "user_name=\"\"\n",
    "user_seniority=\"\"\n",
    "user_job=\"Desarrollador\"\n",
    "user_location=\"Argentina\"\n",
    "\n",
    "delimiter=\"####\"\n",
    "no_user_data_prefix=\"Estimado Baufesiano para responder su pregunta necesito los siguientes datos\"\n",
    "\n",
    "user_message = f\"\"\"\\\n",
    "Sigue los siguientes pasos para responder la pregunta delimitada por 4 hashtags: {delimiter}. \\\n",
    "Paso 1 : Si no tienes los datos del colaborador, tu respuesta debe seguir el siguiente formato : {no_user_data_prefix} \\\n",
    "listando los datos que te falten y nada más. \\\n",
    "Paso 2 : Si tienes los datos del colaborador, usa en tu respuesta el nombre del colaborador \\\n",
    "en lugar de estimado colaborador. \\\n",
    "\\\n",
    "Datos del colaborador: \\\n",
    "Nombre : {user_name} \\\n",
    "Antigüedad en Baufest : {user_seniority} \\\n",
    "Puesto : {user_job} \\\n",
    "País de la unidad : {user_location} \\\n",
    "\\\n",
    "{delimiter}{user_question}{delimiter} \\\n",
    "\"\"\"\n",
    "messages =  [  \n",
    "{'role':'user', \n",
    " 'content': f\"{user_message}\"},  \n",
    "] \n",
    "response = commons.get_completion_from_messages(messages)\n",
    "print(response)"
   ]
  },
  {
   "cell_type": "code",
   "execution_count": 45,
   "id": "7eedf638",
   "metadata": {},
   "outputs": [
    {
     "name": "stdout",
     "output_type": "stream",
     "text": [
      "Data source role information : Eres un asistente de recursos humanos. Tu respuesta debe ser en español y debe siempre empezar por estimado colaborador\n",
      "messages : [\n",
      "    {\n",
      "        \"role\": \"user\",\n",
      "        \"content\": \"Sigue los siguientes pasos para responder la pregunta delimitada por 4 hashtags: ####. Paso 1 : Si no tienes los datos del colaborador, tu respuesta debe seguir el siguiente formato : Estimado Baufesiano para responder su pregunta necesito los siguientes datos listando los datos que te falten y nada m\\u00e1s. Paso 2 : Si tienes los datos del colaborador, usa en tu respuesta el nombre del colaborador en lugar de estimado colaborador. Paso 3 : Usa las siguientes recomendaciones para tu respuesta : Recomendaci\\u00f3n 1 : Si la respuesta es muy amplia agrega en tu respuesta que te provea mayor detalle. Datos del colaborador: Nombre : . Antig\\u00fcedad en Baufest : . Puesto : Desarrollador. Pa\\u00eds de la unidad : Argentina. ####\\u00bfCu\\u00e1les son los beneficios que ofrece Baufest?#### \"\n",
      "    }\n",
      "]\n",
      "Estimado Baufesiano, para responder su pregunta necesito saber su nombre, antigüedad en Baufest y país de la unidad. Por favor proporcione esta información para poder ayudarlo de manera más precisa. Gracias.\n"
     ]
    }
   ],
   "source": [
    "user_question=f\"\"\"\\\n",
    "¿Cuáles son los beneficios que ofrece Baufest?\"\"\"\n",
    "user_name=\"\"\n",
    "user_seniority=\"\"\n",
    "user_job=\"Desarrollador\"\n",
    "user_location=\"Argentina\"\n",
    "\n",
    "delimiter=\"####\"\n",
    "no_user_data_prefix=\"Estimado Baufesiano para responder su pregunta necesito los siguientes datos\"\n",
    "\n",
    "user_message = f\"\"\"\\\n",
    "Sigue los siguientes pasos para responder la pregunta delimitada por 4 hashtags: {delimiter}. \\\n",
    "Paso 1 : Si no tienes los datos del colaborador, tu respuesta debe seguir el siguiente formato : {no_user_data_prefix} \\\n",
    "listando los datos que te falten y nada más. \\\n",
    "Paso 2 : Si tienes los datos del colaborador, usa en tu respuesta el nombre del colaborador \\\n",
    "en lugar de estimado colaborador. \\\n",
    "Paso 3 : Usa las siguientes recomendaciones para tu respuesta : \\\n",
    "Recomendación 1 : Si la respuesta es muy amplia agrega en tu respuesta que te provea mayor detalle. \\\n",
    "\\\n",
    "Datos del colaborador: \\\n",
    "Nombre : {user_name}. \\\n",
    "Antigüedad en Baufest : {user_seniority}. \\\n",
    "Puesto : {user_job}. \\\n",
    "País de la unidad : {user_location}. \\\n",
    "\\\n",
    "{delimiter}{user_question}{delimiter} \\\n",
    "\"\"\"\n",
    "messages =  [  \n",
    "{'role':'user', \n",
    " 'content': f\"{user_message}\"},  \n",
    "] \n",
    "response = commons.get_completion_from_messages(messages)\n",
    "print(response)"
   ]
  },
  {
   "cell_type": "code",
   "execution_count": 60,
   "id": "bc0c3d3e",
   "metadata": {},
   "outputs": [
    {
     "name": "stdout",
     "output_type": "stream",
     "text": [
      "Data source role information : Eres un asistente de recursos humanos. Tu respuesta debe ser en español y debe siempre empezar por estimado colaborador\n",
      "messages : [\n",
      "    {\n",
      "        \"role\": \"user\",\n",
      "        \"content\": \"Sigue los siguientes pasos para responder la pregunta delimitada por 4 hashtags: ####. Paso 1 : Si no tienes los datos del colaborador, tu respuesta debe seguir el siguiente formato : Estimado Baufesiano para responder su pregunta necesito los siguientes datos listando los datos que te falten y nada mas. Paso 2 : Si tienes los datos del colaborador, usa en tu respuesta el nombre del colaborador en lugar de estimado colaborador. Paso 3 : Usa las siguientes recomendaciones para tu respuesta : Recomendacion 1 : Si la respuesta es muy amplia, agrega a tu respuesta la solicitud de mayor detalle. Datos del colaborador: Nombre : . Antiguedad en Baufest : . Puesto : Desarrollador. Pais de la unidad : Argentina. ####\\u00bfCu\\u00e1les son los beneficios que ofrece Baufest?#### \"\n",
      "    }\n",
      "]\n",
      "Estimado Baufesiano, para responder su pregunta necesito saber su nombre, antigüedad en Baufest y país de la unidad. Por favor proporcione esta información para poder ayudarlo de manera más precisa. Gracias.\n"
     ]
    }
   ],
   "source": [
    "user_question=f\"\"\"\\\n",
    "¿Cuáles son los beneficios que ofrece Baufest?\"\"\"\n",
    "user_name=\"\"\n",
    "user_seniority=\"\"\n",
    "user_job=\"Desarrollador\"\n",
    "user_location=\"Argentina\"\n",
    "\n",
    "delimiter=\"####\"\n",
    "no_user_data_prefix=\"Estimado Baufesiano para responder su pregunta necesito los siguientes datos\"\n",
    "\n",
    "user_message = f\"\"\"\\\n",
    "Sigue los siguientes pasos para responder la pregunta delimitada por 4 hashtags: {delimiter}. \\\n",
    "Paso 1 : Si no tienes los datos del colaborador, tu respuesta debe seguir el siguiente formato : {no_user_data_prefix} \\\n",
    "listando los datos que te falten y nada mas. \\\n",
    "Paso 2 : Si tienes los datos del colaborador, usa en tu respuesta el nombre del colaborador \\\n",
    "en lugar de estimado colaborador. \\\n",
    "Paso 3 : Usa las siguientes recomendaciones para tu respuesta : \\\n",
    "Recomendacion 1 : Si la respuesta es muy amplia, agrega a tu respuesta la solicitud de mayor detalle. \\\n",
    "\\\n",
    "Datos del colaborador: \\\n",
    "Nombre : {user_name}. \\\n",
    "Antiguedad en Baufest : {user_seniority}. \\\n",
    "Puesto : {user_job}. \\\n",
    "Pais de la unidad : {user_location}. \\\n",
    "\\\n",
    "{delimiter}{user_question}{delimiter} \\\n",
    "\"\"\"\n",
    "messages =  [  \n",
    "{'role':'user', \n",
    " 'content': f\"{user_message}\"},  \n",
    "] \n",
    "response = commons.get_completion_from_messages(messages)\n",
    "print(response)"
   ]
  },
  {
   "cell_type": "code",
   "execution_count": 61,
   "id": "7682fb18",
   "metadata": {},
   "outputs": [
    {
     "name": "stdout",
     "output_type": "stream",
     "text": [
      "Data source role information : Eres un asistente de recursos humanos. Tu respuesta debe ser en español y debe siempre empezar por estimado colaborador\n",
      "messages : [\n",
      "    {\n",
      "        \"role\": \"user\",\n",
      "        \"content\": \"Sigue los siguientes pasos para responder la pregunta delimitada por 4 hashtags: ####. Paso 1 : Si no tienes los datos del colaborador, tu respuesta debe seguir el siguiente formato : Estimado Baufesiano para responder su pregunta necesito los siguientes datos listando los datos que te falten y nada mas. Paso 2 : Si tienes los datos del colaborador, usa en tu respuesta el nombre del colaborador en lugar de estimado colaborador. Paso 3 : Usa las siguientes recomendaciones para tu respuesta : Recomendacion 1 : Si la respuesta es muy amplia, agrega a tu respuesta la solicitud de mayor detalle. Datos del colaborador: Nombre : Santiago Vilche. Antiguedad en Baufest : . Puesto : Desarrollador. Pais de la unidad : Argentina. ####\\u00bfCu\\u00e1les son los beneficios que ofrece Baufest?#### \"\n",
      "    }\n",
      "]\n",
      "Estimado Santiago Vilche, para responder su pregunta necesito que me proporcione su antigüedad en Baufest y el país de la unidad en la que trabaja. Una vez que tenga esa información, podré brindarle una respuesta más precisa. Gracias.\n"
     ]
    }
   ],
   "source": [
    "user_question=f\"\"\"\\\n",
    "¿Cuáles son los beneficios que ofrece Baufest?\"\"\"\n",
    "user_name=\"Santiago Vilche\"\n",
    "user_seniority=\"\"\n",
    "user_job=\"Desarrollador\"\n",
    "user_location=\"Argentina\"\n",
    "\n",
    "delimiter=\"####\"\n",
    "no_user_data_prefix=\"Estimado Baufesiano para responder su pregunta necesito los siguientes datos\"\n",
    "\n",
    "user_message = f\"\"\"\\\n",
    "Sigue los siguientes pasos para responder la pregunta delimitada por 4 hashtags: {delimiter}. \\\n",
    "Paso 1 : Si no tienes los datos del colaborador, tu respuesta debe seguir el siguiente formato : {no_user_data_prefix} \\\n",
    "listando los datos que te falten y nada mas. \\\n",
    "Paso 2 : Si tienes los datos del colaborador, usa en tu respuesta el nombre del colaborador \\\n",
    "en lugar de estimado colaborador. \\\n",
    "Paso 3 : Usa las siguientes recomendaciones para tu respuesta : \\\n",
    "Recomendacion 1 : Si la respuesta es muy amplia, agrega a tu respuesta la solicitud de mayor detalle. \\\n",
    "\\\n",
    "Datos del colaborador: \\\n",
    "Nombre : {user_name}. \\\n",
    "Antiguedad en Baufest : {user_seniority}. \\\n",
    "Puesto : {user_job}. \\\n",
    "Pais de la unidad : {user_location}. \\\n",
    "\\\n",
    "{delimiter}{user_question}{delimiter} \\\n",
    "\"\"\"\n",
    "messages =  [  \n",
    "{'role':'user', \n",
    " 'content': f\"{user_message}\"},  \n",
    "] \n",
    "response = commons.get_completion_from_messages(messages)\n",
    "print(response)"
   ]
  },
  {
   "cell_type": "code",
   "execution_count": 67,
   "id": "b21243b1",
   "metadata": {},
   "outputs": [
    {
     "name": "stdout",
     "output_type": "stream",
     "text": [
      "Data source role information : Eres un asistente de recursos humanos. Tu respuesta debe ser en español y debe siempre empezar por estimado colaborador\n",
      "messages : [\n",
      "    {\n",
      "        \"role\": \"user\",\n",
      "        \"content\": \"Sigue los siguientes pasos para responder la pregunta delimitada por 4 hashtags: ####. Paso 1 : Si no tienes los datos del colaborador, tu respuesta debe seguir el siguiente formato : Estimado Baufesiano para responder su pregunta necesito los siguientes datos listando los datos que te falten y nada mas. Paso 2 : Si tienes los datos del colaborador, usa en tu respuesta el nombre del colaborador en lugar de estimado colaborador. Paso 3 : Usa las siguientes recomendaciones para tu respuesta : Recomendacion 1 : Si la respuesta es muy amplia, agrega a tu respuesta la solicitud de mayor detalle. Datos del colaborador: Nombre : Santiago Vilche. Antiguedad en Baufest : 2 a\\u00f1os. Puesto : Desarrollador. Pais de la unidad : Argentina. ####\\u00bfCu\\u00e1les son los beneficios que ofrece Baufest?#### \"\n",
      "    }\n",
      "]\n",
      "Estimado Santiago Vilche, para responder su pregunta sobre los beneficios que ofrece Baufest, puedo decirle que la empresa ofrece varios beneficios a sus colaboradores en diferentes áreas. Algunos de estos beneficios incluyen BAU DOLLAR, BAU HOME, ANTI TRÁFICO, BAU HEALTH, BAU NET y BAU LUNCH. Cada uno de estos beneficios tiene sus propias características y requisitos específicos. Si desea más detalles sobre alguno de estos beneficios en particular, por favor hágamelo saber.\n"
     ]
    }
   ],
   "source": [
    "user_question=f\"\"\"\\\n",
    "¿Cuáles son los beneficios que ofrece Baufest?\"\"\"\n",
    "user_name=\"Santiago Vilche\"\n",
    "user_seniority=\"2 años\"\n",
    "user_job=\"Desarrollador\"\n",
    "user_location=\"Argentina\"\n",
    "\n",
    "delimiter=\"####\"\n",
    "no_user_data_prefix=\"Estimado Baufesiano para responder su pregunta necesito los siguientes datos\"\n",
    "\n",
    "user_message = f\"\"\"\\\n",
    "Sigue los siguientes pasos para responder la pregunta delimitada por 4 hashtags: {delimiter}. \\\n",
    "Paso 1 : Si no tienes los datos del colaborador, tu respuesta debe seguir el siguiente formato : {no_user_data_prefix} \\\n",
    "listando los datos que te falten y nada mas. \\\n",
    "Paso 2 : Si tienes los datos del colaborador, usa en tu respuesta el nombre del colaborador \\\n",
    "en lugar de estimado colaborador. \\\n",
    "Paso 3 : Usa las siguientes recomendaciones para tu respuesta : \\\n",
    "Recomendacion 1 : Si la respuesta es muy amplia, agrega a tu respuesta la solicitud de mayor detalle. \\\n",
    "\\\n",
    "Datos del colaborador: \\\n",
    "Nombre : {user_name}. \\\n",
    "Antiguedad en Baufest : {user_seniority}. \\\n",
    "Puesto : {user_job}. \\\n",
    "Pais de la unidad : {user_location}. \\\n",
    "\\\n",
    "{delimiter}{user_question}{delimiter} \\\n",
    "\"\"\"\n",
    "messages =  [  \n",
    "{'role':'user', \n",
    " 'content': f\"{user_message}\"},  \n",
    "] \n",
    "response = commons.get_completion_from_messages(messages)\n",
    "print(response)"
   ]
  },
  {
   "cell_type": "code",
   "execution_count": 69,
   "id": "5e70f019",
   "metadata": {},
   "outputs": [
    {
     "name": "stdout",
     "output_type": "stream",
     "text": [
      "Data source role information : Eres un asistente de recursos humanos. Tu respuesta debe ser en español y debe siempre empezar por estimado colaborador\n",
      "messages : [\n",
      "    {\n",
      "        \"role\": \"user\",\n",
      "        \"content\": \"Sigue los siguientes pasos para responder la pregunta delimitada por 4 hashtags: ####. Paso 1 : Si no tienes los datos del colaborador, tu respuesta debe seguir el siguiente formato : Estimado Baufesiano para responder su pregunta necesito los siguientes datos listando los datos que te falten y nada mas. Paso 2 : Si tienes los datos del colaborador, usa en tu respuesta el nombre del colaborador en lugar de estimado colaborador. Paso 3 : Usa las siguientes recomendaciones para tu respuesta : Recomendacion 1 : Usa los datos del colaborador para filtrar la respuesta. Recomendacion 2 : Solo muestra los resultados que tengan que ver con el pais de la unidad y la antiguedad en Baufest. Recomendacion 3 : Si la respuesta es muy amplia, filtra la respuesta por el pais de la unidad y la antiguedad en Baufest. Recomendacion 4 : Si la pregunta no es clara, solicita mayor detalle para responder. Datos del colaborador: Nombre : Santiago Vilche. Antiguedad en Baufest : 2 a\\u00f1os. Puesto : Desarrollador. Pais de la unidad : Argentina. ####\\u00bfCu\\u00e1les son los beneficios que ofrece Baufest?#### \"\n",
      "    }\n",
      "]\n",
      "Estimado Santiago Vilche, para responder su pregunta sobre los beneficios que ofrece Baufest, puedo decirle que la empresa ofrece varios beneficios en diferentes áreas, como BAU Dollar, BAU Health, BAU Net, BAU Lunch y Anti Tráfico. Para acceder a estos beneficios, es necesario cumplir con ciertos requisitos, como tener una antigüedad en Baufest de al menos 2 años, presentar copia del contrato de alquiler o escritura al nombre del colaborador y/o documento legal que respalde convivencia, y presentar una copia del documento de identidad donde conste el cambio de domicilio o en su defecto un servicio a su nombre o certificado policial. Para obtener más información sobre los beneficios específicos y los requisitos para acceder a ellos, puede consultar los documentos [doc1], [doc2], [doc3] y [doc4]. Tenga en cuenta que la información proporcionada en estos documentos es aplicable a todos los países de la región LATAM donde Baufest tiene presencia, incluyendo Argentina.\n"
     ]
    }
   ],
   "source": [
    "user_question=f\"\"\"\\\n",
    "¿Cuáles son los beneficios que ofrece Baufest?\"\"\"\n",
    "user_name=\"Santiago Vilche\"\n",
    "user_seniority=\"2 años\"\n",
    "user_job=\"Desarrollador\"\n",
    "user_location=\"Argentina\"\n",
    "\n",
    "delimiter=\"####\"\n",
    "no_user_data_prefix=\"Estimado Baufesiano para responder su pregunta necesito los siguientes datos\"\n",
    "\n",
    "user_message = f\"\"\"\\\n",
    "Sigue los siguientes pasos para responder la pregunta delimitada por 4 hashtags: {delimiter}. \\\n",
    "Paso 1 : Si no tienes los datos del colaborador, tu respuesta debe seguir el siguiente formato : {no_user_data_prefix} \\\n",
    "listando los datos que te falten y nada mas. \\\n",
    "Paso 2 : Si tienes los datos del colaborador, usa en tu respuesta el nombre del colaborador \\\n",
    "en lugar de estimado colaborador. \\\n",
    "Paso 3 : Usa las siguientes recomendaciones para tu respuesta : \\\n",
    "Recomendacion 1 : Usa los datos del colaborador para filtrar la respuesta. \\\n",
    "Recomendacion 2 : Solo muestra los resultados que tengan que ver con el pais de la unidad y la antiguedad en Baufest. \\\n",
    "Recomendacion 3 : Si la respuesta es muy amplia, filtra la respuesta por el pais de la unidad y la antiguedad en Baufest. \\\n",
    "Recomendacion 4 : Si la pregunta no es clara, solicita mayor detalle para responder. \\\n",
    "\\\n",
    "Datos del colaborador: \\\n",
    "Nombre : {user_name}. \\\n",
    "Antiguedad en Baufest : {user_seniority}. \\\n",
    "Puesto : {user_job}. \\\n",
    "Pais de la unidad : {user_location}. \\\n",
    "\\\n",
    "{delimiter}{user_question}{delimiter} \\\n",
    "\"\"\"\n",
    "messages =  [  \n",
    "{'role':'user', \n",
    " 'content': f\"{user_message}\"},  \n",
    "] \n",
    "response = commons.get_completion_from_messages(messages)\n",
    "print(response)"
   ]
  },
  {
   "cell_type": "code",
   "execution_count": 70,
   "id": "0305d5d1",
   "metadata": {},
   "outputs": [
    {
     "name": "stdout",
     "output_type": "stream",
     "text": [
      "Data source role information : Eres un asistente de recursos humanos. Tu respuesta debe ser en español y debe siempre empezar por estimado colaborador\n",
      "messages : [\n",
      "    {\n",
      "        \"role\": \"user\",\n",
      "        \"content\": \"Sigue los siguientes pasos para responder la pregunta delimitada por 4 hashtags: ####. Paso 1 : Si no tienes los datos del colaborador, tu respuesta debe seguir el siguiente formato : Estimado Baufesiano para responder su pregunta necesito los siguientes datos listando los datos que te falten y nada mas. Paso 2 : Si tienes los datos del colaborador, usa en tu respuesta el nombre del colaborador en lugar de estimado colaborador. Paso 3 : Usa las siguientes recomendaciones para tu respuesta : Recomendacion 1 : Usa los datos del colaborador para filtrar la respuesta. Recomendacion 2 : Solo muestra los resultados que tengan que ver con el pais de la unidad y la antiguedad en Baufest. Recomendacion 3 : Si la respuesta es muy amplia, filtra la respuesta por el pais de la unidad y la antiguedad en Baufest. Recomendacion 4 : Si la pregunta no es clara, solicita mayor detalle para responder. Datos del colaborador: Nombre : Santiago Vilche. Antiguedad en Baufest : 2 a\\u00f1os. Puesto : Desarrollador. Pais de la unidad : Mexico. ####\\u00bfCu\\u00e1les son los beneficios que ofrece Baufest?#### \"\n",
      "    }\n",
      "]\n",
      "Estimado Santiago Vilche, para responder su pregunta sobre los beneficios que ofrece Baufest, puedo decirle que la empresa ofrece varios beneficios a sus empleados en Latinoamérica, incluyendo México, como el programa de almuerzo BAU Lunch, el programa de salud BAU Health, el programa de internet BAU Net y el programa de transporte Anti Tráfico. Para acceder a estos beneficios, es necesario cumplir con ciertos requisitos, como tener una antigüedad de al menos 2 años en la empresa, presentar comprobantes de pago y tener una dirección de domicilio registrada en la empresa. Para obtener más información sobre los requisitos específicos y los valores de los beneficios, puede consultar los documentos [doc1] y [doc2]. Espero que esta información sea útil para usted. Si necesita más detalles, por favor hágamelo saber.\n"
     ]
    }
   ],
   "source": [
    "user_question=f\"\"\"\\\n",
    "¿Cuáles son los beneficios que ofrece Baufest?\"\"\"\n",
    "user_name=\"Santiago Vilche\"\n",
    "user_seniority=\"2 años\"\n",
    "user_job=\"Desarrollador\"\n",
    "user_location=\"Mexico\"\n",
    "\n",
    "delimiter=\"####\"\n",
    "no_user_data_prefix=\"Estimado Baufesiano para responder su pregunta necesito los siguientes datos\"\n",
    "\n",
    "user_message = f\"\"\"\\\n",
    "Sigue los siguientes pasos para responder la pregunta delimitada por 4 hashtags: {delimiter}. \\\n",
    "Paso 1 : Si no tienes los datos del colaborador, tu respuesta debe seguir el siguiente formato : {no_user_data_prefix} \\\n",
    "listando los datos que te falten y nada mas. \\\n",
    "Paso 2 : Si tienes los datos del colaborador, usa en tu respuesta el nombre del colaborador \\\n",
    "en lugar de estimado colaborador. \\\n",
    "Paso 3 : Usa las siguientes recomendaciones para tu respuesta : \\\n",
    "Recomendacion 1 : Usa los datos del colaborador para filtrar la respuesta. \\\n",
    "Recomendacion 2 : Solo muestra los resultados que tengan que ver con el pais de la unidad y la antiguedad en Baufest. \\\n",
    "Recomendacion 3 : Si la respuesta es muy amplia, filtra la respuesta por el pais de la unidad y la antiguedad en Baufest. \\\n",
    "Recomendacion 4 : Si la pregunta no es clara, solicita mayor detalle para responder. \\\n",
    "\\\n",
    "Datos del colaborador: \\\n",
    "Nombre : {user_name}. \\\n",
    "Antiguedad en Baufest : {user_seniority}. \\\n",
    "Puesto : {user_job}. \\\n",
    "Pais de la unidad : {user_location}. \\\n",
    "\\\n",
    "{delimiter}{user_question}{delimiter} \\\n",
    "\"\"\"\n",
    "messages =  [  \n",
    "{'role':'user', \n",
    " 'content': f\"{user_message}\"},  \n",
    "] \n",
    "response = commons.get_completion_from_messages(messages)\n",
    "print(response)"
   ]
  },
  {
   "cell_type": "code",
   "execution_count": 71,
   "id": "5c9907de",
   "metadata": {},
   "outputs": [
    {
     "name": "stdout",
     "output_type": "stream",
     "text": [
      "Data source role information : Eres un asistente de recursos humanos. Tu respuesta debe ser en español y debe siempre empezar por estimado colaborador\n",
      "messages : [\n",
      "    {\n",
      "        \"role\": \"user\",\n",
      "        \"content\": \"Sigue los siguientes pasos para responder la pregunta delimitada por 4 hashtags: ####. Paso 1 : Si no tienes los datos del colaborador, tu respuesta debe seguir el siguiente formato : Estimado Baufesiano para responder su pregunta necesito los siguientes datos listando los datos que te falten y nada mas. Paso 2 : Si tienes los datos del colaborador, usa en tu respuesta el nombre del colaborador en lugar de estimado colaborador. Paso 3 : Usa las siguientes recomendaciones para tu respuesta : Recomendacion 1 : Usa los datos del colaborador para filtrar la respuesta. Recomendacion 2 : Solo muestra los resultados que tengan que ver con el pais de la unidad y la antiguedad en Baufest. Recomendacion 3 : Si la respuesta es muy amplia, filtra la respuesta por el pais de la unidad y la antiguedad en Baufest. Recomendacion 4 : Si la pregunta no es clara, solicita mayor detalle para responder. Datos del colaborador: Nombre : Santiago Vilche. Antiguedad en Baufest : 2 a\\u00f1os. Puesto : Desarrollador. Pais de la unidad : Mexico. ####\\u00bfCu\\u00e1l es el beneficio de BauDollar?#### \"\n",
      "    }\n",
      "]\n",
      "Estimado Santiago Vilche, el beneficio de BauDollar consiste en recibir el 20% del salario bruto en dólares, el cual se ajusta al tipo de cambio oficial del Banco Nación y se descuenta del monto total a transferir en pesos argentinos [doc1]. Este beneficio aplica a partir del sueldo de diciembre de 2021 que se cobra el primer día hábil de enero de 2022 y no tiene un mínimo de ingreso para acceder [doc1]. Para acceder a este beneficio, es necesario tener una antigüedad en Baufest de al menos 2 años al momento de la solicitud [doc3]. Sin embargo, es importante mencionar que este beneficio está disponible únicamente para los empleados de Baufest Argentina . Lamentablemente, no se encontró información específica sobre el beneficio de BauDollar para empleados de Baufest México. ¿Hay algo más en lo que pueda ayudarte?\n"
     ]
    }
   ],
   "source": [
    "user_question=f\"\"\"\\\n",
    "¿Cuál es el beneficio de BauDollar?\"\"\"\n",
    "user_name=\"Santiago Vilche\"\n",
    "user_seniority=\"2 años\"\n",
    "user_job=\"Desarrollador\"\n",
    "user_location=\"Mexico\"\n",
    "\n",
    "delimiter=\"####\"\n",
    "no_user_data_prefix=\"Estimado Baufesiano para responder su pregunta necesito los siguientes datos\"\n",
    "\n",
    "user_message = f\"\"\"\\\n",
    "Sigue los siguientes pasos para responder la pregunta delimitada por 4 hashtags: {delimiter}. \\\n",
    "Paso 1 : Si no tienes los datos del colaborador, tu respuesta debe seguir el siguiente formato : {no_user_data_prefix} \\\n",
    "listando los datos que te falten y nada mas. \\\n",
    "Paso 2 : Si tienes los datos del colaborador, usa en tu respuesta el nombre del colaborador \\\n",
    "en lugar de estimado colaborador. \\\n",
    "Paso 3 : Usa las siguientes recomendaciones para tu respuesta : \\\n",
    "Recomendacion 1 : Usa los datos del colaborador para filtrar la respuesta. \\\n",
    "Recomendacion 2 : Solo muestra los resultados que tengan que ver con el pais de la unidad y la antiguedad en Baufest. \\\n",
    "Recomendacion 3 : Si la respuesta es muy amplia, filtra la respuesta por el pais de la unidad y la antiguedad en Baufest. \\\n",
    "Recomendacion 4 : Si la pregunta no es clara, solicita mayor detalle para responder. \\\n",
    "\\\n",
    "Datos del colaborador: \\\n",
    "Nombre : {user_name}. \\\n",
    "Antiguedad en Baufest : {user_seniority}. \\\n",
    "Puesto : {user_job}. \\\n",
    "Pais de la unidad : {user_location}. \\\n",
    "\\\n",
    "{delimiter}{user_question}{delimiter} \\\n",
    "\"\"\"\n",
    "messages =  [  \n",
    "{'role':'user', \n",
    " 'content': f\"{user_message}\"},  \n",
    "] \n",
    "response = commons.get_completion_from_messages(messages)\n",
    "print(response)"
   ]
  },
  {
   "cell_type": "code",
   "execution_count": 72,
   "id": "6995a424",
   "metadata": {},
   "outputs": [
    {
     "name": "stdout",
     "output_type": "stream",
     "text": [
      "Data source role information : Eres un asistente de recursos humanos. Tu respuesta debe ser en español y debe siempre empezar por estimado colaborador\n",
      "messages : [\n",
      "    {\n",
      "        \"role\": \"user\",\n",
      "        \"content\": \"Sigue los siguientes pasos para responder la pregunta delimitada por 4 hashtags: ####. Paso 1 : Si no tienes los datos del colaborador, tu respuesta debe seguir el siguiente formato : Estimado Baufesiano para responder su pregunta necesito los siguientes datos listando los datos que te falten y nada mas. Paso 2 : Si tienes los datos del colaborador, usa en tu respuesta el nombre del colaborador en lugar de estimado colaborador. Paso 3 : Usa las siguientes recomendaciones para tu respuesta : Recomendacion 1 : Usa los datos del colaborador para filtrar la respuesta. Recomendacion 2 : Solo muestra los resultados que tengan que ver con el pais de la unidad y la antiguedad en Baufest. Recomendacion 3 : Si la respuesta es muy amplia, filtra la respuesta por el pais de la unidad y la antiguedad en Baufest. Recomendacion 4 : Si la pregunta no es clara, solicita mayor detalle para responder. Datos del colaborador: Nombre : Santiago Vilche. Antiguedad en Baufest : 2 a\\u00f1os. Puesto : Desarrollador. Pais de la unidad : Argentina. ####\\u00bfQu\\u00e9 opinas de la vida?#### \"\n",
      "    }\n",
      "]\n",
      "Estimado Santiago Vilche, para responder su pregunta necesito aclarar que la información proporcionada no es suficiente para brindar una respuesta relacionada con su antigüedad en Baufest y el país de la unidad. Además, la pregunta no está relacionada con su puesto o su trabajo en Baufest. Por favor, proporcione más detalles o una pregunta más específica para que pueda ayudarlo de manera efectiva. Gracias.\n"
     ]
    }
   ],
   "source": [
    "user_question=f\"\"\"\\\n",
    "¿Qué opinas de la vida?\"\"\"\n",
    "user_name=\"Santiago Vilche\"\n",
    "user_seniority=\"2 años\"\n",
    "user_job=\"Desarrollador\"\n",
    "user_location=\"Argentina\"\n",
    "\n",
    "delimiter=\"####\"\n",
    "no_user_data_prefix=\"Estimado Baufesiano para responder su pregunta necesito los siguientes datos\"\n",
    "\n",
    "user_message = f\"\"\"\\\n",
    "Sigue los siguientes pasos para responder la pregunta delimitada por 4 hashtags: {delimiter}. \\\n",
    "Paso 1 : Si no tienes los datos del colaborador, tu respuesta debe seguir el siguiente formato : {no_user_data_prefix} \\\n",
    "listando los datos que te falten y nada mas. \\\n",
    "Paso 2 : Si tienes los datos del colaborador, usa en tu respuesta el nombre del colaborador \\\n",
    "en lugar de estimado colaborador. \\\n",
    "Paso 3 : Usa las siguientes recomendaciones para tu respuesta : \\\n",
    "Recomendacion 1 : Usa los datos del colaborador para filtrar la respuesta. \\\n",
    "Recomendacion 2 : Solo muestra los resultados que tengan que ver con el pais de la unidad y la antiguedad en Baufest. \\\n",
    "Recomendacion 3 : Si la respuesta es muy amplia, filtra la respuesta por el pais de la unidad y la antiguedad en Baufest. \\\n",
    "Recomendacion 4 : Si la pregunta no es clara, solicita mayor detalle para responder. \\\n",
    "\\\n",
    "Datos del colaborador: \\\n",
    "Nombre : {user_name}. \\\n",
    "Antiguedad en Baufest : {user_seniority}. \\\n",
    "Puesto : {user_job}. \\\n",
    "Pais de la unidad : {user_location}. \\\n",
    "\\\n",
    "{delimiter}{user_question}{delimiter} \\\n",
    "\"\"\"\n",
    "messages =  [  \n",
    "{'role':'user', \n",
    " 'content': f\"{user_message}\"},  \n",
    "] \n",
    "response = commons.get_completion_from_messages(messages)\n",
    "print(response)"
   ]
  },
  {
   "cell_type": "markdown",
   "id": "56ffcb22",
   "metadata": {},
   "source": [
    "### ¿Funcionara usando el ejemplo de L4-Process-Inputs-Chain-of-Thought-Reasoning?\n",
    "\n",
    "Usaremos la técnica de chain of though:"
   ]
  },
  {
   "cell_type": "code",
   "execution_count": 75,
   "id": "206faa21",
   "metadata": {},
   "outputs": [
    {
     "name": "stdout",
     "output_type": "stream",
     "text": [
      "Data source role information : Eres un asistente de recursos humanos. Tu respuesta debe ser en español y debe siempre empezar por estimado colaborador\n",
      "messages : [\n",
      "    {\n",
      "        \"role\": \"user\",\n",
      "        \"content\": \"Sigue los siguientes pasos para responder la pregunta delimitada por 4 hashtags: ####. Paso 1 : Si no tienes los datos del colaborador, tu respuesta debe seguir el siguiente formato : Estimado Baufesiano para responder su pregunta necesito los siguientes datos listando los datos que te falten y nada mas. Paso 2 : Si tienes los datos del colaborador, usa en tu respuesta el nombre del colaborador en lugar de estimado colaborador. Paso 3 : Usa las siguientes recomendaciones para tu respuesta : Recomendacion 1 : Usa los datos del colaborador para filtrar la respuesta. Recomendacion 2 : Solo muestra los resultados que tengan que ver con el pais de la unidad y la antiguedad en Baufest. Recomendacion 3 : Si la respuesta es muy amplia, filtra la respuesta por el pais de la unidad y la antiguedad en Baufest. Recomendacion 4 : Si la pregunta no es clara, solicita mayor detalle para responder. Datos del colaborador: Nombre : Santiago Vilche. Antiguedad en Baufest : 2 a\\u00f1os. Puesto : Desarrollador. Pais de la unidad : Argentina. ####\\u00bfQu\\u00e9 opinas de la vida?#### Usa el siguiente formato para tu respuesta : Paso 1: <Razonamiento paso 1> Paso 2: <Razonamiento paso 2> Paso 3: <Razonamiento paso 3> Respuesta al colaborador: <Respuesta a la pregunta> \"\n",
      "    }\n",
      "]\n",
      "Estimado Santiago Vilche, para responder su pregunta necesito los siguientes datos: ¿Cuál es su pregunta específica relacionada con su antigüedad en Baufest y su país de la unidad? Por favor proporcione más detalles para poder ayudarlo mejor. Gracias.\n"
     ]
    }
   ],
   "source": [
    "user_question=f\"\"\"\\\n",
    "¿Qué opinas de la vida?\"\"\"\n",
    "user_name=\"Santiago Vilche\"\n",
    "user_seniority=\"2 años\"\n",
    "user_job=\"Desarrollador\"\n",
    "user_location=\"Argentina\"\n",
    "\n",
    "delimiter=\"####\"\n",
    "no_user_data_prefix=\"Estimado Baufesiano para responder su pregunta necesito los siguientes datos\"\n",
    "\n",
    "user_message = f\"\"\"\\\n",
    "Sigue los siguientes pasos para responder la pregunta delimitada por 4 hashtags: {delimiter}. \\\n",
    "Paso 1 : Si no tienes los datos del colaborador, tu respuesta debe seguir el siguiente formato : {no_user_data_prefix} \\\n",
    "listando los datos que te falten y nada mas. \\\n",
    "Paso 2 : Si tienes los datos del colaborador, usa en tu respuesta el nombre del colaborador \\\n",
    "en lugar de estimado colaborador. \\\n",
    "Paso 3 : Usa las siguientes recomendaciones para tu respuesta : \\\n",
    "Recomendacion 1 : Usa los datos del colaborador para filtrar la respuesta. \\\n",
    "Recomendacion 2 : Solo muestra los resultados que tengan que ver con el pais de la unidad y la antiguedad en Baufest. \\\n",
    "Recomendacion 3 : Si la respuesta es muy amplia, filtra la respuesta por el pais de la unidad y la antiguedad en Baufest. \\\n",
    "Recomendacion 4 : Si la pregunta no es clara, solicita mayor detalle para responder. \\\n",
    "\\\n",
    "Datos del colaborador: \\\n",
    "Nombre : {user_name}. \\\n",
    "Antiguedad en Baufest : {user_seniority}. \\\n",
    "Puesto : {user_job}. \\\n",
    "Pais de la unidad : {user_location}. \\\n",
    "\\\n",
    "{delimiter}{user_question}{delimiter} \\\n",
    "\\\n",
    "Usa el siguiente formato para tu respuesta : \\\n",
    "Paso 1: <Razonamiento paso 1> \\\n",
    "Paso 2: <Razonamiento paso 2> \\\n",
    "Paso 3: <Razonamiento paso 3> \\\n",
    "Respuesta al colaborador: <Respuesta a la pregunta> \\\n",
    "\\\n",
    "\"\"\"\n",
    "messages =  [  \n",
    "{'role':'user', \n",
    " 'content': f\"{user_message}\"},  \n",
    "] \n",
    "response = commons.get_completion_from_messages(messages)\n",
    "print(response)"
   ]
  },
  {
   "cell_type": "markdown",
   "id": "30a45666",
   "metadata": {},
   "source": [
    "Parece ser que tenemos que reformular la técnica de chain of thoughts"
   ]
  },
  {
   "cell_type": "markdown",
   "id": "1e708798",
   "metadata": {},
   "source": [
    "### Prompt en inglés\n",
    "\n",
    "Ahora cambiaremos el prompt a inglés para ver si cambia la respuesta"
   ]
  },
  {
   "cell_type": "code",
   "execution_count": null,
   "id": "9e16e249",
   "metadata": {},
   "outputs": [],
   "source": []
  }
 ],
 "metadata": {
  "kernelspec": {
   "display_name": "Python 3 (ipykernel)",
   "language": "python",
   "name": "python3"
  },
  "language_info": {
   "codemirror_mode": {
    "name": "ipython",
    "version": 3
   },
   "file_extension": ".py",
   "mimetype": "text/x-python",
   "name": "python",
   "nbconvert_exporter": "python",
   "pygments_lexer": "ipython3",
   "version": "3.11.5"
  }
 },
 "nbformat": 4,
 "nbformat_minor": 5
}
