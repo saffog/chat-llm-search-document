{
 "cells": [
  {
   "cell_type": "markdown",
   "id": "78cf3a51",
   "metadata": {},
   "source": [
    "# Setup to allow tests in notebooks\n",
    "\n",
    "Notice this setup uses:\n",
    "\n",
    "- Azure Open AI\n",
    "- Azure Search Service\n",
    "\n",
    "The idea behind these Tests is to modulate the role of system to the required response"
   ]
  },
  {
   "cell_type": "code",
   "execution_count": 1,
   "id": "d64a1950",
   "metadata": {},
   "outputs": [],
   "source": [
    "import os\n",
    "import openai # this will require pip install openai\n",
    "import tiktoken # this will require pip install tiktoken\n",
    "import requests\n",
    "import json\n",
    "\n",
    "from dotenv import load_dotenv, find_dotenv\n",
    "_ = load_dotenv(find_dotenv()) # read local .env file\n"
   ]
  },
  {
   "cell_type": "code",
   "execution_count": 2,
   "id": "6bf1ec9d",
   "metadata": {},
   "outputs": [],
   "source": [
    "# On Your Data Settings\n",
    "DATASOURCE_TYPE = os.environ.get(\"DATASOURCE_TYPE\", \"AzureCognitiveSearch\")\n",
    "SEARCH_TOP_K = os.environ.get(\"SEARCH_TOP_K\", 5)\n",
    "SEARCH_STRICTNESS = os.environ.get(\"SEARCH_STRICTNESS\", 3)\n",
    "SEARCH_ENABLE_IN_DOMAIN = os.environ.get(\"SEARCH_ENABLE_IN_DOMAIN\", \"true\")\n",
    "\n",
    "# ACS Integration Settings\n",
    "AZURE_SEARCH_SERVICE = os.environ.get(\"AZURE_SEARCH_SERVICE\")\n",
    "AZURE_SEARCH_INDEX = os.environ.get(\"AZURE_SEARCH_INDEX\")\n",
    "AZURE_SEARCH_KEY = os.environ.get(\"AZURE_SEARCH_KEY\")\n",
    "AZURE_SEARCH_USE_SEMANTIC_SEARCH = os.environ.get(\"AZURE_SEARCH_USE_SEMANTIC_SEARCH\", \"false\")\n",
    "AZURE_SEARCH_SEMANTIC_SEARCH_CONFIG = os.environ.get(\"AZURE_SEARCH_SEMANTIC_SEARCH_CONFIG\", \"default\")\n",
    "AZURE_SEARCH_TOP_K = os.environ.get(\"AZURE_SEARCH_TOP_K\", SEARCH_TOP_K)\n",
    "AZURE_SEARCH_ENABLE_IN_DOMAIN = os.environ.get(\"AZURE_SEARCH_ENABLE_IN_DOMAIN\", SEARCH_ENABLE_IN_DOMAIN)\n",
    "AZURE_SEARCH_CONTENT_COLUMNS = os.environ.get(\"AZURE_SEARCH_CONTENT_COLUMNS\")\n",
    "AZURE_SEARCH_FILENAME_COLUMN = os.environ.get(\"AZURE_SEARCH_FILENAME_COLUMN\")\n",
    "AZURE_SEARCH_TITLE_COLUMN = os.environ.get(\"AZURE_SEARCH_TITLE_COLUMN\")\n",
    "AZURE_SEARCH_URL_COLUMN = os.environ.get(\"AZURE_SEARCH_URL_COLUMN\")\n",
    "AZURE_SEARCH_VECTOR_COLUMNS = os.environ.get(\"AZURE_SEARCH_VECTOR_COLUMNS\")\n",
    "AZURE_SEARCH_QUERY_TYPE = os.environ.get(\"AZURE_SEARCH_QUERY_TYPE\")\n",
    "AZURE_SEARCH_PERMITTED_GROUPS_COLUMN = os.environ.get(\"AZURE_SEARCH_PERMITTED_GROUPS_COLUMN\")\n",
    "AZURE_SEARCH_STRICTNESS = os.environ.get(\"AZURE_SEARCH_STRICTNESS\", SEARCH_STRICTNESS)\n",
    "\n",
    "# AOAI\n",
    "AZURE_OPENAI_RESOURCE = os.environ.get(\"AZURE_OPENAI_RESOURCE\")\n",
    "AZURE_OPENAI_KEY = os.environ.get(\"AZURE_OPENAI_KEY\")\n",
    "AZURE_OPENAI_MODEL = os.environ.get(\"AZURE_OPENAI_MODEL\")\n",
    "AZURE_OPENAI_SYSTEM_MESSAGE = os.environ.get(\"AZURE_OPENAI_SYSTEM_MESSAGE\", \"You are an AI assistant that helps people find information.\")\n",
    "\n",
    "openai.api_key  = AZURE_OPENAI_KEY\n",
    "openai.api_type = \"azure\"\n",
    "openai.api_version = \"2023-08-01-preview\"\n",
    "openai.api_base = f\"https://{AZURE_OPENAI_RESOURCE}.openai.azure.com/\"\n"
   ]
  },
  {
   "cell_type": "code",
   "execution_count": 3,
   "id": "a703ee60",
   "metadata": {},
   "outputs": [],
   "source": [
    "def print_required_variables(debug=True):\n",
    "    if debug:\n",
    "        print(f\"AZURE_SEARCH_SERVICE: {AZURE_SEARCH_SERVICE}\")\n",
    "        print(f\"AZURE_SEARCH_INDEX: {AZURE_SEARCH_INDEX}\")\n",
    "        print(f\"AZURE_SEARCH_KEY: {AZURE_SEARCH_KEY}\")\n",
    "        print(f\"AZURE_SEARCH_USE_SEMANTIC_SEARCH: {AZURE_SEARCH_USE_SEMANTIC_SEARCH}\")\n",
    "        print(f\"AZURE_SEARCH_SEMANTIC_SEARCH_CONFIG: {AZURE_SEARCH_SEMANTIC_SEARCH_CONFIG}\")\n",
    "        print(f\"AZURE_SEARCH_TOP_K: {AZURE_SEARCH_TOP_K}\")\n",
    "        print(f\"AZURE_SEARCH_ENABLE_IN_DOMAIN: {AZURE_SEARCH_ENABLE_IN_DOMAIN}\")\n",
    "        print(f\"AZURE_SEARCH_CONTENT_COLUMNS: {AZURE_SEARCH_CONTENT_COLUMNS}\")\n",
    "        print(f\"AZURE_SEARCH_FILENAME_COLUMN: {AZURE_SEARCH_FILENAME_COLUMN}\")\n",
    "        print(f\"AZURE_SEARCH_TITLE_COLUMN: {AZURE_SEARCH_TITLE_COLUMN}\")\n",
    "        print(f\"AZURE_SEARCH_URL_COLUMN: {AZURE_SEARCH_URL_COLUMN}\")\n",
    "        print(f\"AZURE_SEARCH_VECTOR_COLUMNS: {AZURE_SEARCH_VECTOR_COLUMNS}\")\n",
    "        print(f\"AZURE_SEARCH_QUERY_TYPE: {AZURE_SEARCH_QUERY_TYPE}\")\n",
    "        print(f\"AZURE_SEARCH_PERMITTED_GROUPS_COLUMN: {AZURE_SEARCH_PERMITTED_GROUPS_COLUMN}\")\n",
    "        print(f\"AZURE_SEARCH_STRICTNESS: {AZURE_SEARCH_STRICTNESS}\")\n",
    "        print(f\"AZURE_OPENAI_RESOURCE: {AZURE_OPENAI_RESOURCE}\")\n",
    "        print(f\"AZURE_OPENAI_KEY: {AZURE_OPENAI_KEY}\")\n",
    "        print(f\"AZURE_OPENAI_MODEL: {AZURE_OPENAI_MODEL}\")\n",
    "        print(f\"AZURE_OPENAI_SYSTEM_MESSAGE: {AZURE_OPENAI_SYSTEM_MESSAGE}\")"
   ]
  },
  {
   "cell_type": "code",
   "execution_count": 30,
   "id": "0406dac0",
   "metadata": {},
   "outputs": [],
   "source": [
    "print_required_variables(False)"
   ]
  },
  {
   "cell_type": "code",
   "execution_count": 5,
   "id": "4beae51d",
   "metadata": {},
   "outputs": [],
   "source": [
    "def beautify_json(json_to_process): \n",
    "    return json.dumps(json_to_process, indent=4)"
   ]
  },
  {
   "cell_type": "code",
   "execution_count": 6,
   "id": "7de5e26e",
   "metadata": {},
   "outputs": [],
   "source": [
    "def get_completion_from_messages(messages,\n",
    "                                 ds_role_value=\"\",\n",
    "                                 debug=False,\n",
    "                                 show_completion=False,\n",
    "                                 show_input=True) :\n",
    "    if debug:\n",
    "        print_required_variables(debug)\n",
    "        print(f\"messages: {messages}\")\n",
    "    \n",
    "    def setup_byod(deployment_id: str) -> None:\n",
    "        \"\"\"Sets up the OpenAI Python SDK to use your own data for the chat endpoint.\n",
    "        :param deployment_id: The deployment ID for the model to use with your own data.\n",
    "        To remove this configuration, simply set openai.requestssession to None.\n",
    "        \"\"\"\n",
    "\n",
    "        class BringYourOwnDataAdapter(requests.adapters.HTTPAdapter):\n",
    "\n",
    "            def send(self, request, **kwargs):\n",
    "                request.url = f\"{openai.api_base}/openai/deployments/{deployment_id}/extensions/chat/completions?api-version={openai.api_version}\"\n",
    "                return super().send(request, **kwargs)\n",
    "\n",
    "        session = requests.Session()\n",
    "\n",
    "        # Mount a custom adapter which will use the extensions endpoint for any call using the given `deployment_id`\n",
    "        session.mount(\n",
    "            prefix=f\"{openai.api_base}/openai/deployments/{deployment_id}\",\n",
    "            adapter=BringYourOwnDataAdapter()\n",
    "        )\n",
    "        \n",
    "        openai.requestssession = session\n",
    "\n",
    "    if ds_role_value == \"\" :\n",
    "        ds_role_value = AZURE_OPENAI_SYSTEM_MESSAGE\n",
    "        \n",
    "    setup_byod(AZURE_OPENAI_MODEL)\n",
    "    search_endpoint = f\"https://{AZURE_SEARCH_SERVICE}.search.windows.net\"\n",
    "    \n",
    "    if show_input:\n",
    "        print(f\"Data source role information : {ds_role_value}\")\n",
    "        print(f\"messages : {beautify_json(messages)}\")\n",
    "    \n",
    "    completion = openai.ChatCompletion.create(\n",
    "        messages=messages,\n",
    "        deployment_id=AZURE_OPENAI_MODEL,\n",
    "        dataSources=[  # camelCase is intentional, as this is the format the API expects\n",
    "            {\n",
    "                \"type\": DATASOURCE_TYPE,\n",
    "                \"parameters\": {\n",
    "                    \"endpoint\": search_endpoint,\n",
    "                    \"key\": AZURE_SEARCH_KEY,\n",
    "                    \"indexName\": AZURE_SEARCH_INDEX,\n",
    "                    \"fieldsMapping\": {\n",
    "                        \"contentFields\": AZURE_SEARCH_CONTENT_COLUMNS.split(\"|\") if AZURE_SEARCH_CONTENT_COLUMNS else [],\n",
    "                        \"titleField\": AZURE_SEARCH_TITLE_COLUMN if AZURE_SEARCH_TITLE_COLUMN else None,\n",
    "                        \"urlField\": AZURE_SEARCH_URL_COLUMN if AZURE_SEARCH_URL_COLUMN else None,\n",
    "                        \"filepathField\": AZURE_SEARCH_FILENAME_COLUMN if AZURE_SEARCH_FILENAME_COLUMN else None,\n",
    "                        \"vectorFields\": AZURE_SEARCH_VECTOR_COLUMNS.split(\"|\") if AZURE_SEARCH_VECTOR_COLUMNS else []\n",
    "                    },\n",
    "                    \"inScope\": True if AZURE_SEARCH_ENABLE_IN_DOMAIN.lower() == \"true\" else False,\n",
    "                    \"topNDocuments\": AZURE_SEARCH_TOP_K,\n",
    "                    \"queryType\": AZURE_SEARCH_QUERY_TYPE,\n",
    "                    \"semanticConfiguration\": AZURE_SEARCH_SEMANTIC_SEARCH_CONFIG if AZURE_SEARCH_SEMANTIC_SEARCH_CONFIG else \"\",\n",
    "                    \"roleInformation\": ds_role_value,\n",
    "                    \"strictness\": int(AZURE_SEARCH_STRICTNESS)\n",
    "                }\n",
    "            }\n",
    "        ]\n",
    "    )\n",
    "\n",
    "    if show_completion:\n",
    "        print(completion)\n",
    "\n",
    "    return completion.choices[0].message[\"content\"]\n"
   ]
  },
  {
   "cell_type": "markdown",
   "id": "97d5eef4",
   "metadata": {},
   "source": [
    "Prueba de base, sin modificaciones"
   ]
  },
  {
   "cell_type": "code",
   "execution_count": 7,
   "id": "13703515",
   "metadata": {},
   "outputs": [
    {
     "name": "stdout",
     "output_type": "stream",
     "text": [
      "Data source role information : Eres un asistente de recursos humanos. Tu respuesta debe ser en español y debe siempre empezar por estimado colaborador\n",
      "messages : [\n",
      "    {\n",
      "        \"role\": \"user\",\n",
      "        \"content\": \"Lista los beneficios de Baufest\"\n",
      "    }\n",
      "]\n",
      "Estimado colaborador, Baufest ofrece varios beneficios a sus empleados en diferentes áreas. A continuación, se detallan algunos de ellos:\n",
      "\n",
      "- BAU Lunch (LATAM): Este beneficio ofrece a los empleados de Argentina, Perú y Chile la posibilidad de recibir acreditaciones para almuerzos a través de la App de PedidosYa o Tickets Restaurant emitidos por Edenred. La acreditación es semanal en Argentina y Perú, y mensual en Uruguay. [doc1]\n",
      "- BAU Health (LATAM): Este beneficio permite a los empleados de América Latina solicitar el reembolso de actividades físicas realizadas en el trimestre correspondiente, siempre y cuando cumplan con los requisitos establecidos. [doc3]\n",
      "- BAU Net (LATAM): Este beneficio ofrece a los empleados de América Latina la posibilidad de solicitar el reembolso de servicios de internet. [doc3]\n",
      "- BAU Dollar: Este beneficio ofrece a los empleados la posibilidad de recibir su salario en dólares, y brinda información sobre los medios de pago sugeridos y validados por Baufest. [doc2]\n",
      "- Anti Tráfico (LATAM): Este beneficio permite a los empleados de América Latina elegir un rango horario para evitar el tráfico en sus traslados al trabajo. [doc1]\n",
      "\n",
      "Es importante tener en cuenta que estos beneficios pueden estar sujetos a ciertas condiciones y requisitos específicos. Para obtener más información, se recomienda consultar los documentos recuperados. [doc2]\n"
     ]
    }
   ],
   "source": [
    "user_message = f\"\"\"\\\n",
    "Lista los beneficios de Baufest\"\"\"\n",
    "\n",
    "messages =  [  \n",
    "{'role':'user', \n",
    " 'content': f\"{user_message}\"},  \n",
    "] \n",
    "\n",
    "response = get_completion_from_messages(messages,show_completion=False)\n",
    "print(response)"
   ]
  },
  {
   "cell_type": "markdown",
   "id": "aa804db4",
   "metadata": {},
   "source": [
    "### Modifiquemos el prompt del _role user_ solamente"
   ]
  },
  {
   "cell_type": "code",
   "execution_count": 12,
   "id": "3e5268f4",
   "metadata": {},
   "outputs": [],
   "source": [
    "delimiter=\"####\"\n",
    "user_question=f\"\"\"\\\n",
    "Lista los beneficios de Baufest\"\"\"\n",
    "user_message = f\"\"\"\\\n",
    "Responde la pregunta delimitada por 4 hashtags, i.e. {delimiter}. \\\n",
    "{delimiter}{user_question}{delimiter} \\\n",
    "\"\"\"\n",
    "messages =  [  \n",
    "{'role':'user', \n",
    " 'content': f\"{user_message}\"},  \n",
    "] \n"
   ]
  },
  {
   "cell_type": "code",
   "execution_count": 13,
   "id": "5c343a74",
   "metadata": {},
   "outputs": [
    {
     "name": "stdout",
     "output_type": "stream",
     "text": [
      "Data source role information : Eres un asistente de recursos humanos. Tu respuesta debe ser en español y debe siempre empezar por estimado colaborador\n",
      "messages : [\n",
      "    {\n",
      "        \"role\": \"user\",\n",
      "        \"content\": \"Responde la pregunta delimitada por 4 hashtags, i.e. ####. ####Lista los beneficios de Baufest#### \"\n",
      "    }\n",
      "]\n",
      "Estimado colaborador, Baufest ofrece varios beneficios a sus empleados en LATAM, entre ellos se encuentran: BAU Lunch, BAU Health, BAU Net y BAU Dollar[doc1][doc2][doc3]. Cada uno de estos beneficios tiene diferentes características y requisitos, por lo que te recomiendo revisar los documentos correspondientes para obtener más información.\n"
     ]
    }
   ],
   "source": [
    "response = get_completion_from_messages(messages)\n",
    "print(response)"
   ]
  },
  {
   "cell_type": "code",
   "execution_count": 18,
   "id": "c02b89c7",
   "metadata": {},
   "outputs": [],
   "source": [
    "delimiter=\"####\"\n",
    "user_question=f\"\"\"\\\n",
    "Lista los beneficios de Baufest\"\"\"\n",
    "user_message = f\"\"\"\\\n",
    "Responde la pregunta delimitada por 4 hashtags, i.e. {delimiter}. \\\n",
    "{delimiter}{user_question}{delimiter} \\\n",
    "\\\n",
    "Si no tienes los siguientes datos: Nombre, antigüedad del puesto, puesto y país de la unidad, antes de responder \\\n",
    "solicita estos datos al usuario.\"\"\"\n",
    "messages =  [  \n",
    "{'role':'user', \n",
    " 'content': f\"{user_message}\"},  \n",
    "] \n"
   ]
  },
  {
   "cell_type": "code",
   "execution_count": 19,
   "id": "42b7982d",
   "metadata": {},
   "outputs": [
    {
     "name": "stdout",
     "output_type": "stream",
     "text": [
      "Data source role information : Eres un asistente de recursos humanos. Tu respuesta debe ser en español y debe siempre empezar por estimado colaborador\n",
      "messages : [\n",
      "    {\n",
      "        \"role\": \"user\",\n",
      "        \"content\": \"Responde la pregunta delimitada por 4 hashtags, i.e. ####. ####Lista los beneficios de Baufest#### Si no tienes los siguientes datos: Nombre, antig\\u00fcedad del puesto, puesto y pa\\u00eds de la unidad, antes de responder solicita estos datos al usuario.\"\n",
      "    }\n",
      "]\n",
      "Estimado colaborador, para poder responder tu pregunta de manera precisa, necesito que me proporciones algunos datos adicionales como tu nombre, antigüedad en el puesto, puesto y país de la unidad. Una vez que tenga esta información, podré brindarte una respuesta más detallada sobre los beneficios de Baufest. Quedo a la espera de tu respuesta.\n"
     ]
    }
   ],
   "source": [
    "response = get_completion_from_messages(messages)\n",
    "print(response)"
   ]
  },
  {
   "cell_type": "code",
   "execution_count": 20,
   "id": "c130169f",
   "metadata": {},
   "outputs": [],
   "source": [
    "user_question=f\"\"\"\\\n",
    "¿Cuál es el Beneficio de BAU lunch?\"\"\"\n",
    "\n",
    "delimiter=\"####\"\n",
    "user_message = f\"\"\"\\\n",
    "Responde la pregunta delimitada por 4 hashtags, i.e. {delimiter}. \\\n",
    "{delimiter}{user_question}{delimiter} \\\n",
    "\\\n",
    "Si no tienes los siguientes datos: Nombre, antigüedad del puesto, puesto y país de la unidad, antes de responder \\\n",
    "solicita estos datos al usuario.\"\"\"\n",
    "messages =  [  \n",
    "{'role':'user', \n",
    " 'content': f\"{user_message}\"},  \n",
    "] \n"
   ]
  },
  {
   "cell_type": "code",
   "execution_count": 21,
   "id": "fd01287a",
   "metadata": {},
   "outputs": [
    {
     "name": "stdout",
     "output_type": "stream",
     "text": [
      "Data source role information : Eres un asistente de recursos humanos. Tu respuesta debe ser en español y debe siempre empezar por estimado colaborador\n",
      "messages : [\n",
      "    {\n",
      "        \"role\": \"user\",\n",
      "        \"content\": \"Responde la pregunta delimitada por 4 hashtags, i.e. ####. ####\\u00bfCu\\u00e1l es el Beneficio de BAU lunch?#### Si no tienes los siguientes datos: Nombre, antig\\u00fcedad del puesto, puesto y pa\\u00eds de la unidad, antes de responder solicita estos datos al usuario.\"\n",
      "    }\n",
      "]\n",
      "Estimado colaborador, para poder responder a su pregunta sobre el Beneficio de BAU lunch, necesito que me proporcione su nombre, antigüedad del puesto, puesto y país de la unidad. Sin esta información, no puedo brindarle una respuesta precisa. Por favor, proporcione esta información para que pueda ayudarlo mejor.\n"
     ]
    }
   ],
   "source": [
    "response = get_completion_from_messages(messages)\n",
    "print(response)"
   ]
  },
  {
   "cell_type": "code",
   "execution_count": 22,
   "id": "794bee62",
   "metadata": {},
   "outputs": [],
   "source": [
    "user_question=f\"\"\"\\\n",
    "¿Cuál es el Beneficio de BAU lunch?\"\"\"\n",
    "user_name=\"\"\n",
    "user_seniority=\"\"\n",
    "user_position=\"\"\n",
    "user_country=\"\"\n",
    "\n",
    "delimiter=\"####\"\n",
    "user_message = f\"\"\"\\\n",
    "Responde la pregunta delimitada por 4 hashtags, i.e. {delimiter}. \\\n",
    "{delimiter}{user_question}{delimiter} \\\n",
    "Teniendo en cuenta los siguientes datos:\\\n",
    "- Nombre :{user_name}\\\n",
    "- Antigüedad en el puesto : {user_seniority}\\\n",
    "- Puesto : {user_position}\\\n",
    "- País de la unidad : {user_country}\\\n",
    "\\\n",
    "Si no tienes los siguientes datos: Nombre, antigüedad en el puesto, puesto y país de la unidad, antes de responder \\\n",
    "solicita estos datos al usuario.\"\"\"\n",
    "messages =  [  \n",
    "{'role':'user', \n",
    " 'content': f\"{user_message}\"},  \n",
    "] \n"
   ]
  },
  {
   "cell_type": "code",
   "execution_count": 23,
   "id": "5621b272",
   "metadata": {},
   "outputs": [
    {
     "name": "stdout",
     "output_type": "stream",
     "text": [
      "Data source role information : Eres un asistente de recursos humanos. Tu respuesta debe ser en español y debe siempre empezar por estimado colaborador\n",
      "messages : [\n",
      "    {\n",
      "        \"role\": \"user\",\n",
      "        \"content\": \"Responde la pregunta delimitada por 4 hashtags, i.e. ####. ####\\u00bfCu\\u00e1l es el Beneficio de BAU lunch?#### Teniendo en cuenta los siguientes datos:- Nombre :- Antig\\u00fcedad en el puesto : - Puesto : - Pa\\u00eds de la unidad : Si no tienes los siguientes datos: Nombre, antig\\u00fcedad en el puesto, puesto y pa\\u00eds de la unidad, antes de responder solicita estos datos al usuario.\"\n",
      "    }\n",
      "]\n",
      "Estimado colaborador, para poder responder a tu pregunta sobre el Beneficio de BAU lunch, necesito que me proporciones los siguientes datos: Nombre, antigüedad en el puesto, puesto y país de la unidad. Sin esta información, no puedo brindarte una respuesta precisa. Por favor, proporciónamelos para poder ayudarte mejor.\n"
     ]
    }
   ],
   "source": [
    "response = get_completion_from_messages(messages)\n",
    "print(response)"
   ]
  },
  {
   "cell_type": "code",
   "execution_count": 26,
   "id": "92920d3c",
   "metadata": {},
   "outputs": [],
   "source": [
    "user_question=f\"\"\"\\\n",
    "¿Cuál es el Beneficio de BAU lunch?\"\"\"\n",
    "user_name=\"Alfonso Freddy\"\n",
    "user_seniority=\"5 años\"\n",
    "user_position=\"Desarrollador Full Stack\"\n",
    "user_country=\"Uruguay\"\n",
    "\n",
    "delimiter=\"####\"\n",
    "user_message = f\"\"\"\\\n",
    "Responde la pregunta delimitada por 4 hashtags, i.e. {delimiter}. \\\n",
    "{delimiter}{user_question}{delimiter} \\\n",
    "Teniendo en cuenta los siguientes datos del colaborador:\\\n",
    "Nombre :{user_name}\\\n",
    "Antigüedad en el puesto : {user_seniority}\\\n",
    "Puesto : {user_position}\\\n",
    "País de la unidad : {user_country}\\\n",
    "\\\n",
    "Si no tienes los siguientes datos: Nombre, antigüedad en el puesto, puesto y país de la unidad, antes de responder \\\n",
    "solicita estos datos al usuario.\"\"\"\n",
    "messages =  [  \n",
    "{'role':'user', \n",
    " 'content': f\"{user_message}\"},  \n",
    "] \n"
   ]
  },
  {
   "cell_type": "code",
   "execution_count": 27,
   "id": "afb60d2a",
   "metadata": {},
   "outputs": [
    {
     "name": "stdout",
     "output_type": "stream",
     "text": [
      "Data source role information : Eres un asistente de recursos humanos. Tu respuesta debe ser en español y debe siempre empezar por estimado colaborador\n",
      "messages : [\n",
      "    {\n",
      "        \"role\": \"user\",\n",
      "        \"content\": \"Responde la pregunta delimitada por 4 hashtags, i.e. ####. ####\\u00bfCu\\u00e1l es el Beneficio de BAU lunch?#### Teniendo en cuenta los siguientes datos del colaborador:Nombre :Alfonso FreddyAntig\\u00fcedad en el puesto : 5 a\\u00f1osPuesto : Desarrollador Full StackPa\\u00eds de la unidad : UruguaySi no tienes los siguientes datos: Nombre, antig\\u00fcedad en el puesto, puesto y pa\\u00eds de la unidad, antes de responder solicita estos datos al usuario.\"\n",
      "    }\n",
      "]\n",
      "Estimado colaborador, el beneficio de BAU Lunch en Uruguay consiste en la acreditación mensual de un importe destinado para este fin, el cual se reflejará en tu recibo de sueldo[doc1][doc2]. No es necesario registrarse en ningún lado para acceder a este beneficio[doc2]. Por favor, ten en cuenta que para aplicar a este beneficio es necesario cumplir con los requisitos detallados en la documentación correspondiente. Si necesitas más información sobre este beneficio, por favor consulta la documentación proporcionada.\n"
     ]
    }
   ],
   "source": [
    "response = get_completion_from_messages(messages)\n",
    "print(response)"
   ]
  },
  {
   "cell_type": "code",
   "execution_count": 28,
   "id": "abc249f2",
   "metadata": {},
   "outputs": [],
   "source": [
    "user_question=f\"\"\"\\\n",
    "¿Cuál es el Beneficio de BAU lunch?\"\"\"\n",
    "user_name=\"Alfonso Freddy\"\n",
    "user_seniority=\"5 años\"\n",
    "user_position=\"Desarrollador Full Stack\"\n",
    "user_country=\"Uruguay\"\n",
    "\n",
    "delimiter=\"####\"\n",
    "user_message = f\"\"\"\\\n",
    "Responde la pregunta delimitada por 4 hashtags, i.e. {delimiter}. \\\n",
    "{delimiter}{user_question}{delimiter} \\\n",
    "Teniendo en cuenta los siguientes datos del colaborador:\\\n",
    "Nombre :{user_name}\\\n",
    "Antigüedad en el puesto : {user_seniority}\\\n",
    "Puesto : {user_position}\\\n",
    "País de la unidad : {user_country}\\\n",
    "\\\n",
    "Si no tienes los siguientes datos: Nombre, antigüedad en el puesto, puesto y país de la unidad, antes de responder \\\n",
    "solicita estos datos al usuario.\\\n",
    "Si tienes los datos, usa el nombre del colaborador en lugar de estimado colaborador\"\"\"\n",
    "messages =  [  \n",
    "{'role':'user', \n",
    " 'content': f\"{user_message}\"},  \n",
    "] \n"
   ]
  },
  {
   "cell_type": "code",
   "execution_count": 29,
   "id": "05a357eb",
   "metadata": {},
   "outputs": [
    {
     "name": "stdout",
     "output_type": "stream",
     "text": [
      "Data source role information : Eres un asistente de recursos humanos. Tu respuesta debe ser en español y debe siempre empezar por estimado colaborador\n",
      "messages : [\n",
      "    {\n",
      "        \"role\": \"user\",\n",
      "        \"content\": \"Responde la pregunta delimitada por 4 hashtags, i.e. ####. ####\\u00bfCu\\u00e1l es el Beneficio de BAU lunch?#### Teniendo en cuenta los siguientes datos del colaborador:Nombre :Alfonso FreddyAntig\\u00fcedad en el puesto : 5 a\\u00f1osPuesto : Desarrollador Full StackPa\\u00eds de la unidad : UruguaySi no tienes los siguientes datos: Nombre, antig\\u00fcedad en el puesto, puesto y pa\\u00eds de la unidad, antes de responder solicita estos datos al usuario.Si tienes los datos, usa el nombre del colaborador en lugar de estimado colaborador\"\n",
      "    }\n",
      "]\n",
      "Estimado Alfonso Freddy, el beneficio de BAU Lunch en Uruguay consiste en una acreditación mensual que se reflejará en tu recibo de sueldo y que podrás utilizar a través de Tickets Restaurant emitidos por Edenred[doc1][doc2]. El valor de las acreditaciones puede ser consultado en el siguiente enlace: https://baufest.atlassian.net/wiki/spaces/MDPB/pages/3334439043/BAU+LUNCH+LATAM#4.3-Valores-de-las-acreditaciones[doc2]. Recuerda que para aplicar al beneficio debes cumplir con los requisitos detallados en la documentación. Si tienes alguna otra duda, por favor házmela saber.\n"
     ]
    }
   ],
   "source": [
    "response = get_completion_from_messages(messages)\n",
    "print(response)"
   ]
  },
  {
   "cell_type": "code",
   "execution_count": null,
   "id": "02468dd3",
   "metadata": {},
   "outputs": [],
   "source": []
  }
 ],
 "metadata": {
  "kernelspec": {
   "display_name": "Python 3 (ipykernel)",
   "language": "python",
   "name": "python3"
  },
  "language_info": {
   "codemirror_mode": {
    "name": "ipython",
    "version": 3
   },
   "file_extension": ".py",
   "mimetype": "text/x-python",
   "name": "python",
   "nbconvert_exporter": "python",
   "pygments_lexer": "ipython3",
   "version": "3.11.5"
  }
 },
 "nbformat": 4,
 "nbformat_minor": 5
}
