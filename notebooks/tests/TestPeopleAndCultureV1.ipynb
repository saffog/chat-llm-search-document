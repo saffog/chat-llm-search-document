{
 "cells": [
  {
   "cell_type": "markdown",
   "id": "78cf3a51",
   "metadata": {},
   "source": [
    "# Setup to allow tests in notebooks\n",
    "\n",
    "Notice this setup uses:\n",
    "\n",
    "- Azure Open AI\n",
    "- Azure Search Service\n",
    "\n",
    "The idea behind these Tests is to modulate the role of system to the required response"
   ]
  },
  {
   "cell_type": "code",
   "execution_count": 1,
   "id": "d64a1950",
   "metadata": {},
   "outputs": [],
   "source": [
    "import os\n",
    "import openai # this will require pip install openai\n",
    "import tiktoken # this will require pip install tiktoken\n",
    "import requests\n",
    "\n",
    "from dotenv import load_dotenv, find_dotenv\n",
    "_ = load_dotenv(find_dotenv()) # read local .env file\n"
   ]
  },
  {
   "cell_type": "code",
   "execution_count": 2,
   "id": "6bf1ec9d",
   "metadata": {},
   "outputs": [],
   "source": [
    "# On Your Data Settings\n",
    "DATASOURCE_TYPE = os.environ.get(\"DATASOURCE_TYPE\", \"AzureCognitiveSearch\")\n",
    "SEARCH_TOP_K = os.environ.get(\"SEARCH_TOP_K\", 5)\n",
    "SEARCH_STRICTNESS = os.environ.get(\"SEARCH_STRICTNESS\", 3)\n",
    "SEARCH_ENABLE_IN_DOMAIN = os.environ.get(\"SEARCH_ENABLE_IN_DOMAIN\", \"true\")\n",
    "\n",
    "# ACS Integration Settings\n",
    "AZURE_SEARCH_SERVICE = os.environ.get(\"AZURE_SEARCH_SERVICE\")\n",
    "AZURE_SEARCH_INDEX = os.environ.get(\"AZURE_SEARCH_INDEX\")\n",
    "AZURE_SEARCH_KEY = os.environ.get(\"AZURE_SEARCH_KEY\")\n",
    "AZURE_SEARCH_USE_SEMANTIC_SEARCH = os.environ.get(\"AZURE_SEARCH_USE_SEMANTIC_SEARCH\", \"false\")\n",
    "AZURE_SEARCH_SEMANTIC_SEARCH_CONFIG = os.environ.get(\"AZURE_SEARCH_SEMANTIC_SEARCH_CONFIG\", \"default\")\n",
    "AZURE_SEARCH_TOP_K = os.environ.get(\"AZURE_SEARCH_TOP_K\", SEARCH_TOP_K)\n",
    "AZURE_SEARCH_ENABLE_IN_DOMAIN = os.environ.get(\"AZURE_SEARCH_ENABLE_IN_DOMAIN\", SEARCH_ENABLE_IN_DOMAIN)\n",
    "AZURE_SEARCH_CONTENT_COLUMNS = os.environ.get(\"AZURE_SEARCH_CONTENT_COLUMNS\")\n",
    "AZURE_SEARCH_FILENAME_COLUMN = os.environ.get(\"AZURE_SEARCH_FILENAME_COLUMN\")\n",
    "AZURE_SEARCH_TITLE_COLUMN = os.environ.get(\"AZURE_SEARCH_TITLE_COLUMN\")\n",
    "AZURE_SEARCH_URL_COLUMN = os.environ.get(\"AZURE_SEARCH_URL_COLUMN\")\n",
    "AZURE_SEARCH_VECTOR_COLUMNS = os.environ.get(\"AZURE_SEARCH_VECTOR_COLUMNS\")\n",
    "AZURE_SEARCH_QUERY_TYPE = os.environ.get(\"AZURE_SEARCH_QUERY_TYPE\")\n",
    "AZURE_SEARCH_PERMITTED_GROUPS_COLUMN = os.environ.get(\"AZURE_SEARCH_PERMITTED_GROUPS_COLUMN\")\n",
    "AZURE_SEARCH_STRICTNESS = os.environ.get(\"AZURE_SEARCH_STRICTNESS\", SEARCH_STRICTNESS)\n",
    "\n",
    "# AOAI\n",
    "AZURE_OPENAI_RESOURCE = os.environ.get(\"AZURE_OPENAI_RESOURCE\")\n",
    "AZURE_OPENAI_KEY = os.environ.get(\"AZURE_OPENAI_KEY\")\n",
    "AZURE_OPENAI_MODEL = os.environ.get(\"AZURE_OPENAI_MODEL\")\n",
    "AZURE_OPENAI_SYSTEM_MESSAGE = os.environ.get(\"AZURE_OPENAI_SYSTEM_MESSAGE\", \"You are an AI assistant that helps people find information.\")\n",
    "\n",
    "openai.api_key  = AZURE_OPENAI_KEY\n",
    "openai.api_type = \"azure\"\n",
    "openai.api_version = \"2023-08-01-preview\"\n",
    "openai.api_base = f\"https://{AZURE_OPENAI_RESOURCE}.openai.azure.com/\"\n"
   ]
  },
  {
   "cell_type": "code",
   "execution_count": 3,
   "id": "a703ee60",
   "metadata": {},
   "outputs": [],
   "source": [
    "def print_required_variables(debug=True):\n",
    "    if debug:\n",
    "        print(f\"AZURE_SEARCH_SERVICE: {AZURE_SEARCH_SERVICE}\")\n",
    "        print(f\"AZURE_SEARCH_INDEX: {AZURE_SEARCH_INDEX}\")\n",
    "        print(f\"AZURE_SEARCH_KEY: {AZURE_SEARCH_KEY}\")\n",
    "        print(f\"AZURE_SEARCH_USE_SEMANTIC_SEARCH: {AZURE_SEARCH_USE_SEMANTIC_SEARCH}\")\n",
    "        print(f\"AZURE_SEARCH_SEMANTIC_SEARCH_CONFIG: {AZURE_SEARCH_SEMANTIC_SEARCH_CONFIG}\")\n",
    "        print(f\"AZURE_SEARCH_TOP_K: {AZURE_SEARCH_TOP_K}\")\n",
    "        print(f\"AZURE_SEARCH_ENABLE_IN_DOMAIN: {AZURE_SEARCH_ENABLE_IN_DOMAIN}\")\n",
    "        print(f\"AZURE_SEARCH_CONTENT_COLUMNS: {AZURE_SEARCH_CONTENT_COLUMNS}\")\n",
    "        print(f\"AZURE_SEARCH_FILENAME_COLUMN: {AZURE_SEARCH_FILENAME_COLUMN}\")\n",
    "        print(f\"AZURE_SEARCH_TITLE_COLUMN: {AZURE_SEARCH_TITLE_COLUMN}\")\n",
    "        print(f\"AZURE_SEARCH_URL_COLUMN: {AZURE_SEARCH_URL_COLUMN}\")\n",
    "        print(f\"AZURE_SEARCH_VECTOR_COLUMNS: {AZURE_SEARCH_VECTOR_COLUMNS}\")\n",
    "        print(f\"AZURE_SEARCH_QUERY_TYPE: {AZURE_SEARCH_QUERY_TYPE}\")\n",
    "        print(f\"AZURE_SEARCH_PERMITTED_GROUPS_COLUMN: {AZURE_SEARCH_PERMITTED_GROUPS_COLUMN}\")\n",
    "        print(f\"AZURE_SEARCH_STRICTNESS: {AZURE_SEARCH_STRICTNESS}\")\n",
    "        print(f\"AZURE_OPENAI_RESOURCE: {AZURE_OPENAI_RESOURCE}\")\n",
    "        print(f\"AZURE_OPENAI_KEY: {AZURE_OPENAI_KEY}\")\n",
    "        print(f\"AZURE_OPENAI_MODEL: {AZURE_OPENAI_MODEL}\")\n",
    "        print(f\"AZURE_OPENAI_SYSTEM_MESSAGE: {AZURE_OPENAI_SYSTEM_MESSAGE}\")"
   ]
  },
  {
   "cell_type": "code",
   "execution_count": 5,
   "id": "0406dac0",
   "metadata": {},
   "outputs": [
    {
     "name": "stdout",
     "output_type": "stream",
     "text": [
      "AZURE_SEARCH_SERVICE: gptkb-moww6huavlklg\n",
      "AZURE_SEARCH_INDEX: people-culture-faq\n",
      "AZURE_SEARCH_KEY: QqNRt5LDccm2evQgIViI3EYGJTmePwDPFkyqu1kQz8AzSeDK1oYt\n",
      "AZURE_SEARCH_USE_SEMANTIC_SEARCH: True\n",
      "AZURE_SEARCH_SEMANTIC_SEARCH_CONFIG: default\n",
      "AZURE_SEARCH_TOP_K: 5\n",
      "AZURE_SEARCH_ENABLE_IN_DOMAIN: True\n",
      "AZURE_SEARCH_CONTENT_COLUMNS: content\n",
      "AZURE_SEARCH_FILENAME_COLUMN: filepath\n",
      "AZURE_SEARCH_TITLE_COLUMN: title\n",
      "AZURE_SEARCH_URL_COLUMN: url\n",
      "AZURE_SEARCH_VECTOR_COLUMNS: None\n",
      "AZURE_SEARCH_QUERY_TYPE: semantic\n",
      "AZURE_SEARCH_PERMITTED_GROUPS_COLUMN: None\n",
      "AZURE_SEARCH_STRICTNESS: 3\n",
      "AZURE_OPENAI_RESOURCE: cog-moww6huavlklg\n",
      "AZURE_OPENAI_KEY: 67062ab6dcde4f9ab8243f04601e6e88\n",
      "AZURE_OPENAI_MODEL: chat\n",
      "AZURE_OPENAI_SYSTEM_MESSAGE: Eres un asistente de recursos humanos. Tu respuesta debe ser en español y debe siempre empezar por estimado colaborador\n"
     ]
    }
   ],
   "source": [
    "print_required_variables(True)"
   ]
  },
  {
   "cell_type": "code",
   "execution_count": 10,
   "id": "7de5e26e",
   "metadata": {},
   "outputs": [],
   "source": [
    "def get_completion_from_messages(messages,\n",
    "                                 role_value,\n",
    "                                 debug=False,\n",
    "                                 show_completion=False) :\n",
    "    if debug:\n",
    "        print_required_variables(debug)\n",
    "        print(f\"messages: {messages}\")\n",
    "    \n",
    "    def setup_byod(deployment_id: str) -> None:\n",
    "        \"\"\"Sets up the OpenAI Python SDK to use your own data for the chat endpoint.\n",
    "        :param deployment_id: The deployment ID for the model to use with your own data.\n",
    "        To remove this configuration, simply set openai.requestssession to None.\n",
    "        \"\"\"\n",
    "\n",
    "        class BringYourOwnDataAdapter(requests.adapters.HTTPAdapter):\n",
    "\n",
    "            def send(self, request, **kwargs):\n",
    "                request.url = f\"{openai.api_base}/openai/deployments/{deployment_id}/extensions/chat/completions?api-version={openai.api_version}\"\n",
    "                return super().send(request, **kwargs)\n",
    "\n",
    "        session = requests.Session()\n",
    "\n",
    "        # Mount a custom adapter which will use the extensions endpoint for any call using the given `deployment_id`\n",
    "        session.mount(\n",
    "            prefix=f\"{openai.api_base}/openai/deployments/{deployment_id}\",\n",
    "            adapter=BringYourOwnDataAdapter()\n",
    "        )\n",
    "        \n",
    "        openai.requestssession = session\n",
    "\n",
    "    setup_byod(AZURE_OPENAI_MODEL)\n",
    "    search_endpoint = f\"https://{AZURE_SEARCH_SERVICE}.search.windows.net\"\n",
    "    \n",
    "    completion = openai.ChatCompletion.create(\n",
    "        messages=messages,\n",
    "        deployment_id=AZURE_OPENAI_MODEL,\n",
    "        dataSources=[  # camelCase is intentional, as this is the format the API expects\n",
    "            {\n",
    "                \"type\": DATASOURCE_TYPE,\n",
    "                \"parameters\": {\n",
    "                    \"endpoint\": search_endpoint,\n",
    "                    \"key\": AZURE_SEARCH_KEY,\n",
    "                    \"indexName\": AZURE_SEARCH_INDEX,\n",
    "                    \"fieldsMapping\": {\n",
    "                        \"contentFields\": AZURE_SEARCH_CONTENT_COLUMNS.split(\"|\") if AZURE_SEARCH_CONTENT_COLUMNS else [],\n",
    "                        \"titleField\": AZURE_SEARCH_TITLE_COLUMN if AZURE_SEARCH_TITLE_COLUMN else None,\n",
    "                        \"urlField\": AZURE_SEARCH_URL_COLUMN if AZURE_SEARCH_URL_COLUMN else None,\n",
    "                        \"filepathField\": AZURE_SEARCH_FILENAME_COLUMN if AZURE_SEARCH_FILENAME_COLUMN else None,\n",
    "                        \"vectorFields\": AZURE_SEARCH_VECTOR_COLUMNS.split(\"|\") if AZURE_SEARCH_VECTOR_COLUMNS else []\n",
    "                    },\n",
    "                    \"inScope\": True if AZURE_SEARCH_ENABLE_IN_DOMAIN.lower() == \"true\" else False,\n",
    "                    \"topNDocuments\": AZURE_SEARCH_TOP_K,\n",
    "                    \"queryType\": AZURE_SEARCH_QUERY_TYPE,\n",
    "                    \"semanticConfiguration\": AZURE_SEARCH_SEMANTIC_SEARCH_CONFIG if AZURE_SEARCH_SEMANTIC_SEARCH_CONFIG else \"\",\n",
    "                    \"roleInformation\": role_value,\n",
    "                    \"strictness\": int(AZURE_SEARCH_STRICTNESS)\n",
    "                }\n",
    "            }\n",
    "        ]\n",
    "    )\n",
    "\n",
    "    if show_completion:\n",
    "        print(completion)\n",
    "\n",
    "    return completion.choices[0].message[\"content\"]\n"
   ]
  },
  {
   "cell_type": "code",
   "execution_count": 7,
   "id": "13703515",
   "metadata": {},
   "outputs": [
    {
     "name": "stdout",
     "output_type": "stream",
     "text": [
      "Estimado colaborador, Baufest ofrece varios beneficios a sus empleados en diferentes áreas. A continuación, se detallan algunos de ellos:\n",
      "\n",
      "- BAU Lunch (LATAM): Este beneficio ofrece a los empleados de Argentina, Perú y Chile la posibilidad de recibir acreditaciones para almuerzos a través de la aplicación PedidosYa o Tickets Restaurant emitidos por Edenred. La acreditación es semanal en Argentina y Perú, y mensual en Uruguay. [doc1]\n",
      "- BAU Health (LATAM): Este beneficio permite a los empleados de Baufest en Latinoamérica solicitar un reembolso por actividades físicas realizadas en el trimestre correspondiente, siempre y cuando cumplan con los requisitos establecidos. [doc3]\n",
      "- BAU Net (LATAM): Este beneficio ofrece a los empleados de Baufest en Latinoamérica la posibilidad de solicitar un reembolso por el servicio de internet en su hogar, siempre y cuando cumplan con los requisitos establecidos. [doc3]\n",
      "- BAU Dollar: Este beneficio ofrece a los empleados de Baufest la posibilidad de recibir su salario en dólares estadounidenses, siempre y cuando cumplan con los requisitos establecidos. \n",
      "- Anti Tráfico (LATAM): Este beneficio permite a los empleados de Baufest en Latinoamérica elegir un rango horario para evitar el tráfico en su camino al trabajo. [doc1]\n",
      "\n",
      "Es importante tener en cuenta que estos beneficios pueden estar sujetos a cambios y que siempre es recomendable consultar la información actualizada en los documentos correspondientes. [doc2]\n"
     ]
    }
   ],
   "source": [
    "user_message = f\"\"\"\\\n",
    "Lista los beneficios de Baufest\"\"\"\n",
    "\n",
    "messages =  [  \n",
    "{'role':'user', \n",
    " 'content': f\"{user_message}\"},  \n",
    "] \n",
    "\n",
    "response = get_completion_from_messages(messages,show_completion=False)\n",
    "print(response)"
   ]
  },
  {
   "cell_type": "markdown",
   "id": "6068552f",
   "metadata": {},
   "source": [
    "### Escenario datos usuario, no hay informacion en documento\n",
    "\n",
    "Necesitamos las siguientes variables\n",
    "\n",
    "user_question\n",
    "system_message\n",
    "delimiter\n",
    "user_prompt\n",
    "user_context"
   ]
  },
  {
   "cell_type": "code",
   "execution_count": 15,
   "id": "96ca5c11",
   "metadata": {},
   "outputs": [],
   "source": [
    "delimiter = \"'''\"\n",
    "system_message = f\"\"\"\n",
    "Eres un asistente de People and Culture y tu trabajo es buscar información \\\n",
    "la pregunta está delimitada por tres comillas simples. \n",
    "\n",
    "Si dentro de la pregunta no viene el nombre, debes de pedirle su nombre\n",
    "\"\"\""
   ]
  },
  {
   "cell_type": "code",
   "execution_count": 16,
   "id": "56669fd0",
   "metadata": {},
   "outputs": [
    {
     "name": "stdout",
     "output_type": "stream",
     "text": [
      "'''Lista los beneficios de Baufest'''\n",
      "\n",
      "Eres un asistente de People and Culture y tu trabajo es buscar información la pregunta está delimitada por tres comillas simples. \n",
      "\n",
      "Si dentro de la pregunta no viene el nombre, debes de pedirle su nombre\n",
      "\n"
     ]
    }
   ],
   "source": [
    "user_question = f\"\"\"\\\n",
    "Lista los beneficios de Baufest\"\"\"\n",
    "print(f\"{delimiter}{user_question}{delimiter}\")\n",
    "print(f\"{system_message}\")\n"
   ]
  },
  {
   "cell_type": "code",
   "execution_count": 17,
   "id": "a8e2934b",
   "metadata": {},
   "outputs": [
    {
     "name": "stdout",
     "output_type": "stream",
     "text": [
      "Los beneficios de Baufest pueden variar según la región, pero algunos de ellos incluyen el programa de almuerzo, el cual es mensual y se acredita incluso en días feriados . También se ofrece un beneficio de vivienda, el cual requiere una antigüedad de dos años en la empresa y la presentación de un contrato de alquiler o escritura a nombre del empleado o un documento legal que respalde la convivencia [doc1]. Además, se ofrece un beneficio de tráfico, el cual permite cambiar el rango de horario una vez que ya se ha optado por uno [doc1]. En cuanto a los beneficios en dólares, se pueden abrir cuentas sueldo en diferentes bancos y plataformas, como HSBC, Facebank, Wise y Grabr FI, y se recomienda consultar periódicamente los costos, ya que pueden sufrir modificaciones [doc2]. No se pueden hacer transferencias a billeteras virtuales, cuentas comitentes o plataformas no bancarias, y es necesario hacer la transferencia a una cuenta bancaria a nombre del empleado [doc2]. Por último, no se puede utilizar Payoneer para este beneficio actualmente [doc2].\n"
     ]
    }
   ],
   "source": [
    "\n",
    "\n",
    "messages =  [  \n",
    "{'role':'system', 'content': system_message},    \n",
    "{'role':'user', \n",
    " 'content': f\"{delimiter}{user_question}{delimiter}\"},  \n",
    "] \n",
    "\n",
    "response = get_completion_from_messages(messages,system_message)\n",
    "print(response)"
   ]
  },
  {
   "cell_type": "code",
   "execution_count": null,
   "id": "e1d3a2ac",
   "metadata": {},
   "outputs": [],
   "source": []
  }
 ],
 "metadata": {
  "kernelspec": {
   "display_name": "Python 3 (ipykernel)",
   "language": "python",
   "name": "python3"
  },
  "language_info": {
   "codemirror_mode": {
    "name": "ipython",
    "version": 3
   },
   "file_extension": ".py",
   "mimetype": "text/x-python",
   "name": "python",
   "nbconvert_exporter": "python",
   "pygments_lexer": "ipython3",
   "version": "3.11.5"
  }
 },
 "nbformat": 4,
 "nbformat_minor": 5
}
