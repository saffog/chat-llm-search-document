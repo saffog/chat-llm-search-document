{
 "cells": [
  {
   "cell_type": "markdown",
   "id": "054871c7",
   "metadata": {},
   "source": [
    "# Pruebas para demostrar por que se tiene que usar el rol de user para solicitar datos relevantes\n",
    "\n",
    "El objetivo de estas pruebas es mostrar por qué se decidió usar el rol de user para solicitar datos relevantes.\n",
    "\n",
    "Nótese que los conceptos que se usan son los siguientes:\n",
    "\n",
    "- Azure Open AI\n",
    "- Azure Search Service\n",
    "\n",
    "Importante por leer:\n",
    "\n",
    "- [Use your data AI search system message](https://learn.microsoft.com/en-us/azure/ai-services/openai/concepts/use-your-data?tabs=ai-search#system-message)\n",
    "- [System message templates](https://learn.microsoft.com/en-us/azure/ai-services/openai/concepts/system-message)\n",
    "- [Chain of thought prompting](https://learn.microsoft.com/en-us/azure/ai-services/openai/concepts/advanced-prompt-engineering?pivots=programming-language-chat-completions#chain-of-thought-prompting)\n",
    "\n",
    "Para mayor detalle del prompt final, revise TestPeopleAndCultureV1"
   ]
  },
  {
   "cell_type": "code",
   "execution_count": 1,
   "id": "3ab2594a",
   "metadata": {},
   "outputs": [],
   "source": [
    "import commons #Import commons methods and imports, please review commons.py"
   ]
  },
  {
   "cell_type": "code",
   "execution_count": 3,
   "id": "da077191",
   "metadata": {},
   "outputs": [
    {
     "name": "stdout",
     "output_type": "stream",
     "text": [
      "No variables to print\n"
     ]
    }
   ],
   "source": [
    "commons.print_required_variables(False)"
   ]
  },
  {
   "cell_type": "markdown",
   "id": "3a57fbb0",
   "metadata": {},
   "source": [
    "### Prompt original usando el rol _user_ para proporcionar reglas al modelo"
   ]
  },
  {
   "cell_type": "markdown",
   "id": "04c7ffe4",
   "metadata": {},
   "source": [
    "#### Prueba sin datos"
   ]
  },
  {
   "cell_type": "code",
   "execution_count": 8,
   "id": "95ddfc23",
   "metadata": {},
   "outputs": [
    {
     "name": "stdout",
     "output_type": "stream",
     "text": [
      "Data source role information : Eres un asistente de recursos humanos. Tu respuesta debe ser en español y debe siempre empezar por estimado colaborador\n",
      "messages : [\n",
      "    {\n",
      "        \"role\": \"user\",\n",
      "        \"content\": \"Sigue los siguientes pasos para responder la pregunta delimitada por 4 hashtags: ####. Paso 1 : Si no tienes los datos del colaborador, tu respuesta debe seguir el siguiente formato : Estimado Baufesiano para responder su pregunta necesito los siguientes datos listando los datos que te falten y nada mas. Paso 2 : Si tienes los datos del colaborador, usa en tu respuesta el nombre del colaborador en lugar de estimado colaborador. Paso 3 : Usa las siguientes recomendaciones para tu respuesta : Recomendacion 1 : Usa los datos del colaborador para filtrar la respuesta. Recomendacion 2 : Solo muestra los resultados que tengan que ver con el pais de la unidad y la antiguedad en Baufest. Recomendacion 3 : Si la respuesta es muy amplia, filtra la respuesta por el pais de la unidad y la antiguedad en Baufest. Recomendacion 4 : Si la pregunta no es clara, solicita mayor detalle para responder. Datos del colaborador: Nombre : . Antiguedad en Baufest : . Puesto : . Pais de la unidad : . ####\\u00bfLista los beneficios de Baufest que tengo derecho como empleado?#### \"\n",
      "    }\n",
      "]\n",
      "Estimado Baufesiano, para poder responder a su pregunta necesito que me proporcione los siguientes datos: su nombre, antigüedad en Baufest, puesto y país de la unidad en la que trabaja. Con esta información podré filtrar la respuesta y mostrarle únicamente los beneficios que corresponden a su situación laboral. Por favor proporcione estos datos para poder ayudarlo de manera más precisa.\n"
     ]
    }
   ],
   "source": [
    "user_question=f\"\"\"\\\n",
    "¿Lista los beneficios de Baufest que tengo derecho como empleado?\"\"\"\n",
    "user_name=\"\"\n",
    "user_seniority=\"\"\n",
    "user_job=\"\"\n",
    "user_location=\"\"\n",
    "\n",
    "delimiter=\"####\"\n",
    "no_user_data_prefix=\"Estimado Baufesiano para responder su pregunta necesito los siguientes datos\"\n",
    "\n",
    "user_message = f\"\"\"\\\n",
    "Sigue los siguientes pasos para responder la pregunta delimitada por 4 hashtags: {delimiter}. \\\n",
    "Paso 1 : Si no tienes los datos del colaborador, tu respuesta debe seguir el siguiente formato : {no_user_data_prefix} \\\n",
    "listando los datos que te falten y nada mas. \\\n",
    "Paso 2 : Si tienes los datos del colaborador, usa en tu respuesta el nombre del colaborador \\\n",
    "en lugar de estimado colaborador. \\\n",
    "Paso 3 : Usa las siguientes recomendaciones para tu respuesta : \\\n",
    "Recomendacion 1 : Usa los datos del colaborador para filtrar la respuesta. \\\n",
    "Recomendacion 2 : Solo muestra los resultados que tengan que ver con el pais de la unidad y la antiguedad en Baufest. \\\n",
    "Recomendacion 3 : Si la respuesta es muy amplia, filtra la respuesta por el pais de la unidad y la antiguedad en Baufest. \\\n",
    "Recomendacion 4 : Si la pregunta no es clara, solicita mayor detalle para responder. \\\n",
    "\\\n",
    "Datos del colaborador: \\\n",
    "Nombre : {user_name}. \\\n",
    "Antiguedad en Baufest : {user_seniority}. \\\n",
    "Puesto : {user_job}. \\\n",
    "Pais de la unidad : {user_location}. \\\n",
    "\\\n",
    "{delimiter}{user_question}{delimiter} \\\n",
    "\"\"\"\n",
    "messages =  [  \n",
    "{'role':'user', \n",
    " 'content': f\"{user_message}\"},  \n",
    "] \n",
    "response = commons.get_completion_from_messages(messages)\n",
    "print(response)"
   ]
  },
  {
   "cell_type": "markdown",
   "id": "11c443e0",
   "metadata": {},
   "source": [
    "#### Prueba con datos"
   ]
  },
  {
   "cell_type": "code",
   "execution_count": 4,
   "id": "f9cd6f9b",
   "metadata": {},
   "outputs": [
    {
     "name": "stdout",
     "output_type": "stream",
     "text": [
      "Data source role information : Eres un asistente de recursos humanos. Tu respuesta debe ser en español y debe siempre empezar por estimado colaborador\n",
      "messages : [\n",
      "    {\n",
      "        \"role\": \"user\",\n",
      "        \"content\": \"Sigue los siguientes pasos para responder la pregunta delimitada por 4 hashtags: ####. Paso 1 : Si no tienes los datos del colaborador, tu respuesta debe seguir el siguiente formato : Estimado Baufesiano para responder su pregunta necesito los siguientes datos listando los datos que te falten y nada mas. Paso 2 : Si tienes los datos del colaborador, usa en tu respuesta el nombre del colaborador en lugar de estimado colaborador. Paso 3 : Usa las siguientes recomendaciones para tu respuesta : Recomendacion 1 : Usa los datos del colaborador para filtrar la respuesta. Recomendacion 2 : Solo muestra los resultados que tengan que ver con el pais de la unidad y la antiguedad en Baufest. Recomendacion 3 : Si la respuesta es muy amplia, filtra la respuesta por el pais de la unidad y la antiguedad en Baufest. Recomendacion 4 : Si la pregunta no es clara, solicita mayor detalle para responder. Datos del colaborador: Nombre : Santiago Vilche. Antiguedad en Baufest : 2 a\\u00f1os. Puesto : Desarrollador. Pais de la unidad : Argentina. ####\\u00bfLista los beneficios de Baufest que tengo derecho como empleado?#### \"\n",
      "    }\n",
      "]\n",
      "Estimado Santiago Vilche, como colaborador de Baufest con una antigüedad de 2 años y perteneciente a la unidad de Argentina, tienes derecho a varios beneficios. Algunos de ellos son:\n",
      "\n",
      "- BAU Lunch: podrás acceder a un beneficio mensual para almuerzos a través de la aplicación PedidosYa en Argentina y Perú, o mediante Tickets Restaurant emitidos por Edenred en Chile y Uruguay [doc1].\n",
      "- BAU Health: podrás solicitar el reembolso de actividades físicas realizadas en el trimestre correspondiente, presentando un comprobante de validez legal que abarque los meses del trimestre [doc3].\n",
      "- BAU Net: podrás solicitar el reembolso de servicios de internet presentando un comprobante a tu nombre que coincida con el domicilio registrado en TuRecibo [doc3].\n",
      "- BAU Dollar: podrás recibir tu sueldo en una cuenta bancaria de HSBC, Facebank, Wise o Grabr FI, o en cualquier banco o entidad bancaria que opere en territorio de USA [doc2].\n",
      "- Anti Tráfico: podrás optar por un rango de horario para evitar el tráfico en Argentina, Chile, Perú y Uruguay [doc1].\n",
      "\n",
      "Ten en cuenta que esta lista no es exhaustiva y que existen otros beneficios disponibles. Si necesitas más información sobre algún beneficio en particular, por favor especifica cuál para poder brindarte una respuesta más precisa.\n"
     ]
    }
   ],
   "source": [
    "user_question=f\"\"\"\\\n",
    "¿Lista los beneficios de Baufest que tengo derecho como empleado?\"\"\"\n",
    "user_name=\"Santiago Vilche\"\n",
    "user_seniority=\"2 años\"\n",
    "user_job=\"Desarrollador\"\n",
    "user_location=\"Argentina\"\n",
    "\n",
    "delimiter=\"####\"\n",
    "no_user_data_prefix=\"Estimado Baufesiano para responder su pregunta necesito los siguientes datos\"\n",
    "\n",
    "user_message = f\"\"\"\\\n",
    "Sigue los siguientes pasos para responder la pregunta delimitada por 4 hashtags: {delimiter}. \\\n",
    "Paso 1 : Si no tienes los datos del colaborador, tu respuesta debe seguir el siguiente formato : {no_user_data_prefix} \\\n",
    "listando los datos que te falten y nada mas. \\\n",
    "Paso 2 : Si tienes los datos del colaborador, usa en tu respuesta el nombre del colaborador \\\n",
    "en lugar de estimado colaborador. \\\n",
    "Paso 3 : Usa las siguientes recomendaciones para tu respuesta : \\\n",
    "Recomendacion 1 : Usa los datos del colaborador para filtrar la respuesta. \\\n",
    "Recomendacion 2 : Solo muestra los resultados que tengan que ver con el pais de la unidad y la antiguedad en Baufest. \\\n",
    "Recomendacion 3 : Si la respuesta es muy amplia, filtra la respuesta por el pais de la unidad y la antiguedad en Baufest. \\\n",
    "Recomendacion 4 : Si la pregunta no es clara, solicita mayor detalle para responder. \\\n",
    "\\\n",
    "Datos del colaborador: \\\n",
    "Nombre : {user_name}. \\\n",
    "Antiguedad en Baufest : {user_seniority}. \\\n",
    "Puesto : {user_job}. \\\n",
    "Pais de la unidad : {user_location}. \\\n",
    "\\\n",
    "{delimiter}{user_question}{delimiter} \\\n",
    "\"\"\"\n",
    "messages =  [  \n",
    "{'role':'user', \n",
    " 'content': f\"{user_message}\"},  \n",
    "] \n",
    "response = commons.get_completion_from_messages(messages)\n",
    "print(response)"
   ]
  },
  {
   "cell_type": "markdown",
   "id": "6cb7953d",
   "metadata": {},
   "source": [
    "### Prompt original usando el rol _system_ para proporcionar reglas al modelo"
   ]
  },
  {
   "cell_type": "markdown",
   "id": "f757abde",
   "metadata": {},
   "source": [
    "#### Prueba sin datos"
   ]
  },
  {
   "cell_type": "code",
   "execution_count": 9,
   "id": "4bf0bcfd",
   "metadata": {},
   "outputs": [
    {
     "name": "stdout",
     "output_type": "stream",
     "text": [
      "Data source role information : Eres un asistente de recursos humanos. Tu respuesta debe ser en español y debe siempre empezar por estimado colaborador\n",
      "messages : [\n",
      "    {\n",
      "        \"role\": \"system\",\n",
      "        \"content\": \"Sigue los siguientes pasos para responder la pregunta delimitada por 4 hashtags: ####. Paso 1 : Si no tienes los datos del colaborador, tu respuesta debe seguir el siguiente formato : Estimado Baufesiano para responder su pregunta necesito los siguientes datos listando los datos que te falten y nada mas. Paso 2 : Si tienes los datos del colaborador, usa en tu respuesta el nombre del colaborador en lugar de estimado colaborador. Paso 3 : Usa las siguientes recomendaciones para tu respuesta : Recomendacion 1 : Usa los datos del colaborador para filtrar la respuesta. Recomendacion 2 : Solo muestra los resultados que tengan que ver con el pais de la unidad y la antiguedad en Baufest. Recomendacion 3 : Si la respuesta es muy amplia, filtra la respuesta por el pais de la unidad y la antiguedad en Baufest. Recomendacion 4 : Si la pregunta no es clara, solicita mayor detalle para responder. Datos del colaborador: Nombre : . Antiguedad en Baufest : . Puesto : . Pais de la unidad : . \"\n",
      "    },\n",
      "    {\n",
      "        \"role\": \"user\",\n",
      "        \"content\": \"####\\u00bfLista los beneficios de Baufest que tengo derecho como empleado?####\"\n",
      "    }\n",
      "]\n",
      "Estimado colaborador, Baufest ofrece varios beneficios para sus empleados. A continuación, se detallan algunos de ellos:\n",
      "- BAU Dollar: permite recibir una parte del salario en dólares y ofrece información sobre cómo abrir una cuenta bancaria en Estados Unidos.\n",
      "- BAU Health: ofrece un reembolso parcial de los gastos de salud y actividades físicas.\n",
      "- BAU Net: ofrece un reembolso parcial de los gastos de internet.\n",
      "- BAU Lunch: ofrece un beneficio para almuerzos en algunos países de Latinoamérica.\n",
      "- Anti Tráfico: permite elegir un rango horario para evitar el tráfico en algunos países de Latinoamérica.\n",
      "\n",
      "Es importante tener en cuenta que algunos de estos beneficios tienen requisitos específicos y condiciones que deben cumplirse para acceder a ellos. Para más información, se recomienda revisar los documentos correspondientes [doc1][doc3].\n"
     ]
    }
   ],
   "source": [
    "user_question=f\"\"\"\\\n",
    "¿Lista los beneficios de Baufest que tengo derecho como empleado?\"\"\"\n",
    "user_name=\"\"\n",
    "user_seniority=\"\"\n",
    "user_job=\"\"\n",
    "user_location=\"\"\n",
    "\n",
    "delimiter=\"####\"\n",
    "no_user_data_prefix=\"Estimado Baufesiano para responder su pregunta necesito los siguientes datos\"\n",
    "\n",
    "system_message = f\"\"\"\\\n",
    "Sigue los siguientes pasos para responder la pregunta delimitada por 4 hashtags: {delimiter}. \\\n",
    "Paso 1 : Si no tienes los datos del colaborador, tu respuesta debe seguir el siguiente formato : {no_user_data_prefix} \\\n",
    "listando los datos que te falten y nada mas. \\\n",
    "Paso 2 : Si tienes los datos del colaborador, usa en tu respuesta el nombre del colaborador \\\n",
    "en lugar de estimado colaborador. \\\n",
    "Paso 3 : Usa las siguientes recomendaciones para tu respuesta : \\\n",
    "Recomendacion 1 : Usa los datos del colaborador para filtrar la respuesta. \\\n",
    "Recomendacion 2 : Solo muestra los resultados que tengan que ver con el pais de la unidad y la antiguedad en Baufest. \\\n",
    "Recomendacion 3 : Si la respuesta es muy amplia, filtra la respuesta por el pais de la unidad y la antiguedad en Baufest. \\\n",
    "Recomendacion 4 : Si la pregunta no es clara, solicita mayor detalle para responder. \\\n",
    "\\\n",
    "Datos del colaborador: \\\n",
    "Nombre : {user_name}. \\\n",
    "Antiguedad en Baufest : {user_seniority}. \\\n",
    "Puesto : {user_job}. \\\n",
    "Pais de la unidad : {user_location}. \\\n",
    "\"\"\"\n",
    "messages =  [  \n",
    "{'role':'system', \n",
    " 'content': f\"{system_message}\"},  \n",
    "{'role':'user', \n",
    " 'content': f\"{delimiter}{user_question}{delimiter}\"},  \n",
    "] \n",
    "response = commons.get_completion_from_messages(messages)\n",
    "print(response)"
   ]
  },
  {
   "cell_type": "markdown",
   "id": "83373370",
   "metadata": {},
   "source": [
    "#### Prueba con datos"
   ]
  },
  {
   "cell_type": "code",
   "execution_count": 5,
   "id": "0fe99cda",
   "metadata": {},
   "outputs": [
    {
     "name": "stdout",
     "output_type": "stream",
     "text": [
      "Data source role information : Eres un asistente de recursos humanos. Tu respuesta debe ser en español y debe siempre empezar por estimado colaborador\n",
      "messages : [\n",
      "    {\n",
      "        \"role\": \"system\",\n",
      "        \"content\": \"Sigue los siguientes pasos para responder la pregunta delimitada por 4 hashtags: ####. Paso 1 : Si no tienes los datos del colaborador, tu respuesta debe seguir el siguiente formato : Estimado Baufesiano para responder su pregunta necesito los siguientes datos listando los datos que te falten y nada mas. Paso 2 : Si tienes los datos del colaborador, usa en tu respuesta el nombre del colaborador en lugar de estimado colaborador. Paso 3 : Usa las siguientes recomendaciones para tu respuesta : Recomendacion 1 : Usa los datos del colaborador para filtrar la respuesta. Recomendacion 2 : Solo muestra los resultados que tengan que ver con el pais de la unidad y la antiguedad en Baufest. Recomendacion 3 : Si la respuesta es muy amplia, filtra la respuesta por el pais de la unidad y la antiguedad en Baufest. Recomendacion 4 : Si la pregunta no es clara, solicita mayor detalle para responder. Datos del colaborador: Nombre : Santiago Vilche. Antiguedad en Baufest : 2 a\\u00f1os. Puesto : Desarrollador. Pais de la unidad : Argentina. \"\n",
      "    },\n",
      "    {\n",
      "        \"role\": \"user\",\n",
      "        \"content\": \"####\\u00bfLista los beneficios de Baufest que tengo derecho como empleado?####\"\n",
      "    }\n",
      "]\n",
      "Estimado colaborador, Baufest ofrece varios beneficios para sus empleados. A continuación, se detallan algunos de ellos:\n",
      "- BAU Dollar: permite recibir una parte del salario en dólares y ofrece sugerencias de bancos y plataformas para abrir una cuenta bancaria en Estados Unidos.\n",
      "- BAU Health: ofrece un reembolso parcial de los gastos en actividades físicas y deportivas.\n",
      "- BAU Net: ofrece un reembolso parcial de los gastos de internet.\n",
      "- BAU Lunch: ofrece un beneficio para almuerzos en algunos países de Latinoamérica.\n",
      "- Anti Tráfico: permite elegir un rango horario para evitar el tráfico en algunos países de Latinoamérica.\n",
      "\n",
      "Para más detalles sobre los beneficios y sus condiciones, te recomendamos revisar la documentación correspondiente en TuRecibo y consultar con Recursos Humanos.\n"
     ]
    }
   ],
   "source": [
    "user_question=f\"\"\"\\\n",
    "¿Lista los beneficios de Baufest que tengo derecho como empleado?\"\"\"\n",
    "user_name=\"Santiago Vilche\"\n",
    "user_seniority=\"2 años\"\n",
    "user_job=\"Desarrollador\"\n",
    "user_location=\"Argentina\"\n",
    "\n",
    "delimiter=\"####\"\n",
    "no_user_data_prefix=\"Estimado Baufesiano para responder su pregunta necesito los siguientes datos\"\n",
    "\n",
    "system_message = f\"\"\"\\\n",
    "Sigue los siguientes pasos para responder la pregunta delimitada por 4 hashtags: {delimiter}. \\\n",
    "Paso 1 : Si no tienes los datos del colaborador, tu respuesta debe seguir el siguiente formato : {no_user_data_prefix} \\\n",
    "listando los datos que te falten y nada mas. \\\n",
    "Paso 2 : Si tienes los datos del colaborador, usa en tu respuesta el nombre del colaborador \\\n",
    "en lugar de estimado colaborador. \\\n",
    "Paso 3 : Usa las siguientes recomendaciones para tu respuesta : \\\n",
    "Recomendacion 1 : Usa los datos del colaborador para filtrar la respuesta. \\\n",
    "Recomendacion 2 : Solo muestra los resultados que tengan que ver con el pais de la unidad y la antiguedad en Baufest. \\\n",
    "Recomendacion 3 : Si la respuesta es muy amplia, filtra la respuesta por el pais de la unidad y la antiguedad en Baufest. \\\n",
    "Recomendacion 4 : Si la pregunta no es clara, solicita mayor detalle para responder. \\\n",
    "\\\n",
    "Datos del colaborador: \\\n",
    "Nombre : {user_name}. \\\n",
    "Antiguedad en Baufest : {user_seniority}. \\\n",
    "Puesto : {user_job}. \\\n",
    "Pais de la unidad : {user_location}. \\\n",
    "\"\"\"\n",
    "messages =  [  \n",
    "{'role':'system', \n",
    " 'content': f\"{system_message}\"},  \n",
    "{'role':'user', \n",
    " 'content': f\"{delimiter}{user_question}{delimiter}\"},  \n",
    "] \n",
    "response = commons.get_completion_from_messages(messages)\n",
    "print(response)"
   ]
  },
  {
   "cell_type": "markdown",
   "id": "21a9fcee",
   "metadata": {},
   "source": [
    "Como se puede ver en los resultados el __rol system__ no tiene impacto alguno en la respuesta"
   ]
  },
  {
   "cell_type": "markdown",
   "id": "30d6d90c",
   "metadata": {},
   "source": [
    "### Prompt original usando el rol _assistant_ para proporcionar reglas al modelo"
   ]
  },
  {
   "cell_type": "markdown",
   "id": "18cb7013",
   "metadata": {},
   "source": [
    "#### Prueba sin datos"
   ]
  },
  {
   "cell_type": "code",
   "execution_count": 23,
   "id": "8cd665e4",
   "metadata": {},
   "outputs": [
    {
     "name": "stdout",
     "output_type": "stream",
     "text": [
      "Data source role information : Eres un asistente de recursos humanos. Tu respuesta debe ser en español y debe siempre empezar por estimado colaborador\n",
      "messages : [\n",
      "    {\n",
      "        \"role\": \"assistant\",\n",
      "        \"content\": \"Sigue los siguientes pasos para responder la pregunta del usuario delimitada por 4 hashtags: ####. Paso 1 : Si no tienes los datos del colaborador, tu respuesta debe seguir el siguiente formato : Estimado Baufesiano para responder su pregunta necesito los siguientes datos listando los datos que te falten y nada mas. Paso 2 : Si tienes los datos del colaborador, usa en tu respuesta el nombre del colaborador en lugar de estimado colaborador. Paso 3 : Usa las siguientes recomendaciones para tu respuesta : Recomendacion 1 : Usa los datos del colaborador para filtrar la respuesta. Recomendacion 2 : Solo muestra los resultados que tengan que ver con el pais de la unidad y la antiguedad en Baufest. Recomendacion 3 : Si la respuesta es muy amplia, filtra la respuesta por el pais de la unidad y la antiguedad en Baufest. Recomendacion 4 : Si la pregunta no es clara, solicita mayor detalle para responder. Datos del colaborador: Nombre : . Antiguedad en Baufest : . Puesto : . Pais de la unidad : . \"\n",
      "    },\n",
      "    {\n",
      "        \"role\": \"user\",\n",
      "        \"content\": \"####\\u00bfLista los beneficios de Baufest que tengo derecho como empleado?####\"\n",
      "    }\n",
      "]\n",
      "Estimado colaborador, Baufest ofrece varios beneficios para sus empleados. A continuación, se detallan algunos de ellos:\n",
      "- BAU Dollar: permite recibir una parte del salario en dólares y ofrece información sobre cómo abrir una cuenta bancaria en Estados Unidos.\n",
      "- BAU Health: ofrece un reembolso parcial de los gastos de salud y actividades físicas.\n",
      "- BAU Net: ofrece un reembolso parcial de los gastos de internet.\n",
      "- BAU Lunch: ofrece un beneficio para almuerzos en algunos países de Latinoamérica.\n",
      "- Anti Tráfico: permite elegir un rango horario para evitar el tráfico en algunos países de Latinoamérica.\n",
      "\n",
      "Es importante tener en cuenta que algunos de estos beneficios tienen requisitos específicos y condiciones que deben cumplirse para acceder a ellos. Para más información, se recomienda revisar los documentos correspondientes [doc1][doc3].\n"
     ]
    }
   ],
   "source": [
    "user_question=f\"\"\"\\\n",
    "¿Lista los beneficios de Baufest que tengo derecho como empleado?\"\"\"\n",
    "user_name=\"\"\n",
    "user_seniority=\"\"\n",
    "user_job=\"\"\n",
    "user_location=\"\"\n",
    "\n",
    "delimiter=\"####\"\n",
    "no_user_data_prefix=\"Estimado Baufesiano para responder su pregunta necesito los siguientes datos\"\n",
    "\n",
    "assistant_message = f\"\"\"\\\n",
    "Sigue los siguientes pasos para responder la pregunta del usuario delimitada por 4 hashtags: {delimiter}. \\\n",
    "Paso 1 : Si no tienes los datos del colaborador, tu respuesta debe seguir el siguiente formato : {no_user_data_prefix} \\\n",
    "listando los datos que te falten y nada mas. \\\n",
    "Paso 2 : Si tienes los datos del colaborador, usa en tu respuesta el nombre del colaborador \\\n",
    "en lugar de estimado colaborador. \\\n",
    "Paso 3 : Usa las siguientes recomendaciones para tu respuesta : \\\n",
    "Recomendacion 1 : Usa los datos del colaborador para filtrar la respuesta. \\\n",
    "Recomendacion 2 : Solo muestra los resultados que tengan que ver con el pais de la unidad y la antiguedad en Baufest. \\\n",
    "Recomendacion 3 : Si la respuesta es muy amplia, filtra la respuesta por el pais de la unidad y la antiguedad en Baufest. \\\n",
    "Recomendacion 4 : Si la pregunta no es clara, solicita mayor detalle para responder. \\\n",
    "\\\n",
    "Datos del colaborador: \\\n",
    "Nombre : {user_name}. \\\n",
    "Antiguedad en Baufest : {user_seniority}. \\\n",
    "Puesto : {user_job}. \\\n",
    "Pais de la unidad : {user_location}. \\\n",
    "\"\"\"\n",
    "messages =  [  \n",
    "{'role':'assistant', \n",
    " 'content': f\"{assistant_message}\"},  \n",
    "{'role':'user', \n",
    " 'content': f\"{delimiter}{user_question}{delimiter}\"},  \n",
    "] \n",
    "response = commons.get_completion_from_messages(messages)\n",
    "print(response)"
   ]
  },
  {
   "cell_type": "markdown",
   "id": "41ab5092",
   "metadata": {},
   "source": [
    "#### Prueba con datos"
   ]
  },
  {
   "cell_type": "code",
   "execution_count": 24,
   "id": "d3906712",
   "metadata": {},
   "outputs": [
    {
     "name": "stdout",
     "output_type": "stream",
     "text": [
      "Data source role information : Eres un asistente de recursos humanos. Tu respuesta debe ser en español y debe siempre empezar por estimado colaborador\n",
      "messages : [\n",
      "    {\n",
      "        \"role\": \"assistant\",\n",
      "        \"content\": \"Sigue los siguientes pasos para responder la pregunta delimitada por 4 hashtags: ####. Paso 1 : Si no tienes los datos del colaborador, tu respuesta debe seguir el siguiente formato : Estimado Baufesiano para responder su pregunta necesito los siguientes datos listando los datos que te falten y nada mas. Paso 2 : Si tienes los datos del colaborador, usa en tu respuesta el nombre del colaborador en lugar de estimado colaborador. Paso 3 : Usa las siguientes recomendaciones para tu respuesta : Recomendacion 1 : Usa los datos del colaborador para filtrar la respuesta. Recomendacion 2 : Solo muestra los resultados que tengan que ver con el pais de la unidad y la antiguedad en Baufest. Recomendacion 3 : Si la respuesta es muy amplia, filtra la respuesta por el pais de la unidad y la antiguedad en Baufest. Recomendacion 4 : Si la pregunta no es clara, solicita mayor detalle para responder. Datos del colaborador: Nombre : Santiago Vilche. Antiguedad en Baufest : 2 a\\u00f1os. Puesto : Desarrollador. Pais de la unidad : Argentina. \"\n",
      "    },\n",
      "    {\n",
      "        \"role\": \"user\",\n",
      "        \"content\": \"####\\u00bfLista los beneficios de Baufest que tengo derecho como empleado?####\"\n",
      "    }\n",
      "]\n",
      "Estimado colaborador, Baufest ofrece varios beneficios para sus empleados. A continuación, se detallan algunos de ellos:\n",
      "- BAU Dollar: permite recibir una parte del salario en dólares y ofrece información sobre cómo abrir una cuenta bancaria en Estados Unidos.\n",
      "- BAU Health: ofrece un reembolso parcial de los gastos de salud y actividades físicas.\n",
      "- BAU Net: ofrece un reembolso parcial de los gastos de internet.\n",
      "- BAU Lunch: ofrece un beneficio para almuerzos en algunos países de Latinoamérica.\n",
      "- Anti Tráfico: permite elegir un rango horario para evitar el tráfico en algunos países de Latinoamérica.\n",
      "\n",
      "Es importante tener en cuenta que algunos de estos beneficios tienen requisitos específicos y condiciones que deben cumplirse para acceder a ellos. Para más información, se recomienda revisar los documentos correspondientes [doc1][doc3].\n"
     ]
    }
   ],
   "source": [
    "user_question=f\"\"\"\\\n",
    "¿Lista los beneficios de Baufest que tengo derecho como empleado?\"\"\"\n",
    "user_name=\"Santiago Vilche\"\n",
    "user_seniority=\"2 años\"\n",
    "user_job=\"Desarrollador\"\n",
    "user_location=\"Argentina\"\n",
    "\n",
    "delimiter=\"####\"\n",
    "no_user_data_prefix=\"Estimado Baufesiano para responder su pregunta necesito los siguientes datos\"\n",
    "\n",
    "assistant_message = f\"\"\"\\\n",
    "Sigue los siguientes pasos para responder la pregunta delimitada por 4 hashtags: {delimiter}. \\\n",
    "Paso 1 : Si no tienes los datos del colaborador, tu respuesta debe seguir el siguiente formato : {no_user_data_prefix} \\\n",
    "listando los datos que te falten y nada mas. \\\n",
    "Paso 2 : Si tienes los datos del colaborador, usa en tu respuesta el nombre del colaborador \\\n",
    "en lugar de estimado colaborador. \\\n",
    "Paso 3 : Usa las siguientes recomendaciones para tu respuesta : \\\n",
    "Recomendacion 1 : Usa los datos del colaborador para filtrar la respuesta. \\\n",
    "Recomendacion 2 : Solo muestra los resultados que tengan que ver con el pais de la unidad y la antiguedad en Baufest. \\\n",
    "Recomendacion 3 : Si la respuesta es muy amplia, filtra la respuesta por el pais de la unidad y la antiguedad en Baufest. \\\n",
    "Recomendacion 4 : Si la pregunta no es clara, solicita mayor detalle para responder. \\\n",
    "\\\n",
    "Datos del colaborador: \\\n",
    "Nombre : {user_name}. \\\n",
    "Antiguedad en Baufest : {user_seniority}. \\\n",
    "Puesto : {user_job}. \\\n",
    "Pais de la unidad : {user_location}. \\\n",
    "\"\"\"\n",
    "messages =  [  \n",
    "{'role':'assistant', \n",
    " 'content': f\"{assistant_message}\"},  \n",
    "{'role':'user', \n",
    " 'content': f\"{delimiter}{user_question}{delimiter}\"},  \n",
    "] \n",
    "response = commons.get_completion_from_messages(messages)\n",
    "print(response)"
   ]
  },
  {
   "cell_type": "code",
   "execution_count": null,
   "id": "0e628af6",
   "metadata": {},
   "outputs": [],
   "source": []
  }
 ],
 "metadata": {
  "kernelspec": {
   "display_name": "Python 3 (ipykernel)",
   "language": "python",
   "name": "python3"
  },
  "language_info": {
   "codemirror_mode": {
    "name": "ipython",
    "version": 3
   },
   "file_extension": ".py",
   "mimetype": "text/x-python",
   "name": "python",
   "nbconvert_exporter": "python",
   "pygments_lexer": "ipython3",
   "version": "3.11.5"
  }
 },
 "nbformat": 4,
 "nbformat_minor": 5
}
