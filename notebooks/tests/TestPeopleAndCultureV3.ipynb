{
 "cells": [
  {
   "cell_type": "markdown",
   "id": "054871c7",
   "metadata": {},
   "source": [
    "# Evidence to demonstrate why you have to use the user role to request relevant data\n",
    "\n",
    "The purpose of these tests is to show why it was decided to use the user role to request relevant data.\n",
    "\n",
    "Note that the concepts used are as follows:\n",
    "\n",
    "- Azure Open AI\n",
    "- Azure Search Service\n",
    "\n",
    "Important to read:\n",
    "\n",
    "- [Use your data AI search system message](https://learn.microsoft.com/en-us/azure/ai-services/openai/concepts/use-your-data?tabs=ai-search#system-message)\n",
    "- [System message templates](https://learn.microsoft.com/en-us/azure/ai-services/openai/concepts/system-message)\n",
    "- [Chain of thought prompting](https://learn.microsoft.com/en-us/azure/ai-services/openai/concepts/advanced-prompt-engineering?pivots=programming-language-chat-completions#chain-of-thought-prompting)\n",
    "\n",
    "For more details on the final prompt, review TestPeopleAndCultureV1"
   ]
  },
  {
   "cell_type": "code",
   "execution_count": 1,
   "id": "3ab2594a",
   "metadata": {},
   "outputs": [],
   "source": [
    "import commons #Import commons methods and imports, please review commons.py"
   ]
  },
  {
   "cell_type": "code",
   "execution_count": 2,
   "id": "da077191",
   "metadata": {},
   "outputs": [
    {
     "name": "stdout",
     "output_type": "stream",
     "text": [
      "No variables to print\n"
     ]
    }
   ],
   "source": [
    "commons.print_required_variables(False)"
   ]
  },
  {
   "cell_type": "markdown",
   "id": "3a57fbb0",
   "metadata": {},
   "source": [
    "### Original prompt using the _user_ role to provide rules to the model"
   ]
  },
  {
   "cell_type": "markdown",
   "id": "04c7ffe4",
   "metadata": {},
   "source": [
    "#### Prueba sin datos"
   ]
  },
  {
   "cell_type": "code",
   "execution_count": 3,
   "id": "95ddfc23",
   "metadata": {},
   "outputs": [
    {
     "name": "stdout",
     "output_type": "stream",
     "text": [
      "Data source role information : Eres un asistente de recursos humanos. Tu respuesta debe ser en español y debe siempre empezar por \n",
      "estimado colaborador\n",
      "messages : [\n",
      "    {\n",
      "        \"role\": \"user\",\n",
      "        \"content\": \"Follow the steps below to answer the question delimited by 4 hashtags: ####. Step 1 : If you do not have the collaborator's data, your answer should follow the following format: Dear Baufesiano, in order to answer your question I need the following information list the missing data and nothing more. Step 2 : If you have the collaborator's data, use the collaborator's name in your answer. Step 3 : Use the following recommendations for your response : Recommendation 1 : Use the collaborator's data to filter the answer. Recommendation 2 : Only show the results that have to do with the country of the unit and the seniority in Baufest. Recommendation 3 : If the answer is too broad, filter the answer by the country of the unit and the seniority in Baufest. Recommendation 4 : If the question is not clear, ask for more detail to answer. Datos del colaborador: Nombre : . Antiguedad en Baufest : . Puesto : . Pais de la unidad : . ####\\u00bfDo I list the Baufest benefits I am entitled to as an employee?#### \"\n",
      "    }\n",
      "]\n",
      "Estimado colaborador, para poder responder a su pregunta necesito que me proporcione los siguientes datos: su nombre, antigüedad en Baufest, puesto y país de la unidad en la que trabaja. Una vez que tenga esta información, podré filtrar los beneficios de Baufest que le corresponden como empleado. Por favor, proporcione esta información para que pueda ayudarlo de manera más efectiva.\n"
     ]
    }
   ],
   "source": [
    "user_question=f\"\"\"\\\n",
    "¿Do I list the Baufest benefits I am entitled to as an employee?\"\"\"\n",
    "user_name=\"\"\n",
    "user_seniority=\"\"\n",
    "user_job=\"\"\n",
    "user_location=\"\"\n",
    "\n",
    "delimiter=\"####\"\n",
    "no_user_data_prefix=\"Dear Baufesiano, in order to answer your question I need the following information\"\n",
    "\n",
    "user_message = f\"\"\"\\\n",
    "Follow the steps below to answer the question delimited by 4 hashtags: {delimiter}. \\\n",
    "Step 1 : If you do not have the collaborator's data, your answer should follow the following format: {no_user_data_prefix} \\\n",
    "list the missing data and nothing more. \\\n",
    "Step 2 : If you have the collaborator's data, use the collaborator's name in your answer. \\\n",
    "Step 3 : Use the following recommendations for your response : \\\n",
    "Recommendation 1 : Use the collaborator's data to filter the answer. \\\n",
    "Recommendation 2 : Only show the results that have to do with the country of the unit and the seniority in Baufest. \\\n",
    "Recommendation 3 : If the answer is too broad, filter the answer by the country of the unit and the seniority in Baufest. \\\n",
    "Recommendation 4 : If the question is not clear, ask for more detail to answer. \\\n",
    "\\\n",
    "Datos del colaborador: \\\n",
    "Nombre : {user_name}. \\\n",
    "Antiguedad en Baufest : {user_seniority}. \\\n",
    "Puesto : {user_job}. \\\n",
    "Pais de la unidad : {user_location}. \\\n",
    "\\\n",
    "{delimiter}{user_question}{delimiter} \\\n",
    "\"\"\"\n",
    "messages =  [  \n",
    "{'role':'user', \n",
    " 'content': f\"{user_message}\"},  \n",
    "] \n",
    "response = commons.get_completion_from_messages(messages)\n",
    "print(response)"
   ]
  },
  {
   "cell_type": "markdown",
   "id": "11c443e0",
   "metadata": {},
   "source": [
    "#### Prueba con datos"
   ]
  },
  {
   "cell_type": "code",
   "execution_count": 4,
   "id": "f9cd6f9b",
   "metadata": {},
   "outputs": [
    {
     "name": "stdout",
     "output_type": "stream",
     "text": [
      "Data source role information : Eres un asistente de recursos humanos. Tu respuesta debe ser en español y debe siempre empezar por \n",
      "estimado colaborador\n",
      "messages : [\n",
      "    {\n",
      "        \"role\": \"user\",\n",
      "        \"content\": \"Follow the steps below to answer the question delimited by 4 hashtags: ####. Step 1 : If you do not have the collaborator's data, your answer should follow the following format: Dear Baufesiano, in order to answer your question I need the following information list the missing data and nothing more. Step 2 : If you have the collaborator's data, use the collaborator's name in your answer. Step 3 : Use the following recommendations for your response : Recommendation 1 : Use the collaborator's data to filter the answer. Recommendation 2 : Only show the results that have to do with the country of the unit and the seniority in Baufest. Recommendation 3 : If the answer is too broad, filter the answer by the country of the unit and the seniority in Baufest. Recommendation 4 : If the question is not clear, ask for more detail to answer. \\nDatos del colaborador: Nombre : Santiago Vilchis. Antiguedad en Baufest : 2 a\\u00f1os. Puesto : Desarrollador. Pais de la unidad : Argentina. ####Can you list the benefits working for Baufest?#### \"\n",
      "    }\n",
      "]\n",
      "Estimado Santiago Vilchis, para poder responder a su pregunta de manera más precisa, necesitaría saber si se refiere a los beneficios en general de trabajar en Baufest o si se refiere a los beneficios específicos para colaboradores en Argentina con una antigüedad de 2 años y en el puesto de Desarrollador. Por favor, proporcione más detalles para poder ayudarlo de manera efectiva.\n"
     ]
    }
   ],
   "source": [
    "user_question=f\"\"\"\\\n",
    "Can you list the benefits working for Baufest?\"\"\"\n",
    "user_name=\"Santiago Vilchis\"\n",
    "user_seniority=\"2 años\"\n",
    "user_job=\"Desarrollador\"\n",
    "user_location=\"Argentina\"\n",
    "\n",
    "delimiter=\"####\"\n",
    "no_user_data_prefix=\"Dear Baufesiano, in order to answer your question I need the following information\"\n",
    "\n",
    "user_message = f\"\"\"\\\n",
    "Follow the steps below to answer the question delimited by 4 hashtags: {delimiter}. \\\n",
    "Step 1 : If you do not have the collaborator's data, your answer should follow the following format: {no_user_data_prefix} \\\n",
    "list the missing data and nothing more. \\\n",
    "Step 2 : If you have the collaborator's data, use the collaborator's name in your answer. \\\n",
    "Step 3 : Use the following recommendations for your response : \\\n",
    "Recommendation 1 : Use the collaborator's data to filter the answer. \\\n",
    "Recommendation 2 : Only show the results that have to do with the country of the unit and the seniority in Baufest. \\\n",
    "Recommendation 3 : If the answer is too broad, filter the answer by the country of the unit and the seniority in Baufest. \\\n",
    "Recommendation 4 : If the question is not clear, ask for more detail to answer. \\\n",
    "\\\n",
    "\n",
    "Datos del colaborador: \\\n",
    "Nombre : {user_name}. \\\n",
    "Antiguedad en Baufest : {user_seniority}. \\\n",
    "Puesto : {user_job}. \\\n",
    "Pais de la unidad : {user_location}. \\\n",
    "\\\n",
    "{delimiter}{user_question}{delimiter} \\\n",
    "\"\"\"\n",
    "messages =  [  \n",
    "{'role':'user', \n",
    " 'content': f\"{user_message}\"},  \n",
    "] \n",
    "response = commons.get_completion_from_messages(messages)\n",
    "print(response)"
   ]
  },
  {
   "cell_type": "code",
   "execution_count": 7,
   "id": "437c694f",
   "metadata": {},
   "outputs": [
    {
     "name": "stdout",
     "output_type": "stream",
     "text": [
      "Data source role information : Eres un asistente de recursos humanos. Tu respuesta debe ser en español y debe siempre empezar por \n",
      "estimado colaborador\n",
      "messages : [\n",
      "    {\n",
      "        \"role\": \"user\",\n",
      "        \"content\": \"Follow the steps below to answer the question delimited by 4 hashtags: ####. Step 1 : If you do not have the collaborator's data, your answer should follow the following format: Dear Baufesiano, in order to answer your question I need the following information list the missing data and nothing more. Step 2 : If you have the collaborator's data, use the collaborator's name in your answer. Step 3 : Use the following recommendations for your response : Recommendation 1 : Use the collaborator's data to answer the question. Recommendation 2 : Only show the results that have to do with the country of the unit and the seniority in Baufest. Recommendation 3 : If the answer is too broad, filter the answer by the country of the unit and the seniority in Baufest. Recommendation 4 : If the question is not clear, ask for more detail to answer. \\nCollaborator's data: Name : Santiago Vilchis. Seniority in Baufest : 2 a\\u00f1os. Position : Desarrollador. Country of unit : Argentina. ####What are all the specific benefits I have access to by working for the company?#### \"\n",
      "    }\n",
      "]\n"
     ]
    },
    {
     "ename": "InvalidRequestError",
     "evalue": "An error occurred when calling Azure Cognitive Search: Azure Search Error: 503, message='Server responded with status 503. Error message: {\"error\":{\"code\":\"\",\"message\":\"Failed to execute semantic request because the request rate has caused your service to exceed the limits of its provisioned capacity. Reduce the rate of requests, or adjust the number of replicas/partitions. See http://aka.ms/azure-search-throttling for more information. \"}}', url=URL('https://gptkb-moww6huavlklg.search.windows.net/indexes/people-culture-faq/docs/search?api-version=2021-04-30-Preview')\nSemantic search with Azure Search failed with configuration=default.\nPlease ensure semantic search is enabled and you have semantic search quota available on your instance.\n",
     "output_type": "error",
     "traceback": [
      "\u001b[0;31m---------------------------------------------------------------------------\u001b[0m",
      "\u001b[0;31mInvalidRequestError\u001b[0m                       Traceback (most recent call last)",
      "Cell \u001b[0;32mIn[7], line 35\u001b[0m\n\u001b[1;32m     11\u001b[0m user_message \u001b[38;5;241m=\u001b[39m \u001b[38;5;124mf\u001b[39m\u001b[38;5;124m\"\"\"\u001b[39m\u001b[38;5;130;01m\\\u001b[39;00m\n\u001b[1;32m     12\u001b[0m \u001b[38;5;124mFollow the steps below to answer the question delimited by 4 hashtags: \u001b[39m\u001b[38;5;132;01m{\u001b[39;00mdelimiter\u001b[38;5;132;01m}\u001b[39;00m\u001b[38;5;124m. \u001b[39m\u001b[38;5;130;01m\\\u001b[39;00m\n\u001b[1;32m     13\u001b[0m \u001b[38;5;124mStep 1 : If you do not have the collaborator\u001b[39m\u001b[38;5;124m'\u001b[39m\u001b[38;5;124ms data, your answer should follow the following format: \u001b[39m\u001b[38;5;132;01m{\u001b[39;00mno_user_data_prefix\u001b[38;5;132;01m}\u001b[39;00m\u001b[38;5;124m \u001b[39m\u001b[38;5;130;01m\\\u001b[39;00m\n\u001b[0;32m   (...)\u001b[0m\n\u001b[1;32m     29\u001b[0m \u001b[38;5;132;01m{\u001b[39;00mdelimiter\u001b[38;5;132;01m}\u001b[39;00m\u001b[38;5;132;01m{\u001b[39;00muser_question\u001b[38;5;132;01m}\u001b[39;00m\u001b[38;5;132;01m{\u001b[39;00mdelimiter\u001b[38;5;132;01m}\u001b[39;00m\u001b[38;5;124m \u001b[39m\u001b[38;5;130;01m\\\u001b[39;00m\n\u001b[1;32m     30\u001b[0m \u001b[38;5;124m\"\"\"\u001b[39m\n\u001b[1;32m     31\u001b[0m messages \u001b[38;5;241m=\u001b[39m  [  \n\u001b[1;32m     32\u001b[0m {\u001b[38;5;124m'\u001b[39m\u001b[38;5;124mrole\u001b[39m\u001b[38;5;124m'\u001b[39m:\u001b[38;5;124m'\u001b[39m\u001b[38;5;124muser\u001b[39m\u001b[38;5;124m'\u001b[39m, \n\u001b[1;32m     33\u001b[0m  \u001b[38;5;124m'\u001b[39m\u001b[38;5;124mcontent\u001b[39m\u001b[38;5;124m'\u001b[39m: \u001b[38;5;124mf\u001b[39m\u001b[38;5;124m\"\u001b[39m\u001b[38;5;132;01m{\u001b[39;00muser_message\u001b[38;5;132;01m}\u001b[39;00m\u001b[38;5;124m\"\u001b[39m},  \n\u001b[1;32m     34\u001b[0m ] \n\u001b[0;32m---> 35\u001b[0m response \u001b[38;5;241m=\u001b[39m commons\u001b[38;5;241m.\u001b[39mget_completion_from_messages(messages)\n\u001b[1;32m     36\u001b[0m \u001b[38;5;28mprint\u001b[39m(response)\n",
      "File \u001b[0;32m~/Desktop/chat-llm-search-document/notebooks/tests/commons.py:115\u001b[0m, in \u001b[0;36mget_completion_from_messages\u001b[0;34m(messages, ds_role_value, debug, show_completion, show_input, return_completion)\u001b[0m\n\u001b[1;32m    112\u001b[0m     \u001b[38;5;28mprint\u001b[39m(\u001b[38;5;124mf\u001b[39m\u001b[38;5;124m\"\u001b[39m\u001b[38;5;124mData source role information : \u001b[39m\u001b[38;5;132;01m{\u001b[39;00mds_role_value\u001b[38;5;132;01m}\u001b[39;00m\u001b[38;5;124m\"\u001b[39m)\n\u001b[1;32m    113\u001b[0m     \u001b[38;5;28mprint\u001b[39m(\u001b[38;5;124mf\u001b[39m\u001b[38;5;124m\"\u001b[39m\u001b[38;5;124mmessages : \u001b[39m\u001b[38;5;132;01m{\u001b[39;00mbeautify_json(messages)\u001b[38;5;132;01m}\u001b[39;00m\u001b[38;5;124m\"\u001b[39m)\n\u001b[0;32m--> 115\u001b[0m completion \u001b[38;5;241m=\u001b[39m openai\u001b[38;5;241m.\u001b[39mChatCompletion\u001b[38;5;241m.\u001b[39mcreate(\n\u001b[1;32m    116\u001b[0m     messages\u001b[38;5;241m=\u001b[39mmessages,\n\u001b[1;32m    117\u001b[0m     deployment_id\u001b[38;5;241m=\u001b[39mAZURE_OPENAI_MODEL,\n\u001b[1;32m    118\u001b[0m     dataSources\u001b[38;5;241m=\u001b[39m[  \u001b[38;5;66;03m# camelCase is intentional, as this is the format the API expects\u001b[39;00m\n\u001b[1;32m    119\u001b[0m         {\n\u001b[1;32m    120\u001b[0m             \u001b[38;5;124m\"\u001b[39m\u001b[38;5;124mtype\u001b[39m\u001b[38;5;124m\"\u001b[39m: DATASOURCE_TYPE,\n\u001b[1;32m    121\u001b[0m             \u001b[38;5;124m\"\u001b[39m\u001b[38;5;124mparameters\u001b[39m\u001b[38;5;124m\"\u001b[39m: {\n\u001b[1;32m    122\u001b[0m                 \u001b[38;5;124m\"\u001b[39m\u001b[38;5;124mendpoint\u001b[39m\u001b[38;5;124m\"\u001b[39m: search_endpoint,\n\u001b[1;32m    123\u001b[0m                 \u001b[38;5;124m\"\u001b[39m\u001b[38;5;124mkey\u001b[39m\u001b[38;5;124m\"\u001b[39m: AZURE_SEARCH_KEY,\n\u001b[1;32m    124\u001b[0m                 \u001b[38;5;124m\"\u001b[39m\u001b[38;5;124mindexName\u001b[39m\u001b[38;5;124m\"\u001b[39m: AZURE_SEARCH_INDEX,\n\u001b[1;32m    125\u001b[0m                 \u001b[38;5;124m\"\u001b[39m\u001b[38;5;124mfieldsMapping\u001b[39m\u001b[38;5;124m\"\u001b[39m: {\n\u001b[1;32m    126\u001b[0m                     \u001b[38;5;124m\"\u001b[39m\u001b[38;5;124mcontentFields\u001b[39m\u001b[38;5;124m\"\u001b[39m: AZURE_SEARCH_CONTENT_COLUMNS\u001b[38;5;241m.\u001b[39msplit(\u001b[38;5;124m\"\u001b[39m\u001b[38;5;124m|\u001b[39m\u001b[38;5;124m\"\u001b[39m) \u001b[38;5;28;01mif\u001b[39;00m AZURE_SEARCH_CONTENT_COLUMNS \u001b[38;5;28;01melse\u001b[39;00m [],\n\u001b[1;32m    127\u001b[0m                     \u001b[38;5;124m\"\u001b[39m\u001b[38;5;124mtitleField\u001b[39m\u001b[38;5;124m\"\u001b[39m: AZURE_SEARCH_TITLE_COLUMN \u001b[38;5;28;01mif\u001b[39;00m AZURE_SEARCH_TITLE_COLUMN \u001b[38;5;28;01melse\u001b[39;00m \u001b[38;5;28;01mNone\u001b[39;00m,\n\u001b[1;32m    128\u001b[0m                     \u001b[38;5;124m\"\u001b[39m\u001b[38;5;124murlField\u001b[39m\u001b[38;5;124m\"\u001b[39m: AZURE_SEARCH_URL_COLUMN \u001b[38;5;28;01mif\u001b[39;00m AZURE_SEARCH_URL_COLUMN \u001b[38;5;28;01melse\u001b[39;00m \u001b[38;5;28;01mNone\u001b[39;00m,\n\u001b[1;32m    129\u001b[0m                     \u001b[38;5;124m\"\u001b[39m\u001b[38;5;124mfilepathField\u001b[39m\u001b[38;5;124m\"\u001b[39m: AZURE_SEARCH_FILENAME_COLUMN \u001b[38;5;28;01mif\u001b[39;00m AZURE_SEARCH_FILENAME_COLUMN \u001b[38;5;28;01melse\u001b[39;00m \u001b[38;5;28;01mNone\u001b[39;00m,\n\u001b[1;32m    130\u001b[0m                     \u001b[38;5;124m\"\u001b[39m\u001b[38;5;124mvectorFields\u001b[39m\u001b[38;5;124m\"\u001b[39m: AZURE_SEARCH_VECTOR_COLUMNS\u001b[38;5;241m.\u001b[39msplit(\u001b[38;5;124m\"\u001b[39m\u001b[38;5;124m|\u001b[39m\u001b[38;5;124m\"\u001b[39m) \u001b[38;5;28;01mif\u001b[39;00m AZURE_SEARCH_VECTOR_COLUMNS \u001b[38;5;28;01melse\u001b[39;00m []\n\u001b[1;32m    131\u001b[0m                 },\n\u001b[1;32m    132\u001b[0m                 \u001b[38;5;124m\"\u001b[39m\u001b[38;5;124minScope\u001b[39m\u001b[38;5;124m\"\u001b[39m: \u001b[38;5;28;01mTrue\u001b[39;00m \u001b[38;5;28;01mif\u001b[39;00m AZURE_SEARCH_ENABLE_IN_DOMAIN\u001b[38;5;241m.\u001b[39mlower() \u001b[38;5;241m==\u001b[39m \u001b[38;5;124m\"\u001b[39m\u001b[38;5;124mtrue\u001b[39m\u001b[38;5;124m\"\u001b[39m \u001b[38;5;28;01melse\u001b[39;00m \u001b[38;5;28;01mFalse\u001b[39;00m,\n\u001b[1;32m    133\u001b[0m                 \u001b[38;5;124m\"\u001b[39m\u001b[38;5;124mtopNDocuments\u001b[39m\u001b[38;5;124m\"\u001b[39m: AZURE_SEARCH_TOP_K,\n\u001b[1;32m    134\u001b[0m                 \u001b[38;5;124m\"\u001b[39m\u001b[38;5;124mqueryType\u001b[39m\u001b[38;5;124m\"\u001b[39m: AZURE_SEARCH_QUERY_TYPE,\n\u001b[1;32m    135\u001b[0m                 \u001b[38;5;124m\"\u001b[39m\u001b[38;5;124msemanticConfiguration\u001b[39m\u001b[38;5;124m\"\u001b[39m: AZURE_SEARCH_SEMANTIC_SEARCH_CONFIG \u001b[38;5;28;01mif\u001b[39;00m AZURE_SEARCH_SEMANTIC_SEARCH_CONFIG \u001b[38;5;28;01melse\u001b[39;00m \u001b[38;5;124m\"\u001b[39m\u001b[38;5;124m\"\u001b[39m,\n\u001b[1;32m    136\u001b[0m                 \u001b[38;5;124m\"\u001b[39m\u001b[38;5;124mroleInformation\u001b[39m\u001b[38;5;124m\"\u001b[39m: ds_role_value,\n\u001b[1;32m    137\u001b[0m                 \u001b[38;5;124m\"\u001b[39m\u001b[38;5;124mstrictness\u001b[39m\u001b[38;5;124m\"\u001b[39m: \u001b[38;5;28mint\u001b[39m(AZURE_SEARCH_STRICTNESS)\n\u001b[1;32m    138\u001b[0m             }\n\u001b[1;32m    139\u001b[0m         }\n\u001b[1;32m    140\u001b[0m     ]\n\u001b[1;32m    141\u001b[0m )\n\u001b[1;32m    143\u001b[0m \u001b[38;5;28;01mif\u001b[39;00m show_completion:\n\u001b[1;32m    144\u001b[0m     \u001b[38;5;28mprint\u001b[39m(completion)\n",
      "File \u001b[0;32m~/anaconda3/lib/python3.11/site-packages/openai/api_resources/chat_completion.py:25\u001b[0m, in \u001b[0;36mChatCompletion.create\u001b[0;34m(cls, *args, **kwargs)\u001b[0m\n\u001b[1;32m     23\u001b[0m \u001b[38;5;28;01mwhile\u001b[39;00m \u001b[38;5;28;01mTrue\u001b[39;00m:\n\u001b[1;32m     24\u001b[0m     \u001b[38;5;28;01mtry\u001b[39;00m:\n\u001b[0;32m---> 25\u001b[0m         \u001b[38;5;28;01mreturn\u001b[39;00m \u001b[38;5;28msuper\u001b[39m()\u001b[38;5;241m.\u001b[39mcreate(\u001b[38;5;241m*\u001b[39margs, \u001b[38;5;241m*\u001b[39m\u001b[38;5;241m*\u001b[39mkwargs)\n\u001b[1;32m     26\u001b[0m     \u001b[38;5;28;01mexcept\u001b[39;00m TryAgain \u001b[38;5;28;01mas\u001b[39;00m e:\n\u001b[1;32m     27\u001b[0m         \u001b[38;5;28;01mif\u001b[39;00m timeout \u001b[38;5;129;01mis\u001b[39;00m \u001b[38;5;129;01mnot\u001b[39;00m \u001b[38;5;28;01mNone\u001b[39;00m \u001b[38;5;129;01mand\u001b[39;00m time\u001b[38;5;241m.\u001b[39mtime() \u001b[38;5;241m>\u001b[39m start \u001b[38;5;241m+\u001b[39m timeout:\n",
      "File \u001b[0;32m~/anaconda3/lib/python3.11/site-packages/openai/api_resources/abstract/engine_api_resource.py:153\u001b[0m, in \u001b[0;36mEngineAPIResource.create\u001b[0;34m(cls, api_key, api_base, api_type, request_id, api_version, organization, **params)\u001b[0m\n\u001b[1;32m    127\u001b[0m \u001b[38;5;129m@classmethod\u001b[39m\n\u001b[1;32m    128\u001b[0m \u001b[38;5;28;01mdef\u001b[39;00m \u001b[38;5;21mcreate\u001b[39m(\n\u001b[1;32m    129\u001b[0m     \u001b[38;5;28mcls\u001b[39m,\n\u001b[0;32m   (...)\u001b[0m\n\u001b[1;32m    136\u001b[0m     \u001b[38;5;241m*\u001b[39m\u001b[38;5;241m*\u001b[39mparams,\n\u001b[1;32m    137\u001b[0m ):\n\u001b[1;32m    138\u001b[0m     (\n\u001b[1;32m    139\u001b[0m         deployment_id,\n\u001b[1;32m    140\u001b[0m         engine,\n\u001b[0;32m   (...)\u001b[0m\n\u001b[1;32m    150\u001b[0m         api_key, api_base, api_type, api_version, organization, \u001b[38;5;241m*\u001b[39m\u001b[38;5;241m*\u001b[39mparams\n\u001b[1;32m    151\u001b[0m     )\n\u001b[0;32m--> 153\u001b[0m     response, _, api_key \u001b[38;5;241m=\u001b[39m requestor\u001b[38;5;241m.\u001b[39mrequest(\n\u001b[1;32m    154\u001b[0m         \u001b[38;5;124m\"\u001b[39m\u001b[38;5;124mpost\u001b[39m\u001b[38;5;124m\"\u001b[39m,\n\u001b[1;32m    155\u001b[0m         url,\n\u001b[1;32m    156\u001b[0m         params\u001b[38;5;241m=\u001b[39mparams,\n\u001b[1;32m    157\u001b[0m         headers\u001b[38;5;241m=\u001b[39mheaders,\n\u001b[1;32m    158\u001b[0m         stream\u001b[38;5;241m=\u001b[39mstream,\n\u001b[1;32m    159\u001b[0m         request_id\u001b[38;5;241m=\u001b[39mrequest_id,\n\u001b[1;32m    160\u001b[0m         request_timeout\u001b[38;5;241m=\u001b[39mrequest_timeout,\n\u001b[1;32m    161\u001b[0m     )\n\u001b[1;32m    163\u001b[0m     \u001b[38;5;28;01mif\u001b[39;00m stream:\n\u001b[1;32m    164\u001b[0m         \u001b[38;5;66;03m# must be an iterator\u001b[39;00m\n\u001b[1;32m    165\u001b[0m         \u001b[38;5;28;01massert\u001b[39;00m \u001b[38;5;129;01mnot\u001b[39;00m \u001b[38;5;28misinstance\u001b[39m(response, OpenAIResponse)\n",
      "File \u001b[0;32m~/anaconda3/lib/python3.11/site-packages/openai/api_requestor.py:298\u001b[0m, in \u001b[0;36mAPIRequestor.request\u001b[0;34m(self, method, url, params, headers, files, stream, request_id, request_timeout)\u001b[0m\n\u001b[1;32m    277\u001b[0m \u001b[38;5;28;01mdef\u001b[39;00m \u001b[38;5;21mrequest\u001b[39m(\n\u001b[1;32m    278\u001b[0m     \u001b[38;5;28mself\u001b[39m,\n\u001b[1;32m    279\u001b[0m     method,\n\u001b[0;32m   (...)\u001b[0m\n\u001b[1;32m    286\u001b[0m     request_timeout: Optional[Union[\u001b[38;5;28mfloat\u001b[39m, Tuple[\u001b[38;5;28mfloat\u001b[39m, \u001b[38;5;28mfloat\u001b[39m]]] \u001b[38;5;241m=\u001b[39m \u001b[38;5;28;01mNone\u001b[39;00m,\n\u001b[1;32m    287\u001b[0m ) \u001b[38;5;241m-\u001b[39m\u001b[38;5;241m>\u001b[39m Tuple[Union[OpenAIResponse, Iterator[OpenAIResponse]], \u001b[38;5;28mbool\u001b[39m, \u001b[38;5;28mstr\u001b[39m]:\n\u001b[1;32m    288\u001b[0m     result \u001b[38;5;241m=\u001b[39m \u001b[38;5;28mself\u001b[39m\u001b[38;5;241m.\u001b[39mrequest_raw(\n\u001b[1;32m    289\u001b[0m         method\u001b[38;5;241m.\u001b[39mlower(),\n\u001b[1;32m    290\u001b[0m         url,\n\u001b[0;32m   (...)\u001b[0m\n\u001b[1;32m    296\u001b[0m         request_timeout\u001b[38;5;241m=\u001b[39mrequest_timeout,\n\u001b[1;32m    297\u001b[0m     )\n\u001b[0;32m--> 298\u001b[0m     resp, got_stream \u001b[38;5;241m=\u001b[39m \u001b[38;5;28mself\u001b[39m\u001b[38;5;241m.\u001b[39m_interpret_response(result, stream)\n\u001b[1;32m    299\u001b[0m     \u001b[38;5;28;01mreturn\u001b[39;00m resp, got_stream, \u001b[38;5;28mself\u001b[39m\u001b[38;5;241m.\u001b[39mapi_key\n",
      "File \u001b[0;32m~/anaconda3/lib/python3.11/site-packages/openai/api_requestor.py:700\u001b[0m, in \u001b[0;36mAPIRequestor._interpret_response\u001b[0;34m(self, result, stream)\u001b[0m\n\u001b[1;32m    692\u001b[0m     \u001b[38;5;28;01mreturn\u001b[39;00m (\n\u001b[1;32m    693\u001b[0m         \u001b[38;5;28mself\u001b[39m\u001b[38;5;241m.\u001b[39m_interpret_response_line(\n\u001b[1;32m    694\u001b[0m             line, result\u001b[38;5;241m.\u001b[39mstatus_code, result\u001b[38;5;241m.\u001b[39mheaders, stream\u001b[38;5;241m=\u001b[39m\u001b[38;5;28;01mTrue\u001b[39;00m\n\u001b[1;32m    695\u001b[0m         )\n\u001b[1;32m    696\u001b[0m         \u001b[38;5;28;01mfor\u001b[39;00m line \u001b[38;5;129;01min\u001b[39;00m parse_stream(result\u001b[38;5;241m.\u001b[39miter_lines())\n\u001b[1;32m    697\u001b[0m     ), \u001b[38;5;28;01mTrue\u001b[39;00m\n\u001b[1;32m    698\u001b[0m \u001b[38;5;28;01melse\u001b[39;00m:\n\u001b[1;32m    699\u001b[0m     \u001b[38;5;28;01mreturn\u001b[39;00m (\n\u001b[0;32m--> 700\u001b[0m         \u001b[38;5;28mself\u001b[39m\u001b[38;5;241m.\u001b[39m_interpret_response_line(\n\u001b[1;32m    701\u001b[0m             result\u001b[38;5;241m.\u001b[39mcontent\u001b[38;5;241m.\u001b[39mdecode(\u001b[38;5;124m\"\u001b[39m\u001b[38;5;124mutf-8\u001b[39m\u001b[38;5;124m\"\u001b[39m),\n\u001b[1;32m    702\u001b[0m             result\u001b[38;5;241m.\u001b[39mstatus_code,\n\u001b[1;32m    703\u001b[0m             result\u001b[38;5;241m.\u001b[39mheaders,\n\u001b[1;32m    704\u001b[0m             stream\u001b[38;5;241m=\u001b[39m\u001b[38;5;28;01mFalse\u001b[39;00m,\n\u001b[1;32m    705\u001b[0m         ),\n\u001b[1;32m    706\u001b[0m         \u001b[38;5;28;01mFalse\u001b[39;00m,\n\u001b[1;32m    707\u001b[0m     )\n",
      "File \u001b[0;32m~/anaconda3/lib/python3.11/site-packages/openai/api_requestor.py:765\u001b[0m, in \u001b[0;36mAPIRequestor._interpret_response_line\u001b[0;34m(self, rbody, rcode, rheaders, stream)\u001b[0m\n\u001b[1;32m    763\u001b[0m stream_error \u001b[38;5;241m=\u001b[39m stream \u001b[38;5;129;01mand\u001b[39;00m \u001b[38;5;124m\"\u001b[39m\u001b[38;5;124merror\u001b[39m\u001b[38;5;124m\"\u001b[39m \u001b[38;5;129;01min\u001b[39;00m resp\u001b[38;5;241m.\u001b[39mdata\n\u001b[1;32m    764\u001b[0m \u001b[38;5;28;01mif\u001b[39;00m stream_error \u001b[38;5;129;01mor\u001b[39;00m \u001b[38;5;129;01mnot\u001b[39;00m \u001b[38;5;241m200\u001b[39m \u001b[38;5;241m<\u001b[39m\u001b[38;5;241m=\u001b[39m rcode \u001b[38;5;241m<\u001b[39m \u001b[38;5;241m300\u001b[39m:\n\u001b[0;32m--> 765\u001b[0m     \u001b[38;5;28;01mraise\u001b[39;00m \u001b[38;5;28mself\u001b[39m\u001b[38;5;241m.\u001b[39mhandle_error_response(\n\u001b[1;32m    766\u001b[0m         rbody, rcode, resp\u001b[38;5;241m.\u001b[39mdata, rheaders, stream_error\u001b[38;5;241m=\u001b[39mstream_error\n\u001b[1;32m    767\u001b[0m     )\n\u001b[1;32m    768\u001b[0m \u001b[38;5;28;01mreturn\u001b[39;00m resp\n",
      "\u001b[0;31mInvalidRequestError\u001b[0m: An error occurred when calling Azure Cognitive Search: Azure Search Error: 503, message='Server responded with status 503. Error message: {\"error\":{\"code\":\"\",\"message\":\"Failed to execute semantic request because the request rate has caused your service to exceed the limits of its provisioned capacity. Reduce the rate of requests, or adjust the number of replicas/partitions. See http://aka.ms/azure-search-throttling for more information. \"}}', url=URL('https://gptkb-moww6huavlklg.search.windows.net/indexes/people-culture-faq/docs/search?api-version=2021-04-30-Preview')\nSemantic search with Azure Search failed with configuration=default.\nPlease ensure semantic search is enabled and you have semantic search quota available on your instance.\n"
     ]
    }
   ],
   "source": [
    "user_question=f\"\"\"\\\n",
    "What are all the specific benefits I have access to by working for the company?\"\"\"\n",
    "user_name=\"Santiago Vilchis\"\n",
    "user_seniority=\"2 años\"\n",
    "user_job=\"Desarrollador\"\n",
    "user_location=\"Argentina\"\n",
    "\n",
    "delimiter=\"####\"\n",
    "no_user_data_prefix=\"Dear Baufesiano, in order to answer your question I need the following information\"\n",
    "\n",
    "user_message = f\"\"\"\\\n",
    "Follow the steps below to answer the question delimited by 4 hashtags: {delimiter}. \\\n",
    "Step 1 : If you do not have the collaborator's data, your answer should follow the following format: {no_user_data_prefix} \\\n",
    "list the missing data and nothing more. \\\n",
    "Step 2 : If you have the collaborator's data, use the collaborator's name in your answer. \\\n",
    "Step 3 : Use the following recommendations for your response : \\\n",
    "Recommendation 1 : Use the collaborator's data to answer the question. \\\n",
    "Recommendation 2 : Only show the results that have to do with the country of the unit and the seniority in Baufest. \\\n",
    "Recommendation 3 : If the answer is too broad, filter the answer by the country of the unit and the seniority in Baufest. \\\n",
    "Recommendation 4 : If the question is not clear, ask for more detail to answer. \\\n",
    "\\\n",
    "\n",
    "Collaborator's data: \\\n",
    "Name : {user_name}. \\\n",
    "Seniority in Baufest : {user_seniority}. \\\n",
    "Position : {user_job}. \\\n",
    "Country of unit : {user_location}. \\\n",
    "\\\n",
    "{delimiter}{user_question}{delimiter} \\\n",
    "\"\"\"\n",
    "messages =  [  \n",
    "{'role':'user', \n",
    " 'content': f\"{user_message}\"},  \n",
    "] \n",
    "response = commons.get_completion_from_messages(messages)\n",
    "print(response)"
   ]
  },
  {
   "cell_type": "markdown",
   "id": "6cb7953d",
   "metadata": {},
   "source": [
    "### Prompt original usando el rol _system_ para proporcionar reglas al modelo"
   ]
  },
  {
   "cell_type": "markdown",
   "id": "f757abde",
   "metadata": {},
   "source": [
    "#### Prueba sin datos"
   ]
  },
  {
   "cell_type": "code",
   "execution_count": 9,
   "id": "4bf0bcfd",
   "metadata": {},
   "outputs": [
    {
     "name": "stdout",
     "output_type": "stream",
     "text": [
      "Data source role information : Eres un asistente de recursos humanos. Tu respuesta debe ser en español y debe siempre empezar por \n",
      "estimado colaborador\n",
      "messages : [\n",
      "    {\n",
      "        \"role\": \"system\",\n",
      "        \"content\": \"Follow the steps below to answer the question delimited by 4 hashtags:  ####. Step 1 : If you do not have the collaborator's data, your answer should follow the following format : Dear Baufesiano, in order to answer your question I need the following information list the missing data and nothing more. Step 2 : If you have the collaborator's data, use the collaborator's name in your answer. Step 3 : Use the following recommendations for your response : Recommendation 1 : Use the collaborator's data to filter the answer. Recommendation 2 : Only show the results that have to do with the country of the unit and the seniority in Baufest. Recommendation 3 : If the answer is too broad, filter the answer by the country of the unit and the seniority in Baufest. Recommendation 4 : If the question is not clear, ask for more detail to answer. \\nDatos del colaborador: Nombre : . Antiguedad en Baufest : . Puesto : . Pais de la unidad : . \"\n",
      "    },\n",
      "    {\n",
      "        \"role\": \"user\",\n",
      "        \"content\": \"####\\u00bfDo I list the Baufest benefits I am entitled to as an employee?####\"\n",
      "    }\n",
      "]\n",
      "Estimado colaborador, si deseas conocer los beneficios a los que tienes derecho como empleado de Baufest, te recomendamos que consultes la sección correspondiente en la intranet de la empresa. Allí encontrarás información detallada sobre los distintos beneficios que ofrece la compañía, como BAU DOLLAR, BAU LUNCH, BAU HOME, BAU HEALTH, BAU NET y ANTI TRÁFICO, entre otros [doc1][doc2]. Si necesitas más información sobre algún beneficio en particular, no dudes en contactar al área de Recursos Humanos. \n",
      "\n",
      ": {\"title\": \"BAU DOLLAR\"}\n",
      "[doc2]: {\"title\": \"BAU DOLLAR\"}\n",
      "[doc3]: {\"title\": \"BAU DOLLAR\"}\n"
     ]
    }
   ],
   "source": [
    "user_question=f\"\"\"\\\n",
    "¿Do I list the Baufest benefits I am entitled to as an employee?\"\"\"\n",
    "user_name=\"\"\n",
    "user_seniority=\"\"\n",
    "user_job=\"\"\n",
    "user_location=\"\"\n",
    "\n",
    "delimiter=\"####\"\n",
    "no_user_data_prefix=\"Dear Baufesiano, in order to answer your question I need the following information\"\n",
    "\n",
    "system_message = f\"\"\"\\\n",
    "Follow the steps below to answer the question delimited by 4 hashtags:  {delimiter}. \\\n",
    "Step 1 : If you do not have the collaborator's data, your answer should follow the following format : {no_user_data_prefix} \\\n",
    "list the missing data and nothing more. \\\n",
    "Step 2 : If you have the collaborator's data, use the collaborator's name in your answer. \\\n",
    "Step 3 : Use the following recommendations for your response : \\\n",
    "Recommendation 1 : Use the collaborator's data to filter the answer. \\\n",
    "Recommendation 2 : Only show the results that have to do with the country of the unit and the seniority in Baufest. \\\n",
    "Recommendation 3 : If the answer is too broad, filter the answer by the country of the unit and the seniority in Baufest. \\\n",
    "Recommendation 4 : If the question is not clear, ask for more detail to answer. \\\n",
    "\\\n",
    "\n",
    "Datos del colaborador: \\\n",
    "Nombre : {user_name}. \\\n",
    "Antiguedad en Baufest : {user_seniority}. \\\n",
    "Puesto : {user_job}. \\\n",
    "Pais de la unidad : {user_location}. \\\n",
    "\"\"\"\n",
    "messages =  [  \n",
    "{'role':'system', \n",
    " 'content': f\"{system_message}\"},  \n",
    "{'role':'user', \n",
    " 'content': f\"{delimiter}{user_question}{delimiter}\"},  \n",
    "] \n",
    "response = commons.get_completion_from_messages(messages)\n",
    "print(response)"
   ]
  },
  {
   "cell_type": "markdown",
   "id": "83373370",
   "metadata": {},
   "source": [
    "#### Prueba con datos"
   ]
  },
  {
   "cell_type": "code",
   "execution_count": 10,
   "id": "0fe99cda",
   "metadata": {},
   "outputs": [
    {
     "name": "stdout",
     "output_type": "stream",
     "text": [
      "Data source role information : Eres un asistente de recursos humanos. Tu respuesta debe ser en español y debe siempre empezar por \n",
      "estimado colaborador\n",
      "messages : [\n",
      "    {\n",
      "        \"role\": \"system\",\n",
      "        \"content\": \"Follow the steps below to answer the question delimited by 4 hashtags:  ####. Step 1 : If you do not have the collaborator's data, your answer should follow the following format : Dear Baufesiano, in order to answer your question I need the following information list the missing data and nothing more. Step 2 : If you have the collaborator's data, use the collaborator's name in your answer. Step 3 : Use the following recommendations for your response : Recommendation 1 : Use the collaborator's data to filter the answer. Recommendation 2 : Only show the results that have to do with the country of the unit and the seniority in Baufest. Recommendation 3 : If the answer is too broad, filter the answer by the country of the unit and the seniority in Baufest. Recommendation 4 : If the question is not clear, ask for more detail to answer. \\nDatos del colaborador: Nombre : Santiago Vilchis. Antiguedad en Baufest : 2 a\\u00f1os. Puesto : Desarrollador. Pais de la unidad : Argentina. \"\n",
      "    },\n",
      "    {\n",
      "        \"role\": \"user\",\n",
      "        \"content\": \"####\\u00bfDo I list the Baufest benefits I am entitled to as an employee?####\"\n",
      "    }\n",
      "]\n",
      "Estimado colaborador, si deseas conocer los beneficios a los que tienes derecho como empleado de Baufest, te recomendamos que consultes la sección correspondiente en la intranet de la empresa. Allí encontrarás información detallada sobre los distintos beneficios que ofrece la compañía, como BAU DOLLAR, BAU LUNCH, BAU HOME, BAU HEALTH, BAU NET y ANTI TRÁFICO, entre otros [doc1][doc2]. Si tienes alguna duda específica sobre alguno de estos beneficios, no dudes en contactar al equipo de Recursos Humanos para obtener más información.\n"
     ]
    }
   ],
   "source": [
    "user_question=f\"\"\"\\\n",
    "¿Do I list the Baufest benefits I am entitled to as an employee?\"\"\"\n",
    "user_name=\"Santiago Vilchis\"\n",
    "user_seniority=\"2 años\"\n",
    "user_job=\"Desarrollador\"\n",
    "user_location=\"Argentina\"\n",
    "\n",
    "delimiter=\"####\"\n",
    "no_user_data_prefix=\"Dear Baufesiano, in order to answer your question I need the following information\"\n",
    "\n",
    "system_message = f\"\"\"\\\n",
    "Follow the steps below to answer the question delimited by 4 hashtags:  {delimiter}. \\\n",
    "Step 1 : If you do not have the collaborator's data, your answer should follow the following format : {no_user_data_prefix} \\\n",
    "list the missing data and nothing more. \\\n",
    "Step 2 : If you have the collaborator's data, use the collaborator's name in your answer. \\\n",
    "Step 3 : Use the following recommendations for your response : \\\n",
    "Recommendation 1 : Use the collaborator's data to filter the answer. \\\n",
    "Recommendation 2 : Only show the results that have to do with the country of the unit and the seniority in Baufest. \\\n",
    "Recommendation 3 : If the answer is too broad, filter the answer by the country of the unit and the seniority in Baufest. \\\n",
    "Recommendation 4 : If the question is not clear, ask for more detail to answer. \\\n",
    "\\\n",
    "\n",
    "Datos del colaborador: \\\n",
    "Nombre : {user_name}. \\\n",
    "Antiguedad en Baufest : {user_seniority}. \\\n",
    "Puesto : {user_job}. \\\n",
    "Pais de la unidad : {user_location}. \\\n",
    "\"\"\"\n",
    "messages =  [  \n",
    "{'role':'system', \n",
    " 'content': f\"{system_message}\"},  \n",
    "{'role':'user', \n",
    " 'content': f\"{delimiter}{user_question}{delimiter}\"},  \n",
    "] \n",
    "response = commons.get_completion_from_messages(messages)\n",
    "print(response)"
   ]
  },
  {
   "cell_type": "markdown",
   "id": "21a9fcee",
   "metadata": {},
   "source": [
    "Como se puede ver en los resultados el __rol system__ no tiene impacto alguno en la respuesta"
   ]
  },
  {
   "cell_type": "markdown",
   "id": "30d6d90c",
   "metadata": {},
   "source": [
    "### Prompt original usando el rol _assistant_ para proporcionar reglas al modelo"
   ]
  },
  {
   "cell_type": "markdown",
   "id": "18cb7013",
   "metadata": {},
   "source": [
    "#### Prueba sin datos"
   ]
  },
  {
   "cell_type": "code",
   "execution_count": 7,
   "id": "8cd665e4",
   "metadata": {},
   "outputs": [
    {
     "name": "stdout",
     "output_type": "stream",
     "text": [
      "Data source role information : Eres un asistente de recursos humanos. Tu respuesta debe ser en español y debe siempre empezar por \n",
      "estimado colaborador\n",
      "messages : [\n",
      "    {\n",
      "        \"role\": \"assistant\",\n",
      "        \"content\": \"Follow the steps below to answer the question delimited by 4 hashtags:  ####. Step 1 : If you do not have the collaborator's data, your answer should follow the following format : Dear Baufesiano, in order to answer your question I need the following information list the missing data and nothing more. Step 2 : If you have the collaborator's data, use the collaborator's name in your answer. Preferably from dear collaborator. Step 3 : Use the following recommendations for your response : Recommendation 1 : Use the collaborator's data to filter the answer. Recommendation 2 : Only show the results that have to do with the country of the unit and the seniority in Baufest. Recommendation 3 : If the answer is too broad, filter the answer by the country of the unit and the seniority in Baufest. Recommendation 4 : If the question is not clear, ask for more detail to answer. \\nDatos del colaborador: Nombre : . Antiguedad en Baufest : . Puesto : . Pais de la unidad : . \"\n",
      "    },\n",
      "    {\n",
      "        \"role\": \"user\",\n",
      "        \"content\": \"####\\u00bfDo I list the Baufest benefits I am entitled to as an employee?####\"\n",
      "    }\n",
      "]\n",
      "Estimado colaborador, si deseas conocer los beneficios a los que tienes derecho como empleado de Baufest, te recomendamos que consultes la sección correspondiente en la intranet de la empresa. Allí encontrarás información detallada sobre los distintos beneficios que ofrece la compañía, como BAU DOLLAR, BAU LUNCH, BAU NET, BAU HEALTH, entre otros [doc1][doc2]. Si tienes alguna duda específica sobre alguno de estos beneficios, no dudes en contactar al equipo de Recursos Humanos para obtener más información.\n"
     ]
    }
   ],
   "source": [
    "user_question=f\"\"\"\\\n",
    "¿Do I list the Baufest benefits I am entitled to as an employee?\"\"\"\n",
    "user_name=\"\"\n",
    "user_seniority=\"\"\n",
    "user_job=\"\"\n",
    "user_location=\"\"\n",
    "\n",
    "delimiter=\"####\"\n",
    "no_user_data_prefix=\"Dear Baufesiano, in order to answer your question I need the following information\"\n",
    "\n",
    "assistant_message = f\"\"\"\\\n",
    "Follow the steps below to answer the question delimited by 4 hashtags:  {delimiter}. \\\n",
    "Step 1 : If you do not have the collaborator's data, your answer should follow the following format : {no_user_data_prefix} \\\n",
    "list the missing data and nothing more. \\\n",
    "Step 2 : If you have the collaborator's data, use the collaborator's name in your answer. \\\n",
    "Step 3 : Use the following recommendations for your response : \\\n",
    "Recommendation 1 : Use the collaborator's data to filter the answer. \\\n",
    "Recommendation 2 : Only show the results that have to do with the country of the unit and the seniority in Baufest. \\\n",
    "Recommendation 3 : If the answer is too broad, filter the answer by the country of the unit and the seniority in Baufest. \\\n",
    "Recommendation 4 : If the question is not clear, ask for more detail to answer. \\\n",
    "\\\n",
    "\n",
    "Datos del colaborador: \\\n",
    "Nombre : {user_name}. \\\n",
    "Antiguedad en Baufest : {user_seniority}. \\\n",
    "Puesto : {user_job}. \\\n",
    "Pais de la unidad : {user_location}. \\\n",
    "\"\"\"\n",
    "messages =  [  \n",
    "{'role':'assistant', \n",
    " 'content': f\"{assistant_message}\"},  \n",
    "{'role':'user', \n",
    " 'content': f\"{delimiter}{user_question}{delimiter}\"},  \n",
    "] \n",
    "response = commons.get_completion_from_messages(messages)\n",
    "print(response)"
   ]
  },
  {
   "cell_type": "markdown",
   "id": "41ab5092",
   "metadata": {},
   "source": [
    "#### Prueba con datos"
   ]
  },
  {
   "cell_type": "code",
   "execution_count": 8,
   "id": "d3906712",
   "metadata": {},
   "outputs": [
    {
     "name": "stdout",
     "output_type": "stream",
     "text": [
      "Data source role information : Eres un asistente de recursos humanos. Tu respuesta debe ser en español y debe siempre empezar por \n",
      "estimado colaborador\n",
      "messages : [\n",
      "    {\n",
      "        \"role\": \"assistant\",\n",
      "        \"content\": \"Follow the steps below to answer the question delimited by 4 hashtags:  ####. Step 1 : If you do not have the collaborator's data, your answer should follow the following format : Dear Baufesiano, in order to answer your question I need the following information list the missing data and nothing more. Step 2 : If you have the collaborator's data, use the collaborator's name in your answer. Preferably from dear collaborator. Step 3 : Use the following recommendations for your response : Recommendation 1 : Use the collaborator's data to filter the answer. Recommendation 2 : Only show the results that have to do with the country of the unit and the seniority in Baufest. Recommendation 3 : If the answer is too broad, filter the answer by the country of the unit and the seniority in Baufest. Recommendation 4 : If the question is not clear, ask for more detail to answer. \\nDatos del colaborador: Nombre : Santiago Vilchis. Antiguedad en Baufest : 2 a\\u00f1os. Puesto : Desarrollador. Pais de la unidad : Argentina. \"\n",
      "    },\n",
      "    {\n",
      "        \"role\": \"user\",\n",
      "        \"content\": \"####\\u00bfDo I list the Baufest benefits I am entitled to as an employee?####\"\n",
      "    }\n",
      "]\n",
      "Estimado colaborador, si deseas conocer los beneficios a los que tienes derecho como empleado de Baufest, te recomendamos que consultes la sección correspondiente en la intranet de la empresa. Allí encontrarás información detallada sobre los distintos beneficios que ofrece la compañía, como BAU DOLLAR, BAU LUNCH, BAU NET, BAU HEALTH, entre otros [doc1][doc2]. Si tienes alguna duda específica sobre alguno de estos beneficios, no dudes en contactar al equipo de Recursos Humanos para obtener más información.\n"
     ]
    }
   ],
   "source": [
    "user_question=f\"\"\"\\\n",
    "¿Do I list the Baufest benefits I am entitled to as an employee?\"\"\"\n",
    "user_name=\"Santiago Vilchis\"\n",
    "user_seniority=\"2 años\"\n",
    "user_job=\"Desarrollador\"\n",
    "user_location=\"Argentina\"\n",
    "\n",
    "delimiter=\"####\"\n",
    "no_user_data_prefix=\"Dear Baufesiano, in order to answer your question I need the following information\"\n",
    "\n",
    "assistant_message = f\"\"\"\\\n",
    "Follow the steps below to answer the question delimited by 4 hashtags:  {delimiter}. \\\n",
    "Step 1 : If you do not have the collaborator's data, your answer should follow the following format : {no_user_data_prefix} \\\n",
    "list the missing data and nothing more. \\\n",
    "Step 2 : If you have the collaborator's data, use the collaborator's name in your answer. \\\n",
    "Step 3 : Use the following recommendations for your response : \\\n",
    "Recommendation 1 : Use the collaborator's data to filter the answer. \\\n",
    "Recommendation 2 : Only show the results that have to do with the country of the unit and the seniority in Baufest. \\\n",
    "Recommendation 3 : If the answer is too broad, filter the answer by the country of the unit and the seniority in Baufest. \\\n",
    "Recommendation 4 : If the question is not clear, ask for more detail to answer. \\\n",
    "\\\n",
    "\n",
    "Datos del colaborador: \\\n",
    "Nombre : {user_name}. \\\n",
    "Antiguedad en Baufest : {user_seniority}. \\\n",
    "Puesto : {user_job}. \\\n",
    "Pais de la unidad : {user_location}. \\\n",
    "\"\"\"\n",
    "messages =  [  \n",
    "{'role':'assistant', \n",
    " 'content': f\"{assistant_message}\"},  \n",
    "{'role':'user', \n",
    " 'content': f\"{delimiter}{user_question}{delimiter}\"},  \n",
    "] \n",
    "response = commons.get_completion_from_messages(messages)\n",
    "print(response)"
   ]
  },
  {
   "cell_type": "code",
   "execution_count": 20,
   "id": "0e628af6",
   "metadata": {},
   "outputs": [
    {
     "name": "stdout",
     "output_type": "stream",
     "text": [
      "Data source role information : Eres un asistente de recursos humanos. Tu respuesta debe ser en español y debe siempre empezar por \n",
      "estimado colaborador\n",
      "messages : [\n",
      "    {\n",
      "        \"role\": \"user\",\n",
      "        \"content\": \"Follow the steps below to answer the question delimited by 4 hashtags: ####. Step 1 : If you do not have the collaborator's data, your answer should follow the following format: Dear Baufesiano, in order to answer your question I need the following information list the missing data and nothing more. Step 2 : If you have the collaborator's data, use the collaborator's name in your answer. Step 3 : Use the following recommendations for your response : Recommendation 1 : Use the collaborator's data to filter the answer. Recommendation 2 : Only show the results that have to do with the country of the unit and the seniority in Baufest. Recommendation 3 : If the answer is too broad, filter the answer by the country of the unit and the seniority in Baufest. Recommendation 4 : If the question is not clear, ask for more detail to answer. \\nDatos del colaborador: Nombre : Santiago Vilchis. Antiguedad en Baufest : 2 a\\u00f1os. Puesto : Desarrollador. Pais de la unidad : Argentina. ####\\u00bfDo I list the Baufest benefits I am entitled to as an employee?#### \"\n",
      "    }\n",
      "]\n",
      "Estimado Santiago Vilchis, para poder responder a su pregunta, necesito saber si está haciendo referencia a los beneficios de Baufest en Argentina o en general. Además, ¿podría proporcionar más detalles sobre el tipo de beneficios que le gustaría conocer? Esto me ayudará a proporcionarle una respuesta más precisa y relevante. Quedo atento a su respuesta.\n"
     ]
    }
   ],
   "source": [
    "user_question=f\"\"\"\\\n",
    "¿Do I list the Baufest benefits I am entitled to as an employee?\"\"\"\n",
    "user_name=\"Santiago Vilchis\"\n",
    "user_seniority=\"2 años\"\n",
    "user_job=\"Desarrollador\"\n",
    "user_location=\"Argentina\"\n",
    "\n",
    "delimiter=\"####\"\n",
    "no_user_data_prefix=\"Dear Baufesiano, in order to answer your question I need the following information\"\n",
    "\n",
    "user_message = f\"\"\"\\\n",
    "Follow the steps below to answer the question delimited by 4 hashtags: {delimiter}. \\\n",
    "Step 1 : If you do not have the collaborator's data, your answer should follow the following format: {no_user_data_prefix} \\\n",
    "list the missing data and nothing more. \\\n",
    "Step 2 : If you have the collaborator's data, use the collaborator's name in your answer. \\\n",
    "Step 3 : Use the following recommendations for your response : \\\n",
    "Recommendation 1 : Use the collaborator's data to filter the answer. \\\n",
    "Recommendation 2 : Only show the results that have to do with the country of the unit and the seniority in Baufest. \\\n",
    "Recommendation 3 : If the answer is too broad, filter the answer by the country of the unit and the seniority in Baufest. \\\n",
    "Recommendation 4 : If the question is not clear, ask for more detail to answer. \\\n",
    "\\\n",
    "\n",
    "Datos del colaborador: \\\n",
    "Nombre : {user_name}. \\\n",
    "Antiguedad en Baufest : {user_seniority}. \\\n",
    "Puesto : {user_job}. \\\n",
    "Pais de la unidad : {user_location}. \\\n",
    "\\\n",
    "{delimiter}{user_question}{delimiter} \\\n",
    "\"\"\"\n",
    "messages =  [  \n",
    "{'role':'user', \n",
    " 'content': f\"{user_message}\"},  \n",
    "] \n",
    "response = commons.get_completion_from_messages(messages)\n",
    "print(response)"
   ]
  },
  {
   "cell_type": "code",
   "execution_count": null,
   "id": "d77f057b",
   "metadata": {},
   "outputs": [],
   "source": []
  },
  {
   "cell_type": "code",
   "execution_count": null,
   "id": "1129734a",
   "metadata": {},
   "outputs": [],
   "source": []
  }
 ],
 "metadata": {
  "kernelspec": {
   "display_name": "Python 3 (ipykernel)",
   "language": "python",
   "name": "python3"
  },
  "language_info": {
   "codemirror_mode": {
    "name": "ipython",
    "version": 3
   },
   "file_extension": ".py",
   "mimetype": "text/x-python",
   "name": "python",
   "nbconvert_exporter": "python",
   "pygments_lexer": "ipython3",
   "version": "3.11.5"
  }
 },
 "nbformat": 4,
 "nbformat_minor": 5
}
